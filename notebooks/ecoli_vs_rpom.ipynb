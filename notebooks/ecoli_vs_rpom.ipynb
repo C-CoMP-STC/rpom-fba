{
 "cells": [
  {
   "cell_type": "code",
   "execution_count": 30,
   "metadata": {},
   "outputs": [],
   "source": [
    "import sys\n",
    "if \"..\" not in sys.path:\n",
    "    sys.path.insert(0, \"..\")"
   ]
  },
  {
   "cell_type": "code",
   "execution_count": 31,
   "metadata": {},
   "outputs": [],
   "source": [
    "import pandas as pd\n",
    "import numpy as np\n",
    "import matplotlib\n",
    "import matplotlib.pyplot as plt\n",
    "import networkx as nx\n",
    "import cobra\n",
    "from molmass import Formula\n",
    "from cobra.io import read_sbml_model\n",
    "from experiments.fast_dFBA import setup_drawdown, MichaelisMentenBounds, dFBA\n",
    "from utils.cobra_utils import get_or_create_exchange\n",
    "from utils.utils import pp\n",
    "from parameters.drawdown import *\n",
    "from plotting.diagnostic import uptakes_and_secretions, plot_pathway, plot_metabolite_fluxes"
   ]
  },
  {
   "cell_type": "code",
   "execution_count": 32,
   "metadata": {},
   "outputs": [
    {
     "name": "stdout",
     "output_type": "stream",
     "text": [
      "Scaling...\n",
      " A: min|aij| =  1.000e+00  max|aij| =  1.000e+00  ratio =  1.000e+00\n",
      "Problem data seem to be well scaled\n"
     ]
    }
   ],
   "source": [
    "MODEL_FILE = \"../model/Rpom_05.xml\"\n",
    "BIOMASS_ID = \"RPOM_provisional_biomass\"\n",
    "DATA_FILE = \"../data/clean/CUE/cue_data.csv\"\n",
    "\n",
    "# Load data\n",
    "data = pd.read_csv(DATA_FILE)\n",
    "\n",
    "# Load and set up model\n",
    "model = read_sbml_model(MODEL_FILE)\n",
    "setup_drawdown(model)\n",
    "\n",
    "# Set up Michaelis-Menten medium\n",
    "ex_glc = model.reactions.get_by_id(\"EX_glc\")\n",
    "ex_ace = get_or_create_exchange(model, \"ACET[e]\")\n",
    "\n",
    "# Get V_maxes\n",
    "V_max_glc = 10 * abs(float(ex_glc._annotation[\"Experimental rate\"]))\n",
    "V_max_ace = 10 * abs(float(ex_ace._annotation[\"Experimental rate\"]))\n",
    "\n",
    "dynamic_medium = {\n",
    "    ex_glc: MichaelisMentenBounds(\"Glucose[e]\", V_max_glc, K_M.to(\"mM\").magnitude),\n",
    "    ex_ace: MichaelisMentenBounds(\n",
    "        \"ACET[e]\", V_max_ace, K_M.to(\"mM\").magnitude)\n",
    "}\n",
    "\n",
    "# Initial state\n",
    "initial_conditions = data[[\"Initial_mM_Glucose\",\n",
    "                            \"Initial_mM_Acetate\"]].drop_duplicates().values"
   ]
  },
  {
   "cell_type": "code",
   "execution_count": 33,
   "metadata": {},
   "outputs": [
    {
     "data": {
      "text/plain": [
       "array([ 0.00069602, -0.00720359,  0.        ])"
      ]
     },
     "execution_count": 33,
     "metadata": {},
     "output_type": "execute_result"
    }
   ],
   "source": [
    "initial_glucose, initial_acetate = initial_conditions[3, :]\n",
    "\n",
    "initial_biomass = (data[(data[\"Type\"] == \"counts\") &\n",
    "                        (data[\"Time (h)\"] == 0) &\n",
    "                        (data[\"Initial_mM_Glucose\"] == initial_glucose) &\n",
    "                        (data[\"Initial_mM_Acetate\"] == initial_acetate)\n",
    "                        ][\"Value\"].mean() * (1/u.mL) * MASS_PER_CELL).to(\"g/L\").magnitude\n",
    "tmax = (data[(data[\"Type\"] == \"counts\") & (data[\"Initial_mM_Glucose\"] == initial_glucose) & (\n",
    "    data[\"Initial_mM_Acetate\"] == initial_acetate)][\"Time (h)\"].max())\n",
    "\n",
    "substrates = {\n",
    "    \"Glucose[e]\" : initial_glucose,\n",
    "    \"ACET[e]\": initial_acetate\n",
    "}\n",
    "\n",
    "with model:\n",
    "    for exchange, bounds in dynamic_medium.items():\n",
    "        bounds.bound(exchange, substrates[bounds.substrate_id])\n",
    "\n",
    "    # Using lexicographic optimization,\n",
    "    # first optimize for biomass, then for the exchange fluxes\n",
    "    # (holding optimal biomass as a constraint),\n",
    "    # thus guaranteeing a unique optimal set of exchange fluxes.\n",
    "    lex_constraints = cobra.util.add_lexicographic_constraints(\n",
    "        model, [BIOMASS_ID, \"EX_glc\", ex_ace.id], ['max', \"max\", \"max\"])\n",
    "    fluxes = lex_constraints.values\n",
    "\n",
    "fluxes *= initial_biomass\n",
    "fluxes"
   ]
  },
  {
   "cell_type": "code",
   "execution_count": 34,
   "metadata": {},
   "outputs": [],
   "source": [
    "ECOLI_MODEL_FILE = \"../model/ecoli.xml\"\n",
    "ecoli = read_sbml_model(ECOLI_MODEL_FILE)"
   ]
  },
  {
   "cell_type": "code",
   "execution_count": 35,
   "metadata": {},
   "outputs": [
    {
     "data": {
      "text/plain": [
       "Counter({'[c]': 1227, '[p]': 1257, '[e]': 1197})"
      ]
     },
     "execution_count": 35,
     "metadata": {},
     "output_type": "execute_result"
    }
   ],
   "source": [
    "# change compartments to match r pom convention\n",
    "for metabolite in ecoli.metabolites:\n",
    "    if metabolite.id[-2] == \"_\":\n",
    "        comp = metabolite.id[-1]\n",
    "        metabolite.id = metabolite.id[:-2] + f\"[{comp}]\"\n",
    "    else:\n",
    "        metabolite.id = metabolite.id.replace(\"CCO-PM-BAC-NEG\", \"[p]\")\n",
    "\n",
    "    # change underscores to dashes to match r pom convention\n",
    "    metabolite.id = metabolite.id.replace(\"_\", \"-\")\n",
    "\n",
    "from collections import Counter\n",
    "Counter(met.id[-3:] for met in ecoli.metabolites)"
   ]
  },
  {
   "cell_type": "code",
   "execution_count": 36,
   "metadata": {},
   "outputs": [
    {
     "name": "stdout",
     "output_type": "stream",
     "text": [
      "<Solution 0.063 at 0x7f7b62113fa0>\n"
     ]
    }
   ],
   "source": [
    "with ecoli:\n",
    "    glc_ex = ecoli.reactions.get_by_id(\"GLC_p_EXCHANGE_RXN\")\n",
    "    glc_ex.bounds = (0, 0.4285802668951506)\n",
    "    \n",
    "    b = ecoli.reactions.get_by_id(\"BIOMASS_EQUATION\")\n",
    "\n",
    "    bad_guys = [\"KDO2-LIPID-IVA[e]\",\n",
    "                \"MET-tRNAs[c]\",\n",
    "                \"Charged-MET-tRNAs[c]\"\n",
    "                ]\n",
    "    bad_guys = [ecoli.metabolites.get_by_id(bastard) for bastard in bad_guys]\n",
    "    \n",
    "    b.add_metabolites({bastard : -b.metabolites[bastard] for bastard in bad_guys})\n",
    "\n",
    "\n",
    "    # mets = b.metabolites\n",
    "    # charged_met_tRNA = ecoli.metabolites.get_by_id()\n",
    "    # val = mets[charged_met_tRNA]\n",
    "    # b.add_metabolites({charged_met_tRNA : -val})\n",
    "    # ecoli.add_boundary(charged_met_tRNA, type=\"sink\")\n",
    "    print(ecoli.optimize())"
   ]
  },
  {
   "cell_type": "code",
   "execution_count": 37,
   "metadata": {},
   "outputs": [
    {
     "name": "stderr",
     "output_type": "stream",
     "text": [
      "/tmp/ipykernel_5132/1164973836.py:14: SettingWithCopyWarning:\n",
      "\n",
      "\n",
      "A value is trying to be set on a copy of a slice from a DataFrame\n",
      "\n",
      "See the caveats in the documentation: https://pandas.pydata.org/pandas-docs/stable/user_guide/indexing.html#returning-a-view-versus-a-copy\n",
      "\n",
      "/tmp/ipykernel_5132/1164973836.py:15: SettingWithCopyWarning:\n",
      "\n",
      "\n",
      "A value is trying to be set on a copy of a slice from a DataFrame\n",
      "\n",
      "See the caveats in the documentation: https://pandas.pydata.org/pandas-docs/stable/user_guide/indexing.html#returning-a-view-versus-a-copy\n",
      "\n"
     ]
    },
    {
     "data": {
      "text/plain": [
       "source  has_link\n",
       "ecoli   False       2784\n",
       "rpom    False        791\n",
       "        True         897\n",
       "dtype: int64"
      ]
     },
     "execution_count": 37,
     "metadata": {},
     "output_type": "execute_result"
    }
   ],
   "source": [
    "# Create mapping for common metabolites between rpom and e coli models\n",
    "\n",
    "metabolites_data = pd.DataFrame([\n",
    "    {\"id\" : met.id,\n",
    "    \"source\" : \"rpom\",\n",
    "    \"link\": None,\n",
    "    \"rpom_reactions\" : len(met.reactions),\n",
    "    \"ecoli_reactions\" : 0}\n",
    "    for met in model.metabolites])\n",
    "\n",
    "unmatched_metabolites = []\n",
    "for metabolite in ecoli.metabolites:\n",
    "    matches = (metabolites_data[\"id\"] == metabolite.id)\n",
    "    metabolites_data[\"link\"][matches] = metabolite.id\n",
    "    metabolites_data[\"ecoli_reactions\"][matches] = len(metabolite.reactions)\n",
    "\n",
    "    if not any(matches):\n",
    "        unmatched_metabolites.append({\"id\": metabolite.id, \"source\" : \"ecoli\", \"link\" : None, \"rpom_reactions\" : 0, \"ecoli_reactions\" : len(metabolite.reactions)})\n",
    "\n",
    "metabolites_data = pd.concat([metabolites_data, pd.DataFrame(unmatched_metabolites)])\n",
    "\n",
    "metabolites_data[\"has_link\"] = ~metabolites_data[\"link\"].isnull()\n",
    "metabolites_data[[\"source\", \"has_link\"]].groupby([\"source\", \"has_link\"]).size()\n",
    "# ecoli_met_ids = {met.id : met for met in ecoli.metabolites}\n",
    "# common_met_encoding = {}\n",
    "# i = 0\n",
    "# for met in model.metabolites:\n",
    "#     if met.id in ecoli_met_ids:\n",
    "#         common_met_encoding[met.id] = i\n",
    "#         i += 1\n",
    "\n",
    "# len(rpom_to_ecoli_mets)"
   ]
  },
  {
   "cell_type": "code",
   "execution_count": 38,
   "metadata": {},
   "outputs": [],
   "source": [
    "# metabolites_data.to_excel(\"metabolite_links_rpom_to_ecoli.xlsx\")"
   ]
  },
  {
   "cell_type": "code",
   "execution_count": 39,
   "metadata": {},
   "outputs": [
    {
     "data": {
      "text/plain": [
       "3681"
      ]
     },
     "execution_count": 39,
     "metadata": {},
     "output_type": "execute_result"
    }
   ],
   "source": [
    "len(ecoli.metabolites)"
   ]
  },
  {
   "cell_type": "code",
   "execution_count": 40,
   "metadata": {},
   "outputs": [
    {
     "data": {
      "application/vnd.plotly.v1+json": {
       "config": {
        "plotlyServerURL": "https://plot.ly"
       },
       "data": [
        {
         "link": {
          "source": [
           0,
           0,
           1,
           1
          ],
          "target": [
           2,
           3,
           2,
           4
          ],
          "value": [
           448.5,
           791,
           448.5,
           2784
          ]
         },
         "node": {
          "color": [
           "rgb(0,100,255)",
           "rgb(0,150, 90)",
           "rgb(0, 230, 230)",
           "rgb(0,100,255)",
           "rgb(0,150, 90)"
          ],
          "label": [
           "<i>R. pom</i> metabolites (1688)",
           "<i>E. coli</i> metabolites (3681)",
           "Shared (897)",
           "Unique to <i>R. pom</i> (791)",
           "Unique to <i>E. coli</i> (2784)"
          ],
          "pad": 20,
          "thickness": 20
         },
         "type": "sankey"
        }
       ],
       "layout": {
        "font": {
         "size": 12
        },
        "height": 400,
        "template": {
         "data": {
          "bar": [
           {
            "error_x": {
             "color": "#2a3f5f"
            },
            "error_y": {
             "color": "#2a3f5f"
            },
            "marker": {
             "line": {
              "color": "#E5ECF6",
              "width": 0.5
             },
             "pattern": {
              "fillmode": "overlay",
              "size": 10,
              "solidity": 0.2
             }
            },
            "type": "bar"
           }
          ],
          "barpolar": [
           {
            "marker": {
             "line": {
              "color": "#E5ECF6",
              "width": 0.5
             },
             "pattern": {
              "fillmode": "overlay",
              "size": 10,
              "solidity": 0.2
             }
            },
            "type": "barpolar"
           }
          ],
          "carpet": [
           {
            "aaxis": {
             "endlinecolor": "#2a3f5f",
             "gridcolor": "white",
             "linecolor": "white",
             "minorgridcolor": "white",
             "startlinecolor": "#2a3f5f"
            },
            "baxis": {
             "endlinecolor": "#2a3f5f",
             "gridcolor": "white",
             "linecolor": "white",
             "minorgridcolor": "white",
             "startlinecolor": "#2a3f5f"
            },
            "type": "carpet"
           }
          ],
          "choropleth": [
           {
            "colorbar": {
             "outlinewidth": 0,
             "ticks": ""
            },
            "type": "choropleth"
           }
          ],
          "contour": [
           {
            "colorbar": {
             "outlinewidth": 0,
             "ticks": ""
            },
            "colorscale": [
             [
              0,
              "#0d0887"
             ],
             [
              0.1111111111111111,
              "#46039f"
             ],
             [
              0.2222222222222222,
              "#7201a8"
             ],
             [
              0.3333333333333333,
              "#9c179e"
             ],
             [
              0.4444444444444444,
              "#bd3786"
             ],
             [
              0.5555555555555556,
              "#d8576b"
             ],
             [
              0.6666666666666666,
              "#ed7953"
             ],
             [
              0.7777777777777778,
              "#fb9f3a"
             ],
             [
              0.8888888888888888,
              "#fdca26"
             ],
             [
              1,
              "#f0f921"
             ]
            ],
            "type": "contour"
           }
          ],
          "contourcarpet": [
           {
            "colorbar": {
             "outlinewidth": 0,
             "ticks": ""
            },
            "type": "contourcarpet"
           }
          ],
          "heatmap": [
           {
            "colorbar": {
             "outlinewidth": 0,
             "ticks": ""
            },
            "colorscale": [
             [
              0,
              "#0d0887"
             ],
             [
              0.1111111111111111,
              "#46039f"
             ],
             [
              0.2222222222222222,
              "#7201a8"
             ],
             [
              0.3333333333333333,
              "#9c179e"
             ],
             [
              0.4444444444444444,
              "#bd3786"
             ],
             [
              0.5555555555555556,
              "#d8576b"
             ],
             [
              0.6666666666666666,
              "#ed7953"
             ],
             [
              0.7777777777777778,
              "#fb9f3a"
             ],
             [
              0.8888888888888888,
              "#fdca26"
             ],
             [
              1,
              "#f0f921"
             ]
            ],
            "type": "heatmap"
           }
          ],
          "heatmapgl": [
           {
            "colorbar": {
             "outlinewidth": 0,
             "ticks": ""
            },
            "colorscale": [
             [
              0,
              "#0d0887"
             ],
             [
              0.1111111111111111,
              "#46039f"
             ],
             [
              0.2222222222222222,
              "#7201a8"
             ],
             [
              0.3333333333333333,
              "#9c179e"
             ],
             [
              0.4444444444444444,
              "#bd3786"
             ],
             [
              0.5555555555555556,
              "#d8576b"
             ],
             [
              0.6666666666666666,
              "#ed7953"
             ],
             [
              0.7777777777777778,
              "#fb9f3a"
             ],
             [
              0.8888888888888888,
              "#fdca26"
             ],
             [
              1,
              "#f0f921"
             ]
            ],
            "type": "heatmapgl"
           }
          ],
          "histogram": [
           {
            "marker": {
             "pattern": {
              "fillmode": "overlay",
              "size": 10,
              "solidity": 0.2
             }
            },
            "type": "histogram"
           }
          ],
          "histogram2d": [
           {
            "colorbar": {
             "outlinewidth": 0,
             "ticks": ""
            },
            "colorscale": [
             [
              0,
              "#0d0887"
             ],
             [
              0.1111111111111111,
              "#46039f"
             ],
             [
              0.2222222222222222,
              "#7201a8"
             ],
             [
              0.3333333333333333,
              "#9c179e"
             ],
             [
              0.4444444444444444,
              "#bd3786"
             ],
             [
              0.5555555555555556,
              "#d8576b"
             ],
             [
              0.6666666666666666,
              "#ed7953"
             ],
             [
              0.7777777777777778,
              "#fb9f3a"
             ],
             [
              0.8888888888888888,
              "#fdca26"
             ],
             [
              1,
              "#f0f921"
             ]
            ],
            "type": "histogram2d"
           }
          ],
          "histogram2dcontour": [
           {
            "colorbar": {
             "outlinewidth": 0,
             "ticks": ""
            },
            "colorscale": [
             [
              0,
              "#0d0887"
             ],
             [
              0.1111111111111111,
              "#46039f"
             ],
             [
              0.2222222222222222,
              "#7201a8"
             ],
             [
              0.3333333333333333,
              "#9c179e"
             ],
             [
              0.4444444444444444,
              "#bd3786"
             ],
             [
              0.5555555555555556,
              "#d8576b"
             ],
             [
              0.6666666666666666,
              "#ed7953"
             ],
             [
              0.7777777777777778,
              "#fb9f3a"
             ],
             [
              0.8888888888888888,
              "#fdca26"
             ],
             [
              1,
              "#f0f921"
             ]
            ],
            "type": "histogram2dcontour"
           }
          ],
          "mesh3d": [
           {
            "colorbar": {
             "outlinewidth": 0,
             "ticks": ""
            },
            "type": "mesh3d"
           }
          ],
          "parcoords": [
           {
            "line": {
             "colorbar": {
              "outlinewidth": 0,
              "ticks": ""
             }
            },
            "type": "parcoords"
           }
          ],
          "pie": [
           {
            "automargin": true,
            "type": "pie"
           }
          ],
          "scatter": [
           {
            "fillpattern": {
             "fillmode": "overlay",
             "size": 10,
             "solidity": 0.2
            },
            "type": "scatter"
           }
          ],
          "scatter3d": [
           {
            "line": {
             "colorbar": {
              "outlinewidth": 0,
              "ticks": ""
             }
            },
            "marker": {
             "colorbar": {
              "outlinewidth": 0,
              "ticks": ""
             }
            },
            "type": "scatter3d"
           }
          ],
          "scattercarpet": [
           {
            "marker": {
             "colorbar": {
              "outlinewidth": 0,
              "ticks": ""
             }
            },
            "type": "scattercarpet"
           }
          ],
          "scattergeo": [
           {
            "marker": {
             "colorbar": {
              "outlinewidth": 0,
              "ticks": ""
             }
            },
            "type": "scattergeo"
           }
          ],
          "scattergl": [
           {
            "marker": {
             "colorbar": {
              "outlinewidth": 0,
              "ticks": ""
             }
            },
            "type": "scattergl"
           }
          ],
          "scattermapbox": [
           {
            "marker": {
             "colorbar": {
              "outlinewidth": 0,
              "ticks": ""
             }
            },
            "type": "scattermapbox"
           }
          ],
          "scatterpolar": [
           {
            "marker": {
             "colorbar": {
              "outlinewidth": 0,
              "ticks": ""
             }
            },
            "type": "scatterpolar"
           }
          ],
          "scatterpolargl": [
           {
            "marker": {
             "colorbar": {
              "outlinewidth": 0,
              "ticks": ""
             }
            },
            "type": "scatterpolargl"
           }
          ],
          "scatterternary": [
           {
            "marker": {
             "colorbar": {
              "outlinewidth": 0,
              "ticks": ""
             }
            },
            "type": "scatterternary"
           }
          ],
          "surface": [
           {
            "colorbar": {
             "outlinewidth": 0,
             "ticks": ""
            },
            "colorscale": [
             [
              0,
              "#0d0887"
             ],
             [
              0.1111111111111111,
              "#46039f"
             ],
             [
              0.2222222222222222,
              "#7201a8"
             ],
             [
              0.3333333333333333,
              "#9c179e"
             ],
             [
              0.4444444444444444,
              "#bd3786"
             ],
             [
              0.5555555555555556,
              "#d8576b"
             ],
             [
              0.6666666666666666,
              "#ed7953"
             ],
             [
              0.7777777777777778,
              "#fb9f3a"
             ],
             [
              0.8888888888888888,
              "#fdca26"
             ],
             [
              1,
              "#f0f921"
             ]
            ],
            "type": "surface"
           }
          ],
          "table": [
           {
            "cells": {
             "fill": {
              "color": "#EBF0F8"
             },
             "line": {
              "color": "white"
             }
            },
            "header": {
             "fill": {
              "color": "#C8D4E3"
             },
             "line": {
              "color": "white"
             }
            },
            "type": "table"
           }
          ]
         },
         "layout": {
          "annotationdefaults": {
           "arrowcolor": "#2a3f5f",
           "arrowhead": 0,
           "arrowwidth": 1
          },
          "autotypenumbers": "strict",
          "coloraxis": {
           "colorbar": {
            "outlinewidth": 0,
            "ticks": ""
           }
          },
          "colorscale": {
           "diverging": [
            [
             0,
             "#8e0152"
            ],
            [
             0.1,
             "#c51b7d"
            ],
            [
             0.2,
             "#de77ae"
            ],
            [
             0.3,
             "#f1b6da"
            ],
            [
             0.4,
             "#fde0ef"
            ],
            [
             0.5,
             "#f7f7f7"
            ],
            [
             0.6,
             "#e6f5d0"
            ],
            [
             0.7,
             "#b8e186"
            ],
            [
             0.8,
             "#7fbc41"
            ],
            [
             0.9,
             "#4d9221"
            ],
            [
             1,
             "#276419"
            ]
           ],
           "sequential": [
            [
             0,
             "#0d0887"
            ],
            [
             0.1111111111111111,
             "#46039f"
            ],
            [
             0.2222222222222222,
             "#7201a8"
            ],
            [
             0.3333333333333333,
             "#9c179e"
            ],
            [
             0.4444444444444444,
             "#bd3786"
            ],
            [
             0.5555555555555556,
             "#d8576b"
            ],
            [
             0.6666666666666666,
             "#ed7953"
            ],
            [
             0.7777777777777778,
             "#fb9f3a"
            ],
            [
             0.8888888888888888,
             "#fdca26"
            ],
            [
             1,
             "#f0f921"
            ]
           ],
           "sequentialminus": [
            [
             0,
             "#0d0887"
            ],
            [
             0.1111111111111111,
             "#46039f"
            ],
            [
             0.2222222222222222,
             "#7201a8"
            ],
            [
             0.3333333333333333,
             "#9c179e"
            ],
            [
             0.4444444444444444,
             "#bd3786"
            ],
            [
             0.5555555555555556,
             "#d8576b"
            ],
            [
             0.6666666666666666,
             "#ed7953"
            ],
            [
             0.7777777777777778,
             "#fb9f3a"
            ],
            [
             0.8888888888888888,
             "#fdca26"
            ],
            [
             1,
             "#f0f921"
            ]
           ]
          },
          "colorway": [
           "#636efa",
           "#EF553B",
           "#00cc96",
           "#ab63fa",
           "#FFA15A",
           "#19d3f3",
           "#FF6692",
           "#B6E880",
           "#FF97FF",
           "#FECB52"
          ],
          "font": {
           "color": "#2a3f5f"
          },
          "geo": {
           "bgcolor": "white",
           "lakecolor": "white",
           "landcolor": "#E5ECF6",
           "showlakes": true,
           "showland": true,
           "subunitcolor": "white"
          },
          "hoverlabel": {
           "align": "left"
          },
          "hovermode": "closest",
          "mapbox": {
           "style": "light"
          },
          "paper_bgcolor": "white",
          "plot_bgcolor": "#E5ECF6",
          "polar": {
           "angularaxis": {
            "gridcolor": "white",
            "linecolor": "white",
            "ticks": ""
           },
           "bgcolor": "#E5ECF6",
           "radialaxis": {
            "gridcolor": "white",
            "linecolor": "white",
            "ticks": ""
           }
          },
          "scene": {
           "xaxis": {
            "backgroundcolor": "#E5ECF6",
            "gridcolor": "white",
            "gridwidth": 2,
            "linecolor": "white",
            "showbackground": true,
            "ticks": "",
            "zerolinecolor": "white"
           },
           "yaxis": {
            "backgroundcolor": "#E5ECF6",
            "gridcolor": "white",
            "gridwidth": 2,
            "linecolor": "white",
            "showbackground": true,
            "ticks": "",
            "zerolinecolor": "white"
           },
           "zaxis": {
            "backgroundcolor": "#E5ECF6",
            "gridcolor": "white",
            "gridwidth": 2,
            "linecolor": "white",
            "showbackground": true,
            "ticks": "",
            "zerolinecolor": "white"
           }
          },
          "shapedefaults": {
           "line": {
            "color": "#2a3f5f"
           }
          },
          "ternary": {
           "aaxis": {
            "gridcolor": "white",
            "linecolor": "white",
            "ticks": ""
           },
           "baxis": {
            "gridcolor": "white",
            "linecolor": "white",
            "ticks": ""
           },
           "bgcolor": "#E5ECF6",
           "caxis": {
            "gridcolor": "white",
            "linecolor": "white",
            "ticks": ""
           }
          },
          "title": {
           "x": 0.05
          },
          "xaxis": {
           "automargin": true,
           "gridcolor": "white",
           "linecolor": "white",
           "ticks": "",
           "title": {
            "standoff": 15
           },
           "zerolinecolor": "white",
           "zerolinewidth": 2
          },
          "yaxis": {
           "automargin": true,
           "gridcolor": "white",
           "linecolor": "white",
           "ticks": "",
           "title": {
            "standoff": 15
           },
           "zerolinecolor": "white",
           "zerolinewidth": 2
          }
         }
        },
        "title": {
         "text": "Shared Metabolites"
        },
        "width": 500
       }
      },
      "text/html": [
       "<div>                            <div id=\"9440a6e1-14a3-4115-b88c-cb5da96be2a9\" class=\"plotly-graph-div\" style=\"height:400px; width:500px;\"></div>            <script type=\"text/javascript\">                require([\"plotly\"], function(Plotly) {                    window.PLOTLYENV=window.PLOTLYENV || {};                                    if (document.getElementById(\"9440a6e1-14a3-4115-b88c-cb5da96be2a9\")) {                    Plotly.newPlot(                        \"9440a6e1-14a3-4115-b88c-cb5da96be2a9\",                        [{\"link\":{\"source\":[0,0,1,1],\"target\":[2,3,2,4],\"value\":[448.5,791,448.5,2784]},\"node\":{\"color\":[\"rgb(0,100,255)\",\"rgb(0,150, 90)\",\"rgb(0, 230, 230)\",\"rgb(0,100,255)\",\"rgb(0,150, 90)\"],\"label\":[\"\\u003ci\\u003eR. pom\\u003c\\u002fi\\u003e metabolites (1688)\",\"\\u003ci\\u003eE. coli\\u003c\\u002fi\\u003e metabolites (3681)\",\"Shared (897)\",\"Unique to \\u003ci\\u003eR. pom\\u003c\\u002fi\\u003e (791)\",\"Unique to \\u003ci\\u003eE. coli\\u003c\\u002fi\\u003e (2784)\"],\"pad\":20,\"thickness\":20},\"type\":\"sankey\"}],                        {\"template\":{\"data\":{\"histogram2dcontour\":[{\"type\":\"histogram2dcontour\",\"colorbar\":{\"outlinewidth\":0,\"ticks\":\"\"},\"colorscale\":[[0.0,\"#0d0887\"],[0.1111111111111111,\"#46039f\"],[0.2222222222222222,\"#7201a8\"],[0.3333333333333333,\"#9c179e\"],[0.4444444444444444,\"#bd3786\"],[0.5555555555555556,\"#d8576b\"],[0.6666666666666666,\"#ed7953\"],[0.7777777777777778,\"#fb9f3a\"],[0.8888888888888888,\"#fdca26\"],[1.0,\"#f0f921\"]]}],\"choropleth\":[{\"type\":\"choropleth\",\"colorbar\":{\"outlinewidth\":0,\"ticks\":\"\"}}],\"histogram2d\":[{\"type\":\"histogram2d\",\"colorbar\":{\"outlinewidth\":0,\"ticks\":\"\"},\"colorscale\":[[0.0,\"#0d0887\"],[0.1111111111111111,\"#46039f\"],[0.2222222222222222,\"#7201a8\"],[0.3333333333333333,\"#9c179e\"],[0.4444444444444444,\"#bd3786\"],[0.5555555555555556,\"#d8576b\"],[0.6666666666666666,\"#ed7953\"],[0.7777777777777778,\"#fb9f3a\"],[0.8888888888888888,\"#fdca26\"],[1.0,\"#f0f921\"]]}],\"heatmap\":[{\"type\":\"heatmap\",\"colorbar\":{\"outlinewidth\":0,\"ticks\":\"\"},\"colorscale\":[[0.0,\"#0d0887\"],[0.1111111111111111,\"#46039f\"],[0.2222222222222222,\"#7201a8\"],[0.3333333333333333,\"#9c179e\"],[0.4444444444444444,\"#bd3786\"],[0.5555555555555556,\"#d8576b\"],[0.6666666666666666,\"#ed7953\"],[0.7777777777777778,\"#fb9f3a\"],[0.8888888888888888,\"#fdca26\"],[1.0,\"#f0f921\"]]}],\"heatmapgl\":[{\"type\":\"heatmapgl\",\"colorbar\":{\"outlinewidth\":0,\"ticks\":\"\"},\"colorscale\":[[0.0,\"#0d0887\"],[0.1111111111111111,\"#46039f\"],[0.2222222222222222,\"#7201a8\"],[0.3333333333333333,\"#9c179e\"],[0.4444444444444444,\"#bd3786\"],[0.5555555555555556,\"#d8576b\"],[0.6666666666666666,\"#ed7953\"],[0.7777777777777778,\"#fb9f3a\"],[0.8888888888888888,\"#fdca26\"],[1.0,\"#f0f921\"]]}],\"contourcarpet\":[{\"type\":\"contourcarpet\",\"colorbar\":{\"outlinewidth\":0,\"ticks\":\"\"}}],\"contour\":[{\"type\":\"contour\",\"colorbar\":{\"outlinewidth\":0,\"ticks\":\"\"},\"colorscale\":[[0.0,\"#0d0887\"],[0.1111111111111111,\"#46039f\"],[0.2222222222222222,\"#7201a8\"],[0.3333333333333333,\"#9c179e\"],[0.4444444444444444,\"#bd3786\"],[0.5555555555555556,\"#d8576b\"],[0.6666666666666666,\"#ed7953\"],[0.7777777777777778,\"#fb9f3a\"],[0.8888888888888888,\"#fdca26\"],[1.0,\"#f0f921\"]]}],\"surface\":[{\"type\":\"surface\",\"colorbar\":{\"outlinewidth\":0,\"ticks\":\"\"},\"colorscale\":[[0.0,\"#0d0887\"],[0.1111111111111111,\"#46039f\"],[0.2222222222222222,\"#7201a8\"],[0.3333333333333333,\"#9c179e\"],[0.4444444444444444,\"#bd3786\"],[0.5555555555555556,\"#d8576b\"],[0.6666666666666666,\"#ed7953\"],[0.7777777777777778,\"#fb9f3a\"],[0.8888888888888888,\"#fdca26\"],[1.0,\"#f0f921\"]]}],\"mesh3d\":[{\"type\":\"mesh3d\",\"colorbar\":{\"outlinewidth\":0,\"ticks\":\"\"}}],\"scatter\":[{\"fillpattern\":{\"fillmode\":\"overlay\",\"size\":10,\"solidity\":0.2},\"type\":\"scatter\"}],\"parcoords\":[{\"type\":\"parcoords\",\"line\":{\"colorbar\":{\"outlinewidth\":0,\"ticks\":\"\"}}}],\"scatterpolargl\":[{\"type\":\"scatterpolargl\",\"marker\":{\"colorbar\":{\"outlinewidth\":0,\"ticks\":\"\"}}}],\"bar\":[{\"error_x\":{\"color\":\"#2a3f5f\"},\"error_y\":{\"color\":\"#2a3f5f\"},\"marker\":{\"line\":{\"color\":\"#E5ECF6\",\"width\":0.5},\"pattern\":{\"fillmode\":\"overlay\",\"size\":10,\"solidity\":0.2}},\"type\":\"bar\"}],\"scattergeo\":[{\"type\":\"scattergeo\",\"marker\":{\"colorbar\":{\"outlinewidth\":0,\"ticks\":\"\"}}}],\"scatterpolar\":[{\"type\":\"scatterpolar\",\"marker\":{\"colorbar\":{\"outlinewidth\":0,\"ticks\":\"\"}}}],\"histogram\":[{\"marker\":{\"pattern\":{\"fillmode\":\"overlay\",\"size\":10,\"solidity\":0.2}},\"type\":\"histogram\"}],\"scattergl\":[{\"type\":\"scattergl\",\"marker\":{\"colorbar\":{\"outlinewidth\":0,\"ticks\":\"\"}}}],\"scatter3d\":[{\"type\":\"scatter3d\",\"line\":{\"colorbar\":{\"outlinewidth\":0,\"ticks\":\"\"}},\"marker\":{\"colorbar\":{\"outlinewidth\":0,\"ticks\":\"\"}}}],\"scattermapbox\":[{\"type\":\"scattermapbox\",\"marker\":{\"colorbar\":{\"outlinewidth\":0,\"ticks\":\"\"}}}],\"scatterternary\":[{\"type\":\"scatterternary\",\"marker\":{\"colorbar\":{\"outlinewidth\":0,\"ticks\":\"\"}}}],\"scattercarpet\":[{\"type\":\"scattercarpet\",\"marker\":{\"colorbar\":{\"outlinewidth\":0,\"ticks\":\"\"}}}],\"carpet\":[{\"aaxis\":{\"endlinecolor\":\"#2a3f5f\",\"gridcolor\":\"white\",\"linecolor\":\"white\",\"minorgridcolor\":\"white\",\"startlinecolor\":\"#2a3f5f\"},\"baxis\":{\"endlinecolor\":\"#2a3f5f\",\"gridcolor\":\"white\",\"linecolor\":\"white\",\"minorgridcolor\":\"white\",\"startlinecolor\":\"#2a3f5f\"},\"type\":\"carpet\"}],\"table\":[{\"cells\":{\"fill\":{\"color\":\"#EBF0F8\"},\"line\":{\"color\":\"white\"}},\"header\":{\"fill\":{\"color\":\"#C8D4E3\"},\"line\":{\"color\":\"white\"}},\"type\":\"table\"}],\"barpolar\":[{\"marker\":{\"line\":{\"color\":\"#E5ECF6\",\"width\":0.5},\"pattern\":{\"fillmode\":\"overlay\",\"size\":10,\"solidity\":0.2}},\"type\":\"barpolar\"}],\"pie\":[{\"automargin\":true,\"type\":\"pie\"}]},\"layout\":{\"autotypenumbers\":\"strict\",\"colorway\":[\"#636efa\",\"#EF553B\",\"#00cc96\",\"#ab63fa\",\"#FFA15A\",\"#19d3f3\",\"#FF6692\",\"#B6E880\",\"#FF97FF\",\"#FECB52\"],\"font\":{\"color\":\"#2a3f5f\"},\"hovermode\":\"closest\",\"hoverlabel\":{\"align\":\"left\"},\"paper_bgcolor\":\"white\",\"plot_bgcolor\":\"#E5ECF6\",\"polar\":{\"bgcolor\":\"#E5ECF6\",\"angularaxis\":{\"gridcolor\":\"white\",\"linecolor\":\"white\",\"ticks\":\"\"},\"radialaxis\":{\"gridcolor\":\"white\",\"linecolor\":\"white\",\"ticks\":\"\"}},\"ternary\":{\"bgcolor\":\"#E5ECF6\",\"aaxis\":{\"gridcolor\":\"white\",\"linecolor\":\"white\",\"ticks\":\"\"},\"baxis\":{\"gridcolor\":\"white\",\"linecolor\":\"white\",\"ticks\":\"\"},\"caxis\":{\"gridcolor\":\"white\",\"linecolor\":\"white\",\"ticks\":\"\"}},\"coloraxis\":{\"colorbar\":{\"outlinewidth\":0,\"ticks\":\"\"}},\"colorscale\":{\"sequential\":[[0.0,\"#0d0887\"],[0.1111111111111111,\"#46039f\"],[0.2222222222222222,\"#7201a8\"],[0.3333333333333333,\"#9c179e\"],[0.4444444444444444,\"#bd3786\"],[0.5555555555555556,\"#d8576b\"],[0.6666666666666666,\"#ed7953\"],[0.7777777777777778,\"#fb9f3a\"],[0.8888888888888888,\"#fdca26\"],[1.0,\"#f0f921\"]],\"sequentialminus\":[[0.0,\"#0d0887\"],[0.1111111111111111,\"#46039f\"],[0.2222222222222222,\"#7201a8\"],[0.3333333333333333,\"#9c179e\"],[0.4444444444444444,\"#bd3786\"],[0.5555555555555556,\"#d8576b\"],[0.6666666666666666,\"#ed7953\"],[0.7777777777777778,\"#fb9f3a\"],[0.8888888888888888,\"#fdca26\"],[1.0,\"#f0f921\"]],\"diverging\":[[0,\"#8e0152\"],[0.1,\"#c51b7d\"],[0.2,\"#de77ae\"],[0.3,\"#f1b6da\"],[0.4,\"#fde0ef\"],[0.5,\"#f7f7f7\"],[0.6,\"#e6f5d0\"],[0.7,\"#b8e186\"],[0.8,\"#7fbc41\"],[0.9,\"#4d9221\"],[1,\"#276419\"]]},\"xaxis\":{\"gridcolor\":\"white\",\"linecolor\":\"white\",\"ticks\":\"\",\"title\":{\"standoff\":15},\"zerolinecolor\":\"white\",\"automargin\":true,\"zerolinewidth\":2},\"yaxis\":{\"gridcolor\":\"white\",\"linecolor\":\"white\",\"ticks\":\"\",\"title\":{\"standoff\":15},\"zerolinecolor\":\"white\",\"automargin\":true,\"zerolinewidth\":2},\"scene\":{\"xaxis\":{\"backgroundcolor\":\"#E5ECF6\",\"gridcolor\":\"white\",\"linecolor\":\"white\",\"showbackground\":true,\"ticks\":\"\",\"zerolinecolor\":\"white\",\"gridwidth\":2},\"yaxis\":{\"backgroundcolor\":\"#E5ECF6\",\"gridcolor\":\"white\",\"linecolor\":\"white\",\"showbackground\":true,\"ticks\":\"\",\"zerolinecolor\":\"white\",\"gridwidth\":2},\"zaxis\":{\"backgroundcolor\":\"#E5ECF6\",\"gridcolor\":\"white\",\"linecolor\":\"white\",\"showbackground\":true,\"ticks\":\"\",\"zerolinecolor\":\"white\",\"gridwidth\":2}},\"shapedefaults\":{\"line\":{\"color\":\"#2a3f5f\"}},\"annotationdefaults\":{\"arrowcolor\":\"#2a3f5f\",\"arrowhead\":0,\"arrowwidth\":1},\"geo\":{\"bgcolor\":\"white\",\"landcolor\":\"#E5ECF6\",\"subunitcolor\":\"white\",\"showland\":true,\"showlakes\":true,\"lakecolor\":\"white\"},\"title\":{\"x\":0.05},\"mapbox\":{\"style\":\"light\"}}},\"title\":{\"text\":\"Shared Metabolites\"},\"font\":{\"size\":12},\"width\":500,\"height\":400},                        {\"responsive\": true}                    ).then(function(){\n",
       "                            \n",
       "var gd = document.getElementById('9440a6e1-14a3-4115-b88c-cb5da96be2a9');\n",
       "var x = new MutationObserver(function (mutations, observer) {{\n",
       "        var display = window.getComputedStyle(gd).display;\n",
       "        if (!display || display === 'none') {{\n",
       "            console.log([gd, 'removed!']);\n",
       "            Plotly.purge(gd);\n",
       "            observer.disconnect();\n",
       "        }}\n",
       "}});\n",
       "\n",
       "// Listen for the removal of the full notebook cells\n",
       "var notebookContainer = gd.closest('#notebook-container');\n",
       "if (notebookContainer) {{\n",
       "    x.observe(notebookContainer, {childList: true});\n",
       "}}\n",
       "\n",
       "// Listen for the clearing of the current output cell\n",
       "var outputEl = gd.closest('.output');\n",
       "if (outputEl) {{\n",
       "    x.observe(outputEl, {childList: true});\n",
       "}}\n",
       "\n",
       "                        })                };                });            </script>        </div>"
      ]
     },
     "metadata": {},
     "output_type": "display_data"
    }
   ],
   "source": [
    "import plotly.graph_objects as go\n",
    "\n",
    "RPOM_COLOR = \"rgb(0,100,255)\"\n",
    "ECOLI_COLOR = \"rgb(0,150, 90)\"\n",
    "SHARED_COLOR = \"rgb(0, 230, 230)\"\n",
    "\n",
    "fig = go.Figure(data=[go.Sankey(\n",
    "    node=dict(\n",
    "        pad=20,\n",
    "        thickness=20,\n",
    "        label=[\"<i>R. pom</i> metabolites (1688)\", \"<i>E. coli</i> metabolites (3681)\",\n",
    "               \"Shared (897)\", \"Unique to <i>R. pom</i> (791)\", \"Unique to <i>E. coli</i> (2784)\"],\n",
    "        color=[RPOM_COLOR, ECOLI_COLOR, SHARED_COLOR, RPOM_COLOR, ECOLI_COLOR]\n",
    "    ),\n",
    "    link=dict(\n",
    "        source=[0, 0, 1, 1],\n",
    "        target=[2, 3, 2, 4],\n",
    "        value=[897/2, 791, 897/2, 2784]\n",
    "    ))])\n",
    "\n",
    "fig.update_layout(title_text=\"Shared Metabolites\", font_size=12)\n",
    "fig.update_layout(\n",
    "    width=500,\n",
    "    height=400\n",
    ")\n",
    "fig.show()"
   ]
  },
  {
   "cell_type": "code",
   "execution_count": 41,
   "metadata": {},
   "outputs": [],
   "source": [
    "# Create a common metabolite encoding (numbering) so as to match reactions\n",
    "common_met_encoding = {met: i for i, met in enumerate(metabolites_data[metabolites_data[\"has_link\"]][\"id\"])}"
   ]
  },
  {
   "cell_type": "code",
   "execution_count": 57,
   "metadata": {},
   "outputs": [
    {
     "name": "stderr",
     "output_type": "stream",
     "text": [
      "/tmp/ipykernel_5132/1036777500.py:36: SettingWithCopyWarning:\n",
      "\n",
      "\n",
      "A value is trying to be set on a copy of a slice from a DataFrame\n",
      "\n",
      "See the caveats in the documentation: https://pandas.pydata.org/pandas-docs/stable/user_guide/indexing.html#returning-a-view-versus-a-copy\n",
      "\n",
      "/tmp/ipykernel_5132/1036777500.py:37: SettingWithCopyWarning:\n",
      "\n",
      "\n",
      "A value is trying to be set on a copy of a slice from a DataFrame\n",
      "\n",
      "See the caveats in the documentation: https://pandas.pydata.org/pandas-docs/stable/user_guide/indexing.html#returning-a-view-versus-a-copy\n",
      "\n"
     ]
    },
    {
     "name": "stdout",
     "output_type": "stream",
     "text": [
      "ATPASE_RXN: ATP[c] + WATER[c] --> ADP[c] + PROTON[c] + Pi[c] matches with ATPASE-RXN which already has match ABC_42_RXN_CPD_15629/ATP/WATER//CPD_15629/ADP/Pi/PROTON__46_46__\n",
      "TRANS_RXN_145: WATER[p] <=> WATER[c] matches with H2Otpp which already has match TRANS_RXN0_547[CCO_PM_BAC_NEG]_WATER//WATER.29.\n",
      "TRANS_RXN_283: ATP[c] + BETAINE[p] + WATER[c] --> ADP[c] + BETAINE[c] + PROTON[c] + Pi[c] matches with TRANS-RXN-283 which already has match RXN_8638_BETAINE/ATP/WATER//BETAINE/ADP/Pi/PROTON.41.\n",
      "TRANS_RXN_324: ATP[c] + CPD-821[p] + WATER[c] --> ADP[c] + CPD-821[c] + PROTON[c] + Pi[c] matches with RXN-8638-CPD-821/ATP/WATER//CPD-821/ADP/Pi/PROTON.41. which already has match RXN_8638_CPD_821/ATP/WATER//CPD_821/ADP/Pi/PROTON.41.\n"
     ]
    },
    {
     "data": {
      "text/plain": [
       "source  has_link\n",
       "ecoli   False       3481\n",
       "rpom    False       1380\n",
       "        True         595\n",
       "dtype: int64"
      ]
     },
     "execution_count": 57,
     "metadata": {},
     "output_type": "execute_result"
    }
   ],
   "source": [
    "def encode_reaction(reaction, metabolite_encoding):\n",
    "    def freeze_encoding(encoding):\n",
    "        keylist = list(encoding.keys())\n",
    "        valuelist = list(encoding.values())\n",
    "        \n",
    "        order = np.argsort(keylist)\n",
    "        return tuple(f\"{keylist[i]}:{valuelist[i]}\" for i in order)\n",
    "    \n",
    "    try:\n",
    "        encoding_fwd = {metabolite_encoding[met.id] : coeff for met, coeff in reaction.metabolites.items()}\n",
    "        encoding_rev = {metabolite_encoding[met.id] : -coeff for met, coeff in reaction.metabolites.items()}\n",
    "        return freeze_encoding(encoding_fwd), freeze_encoding(encoding_rev)\n",
    "    except KeyError:\n",
    "        # One or more metabolites are not in the common encoding\n",
    "        return None, None\n",
    "\n",
    "\n",
    "reaction_data = pd.DataFrame([\n",
    "    {\"id\" : reaction.id,\n",
    "    \"source\" : \"rpom\",\n",
    "    \"stoich_fwd\" : encode_reaction(reaction, common_met_encoding)[0],\n",
    "    \"stoich_rev\" : encode_reaction(reaction, common_met_encoding)[1],\n",
    "    \"rpom_flux\" : reaction.flux,\n",
    "    \"link\": None,\n",
    "    \"ecoli_flux\" : None}\n",
    "    for reaction in model.reactions])\n",
    "\n",
    "unmatched_reactions = []\n",
    "for reaction in ecoli.reactions:\n",
    "    enc_fwd, enc_rev = encode_reaction(reaction, common_met_encoding)\n",
    "    matches = reaction_data[\"stoich_fwd\"] == enc_fwd\n",
    "\n",
    "    if matches.any() and reaction_data[\"link\"][matches].values[0] is not None:\n",
    "        print(f\"{reaction} matches with {reaction_data['id'][matches].values[0]} which already has match {reaction_data['link'][matches].values[0]}\")\n",
    "\n",
    "    reaction_data[\"link\"][matches] = reaction.id\n",
    "    reaction_data[\"ecoli_flux\"][matches] = reaction.flux\n",
    "\n",
    "    if not any(matches):\n",
    "        unmatched_reactions.append({\n",
    "            \"id\" : reaction.id,\n",
    "            \"source\": \"ecoli\",\n",
    "            \"stoich_fwd\" : enc_fwd,\n",
    "            \"stoich_rev\" : enc_rev,\n",
    "            \"rpom_flux\" : None,\n",
    "            \"link\" : None,\n",
    "            \"ecoli_flux\" : reaction.flux})\n",
    "\n",
    "reaction_data = pd.concat([reaction_data, pd.DataFrame(unmatched_reactions)])\n",
    "reaction_data[\"has_link\"] = ~reaction_data[\"link\"].isnull()\n",
    "reaction_data.groupby([\"source\", \"has_link\"]).size()"
   ]
  },
  {
   "cell_type": "code",
   "execution_count": 43,
   "metadata": {},
   "outputs": [
    {
     "data": {
      "text/plain": [
       "source  has_encoding\n",
       "ecoli   False           3027\n",
       "        True             454\n",
       "rpom    False            902\n",
       "        True            1073\n",
       "dtype: int64"
      ]
     },
     "execution_count": 43,
     "metadata": {},
     "output_type": "execute_result"
    }
   ],
   "source": [
    "reaction_data[\"has_encoding\"] = ~reaction_data[\"stoich_fwd\"].isnull()\n",
    "reaction_data.groupby([\"source\", \"has_encoding\"]).size()"
   ]
  },
  {
   "cell_type": "code",
   "execution_count": 45,
   "metadata": {},
   "outputs": [],
   "source": [
    "# Note to self: there must be 3 (?) reactions with multiple matches - need to look into this :("
   ]
  },
  {
   "cell_type": "code",
   "execution_count": 87,
   "metadata": {},
   "outputs": [
    {
     "data": {
      "application/vnd.plotly.v1+json": {
       "config": {
        "plotlyServerURL": "https://plot.ly"
       },
       "data": [
        {
         "link": {
          "source": [
           0,
           0,
           1,
           1,
           2,
           2,
           3,
           4,
           4,
           5
          ],
          "target": [
           2,
           3,
           4,
           5,
           7,
           6,
           7,
           6,
           8,
           8
          ],
          "value": [
           1073,
           902,
           1049,
           3027,
           478,
           297.5,
           902,
           297.5,
           454,
           3027
          ]
         },
         "node": {
          "color": [
           "rgb(0,100,255)",
           "rgb(0,150, 90)",
           "rgb(0, 150, 250)",
           "rgb(0,100,255)",
           "rgb(0, 200, 150)",
           "rgb(0,150, 90)",
           "rgb(0, 230, 230)",
           "rgb(0,100,255)",
           "rgb(0,150, 90)"
          ],
          "label": [
           "<i>R. pom</i> reactions (1975)",
           "<i>E. coli</i> reactions (4079)",
           "Only common metabolites (1073)",
           "Some unique metabolites (902)",
           "Only common metabolites (1049)",
           "Some unique metabolites (3027)",
           "Shared (595)",
           "Unique to <i>R. pom</i> (1380)",
           "Unique to <i>E. coli</i> (3481)"
          ],
          "pad": 20,
          "thickness": 20
         },
         "type": "sankey"
        }
       ],
       "layout": {
        "font": {
         "size": 12
        },
        "height": 500,
        "template": {
         "data": {
          "bar": [
           {
            "error_x": {
             "color": "#2a3f5f"
            },
            "error_y": {
             "color": "#2a3f5f"
            },
            "marker": {
             "line": {
              "color": "#E5ECF6",
              "width": 0.5
             },
             "pattern": {
              "fillmode": "overlay",
              "size": 10,
              "solidity": 0.2
             }
            },
            "type": "bar"
           }
          ],
          "barpolar": [
           {
            "marker": {
             "line": {
              "color": "#E5ECF6",
              "width": 0.5
             },
             "pattern": {
              "fillmode": "overlay",
              "size": 10,
              "solidity": 0.2
             }
            },
            "type": "barpolar"
           }
          ],
          "carpet": [
           {
            "aaxis": {
             "endlinecolor": "#2a3f5f",
             "gridcolor": "white",
             "linecolor": "white",
             "minorgridcolor": "white",
             "startlinecolor": "#2a3f5f"
            },
            "baxis": {
             "endlinecolor": "#2a3f5f",
             "gridcolor": "white",
             "linecolor": "white",
             "minorgridcolor": "white",
             "startlinecolor": "#2a3f5f"
            },
            "type": "carpet"
           }
          ],
          "choropleth": [
           {
            "colorbar": {
             "outlinewidth": 0,
             "ticks": ""
            },
            "type": "choropleth"
           }
          ],
          "contour": [
           {
            "colorbar": {
             "outlinewidth": 0,
             "ticks": ""
            },
            "colorscale": [
             [
              0,
              "#0d0887"
             ],
             [
              0.1111111111111111,
              "#46039f"
             ],
             [
              0.2222222222222222,
              "#7201a8"
             ],
             [
              0.3333333333333333,
              "#9c179e"
             ],
             [
              0.4444444444444444,
              "#bd3786"
             ],
             [
              0.5555555555555556,
              "#d8576b"
             ],
             [
              0.6666666666666666,
              "#ed7953"
             ],
             [
              0.7777777777777778,
              "#fb9f3a"
             ],
             [
              0.8888888888888888,
              "#fdca26"
             ],
             [
              1,
              "#f0f921"
             ]
            ],
            "type": "contour"
           }
          ],
          "contourcarpet": [
           {
            "colorbar": {
             "outlinewidth": 0,
             "ticks": ""
            },
            "type": "contourcarpet"
           }
          ],
          "heatmap": [
           {
            "colorbar": {
             "outlinewidth": 0,
             "ticks": ""
            },
            "colorscale": [
             [
              0,
              "#0d0887"
             ],
             [
              0.1111111111111111,
              "#46039f"
             ],
             [
              0.2222222222222222,
              "#7201a8"
             ],
             [
              0.3333333333333333,
              "#9c179e"
             ],
             [
              0.4444444444444444,
              "#bd3786"
             ],
             [
              0.5555555555555556,
              "#d8576b"
             ],
             [
              0.6666666666666666,
              "#ed7953"
             ],
             [
              0.7777777777777778,
              "#fb9f3a"
             ],
             [
              0.8888888888888888,
              "#fdca26"
             ],
             [
              1,
              "#f0f921"
             ]
            ],
            "type": "heatmap"
           }
          ],
          "heatmapgl": [
           {
            "colorbar": {
             "outlinewidth": 0,
             "ticks": ""
            },
            "colorscale": [
             [
              0,
              "#0d0887"
             ],
             [
              0.1111111111111111,
              "#46039f"
             ],
             [
              0.2222222222222222,
              "#7201a8"
             ],
             [
              0.3333333333333333,
              "#9c179e"
             ],
             [
              0.4444444444444444,
              "#bd3786"
             ],
             [
              0.5555555555555556,
              "#d8576b"
             ],
             [
              0.6666666666666666,
              "#ed7953"
             ],
             [
              0.7777777777777778,
              "#fb9f3a"
             ],
             [
              0.8888888888888888,
              "#fdca26"
             ],
             [
              1,
              "#f0f921"
             ]
            ],
            "type": "heatmapgl"
           }
          ],
          "histogram": [
           {
            "marker": {
             "pattern": {
              "fillmode": "overlay",
              "size": 10,
              "solidity": 0.2
             }
            },
            "type": "histogram"
           }
          ],
          "histogram2d": [
           {
            "colorbar": {
             "outlinewidth": 0,
             "ticks": ""
            },
            "colorscale": [
             [
              0,
              "#0d0887"
             ],
             [
              0.1111111111111111,
              "#46039f"
             ],
             [
              0.2222222222222222,
              "#7201a8"
             ],
             [
              0.3333333333333333,
              "#9c179e"
             ],
             [
              0.4444444444444444,
              "#bd3786"
             ],
             [
              0.5555555555555556,
              "#d8576b"
             ],
             [
              0.6666666666666666,
              "#ed7953"
             ],
             [
              0.7777777777777778,
              "#fb9f3a"
             ],
             [
              0.8888888888888888,
              "#fdca26"
             ],
             [
              1,
              "#f0f921"
             ]
            ],
            "type": "histogram2d"
           }
          ],
          "histogram2dcontour": [
           {
            "colorbar": {
             "outlinewidth": 0,
             "ticks": ""
            },
            "colorscale": [
             [
              0,
              "#0d0887"
             ],
             [
              0.1111111111111111,
              "#46039f"
             ],
             [
              0.2222222222222222,
              "#7201a8"
             ],
             [
              0.3333333333333333,
              "#9c179e"
             ],
             [
              0.4444444444444444,
              "#bd3786"
             ],
             [
              0.5555555555555556,
              "#d8576b"
             ],
             [
              0.6666666666666666,
              "#ed7953"
             ],
             [
              0.7777777777777778,
              "#fb9f3a"
             ],
             [
              0.8888888888888888,
              "#fdca26"
             ],
             [
              1,
              "#f0f921"
             ]
            ],
            "type": "histogram2dcontour"
           }
          ],
          "mesh3d": [
           {
            "colorbar": {
             "outlinewidth": 0,
             "ticks": ""
            },
            "type": "mesh3d"
           }
          ],
          "parcoords": [
           {
            "line": {
             "colorbar": {
              "outlinewidth": 0,
              "ticks": ""
             }
            },
            "type": "parcoords"
           }
          ],
          "pie": [
           {
            "automargin": true,
            "type": "pie"
           }
          ],
          "scatter": [
           {
            "fillpattern": {
             "fillmode": "overlay",
             "size": 10,
             "solidity": 0.2
            },
            "type": "scatter"
           }
          ],
          "scatter3d": [
           {
            "line": {
             "colorbar": {
              "outlinewidth": 0,
              "ticks": ""
             }
            },
            "marker": {
             "colorbar": {
              "outlinewidth": 0,
              "ticks": ""
             }
            },
            "type": "scatter3d"
           }
          ],
          "scattercarpet": [
           {
            "marker": {
             "colorbar": {
              "outlinewidth": 0,
              "ticks": ""
             }
            },
            "type": "scattercarpet"
           }
          ],
          "scattergeo": [
           {
            "marker": {
             "colorbar": {
              "outlinewidth": 0,
              "ticks": ""
             }
            },
            "type": "scattergeo"
           }
          ],
          "scattergl": [
           {
            "marker": {
             "colorbar": {
              "outlinewidth": 0,
              "ticks": ""
             }
            },
            "type": "scattergl"
           }
          ],
          "scattermapbox": [
           {
            "marker": {
             "colorbar": {
              "outlinewidth": 0,
              "ticks": ""
             }
            },
            "type": "scattermapbox"
           }
          ],
          "scatterpolar": [
           {
            "marker": {
             "colorbar": {
              "outlinewidth": 0,
              "ticks": ""
             }
            },
            "type": "scatterpolar"
           }
          ],
          "scatterpolargl": [
           {
            "marker": {
             "colorbar": {
              "outlinewidth": 0,
              "ticks": ""
             }
            },
            "type": "scatterpolargl"
           }
          ],
          "scatterternary": [
           {
            "marker": {
             "colorbar": {
              "outlinewidth": 0,
              "ticks": ""
             }
            },
            "type": "scatterternary"
           }
          ],
          "surface": [
           {
            "colorbar": {
             "outlinewidth": 0,
             "ticks": ""
            },
            "colorscale": [
             [
              0,
              "#0d0887"
             ],
             [
              0.1111111111111111,
              "#46039f"
             ],
             [
              0.2222222222222222,
              "#7201a8"
             ],
             [
              0.3333333333333333,
              "#9c179e"
             ],
             [
              0.4444444444444444,
              "#bd3786"
             ],
             [
              0.5555555555555556,
              "#d8576b"
             ],
             [
              0.6666666666666666,
              "#ed7953"
             ],
             [
              0.7777777777777778,
              "#fb9f3a"
             ],
             [
              0.8888888888888888,
              "#fdca26"
             ],
             [
              1,
              "#f0f921"
             ]
            ],
            "type": "surface"
           }
          ],
          "table": [
           {
            "cells": {
             "fill": {
              "color": "#EBF0F8"
             },
             "line": {
              "color": "white"
             }
            },
            "header": {
             "fill": {
              "color": "#C8D4E3"
             },
             "line": {
              "color": "white"
             }
            },
            "type": "table"
           }
          ]
         },
         "layout": {
          "annotationdefaults": {
           "arrowcolor": "#2a3f5f",
           "arrowhead": 0,
           "arrowwidth": 1
          },
          "autotypenumbers": "strict",
          "coloraxis": {
           "colorbar": {
            "outlinewidth": 0,
            "ticks": ""
           }
          },
          "colorscale": {
           "diverging": [
            [
             0,
             "#8e0152"
            ],
            [
             0.1,
             "#c51b7d"
            ],
            [
             0.2,
             "#de77ae"
            ],
            [
             0.3,
             "#f1b6da"
            ],
            [
             0.4,
             "#fde0ef"
            ],
            [
             0.5,
             "#f7f7f7"
            ],
            [
             0.6,
             "#e6f5d0"
            ],
            [
             0.7,
             "#b8e186"
            ],
            [
             0.8,
             "#7fbc41"
            ],
            [
             0.9,
             "#4d9221"
            ],
            [
             1,
             "#276419"
            ]
           ],
           "sequential": [
            [
             0,
             "#0d0887"
            ],
            [
             0.1111111111111111,
             "#46039f"
            ],
            [
             0.2222222222222222,
             "#7201a8"
            ],
            [
             0.3333333333333333,
             "#9c179e"
            ],
            [
             0.4444444444444444,
             "#bd3786"
            ],
            [
             0.5555555555555556,
             "#d8576b"
            ],
            [
             0.6666666666666666,
             "#ed7953"
            ],
            [
             0.7777777777777778,
             "#fb9f3a"
            ],
            [
             0.8888888888888888,
             "#fdca26"
            ],
            [
             1,
             "#f0f921"
            ]
           ],
           "sequentialminus": [
            [
             0,
             "#0d0887"
            ],
            [
             0.1111111111111111,
             "#46039f"
            ],
            [
             0.2222222222222222,
             "#7201a8"
            ],
            [
             0.3333333333333333,
             "#9c179e"
            ],
            [
             0.4444444444444444,
             "#bd3786"
            ],
            [
             0.5555555555555556,
             "#d8576b"
            ],
            [
             0.6666666666666666,
             "#ed7953"
            ],
            [
             0.7777777777777778,
             "#fb9f3a"
            ],
            [
             0.8888888888888888,
             "#fdca26"
            ],
            [
             1,
             "#f0f921"
            ]
           ]
          },
          "colorway": [
           "#636efa",
           "#EF553B",
           "#00cc96",
           "#ab63fa",
           "#FFA15A",
           "#19d3f3",
           "#FF6692",
           "#B6E880",
           "#FF97FF",
           "#FECB52"
          ],
          "font": {
           "color": "#2a3f5f"
          },
          "geo": {
           "bgcolor": "white",
           "lakecolor": "white",
           "landcolor": "#E5ECF6",
           "showlakes": true,
           "showland": true,
           "subunitcolor": "white"
          },
          "hoverlabel": {
           "align": "left"
          },
          "hovermode": "closest",
          "mapbox": {
           "style": "light"
          },
          "paper_bgcolor": "white",
          "plot_bgcolor": "#E5ECF6",
          "polar": {
           "angularaxis": {
            "gridcolor": "white",
            "linecolor": "white",
            "ticks": ""
           },
           "bgcolor": "#E5ECF6",
           "radialaxis": {
            "gridcolor": "white",
            "linecolor": "white",
            "ticks": ""
           }
          },
          "scene": {
           "xaxis": {
            "backgroundcolor": "#E5ECF6",
            "gridcolor": "white",
            "gridwidth": 2,
            "linecolor": "white",
            "showbackground": true,
            "ticks": "",
            "zerolinecolor": "white"
           },
           "yaxis": {
            "backgroundcolor": "#E5ECF6",
            "gridcolor": "white",
            "gridwidth": 2,
            "linecolor": "white",
            "showbackground": true,
            "ticks": "",
            "zerolinecolor": "white"
           },
           "zaxis": {
            "backgroundcolor": "#E5ECF6",
            "gridcolor": "white",
            "gridwidth": 2,
            "linecolor": "white",
            "showbackground": true,
            "ticks": "",
            "zerolinecolor": "white"
           }
          },
          "shapedefaults": {
           "line": {
            "color": "#2a3f5f"
           }
          },
          "ternary": {
           "aaxis": {
            "gridcolor": "white",
            "linecolor": "white",
            "ticks": ""
           },
           "baxis": {
            "gridcolor": "white",
            "linecolor": "white",
            "ticks": ""
           },
           "bgcolor": "#E5ECF6",
           "caxis": {
            "gridcolor": "white",
            "linecolor": "white",
            "ticks": ""
           }
          },
          "title": {
           "x": 0.05
          },
          "xaxis": {
           "automargin": true,
           "gridcolor": "white",
           "linecolor": "white",
           "ticks": "",
           "title": {
            "standoff": 15
           },
           "zerolinecolor": "white",
           "zerolinewidth": 2
          },
          "yaxis": {
           "automargin": true,
           "gridcolor": "white",
           "linecolor": "white",
           "ticks": "",
           "title": {
            "standoff": 15
           },
           "zerolinecolor": "white",
           "zerolinewidth": 2
          }
         }
        },
        "title": {
         "text": "Shared Reactions"
        },
        "width": 700
       }
      },
      "text/html": [
       "<div>                            <div id=\"c9106337-39c1-435e-8c2b-04ab29422feb\" class=\"plotly-graph-div\" style=\"height:500px; width:700px;\"></div>            <script type=\"text/javascript\">                require([\"plotly\"], function(Plotly) {                    window.PLOTLYENV=window.PLOTLYENV || {};                                    if (document.getElementById(\"c9106337-39c1-435e-8c2b-04ab29422feb\")) {                    Plotly.newPlot(                        \"c9106337-39c1-435e-8c2b-04ab29422feb\",                        [{\"link\":{\"source\":[0,0,1,1,2,2,3,4,4,5],\"target\":[2,3,4,5,7,6,7,6,8,8],\"value\":[1073,902,1049,3027,478,297.5,902,297.5,454,3027]},\"node\":{\"color\":[\"rgb(0,100,255)\",\"rgb(0,150, 90)\",\"rgb(0, 150, 250)\",\"rgb(0,100,255)\",\"rgb(0, 200, 150)\",\"rgb(0,150, 90)\",\"rgb(0, 230, 230)\",\"rgb(0,100,255)\",\"rgb(0,150, 90)\"],\"label\":[\"\\u003ci\\u003eR. pom\\u003c\\u002fi\\u003e reactions (1975)\",\"\\u003ci\\u003eE. coli\\u003c\\u002fi\\u003e reactions (4079)\",\"Only common metabolites (1073)\",\"Some unique metabolites (902)\",\"Only common metabolites (1049)\",\"Some unique metabolites (3027)\",\"Shared (595)\",\"Unique to \\u003ci\\u003eR. pom\\u003c\\u002fi\\u003e (1380)\",\"Unique to \\u003ci\\u003eE. coli\\u003c\\u002fi\\u003e (3481)\"],\"pad\":20,\"thickness\":20},\"type\":\"sankey\"}],                        {\"template\":{\"data\":{\"histogram2dcontour\":[{\"type\":\"histogram2dcontour\",\"colorbar\":{\"outlinewidth\":0,\"ticks\":\"\"},\"colorscale\":[[0.0,\"#0d0887\"],[0.1111111111111111,\"#46039f\"],[0.2222222222222222,\"#7201a8\"],[0.3333333333333333,\"#9c179e\"],[0.4444444444444444,\"#bd3786\"],[0.5555555555555556,\"#d8576b\"],[0.6666666666666666,\"#ed7953\"],[0.7777777777777778,\"#fb9f3a\"],[0.8888888888888888,\"#fdca26\"],[1.0,\"#f0f921\"]]}],\"choropleth\":[{\"type\":\"choropleth\",\"colorbar\":{\"outlinewidth\":0,\"ticks\":\"\"}}],\"histogram2d\":[{\"type\":\"histogram2d\",\"colorbar\":{\"outlinewidth\":0,\"ticks\":\"\"},\"colorscale\":[[0.0,\"#0d0887\"],[0.1111111111111111,\"#46039f\"],[0.2222222222222222,\"#7201a8\"],[0.3333333333333333,\"#9c179e\"],[0.4444444444444444,\"#bd3786\"],[0.5555555555555556,\"#d8576b\"],[0.6666666666666666,\"#ed7953\"],[0.7777777777777778,\"#fb9f3a\"],[0.8888888888888888,\"#fdca26\"],[1.0,\"#f0f921\"]]}],\"heatmap\":[{\"type\":\"heatmap\",\"colorbar\":{\"outlinewidth\":0,\"ticks\":\"\"},\"colorscale\":[[0.0,\"#0d0887\"],[0.1111111111111111,\"#46039f\"],[0.2222222222222222,\"#7201a8\"],[0.3333333333333333,\"#9c179e\"],[0.4444444444444444,\"#bd3786\"],[0.5555555555555556,\"#d8576b\"],[0.6666666666666666,\"#ed7953\"],[0.7777777777777778,\"#fb9f3a\"],[0.8888888888888888,\"#fdca26\"],[1.0,\"#f0f921\"]]}],\"heatmapgl\":[{\"type\":\"heatmapgl\",\"colorbar\":{\"outlinewidth\":0,\"ticks\":\"\"},\"colorscale\":[[0.0,\"#0d0887\"],[0.1111111111111111,\"#46039f\"],[0.2222222222222222,\"#7201a8\"],[0.3333333333333333,\"#9c179e\"],[0.4444444444444444,\"#bd3786\"],[0.5555555555555556,\"#d8576b\"],[0.6666666666666666,\"#ed7953\"],[0.7777777777777778,\"#fb9f3a\"],[0.8888888888888888,\"#fdca26\"],[1.0,\"#f0f921\"]]}],\"contourcarpet\":[{\"type\":\"contourcarpet\",\"colorbar\":{\"outlinewidth\":0,\"ticks\":\"\"}}],\"contour\":[{\"type\":\"contour\",\"colorbar\":{\"outlinewidth\":0,\"ticks\":\"\"},\"colorscale\":[[0.0,\"#0d0887\"],[0.1111111111111111,\"#46039f\"],[0.2222222222222222,\"#7201a8\"],[0.3333333333333333,\"#9c179e\"],[0.4444444444444444,\"#bd3786\"],[0.5555555555555556,\"#d8576b\"],[0.6666666666666666,\"#ed7953\"],[0.7777777777777778,\"#fb9f3a\"],[0.8888888888888888,\"#fdca26\"],[1.0,\"#f0f921\"]]}],\"surface\":[{\"type\":\"surface\",\"colorbar\":{\"outlinewidth\":0,\"ticks\":\"\"},\"colorscale\":[[0.0,\"#0d0887\"],[0.1111111111111111,\"#46039f\"],[0.2222222222222222,\"#7201a8\"],[0.3333333333333333,\"#9c179e\"],[0.4444444444444444,\"#bd3786\"],[0.5555555555555556,\"#d8576b\"],[0.6666666666666666,\"#ed7953\"],[0.7777777777777778,\"#fb9f3a\"],[0.8888888888888888,\"#fdca26\"],[1.0,\"#f0f921\"]]}],\"mesh3d\":[{\"type\":\"mesh3d\",\"colorbar\":{\"outlinewidth\":0,\"ticks\":\"\"}}],\"scatter\":[{\"fillpattern\":{\"fillmode\":\"overlay\",\"size\":10,\"solidity\":0.2},\"type\":\"scatter\"}],\"parcoords\":[{\"type\":\"parcoords\",\"line\":{\"colorbar\":{\"outlinewidth\":0,\"ticks\":\"\"}}}],\"scatterpolargl\":[{\"type\":\"scatterpolargl\",\"marker\":{\"colorbar\":{\"outlinewidth\":0,\"ticks\":\"\"}}}],\"bar\":[{\"error_x\":{\"color\":\"#2a3f5f\"},\"error_y\":{\"color\":\"#2a3f5f\"},\"marker\":{\"line\":{\"color\":\"#E5ECF6\",\"width\":0.5},\"pattern\":{\"fillmode\":\"overlay\",\"size\":10,\"solidity\":0.2}},\"type\":\"bar\"}],\"scattergeo\":[{\"type\":\"scattergeo\",\"marker\":{\"colorbar\":{\"outlinewidth\":0,\"ticks\":\"\"}}}],\"scatterpolar\":[{\"type\":\"scatterpolar\",\"marker\":{\"colorbar\":{\"outlinewidth\":0,\"ticks\":\"\"}}}],\"histogram\":[{\"marker\":{\"pattern\":{\"fillmode\":\"overlay\",\"size\":10,\"solidity\":0.2}},\"type\":\"histogram\"}],\"scattergl\":[{\"type\":\"scattergl\",\"marker\":{\"colorbar\":{\"outlinewidth\":0,\"ticks\":\"\"}}}],\"scatter3d\":[{\"type\":\"scatter3d\",\"line\":{\"colorbar\":{\"outlinewidth\":0,\"ticks\":\"\"}},\"marker\":{\"colorbar\":{\"outlinewidth\":0,\"ticks\":\"\"}}}],\"scattermapbox\":[{\"type\":\"scattermapbox\",\"marker\":{\"colorbar\":{\"outlinewidth\":0,\"ticks\":\"\"}}}],\"scatterternary\":[{\"type\":\"scatterternary\",\"marker\":{\"colorbar\":{\"outlinewidth\":0,\"ticks\":\"\"}}}],\"scattercarpet\":[{\"type\":\"scattercarpet\",\"marker\":{\"colorbar\":{\"outlinewidth\":0,\"ticks\":\"\"}}}],\"carpet\":[{\"aaxis\":{\"endlinecolor\":\"#2a3f5f\",\"gridcolor\":\"white\",\"linecolor\":\"white\",\"minorgridcolor\":\"white\",\"startlinecolor\":\"#2a3f5f\"},\"baxis\":{\"endlinecolor\":\"#2a3f5f\",\"gridcolor\":\"white\",\"linecolor\":\"white\",\"minorgridcolor\":\"white\",\"startlinecolor\":\"#2a3f5f\"},\"type\":\"carpet\"}],\"table\":[{\"cells\":{\"fill\":{\"color\":\"#EBF0F8\"},\"line\":{\"color\":\"white\"}},\"header\":{\"fill\":{\"color\":\"#C8D4E3\"},\"line\":{\"color\":\"white\"}},\"type\":\"table\"}],\"barpolar\":[{\"marker\":{\"line\":{\"color\":\"#E5ECF6\",\"width\":0.5},\"pattern\":{\"fillmode\":\"overlay\",\"size\":10,\"solidity\":0.2}},\"type\":\"barpolar\"}],\"pie\":[{\"automargin\":true,\"type\":\"pie\"}]},\"layout\":{\"autotypenumbers\":\"strict\",\"colorway\":[\"#636efa\",\"#EF553B\",\"#00cc96\",\"#ab63fa\",\"#FFA15A\",\"#19d3f3\",\"#FF6692\",\"#B6E880\",\"#FF97FF\",\"#FECB52\"],\"font\":{\"color\":\"#2a3f5f\"},\"hovermode\":\"closest\",\"hoverlabel\":{\"align\":\"left\"},\"paper_bgcolor\":\"white\",\"plot_bgcolor\":\"#E5ECF6\",\"polar\":{\"bgcolor\":\"#E5ECF6\",\"angularaxis\":{\"gridcolor\":\"white\",\"linecolor\":\"white\",\"ticks\":\"\"},\"radialaxis\":{\"gridcolor\":\"white\",\"linecolor\":\"white\",\"ticks\":\"\"}},\"ternary\":{\"bgcolor\":\"#E5ECF6\",\"aaxis\":{\"gridcolor\":\"white\",\"linecolor\":\"white\",\"ticks\":\"\"},\"baxis\":{\"gridcolor\":\"white\",\"linecolor\":\"white\",\"ticks\":\"\"},\"caxis\":{\"gridcolor\":\"white\",\"linecolor\":\"white\",\"ticks\":\"\"}},\"coloraxis\":{\"colorbar\":{\"outlinewidth\":0,\"ticks\":\"\"}},\"colorscale\":{\"sequential\":[[0.0,\"#0d0887\"],[0.1111111111111111,\"#46039f\"],[0.2222222222222222,\"#7201a8\"],[0.3333333333333333,\"#9c179e\"],[0.4444444444444444,\"#bd3786\"],[0.5555555555555556,\"#d8576b\"],[0.6666666666666666,\"#ed7953\"],[0.7777777777777778,\"#fb9f3a\"],[0.8888888888888888,\"#fdca26\"],[1.0,\"#f0f921\"]],\"sequentialminus\":[[0.0,\"#0d0887\"],[0.1111111111111111,\"#46039f\"],[0.2222222222222222,\"#7201a8\"],[0.3333333333333333,\"#9c179e\"],[0.4444444444444444,\"#bd3786\"],[0.5555555555555556,\"#d8576b\"],[0.6666666666666666,\"#ed7953\"],[0.7777777777777778,\"#fb9f3a\"],[0.8888888888888888,\"#fdca26\"],[1.0,\"#f0f921\"]],\"diverging\":[[0,\"#8e0152\"],[0.1,\"#c51b7d\"],[0.2,\"#de77ae\"],[0.3,\"#f1b6da\"],[0.4,\"#fde0ef\"],[0.5,\"#f7f7f7\"],[0.6,\"#e6f5d0\"],[0.7,\"#b8e186\"],[0.8,\"#7fbc41\"],[0.9,\"#4d9221\"],[1,\"#276419\"]]},\"xaxis\":{\"gridcolor\":\"white\",\"linecolor\":\"white\",\"ticks\":\"\",\"title\":{\"standoff\":15},\"zerolinecolor\":\"white\",\"automargin\":true,\"zerolinewidth\":2},\"yaxis\":{\"gridcolor\":\"white\",\"linecolor\":\"white\",\"ticks\":\"\",\"title\":{\"standoff\":15},\"zerolinecolor\":\"white\",\"automargin\":true,\"zerolinewidth\":2},\"scene\":{\"xaxis\":{\"backgroundcolor\":\"#E5ECF6\",\"gridcolor\":\"white\",\"linecolor\":\"white\",\"showbackground\":true,\"ticks\":\"\",\"zerolinecolor\":\"white\",\"gridwidth\":2},\"yaxis\":{\"backgroundcolor\":\"#E5ECF6\",\"gridcolor\":\"white\",\"linecolor\":\"white\",\"showbackground\":true,\"ticks\":\"\",\"zerolinecolor\":\"white\",\"gridwidth\":2},\"zaxis\":{\"backgroundcolor\":\"#E5ECF6\",\"gridcolor\":\"white\",\"linecolor\":\"white\",\"showbackground\":true,\"ticks\":\"\",\"zerolinecolor\":\"white\",\"gridwidth\":2}},\"shapedefaults\":{\"line\":{\"color\":\"#2a3f5f\"}},\"annotationdefaults\":{\"arrowcolor\":\"#2a3f5f\",\"arrowhead\":0,\"arrowwidth\":1},\"geo\":{\"bgcolor\":\"white\",\"landcolor\":\"#E5ECF6\",\"subunitcolor\":\"white\",\"showland\":true,\"showlakes\":true,\"lakecolor\":\"white\"},\"title\":{\"x\":0.05},\"mapbox\":{\"style\":\"light\"}}},\"title\":{\"text\":\"Shared Reactions\"},\"font\":{\"size\":12},\"width\":700,\"height\":500},                        {\"responsive\": true}                    ).then(function(){\n",
       "                            \n",
       "var gd = document.getElementById('c9106337-39c1-435e-8c2b-04ab29422feb');\n",
       "var x = new MutationObserver(function (mutations, observer) {{\n",
       "        var display = window.getComputedStyle(gd).display;\n",
       "        if (!display || display === 'none') {{\n",
       "            console.log([gd, 'removed!']);\n",
       "            Plotly.purge(gd);\n",
       "            observer.disconnect();\n",
       "        }}\n",
       "}});\n",
       "\n",
       "// Listen for the removal of the full notebook cells\n",
       "var notebookContainer = gd.closest('#notebook-container');\n",
       "if (notebookContainer) {{\n",
       "    x.observe(notebookContainer, {childList: true});\n",
       "}}\n",
       "\n",
       "// Listen for the clearing of the current output cell\n",
       "var outputEl = gd.closest('.output');\n",
       "if (outputEl) {{\n",
       "    x.observe(outputEl, {childList: true});\n",
       "}}\n",
       "\n",
       "                        })                };                });            </script>        </div>"
      ]
     },
     "metadata": {},
     "output_type": "display_data"
    }
   ],
   "source": [
    "COMMON_COLOR_RPOM = \"rgb(0, 150, 250)\"\n",
    "COMMON_COLOR_ECOLI = \"rgb(0, 200, 150)\"\n",
    "fig = go.Figure(data=[go.Sankey(\n",
    "    node=dict(\n",
    "        pad=20,\n",
    "        thickness=20,\n",
    "        label=[\"<i>R. pom</i> reactions (1975)\",  # 0\n",
    "                \"<i>E. coli</i> reactions (4079)\",  # 1\n",
    "                \"Only common metabolites (1073)\",  # 2, rpom\n",
    "                \"Some unique metabolites (902)\",  # 3, rpom\n",
    "                \"Only common metabolites (1049)\",  # 4, ecoli\n",
    "                \"Some unique metabolites (3027)\",  # 5, ecoli\n",
    "                \"Shared (595)\",  # 6\n",
    "                \"Unique to <i>R. pom</i> (1380)\",  # 7\n",
    "                \"Unique to <i>E. coli</i> (3481)\"  # 8\n",
    "                ],\n",
    "        color=[RPOM_COLOR, ECOLI_COLOR, COMMON_COLOR_RPOM, RPOM_COLOR, COMMON_COLOR_ECOLI, ECOLI_COLOR, SHARED_COLOR, RPOM_COLOR, ECOLI_COLOR]\n",
    "    ),\n",
    "    link=dict(\n",
    "        source=[0, 0, 1, 1, 2, 2, 3, 4, 4, 5],\n",
    "        target=[2, 3, 4, 5, 7, 6, 7, 6, 8, 8],\n",
    "        value=[1073, 902, 1049, 3027, 478, 595/2, 902, 595/2, 454, 3027]\n",
    "    ))])\n",
    "\n",
    "fig.update_layout(title_text=\"Shared Reactions\", font_size=12)\n",
    "fig.update_layout(\n",
    "    width=700,\n",
    "    height=500\n",
    ")\n",
    "fig.show()"
   ]
  },
  {
   "cell_type": "code",
   "execution_count": 70,
   "metadata": {},
   "outputs": [
    {
     "data": {
      "text/plain": [
       "454"
      ]
     },
     "execution_count": 70,
     "metadata": {},
     "output_type": "execute_result"
    }
   ],
   "source": [
    "3481 - 3027"
   ]
  },
  {
   "cell_type": "code",
   "execution_count": 48,
   "metadata": {},
   "outputs": [
    {
     "data": {
      "text/plain": [
       "5456"
      ]
     },
     "execution_count": 48,
     "metadata": {},
     "output_type": "execute_result"
    }
   ],
   "source": [
    "reaction_data.shape[0]"
   ]
  },
  {
   "cell_type": "code",
   "execution_count": 49,
   "metadata": {},
   "outputs": [
    {
     "data": {
      "text/plain": [
       "4076"
      ]
     },
     "execution_count": 49,
     "metadata": {},
     "output_type": "execute_result"
    }
   ],
   "source": [
    "(reaction_data[\"source\"] == \"ecoli\").sum() + 595"
   ]
  },
  {
   "cell_type": "code",
   "execution_count": 50,
   "metadata": {},
   "outputs": [
    {
     "data": {
      "text/plain": [
       "1049"
      ]
     },
     "execution_count": 50,
     "metadata": {},
     "output_type": "execute_result"
    }
   ],
   "source": [
    "reaction_data[(reaction_data[\"source\"] == \"ecoli\") & reaction_data[\"has_encoding\"]].shape[0] + 595"
   ]
  },
  {
   "cell_type": "code",
   "execution_count": 51,
   "metadata": {},
   "outputs": [
    {
     "data": {
      "text/plain": [
       "Text(0, 0.5, '|Flux (E. coli)|')"
      ]
     },
     "execution_count": 51,
     "metadata": {},
     "output_type": "execute_result"
    },
    {
     "data": {
      "image/png": "[encoded data removed]",
      "text/plain": [
       "<Figure size 640x480 with 1 Axes>"
      ]
     },
     "metadata": {},
     "output_type": "display_data"
    }
   ],
   "source": [
    "fig, ax = plt.subplots()\n",
    "subset_data = reaction_data[reaction_data[\"has_link\"]]\n",
    "ax.scatter(subset_data[\"rpom_flux\"].abs(), subset_data[\"ecoli_flux\"].abs(), alpha=0.25)\n",
    "ax.set_xscale(\"log\")\n",
    "ax.set_yscale(\"log\")\n",
    "ax.set_xlabel(\"|Flux (R. pom)|\")\n",
    "ax.set_ylabel(\"|Flux (E. coli)|\")"
   ]
  },
  {
   "cell_type": "code",
   "execution_count": 96,
   "metadata": {},
   "outputs": [
    {
     "name": "stderr",
     "output_type": "stream",
     "text": [
      "/tmp/ipykernel_5132/3234676781.py:6: SettingWithCopyWarning:\n",
      "\n",
      "\n",
      "A value is trying to be set on a copy of a slice from a DataFrame.\n",
      "Try using .loc[row_indexer,col_indexer] = value instead\n",
      "\n",
      "See the caveats in the documentation: https://pandas.pydata.org/pandas-docs/stable/user_guide/indexing.html#returning-a-view-versus-a-copy\n",
      "\n",
      "/tmp/ipykernel_5132/3234676781.py:7: SettingWithCopyWarning:\n",
      "\n",
      "\n",
      "A value is trying to be set on a copy of a slice from a DataFrame.\n",
      "Try using .loc[row_indexer,col_indexer] = value instead\n",
      "\n",
      "See the caveats in the documentation: https://pandas.pydata.org/pandas-docs/stable/user_guide/indexing.html#returning-a-view-versus-a-copy\n",
      "\n",
      "/tmp/ipykernel_5132/3234676781.py:9: SettingWithCopyWarning:\n",
      "\n",
      "\n",
      "A value is trying to be set on a copy of a slice from a DataFrame.\n",
      "Try using .loc[row_indexer,col_indexer] = value instead\n",
      "\n",
      "See the caveats in the documentation: https://pandas.pydata.org/pandas-docs/stable/user_guide/indexing.html#returning-a-view-versus-a-copy\n",
      "\n"
     ]
    },
    {
     "data": {
      "application/vnd.plotly.v1+json": {
       "config": {
        "plotlyServerURL": "https://plot.ly"
       },
       "data": [
        {
         "customdata": [
          [
           "1.1.1.8-RXN",
           "DIHYDROXY-ACETONE-PHOSPHATE[c] + NADH[c] + PROTON[c] --> GLYCEROL-3P[c] + NAD[c]",
           0.0057571386971563745,
           0.008801737230755668
          ],
          [
           "1.8.4.8-RXN",
           "PAPS[c] + Red-Thioredoxin[c] --> 3-5-ADP[c] + Ox-Thioredoxin[c] + 2.0 PROTON[c] + SO3[c]",
           0.01018953256549603,
           0
          ],
          [
           "2-DEHYDROPANTOATE-REDUCT-RXN",
           "2-DEHYDROPANTOATE[c] + NADPH[c] + PROTON[c] --> L-PANTOATE[c] + NADP[c]",
           0.00002385211532612841,
           0.000036455551564101205
          ],
          [
           "2-ISOPROPYLMALATESYN-RXN",
           "2-KETO-ISOVALERATE[c] + ACETYL-COA[c] + WATER[c] --> 3-CARBOXY-3-HYDROXY-ISOCAPROATE[c] + CO-A[c] + PROTON[c]",
           0.018656453767360234,
           0.028514507121045692
          ],
          [
           "2-METHYLCITRATE-DEHYDRATASE-RXN",
           "CPD-622[c] --> CPD-1136[c] + WATER[c]",
           0,
           0
          ],
          [
           "2.3.1.157-RXN",
           "ACETYL-COA[c] + GLUCOSAMINE-1P[c] --> CO-A[c] + N-ACETYL-D-GLUCOSAMINE-1-P[c] + PROTON[c]",
           0.002301397849592619,
           0.0017612588349402406
          ],
          [
           "2.3.1.180-RXN",
           "ACETYL-COA[c] + MALONYL-ACP[c] + PROTON[c] --> Acetoacetyl-ACPs[c] + CARBON-DIOXIDE[c] + CO-A[c]",
           0.011514277394312747,
           0.017606955460358596
          ],
          [
           "2.5.1.19-RXN",
           "PHOSPHO-ENOL-PYRUVATE[c] + SHIKIMATE-5P[c] --> 3-ENOLPYRUVYL-SHIKIMATE-5P[c] + Pi[c]",
           0.01577287381816665,
           0.024093132257913055
          ],
          [
           "2.6.1.57-RXN-PHE/2-KETOGLUTARATE//PHENYL-PYRUVATE/GLT.41.",
           "2-KETOGLUTARATE[c] + PHE[c] <=> GLT[c] + PHENYL-PYRUVATE[c]",
           -0.007671809281070545,
           -0.011725586389794554
          ],
          [
           "2.7.1.148-RXN",
           "4-CYTIDINE-5-DIPHOSPHO-2-C[c] + ATP[c] --> 2-PHOSPHO-4-CYTIDINE-5-DIPHOSPHO-2-C-MET[c] + ADP[c] + PROTON[c]",
           0.00009892830471204855,
           0.009824201528529836
          ],
          [
           "2.7.3.9-RXN",
           "Hpr-Histidine[c] + PHOSPHO-ENOL-PYRUVATE[c] --> Hpr-pi-phospho-L-histidines[c] + PYRUVATE[c]",
           0,
           0.3798136671290863
          ],
          [
           "2.7.7.60-RXN",
           "2-C-METHYL-D-ERYTHRITOL-4-PHOSPHATE[c] + CTP[c] + PROTON[c] --> 4-CYTIDINE-5-DIPHOSPHO-2-C[c] + PPI[c]",
           0.00009892830471204855,
           0.009824201528529836
          ],
          [
           "2PGADEHYDRAT-RXN",
           "2-PG[c] <=> PHOSPHO-ENOL-PYRUVATE[c] + WATER[c]",
           0.5178456150100924,
           0.6558836002947854
          ],
          [
           "2TRANSKETO-RXN",
           "ERYTHROSE-4P[c] + XYLULOSE-5-PHOSPHATE[c] --> FRUCTOSE-6P[c] + GAP[c]",
           0,
           -0.03555660998298597
          ],
          [
           "3-DEHYDROQUINATE-DEHYDRATASE-RXN",
           "DEHYDROQUINATE[c] --> 3-DEHYDRO-SHIKIMATE[c] + WATER[c]",
           0.01577287381816665,
           0.024093132257913055
          ],
          [
           "3-HYDROXBUTYRYL-COA-DEHYDRATASE-RXN",
           "CPD-650[c] <=> CROTONYL-COA[c] + WATER[c]",
           0,
           0
          ],
          [
           "3-ISOPROPYLMALDEHYDROG-RXN",
           "2-D-THREO-HYDROXY-3-CARBOXY-ISOCAPROATE[c] + NAD[c] --> CPD-7100[c] + NADH[c] + PROTON[c]",
           0,
           0.028514507121045692
          ],
          [
           "3-ISOPROPYLMALISOM-RXN",
           "CPD-9451[c] + WATER[c] <=> 3-CARBOXY-3-HYDROXY-ISOCAPROATE[c]",
           -0.018656453767360234,
           -0.028514507121045692
          ],
          [
           "3.6.3.20-RXN",
           "ATP[c] + GLYCEROL-3P[p] + WATER[c] --> ADP[c] + GLYCEROL-3P[c] + PROTON[c] + Pi[c]",
           0,
           0
          ],
          [
           "325-BISPHOSPHATE-NUCLEOTIDASE-RXN",
           "3-5-ADP[c] + WATER[c] --> AMP[c] + Pi[c]",
           0.01018953256549603,
           0.005847381863637116
          ],
          [
           "3PGAREARR-RXN",
           "2-PG[c] <=> G3P[c]",
           -0.5178456150100924,
           -0.6558836002947854
          ],
          [
           "4.2.1.58-RXN",
           "Beta-3-hydroxybutyryl-ACPs[c] --> Crotonyl-ACPs[c] + WATER[c]",
           0.011514277394312747,
           0
          ],
          [
           "4.2.1.59-RXN",
           "3-Hydroxy-octanoyl-ACPs[c] --> 2-Octenoyl-ACPs[c] + WATER[c]",
           0.011514277394312747,
           0.017606955460358596
          ],
          [
           "4.2.1.61-RXN",
           "R-3-Hydroxypalmitoyl-ACPs[c] --> 2-Hexadecenoyl-ACPs[c] + WATER[c]",
           0.011514277394312747,
           0
          ],
          [
           "5-OXOPROLINASE-ATP-HYDROLYSING-RXN",
           "5-OXOPROLINE[c] + ATP[c] + 2.0 WATER[c] <=> ADP[c] + GLT[c] + PROTON[c] + Pi[c]",
           0,
           0
          ],
          [
           "6PFRUCTPHOS-RXN",
           "ATP[c] + FRUCTOSE-6P[c] --> ADP[c] + FRUCTOSE-16-DIPHOSPHATE[c] + PROTON[c]",
           0.3718583630725432,
           0
          ],
          [
           "6PGLUCONOLACT-RXN",
           "D-6-P-GLUCONO-DELTA-LACTONE[c] + WATER[c] --> CPD-2961[c] + PROTON[c]",
           0.07020261420388149,
           0
          ],
          [
           "ABC-24-RXN",
           "ATP[c] + SPERMIDINE[p] + WATER[c] --> ADP[c] + PROTON[c] + Pi[c] + SPERMIDINE[c]",
           0,
           0
          ],
          [
           "ABC-27-RXN",
           "ATP[c] + Pi[p] + WATER[c] --> ADP[c] + PROTON[c] + 2.0 Pi[c]",
           0,
           0
          ],
          [
           "ABC-32-RXN",
           "ATP[c] + THIAMINE[p] + WATER[c] --> ADP[c] + PROTON[c] + Pi[c] + THIAMINE[c]",
           0.000009234412704389558,
           0
          ],
          [
           "ACETALD-DEHYDROG-RXN",
           "ACETALD[c] + CO-A[c] + NAD[c] <=> ACETYL-COA[c] + NADH[c] + PROTON[c]",
           -0.00002385211532612841,
           0.19075113137512759
          ],
          [
           "ACETATE--COA-LIGASE-RXN",
           "ACET[c] + ATP[c] + CO-A[c] --> ACETYL-COA[c] + AMP[c] + PPI[c]",
           0.01018953256549603,
           0
          ],
          [
           "ACETOLACTREDUCTOISOM-RXN",
           "2-ACETO-LACTATE[c] + NADPH[c] + PROTON[c] --> CPD-13357[c] + NADP[c]",
           0.03620341148275315,
           0.05533326147636789
          ],
          [
           "ACETOLACTSYN-RXN",
           "PROTON[c] + 2.0 PYRUVATE[c] --> 2-ACETO-LACTATE[c] + CARBON-DIOXIDE[c]",
           0.03620341148275315,
           0.05533326147636789
          ],
          [
           "ACETOOHBUTREDUCTOISOM-RXN",
           "2-ACETO-2-HYDROXY-BUTYRATE[c] + NADPH[c] + PROTON[c] --> 1-KETO-2-METHYLVALERATE[c] + NADP[c]",
           0.012030783356921945,
           0.01838783843813252
          ],
          [
           "ACETOOHBUTSYN-RXN",
           "2-OXOBUTANOATE[c] + PROTON[c] + PYRUVATE[c] --> 2-ACETO-2-HYDROXY-BUTYRATE[c] + CARBON-DIOXIDE[c]",
           0.012030783356921945,
           0.01838783843813252
          ],
          [
           "ACETYLGLUTKIN-RXN",
           "ACETYL-GLU[c] + ATP[c] --> ADP[c] + N-ACETYL-GLUTAMYL-P[c]",
           0.03467124435242844,
           0.018720938382371793
          ],
          [
           "ACETYLORNDEACET-RXN",
           "N-ALPHA-ACETYLORNITHINE[c] + WATER[c] --> ACET[c] + L-ORNITHINE[c]",
           0,
           0.018720938382371793
          ],
          [
           "ACETYLORNTRANSAM-RXN",
           "CPD-469[c] + GLT[c] --> 2-KETOGLUTARATE[c] + N-ALPHA-ACETYLORNITHINE[c]",
           0.03467124435242844,
           0.018720938382371793
          ],
          [
           "ACONITATEDEHYDR-RXN",
           "CIT[c] <=> CIS-ACONITATE[c] + WATER[c]",
           0,
           0.06712815138866696
          ],
          [
           "ACONITATEHYDR-RXN",
           "CIS-ACONITATE[c] + WATER[c] <=> THREO-DS-ISO-CITRATE[c]",
           0,
           0.06712815138866696
          ],
          [
           "ACSERLY-RXN",
           "ACETYLSERINE[c] + HS[c] --> ACET[c] + CYS[c] + PROTON[c]",
           0.003816172812492028,
           0.005847381863637116
          ],
          [
           "ADCLY-RXN",
           "4-AMINO-4-DEOXYCHORISMATE[c] --> P-AMINO-BENZOATE[c] + PROTON[c] + PYRUVATE[c]",
           0.000027703238113158113,
           0.00004234160416038062
          ],
          [
           "ADDALT-RXN",
           "DEOXYADENOSINE[c] + PROTON[c] + WATER[c] --> AMMONIUM[c] + DEOXYINOSINE[c]",
           0,
           0
          ],
          [
           "ADENINE-DEAMINASE-RXN",
           "ADENINE[c] + PROTON[c] + WATER[c] --> AMMONIUM[c] + HYPOXANTHINE[c]",
           0,
           0
          ],
          [
           "ADENODEAMIN-RXN",
           "ADENOSINE[c] + PROTON[c] + WATER[c] --> AMMONIUM[c] + INOSINE[c]",
           0,
           0.00003075937163220335
          ],
          [
           "ADENOSYLHOMOCYSTEINE-NUCLEOSIDASE-RXN",
           "ADENOSYL-HOMO-CYS[c] + WATER[c] --> ADENINE[c] + CPD-564[c]",
           0,
           0.00003075937163220335
          ],
          [
           "ADENPHOSPHOR-RXN",
           "ADENOSINE[c] + Pi[c] <=> ADENINE[c] + RIBOSE-1P[c]",
           0,
           -0.00003075937163220335
          ],
          [
           "ADENPRIBOSYLTRAN-RXN",
           "ADENINE[c] + PRPP[c] --> AMP[c] + PPI[c]",
           0,
           0
          ],
          [
           "ADENYL-KIN-RXN",
           "AMP[c] + ATP[c] <=> 2.0 ADP[c]",
           -0.03203889840268653,
           0.12287824665424782
          ],
          [
           "ADENYLATECYC-RXN",
           "ATP[c] <=> CAMP[c] + PPI[c]",
           0,
           0
          ],
          [
           "ADENYLOSUCCINATE-SYNTHASE-RXN",
           "GTP[c] + IMP[c] + L-ASPARTATE[c] --> ADENYLOSUCC[c] + GDP[c] + 2.0 PROTON[c] + Pi[c]",
           0.012383016157205582,
           0.018955620995552133
          ],
          [
           "ADENYLYLSULFKIN-RXN",
           "APS[c] + ATP[c] --> ADP[c] + PAPS[c] + PROTON[c]",
           0.01018953256549603,
           0.005847381863637116
          ],
          [
           "ADPREDUCT-RXN",
           "ADP[c] + Red-Thioredoxin[c] --> DADP[c] + Ox-Thioredoxin[c] + WATER[c]",
           0.0010835320305966688,
           0
          ],
          [
           "AGMATIN-RXN",
           "AGMATHINE[c] + WATER[c] --> PUTRESCINE[c] + UREA[c]",
           0,
           0
          ],
          [
           "AICARSYN-RXN",
           "P-RIBOSYL-4-SUCCCARB-AMINOIMIDAZOLE[c] --> AICAR[c] + FUM[c]",
           0.018531975540500664,
           0.02794476254606697
          ],
          [
           "AIRS-RXN",
           "5-PHOSPHORIBOSYL-N-FORMYLGLYCINEAMIDINE[c] + ATP[c] --> 5-PHOSPHORIBOSYL-5-AMINOIMIDAZOLE[c] + ADP[c] + PROTON[c] + Pi[c]",
           0.018531975540500664,
           0.02794476254606697
          ],
          [
           "AKBLIG-RXN",
           "ACETYL-COA[c] + GLY[c] <=> AMINO-OXOBUT[c] + CO-A[c]",
           0,
           0
          ],
          [
           "ALARACECAT-RXN",
           "L-ALPHA-ALANINE[c] --> D-ALANINE[c]",
           0,
           0.0017587271994149564
          ],
          [
           "ALCOHOL-DEHYDROG-GENERIC-RXN-OCTANOL/NAD//CPD-371/NADH/PROTON.33.",
           "NAD[c] + OCTANOL[c] <=> CPD-371[c] + NADH[c] + PROTON[c]",
           0,
           0
          ],
          [
           "ALCOHOL-DEHYDROG-RXN",
           "ETOH[c] + NAD[c] <=> ACETALD[c] + NADH[c] + PROTON[c]",
           0,
           0
          ],
          [
           "ALDOSE-1-EPIMERASE-RXN",
           "ALPHA-GLUCOSE[c] <=> GLC[c]",
           0,
           0
          ],
          [
           "ALLANTOATE-DEIMINASE-RXN",
           "ALLANTOATE[c] + 2.0 PROTON[c] + WATER[c] --> AMMONIUM[c] + CARBON-DIOXIDE[c] + CPD0-2298[c]",
           0,
           0
          ],
          [
           "ALLANTOINASE-RXN",
           "S-ALLANTOIN[c] + WATER[c] --> ALLANTOATE[c] + PROTON[c]",
           0,
           0
          ],
          [
           "AMINOBUTDEHYDROG-RXN",
           "4-AMINO-BUTYRALDEHYDE[c] + NAD[c] + WATER[c] --> 4-AMINO-BUTYRATE[c] + NADH[c] + 2.0 PROTON[c]",
           0.022422520573698406,
           0
          ],
          [
           "AMP-DEPHOSPHORYLATION-RXN",
           "AMP[c] + WATER[c] --> ADENOSINE[c] + Pi[c]",
           0,
           0
          ],
          [
           "AMP-NUCLEOSID-RXN",
           "AMP[c] + WATER[c] --> ADENINE[c] + CPD-15317[c]",
           0,
           0
          ],
          [
           "AMP-NUCLEOSID-RXN-AMP/WATER//CPD-15318/ADENINE.29.",
           "AMP[c] + WATER[c] --> ADENINE[c] + CPD-15318[c]",
           0,
           0
          ],
          [
           "AMP-NUCLEOSID-RXN-AMP/WATER//CPD-16551/ADENINE.29.",
           "AMP[c] + WATER[c] --> ADENINE[c] + CPD-16551[c]",
           0,
           0
          ],
          [
           "AMPSYN-RXN",
           "ADENYLOSUCC[c] --> AMP[c] + FUM[c]",
           0.012383016157205582,
           0.018955620995552133
          ],
          [
           "ARGSUCCINLYA-RXN",
           "L-ARGININO-SUCCINATE[c] --> ARG[c] + FUM[c]",
           0.012248723778730028,
           0.018720938382371793
          ],
          [
           "ARGSUCCINSYN-RXN",
           "ATP[c] + L-ASPARTATE[c] + L-CITRULLINE[c] --> AMP[c] + L-ARGININO-SUCCINATE[c] + PPI[c] + PROTON[c]",
           0.012248723778730028,
           0.018720938382371793
          ],
          [
           "ASPARTASE-RXN",
           "L-ASPARTATE[c] <=> AMMONIUM[c] + FUM[c]",
           -0.18798903900557695,
           -0.06557898031983066
          ],
          [
           "ASPARTATE-SEMIALDEHYDE-DEHYDROGENASE-RXN",
           "L-ASPARTATE-SEMIALDEHYDE[c] + NADP[c] + Pi[c] <=> L-BETA-ASPARTYL-P[c] + NADPH[c] + PROTON[c]",
           -0.044270271423912835,
           -0.102648021011094
          ],
          [
           "ASPARTATEKIN-RXN",
           "ATP[c] + L-ASPARTATE[c] --> ADP[c] + L-BETA-ASPARTYL-P[c]",
           0.044270271423912835,
           0.102648021011094
          ],
          [
           "ASPCARBTRANS-RXN",
           "CARBAMOYL-P[c] + L-ASPARTATE[c] --> CARBAMYUL-L-ASPARTATE[c] + PROTON[c] + Pi[c]",
           0.013698195293939655,
           0.020682955914467067
          ],
          [
           "ATPASE-RXN",
           "ATP[c] + WATER[c] --> ADP[c] + PROTON[c] + Pi[c]",
           0,
           0
          ],
          [
           "ATPM",
           "ATP[c] + WATER[c] --> ADP[c] + PROTON[c] + Pi[c]",
           0,
           0
          ],
          [
           "ATPSYN-RXN",
           "ATP[c] + 3.0 PROTON[c] + WATER[c] <=> ADP[c] + 4.0 PROTON[p] + Pi[c]",
           -2.355324688654161,
           -7.431867610724271
          ],
          [
           "BIOTIN-CARBOXYL-RXN",
           "ATP[c] + HCO3[c] + biotin-L-lysine-in-BCCP-dimers[c] --> ADP[c] + PROTON[c] + Pi[c] + carboxybiotin-L-lysine-in-BCCP-dimers[c]",
           0,
           0.12324552367810357
          ],
          [
           "BRANCHED-CHAINAMINOTRANSFERILEU-RXN",
           "2-KETOGLUTARATE[c] + ILE[c] <=> 2-KETO-3-METHYL-VALERATE[c] + GLT[c]",
           -0.012030783356921945,
           -0.01838783843813252
          ],
          [
           "CARNDETRU-RXN",
           "L-CARNITINYL-COA[c] <=> CROTONOBETAINYL-COA[c] + WATER[c]",
           0,
           0
          ],
          [
           "CATAL-RXN",
           "2.0 HYDROGEN-PEROXIDE[c] --> OXYGEN-MOLECULE[c] + 2.0 WATER[c]",
           0.000004617206352194779,
           0.000007056934026731487
          ],
          [
           "CDPKIN-RXN",
           "ATP[c] + CDP[c] --> ADP[c] + CTP[c]",
           0.004761147242600414,
           0.018663660128612248
          ],
          [
           "CDPREDUCT-RXN",
           "CDP[c] + Red-Thioredoxin[c] --> DCDP[c] + Ox-Thioredoxin[c] + WATER[c]",
           0,
           0
          ],
          [
           "CHORISMATE-SYNTHASE-RXN",
           "3-ENOLPYRUVYL-SHIKIMATE-5P[c] --> CHORISMATE[c] + Pi[c]",
           0.01577287381816665,
           0.024093132257913055
          ],
          [
           "CHORISMATEMUT-RXN",
           "CHORISMATE[c] --> PREPHENATE[c]",
           0.01338207194602347,
           0.02045314669965939
          ],
          [
           "CHORPYRLY-RXN",
           "CHORISMATE[c] --> 4-hydroxybenzoate[c] + PYRUVATE[c]",
           0.000009234412704389558,
           0
          ],
          [
           "CO2tex",
           "CARBON-DIOXIDE[e] <=> CARBON-DIOXIDE[p]",
           -0.9405683699928626,
           0
          ],
          [
           "CO2tpp",
           "CARBON-DIOXIDE[p] <=> CARBON-DIOXIDE[c]",
           -0.9405683699928626,
           -0.11650494915573856
          ],
          [
           "CPM-KDOSYNTH-RXN",
           "CTP[c] + KDO[c] --> CMP-KDO[c] + PPI[c]",
           0,
           0.000002531635525284226
          ],
          [
           "CROBETREDUCT-RXN",
           "CROTONOBETAINYL-COA[c] + ETF-Reduced[c] --> ETF-Oxidized[c] + GAMMA-BUTYROBETAINYL-COA[c] + PROTON[c]",
           0,
           0
          ],
          [
           "CYTDEAM-RXN",
           "CYTOSINE[c] + PROTON[c] + WATER[c] --> AMMONIUM[c] + URACIL[c]",
           0,
           0
          ],
          [
           "CYTIDEAM-RXN",
           "DEOXYCYTIDINE[c] + PROTON[c] + WATER[c] --> AMMONIUM[c] + DEOXYURIDINE[c]",
           0,
           0
          ],
          [
           "CYTIDEAM2-RXN",
           "CYTIDINE[c] + PROTON[c] + WATER[c] --> AMMONIUM[c] + URIDINE[c]",
           0,
           0
          ],
          [
           "D-PPENTOMUT-RXN",
           "DEOXY-D-RIBOSE-1-PHOSPHATE[c] --> DEOXY-RIBOSE-5P[c]",
           0,
           0
          ],
          [
           "DADPKIN-RXN",
           "ATP[c] + DADP[c] --> ADP[c] + DATP[c]",
           0,
           0
          ],
          [
           "DAHPSYN-RXN",
           "ERYTHROSE-4P[c] + PHOSPHO-ENOL-PYRUVATE[c] + WATER[c] --> 3-DEOXY-D-ARABINO-HEPTULOSONATE-7-P[c] + Pi[c]",
           0.01577287381816665,
           0.024093132257913055
          ],
          [
           "DALADALALIG-RXN",
           "ATP[c] + 2.0 D-ALANINE[c] --> ADP[c] + D-ALA-D-ALA[c] + PROTON[c] + Pi[c]",
           0.0011506989247963095,
           0.0008793635997074782
          ],
          [
           "DCDPKIN-RXN",
           "ATP[c] + DCDP[c] --> ADP[c] + DCTP[c]",
           0.0011187718745941375,
           0
          ],
          [
           "DCTP-DEAM-RXN",
           "DCTP[c] + PROTON[c] + WATER[c] --> AMMONIUM[c] + DUTP[c]",
           0,
           0
          ],
          [
           "DCTP-PYROPHOSPHATASE-RXN",
           "DCTP[c] + WATER[c] --> DCMP[c] + PPI[c] + PROTON[c]",
           0,
           0
          ],
          [
           "DEHYDDEOXGALACTKIN-RXN",
           "2-DEHYDRO-3-DEOXY-D-GALACTONATE[c] + ATP[c] <=> ADP[c] + DEHYDRO-DEOXY-GALACTONATE-PHOSPHATE[c] + PROTON[c]",
           0,
           0
          ],
          [
           "DEOXYADENPHOSPHOR-RXN",
           "DEOXYADENOSINE[c] + Pi[c] --> ADENINE[c] + DEOXY-D-RIBOSE-1-PHOSPHATE[c]",
           0,
           0
          ],
          [
           "DEOXYGLUCONOKIN-RXN",
           "2-DEHYDRO-3-DEOXY-D-GLUCONATE[c] + ATP[c] --> 2-KETO-3-DEOXY-6-P-GLUCONATE[c] + ADP[c] + PROTON[c]",
           0,
           0
          ],
          [
           "DEOXYGUANPHOSPHOR-RXN",
           "DEOXYGUANOSINE[c] + Pi[c] <=> DEOXY-D-RIBOSE-1-PHOSPHATE[c] + GUANINE[c]",
           0,
           0
          ],
          [
           "DEOXYINOPHOSPHOR-RXN",
           "DEOXYINOSINE[c] + Pi[c] <=> DEOXY-D-RIBOSE-1-PHOSPHATE[c] + HYPOXANTHINE[c]",
           0,
           0
          ],
          [
           "DEOXYRIBOSE-P-ALD-RXN",
           "DEOXY-RIBOSE-5P[c] --> ACETALD[c] + GAP[c]",
           0,
           0
          ],
          [
           "DEPHOSPHOCOAKIN-RXN",
           "ATP[c] + DEPHOSPHO-COA[c] --> ADP[c] + CO-A[c] + PROTON[c]",
           0.00002385211532612841,
           0.000036455551564101205
          ],
          [
           "DGDPKIN-RXN",
           "ATP[c] + DGDP[c] --> ADP[c] + DGTP[c]",
           0,
           0
          ],
          [
           "DGTPTRIPHYDRO-RXN",
           "DGTP[c] + WATER[c] --> DEOXYGUANOSINE[c] + P3I[c] + PROTON[c]",
           0,
           0
          ],
          [
           "DHBAMPLIG-RXN",
           "2-3-DIHYDROXYBENZOATE[c] + ATP[c] + PROTON[c] --> CPD-62[c] + PPI[c]",
           0,
           0
          ],
          [
           "DHBDEHYD-RXN",
           "DIHYDRO-DIOH-BENZOATE[c] + NAD[c] --> 2-3-DIHYDROXYBENZOATE[c] + NADH[c] + PROTON[c]",
           0,
           0
          ],
          [
           "DIAMINOPIMDECARB-RXN",
           "MESO-DIAMINOPIMELATE[c] + PROTON[c] --> CARBON-DIOXIDE[c] + LYS[c]",
           0.014210270394847646,
           0.021719597371182828
          ],
          [
           "DIAMINOPIMEPIM-RXN",
           "LL-DIAMINOPIMELATE[c] --> MESO-DIAMINOPIMELATE[c]",
           0.015360969319643956,
           0.022598960970890303
          ],
          [
           "DIHYDRODIPICSYN-RXN",
           "L-ASPARTATE-SEMIALDEHYDE[c] + PYRUVATE[c] --> CPD-14443[c] + PROTON[c] + WATER[c]",
           0.015360969319643956,
           0.022598960970890303
          ],
          [
           "DIHYDROFOLATESYNTH-RXN",
           "7-8-DIHYDROPTEROATE[c] + ATP[c] + GLT[c] --> ADP[c] + DIHYDROFOLATE[c] + PROTON[c] + Pi[c]",
           0.000027703238113158113,
           0.00004234160416038062
          ],
          [
           "DIHYDRONEOPTERIN-MONO-P-DEPHOS-RXN",
           "DIHYDRONEOPTERIN-P[c] + WATER[c] --> DIHYDRO-NEO-PTERIN[c] + Pi[c]",
           0.000027703238113158113,
           0.00004234160416038062
          ],
          [
           "DIHYDROURACIL-DEHYDROGENASE-NAD+-RXN",
           "DI-H-URACIL[c] + NAD[c] <=> NADH[c] + PROTON[c] + URACIL[c]",
           0,
           0
          ],
          [
           "DIHYDROXYISOVALDEHYDRAT-RXN",
           "CPD-13357[c] --> 2-KETO-ISOVALERATE[c] + WATER[c]",
           0.03620341148275315,
           0.05533326147636789
          ],
          [
           "DIHYDROXYMETVALDEHYDRAT-RXN",
           "1-KETO-2-METHYLVALERATE[c] --> 2-KETO-3-METHYL-VALERATE[c] + WATER[c]",
           0.012030783356921945,
           0.01838783843813252
          ],
          [
           "DIOHBUTANONEPSYN-RXN",
           "RIBULOSE-5P[c] --> DIHYDROXY-BUTANONE-P[c] + FORMATE[c] + PROTON[c]",
           0.000036937650817558234,
           0.000056455472213838237
          ],
          [
           "DLACTDEHYDROGNAD-RXN",
           "NADH[c] + PROTON[c] + PYRUVATE[c] --> D-LACTATE[c] + NAD[c]",
           0,
           0
          ],
          [
           "DTMPKI-RXN",
           "ATP[c] + TMP[c] --> ADP[c] + TDP[c]",
           0,
           0.0016560693788646762
          ],
          [
           "DUDPKIN-RXN",
           "ATP[c] + DUDP[c] --> ADP[c] + DUTP[c]",
           0.0010835320305966688,
           0
          ],
          [
           "DURIDKI-RXN",
           "ATP[c] + DEOXYURIDINE[c] --> ADP[c] + DUMP[c] + PROTON[c]",
           0,
           -2.168404344971009e-18
          ],
          [
           "DUTP-PYROP-RXN",
           "DUTP[c] + WATER[c] --> DUMP[c] + PPI[c] + PROTON[c]",
           0.0010835320305966688,
           0
          ],
          [
           "DXS-RXN",
           "GAP[c] + PROTON[c] + PYRUVATE[c] --> CARBON-DIOXIDE[c] + DEOXYXYLULOSE-5P[c]",
           0.0001081627174164381,
           0.009838315396583296
          ],
          [
           "ENOYL-COA-DELTA-ISOM-RXN-POLYMER-INST-CIS-DELTA3-ENOYL-COA-C0-H0//CROTONYL-COA.54.",
           "POLYMER-INST-CIS-DELTA3-ENOYL-COA-C0-H0[c] --> CROTONYL-COA[c]",
           0,
           0
          ],
          [
           "ENOYL-COA-DELTA-ISOM-RXN-POLYMER-INST-CIS-DELTA3-ENOYL-COA-C12-H24//CPD0-2117.53.",
           "POLYMER-INST-CIS-DELTA3-ENOYL-COA-C12-H24[c] <=> CPD0-2117[c]",
           -0.006229211812986154,
           0
          ],
          [
           "ENOYL-COA-DELTA-ISOM-RXN-POLYMER-INST-CIS-DELTA3-ENOYL-COA-C2-H4//CPD0-2121.51.",
           "POLYMER-INST-CIS-DELTA3-ENOYL-COA-C2-H4[c] --> CPD0-2121[c]",
           0,
           0
          ],
          [
           "ENOYL-COA-HYDRAT-RXN-POLYMER-INST-L-3-HYDROXYACYL-COA-C12-H24//CPD0-2117/WATER.58.",
           "CPD0-2117[c] + WATER[c] --> POLYMER-INST-L-3-HYDROXYACYL-COA-C12-H24[c]",
           0,
           0
          ],
          [
           "ENTF-RXN",
           "ATP[c] + PROTON[c] + SER[c] --> PPI[c] + SERYL-AMP[c]",
           0,
           0
          ],
          [
           "ENTG-RXN",
           "3.0 DHB-Seryl-EntF[c] --> ENTEROBACTIN[c] + 3.0 Holo-EntF[c]",
           0,
           0
          ],
          [
           "ERYTH4PDEHYDROG-RXN",
           "ERYTHROSE-4P[c] + NAD[c] + WATER[c] --> ERYTHRONATE-4P[c] + NADH[c] + 2.0 PROTON[c]",
           0.000009234412704389558,
           0.000014113868053459559
          ],
          [
           "ERYTHRON4PDEHYDROG-RXN",
           "ERYTHRONATE-4P[c] + NAD[c] --> 3OH-4P-OH-ALPHA-KETOBUTYRATE[c] + NADH[c] + PROTON[c]",
           0.000009234412704389558,
           0.000014113868053459559
          ],
          [
           "F16ALDOLASE-RXN",
           "FRUCTOSE-16-DIPHOSPHATE[c] <=> DIHYDROXY-ACETONE-PHOSPHATE[c] + GAP[c]",
           0.3718583630725432,
           0
          ],
          [
           "F16BDEPHOS-RXN",
           "FRUCTOSE-16-DIPHOSPHATE[c] + WATER[c] --> FRUCTOSE-6P[c] + Pi[c]",
           0,
           0
          ],
          [
           "FADSYN-RXN",
           "ATP[c] + FMN[c] + PROTON[c] --> FAD[c] + PPI[c]",
           0.000009234412704389558,
           0.000014113868053459559
          ],
          [
           "FE2tpp",
           "FE+2[p] <=> FE+2[c]",
           0.0002780676291927169,
           0.0009258191115964451
          ],
          [
           "FGAMSYN-RXN",
           "5-P-RIBOSYL-N-FORMYLGLYCINEAMIDE[c] + ATP[c] + GLN[c] + WATER[c] --> 5-PHOSPHORIBOSYL-N-FORMYLGLYCINEAMIDINE[c] + ADP[c] + GLT[c] + PROTON[c] + Pi[c]",
           0.018531975540500664,
           0.02794476254606697
          ],
          [
           "FPPSYN-RXN",
           "DELTA3-ISOPENTENYL-PP[c] + GERANYL-PP[c] --> FARNESYL-PP[c] + PPI[c]",
           0.000011511958438656111,
           0.0008969584666082036
          ],
          [
           "FRUCTOKINASE-RXN",
           "ATP[c] + BETA-D-FRUCTOSE[c] --> ADP[c] + FRUCTOSE-6P[c] + PROTON[c]",
           0,
           0
          ],
          [
           "FUCPALDOL-RXN",
           "FUCULOSE-1P[c] <=> DIHYDROXY-ACETONE-PHOSPHATE[c] + LACTALD[c]",
           0,
           0
          ],
          [
           "FUMHYDR-RXN",
           "MAL[c] --> FUM[c] + WATER[c]",
           0.0612152530967777,
           0
          ],
          [
           "GABATRANSAM-RXN",
           "2-KETOGLUTARATE[c] + 4-AMINO-BUTYRATE[c] --> GLT[c] + SUCC-S-ALD[c]",
           0.022422520573698406,
           0
          ],
          [
           "GALACTARDEHYDRA-RXN",
           "D-GALACTARATE[c] --> 5-KETO-4-DEOXY-D-GLUCARATE[c] + WATER[c]",
           0,
           0
          ],
          [
           "GAPOXNPHOSPHN-RXN",
           "GAP[c] + NAD[c] + Pi[c] <=> DPG[c] + NADH[c] + PROTON[c]",
           0.7401109571485186,
           0.7089142654215266
          ],
          [
           "GCVP-RXN",
           "GLY[c] + PROTEIN-LIPOYLLYSINE[c] + PROTON[c] <=> AMINOMETHYLDIHYDROLIPOYL-GCVH[c] + CARBON-DIOXIDE[c]",
           0.15750096881898087,
           0
          ],
          [
           "GCVT-RXN",
           "AMINOMETHYLDIHYDROLIPOYL-GCVH[c] + THF-GLU-N[c] <=> AMMONIUM[c] + DIHYDROLIPOYL-GCVH[c] + METHYLENE-THF-GLU-N[c]",
           0.15750096881898087,
           0
          ],
          [
           "GDPKIN-RXN",
           "ATP[c] + GDP[c] --> ADP[c] + GTP[c]",
           0,
           0.033971574077558596
          ],
          [
           "GDPREDUCT-RXN",
           "GDP[c] + Red-Thioredoxin[c] --> DGDP[c] + Ox-Thioredoxin[c] + WATER[c]",
           0,
           0
          ],
          [
           "GLU6PDEHYDROG-RXN",
           "D-glucopyranose-6-phosphate[c] + NADP[c] --> D-6-P-GLUCONO-DELTA-LACTONE[c] + NADPH[c] + PROTON[c]",
           0.07020261420388149,
           0
          ],
          [
           "GLUCOKIN-RXN-ALPHA-GLUCOSE/ATP//D-glucopyranose-6-phosphate/ADP/PROTON.58.",
           "ALPHA-GLUCOSE[c] + ATP[c] --> ADP[c] + D-glucopyranose-6-phosphate[c] + PROTON[c]",
           0,
           0
          ],
          [
           "GLUCOKIN-RXN-GLC/ATP//D-glucopyranose-6-phosphate/ADP/PROTON.48.",
           "ATP[c] + GLC[c] --> ADP[c] + D-glucopyranose-6-phosphate[c] + PROTON[c]",
           0,
           0
          ],
          [
           "GLUCONATE-5-DEHYDROGENASE-RXN-GLUCONATE/NADP//5-DEHYDROGLUCONATE/NADPH/PROTON.48.",
           "5-DEHYDROGLUCONATE[c] + NADPH[c] + PROTON[c] --> GLUCONATE[c] + NADP[c]",
           0,
           0
          ],
          [
           "GLUCONOKIN-RXN",
           "ATP[c] + GLUCONATE[c] --> ADP[c] + CPD-2961[c] + PROTON[c]",
           0,
           0
          ],
          [
           "GLURS-RXN",
           "ATP[c] + GLT-tRNAs[c] + GLT[c] --> AMP[c] + Charged-GLT-tRNAs[c] + PPI[c]",
           0,
           0.016881452009700277
          ],
          [
           "GLUTAMINESYN-RXN",
           "AMMONIUM[c] + ATP[c] + GLT[c] --> ADP[c] + GLN[c] + PROTON[c] + Pi[c]",
           0,
           0.0743064140479191
          ],
          [
           "GLUTATHIONE-PEROXIDASE-RXN",
           "2.0 GLUTATHIONE[c] + HYDROGEN-PEROXIDE[c] --> OXIDIZED-GLUTATHIONE[c] + 2.0 WATER[c]",
           0,
           0
          ],
          [
           "GLUTATHIONE-REDUCT-NADPH-RXN",
           "NADPH[c] + OXIDIZED-GLUTATHIONE[c] + PROTON[c] --> 2.0 GLUTATHIONE[c] + NADP[c]",
           0.003321075779784944,
           0
          ],
          [
           "GLUTATHIONE-SYN-RXN",
           "ATP[c] + GLY[c] + L-GAMMA-GLUTAMYLCYSTEINE[c] --> ADP[c] + GLUTATHIONE[c] + PROTON[c] + Pi[c]",
           0,
           0
          ],
          [
           "GLUTCYSLIG-RXN",
           "ATP[c] + CYS[c] + GLT[c] --> ADP[c] + L-GAMMA-GLUTAMYLCYSTEINE[c] + PROTON[c] + Pi[c]",
           0,
           0
          ],
          [
           "GLUTDEHYD-RXN",
           "GLT[c] + NADP[c] + WATER[c] <=> 2-KETOGLUTARATE[c] + AMMONIUM[c] + NADPH[c] + PROTON[c]",
           -0.1202531428930746,
           -0.45088669210685617
          ],
          [
           "GLUTKIN-RXN",
           "ATP[c] + GLT[c] --> ADP[c] + L-GLUTAMATE-5-P[c]",
           0.009153870405241406,
           0.013990767276042614
          ],
          [
           "GLUTRACE-RXN",
           "GLT[c] --> D-GLT[c]",
           0.002876747311990774,
           0.0008793635997074782
          ],
          [
           "GLUTRNAREDUCT-RXN",
           "Charged-GLT-tRNAs[c] + NADPH[c] + PROTON[c] --> GLT-tRNAs[c] + GLUTAMATE-1-SEMIALDEHYDE[c] + NADP[c]",
           0,
           0.00022582188885535295
          ],
          [
           "GLYC3PDEHYDROGBIOSYN-RXN-GLYCEROL-3P/NADP//DIHYDROXY-ACETONE-PHOSPHATE/NADPH/PROTON.59.",
           "DIHYDROXY-ACETONE-PHOSPHATE[c] + NADPH[c] + PROTON[c] --> GLYCEROL-3P[c] + NADP[c]",
           0,
           0
          ],
          [
           "GLYCEROL-KIN-RXN",
           "ATP[c] + GLYCEROL[c] --> ADP[c] + GLYCEROL-3P[c] + PROTON[c]",
           0,
           0
          ],
          [
           "GLYOXI-RXN",
           "GLUTATHIONE[c] + METHYL-GLYOXAL[c] --> S-LACTOYL-GLUTATHIONE[c]",
           0,
           0
          ],
          [
           "GLYOXII-RXN",
           "S-LACTOYL-GLUTATHIONE[c] + WATER[c] --> D-LACTATE[c] + GLUTATHIONE[c] + PROTON[c]",
           0,
           0
          ],
          [
           "GLYOXIII-RXN",
           "METHYL-GLYOXAL[c] + WATER[c] --> D-LACTATE[c] + PROTON[c]",
           0,
           0
          ],
          [
           "GLYRIBONUCSYN-RXN",
           "5-P-BETA-D-RIBOSYL-AMINE[c] + ATP[c] + GLY[c] --> 5-PHOSPHO-RIBOSYL-GLYCINEAMIDE[c] + ADP[c] + PROTON[c] + Pi[c]",
           0.018531975540500664,
           0.02794476254606697
          ],
          [
           "GPPSYN-RXN",
           "CPD-4211[c] + DELTA3-ISOPENTENYL-PP[c] --> GERANYL-PP[c] + PPI[c]",
           0.000011511958438656111,
           0.0008969584666082036
          ],
          [
           "GSAAMINOTRANS-RXN",
           "GLUTAMATE-1-SEMIALDEHYDE[c] --> 5-AMINO-LEVULINATE[c]",
           0,
           0.00022582188885535295
          ],
          [
           "GTP-CYCLOHYDRO-I-RXN",
           "GTP[c] + WATER[c] --> DIHYDRONEOPTERIN-P3[c] + FORMATE[c] + PROTON[c]",
           0.000027703238113158113,
           0.00004234160416038062
          ],
          [
           "GUANINE-DEAMINASE-RXN",
           "GUANINE[c] + PROTON[c] + WATER[c] --> AMMONIUM[c] + XANTHINE[c]",
           0,
           0
          ],
          [
           "GUANPRIBOSYLTRAN-RXN",
           "GUANINE[c] + PRPP[c] --> GMP[c] + PPI[c]",
           0,
           0
          ],
          [
           "GUANYL-KIN-RXN",
           "ATP[c] + GMP[c] <=> ADP[c] + GDP[c]",
           0.01007205261553032,
           0.015015953082006464
          ],
          [
           "H2NEOPTERINALDOL-RXN",
           "DIHYDRO-NEO-PTERIN[c] --> AMINO-OH-HYDROXYMETHYL-DIHYDROPTERIDINE[c] + GLYCOLALDEHYDE[c]",
           0.000027703238113158113,
           0.00004234160416038062
          ],
          [
           "H2NEOPTERINP3PYROPHOSPHOHYDRO-RXN",
           "DIHYDRONEOPTERIN-P3[c] + WATER[c] --> DIHYDRONEOPTERIN-P[c] + PPI[c] + PROTON[c]",
           0.000027703238113158113,
           0.00004234160416038062
          ],
          [
           "H2Otex",
           "WATER[e] <=> WATER[p]",
           -2.0226853407198533,
           0
          ],
          [
           "H2Otpp",
           "WATER[p] <=> WATER[c]",
           -2.0226853407198533,
           0
          ],
          [
           "H2PTERIDINEPYROPHOSPHOKIN-RXN",
           "AMINO-OH-HYDROXYMETHYL-DIHYDROPTERIDINE[c] + ATP[c] --> AMP[c] + DIHYDROPTERIN-CH2OH-PP[c] + PROTON[c]",
           0.000027703238113158113,
           0.00004234160416038062
          ],
          [
           "H2PTEROATESYNTH-RXN",
           "DIHYDROPTERIN-CH2OH-PP[c] + P-AMINO-BENZOATE[c] --> 7-8-DIHYDROPTEROATE[c] + PPI[c]",
           0.000027703238113158113,
           0.00004234160416038062
          ],
          [
           "HISTALDEHYD-RXN",
           "HISTIDINAL[c] + NAD[c] + WATER[c] --> HIS[c] + NADH[c] + 2.0 PROTON[c]",
           0,
           0.005996052159859425
          ],
          [
           "HISTAMINOTRANS-RXN",
           "2-KETOGLUTARATE[c] + L-HISTIDINOL-P[c] <=> GLT[c] + IMIDAZOLE-ACETOL-P[c]",
           -0.003923093232235238,
           -0.005996052159859425
          ],
          [
           "HISTCYCLOHYD-RXN",
           "PHOSPHORIBOSYL-AMP[c] + WATER[c] --> PHOSPHORIBOSYL-FORMIMINO-AICAR-P[c]",
           0.003923093232235238,
           0.005996052159859425
          ],
          [
           "HISTIDPHOS-RXN",
           "L-HISTIDINOL-P[c] + WATER[c] --> HISTIDINOL[c] + Pi[c]",
           0.003923093232235238,
           0.005996052159859425
          ],
          [
           "HISTOLDEHYD-RXN",
           "HISTIDINOL[c] + NAD[c] <=> HISTIDINAL[c] + NADH[c] + PROTON[c]",
           0,
           0.005996052159859425
          ],
          [
           "HOMOSERDEHYDROG-RXN-HOMO-SER/NAD//L-ASPARTATE-SEMIALDEHYDE/NADH/PROTON.51.",
           "L-ASPARTATE-SEMIALDEHYDE[c] + NADH[c] + PROTON[c] --> HOMO-SER[c] + NAD[c]",
           0,
           0.0800490600402037
          ],
          [
           "HOMOSERDEHYDROG-RXN-HOMO-SER/NADP//L-ASPARTATE-SEMIALDEHYDE/NADPH/PROTON.53.",
           "L-ASPARTATE-SEMIALDEHYDE[c] + NADPH[c] + PROTON[c] --> HOMO-SER[c] + NADP[c]",
           0.028909302104268876,
           0
          ],
          [
           "HOMOSERKIN-RXN",
           "ATP[c] + HOMO-SER[c] --> ADP[c] + O-PHOSPHO-L-HOMOSERINE[c] + PROTON[c]",
           0.010505158994342931,
           0.08003431326326889
          ],
          [
           "HOMSUCTRAN-RXN",
           "HOMO-SER[c] + SUC-COA[c] --> CO-A[c] + O-SUCCINYL-L-HOMOSERINE[c]",
           0,
           0.000014746776934818073
          ],
          [
           "HYPOXANPRIBOSYLTRAN-RXN",
           "HYPOXANTHINE[c] + PRPP[c] --> IMP[c] + PPI[c]",
           0,
           0
          ],
          [
           "IGPSYN-RXN",
           "CARBOXYPHENYLAMINO-DEOXYRIBULOSE-P[c] + PROTON[c] --> CARBON-DIOXIDE[c] + INDOLE-3-GLYCEROL-P[c] + WATER[c]",
           0.0023538642213256303,
           0.003597643954093281
          ],
          [
           "IMIDPHOSDEHYD-RXN",
           "D-ERYTHRO-IMIDAZOLE-GLYCEROL-P[c] --> IMIDAZOLE-ACETOL-P[c] + WATER[c]",
           0.003923093232235238,
           0.005996052159859425
          ],
          [
           "IMP-DEHYDROG-RXN",
           "IMP[c] + NAD[c] + WATER[c] <=> NADH[c] + PROTON[c] + XANTHOSINE-5-PHOSPHATE[c]",
           0.01007205261553032,
           0.015015953082006464
          ],
          [
           "INOPHOSPHOR-RXN",
           "INOSINE[c] + Pi[c] --> HYPOXANTHINE[c] + RIBOSE-1P[c]",
           0,
           0
          ],
          [
           "INORGPYROPHOSPHAT-RXN",
           "PPI[c] + WATER[c] --> PROTON[c] + 2.0 Pi[c]",
           0,
           0.18854564434483748
          ],
          [
           "IPPISOM-RXN",
           "DELTA3-ISOPENTENYL-PP[c] <=> CPD-4211[c]",
           0.000011511958438656111,
           0
          ],
          [
           "ISOCHORMAT-RXN",
           "ISOCHORISMATE[c] + WATER[c] --> DIHYDRO-DIOH-BENZOATE[c] + PYRUVATE[c]",
           0,
           0
          ],
          [
           "ISOCHORSYN-RXN",
           "CHORISMATE[c] --> ISOCHORISMATE[c]",
           0,
           0
          ],
          [
           "ISPH2-RXN",
           "HYDROXY-METHYL-BUTENYL-DIP[c] + 2.0 PROTON[c] + 2.0 Reduced-ferredoxins[c] --> DELTA3-ISOPENTENYL-PP[c] + 2.0 Oxidized-ferredoxins[c] + WATER[c]",
           0.00009892830471204855,
           0.008927243061921632
          ],
          [
           "KDO-8PPHOSPHAT-RXN",
           "KDO-8P[c] + WATER[c] --> KDO[c] + Pi[c]",
           0,
           0.000002531635525284226
          ],
          [
           "KDO-8PSYNTH-RXN",
           "CPD-18118[c] + PHOSPHO-ENOL-PYRUVATE[c] + WATER[c] --> KDO-8P[c] + Pi[c]",
           0,
           0.000002531635525284226
          ],
          [
           "KDOTRANS-RXN",
           "CMP-KDO[c] + LIPID-IV-A[c] --> CMP[c] + KDO-LIPID-IVA[c] + PROTON[c]",
           0,
           0.000001265817762642113
          ],
          [
           "KDOTRANS2-RXN",
           "CMP-KDO[c] + KDO-LIPID-IVA[c] --> CMP[c] + KDO2-LIPID-IVA[c] + PROTON[c]",
           0,
           0.000001265817762642113
          ],
          [
           "KDPGALDOL-RXN",
           "2-KETO-3-DEOXY-6-P-GLUCONATE[c] --> GAP[c] + PYRUVATE[c]",
           0,
           0
          ],
          [
           "KETOACYLCOATHIOL-RXN-CPD-196/ACETYL-COA//CPD0-2123/CO-A.35.",
           "CO-A[c] + CPD0-2123[c] --> ACETYL-COA[c] + CPD-196[c]",
           0,
           0
          ],
          [
           "KETOACYLCOATHIOL-RXN-LAUROYLCOA-CPD/ACETYL-COA//CPD-10284/CO-A.42.",
           "CO-A[c] + CPD-10284[c] --> ACETYL-COA[c] + LAUROYLCOA-CPD[c]",
           0,
           0
          ],
          [
           "KETOACYLCOATHIOL-RXN-PALMITYL-COA/ACETYL-COA//CPD-10260/CO-A.40.",
           "CO-A[c] + CPD-10260[c] --> ACETYL-COA[c] + PALMITYL-COA[c]",
           0,
           0
          ],
          [
           "KETOACYLCOATHIOL-RXN-STEAROYL-COA/ACETYL-COA//POLYMER-INST-3-KETOACYL-COA-C16-H32/CO-A.66.",
           "CO-A[c] + POLYMER-INST-3-KETOACYL-COA-C16-H32[c] --> ACETYL-COA[c] + STEAROYL-COA[c]",
           0,
           0
          ],
          [
           "KETOACYLCOATHIOL-RXN-TETRADECANOYL-COA/ACETYL-COA//3-OXOPALMITOYL-COA/CO-A.54.",
           "3-OXOPALMITOYL-COA[c] + CO-A[c] --> ACETYL-COA[c] + TETRADECANOYL-COA[c]",
           0,
           0
          ],
          [
           "L-ASPARTATE-OXID-RXN",
           "L-ASPARTATE[c] + OXYGEN-MOLECULE[c] --> HYDROGEN-PEROXIDE[c] + IMINOASPARTATE[c] + PROTON[c]",
           0,
           0
          ],
          [
           "L-GLN-FRUCT-6-P-AMINOTRANS-RXN",
           "FRUCTOSE-6P[c] + GLN[c] <=> D-GLUCOSAMINE-6-P[c] + GLT[c]",
           0,
           0
          ],
          [
           "L-GLN-FRUCT-6-P-AMINOTRANS-RXN-FRUCTOSE-6P/GLN//CPD-13469/GLT.31.",
           "FRUCTOSE-6P[c] + GLN[c] <=> CPD-13469[c] + GLT[c]",
           -0.0603250225841342,
           0.0017612588349402406
          ],
          [
           "L-IDONATE-2-DEHYDROGENASE-RXN",
           "L-IDONATE[c] + NADP[c] --> 5-DEHYDROGLUCONATE[c] + NADPH[c] + PROTON[c]",
           0,
           0
          ],
          [
           "LAUROYLACYLTRAN-RXN",
           "Dodecanoyl-ACPs[c] + KDO2-LIPID-IVA[c] --> ACP[c] + KDO2-LAUROYL-LIPID-IVA[c]",
           0,
           0
          ],
          [
           "LCARNCOALIG-RXN",
           "ATP[c] + CARNITINE[c] + CO-A[c] --> AMP[c] + L-CARNITINYL-COA[c] + PPI[c]",
           0,
           0
          ],
          [
           "LIPIDADISACCHARIDESYNTH-RXN",
           "BISOHMYR-GLUCOSAMINYL-1P[c] + OH-MYRISTOYL[c] --> BISOHMYR-GLC[c] + PROTON[c] + UDP[c]",
           0,
           0.000001265817762642113
          ],
          [
           "LIPIDXSYNTHESIS-RXN",
           "OH-MYRISTOYL[c] + WATER[c] --> BISOHMYR-GLUCOSAMINYL-1P[c] + 2.0 PROTON[c] + UMP[c]",
           0,
           0.000001265817762642113
          ],
          [
           "LONG-CHAIN-ACYL-COA-DEHYDROGENASE-RXN-PALMITYL-COA/ETF-Oxidized/PROTON//CPD0-2117/ETF-Reduced.56.",
           "ETF-Oxidized[c] + PALMITYL-COA[c] + PROTON[c] <=> CPD0-2117[c] + ETF-Reduced[c]",
           0.006229211812986154,
           0
          ],
          [
           "LUMAZINESYN-RXN",
           "AMINO-RIBOSYLAMINO-1H-3H-PYR-DIONE[c] + DIHYDROXY-BUTANONE-P[c] --> DIMETHYL-D-RIBITYL-LUMAZINE[c] + PROTON[c] + Pi[c] + 2.0 WATER[c]",
           0.000036937650817558234,
           0.000056455472213838237
          ],
          [
           "LYSDECARBOX-RXN",
           "LYS[c] + PROTON[c] --> CADAVERINE[c] + CARBON-DIOXIDE[c]",
           0,
           0
          ],
          [
           "MALONYL-COA-ACP-TRANSACYL-RXN",
           "ACP[c] + MALONYL-COA[c] --> CO-A[c] + MALONYL-ACP[c]",
           0,
           0.12324552367810357
          ],
          [
           "MALSYN-RXN",
           "ACETYL-COA[c] + GLYOX[c] + WATER[c] --> CO-A[c] + MAL[c] + PROTON[c]",
           0,
           0
          ],
          [
           "MANNONDEHYDRAT-RXN",
           "D-MANNONATE[c] --> 2-DEHYDRO-3-DEOXY-D-GLUCONATE[c] + WATER[c]",
           0,
           0
          ],
          [
           "METHGLYSYN-RXN",
           "DIHYDROXY-ACETONE-PHOSPHATE[c] --> METHYL-GLYOXAL[c] + Pi[c]",
           0,
           0
          ],
          [
           "METHYLISOCITRATE-LYASE-RXN",
           "CPD-618[c] --> PYRUVATE[c] + SUC[c]",
           0,
           0
          ],
          [
           "METHYLMALONYL-COA-EPIM-RXN",
           "METHYL-MALONYL-COA[c] <=> D-METHYL-MALONYL-COA[c]",
           -0.06118754985866454,
           0
          ],
          [
           "METHYLMALONYL-COA-MUT-RXN",
           "METHYL-MALONYL-COA[c] <=> SUC-COA[c]",
           0.06118754985866454,
           0
          ],
          [
           "MMUM-RXN",
           "CPD-397[c] + HOMO-CYS[c] --> 2.0 MET[c] + PROTON[c]",
           0,
           0
          ],
          [
           "MNtpp",
           "MN+2[p] <=> MN+2[c]",
           0.000028614256406875266,
           0.00004373400369928512
          ],
          [
           "MYRISTOYLACYLTRAN-RXN",
           "KDO2-LAUROYL-LIPID-IVA[c] + Myristoyl-ACPs[c] --> ACP[c] + KDO2-LIPID-A[c]",
           0,
           0
          ],
          [
           "N-ACETYLTRANSFER-RXN",
           "ACETYL-COA[c] + GLT[c] --> ACETYL-GLU[c] + CO-A[c] + PROTON[c]",
           0,
           0.018720938382371793
          ],
          [
           "NACGLCTRANS-RXN",
           "C5[c] + UDP-N-ACETYL-D-GLUCOSAMINE[c] --> C6[c] + PROTON[c] + UDP[c]",
           0.0011506989247963095,
           0.0008793635997074782
          ],
          [
           "NAD-KIN-RXN",
           "ATP[c] + NAD[c] --> ADP[c] + NADP[c] + PROTON[c]",
           0.000018510235331170577,
           0.000028291026994991167
          ],
          [
           "NAD-SYNTH-GLN-RXN",
           "ATP[c] + DEAMIDO-NAD[c] + GLN[c] + WATER[c] --> AMP[c] + GLT[c] + NAD[c] + PPI[c] + PROTON[c]",
           0,
           0
          ],
          [
           "NAD-SYNTH-NH3-RXN",
           "AMMONIUM[c] + ATP[c] + DEAMIDO-NAD[c] --> AMP[c] + NAD[c] + PPI[c] + PROTON[c]",
           0.00009433180332067692,
           0.00014417664316487833
          ],
          [
           "NAG1P-URIDYLTRANS-RXN",
           "N-ACETYL-D-GLUCOSAMINE-1-P[c] + PROTON[c] + UTP[c] --> PPI[c] + UDP-N-ACETYL-D-GLUCOSAMINE[c]",
           0.002301397849592619,
           0.0017612588349402406
          ],
          [
           "NAG6PDEACET-RXN",
           "N-ACETYL-D-GLUCOSAMINE-6-P[c] + WATER[c] --> ACET[c] + D-GLUCOSAMINE-6-P[c]",
           0,
           0
          ],
          [
           "NAG6PDEACET-RXN-N-ACETYL-D-GLUCOSAMINE-6-P/WATER//CPD-13469/ACET.49.",
           "N-ACETYL-D-GLUCOSAMINE-6-P[c] + WATER[c] --> ACET[c] + CPD-13469[c]",
           0,
           0
          ],
          [
           "NICOTINAMID-RXN",
           "NIACINAMIDE[c] + WATER[c] --> AMMONIUM[c] + NIACINE[c]",
           0,
           0
          ],
          [
           "O2tpp",
           "OXYGEN-MOLECULE[p] <=> OXYGEN-MOLECULE[c]",
           0.8691801897094854,
           0.005543807118710438
          ],
          [
           "OHACYL-COA-DEHYDROG-RXN-POLYMER-INST-L-3-HYDROXYACYL-COA-C16-H32/NAD//POLYMER-INST-3-KETOACYL-COA-C16-H32/NADH/PROTON.94.",
           "NAD[c] + POLYMER-INST-L-3-HYDROXYACYL-COA-C16-H32[c] --> NADH[c] + POLYMER-INST-3-KETOACYL-COA-C16-H32[c] + PROTON[c]",
           0,
           0
          ],
          [
           "OHBUTYRYL-COA-EPIM-RXN-CPD-650//S-3-HYDROXYBUTANOYL-COA.33.",
           "CPD-650[c] <=> S-3-HYDROXYBUTANOYL-COA[c]",
           0,
           0
          ],
          [
           "OHBUTYRYL-COA-EPIM-RXN-POLYMER-INST-D-3-HYDROXYACYL-COA-C10-H20//CPD0-2171.52.",
           "POLYMER-INST-D-3-HYDROXYACYL-COA-C10-H20[c] <=> CPD0-2171[c]",
           0,
           0
          ],
          [
           "OHBUTYRYL-COA-EPIM-RXN-POLYMER-INST-D-3-HYDROXYACYL-COA-C12-H24//POLYMER-INST-L-3-HYDROXYACYL-COA-C12-H24.83.",
           "POLYMER-INST-D-3-HYDROXYACYL-COA-C12-H24[c] <=> POLYMER-INST-L-3-HYDROXYACYL-COA-C12-H24[c]",
           0,
           0
          ],
          [
           "OHBUTYRYL-COA-EPIM-RXN-POLYMER-INST-D-3-HYDROXYACYL-COA-C16-H32//POLYMER-INST-L-3-HYDROXYACYL-COA-C16-H32.83.",
           "POLYMER-INST-D-3-HYDROXYACYL-COA-C16-H32[c] <=> POLYMER-INST-L-3-HYDROXYACYL-COA-C16-H32[c]",
           0,
           0
          ],
          [
           "OHBUTYRYL-COA-EPIM-RXN-POLYMER-INST-D-3-HYDROXYACYL-COA-C2-H4//OH-HEXANOYL-COA.56.",
           "POLYMER-INST-D-3-HYDROXYACYL-COA-C2-H4[c] <=> OH-HEXANOYL-COA[c]",
           0,
           0
          ],
          [
           "OHBUTYRYL-COA-EPIM-RXN-POLYMER-INST-D-3-HYDROXYACYL-COA-C6-H12//CPD0-2244.51.",
           "POLYMER-INST-D-3-HYDROXYACYL-COA-C6-H12[c] <=> CPD0-2244[c]",
           0,
           0
          ],
          [
           "ORNDECARBOX-RXN",
           "L-ORNITHINE[c] + PROTON[c] --> CARBON-DIOXIDE[c] + PUTRESCINE[c]",
           0.022422520573698406,
           0
          ],
          [
           "OROTPDECARB-RXN",
           "OROTIDINE-5-PHOSPHATE[c] + PROTON[c] --> CARBON-DIOXIDE[c] + UMP[c]",
           0.013698195293939655,
           0.020682955914467067
          ],
          [
           "P-PANTOCYSDECARB-RXN",
           "PROTON[c] + R-4-PHOSPHOPANTOTHENOYL-L-CYSTEINE[c] --> CARBON-DIOXIDE[c] + PANTETHEINE-P[c]",
           0.00002385211532612841,
           0.000036455551564101205
          ],
          [
           "PANTEPADENYLYLTRAN-RXN",
           "ATP[c] + PANTETHEINE-P[c] + PROTON[c] --> DEPHOSPHO-COA[c] + PPI[c]",
           0.00002385211532612841,
           0.000036455551564101205
          ],
          [
           "PANTOATE-BETA-ALANINE-LIG-RXN",
           "ATP[c] + B-ALANINE[c] + L-PANTOATE[c] --> AMP[c] + PANTOTHENATE[c] + PPI[c] + PROTON[c]",
           0.00002385211532612841,
           0.000036455551564101205
          ],
          [
           "PANTOTHENATE-KIN-RXN",
           "ATP[c] + PANTOTHENATE[c] --> 4-P-PANTOTHENATE[c] + ADP[c] + PROTON[c]",
           0.00002385211532612841,
           0.000036455551564101205
          ],
          [
           "PDXJ-RXN",
           "1-AMINO-PROPAN-2-ONE-3-PHOSPHATE[c] + DEOXYXYLULOSE-5P[c] --> PROTON[c] + PYRIDOXINE-5P[c] + Pi[c] + 2.0 WATER[c]",
           0.000009234412704389558,
           0.000014113868053459559
          ],
          [
           "PEPDEPHOS-RXN",
           "ADP[c] + PHOSPHO-ENOL-PYRUVATE[c] + PROTON[c] --> ATP[c] + PYRUVATE[c]",
           0,
           0
          ],
          [
           "PEPSYNTH-RXN",
           "ATP[c] + PYRUVATE[c] + WATER[c] --> AMP[c] + PHOSPHO-ENOL-PYRUVATE[c] + 2.0 PROTON[c] + Pi[c]",
           0,
           0
          ],
          [
           "PGLUCONDEHYDRAT-RXN",
           "CPD-2961[c] --> 2-KETO-3-DEOXY-6-P-GLUCONATE[c] + WATER[c]",
           0,
           0
          ],
          [
           "PGLYCDEHYDROG-RXN",
           "G3P[c] + NAD[c] <=> 3-P-HYDROXYPYRUVATE[c] + NADH[c] + PROTON[c]",
           0.22226534213842616,
           0.05303066512674111
          ],
          [
           "PHENDEHYD-RXN",
           "NAD[c] + PHENYLACETALDEHYDE[c] + WATER[c] --> NADH[c] + PHENYLACETATE[c] + 2.0 PROTON[c]",
           0,
           0
          ],
          [
           "PHENYLPYRUVATE-TAUTOMERASE-RXN",
           "PHENYL-PYRUVATE[c] <=> ENOL-PHENYLPYRUVATE[c]",
           0,
           0
          ],
          [
           "PHOSACETYLTRANS-RXN",
           "ACETYL-COA[c] + Pi[c] <=> ACETYL-P[c] + CO-A[c]",
           0,
           -0.024570851881534194
          ],
          [
           "PHOSGLYPHOS-RXN",
           "ATP[c] + G3P[c] <=> ADP[c] + DPG[c]",
           -0.7401109571485186,
           -0.7089142654215266
          ],
          [
           "PHOSNACMURPENTATRANS-RXN",
           "C1[c] + CPD-9646[c] --> C5[c] + UMP[c]",
           0.0011506989247963095,
           0.0008793635997074782
          ],
          [
           "PHOSPHASERDECARB-RXN-2",
           "CPD-12817[c] + PROTON[c] --> CARBON-DIOXIDE[c] + CPD-12819[c]",
           0.002642532790663297,
           0.008799205595230385
          ],
          [
           "PORPHOBILSYNTH-RXN",
           "2.0 5-AMINO-LEVULINATE[c] --> PORPHOBILINOGEN[c] + PROTON[c] + 2.0 WATER[c]",
           0,
           0.00011291094442767647
          ],
          [
           "PPENTOMUT-RXN",
           "RIBOSE-1P[c] --> RIBOSE-5P[c]",
           0,
           0
          ],
          [
           "PPENTOMUT-RXN-RIBOSE-1P//CPD-15318.21.",
           "RIBOSE-1P[c] <=> CPD-15318[c]",
           0,
           0
          ],
          [
           "PPENTOMUT-RXN-RIBOSE-1P//CPD-15895.21.",
           "RIBOSE-1P[c] <=> CPD-15895[c]",
           0,
           0
          ],
          [
           "PPENTOMUT-RXN-RIBOSE-1P//CPD-16551.21.",
           "RIBOSE-1P[c] <=> CPD-16551[c]",
           0,
           -0.00003075937163220342
          ],
          [
           "PPPGPPHYDRO-RXN",
           "GDP-TP[c] + WATER[c] --> GUANOSINE-5DP-3DP[c] + PROTON[c] + Pi[c]",
           0,
           0
          ],
          [
           "PRAISOM-RXN",
           "N-5-PHOSPHORIBOSYL-ANTHRANILATE[c] --> CARBOXYPHENYLAMINO-DEOXYRIBULOSE-P[c]",
           0.0023538642213256303,
           0.003597643954093281
          ],
          [
           "PREPHENATEDEHYDRAT-RXN",
           "PREPHENATE[c] + PROTON[c] --> CARBON-DIOXIDE[c] + PHENYL-PYRUVATE[c] + WATER[c]",
           0.007671809281070545,
           0.011725586389794554
          ],
          [
           "PREPHENATEDEHYDROG-RXN",
           "NAD[c] + PREPHENATE[c] --> CARBON-DIOXIDE[c] + NADH[c] + P-HYDROXY-PHENYLPYRUVATE[c]",
           0.005710262664952926,
           0.00872756030986484
          ],
          [
           "PRIBFAICARPISOM-RXN",
           "PHOSPHORIBOSYL-FORMIMINO-AICAR-P[c] --> PHOSPHORIBULOSYL-FORMIMINO-AICAR-P[c]",
           0.003923093232235238,
           0.005996052159859425
          ],
          [
           "PRODISULFREDUCT-A-RXN-GLUTATHIONE/Oxidized-NrdH-Proteins//OXIDIZED-GLUTATHIONE/Reduced-NrdH-Proteins.79.",
           "2.0 GLUTATHIONE[c] + Oxidized-NrdH-Proteins[c] --> OXIDIZED-GLUTATHIONE[c] + Reduced-NrdH-Proteins[c]",
           0.003321075779784944,
           0
          ],
          [
           "PROPIONATE--COA-LIGASE-RXN",
           "ATP[c] + CO-A[c] + PROPIONATE[c] --> AMP[c] + PPI[c] + PROPIONYL-COA[c]",
           0.319520949232648,
           0
          ],
          [
           "PROPIONYL-COA-CARBOXY-RXN",
           "ATP[c] + HCO3[c] + PROPIONYL-COA[c] <=> ADP[c] + D-METHYL-MALONYL-COA[c] + PROTON[c] + Pi[c]",
           0.06118754985866454,
           0
          ],
          [
           "PRPPAMIDOTRANS-RXN",
           "GLN[c] + PRPP[c] + WATER[c] --> 5-P-BETA-D-RIBOSYL-AMINE[c] + GLT[c] + PPI[c]",
           0.018531975540500664,
           0.02794476254606697
          ],
          [
           "PRPPSYN-RXN",
           "ATP[c] + RIBOSE-5P[c] --> AMP[c] + PROTON[c] + PRPP[c]",
           0.038601460091321864,
           0.05836559121765349
          ],
          [
           "PRPPSYN-RXN-CPD-15318/ATP//PRPP/AMP/PROTON.31.",
           "ATP[c] + CPD-15318[c] --> AMP[c] + PROTON[c] + PRPP[c]",
           0,
           0
          ],
          [
           "PRPPSYN-RXN-CPD-15895/ATP//PRPP/AMP/PROTON.31.",
           "ATP[c] + CPD-15895[c] --> AMP[c] + PROTON[c] + PRPP[c]",
           0,
           0
          ],
          [
           "PRPPSYN-RXN-CPD-16551/ATP//PRPP/AMP/PROTON.31.",
           "ATP[c] + CPD-16551[c] --> AMP[c] + PROTON[c] + PRPP[c]",
           0,
           0
          ],
          [
           "PRTRANS-RXN",
           "ANTHRANILATE[c] + PRPP[c] --> N-5-PHOSPHORIBOSYL-ANTHRANILATE[c] + PPI[c]",
           0.0023538642213256303,
           0.003597643954093281
          ],
          [
           "PSEUDOURIDINE-KINASE-RXN",
           "ATP[c] + CPD-497[c] --> ADP[c] + PROTON[c] + PSEUDOURIDINE-5-P[c]",
           0,
           0
          ],
          [
           "PTAALT-RXN",
           "PROPIONYL-COA[c] + Pi[c] --> CO-A[c] + PROPIONYL-P[c]",
           0,
           0
          ],
          [
           "PYRIMSYN3-RXN",
           "AMINO-HYDROXYMETHYL-METHYL-PYR-P[c] + ATP[c] --> ADP[c] + AMINO-HYDROXYMETHYL-METHYLPYRIMIDINE-PP[c]",
           0,
           0
          ],
          [
           "PYRNUTRANSHYDROGEN-RXN",
           "NADPH[c] + NAD[c] --> NADH[c] + NADP[c]",
           0,
           0
          ],
          [
           "PYRUVFORMLY-RXN",
           "CO-A[c] + PYRUVATE[c] --> ACETYL-COA[c] + FORMATE[c]",
           0,
           0.04747197410082999
          ],
          [
           "QUINOLINATE-SYNTHA-RXN",
           "DIHYDROXY-ACETONE-PHOSPHATE[c] + IMINOASPARTATE[c] --> Pi[c] + QUINOLINATE[c] + 2.0 WATER[c]",
           0.00009433180332067692,
           0.00014417664316487833
          ],
          [
           "R223-RXN",
           "ATP[c] + CO-A[c] + CPD-195[c] --> AMP[c] + CPD-196[c] + PPI[c]",
           0,
           0
          ],
          [
           "RIBOFLAVIN-SYN-RXN",
           "2.0 DIMETHYL-D-RIBITYL-LUMAZINE[c] + PROTON[c] --> AMINO-RIBOSYLAMINO-1H-3H-PYR-DIONE[c] + RIBOFLAVIN[c]",
           0.000018468825408779117,
           0.000028227736106919118
          ],
          [
           "RIBOFLAVINKIN-RXN",
           "ATP[c] + RIBOFLAVIN[c] --> ADP[c] + FMN[c] + PROTON[c]",
           0.000009234412704389558,
           0.000014113868053459559
          ],
          [
           "RIBOFLAVINSYNDEAM-RXN",
           "DIAMINO-OH-PHOSPHORIBOSYLAMINO-PYR[c] + PROTON[c] + WATER[c] --> AMMONIUM[c] + CPD-602[c]",
           0.000018468825408779117,
           0.000028227736106919118
          ],
          [
           "RIBOFLAVINSYNREDUC-RXN",
           "CPD-602[c] + NADPH[c] + PROTON[c] --> CPD-1086[c] + NADP[c]",
           0.000018468825408779117,
           0.000028227736106919118
          ],
          [
           "RIBONUCLEOSIDE-DIP-REDUCTI-RXN-CPD0-2231/Ox-Thioredoxin/WATER//IDP/Red-Thioredoxin.52.",
           "IDP[c] + Red-Thioredoxin[c] --> CPD0-2231[c] + Ox-Thioredoxin[c] + WATER[c]",
           0,
           0
          ],
          [
           "RIBOPHOSPHAT-RXN",
           "CPD-1086[c] + WATER[c] --> AMINO-RIBOSYLAMINO-1H-3H-PYR-DIONE[c] + Pi[c]",
           0.000018468825408779117,
           0.000028227736106919118
          ],
          [
           "RIBOSYLHOMOCYSTEINASE-RXN",
           "CPD-564[c] --> DIHYDROXYPENTANEDIONE[c] + HOMO-CYS[c]",
           0,
           0.00003075937163220335
          ],
          [
           "RIBULP3EPIM-RXN",
           "RIBULOSE-5P[c] --> XYLULOSE-5-PHOSPHATE[c]",
           0.015782108230871037,
           -0.0470059738400053
          ],
          [
           "RXN-10015",
           "DIHYDROXYPENTANEDIONE[c] --> CPD-10773[c]",
           0,
           0
          ],
          [
           "RXN-10017",
           "CPD-10773[c] + WATER[c] --> CPD-10774[c]",
           0,
           0
          ],
          [
           "RXN-10654",
           "Cis-Delta5-dodecenoyl-ACPs[c] + MALONYL-ACP[c] + PROTON[c] --> 3-oxo-cis-D7-tetradecenoyl-ACPs[c] + ACP[c] + CARBON-DIOXIDE[c]",
           0,
           9.493633219815848e-7
          ],
          [
           "RXN-10655",
           "3-oxo-cis-D7-tetradecenoyl-ACPs[c] + NADPH[c] + PROTON[c] --> 3-hydroxy-cis-D7-tetraecenoyl-ACPs[c] + NADP[c]",
           0,
           9.493633219815848e-7
          ],
          [
           "RXN-10656",
           "3-hydroxy-cis-D7-tetraecenoyl-ACPs[c] --> Trans-D2-cis-D7-tetradecenoyl-ACPs[c] + WATER[c]",
           0,
           9.493633219815848e-7
          ],
          [
           "RXN-10657",
           "NADH[c] + PROTON[c] + Trans-D2-cis-D7-tetradecenoyl-ACPs[c] --> Cis-Delta7-tetradecenoyl-ACPs[c] + NAD[c]",
           0,
           9.493633219815848e-7
          ],
          [
           "RXN-10658",
           "Cis-Delta7-tetradecenoyl-ACPs[c] + MALONYL-ACP[c] + PROTON[c] --> 3-oxo-cis-D9-hexadecenoyl-ACPs[c] + ACP[c] + CARBON-DIOXIDE[c]",
           0,
           9.493633219815848e-7
          ],
          [
           "RXN-10659",
           "3-oxo-cis-D9-hexadecenoyl-ACPs[c] + NADPH[c] + PROTON[c] --> 3-hydroxy-cis-D9-hexaecenoyl-ACPs[c] + NADP[c]",
           0,
           9.493633219815848e-7
          ],
          [
           "RXN-10660",
           "3-hydroxy-cis-D9-hexaecenoyl-ACPs[c] --> Trans-D3-cis-D9-hexadecenoyl-ACPs[c] + WATER[c]",
           0,
           9.493633219815848e-7
          ],
          [
           "RXN-10661",
           "NADH[c] + PROTON[c] + Trans-D3-cis-D9-hexadecenoyl-ACPs[c] --> NAD[c] + Palmitoleoyl-ACPs[c]",
           0,
           9.493633219815848e-7
          ],
          [
           "RXN-10819",
           "ATP[c] + CO-A[c] + PHENYLACETATE[c] --> AMP[c] + CPD-207[c] + PPI[c]",
           0,
           0
          ],
          [
           "RXN-11319",
           "NADPH[c] + S-ADENOSYLMETHIONINE[c] + TYR[c] --> CH33ADO[c] + CPD-108[c] + CPD-12279[c] + MET[c] + NADP[c] + PROTON[c]",
           0,
           0
          ],
          [
           "RXN-11476",
           "3-Ketoglutaryl-ACP-methyl-ester[c] + NADPH[c] + PROTON[c] --> 3-Hydroxyglutaryl-ACP-methyl-ester[c] + NADP[c]",
           0,
           6.329088813210565e-7
          ],
          [
           "RXN-11477",
           "3-Hydroxyglutaryl-ACP-methyl-ester[c] <=> Enoylglutaryl-ACP-methyl-esters[c] + WATER[c]",
           0,
           6.329088813210565e-7
          ],
          [
           "RXN-11479",
           "Glutaryl-ACP-methyl-esters[c] + MALONYL-ACP[c] + PROTON[c] <=> 3-Ketopimeloyl-ACP-methyl-esters[c] + ACP[c] + CARBON-DIOXIDE[c]",
           0,
           6.329088813210565e-7
          ],
          [
           "RXN-11480",
           "3-Ketopimeloyl-ACP-methyl-esters[c] + NADPH[c] + PROTON[c] --> 3-hydroxypimeloyl-ACP-methyl-esters[c] + NADP[c]",
           0,
           6.329088813210565e-7
          ],
          [
           "RXN-11481",
           "3-hydroxypimeloyl-ACP-methyl-esters[c] <=> Enoylpimeloyl-ACP-methyl-esters[c] + WATER[c]",
           0,
           6.329088813210565e-7
          ],
          [
           "RXN-11662",
           "NAD[c] + S-3-HYDROXYBUTANOYL-COA[c] <=> ACETOACETYL-COA[c] + NADH[c] + PROTON[c]",
           -0.06118754985866454,
           0
          ],
          [
           "RXN-11811",
           "AMMONIA[c] + PROTON[c] <=> AMMONIUM[c]",
           0,
           -0.034811760617525805
          ],
          [
           "RXN-11832",
           "ATP[c] + CMP[c] <=> ADP[c] + CDP[c]",
           0.005879919117194552,
           0.018663660128612248
          ],
          [
           "RXN-12002",
           "ATP[c] + UMP[c] --> ADP[c] + UDP[c]",
           0.014848894218735965,
           0.021563585331937193
          ],
          [
           "RXN-12107",
           "L-IDONATE[c] + NAD[c] --> 5-DEHYDROGLUCONATE[c] + NADH[c] + PROTON[c]",
           0,
           0
          ],
          [
           "RXN-12195",
           "CTP[c] + WATER[c] --> CDP[c] + PROTON[c] + Pi[c]",
           0,
           0
          ],
          [
           "RXN-12198",
           "CDP[c] + WATER[c] --> CMP[c] + PROTON[c] + Pi[c]",
           0,
           0
          ],
          [
           "RXN-12490",
           "CPD0-2244[c] + NAD[c] <=> CPD0-2123[c] + NADH[c] + PROTON[c]",
           0,
           0
          ],
          [
           "RXN-12507",
           "CPD0-2171[c] + NAD[c] <=> CPD-10284[c] + NADH[c] + PROTON[c]",
           0,
           0
          ],
          [
           "RXN-12570",
           "NAD[c] + OH-HEXANOYL-COA[c] <=> K-HEXANOYL-COA[c] + NADH[c] + PROTON[c]",
           0,
           0
          ],
          [
           "RXN-12583",
           "PROTON[c] + PYRUVATE[c] + THIAMINE-PYROPHOSPHATE[c] --> 2-ALPHA-HYDROXYETHYL-THPP[c] + CARBON-DIOXIDE[c]",
           0,
           0
          ],
          [
           "RXN-12611",
           "AMINO-HYDROXYMETHYL-METHYLPYRIMIDINE-PP[c] + CPD-13575[c] + 2.0 PROTON[c] --> CARBON-DIOXIDE[c] + PPI[c] + THIAMINE-P[c]",
           0,
           0
          ],
          [
           "RXN-12752",
           "CPD0-2472[c] --> CPD-653[c]",
           0,
           0
          ],
          [
           "RXN-12753",
           "NADH[c] + WATER[c] --> CPD-653[c]",
           0,
           0
          ],
          [
           "RXN-12754",
           "NADH[c] + WATER[c] --> CPD0-2472[c]",
           0,
           0
          ],
          [
           "RXN-13141",
           "ADP[c] + CPD0-2474[c] <=> AMP[c] + NADPH[c] + PROTON[c] + Pi[c]",
           0,
           0
          ],
          [
           "RXN-13142",
           "CPD-14133[c] --> CPD0-2474[c]",
           0,
           0
          ],
          [
           "RXN-13179",
           "4-PHOSPHONOOXY-THREONINE[c] + NAD[c] --> 1-AMINO-PROPAN-2-ONE-3-PHOSPHATE[c] + CARBON-DIOXIDE[c] + NADH[c]",
           0.000009234412704389558,
           0.000014113868053459559
          ],
          [
           "RXN-13198",
           "NAD[c] + PROPANOL[c] <=> CPD-665[c] + NADH[c] + PROTON[c]",
           0,
           0
          ],
          [
           "RXN-13329",
           "CPD-12279[c] + PROTON[c] + WATER[c] --> AMMONIUM[c] + GLYOX[c]",
           0,
           0
          ],
          [
           "RXN-13459",
           "CPD-14447[c] <=> CPD-14441[c]",
           0,
           0
          ],
          [
           "RXN-13482",
           "CARBAMOYL-P[c] + L-ORNITHINE[c] <=> L-CITRULLINE[c] + PROTON[c] + Pi[c]",
           0.012248723778730028,
           0.018720938382371793
          ],
          [
           "RXN-13614",
           "ATP[c] + CO-A[c] + CPD-3617[c] --> AMP[c] + CPD-10267[c] + PPI[c]",
           0,
           0
          ],
          [
           "RXN-13615",
           "CPD-10267[c] + ETF-Oxidized[c] + PROTON[c] <=> ETF-Reduced[c] + T2-DECENOYL-COA[c]",
           0,
           0
          ],
          [
           "RXN-13616",
           "T2-DECENOYL-COA[c] + WATER[c] --> CPD0-2244[c]",
           0,
           0
          ],
          [
           "RXN-1381-PALMITYL-COA/GLYCEROL-3P//1-PALMITOYLGLYCEROL-3-PHOSPHATE/CO-A.63.",
           "GLYCEROL-3P[c] + PALMITYL-COA[c] --> 1-PALMITOYLGLYCEROL-3-PHOSPHATE[c] + CO-A[c]",
           0.002642532790663297,
           0
          ],
          [
           "RXN-1381-TETRADECANOYL-COA/GLYCEROL-3P//CPD-18379/CO-A.46.",
           "GLYCEROL-3P[c] + TETRADECANOYL-COA[c] --> CO-A[c] + CPD-18379[c]",
           0,
           0
          ],
          [
           "RXN-14014-DELTA1-PIPERIDEINE-2-6-DICARBOXYLATE/NAD/WATER//CPD-14443/NADH/PROTON.70.",
           "CPD-14443[c] + NADH[c] + PROTON[c] --> DELTA1-PIPERIDEINE-2-6-DICARBOXYLATE[c] + NAD[c] + WATER[c]",
           0,
           0.022598960970890303
          ],
          [
           "RXN-14014-DELTA1-PIPERIDEINE-2-6-DICARBOXYLATE/NADP/WATER//CPD-14443/NADPH/PROTON.72.",
           "CPD-14443[c] + NADPH[c] + PROTON[c] --> DELTA1-PIPERIDEINE-2-6-DICARBOXYLATE[c] + NADP[c] + WATER[c]",
           0.015360969319643956,
           0
          ],
          [
           "RXN-14025",
           "UMP[c] + WATER[c] --> Pi[c] + URIDINE[c]",
           0,
           0
          ],
          [
           "RXN-14026",
           "CMP[c] + WATER[c] --> CYTIDINE[c] + Pi[c]",
           0,
           0
          ],
          [
           "RXN-14120",
           "ATP[c] + IDP[c] <=> ADP[c] + ITP[c]",
           0,
           0
          ],
          [
           "RXN-14131",
           "ETF-Oxidized[c] + PROTON[c] + TETRADECANOYL-COA[c] <=> CPD-15568[c] + ETF-Reduced[c]",
           0,
           0
          ],
          [
           "RXN-14139",
           "UTP[c] + WATER[c] --> PPI[c] + PROTON[c] + UMP[c]",
           0,
           0
          ],
          [
           "RXN-14140",
           "GTP[c] + WATER[c] --> GMP[c] + PPI[c] + PROTON[c]",
           0,
           0
          ],
          [
           "RXN-14196",
           "ATP[c] + CARBAMATE[c] <=> ADP[c] + CARBAMOYL-P[c]",
           0,
           0.03940389429683886
          ],
          [
           "RXN-14228",
           "ATP[c] + CPD0-2231[c] <=> ADP[c] + DITP[c]",
           0,
           0
          ],
          [
           "RXN-14229",
           "CPD-196[c] + ETF-Oxidized[c] + PROTON[c] <=> CPD0-2108[c] + ETF-Reduced[c]",
           0,
           0
          ],
          [
           "RXN-14262",
           "ETF-Oxidized[c] + LAUROYLCOA-CPD[c] + PROTON[c] <=> CPD-7222[c] + ETF-Reduced[c]",
           0,
           0
          ],
          [
           "RXN-14273",
           "CPD-15568[c] + WATER[c] <=> CPD0-2171[c]",
           0,
           0
          ],
          [
           "RXN-14278",
           "ETF-Oxidized[c] + HEXANOYL-COA[c] + PROTON[c] <=> CPD0-2121[c] + ETF-Reduced[c]",
           0,
           0
          ],
          [
           "RXN-14503",
           "CPD-15377[c] <=> D-Xylopyranose[c]",
           0,
           0
          ],
          [
           "RXN-14503-CPD-15377//BETA-D-XYLOSE.25.",
           "CPD-15377[c] <=> BETA-D-XYLOSE[c]",
           0,
           0
          ],
          [
           "RXN-14515",
           "CPD-15382[c] --> BETA-D-FRUCTOSE[c]",
           0,
           0
          ],
          [
           "RXN-14811",
           "CPD-15616[c] <=> CPD-9569[c]",
           0,
           0
          ],
          [
           "RXN-14812",
           "CPD-15709[c] <=> FRUCTOSE-6P[c]",
           0,
           0
          ],
          [
           "RXN-14882",
           "CPD-15818[c] <=> D-Ribofuranose[c]",
           0,
           0
          ],
          [
           "RXN-14883",
           "CPD-15818[c] <=> D-Ribopyranose[c]",
           0,
           0
          ],
          [
           "RXN-14904",
           "CPD-10330[c] <=> CPD0-1108[c]",
           0,
           0
          ],
          [
           "RXN-14997",
           "CPD-15318[c] --> CPD-15895[c]",
           0,
           0
          ],
          [
           "RXN-15121",
           "CPD-15056[c] --> CPD-16013[c]",
           0,
           0.01838783843813252
          ],
          [
           "RXN-15122",
           "THR[c] --> CPD-15056[c] + PROTON[c] + WATER[c]",
           0,
           0.01838783843813248
          ],
          [
           "RXN-15123",
           "CPD-16013[c] + PROTON[c] + WATER[c] --> 2-OXOBUTANOATE[c] + AMMONIUM[c]",
           0,
           0.01838783843813252
          ],
          [
           "RXN-15124",
           "2-AMINOACRYLATE[c] --> CPD-16015[c]",
           0,
           0
          ],
          [
           "RXN-15125",
           "SER[c] --> 2-AMINOACRYLATE[c] + WATER[c]",
           0,
           0
          ],
          [
           "RXN-15127",
           "CPD-16015[c] + WATER[c] --> AMMONIUM[c] + PYRUVATE[c]",
           0,
           0
          ],
          [
           "RXN-15129",
           "CYS[c] --> 2-AMINOACRYLATE[c] + HS[c]",
           0,
           0
          ],
          [
           "RXN-15345",
           "CPD-15318[c] --> CPD-16551[c]",
           0,
           0
          ],
          [
           "RXN-15346",
           "CPD-16551[c] --> CPD-15895[c]",
           0,
           0
          ],
          [
           "RXN-15348",
           "CPD-11281[c] + GLUTATHIONE[c] <=> HS[c] + OXIDIZED-GLUTATHIONE[c]",
           0,
           0
          ],
          [
           "RXN-15890",
           "Holo-EntF[c] + SERYL-AMP[c] --> AMP[c] + PROTON[c] + Seryl-EntF[c]",
           0,
           0
          ],
          [
           "RXN-15891",
           "23DHB-EntB[c] + Seryl-EntF[c] --> DHB-Seryl-EntF[c] + Holo-EntB[c] + PROTON[c]",
           0,
           0
          ],
          [
           "RXN-16393",
           "ATP[c] + CO-A[c] + DODECANOATE[c] --> AMP[c] + LAUROYLCOA-CPD[c] + PPI[c]",
           0,
           0
          ],
          [
           "RXN-16475",
           "CPD-13122[c] <=> CPD-37[c]",
           0,
           0
          ],
          [
           "RXN-16804",
           "ARABINOSE-5P[c] <=> CPD-18118[c]",
           0,
           0.000002531635525284226
          ],
          [
           "RXN-16909",
           "ATP[c] + HCO3[c] --> ADP[c] + CPD-18238[c]",
           0,
           0.03940389429683886
          ],
          [
           "RXN-16910",
           "AMMONIUM[c] + CPD-18238[c] --> CARBAMATE[c] + 2.0 PROTON[c] + Pi[c]",
           0,
           0.03940389429683886
          ],
          [
           "RXN-17012",
           "1-PALMITOYLGLYCEROL-3-PHOSPHATE[c] + Palmitoleoyl-ACPs[c] --> ACP[c] + CPD-18350[c]",
           0,
           0
          ],
          [
           "RXN-17013",
           "CPD-18348[c] + Palmitoleoyl-ACPs[c] --> ACP[c] + CPD-18351[c]",
           0,
           0
          ],
          [
           "RXN-17014",
           "1-PALMITOYLGLYCEROL-3-PHOSPHATE[c] + Cis-vaccenoyl-ACPs[c] --> ACP[c] + CPD-18352[c]",
           0,
           0
          ],
          [
           "RXN-17015",
           "CPD-18348[c] + Cis-vaccenoyl-ACPs[c] --> ACP[c] + CPD-18353[c]",
           0,
           0
          ],
          [
           "RXN-17016",
           "Cis-vaccenoyl-ACPs[c] + GLYCEROL-3P[c] --> ACP[c] + CPD-18348[c]",
           0,
           0
          ],
          [
           "RXN-17017",
           "GLYCEROL-3P[c] + Myristoyl-ACPs[c] --> ACP[c] + CPD-18379[c]",
           0,
           0
          ],
          [
           "RXN-17018",
           "GLYCEROL-3P[c] + Palmitoyl-ACPs[c] --> 1-PALMITOYLGLYCEROL-3-PHOSPHATE[c] + ACP[c]",
           0,
           0.008800471412993026
          ],
          [
           "RXN-17020",
           "CPD-18379[c] + Palmitoleoyl-ACPs[c] --> ACP[c] + CPD-18380[c]",
           0,
           0
          ],
          [
           "RXN-17021",
           "CPD-18379[c] + TETRADECANOYL-COA[c] --> CO-A[c] + CPD0-1425[c]",
           0,
           0
          ],
          [
           "RXN-17022",
           "CPD-18379[c] + Myristoyl-ACPs[c] --> ACP[c] + CPD0-1425[c]",
           0,
           0
          ],
          [
           "RXN-17023",
           "1-PALMITOYLGLYCEROL-3-PHOSPHATE[c] + TETRADECANOYL-COA[c] --> CO-A[c] + CPD-18390[c]",
           0,
           0
          ],
          [
           "RXN-17024",
           "1-PALMITOYLGLYCEROL-3-PHOSPHATE[c] + Myristoyl-ACPs[c] --> ACP[c] + CPD-18390[c]",
           0,
           0
          ],
          [
           "RXN-17753",
           "CARBAMOYL-P[c] --> CPD-69[c] + PROTON[c] + Pi[c]",
           0,
           0
          ],
          [
           "RXN-17796",
           "CPD-19148[c] + ETF-Oxidized[c] + PROTON[c] --> CPD-19150[c] + ETF-Reduced[c]",
           0,
           0
          ],
          [
           "RXN-17797",
           "CPD-19150[c] + WATER[c] --> CPD-19151[c]",
           0,
           0
          ],
          [
           "RXN-17798",
           "CPD-19151[c] + NAD[c] --> CPD-19153[c] + NADH[c] + PROTON[c]",
           0,
           0
          ],
          [
           "RXN-18031",
           "H2CO3[c] <=> HCO3[c] + PROTON[c]",
           0,
           0
          ],
          [
           "RXN-18032",
           "HCO3[c] <=> CO3[c] + PROTON[c]",
           0,
           0
          ],
          [
           "RXN-18232",
           "HSCN[c] <=> CPD-19512[c]",
           0,
           0
          ],
          [
           "RXN-18392",
           "CPD-19753[c] <=> KDO[c]",
           0,
           0
          ],
          [
           "RXN-2962-S-HYDROXYMETHYLGLUTATHIONE/NAD//CPD-548/NADH/PROTON.52.",
           "NAD[c] + S-HYDROXYMETHYLGLUTATHIONE[c] --> CPD-548[c] + NADH[c] + PROTON[c]",
           0,
           0
          ],
          [
           "RXN-2962-S-HYDROXYMETHYLGLUTATHIONE/NADP//CPD-548/NADPH/PROTON.54.",
           "NADP[c] + S-HYDROXYMETHYLGLUTATHIONE[c] --> CPD-548[c] + NADPH[c] + PROTON[c]",
           0,
           0
          ],
          [
           "RXN-3641",
           "3-KETO-ADIPYL-COA[c] + CO-A[c] --> ACETYL-COA[c] + SUC-COA[c]",
           0,
           0
          ],
          [
           "RXN-4821",
           "DELTA1-PIPERIDEINE-2-6-DICARBOXYLATE[c] + PROTON[c] + WATER[c] <=> L-ALPHA-AMINO-EPSILON-KETO-PIMELATE[c]",
           0,
           0
          ],
          [
           "RXN-5822",
           "NADP[c] + WATER[c] --> NAD[c] + Pi[c]",
           0,
           0
          ],
          [
           "RXN-7282",
           "OXOPENTENOATE[c] <=> CPD-14447[c]",
           0,
           0
          ],
          [
           "RXN-7607",
           "IMP[c] + WATER[c] --> INOSINE[c] + Pi[c]",
           0,
           0
          ],
          [
           "RXN-7609",
           "GMP[c] + WATER[c] --> GUANOSINE[c] + Pi[c]",
           0,
           0
          ],
          [
           "RXN-7682",
           "HYPOXANTHINE[c] + NAD[c] + WATER[c] --> NADH[c] + PROTON[c] + XANTHINE[c]",
           0,
           0
          ],
          [
           "RXN-7800",
           "CPD-7100[c] + PROTON[c] --> 2K-4CH3-PENTANOATE[c] + CARBON-DIOXIDE[c]",
           0,
           0.028514507121045692
          ],
          [
           "RXN-7913",
           "ATP[c] + DCMP[c] --> ADP[c] + DCDP[c]",
           0,
           0
          ],
          [
           "RXN-7968-SHIKIMATE/NAD//3-DEHYDRO-SHIKIMATE/NADH/PROTON.47.",
           "NAD[c] + SHIKIMATE[c] --> 3-DEHYDRO-SHIKIMATE[c] + NADH[c] + PROTON[c]",
           0,
           0
          ],
          [
           "RXN-8315",
           "PROTON[c] + SO3[c] <=> HSO3[c]",
           0,
           0
          ],
          [
           "RXN-8629",
           "DIHYDROLIPOYL-GCVH[c] + NAD[c] <=> NADH[c] + PROTEIN-LIPOYLLYSINE[c] + PROTON[c]",
           0.15750096881898087,
           0
          ],
          [
           "RXN-8638-BETAINE-ALDEHYDE-HYDRATE/ATP/WATER//BETAINE-ALDEHYDE-HYDRATE/ADP/Pi/PROTON.75.",
           "ATP[c] + BETAINE-ALDEHYDE-HYDRATE[p] + WATER[c] --> ADP[c] + BETAINE-ALDEHYDE-HYDRATE[c] + PROTON[c] + Pi[c]",
           0,
           0
          ],
          [
           "RXN-8638-CHOLINE/ATP/WATER//CHOLINE/ADP/Pi/PROTON.41.",
           "ATP[c] + CHOLINE[p] + WATER[c] --> ADP[c] + CHOLINE[c] + PROTON[c] + Pi[c]",
           0,
           0
          ],
          [
           "RXN-8638-CPD-821/ATP/WATER//CPD-821/ADP/Pi/PROTON.41.",
           "ATP[c] + CPD-821[p] + WATER[c] --> ADP[c] + CPD-821[c] + PROTON[c] + Pi[c]",
           0,
           0
          ],
          [
           "RXN-8638-GAMMA-BUTYROBETAINE/ATP/WATER//GAMMA-BUTYROBETAINE/ADP/Pi/PROTON.65.",
           "ATP[c] + GAMMA-BUTYROBETAINE[p] + WATER[c] --> ADP[c] + GAMMA-BUTYROBETAINE[c] + PROTON[c] + Pi[c]",
           0,
           0
          ],
          [
           "RXN-8642",
           "OXALO-SUCCINATE[c] + PROTON[c] <=> 2-KETOGLUTARATE[c] + CARBON-DIOXIDE[c]",
           0.06679838729983631,
           0.06717049299282733
          ],
          [
           "RXN-8675",
           "CPD-9038[c] + S-ADENOSYLMETHIONINE[c] --> ADENOSYL-HOMO-CYS[c] + DIHYDROSIROHYDROCHLORIN[c]",
           0,
           0.000014113868053459559
          ],
          [
           "RXN-8899",
           "2-AMINOACRYLATE[c] + WATER[c] --> AMMONIUM[c] + PYRUVATE[c]",
           0,
           0.000014746776934780614
          ],
          [
           "RXN-8991",
           "2-D-THREO-HYDROXY-3-CARBOXY-ISOCAPROATE[c] <=> CPD-9451[c] + WATER[c]",
           -0.018656453767360234,
           -0.028514507121045692
          ],
          [
           "RXN-8992",
           "5.0 DELTA3-ISOPENTENYL-PP[c] + FARNESYL-PP[c] --> OCTAPRENYL-DIPHOSPHATE[c] + 5.0 PPI[c]",
           0.000009234412704389558,
           0.000014113868053459559
          ],
          [
           "RXN-8999",
           "8.0 DELTA3-ISOPENTENYL-PP[c] + FARNESYL-PP[c] --> 8.0 PPI[c] + UNDECAPRENYL-DIPHOSPHATE[c]",
           0.0000022775457342665527,
           0.000882844598554744
          ],
          [
           "RXN-9514",
           "Acetoacetyl-ACPs[c] + NADPH[c] + PROTON[c] --> Beta-3-hydroxybutyryl-ACPs[c] + NADP[c]",
           0.011514277394312747,
           0
          ],
          [
           "RXN-9516",
           "Butanoyl-ACPs[c] + MALONYL-ACP[c] + PROTON[c] --> 3-oxo-hexanoyl-ACPs[c] + ACP[c] + CARBON-DIOXIDE[c]",
           0,
           0.017606955460358596
          ],
          [
           "RXN-9518",
           "3-oxo-hexanoyl-ACPs[c] + NADPH[c] + PROTON[c] --> NADP[c] + R-3-hydroxyhexanoyl-ACPs[c]",
           0.011514277394312747,
           0.017606955460358596
          ],
          [
           "RXN-9520",
           "R-3-hydroxyhexanoyl-ACPs[c] --> Hex-2-enoyl-ACPs[c] + WATER[c]",
           0.011514277394312747,
           0.017606955460358596
          ],
          [
           "RXN-9523",
           "Hexanoyl-ACPs[c] + MALONYL-ACP[c] + PROTON[c] --> 3-Oxo-octanoyl-ACPs[c] + ACP[c] + CARBON-DIOXIDE[c]",
           0,
           0.017606955460358596
          ],
          [
           "RXN-9524",
           "3-Oxo-octanoyl-ACPs[c] + NADPH[c] + PROTON[c] --> 3-Hydroxy-octanoyl-ACPs[c] + NADP[c]",
           0.011514277394312747,
           0.017606955460358596
          ],
          [
           "RXN-9527",
           "MALONYL-ACP[c] + Octanoyl-ACPs[c] + PROTON[c] --> 3-oxo-decanoyl-ACPs[c] + ACP[c] + CARBON-DIOXIDE[c]",
           0,
           0.017606955460358596
          ],
          [
           "RXN-9528",
           "3-oxo-decanoyl-ACPs[c] + NADPH[c] + PROTON[c] --> Beta-hydroxydecanoyl-ACPs[c] + NADP[c]",
           0.011514277394312747,
           0.017606955460358596
          ],
          [
           "RXN-9531",
           "Decanoyl-ACPs[c] + MALONYL-ACP[c] + PROTON[c] --> 3-oxo-dodecanoyl-ACPs[c] + ACP[c] + CARBON-DIOXIDE[c]",
           0,
           0.017606006097036615
          ],
          [
           "RXN-9532",
           "3-oxo-dodecanoyl-ACPs[c] + NADPH[c] + PROTON[c] --> NADP[c] + R-3-hydroxydodecanoyl-ACPs[c]",
           0.011514277394312747,
           0.017606006097036615
          ],
          [
           "RXN-9533",
           "R-3-hydroxydodecanoyl-ACPs[c] --> Dodec-2-enoyl-ACPs[c] + WATER[c]",
           0.011514277394312747,
           0.017606006097036615
          ],
          [
           "RXN-9535",
           "Dodecanoyl-ACPs[c] + MALONYL-ACP[c] + PROTON[c] --> 3-oxo-myristoyl-ACPs[c] + ACP[c] + CARBON-DIOXIDE[c]",
           0,
           0.017606006097036615
          ],
          [
           "RXN-9536",
           "3-oxo-myristoyl-ACPs[c] + NADPH[c] + PROTON[c] --> NADP[c] + R-3-hydroxymyristoyl-ACPs[c]",
           0.011514277394312747,
           0.017606006097036615
          ],
          [
           "RXN-9537",
           "R-3-hydroxymyristoyl-ACPs[c] --> Tetradec-2-enoyl-ACPs[c] + WATER[c]",
           0.011514277394312747,
           0.01760094282598605
          ],
          [
           "RXN-9539",
           "MALONYL-ACP[c] + Myristoyl-ACPs[c] + PROTON[c] --> 3-oxo-palmitoyl-ACPs[c] + ACP[c] + CARBON-DIOXIDE[c]",
           0,
           0.01760094282598605
          ],
          [
           "RXN-9540",
           "3-oxo-palmitoyl-ACPs[c] + NADPH[c] + PROTON[c] --> NADP[c] + R-3-Hydroxypalmitoyl-ACPs[c]",
           0.011514277394312747,
           0
          ],
          [
           "RXN-9556",
           "3-oxo-cis-vaccenoyl-ACPs[c] + NADPH[c] + PROTON[c] --> NADP[c] + R-3-hydroxy-cis-vaccenoyl-ACPs[c]",
           0,
           0
          ],
          [
           "RXN-9557",
           "R-3-hydroxy-cis-vaccenoyl-ACPs[c] --> WATER[c] + cis-vaccen-2-enoyl-ACPs[c]",
           0,
           0
          ],
          [
           "RXN-9558",
           "NADH[c] + PROTON[c] + cis-vaccen-2-enoyl-ACPs[c] --> Cis-vaccenoyl-ACPs[c] + NAD[c]",
           0,
           0
          ],
          [
           "RXN-9615",
           "AMMONIUM[p] <=> AMMONIUM[c]",
           0.4454375083369833,
           0
          ],
          [
           "RXN-9623",
           "ATP[c] + CO-A[c] + PALMITATE[c] --> AMP[c] + PALMITYL-COA[c] + PPI[c]",
           0,
           0
          ],
          [
           "RXN-9655",
           "Beta-hydroxydecanoyl-ACPs[c] --> Trans-D2-decenoyl-ACPs[c] + WATER[c]",
           0.011514277394312747,
           0.017606955460358596
          ],
          [
           "RXN-9657",
           "Crotonyl-ACPs[c] + NADH[c] + PROTON[c] --> Butanoyl-ACPs[c] + NAD[c]",
           0.011514277394312747,
           0
          ],
          [
           "RXN-9658",
           "Hex-2-enoyl-ACPs[c] + NADH[c] + PROTON[c] --> Hexanoyl-ACPs[c] + NAD[c]",
           0,
           0.017606955460358596
          ],
          [
           "RXN-9659",
           "2-Octenoyl-ACPs[c] + NADH[c] + PROTON[c] --> NAD[c] + Octanoyl-ACPs[c]",
           0,
           0.017606955460358596
          ],
          [
           "RXN-9660",
           "NADH[c] + PROTON[c] + Trans-D2-decenoyl-ACPs[c] --> Decanoyl-ACPs[c] + NAD[c]",
           0,
           0.017606006097036615
          ],
          [
           "RXN-9661",
           "Dodec-2-enoyl-ACPs[c] + NADH[c] + PROTON[c] --> Dodecanoyl-ACPs[c] + NAD[c]",
           0,
           0.017606006097036615
          ],
          [
           "RXN-9662",
           "NADH[c] + PROTON[c] + Tetradec-2-enoyl-ACPs[c] --> Myristoyl-ACPs[c] + NAD[c]",
           0.011514277394312747,
           0.01760094282598605
          ],
          [
           "RXN-9663",
           "2-Hexadecenoyl-ACPs[c] + NADH[c] + PROTON[c] --> NAD[c] + Palmitoyl-ACPs[c]",
           0.011514277394312747,
           0.01760094282598605
          ],
          [
           "RXN-9772",
           "FUM[c] + L-ASPARTATE[c] --> IMINOASPARTATE[c] + PROTON[c] + SUC[c]",
           0.00009433180332067692,
           0.00014417664316485393
          ],
          [
           "RXN-9951",
           "NADP[c] + THREO-DS-ISO-CITRATE[c] <=> NADPH[c] + OXALO-SUCCINATE[c] + PROTON[c]",
           0.06679838729983631,
           0.06717049299282733
          ],
          [
           "RXN-9952",
           "CPD-2961[c] + NADP[c] --> CARBON-DIOXIDE[c] + NADPH[c] + RIBULOSE-5P[c]",
           0.07020261420388149,
           0
          ],
          [
           "RXN0-1401",
           "ATP[c] + RIBOSE-15-BISPHOSPHATE[c] --> ADP[c] + PRPP[c]",
           0,
           0
          ],
          [
           "RXN0-2042",
           "CPD-207[c] + NADPH[c] + OXYGEN-MOLECULE[c] + PROTON[c] --> CPD0-2362[c] + NADP[c] + WATER[c]",
           0,
           0
          ],
          [
           "RXN0-2044",
           "3-HYDROXYADIPYL-COA[c] + NAD[c] <=> 3-KETO-ADIPYL-COA[c] + NADH[c] + PROTON[c]",
           0,
           0
          ],
          [
           "RXN0-2141",
           "Cis-delta-3-decenoyl-ACPs[c] + MALONYL-ACP[c] + PROTON[c] <=> ACP[c] + CARBON-DIOXIDE[c] + b-Keto-cis-D5-dodecenoyl-ACPs[c]",
           0,
           9.493633219815848e-7
          ],
          [
           "RXN0-2142",
           "NADPH[c] + PROTON[c] + b-Keto-cis-D5-dodecenoyl-ACPs[c] --> NADP[c] + b-Hydroxy-cis-D5-dodecenoyl-ACPs[c]",
           0,
           9.493633219815848e-7
          ],
          [
           "RXN0-2144",
           "b-Hydroxy-cis-D5-dodecenoyl-ACPs[c] <=> Trans-D3-cis-D5-dodecenoyl-ACPs[c] + WATER[c]",
           0,
           9.493633219815848e-7
          ],
          [
           "RXN0-2361",
           "ATP[c] + L-ALA-GAMMA-D-GLU-DAP[c] + UDP-N-ACETYLMURAMATE[c] --> ADP[c] + PROTON[c] + Pi[c] + UDP-AAGM-DIAMINOHEPTANEDIOATE[c]",
           0,
           0
          ],
          [
           "RXN0-2381",
           "INDOLE-3-GLYCEROL-P[c] --> GAP[c] + INDOLE[c]",
           0.0023538642213256303,
           0.003597643954093281
          ],
          [
           "RXN0-2382",
           "INDOLE[c] + SER[c] --> TRP[c] + WATER[c]",
           0.0023538642213256303,
           0.003597643954093281
          ],
          [
           "RXN0-268",
           "PROPIONYL-COA[c] + SUC[c] --> PROPIONATE[c] + SUC-COA[c]",
           0.319520949232648,
           0
          ],
          [
           "RXN0-302",
           "2-PHOSPHO-4-CYTIDINE-5-DIPHOSPHO-2-C-MET[c] --> 2C-METH-D-ERYTHRITOL-CYCLODIPHOSPHATE[c] + CMP[c]",
           0.00009892830471204855,
           0.009824201528529836
          ],
          [
           "RXN0-3601",
           "CARNITINE[c] + GAMMA-BUTYROBETAINYL-COA[c] --> GAMMA-BUTYROBETAINE[c] + L-CARNITINYL-COA[c]",
           0,
           0
          ],
          [
           "RXN0-363",
           "WATER[c] + XANTHOSINE[c] --> D-Ribofuranose[c] + XANTHINE[c]",
           0,
           0
          ],
          [
           "RXN0-383",
           "CTP[c] + WATER[c] --> CMP[c] + PPI[c] + PROTON[c]",
           0,
           0
          ],
          [
           "RXN0-384",
           "DATP[c] + WATER[c] <=> DAMP[c] + PPI[c] + PROTON[c]",
           0,
           0
          ],
          [
           "RXN0-385",
           "DGTP[c] + WATER[c] --> DGMP[c] + PPI[c] + PROTON[c]",
           0,
           0
          ],
          [
           "RXN0-3922-GAMMA-GLUTAMYL-GAMMA-AMINOBUTYRALDEH/NAD/WATER//CPD-9000/NADH/PROTON.69.",
           "GAMMA-GLUTAMYL-GAMMA-AMINOBUTYRALDEH[c] + NAD[c] + WATER[c] --> CPD-9000[c] + NADH[c] + 2.0 PROTON[c]",
           0,
           0
          ],
          [
           "RXN0-3922-GAMMA-GLUTAMYL-GAMMA-AMINOBUTYRALDEH/NADP/WATER//CPD-9000/NADPH/PROTON.71.",
           "GAMMA-GLUTAMYL-GAMMA-AMINOBUTYRALDEH[c] + NADP[c] + WATER[c] --> CPD-9000[c] + NADPH[c] + 2.0 PROTON[c]",
           0,
           0
          ],
          [
           "RXN0-3942",
           "CPD-9000[c] + WATER[c] <=> 4-AMINO-BUTYRATE[c] + GLT[c]",
           0,
           0
          ],
          [
           "RXN0-4641",
           "CPD0-881[c] + WATER[c] --> D-LACTATE[c] + N-ACETYL-D-GLUCOSAMINE-6-P[c]",
           0,
           0
          ],
          [
           "RXN0-5055",
           "ACETYL-COA[c] + carboxybiotin-L-lysine-in-BCCP-dimers[c] --> MALONYL-COA[c] + biotin-L-lysine-in-BCCP-dimers[c]",
           0,
           0.12324552367810357
          ],
          [
           "RXN0-5114",
           "3-P-SERINE[c] + WATER[c] --> Pi[c] + SER[c]",
           0.22226534213842616,
           0.05303066512674154
          ],
          [
           "RXN0-5199",
           "GUANOSINE[c] + Pi[c] --> GUANINE[c] + RIBOSE-1P[c]",
           0,
           0
          ],
          [
           "RXN0-5222",
           "CARBAMATE[c] + 2.0 PROTON[c] --> AMMONIUM[c] + CARBON-DIOXIDE[c]",
           0,
           0
          ],
          [
           "RXN0-5224",
           "HCO3[c] + PROTON[c] <=> CARBON-DIOXIDE[c] + WATER[c]",
           -0.16773441069152345,
           -0.4117894527114963
          ],
          [
           "RXN0-5227",
           "CPD0-1082[c] + WATER[c] --> D-ALANINE[c] + L-ALA-GAMMA-D-GLU-DAP[c]",
           0,
           0
          ],
          [
           "RXN0-5305",
           "CPD0-1108[c] <=> CPD-15818[c]",
           0,
           0
          ],
          [
           "RXN0-5391",
           "CPD0-1162[c] <=> CPD0-1158[c]",
           0,
           0
          ],
          [
           "RXN0-5393",
           "CPD0-1162[c] + WATER[c] --> CPD0-1163[c]",
           0,
           0
          ],
          [
           "RXN0-5433",
           "DEHYDRO-3-DEOXY-L-RHAMNONATE[c] <=> LACTALD[c] + PYRUVATE[c]",
           0,
           0
          ],
          [
           "RXN0-5462",
           "GTP[c] + WATER[c] --> GDP[c] + PROTON[c] + Pi[c]",
           0,
           0
          ],
          [
           "RXN0-6382",
           "ITP[c] + WATER[c] <=> IMP[c] + PPI[c] + PROTON[c]",
           0,
           0
          ],
          [
           "RXN0-6442",
           "CPD-62[c] + Holo-EntB[c] --> 23DHB-EntB[c] + AMP[c] + PROTON[c]",
           0,
           0
          ],
          [
           "RXN0-6510",
           "CPD0-2362[c] --> CPD0-2363[c]",
           0,
           0
          ],
          [
           "RXN0-6512",
           "CO-A[c] + CPD0-2364[c] --> ACETYL-COA[c] + TRANS-23-DEHYDROADIPYL-COA[c]",
           0,
           0
          ],
          [
           "RXN0-6565",
           "DIHYDRO-THYMINE[c] + NAD[c] <=> NADH[c] + PROTON[c] + THYMINE[c]",
           0,
           0
          ],
          [
           "RXN0-6705",
           "1-PALMITOYLGLYCEROL-3-PHOSPHATE[c] + Palmitoyl-ACPs[c] --> ACP[c] + CPD0-1422[c]",
           0.011514277394312747,
           0.008800471412993026
          ],
          [
           "RXN0-6727",
           "ADP[c] + CPD-653[c] <=> AMP[c] + NADH[c] + PROTON[c] + Pi[c]",
           0,
           0
          ],
          [
           "RXN0-6948",
           "ACETYL-COA[c] + MET[c] --> CO-A[c] + CPD0-2015[c] + PROTON[c]",
           0,
           0
          ],
          [
           "RXN0-722",
           "Reduced-NrdH-Proteins[c] + UDP[c] --> DUDP[c] + Oxidized-NrdH-Proteins[c] + WATER[c]",
           0.0010835320305966688,
           0
          ],
          [
           "RXN0-742",
           "5-PHOSPHORIBOSYL-5-AMINOIMIDAZOLE[c] + ATP[c] + HCO3[c] --> ADP[c] + CPD0-181[c] + 2.0 PROTON[c] + Pi[c]",
           0,
           0.02794476254606697
          ],
          [
           "RXN0-743",
           "CPD0-181[c] --> PHOSPHORIBOSYL-CARBOXY-AMINOIMIDAZOLE[c]",
           0,
           0.02794476254606697
          ],
          [
           "RXN0-884",
           "HYDROXY-METHYL-BUTENYL-DIP[c] + 2.0 PROTON[c] + 2.0 Reduced-ferredoxins[c] --> CPD-4211[c] + 2.0 Oxidized-ferredoxins[c] + WATER[c]",
           0,
           0.0008969584666082036
          ],
          [
           "RXN0-901",
           "NAD[c] + WATER[c] + XANTHINE[c] --> NADH[c] + PROTON[c] + URATE[c]",
           0,
           0
          ],
          [
           "RXNMETA-12671",
           "CPD0-2363[c] + WATER[c] <=> CPDMETA-13650[c]",
           0,
           0
          ],
          [
           "RXNMETA-12672",
           "CPDMETA-13650[c] + NADP[c] + WATER[c] --> CPD0-2364[c] + NADPH[c] + 2.0 PROTON[c]",
           0,
           0
          ],
          [
           "S-ADENMETSYN-RXN",
           "ATP[c] + MET[c] + WATER[c] --> PPI[c] + Pi[c] + S-ADENOSYLMETHIONINE[c]",
           0.000009234412704389218,
           0.000045506148566983905
          ],
          [
           "S-FORMYLGLUTATHIONE-HYDROLASE-RXN",
           "CPD-548[c] + WATER[c] --> FORMATE[c] + GLUTATHIONE[c] + PROTON[c]",
           0,
           0
          ],
          [
           "SAICARSYN-RXN",
           "ATP[c] + L-ASPARTATE[c] + PHOSPHORIBOSYL-CARBOXY-AMINOIMIDAZOLE[c] --> ADP[c] + P-RIBOSYL-4-SUCCCARB-AMINOIMIDAZOLE[c] + PROTON[c] + Pi[c]",
           0.018531975540500664,
           0.02794476254606697
          ],
          [
           "SERINE-O-ACETTRAN-RXN",
           "ACETYL-COA[c] + SER[c] --> ACETYLSERINE[c] + CO-A[c]",
           0.003816172812492028,
           0.005847381863637116
          ],
          [
           "SHIKIMATE-5-DEHYDROGENASE-RXN",
           "3-DEHYDRO-SHIKIMATE[c] + NADPH[c] + PROTON[c] --> NADP[c] + SHIKIMATE[c]",
           0.01577287381816665,
           0.024093132257913055
          ],
          [
           "SHIKIMATE-KINASE-RXN",
           "ATP[c] + SHIKIMATE[c] --> ADP[c] + PROTON[c] + SHIKIMATE-5P[c]",
           0.01577287381816665,
           0.024093132257913055
          ],
          [
           "SUCCCOASYN-RXN",
           "ATP[c] + CO-A[c] + SUC[c] <=> ADP[c] + Pi[c] + SUC-COA[c]",
           -0.3653475297716686,
           0.0226137077478252
          ],
          [
           "SUCCDIAMINOPIMDESUCC-RXN",
           "N-SUCCINYLLL-2-6-DIAMINOPIMELATE[c] + WATER[c] --> LL-DIAMINOPIMELATE[c] + SUC[c]",
           0.015360969319643956,
           0.022598960970890303
          ],
          [
           "SUCCINATE-SEMIALDEHYDE-DEHYDROGENASE-RXN",
           "NAD[c] + SUCC-S-ALD[c] + WATER[c] --> NADH[c] + 2.0 PROTON[c] + SUC[c]",
           0.022422520573698406,
           0
          ],
          [
           "SUCCINYLDIAMINOPIMTRANS-RXN",
           "GLT[c] + N-SUCCINYL-2-AMINO-6-KETOPIMELATE[c] --> 2-KETOGLUTARATE[c] + N-SUCCINYLLL-2-6-DIAMINOPIMELATE[c]",
           0.015360969319643956,
           0.022598960970890303
          ],
          [
           "SUCCSEMIALDDEHYDROG-RXN",
           "NADP[c] + SUCC-S-ALD[c] + WATER[c] <=> NADPH[c] + 2.0 PROTON[c] + SUC[c]",
           0,
           0
          ],
          [
           "SULFATE-ADENYLYLTRANS-RXN",
           "ATP[c] + PROTON[c] + SULFATE[c] --> APS[c] + PPI[c]",
           0.01018953256549603,
           0.005847381863637116
          ],
          [
           "SULFITE-REDUCT-RXN",
           "3.0 NADPH[c] + 5.0 PROTON[c] + SO3[c] --> HS[c] + 3.0 NADP[c] + 3.0 WATER[c]",
           0.01018953256549603,
           0.005847381863637116
          ],
          [
           "TETHYDPICSUCC-RXN",
           "DELTA1-PIPERIDEINE-2-6-DICARBOXYLATE[c] + SUC-COA[c] + WATER[c] --> CO-A[c] + N-SUCCINYL-2-AMINO-6-KETOPIMELATE[c]",
           0.015360969319643956,
           0.022598960970890303
          ],
          [
           "TETRAACYLDISACC4KIN-RXN",
           "ATP[c] + BISOHMYR-GLC[c] --> ADP[c] + LIPID-IV-A[c] + PROTON[c]",
           0,
           0.000001265817762642113
          ],
          [
           "THI-P-KIN-RXN",
           "ATP[c] + THIAMINE-P[c] --> ADP[c] + THIAMINE-PYROPHOSPHATE[c]",
           0,
           0
          ],
          [
           "THI-P-SYN-RXN",
           "AMINO-HYDROXYMETHYL-METHYLPYRIMIDINE-PP[c] + PROTON[c] + THZ-P[c] --> PPI[c] + THIAMINE-P[c]",
           0,
           0
          ],
          [
           "THIAZOLSYN3-RXN",
           "ATP[c] + THZ[c] --> ADP[c] + PROTON[c] + THZ-P[c]",
           0,
           0
          ],
          [
           "THIOREDOXIN-REDUCT-NADPH-RXN",
           "NADPH[c] + Ox-Thioredoxin[c] + PROTON[c] --> NADP[c] + Red-Thioredoxin[c]",
           0.011273064596092699,
           0
          ],
          [
           "THREODEHYD-RXN",
           "NAD[c] + THR[c] --> AMINO-OXOBUT[c] + NADH[c] + PROTON[c]",
           0,
           0
          ],
          [
           "THREONINE-ALDOLASE-RXN",
           "THR[c] --> ACETALD[c] + GLY[c]",
           0,
           0.0455903992875669
          ],
          [
           "THRESYN-RXN",
           "O-PHOSPHO-L-HOMOSERINE[c] + WATER[c] --> Pi[c] + THR[c]",
           0.010505158994342931,
           0.08003431326326889
          ],
          [
           "THYKI-RXN",
           "ATP[c] + THYMIDINE[c] --> ADP[c] + PROTON[c] + TMP[c]",
           0,
           0
          ],
          [
           "THYM-PHOSPH-RXN",
           "Pi[c] + THYMIDINE[c] <=> DEOXY-D-RIBOSE-1-PHOSPHATE[c] + THYMINE[c]",
           0,
           0
          ],
          [
           "TRANS-RXN-1",
           "FORMATE[c] <=> FORMATE[p]",
           0,
           0
          ],
          [
           "TRANS-RXN-132",
           "PROTON[p] + URACIL[p] --> PROTON[c] + URACIL[c]",
           0,
           0
          ],
          [
           "TRANS-RXN-141",
           "MG+2[p] <=> MG+2[c]",
           0.0003592310771774862,
           0.0005490484545460168
          ],
          [
           "TRANS-RXN-141A",
           "CO+2[p] <=> CO+2[c]",
           0.0000010352480610302196,
           0.0000015822722033026412
          ],
          [
           "TRANS-RXN-283",
           "ATP[c] + BETAINE[p] + WATER[c] --> ADP[c] + BETAINE[c] + PROTON[c] + Pi[c]",
           0,
           0
          ],
          [
           "TRANS-RXN0-239",
           "NITRATE[p] + NITRITE[c] --> NITRATE[c] + NITRITE[p]",
           0,
           0
          ],
          [
           "TRANS-RXN0-277",
           "NADH[c] + NADP[c] + PROTON[p] --> NADPH[c] + NAD[c] + PROTON[c]",
           0,
           0
          ],
          [
           "TRANS-RXN0-544",
           "AMMONIA[p] --> AMMONIA[c]",
           0,
           0
          ],
          [
           "TRANS-RXN1G48-13-CPD-397//CPD-397.17.",
           "CPD-397[p] --> CPD-397[c]",
           0,
           0
          ],
          [
           "TRANS-RXN1G48-13-GLY//GLY.9.",
           "GLY[p] --> GLY[c]",
           0,
           0
          ],
          [
           "TRANS-RXN1G48-13-L-CYSTATHIONINE//L-CYSTATHIONINE.33.",
           "L-CYSTATHIONINE[p] --> L-CYSTATHIONINE[c]",
           0,
           0
          ],
          [
           "TRANS-RXN1G48-13-L-SELENOCYSTEINE//L-SELENOCYSTEINE.35.",
           "L-SELENOCYSTEINE[p] --> L-SELENOCYSTEINE[c]",
           0,
           0
          ],
          [
           "TRANS-RXN1G48-17-FE+2/PROTON//FE+2/PROTON.25.",
           "FE+2[p] + PROTON[p] --> FE+2[c] + PROTON[c]",
           0,
           0
          ],
          [
           "TRANS-RXN1G48-17-K+/PROTON//K+/PROTON.21.",
           "K+[p] + PROTON[p] --> K+[c] + PROTON[c]",
           0,
           0.012353938327170098
          ],
          [
           "TRANS-RXN1G48-17-MN+2/PROTON//MN+2/PROTON.25.",
           "MN+2[p] + PROTON[p] --> MN+2[c] + PROTON[c]",
           0,
           0
          ],
          [
           "TRANS-RXN1G48-17-ZN+2/PROTON//ZN+2/PROTON.25.",
           "PROTON[p] + ZN+2[p] --> PROTON[c] + ZN+2[c]",
           0.000014120783552452194,
           0
          ],
          [
           "TRANS-RXN1G48-19-NITRITE//NITRITE.17.",
           "NITRITE[p] --> NITRITE[c]",
           0,
           0
          ],
          [
           "TRANS-RXN1G48-19-S2O3//S2O3.11.",
           "S2O3[p] --> S2O3[c]",
           0,
           0
          ],
          [
           "TRANS-RXN1G48-5-NA+/ACET//NA+/ACET.19.",
           "ACET[p] + NA+[p] --> ACET[c] + NA+[c]",
           0,
           0
          ],
          [
           "TRANS-RXN1G48-5-PROTON/ACET//PROTON/ACET.25.",
           "ACET[p] + PROTON[p] --> ACET[c] + PROTON[c]",
           0,
           0
          ],
          [
           "TRANS-RXN1G48-6-Pi/PROTON//Pi/PROTON.21.",
           "PROTON[p] + Pi[p] --> PROTON[c] + Pi[c]",
           0,
           0.0581238200249719
          ],
          [
           "TRANS-RXN1G48-6-SULFATE/PROTON//SULFATE/PROTON.31.",
           "PROTON[p] + SULFATE[p] --> PROTON[c] + SULFATE[c]",
           0,
           0.005847381863637116
          ],
          [
           "TRANS-RXN1G48-9-ASN/PROTON//ASN/PROTON.23.",
           "ASN[p] + PROTON[p] --> ASN[c] + PROTON[c]",
           0,
           0
          ],
          [
           "TRANS-RXN1G48-9-B-ALANINE/PROTON//B-ALANINE/PROTON.35.",
           "B-ALANINE[p] + PROTON[p] --> B-ALANINE[c] + PROTON[c]",
           0,
           0
          ],
          [
           "TRANS-RXN1G48-9-D-ALANINE/PROTON//D-ALANINE/PROTON.35.",
           "D-ALANINE[p] + PROTON[p] --> D-ALANINE[c] + PROTON[c]",
           0,
           0
          ],
          [
           "TRANS-RXN1G48-9-GLY/PROTON//GLY/PROTON.23.",
           "GLY[p] + PROTON[p] --> GLY[c] + PROTON[c]",
           0,
           0
          ],
          [
           "TRANS-RXN1G48-9-L-ALPHA-ALANINE/PROTON//L-ALPHA-ALANINE/PROTON.47.",
           "L-ALPHA-ALANINE[p] + PROTON[p] --> L-ALPHA-ALANINE[c] + PROTON[c]",
           0,
           0
          ],
          [
           "TRANS-RXN1G48-9-LYS/PROTON//LYS/PROTON.23.",
           "LYS[p] + PROTON[p] --> LYS[c] + PROTON[c]",
           0,
           0
          ],
          [
           "TRANS-RXN1G48-9-PHE/PROTON//PHE/PROTON.23.",
           "PHE[p] + PROTON[p] --> PHE[c] + PROTON[c]",
           0,
           0
          ],
          [
           "TRANS-RXN1G48-9-PRO/PROTON//PRO/PROTON.23.",
           "PROTON[p] + PRO[p] --> PROTON[c] + PRO[c]",
           0,
           0
          ],
          [
           "TRANS-RXN1G48-9-SER/PROTON//SER/PROTON.23.",
           "PROTON[p] + SER[p] --> PROTON[c] + SER[c]",
           0,
           0
          ],
          [
           "TRANS-RXN1G48-9-THR/PROTON//THR/PROTON.23.",
           "PROTON[p] + THR[p] --> PROTON[c] + THR[c]",
           0,
           0
          ],
          [
           "TRANS-RXN1G48-9-TRP/PROTON//TRP/PROTON.23.",
           "PROTON[p] + TRP[p] --> PROTON[c] + TRP[c]",
           0,
           0
          ],
          [
           "TRANS-RXN1G48-9-TYR/PROTON//TYR/PROTON.23.",
           "PROTON[p] + TYR[p] --> PROTON[c] + TYR[c]",
           0,
           0
          ],
          [
           "TRANSALDOL-RXN",
           "D-SEDOHEPTULOSE-7-P[c] + GAP[c] --> ERYTHROSE-4P[c] + FRUCTOSE-6P[c]",
           0.015782108230871037,
           -0.011449363857019433
          ],
          [
           "TRIOSEPISOMERIZATION-RXN",
           "GAP[c] <=> DIHYDROXY-ACETONE-PHOSPHATE[c]",
           -0.36600689257206614,
           -0.37089851262679796
          ],
          [
           "TSA-REDUCT-RXN-GLYCERATE/NAD//TARTRONATE-S-ALD/NADH/PROTON.44.",
           "GLYCERATE[c] + NAD[c] <=> NADH[c] + PROTON[c] + TARTRONATE-S-ALD[c]",
           0,
           0
          ],
          [
           "TSA-REDUCT-RXN-GLYCERATE/NADP//TARTRONATE-S-ALD/NADPH/PROTON.46.",
           "NADPH[c] + PROTON[c] + TARTRONATE-S-ALD[c] --> GLYCERATE[c] + NADP[c]",
           0,
           0
          ],
          [
           "TYROSINE-AMINOTRANSFERASE-RXN",
           "2-KETOGLUTARATE[c] + TYR[c] <=> GLT[c] + P-HYDROXY-PHENYLPYRUVATE[c]",
           -0.005710262664952926,
           -0.00872756030986484
          ],
          [
           "UDP-NACMUR-ALA-LIG-RXN",
           "ATP[c] + L-ALPHA-ALANINE[c] + UDP-N-ACETYLMURAMATE[c] --> ADP[c] + CPD0-1456[c] + PROTON[c] + Pi[c]",
           0.0011506989247963095,
           0.0008793635997074782
          ],
          [
           "UDP-NACMURALA-GLU-LIG-RXN",
           "ATP[c] + CPD0-1456[c] + D-GLT[c] --> ADP[c] + PROTON[c] + Pi[c] + UDP-AA-GLUTAMATE[c]",
           0.0011506989247963095,
           0.0008793635997074782
          ],
          [
           "UDP-NACMURALGLDAPAALIG-RXN",
           "ATP[c] + D-ALA-D-ALA[c] + UDP-AAGM-DIAMINOHEPTANEDIOATE[c] --> ADP[c] + C1[c] + PROTON[c] + Pi[c]",
           0.0011506989247963095,
           0.0008793635997074782
          ],
          [
           "UDP-NACMURALGLDAPLIG-RXN",
           "ATP[c] + MESO-DIAMINOPIMELATE[c] + UDP-AA-GLUTAMATE[c] --> ADP[c] + PROTON[c] + Pi[c] + UDP-AAGM-DIAMINOHEPTANEDIOATE[c]",
           0.0011506989247963095,
           0.0008793635997074782
          ],
          [
           "UDPACYLGLCNACDEACETYL-RXN",
           "UDP-OHMYR-ACETYLGLUCOSAMINE[c] + WATER[c] --> ACET[c] + UDP-OHMYR-GLUCOSAMINE[c]",
           0,
           0.000002531635525284226
          ],
          [
           "UDPHYDROXYMYRGLUCOSAMNACETYLTRANS-RXN",
           "R-3-hydroxymyristoyl-ACPs[c] + UDP-OHMYR-GLUCOSAMINE[c] --> ACP[c] + OH-MYRISTOYL[c] + PROTON[c]",
           0,
           0.000002531635525284226
          ],
          [
           "UDPKIN-RXN",
           "ATP[c] + UDP[c] --> ADP[c] + UTP[c]",
           0.014916061112935605,
           0.020788145370542632
          ],
          [
           "UDPNACETYLGLUCOSAMACYLTRANS-RXN",
           "R-3-hydroxymyristoyl-ACPs[c] + UDP-N-ACETYL-D-GLUCOSAMINE[c] --> ACP[c] + UDP-OHMYR-ACETYLGLUCOSAMINE[c]",
           0,
           0.000002531635525284226
          ],
          [
           "UDPNACETYLGLUCOSAMENOLPYRTRANS-RXN",
           "PHOSPHO-ENOL-PYRUVATE[c] + UDP-N-ACETYL-D-GLUCOSAMINE[c] --> Pi[c] + UDP-ACETYL-CARBOXYVINYL-GLUCOSAMINE[c]",
           0.0011506989247963095,
           0.0008793635997074782
          ],
          [
           "UDPNACETYLMURAMATEDEHYDROG-RXN",
           "NADPH[c] + PROTON[c] + UDP-ACETYL-CARBOXYVINYL-GLUCOSAMINE[c] --> NADP[c] + UDP-N-ACETYLMURAMATE[c]",
           0.0011506989247963095,
           0.0008793635997074782
          ],
          [
           "UDPREDUCT-RXN",
           "Red-Thioredoxin[c] + UDP[c] --> DUDP[c] + Ox-Thioredoxin[c] + WATER[c]",
           0,
           0
          ],
          [
           "UGD-RXN",
           "CPD-12575[c] + 2.0 NAD[c] + WATER[c] --> 2.0 NADH[c] + 3.0 PROTON[c] + UDP-GLUCURONATE[c]",
           0,
           0
          ],
          [
           "UNDECAPRENYL-DIPHOSPHATASE-RXN",
           "UNDECAPRENYL-DIPHOSPHATE[c] + WATER[c] --> CPD-9646[c] + PROTON[c] + Pi[c]",
           0.0011506989247963095,
           0.0008793635997074782
          ],
          [
           "URA-PHOSPH-RXN",
           "DEOXYURIDINE[c] + Pi[c] --> DEOXY-D-RIBOSE-1-PHOSPHATE[c] + URACIL[c]",
           0,
           0
          ],
          [
           "URACIL-PRIBOSYLTRANS-RXN",
           "PRPP[c] + URACIL[c] --> PPI[c] + UMP[c]",
           0,
           0
          ],
          [
           "UROGENIIISYN-RXN",
           "HYDROXYMETHYLBILANE[c] --> UROPORPHYRINOGEN-III[c] + WATER[c]",
           0,
           0.000028227736106919118
          ],
          [
           "UROPORIIIMETHYLTRANSA-RXN",
           "S-ADENOSYLMETHIONINE[c] + UROPORPHYRINOGEN-III[c] --> ADENOSYL-HOMO-CYS[c] + CPD-9038[c] + PROTON[c]",
           0,
           0.000014113868053459559
          ],
          [
           "URUR-RXN",
           "CPD0-2298[c] + WATER[c] --> AMMONIUM[c] + CPD-1091[c]",
           0,
           0
          ],
          [
           "XANPRIBOSYLTRAN-RXN",
           "PRPP[c] + XANTHINE[c] --> PPI[c] + XANTHOSINE-5-PHOSPHATE[c]",
           0,
           0
          ],
          [
           "XANTHOSINEPHOSPHORY-RXN",
           "Pi[c] + XANTHOSINE[c] --> RIBOSE-1P[c] + XANTHINE[c]",
           0,
           0
          ],
          [
           "XMPXAN-RXN",
           "WATER[c] + XANTHOSINE-5-PHOSPHATE[c] --> Pi[c] + XANTHOSINE[c]",
           0,
           0
          ],
          [
           "RXN0-1133",
           "CO-A[c] + Pyruvate-dehydrogenase-acetylDHlipoyl[c] --> ACETYL-COA[c] + Pyruvate-dehydrogenase-dihydrolipoate[c]",
           0,
           0
          ],
          [
           "RXN0-1132",
           "NAD[c] + Pyruvate-dehydrogenase-dihydrolipoate[c] --> NADH[c] + PROTON[c] + Pyruvate-dehydrogenase-lipoate[c]",
           0,
           0
          ]
         ],
         "hovertemplate": "<b>%{customdata[0]}</b><br>rpom flux: %{customdata[2]}<br>ecoli flux: %{customdata[3]}<br>rxn: %{customdata[1]}",
         "legendgroup": "",
         "marker": {
          "color": "#636efa",
          "opacity": 0.5,
          "symbol": "circle"
         },
         "mode": "markers",
         "name": "",
         "orientation": "h",
         "showlegend": false,
         "type": "scatter",
         "x": [
          0.005757138697156375,
          0.010189532565496031,
          0.00002385211532612941,
          0.018656453767360234,
          1e-18,
          0.00230139784959262,
          0.011514277394312749,
          0.01577287381816665,
          0.007671809281070546,
          0.00009892830471204955,
          1e-18,
          0.00009892830471204955,
          0.5178456150100924,
          1e-18,
          0.01577287381816665,
          1e-18,
          1e-18,
          0.018656453767360234,
          1e-18,
          0.010189532565496031,
          0.5178456150100924,
          0.011514277394312749,
          0.011514277394312749,
          0.011514277394312749,
          1e-18,
          0.3718583630725432,
          0.07020261420388149,
          1e-18,
          1e-18,
          0.000009234412704390558,
          0.00002385211532612941,
          0.010189532565496031,
          0.03620341148275315,
          0.03620341148275315,
          0.012030783356921947,
          0.012030783356921947,
          0.03467124435242844,
          1e-18,
          0.03467124435242844,
          1e-18,
          1e-18,
          0.003816172812492029,
          0.000027703238113159112,
          1e-18,
          1e-18,
          1e-18,
          1e-18,
          1e-18,
          1e-18,
          0.03203889840268653,
          1e-18,
          0.012383016157205584,
          0.010189532565496031,
          0.0010835320305966698,
          1e-18,
          0.018531975540500664,
          0.018531975540500664,
          1e-18,
          1e-18,
          1e-18,
          1e-18,
          1e-18,
          1e-18,
          1e-18,
          0.022422520573698406,
          1e-18,
          1e-18,
          1e-18,
          1e-18,
          0.012383016157205584,
          0.01224872377873003,
          0.01224872377873003,
          0.18798903900557695,
          0.044270271423912835,
          0.044270271423912835,
          0.013698195293939657,
          1e-18,
          1e-18,
          2.355324688654161,
          1e-18,
          0.012030783356921947,
          1e-18,
          0.00000461720635219578,
          0.004761147242600415,
          1e-18,
          0.01577287381816665,
          0.013382071946023472,
          0.000009234412704390558,
          0.9405683699928626,
          0.9405683699928626,
          1e-18,
          1e-18,
          1e-18,
          1e-18,
          1e-18,
          1e-18,
          1e-18,
          0.01577287381816665,
          0.0011506989247963106,
          0.0011187718745941386,
          1e-18,
          1e-18,
          1e-18,
          1e-18,
          1e-18,
          1e-18,
          1e-18,
          1e-18,
          0.00002385211532612941,
          1e-18,
          1e-18,
          1e-18,
          1e-18,
          0.014210270394847648,
          0.015360969319643957,
          0.015360969319643957,
          0.000027703238113159112,
          0.000027703238113159112,
          1e-18,
          0.03620341148275315,
          0.012030783356921947,
          0.00003693765081755924,
          1e-18,
          1e-18,
          0.0010835320305966698,
          1e-18,
          0.0010835320305966698,
          0.00010816271741643911,
          1e-18,
          0.006229211812986155,
          1e-18,
          1e-18,
          1e-18,
          1e-18,
          0.000009234412704390558,
          0.000009234412704390558,
          0.3718583630725432,
          1e-18,
          0.000009234412704390558,
          0.0002780676291927179,
          0.018531975540500664,
          0.00001151195843865711,
          1e-18,
          1e-18,
          0.0612152530967777,
          0.022422520573698406,
          1e-18,
          0.7401109571485186,
          0.15750096881898087,
          0.15750096881898087,
          1e-18,
          1e-18,
          0.07020261420388149,
          1e-18,
          1e-18,
          1e-18,
          1e-18,
          1e-18,
          1e-18,
          1e-18,
          0.0033210757797849447,
          1e-18,
          1e-18,
          0.1202531428930746,
          0.009153870405241408,
          0.002876747311990775,
          1e-18,
          1e-18,
          1e-18,
          1e-18,
          1e-18,
          1e-18,
          0.018531975540500664,
          0.00001151195843865711,
          1e-18,
          0.000027703238113159112,
          1e-18,
          1e-18,
          0.010072052615530321,
          0.000027703238113159112,
          0.000027703238113159112,
          2.0226853407198533,
          2.0226853407198533,
          0.000027703238113159112,
          0.000027703238113159112,
          1e-18,
          0.003923093232235239,
          0.003923093232235239,
          0.003923093232235239,
          1e-18,
          1e-18,
          0.028909302104268876,
          0.010505158994342933,
          1e-18,
          1e-18,
          0.002353864221325631,
          0.003923093232235239,
          0.010072052615530321,
          1e-18,
          1e-18,
          0.00001151195843865711,
          1e-18,
          1e-18,
          0.00009892830471204955,
          1e-18,
          1e-18,
          1e-18,
          1e-18,
          1e-18,
          1e-18,
          1e-18,
          1e-18,
          1e-18,
          1e-18,
          1e-18,
          1e-18,
          0.0603250225841342,
          1e-18,
          1e-18,
          1e-18,
          1e-18,
          1e-18,
          0.006229211812986155,
          0.00003693765081755924,
          1e-18,
          1e-18,
          1e-18,
          1e-18,
          1e-18,
          1e-18,
          0.06118754985866454,
          0.06118754985866454,
          1e-18,
          0.000028614256406876265,
          1e-18,
          1e-18,
          0.0011506989247963106,
          0.000018510235331171576,
          1e-18,
          0.00009433180332067792,
          0.00230139784959262,
          1e-18,
          1e-18,
          1e-18,
          0.8691801897094854,
          1e-18,
          1e-18,
          1e-18,
          1e-18,
          1e-18,
          1e-18,
          1e-18,
          0.022422520573698406,
          0.013698195293939657,
          0.00002385211532612941,
          0.00002385211532612941,
          0.00002385211532612941,
          0.00002385211532612941,
          0.000009234412704390558,
          1e-18,
          1e-18,
          1e-18,
          0.22226534213842616,
          1e-18,
          1e-18,
          1e-18,
          0.7401109571485186,
          0.0011506989247963106,
          0.002642532790663298,
          1e-18,
          1e-18,
          1e-18,
          1e-18,
          1e-18,
          1e-18,
          0.002353864221325631,
          0.007671809281070546,
          0.005710262664952927,
          0.003923093232235239,
          0.0033210757797849447,
          0.319520949232648,
          0.06118754985866454,
          0.018531975540500664,
          0.038601460091321864,
          1e-18,
          1e-18,
          1e-18,
          0.002353864221325631,
          1e-18,
          1e-18,
          1e-18,
          1e-18,
          1e-18,
          0.00009433180332067792,
          1e-18,
          0.000018468825408780116,
          0.000009234412704390558,
          0.000018468825408780116,
          0.000018468825408780116,
          1e-18,
          0.000018468825408780116,
          1e-18,
          0.015782108230871037,
          1e-18,
          1e-18,
          1e-18,
          1e-18,
          1e-18,
          1e-18,
          1e-18,
          1e-18,
          1e-18,
          1e-18,
          1e-18,
          1e-18,
          1e-18,
          1e-18,
          1e-18,
          1e-18,
          1e-18,
          0.06118754985866454,
          1e-18,
          0.005879919117194553,
          0.014848894218735966,
          1e-18,
          1e-18,
          1e-18,
          1e-18,
          1e-18,
          1e-18,
          1e-18,
          1e-18,
          1e-18,
          1e-18,
          1e-18,
          1e-18,
          1e-18,
          0.000009234412704390558,
          1e-18,
          1e-18,
          1e-18,
          0.01224872377873003,
          1e-18,
          1e-18,
          1e-18,
          0.002642532790663298,
          1e-18,
          1e-18,
          0.015360969319643957,
          1e-18,
          1e-18,
          1e-18,
          1e-18,
          1e-18,
          1e-18,
          1e-18,
          1e-18,
          1e-18,
          1e-18,
          1e-18,
          1e-18,
          1e-18,
          1e-18,
          1e-18,
          1e-18,
          1e-18,
          1e-18,
          1e-18,
          1e-18,
          1e-18,
          1e-18,
          1e-18,
          1e-18,
          1e-18,
          1e-18,
          1e-18,
          1e-18,
          1e-18,
          1e-18,
          1e-18,
          1e-18,
          1e-18,
          1e-18,
          1e-18,
          1e-18,
          1e-18,
          1e-18,
          1e-18,
          1e-18,
          1e-18,
          1e-18,
          1e-18,
          1e-18,
          1e-18,
          1e-18,
          1e-18,
          1e-18,
          1e-18,
          1e-18,
          1e-18,
          1e-18,
          1e-18,
          1e-18,
          1e-18,
          1e-18,
          1e-18,
          1e-18,
          1e-18,
          1e-18,
          1e-18,
          1e-18,
          1e-18,
          1e-18,
          1e-18,
          1e-18,
          1e-18,
          1e-18,
          1e-18,
          1e-18,
          1e-18,
          0.15750096881898087,
          1e-18,
          1e-18,
          1e-18,
          1e-18,
          0.06679838729983631,
          1e-18,
          1e-18,
          0.018656453767360234,
          0.000009234412704390558,
          0.0000022775457342675526,
          0.011514277394312749,
          1e-18,
          0.011514277394312749,
          0.011514277394312749,
          1e-18,
          0.011514277394312749,
          1e-18,
          0.011514277394312749,
          1e-18,
          0.011514277394312749,
          0.011514277394312749,
          1e-18,
          0.011514277394312749,
          0.011514277394312749,
          1e-18,
          0.011514277394312749,
          1e-18,
          1e-18,
          1e-18,
          0.4454375083369833,
          1e-18,
          0.011514277394312749,
          0.011514277394312749,
          1e-18,
          1e-18,
          1e-18,
          1e-18,
          0.011514277394312749,
          0.011514277394312749,
          0.00009433180332067792,
          0.06679838729983631,
          0.07020261420388149,
          1e-18,
          1e-18,
          1e-18,
          1e-18,
          1e-18,
          1e-18,
          1e-18,
          0.002353864221325631,
          0.002353864221325631,
          0.319520949232648,
          0.00009892830471204955,
          1e-18,
          1e-18,
          1e-18,
          1e-18,
          1e-18,
          1e-18,
          1e-18,
          1e-18,
          1e-18,
          1e-18,
          0.22226534213842616,
          1e-18,
          1e-18,
          0.16773441069152345,
          1e-18,
          1e-18,
          1e-18,
          1e-18,
          1e-18,
          1e-18,
          1e-18,
          1e-18,
          1e-18,
          1e-18,
          1e-18,
          0.011514277394312749,
          1e-18,
          1e-18,
          0.0010835320305966698,
          1e-18,
          1e-18,
          1e-18,
          1e-18,
          1e-18,
          1e-18,
          0.000009234412704390217,
          1e-18,
          0.018531975540500664,
          0.003816172812492029,
          0.01577287381816665,
          0.01577287381816665,
          0.3653475297716686,
          0.015360969319643957,
          0.022422520573698406,
          0.015360969319643957,
          1e-18,
          0.010189532565496031,
          0.010189532565496031,
          0.015360969319643957,
          1e-18,
          1e-18,
          1e-18,
          1e-18,
          0.0112730645960927,
          1e-18,
          1e-18,
          0.010505158994342933,
          1e-18,
          1e-18,
          1e-18,
          1e-18,
          0.00035923107717748717,
          0.0000010352480610312195,
          1e-18,
          1e-18,
          1e-18,
          1e-18,
          1e-18,
          1e-18,
          1e-18,
          1e-18,
          1e-18,
          1e-18,
          1e-18,
          0.000014120783552453193,
          1e-18,
          1e-18,
          1e-18,
          1e-18,
          1e-18,
          1e-18,
          1e-18,
          1e-18,
          1e-18,
          1e-18,
          1e-18,
          1e-18,
          1e-18,
          1e-18,
          1e-18,
          1e-18,
          1e-18,
          1e-18,
          0.015782108230871037,
          0.36600689257206614,
          1e-18,
          1e-18,
          0.005710262664952927,
          0.0011506989247963106,
          0.0011506989247963106,
          0.0011506989247963106,
          0.0011506989247963106,
          1e-18,
          1e-18,
          0.014916061112935607,
          1e-18,
          0.0011506989247963106,
          0.0011506989247963106,
          1e-18,
          1e-18,
          0.0011506989247963106,
          1e-18,
          1e-18,
          1e-18,
          1e-18,
          1e-18,
          1e-18,
          1e-18,
          1e-18,
          1e-18,
          1e-18
         ],
         "xaxis": "x",
         "y": [
          0.00880173723075567,
          1e-18,
          0.00003645555156410221,
          0.028514507121045692,
          1e-18,
          0.0017612588349402416,
          0.017606955460358596,
          0.024093132257913055,
          0.011725586389794556,
          0.009824201528529837,
          0.3798136671290863,
          0.009824201528529837,
          0.6558836002947854,
          0.03555660998298597,
          0.024093132257913055,
          1e-18,
          0.028514507121045692,
          0.028514507121045692,
          1e-18,
          0.005847381863637117,
          0.6558836002947854,
          1e-18,
          0.017606955460358596,
          1e-18,
          1e-18,
          1e-18,
          1e-18,
          1e-18,
          1e-18,
          1e-18,
          0.19075113137512759,
          1e-18,
          0.05533326147636789,
          0.05533326147636789,
          0.01838783843813252,
          0.01838783843813252,
          0.018720938382371793,
          0.018720938382371793,
          0.018720938382371793,
          0.06712815138866696,
          0.06712815138866696,
          0.005847381863637117,
          0.00004234160416038162,
          1e-18,
          1e-18,
          0.000030759371632204355,
          0.000030759371632204355,
          0.000030759371632204355,
          1e-18,
          0.12287824665424782,
          1e-18,
          0.018955620995552133,
          0.005847381863637117,
          1e-18,
          1e-18,
          0.02794476254606697,
          0.02794476254606697,
          1e-18,
          0.0017587271994149575,
          1e-18,
          1e-18,
          1e-18,
          1e-18,
          1e-18,
          1e-18,
          1e-18,
          1e-18,
          1e-18,
          1e-18,
          0.018955620995552133,
          0.018720938382371793,
          0.018720938382371793,
          0.06557898031983066,
          0.102648021011094,
          0.102648021011094,
          0.020682955914467067,
          1e-18,
          1e-18,
          7.431867610724271,
          0.12324552367810357,
          0.01838783843813252,
          1e-18,
          0.0000070569340267324875,
          0.018663660128612248,
          1e-18,
          0.024093132257913055,
          0.02045314669965939,
          1e-18,
          1e-18,
          0.11650494915573856,
          0.000002531635525285226,
          1e-18,
          1e-18,
          1e-18,
          1e-18,
          1e-18,
          1e-18,
          0.024093132257913055,
          0.0008793635997074792,
          1e-18,
          1e-18,
          1e-18,
          1e-18,
          1e-18,
          1e-18,
          1e-18,
          1e-18,
          1e-18,
          0.00003645555156410221,
          1e-18,
          1e-18,
          1e-18,
          1e-18,
          0.021719597371182828,
          0.022598960970890303,
          0.022598960970890303,
          0.00004234160416038162,
          0.00004234160416038162,
          1e-18,
          0.05533326147636789,
          0.01838783843813252,
          0.00005645547221383924,
          1e-18,
          0.0016560693788646773,
          1e-18,
          3.168404344971009e-18,
          1e-18,
          0.009838315396583298,
          1e-18,
          1e-18,
          1e-18,
          1e-18,
          1e-18,
          1e-18,
          0.000014113868053460559,
          0.000014113868053460559,
          1e-18,
          1e-18,
          0.000014113868053460559,
          0.0009258191115964461,
          0.02794476254606697,
          0.0008969584666082045,
          1e-18,
          1e-18,
          1e-18,
          1e-18,
          1e-18,
          0.7089142654215266,
          1e-18,
          1e-18,
          0.033971574077558596,
          1e-18,
          1e-18,
          1e-18,
          1e-18,
          1e-18,
          1e-18,
          0.016881452009700277,
          0.0743064140479191,
          1e-18,
          1e-18,
          1e-18,
          1e-18,
          0.45088669210685617,
          0.013990767276042615,
          0.0008793635997074792,
          0.00022582188885535395,
          1e-18,
          1e-18,
          1e-18,
          1e-18,
          1e-18,
          0.02794476254606697,
          0.0008969584666082045,
          0.00022582188885535395,
          0.00004234160416038162,
          1e-18,
          1e-18,
          0.015015953082006466,
          0.00004234160416038162,
          0.00004234160416038162,
          1e-18,
          1e-18,
          0.00004234160416038162,
          0.00004234160416038162,
          0.005996052159859426,
          0.005996052159859426,
          0.005996052159859426,
          0.005996052159859426,
          0.005996052159859426,
          0.0800490600402037,
          1e-18,
          0.08003431326326889,
          0.000014746776934819073,
          1e-18,
          0.003597643954093282,
          0.005996052159859426,
          0.015015953082006466,
          1e-18,
          0.18854564434483748,
          1e-18,
          1e-18,
          1e-18,
          0.008927243061921634,
          0.000002531635525285226,
          0.000002531635525285226,
          0.000001265817762643113,
          0.000001265817762643113,
          1e-18,
          1e-18,
          1e-18,
          1e-18,
          1e-18,
          1e-18,
          1e-18,
          1e-18,
          0.0017612588349402416,
          1e-18,
          1e-18,
          1e-18,
          0.000001265817762643113,
          0.000001265817762643113,
          1e-18,
          0.00005645547221383924,
          1e-18,
          0.12324552367810357,
          1e-18,
          1e-18,
          1e-18,
          1e-18,
          1e-18,
          1e-18,
          1e-18,
          0.00004373400369928612,
          1e-18,
          0.018720938382371793,
          0.0008793635997074792,
          0.000028291026994992166,
          1e-18,
          0.00014417664316487933,
          0.0017612588349402416,
          1e-18,
          1e-18,
          1e-18,
          0.005543807118710439,
          1e-18,
          1e-18,
          1e-18,
          1e-18,
          1e-18,
          1e-18,
          1e-18,
          1e-18,
          0.020682955914467067,
          0.00003645555156410221,
          0.00003645555156410221,
          0.00003645555156410221,
          0.00003645555156410221,
          0.000014113868053460559,
          1e-18,
          1e-18,
          1e-18,
          0.05303066512674111,
          1e-18,
          1e-18,
          0.024570851881534194,
          0.7089142654215266,
          0.0008793635997074792,
          0.008799205595230387,
          0.00011291094442767748,
          1e-18,
          1e-18,
          1e-18,
          0.00003075937163220442,
          1e-18,
          0.003597643954093282,
          0.011725586389794556,
          0.008727560309864841,
          0.005996052159859426,
          1e-18,
          1e-18,
          1e-18,
          0.02794476254606697,
          0.05836559121765349,
          1e-18,
          1e-18,
          1e-18,
          0.003597643954093282,
          1e-18,
          1e-18,
          1e-18,
          1e-18,
          0.04747197410082999,
          0.00014417664316487933,
          1e-18,
          0.000028227736106920118,
          0.000014113868053460559,
          0.000028227736106920118,
          0.000028227736106920118,
          1e-18,
          0.000028227736106920118,
          0.000030759371632204355,
          0.0470059738400053,
          1e-18,
          1e-18,
          9.493633219825848e-7,
          9.493633219825848e-7,
          9.493633219825848e-7,
          9.493633219825848e-7,
          9.493633219825848e-7,
          9.493633219825848e-7,
          9.493633219825848e-7,
          9.493633219825848e-7,
          1e-18,
          1e-18,
          6.329088813220566e-7,
          6.329088813220566e-7,
          6.329088813220566e-7,
          6.329088813220566e-7,
          6.329088813220566e-7,
          1e-18,
          0.034811760617525805,
          0.018663660128612248,
          0.021563585331937193,
          1e-18,
          1e-18,
          1e-18,
          1e-18,
          1e-18,
          1e-18,
          1e-18,
          1e-18,
          1e-18,
          1e-18,
          1e-18,
          1e-18,
          1e-18,
          0.000014113868053460559,
          1e-18,
          1e-18,
          1e-18,
          0.018720938382371793,
          1e-18,
          1e-18,
          1e-18,
          1e-18,
          1e-18,
          0.022598960970890303,
          1e-18,
          1e-18,
          1e-18,
          1e-18,
          1e-18,
          1e-18,
          1e-18,
          0.03940389429683886,
          1e-18,
          1e-18,
          1e-18,
          1e-18,
          1e-18,
          1e-18,
          1e-18,
          1e-18,
          1e-18,
          1e-18,
          1e-18,
          1e-18,
          1e-18,
          1e-18,
          0.01838783843813252,
          0.01838783843813248,
          0.01838783843813252,
          1e-18,
          1e-18,
          1e-18,
          1e-18,
          1e-18,
          1e-18,
          1e-18,
          1e-18,
          1e-18,
          1e-18,
          1e-18,
          0.000002531635525285226,
          0.03940389429683886,
          0.03940389429683886,
          1e-18,
          1e-18,
          1e-18,
          1e-18,
          1e-18,
          1e-18,
          0.008800471412993028,
          1e-18,
          1e-18,
          1e-18,
          1e-18,
          1e-18,
          1e-18,
          1e-18,
          1e-18,
          1e-18,
          1e-18,
          1e-18,
          1e-18,
          1e-18,
          1e-18,
          1e-18,
          1e-18,
          1e-18,
          1e-18,
          1e-18,
          1e-18,
          1e-18,
          1e-18,
          0.028514507121045692,
          1e-18,
          1e-18,
          1e-18,
          1e-18,
          1e-18,
          1e-18,
          1e-18,
          1e-18,
          0.06717049299282733,
          0.000014113868053460559,
          0.000014746776934781614,
          0.028514507121045692,
          0.000014113868053460559,
          0.000882844598554745,
          1e-18,
          0.017606955460358596,
          0.017606955460358596,
          0.017606955460358596,
          0.017606955460358596,
          0.017606955460358596,
          0.017606955460358596,
          0.017606955460358596,
          0.017606006097036615,
          0.017606006097036615,
          0.017606006097036615,
          0.017606006097036615,
          0.017606006097036615,
          0.01760094282598605,
          0.01760094282598605,
          1e-18,
          1e-18,
          1e-18,
          1e-18,
          1e-18,
          1e-18,
          0.017606955460358596,
          1e-18,
          0.017606955460358596,
          0.017606955460358596,
          0.017606006097036615,
          0.017606006097036615,
          0.01760094282598605,
          0.01760094282598605,
          0.00014417664316485493,
          0.06717049299282733,
          1e-18,
          1e-18,
          1e-18,
          1e-18,
          9.493633219825848e-7,
          9.493633219825848e-7,
          9.493633219825848e-7,
          1e-18,
          0.003597643954093282,
          0.003597643954093282,
          1e-18,
          0.009824201528529837,
          1e-18,
          1e-18,
          1e-18,
          1e-18,
          1e-18,
          1e-18,
          1e-18,
          1e-18,
          1e-18,
          0.12324552367810357,
          0.05303066512674154,
          1e-18,
          1e-18,
          0.4117894527114963,
          1e-18,
          1e-18,
          1e-18,
          1e-18,
          1e-18,
          1e-18,
          1e-18,
          1e-18,
          1e-18,
          1e-18,
          1e-18,
          0.008800471412993028,
          1e-18,
          1e-18,
          1e-18,
          0.02794476254606697,
          0.02794476254606697,
          0.0008969584666082045,
          1e-18,
          1e-18,
          1e-18,
          0.00004550614856698491,
          1e-18,
          0.02794476254606697,
          0.005847381863637117,
          0.024093132257913055,
          0.024093132257913055,
          0.0226137077478252,
          0.022598960970890303,
          1e-18,
          0.022598960970890303,
          1e-18,
          0.005847381863637117,
          0.005847381863637117,
          0.022598960970890303,
          0.000001265817762643113,
          1e-18,
          1e-18,
          1e-18,
          1e-18,
          1e-18,
          0.0455903992875669,
          0.08003431326326889,
          1e-18,
          1e-18,
          1e-18,
          1e-18,
          0.0005490484545460178,
          0.0000015822722033036411,
          1e-18,
          1e-18,
          1e-18,
          1e-18,
          1e-18,
          1e-18,
          1e-18,
          1e-18,
          1e-18,
          0.0123539383271701,
          1e-18,
          1e-18,
          1e-18,
          1e-18,
          1e-18,
          1e-18,
          0.0581238200249719,
          0.005847381863637117,
          1e-18,
          1e-18,
          1e-18,
          1e-18,
          1e-18,
          1e-18,
          1e-18,
          1e-18,
          1e-18,
          1e-18,
          1e-18,
          1e-18,
          0.011449363857019435,
          0.37089851262679796,
          1e-18,
          1e-18,
          0.008727560309864841,
          0.0008793635997074792,
          0.0008793635997074792,
          0.0008793635997074792,
          0.0008793635997074792,
          0.000002531635525285226,
          0.000002531635525285226,
          0.020788145370542632,
          0.000002531635525285226,
          0.0008793635997074792,
          0.0008793635997074792,
          1e-18,
          1e-18,
          0.0008793635997074792,
          1e-18,
          1e-18,
          0.000028227736106920118,
          0.000014113868053460559,
          1e-18,
          1e-18,
          1e-18,
          1e-18,
          1e-18,
          1e-18
         ],
         "yaxis": "y"
        }
       ],
       "layout": {
        "height": 600,
        "legend": {
         "tracegroupgap": 0
        },
        "margin": {
         "t": 60
        },
        "template": {
         "data": {
          "bar": [
           {
            "error_x": {
             "color": "#2a3f5f"
            },
            "error_y": {
             "color": "#2a3f5f"
            },
            "marker": {
             "line": {
              "color": "#E5ECF6",
              "width": 0.5
             },
             "pattern": {
              "fillmode": "overlay",
              "size": 10,
              "solidity": 0.2
             }
            },
            "type": "bar"
           }
          ],
          "barpolar": [
           {
            "marker": {
             "line": {
              "color": "#E5ECF6",
              "width": 0.5
             },
             "pattern": {
              "fillmode": "overlay",
              "size": 10,
              "solidity": 0.2
             }
            },
            "type": "barpolar"
           }
          ],
          "carpet": [
           {
            "aaxis": {
             "endlinecolor": "#2a3f5f",
             "gridcolor": "white",
             "linecolor": "white",
             "minorgridcolor": "white",
             "startlinecolor": "#2a3f5f"
            },
            "baxis": {
             "endlinecolor": "#2a3f5f",
             "gridcolor": "white",
             "linecolor": "white",
             "minorgridcolor": "white",
             "startlinecolor": "#2a3f5f"
            },
            "type": "carpet"
           }
          ],
          "choropleth": [
           {
            "colorbar": {
             "outlinewidth": 0,
             "ticks": ""
            },
            "type": "choropleth"
           }
          ],
          "contour": [
           {
            "colorbar": {
             "outlinewidth": 0,
             "ticks": ""
            },
            "colorscale": [
             [
              0,
              "#0d0887"
             ],
             [
              0.1111111111111111,
              "#46039f"
             ],
             [
              0.2222222222222222,
              "#7201a8"
             ],
             [
              0.3333333333333333,
              "#9c179e"
             ],
             [
              0.4444444444444444,
              "#bd3786"
             ],
             [
              0.5555555555555556,
              "#d8576b"
             ],
             [
              0.6666666666666666,
              "#ed7953"
             ],
             [
              0.7777777777777778,
              "#fb9f3a"
             ],
             [
              0.8888888888888888,
              "#fdca26"
             ],
             [
              1,
              "#f0f921"
             ]
            ],
            "type": "contour"
           }
          ],
          "contourcarpet": [
           {
            "colorbar": {
             "outlinewidth": 0,
             "ticks": ""
            },
            "type": "contourcarpet"
           }
          ],
          "heatmap": [
           {
            "colorbar": {
             "outlinewidth": 0,
             "ticks": ""
            },
            "colorscale": [
             [
              0,
              "#0d0887"
             ],
             [
              0.1111111111111111,
              "#46039f"
             ],
             [
              0.2222222222222222,
              "#7201a8"
             ],
             [
              0.3333333333333333,
              "#9c179e"
             ],
             [
              0.4444444444444444,
              "#bd3786"
             ],
             [
              0.5555555555555556,
              "#d8576b"
             ],
             [
              0.6666666666666666,
              "#ed7953"
             ],
             [
              0.7777777777777778,
              "#fb9f3a"
             ],
             [
              0.8888888888888888,
              "#fdca26"
             ],
             [
              1,
              "#f0f921"
             ]
            ],
            "type": "heatmap"
           }
          ],
          "heatmapgl": [
           {
            "colorbar": {
             "outlinewidth": 0,
             "ticks": ""
            },
            "colorscale": [
             [
              0,
              "#0d0887"
             ],
             [
              0.1111111111111111,
              "#46039f"
             ],
             [
              0.2222222222222222,
              "#7201a8"
             ],
             [
              0.3333333333333333,
              "#9c179e"
             ],
             [
              0.4444444444444444,
              "#bd3786"
             ],
             [
              0.5555555555555556,
              "#d8576b"
             ],
             [
              0.6666666666666666,
              "#ed7953"
             ],
             [
              0.7777777777777778,
              "#fb9f3a"
             ],
             [
              0.8888888888888888,
              "#fdca26"
             ],
             [
              1,
              "#f0f921"
             ]
            ],
            "type": "heatmapgl"
           }
          ],
          "histogram": [
           {
            "marker": {
             "pattern": {
              "fillmode": "overlay",
              "size": 10,
              "solidity": 0.2
             }
            },
            "type": "histogram"
           }
          ],
          "histogram2d": [
           {
            "colorbar": {
             "outlinewidth": 0,
             "ticks": ""
            },
            "colorscale": [
             [
              0,
              "#0d0887"
             ],
             [
              0.1111111111111111,
              "#46039f"
             ],
             [
              0.2222222222222222,
              "#7201a8"
             ],
             [
              0.3333333333333333,
              "#9c179e"
             ],
             [
              0.4444444444444444,
              "#bd3786"
             ],
             [
              0.5555555555555556,
              "#d8576b"
             ],
             [
              0.6666666666666666,
              "#ed7953"
             ],
             [
              0.7777777777777778,
              "#fb9f3a"
             ],
             [
              0.8888888888888888,
              "#fdca26"
             ],
             [
              1,
              "#f0f921"
             ]
            ],
            "type": "histogram2d"
           }
          ],
          "histogram2dcontour": [
           {
            "colorbar": {
             "outlinewidth": 0,
             "ticks": ""
            },
            "colorscale": [
             [
              0,
              "#0d0887"
             ],
             [
              0.1111111111111111,
              "#46039f"
             ],
             [
              0.2222222222222222,
              "#7201a8"
             ],
             [
              0.3333333333333333,
              "#9c179e"
             ],
             [
              0.4444444444444444,
              "#bd3786"
             ],
             [
              0.5555555555555556,
              "#d8576b"
             ],
             [
              0.6666666666666666,
              "#ed7953"
             ],
             [
              0.7777777777777778,
              "#fb9f3a"
             ],
             [
              0.8888888888888888,
              "#fdca26"
             ],
             [
              1,
              "#f0f921"
             ]
            ],
            "type": "histogram2dcontour"
           }
          ],
          "mesh3d": [
           {
            "colorbar": {
             "outlinewidth": 0,
             "ticks": ""
            },
            "type": "mesh3d"
           }
          ],
          "parcoords": [
           {
            "line": {
             "colorbar": {
              "outlinewidth": 0,
              "ticks": ""
             }
            },
            "type": "parcoords"
           }
          ],
          "pie": [
           {
            "automargin": true,
            "type": "pie"
           }
          ],
          "scatter": [
           {
            "fillpattern": {
             "fillmode": "overlay",
             "size": 10,
             "solidity": 0.2
            },
            "type": "scatter"
           }
          ],
          "scatter3d": [
           {
            "line": {
             "colorbar": {
              "outlinewidth": 0,
              "ticks": ""
             }
            },
            "marker": {
             "colorbar": {
              "outlinewidth": 0,
              "ticks": ""
             }
            },
            "type": "scatter3d"
           }
          ],
          "scattercarpet": [
           {
            "marker": {
             "colorbar": {
              "outlinewidth": 0,
              "ticks": ""
             }
            },
            "type": "scattercarpet"
           }
          ],
          "scattergeo": [
           {
            "marker": {
             "colorbar": {
              "outlinewidth": 0,
              "ticks": ""
             }
            },
            "type": "scattergeo"
           }
          ],
          "scattergl": [
           {
            "marker": {
             "colorbar": {
              "outlinewidth": 0,
              "ticks": ""
             }
            },
            "type": "scattergl"
           }
          ],
          "scattermapbox": [
           {
            "marker": {
             "colorbar": {
              "outlinewidth": 0,
              "ticks": ""
             }
            },
            "type": "scattermapbox"
           }
          ],
          "scatterpolar": [
           {
            "marker": {
             "colorbar": {
              "outlinewidth": 0,
              "ticks": ""
             }
            },
            "type": "scatterpolar"
           }
          ],
          "scatterpolargl": [
           {
            "marker": {
             "colorbar": {
              "outlinewidth": 0,
              "ticks": ""
             }
            },
            "type": "scatterpolargl"
           }
          ],
          "scatterternary": [
           {
            "marker": {
             "colorbar": {
              "outlinewidth": 0,
              "ticks": ""
             }
            },
            "type": "scatterternary"
           }
          ],
          "surface": [
           {
            "colorbar": {
             "outlinewidth": 0,
             "ticks": ""
            },
            "colorscale": [
             [
              0,
              "#0d0887"
             ],
             [
              0.1111111111111111,
              "#46039f"
             ],
             [
              0.2222222222222222,
              "#7201a8"
             ],
             [
              0.3333333333333333,
              "#9c179e"
             ],
             [
              0.4444444444444444,
              "#bd3786"
             ],
             [
              0.5555555555555556,
              "#d8576b"
             ],
             [
              0.6666666666666666,
              "#ed7953"
             ],
             [
              0.7777777777777778,
              "#fb9f3a"
             ],
             [
              0.8888888888888888,
              "#fdca26"
             ],
             [
              1,
              "#f0f921"
             ]
            ],
            "type": "surface"
           }
          ],
          "table": [
           {
            "cells": {
             "fill": {
              "color": "#EBF0F8"
             },
             "line": {
              "color": "white"
             }
            },
            "header": {
             "fill": {
              "color": "#C8D4E3"
             },
             "line": {
              "color": "white"
             }
            },
            "type": "table"
           }
          ]
         },
         "layout": {
          "annotationdefaults": {
           "arrowcolor": "#2a3f5f",
           "arrowhead": 0,
           "arrowwidth": 1
          },
          "autotypenumbers": "strict",
          "coloraxis": {
           "colorbar": {
            "outlinewidth": 0,
            "ticks": ""
           }
          },
          "colorscale": {
           "diverging": [
            [
             0,
             "#8e0152"
            ],
            [
             0.1,
             "#c51b7d"
            ],
            [
             0.2,
             "#de77ae"
            ],
            [
             0.3,
             "#f1b6da"
            ],
            [
             0.4,
             "#fde0ef"
            ],
            [
             0.5,
             "#f7f7f7"
            ],
            [
             0.6,
             "#e6f5d0"
            ],
            [
             0.7,
             "#b8e186"
            ],
            [
             0.8,
             "#7fbc41"
            ],
            [
             0.9,
             "#4d9221"
            ],
            [
             1,
             "#276419"
            ]
           ],
           "sequential": [
            [
             0,
             "#0d0887"
            ],
            [
             0.1111111111111111,
             "#46039f"
            ],
            [
             0.2222222222222222,
             "#7201a8"
            ],
            [
             0.3333333333333333,
             "#9c179e"
            ],
            [
             0.4444444444444444,
             "#bd3786"
            ],
            [
             0.5555555555555556,
             "#d8576b"
            ],
            [
             0.6666666666666666,
             "#ed7953"
            ],
            [
             0.7777777777777778,
             "#fb9f3a"
            ],
            [
             0.8888888888888888,
             "#fdca26"
            ],
            [
             1,
             "#f0f921"
            ]
           ],
           "sequentialminus": [
            [
             0,
             "#0d0887"
            ],
            [
             0.1111111111111111,
             "#46039f"
            ],
            [
             0.2222222222222222,
             "#7201a8"
            ],
            [
             0.3333333333333333,
             "#9c179e"
            ],
            [
             0.4444444444444444,
             "#bd3786"
            ],
            [
             0.5555555555555556,
             "#d8576b"
            ],
            [
             0.6666666666666666,
             "#ed7953"
            ],
            [
             0.7777777777777778,
             "#fb9f3a"
            ],
            [
             0.8888888888888888,
             "#fdca26"
            ],
            [
             1,
             "#f0f921"
            ]
           ]
          },
          "colorway": [
           "#636efa",
           "#EF553B",
           "#00cc96",
           "#ab63fa",
           "#FFA15A",
           "#19d3f3",
           "#FF6692",
           "#B6E880",
           "#FF97FF",
           "#FECB52"
          ],
          "font": {
           "color": "#2a3f5f"
          },
          "geo": {
           "bgcolor": "white",
           "lakecolor": "white",
           "landcolor": "#E5ECF6",
           "showlakes": true,
           "showland": true,
           "subunitcolor": "white"
          },
          "hoverlabel": {
           "align": "left"
          },
          "hovermode": "closest",
          "mapbox": {
           "style": "light"
          },
          "paper_bgcolor": "white",
          "plot_bgcolor": "#E5ECF6",
          "polar": {
           "angularaxis": {
            "gridcolor": "white",
            "linecolor": "white",
            "ticks": ""
           },
           "bgcolor": "#E5ECF6",
           "radialaxis": {
            "gridcolor": "white",
            "linecolor": "white",
            "ticks": ""
           }
          },
          "scene": {
           "xaxis": {
            "backgroundcolor": "#E5ECF6",
            "gridcolor": "white",
            "gridwidth": 2,
            "linecolor": "white",
            "showbackground": true,
            "ticks": "",
            "zerolinecolor": "white"
           },
           "yaxis": {
            "backgroundcolor": "#E5ECF6",
            "gridcolor": "white",
            "gridwidth": 2,
            "linecolor": "white",
            "showbackground": true,
            "ticks": "",
            "zerolinecolor": "white"
           },
           "zaxis": {
            "backgroundcolor": "#E5ECF6",
            "gridcolor": "white",
            "gridwidth": 2,
            "linecolor": "white",
            "showbackground": true,
            "ticks": "",
            "zerolinecolor": "white"
           }
          },
          "shapedefaults": {
           "line": {
            "color": "#2a3f5f"
           }
          },
          "ternary": {
           "aaxis": {
            "gridcolor": "white",
            "linecolor": "white",
            "ticks": ""
           },
           "baxis": {
            "gridcolor": "white",
            "linecolor": "white",
            "ticks": ""
           },
           "bgcolor": "#E5ECF6",
           "caxis": {
            "gridcolor": "white",
            "linecolor": "white",
            "ticks": ""
           }
          },
          "title": {
           "x": 0.05
          },
          "xaxis": {
           "automargin": true,
           "gridcolor": "white",
           "linecolor": "white",
           "ticks": "",
           "title": {
            "standoff": 15
           },
           "zerolinecolor": "white",
           "zerolinewidth": 2
          },
          "yaxis": {
           "automargin": true,
           "gridcolor": "white",
           "linecolor": "white",
           "ticks": "",
           "title": {
            "standoff": 15
           },
           "zerolinecolor": "white",
           "zerolinewidth": 2
          }
         }
        },
        "width": 800,
        "xaxis": {
         "anchor": "y",
         "domain": [
          0,
          1
         ],
         "exponentformat": "power",
         "showexponent": "all",
         "title": {
          "text": "|Flux (<i>R. pom</i>)|"
         },
         "type": "log"
        },
        "yaxis": {
         "anchor": "x",
         "domain": [
          0,
          1
         ],
         "exponentformat": "power",
         "showexponent": "all",
         "title": {
          "text": "|Flux (<i>E. coli</i>)|"
         },
         "type": "log"
        }
       }
      },
      "text/html": [
       "<div>                            <div id=\"91c20122-c1cf-475c-8c72-00c84104ff17\" class=\"plotly-graph-div\" style=\"height:600px; width:800px;\"></div>            <script type=\"text/javascript\">                require([\"plotly\"], function(Plotly) {                    window.PLOTLYENV=window.PLOTLYENV || {};                                    if (document.getElementById(\"91c20122-c1cf-475c-8c72-00c84104ff17\")) {                    Plotly.newPlot(                        \"91c20122-c1cf-475c-8c72-00c84104ff17\",                        [{\"customdata\":[[\"1.1.1.8-RXN\",\"DIHYDROXY-ACETONE-PHOSPHATE[c] + NADH[c] + PROTON[c] --\\u003e GLYCEROL-3P[c] + NAD[c]\",0.0057571386971563745,0.008801737230755668],[\"1.8.4.8-RXN\",\"PAPS[c] + Red-Thioredoxin[c] --\\u003e 3-5-ADP[c] + Ox-Thioredoxin[c] + 2.0 PROTON[c] + SO3[c]\",0.01018953256549603,0.0],[\"2-DEHYDROPANTOATE-REDUCT-RXN\",\"2-DEHYDROPANTOATE[c] + NADPH[c] + PROTON[c] --\\u003e L-PANTOATE[c] + NADP[c]\",2.385211532612841e-05,3.6455551564101205e-05],[\"2-ISOPROPYLMALATESYN-RXN\",\"2-KETO-ISOVALERATE[c] + ACETYL-COA[c] + WATER[c] --\\u003e 3-CARBOXY-3-HYDROXY-ISOCAPROATE[c] + CO-A[c] + PROTON[c]\",0.018656453767360234,0.028514507121045692],[\"2-METHYLCITRATE-DEHYDRATASE-RXN\",\"CPD-622[c] --\\u003e CPD-1136[c] + WATER[c]\",0.0,0.0],[\"2.3.1.157-RXN\",\"ACETYL-COA[c] + GLUCOSAMINE-1P[c] --\\u003e CO-A[c] + N-ACETYL-D-GLUCOSAMINE-1-P[c] + PROTON[c]\",0.002301397849592619,0.0017612588349402406],[\"2.3.1.180-RXN\",\"ACETYL-COA[c] + MALONYL-ACP[c] + PROTON[c] --\\u003e Acetoacetyl-ACPs[c] + CARBON-DIOXIDE[c] + CO-A[c]\",0.011514277394312747,0.017606955460358596],[\"2.5.1.19-RXN\",\"PHOSPHO-ENOL-PYRUVATE[c] + SHIKIMATE-5P[c] --\\u003e 3-ENOLPYRUVYL-SHIKIMATE-5P[c] + Pi[c]\",0.01577287381816665,0.024093132257913055],[\"2.6.1.57-RXN-PHE\\u002f2-KETOGLUTARATE\\u002f\\u002fPHENYL-PYRUVATE\\u002fGLT.41.\",\"2-KETOGLUTARATE[c] + PHE[c] \\u003c=\\u003e GLT[c] + PHENYL-PYRUVATE[c]\",-0.007671809281070545,-0.011725586389794554],[\"2.7.1.148-RXN\",\"4-CYTIDINE-5-DIPHOSPHO-2-C[c] + ATP[c] --\\u003e 2-PHOSPHO-4-CYTIDINE-5-DIPHOSPHO-2-C-MET[c] + ADP[c] + PROTON[c]\",9.892830471204855e-05,0.009824201528529836],[\"2.7.3.9-RXN\",\"Hpr-Histidine[c] + PHOSPHO-ENOL-PYRUVATE[c] --\\u003e Hpr-pi-phospho-L-histidines[c] + PYRUVATE[c]\",0.0,0.3798136671290863],[\"2.7.7.60-RXN\",\"2-C-METHYL-D-ERYTHRITOL-4-PHOSPHATE[c] + CTP[c] + PROTON[c] --\\u003e 4-CYTIDINE-5-DIPHOSPHO-2-C[c] + PPI[c]\",9.892830471204855e-05,0.009824201528529836],[\"2PGADEHYDRAT-RXN\",\"2-PG[c] \\u003c=\\u003e PHOSPHO-ENOL-PYRUVATE[c] + WATER[c]\",0.5178456150100924,0.6558836002947854],[\"2TRANSKETO-RXN\",\"ERYTHROSE-4P[c] + XYLULOSE-5-PHOSPHATE[c] --\\u003e FRUCTOSE-6P[c] + GAP[c]\",0.0,-0.03555660998298597],[\"3-DEHYDROQUINATE-DEHYDRATASE-RXN\",\"DEHYDROQUINATE[c] --\\u003e 3-DEHYDRO-SHIKIMATE[c] + WATER[c]\",0.01577287381816665,0.024093132257913055],[\"3-HYDROXBUTYRYL-COA-DEHYDRATASE-RXN\",\"CPD-650[c] \\u003c=\\u003e CROTONYL-COA[c] + WATER[c]\",0.0,0.0],[\"3-ISOPROPYLMALDEHYDROG-RXN\",\"2-D-THREO-HYDROXY-3-CARBOXY-ISOCAPROATE[c] + NAD[c] --\\u003e CPD-7100[c] + NADH[c] + PROTON[c]\",0.0,0.028514507121045692],[\"3-ISOPROPYLMALISOM-RXN\",\"CPD-9451[c] + WATER[c] \\u003c=\\u003e 3-CARBOXY-3-HYDROXY-ISOCAPROATE[c]\",-0.018656453767360234,-0.028514507121045692],[\"3.6.3.20-RXN\",\"ATP[c] + GLYCEROL-3P[p] + WATER[c] --\\u003e ADP[c] + GLYCEROL-3P[c] + PROTON[c] + Pi[c]\",0.0,0.0],[\"325-BISPHOSPHATE-NUCLEOTIDASE-RXN\",\"3-5-ADP[c] + WATER[c] --\\u003e AMP[c] + Pi[c]\",0.01018953256549603,0.005847381863637116],[\"3PGAREARR-RXN\",\"2-PG[c] \\u003c=\\u003e G3P[c]\",-0.5178456150100924,-0.6558836002947854],[\"4.2.1.58-RXN\",\"Beta-3-hydroxybutyryl-ACPs[c] --\\u003e Crotonyl-ACPs[c] + WATER[c]\",0.011514277394312747,0.0],[\"4.2.1.59-RXN\",\"3-Hydroxy-octanoyl-ACPs[c] --\\u003e 2-Octenoyl-ACPs[c] + WATER[c]\",0.011514277394312747,0.017606955460358596],[\"4.2.1.61-RXN\",\"R-3-Hydroxypalmitoyl-ACPs[c] --\\u003e 2-Hexadecenoyl-ACPs[c] + WATER[c]\",0.011514277394312747,0.0],[\"5-OXOPROLINASE-ATP-HYDROLYSING-RXN\",\"5-OXOPROLINE[c] + ATP[c] + 2.0 WATER[c] \\u003c=\\u003e ADP[c] + GLT[c] + PROTON[c] + Pi[c]\",0.0,0.0],[\"6PFRUCTPHOS-RXN\",\"ATP[c] + FRUCTOSE-6P[c] --\\u003e ADP[c] + FRUCTOSE-16-DIPHOSPHATE[c] + PROTON[c]\",0.3718583630725432,0.0],[\"6PGLUCONOLACT-RXN\",\"D-6-P-GLUCONO-DELTA-LACTONE[c] + WATER[c] --\\u003e CPD-2961[c] + PROTON[c]\",0.07020261420388149,0.0],[\"ABC-24-RXN\",\"ATP[c] + SPERMIDINE[p] + WATER[c] --\\u003e ADP[c] + PROTON[c] + Pi[c] + SPERMIDINE[c]\",0.0,0.0],[\"ABC-27-RXN\",\"ATP[c] + Pi[p] + WATER[c] --\\u003e ADP[c] + PROTON[c] + 2.0 Pi[c]\",0.0,0.0],[\"ABC-32-RXN\",\"ATP[c] + THIAMINE[p] + WATER[c] --\\u003e ADP[c] + PROTON[c] + Pi[c] + THIAMINE[c]\",9.234412704389558e-06,0.0],[\"ACETALD-DEHYDROG-RXN\",\"ACETALD[c] + CO-A[c] + NAD[c] \\u003c=\\u003e ACETYL-COA[c] + NADH[c] + PROTON[c]\",-2.385211532612841e-05,0.19075113137512759],[\"ACETATE--COA-LIGASE-RXN\",\"ACET[c] + ATP[c] + CO-A[c] --\\u003e ACETYL-COA[c] + AMP[c] + PPI[c]\",0.01018953256549603,0.0],[\"ACETOLACTREDUCTOISOM-RXN\",\"2-ACETO-LACTATE[c] + NADPH[c] + PROTON[c] --\\u003e CPD-13357[c] + NADP[c]\",0.03620341148275315,0.05533326147636789],[\"ACETOLACTSYN-RXN\",\"PROTON[c] + 2.0 PYRUVATE[c] --\\u003e 2-ACETO-LACTATE[c] + CARBON-DIOXIDE[c]\",0.03620341148275315,0.05533326147636789],[\"ACETOOHBUTREDUCTOISOM-RXN\",\"2-ACETO-2-HYDROXY-BUTYRATE[c] + NADPH[c] + PROTON[c] --\\u003e 1-KETO-2-METHYLVALERATE[c] + NADP[c]\",0.012030783356921945,0.01838783843813252],[\"ACETOOHBUTSYN-RXN\",\"2-OXOBUTANOATE[c] + PROTON[c] + PYRUVATE[c] --\\u003e 2-ACETO-2-HYDROXY-BUTYRATE[c] + CARBON-DIOXIDE[c]\",0.012030783356921945,0.01838783843813252],[\"ACETYLGLUTKIN-RXN\",\"ACETYL-GLU[c] + ATP[c] --\\u003e ADP[c] + N-ACETYL-GLUTAMYL-P[c]\",0.03467124435242844,0.018720938382371793],[\"ACETYLORNDEACET-RXN\",\"N-ALPHA-ACETYLORNITHINE[c] + WATER[c] --\\u003e ACET[c] + L-ORNITHINE[c]\",0.0,0.018720938382371793],[\"ACETYLORNTRANSAM-RXN\",\"CPD-469[c] + GLT[c] --\\u003e 2-KETOGLUTARATE[c] + N-ALPHA-ACETYLORNITHINE[c]\",0.03467124435242844,0.018720938382371793],[\"ACONITATEDEHYDR-RXN\",\"CIT[c] \\u003c=\\u003e CIS-ACONITATE[c] + WATER[c]\",0.0,0.06712815138866696],[\"ACONITATEHYDR-RXN\",\"CIS-ACONITATE[c] + WATER[c] \\u003c=\\u003e THREO-DS-ISO-CITRATE[c]\",0.0,0.06712815138866696],[\"ACSERLY-RXN\",\"ACETYLSERINE[c] + HS[c] --\\u003e ACET[c] + CYS[c] + PROTON[c]\",0.003816172812492028,0.005847381863637116],[\"ADCLY-RXN\",\"4-AMINO-4-DEOXYCHORISMATE[c] --\\u003e P-AMINO-BENZOATE[c] + PROTON[c] + PYRUVATE[c]\",2.7703238113158113e-05,4.234160416038062e-05],[\"ADDALT-RXN\",\"DEOXYADENOSINE[c] + PROTON[c] + WATER[c] --\\u003e AMMONIUM[c] + DEOXYINOSINE[c]\",0.0,0.0],[\"ADENINE-DEAMINASE-RXN\",\"ADENINE[c] + PROTON[c] + WATER[c] --\\u003e AMMONIUM[c] + HYPOXANTHINE[c]\",0.0,0.0],[\"ADENODEAMIN-RXN\",\"ADENOSINE[c] + PROTON[c] + WATER[c] --\\u003e AMMONIUM[c] + INOSINE[c]\",0.0,3.075937163220335e-05],[\"ADENOSYLHOMOCYSTEINE-NUCLEOSIDASE-RXN\",\"ADENOSYL-HOMO-CYS[c] + WATER[c] --\\u003e ADENINE[c] + CPD-564[c]\",0.0,3.075937163220335e-05],[\"ADENPHOSPHOR-RXN\",\"ADENOSINE[c] + Pi[c] \\u003c=\\u003e ADENINE[c] + RIBOSE-1P[c]\",0.0,-3.075937163220335e-05],[\"ADENPRIBOSYLTRAN-RXN\",\"ADENINE[c] + PRPP[c] --\\u003e AMP[c] + PPI[c]\",0.0,0.0],[\"ADENYL-KIN-RXN\",\"AMP[c] + ATP[c] \\u003c=\\u003e 2.0 ADP[c]\",-0.03203889840268653,0.12287824665424782],[\"ADENYLATECYC-RXN\",\"ATP[c] \\u003c=\\u003e CAMP[c] + PPI[c]\",0.0,0.0],[\"ADENYLOSUCCINATE-SYNTHASE-RXN\",\"GTP[c] + IMP[c] + L-ASPARTATE[c] --\\u003e ADENYLOSUCC[c] + GDP[c] + 2.0 PROTON[c] + Pi[c]\",0.012383016157205582,0.018955620995552133],[\"ADENYLYLSULFKIN-RXN\",\"APS[c] + ATP[c] --\\u003e ADP[c] + PAPS[c] + PROTON[c]\",0.01018953256549603,0.005847381863637116],[\"ADPREDUCT-RXN\",\"ADP[c] + Red-Thioredoxin[c] --\\u003e DADP[c] + Ox-Thioredoxin[c] + WATER[c]\",0.0010835320305966688,0.0],[\"AGMATIN-RXN\",\"AGMATHINE[c] + WATER[c] --\\u003e PUTRESCINE[c] + UREA[c]\",0.0,0.0],[\"AICARSYN-RXN\",\"P-RIBOSYL-4-SUCCCARB-AMINOIMIDAZOLE[c] --\\u003e AICAR[c] + FUM[c]\",0.018531975540500664,0.02794476254606697],[\"AIRS-RXN\",\"5-PHOSPHORIBOSYL-N-FORMYLGLYCINEAMIDINE[c] + ATP[c] --\\u003e 5-PHOSPHORIBOSYL-5-AMINOIMIDAZOLE[c] + ADP[c] + PROTON[c] + Pi[c]\",0.018531975540500664,0.02794476254606697],[\"AKBLIG-RXN\",\"ACETYL-COA[c] + GLY[c] \\u003c=\\u003e AMINO-OXOBUT[c] + CO-A[c]\",0.0,0.0],[\"ALARACECAT-RXN\",\"L-ALPHA-ALANINE[c] --\\u003e D-ALANINE[c]\",0.0,0.0017587271994149564],[\"ALCOHOL-DEHYDROG-GENERIC-RXN-OCTANOL\\u002fNAD\\u002f\\u002fCPD-371\\u002fNADH\\u002fPROTON.33.\",\"NAD[c] + OCTANOL[c] \\u003c=\\u003e CPD-371[c] + NADH[c] + PROTON[c]\",0.0,0.0],[\"ALCOHOL-DEHYDROG-RXN\",\"ETOH[c] + NAD[c] \\u003c=\\u003e ACETALD[c] + NADH[c] + PROTON[c]\",0.0,0.0],[\"ALDOSE-1-EPIMERASE-RXN\",\"ALPHA-GLUCOSE[c] \\u003c=\\u003e GLC[c]\",0.0,0.0],[\"ALLANTOATE-DEIMINASE-RXN\",\"ALLANTOATE[c] + 2.0 PROTON[c] + WATER[c] --\\u003e AMMONIUM[c] + CARBON-DIOXIDE[c] + CPD0-2298[c]\",0.0,0.0],[\"ALLANTOINASE-RXN\",\"S-ALLANTOIN[c] + WATER[c] --\\u003e ALLANTOATE[c] + PROTON[c]\",0.0,0.0],[\"AMINOBUTDEHYDROG-RXN\",\"4-AMINO-BUTYRALDEHYDE[c] + NAD[c] + WATER[c] --\\u003e 4-AMINO-BUTYRATE[c] + NADH[c] + 2.0 PROTON[c]\",0.022422520573698406,0.0],[\"AMP-DEPHOSPHORYLATION-RXN\",\"AMP[c] + WATER[c] --\\u003e ADENOSINE[c] + Pi[c]\",0.0,0.0],[\"AMP-NUCLEOSID-RXN\",\"AMP[c] + WATER[c] --\\u003e ADENINE[c] + CPD-15317[c]\",0.0,0.0],[\"AMP-NUCLEOSID-RXN-AMP\\u002fWATER\\u002f\\u002fCPD-15318\\u002fADENINE.29.\",\"AMP[c] + WATER[c] --\\u003e ADENINE[c] + CPD-15318[c]\",0.0,0.0],[\"AMP-NUCLEOSID-RXN-AMP\\u002fWATER\\u002f\\u002fCPD-16551\\u002fADENINE.29.\",\"AMP[c] + WATER[c] --\\u003e ADENINE[c] + CPD-16551[c]\",0.0,0.0],[\"AMPSYN-RXN\",\"ADENYLOSUCC[c] --\\u003e AMP[c] + FUM[c]\",0.012383016157205582,0.018955620995552133],[\"ARGSUCCINLYA-RXN\",\"L-ARGININO-SUCCINATE[c] --\\u003e ARG[c] + FUM[c]\",0.012248723778730028,0.018720938382371793],[\"ARGSUCCINSYN-RXN\",\"ATP[c] + L-ASPARTATE[c] + L-CITRULLINE[c] --\\u003e AMP[c] + L-ARGININO-SUCCINATE[c] + PPI[c] + PROTON[c]\",0.012248723778730028,0.018720938382371793],[\"ASPARTASE-RXN\",\"L-ASPARTATE[c] \\u003c=\\u003e AMMONIUM[c] + FUM[c]\",-0.18798903900557695,-0.06557898031983066],[\"ASPARTATE-SEMIALDEHYDE-DEHYDROGENASE-RXN\",\"L-ASPARTATE-SEMIALDEHYDE[c] + NADP[c] + Pi[c] \\u003c=\\u003e L-BETA-ASPARTYL-P[c] + NADPH[c] + PROTON[c]\",-0.044270271423912835,-0.102648021011094],[\"ASPARTATEKIN-RXN\",\"ATP[c] + L-ASPARTATE[c] --\\u003e ADP[c] + L-BETA-ASPARTYL-P[c]\",0.044270271423912835,0.102648021011094],[\"ASPCARBTRANS-RXN\",\"CARBAMOYL-P[c] + L-ASPARTATE[c] --\\u003e CARBAMYUL-L-ASPARTATE[c] + PROTON[c] + Pi[c]\",0.013698195293939655,0.020682955914467067],[\"ATPASE-RXN\",\"ATP[c] + WATER[c] --\\u003e ADP[c] + PROTON[c] + Pi[c]\",0.0,0.0],[\"ATPM\",\"ATP[c] + WATER[c] --\\u003e ADP[c] + PROTON[c] + Pi[c]\",0.0,0.0],[\"ATPSYN-RXN\",\"ATP[c] + 3.0 PROTON[c] + WATER[c] \\u003c=\\u003e ADP[c] + 4.0 PROTON[p] + Pi[c]\",-2.355324688654161,-7.431867610724271],[\"BIOTIN-CARBOXYL-RXN\",\"ATP[c] + HCO3[c] + biotin-L-lysine-in-BCCP-dimers[c] --\\u003e ADP[c] + PROTON[c] + Pi[c] + carboxybiotin-L-lysine-in-BCCP-dimers[c]\",0.0,0.12324552367810357],[\"BRANCHED-CHAINAMINOTRANSFERILEU-RXN\",\"2-KETOGLUTARATE[c] + ILE[c] \\u003c=\\u003e 2-KETO-3-METHYL-VALERATE[c] + GLT[c]\",-0.012030783356921945,-0.01838783843813252],[\"CARNDETRU-RXN\",\"L-CARNITINYL-COA[c] \\u003c=\\u003e CROTONOBETAINYL-COA[c] + WATER[c]\",0.0,0.0],[\"CATAL-RXN\",\"2.0 HYDROGEN-PEROXIDE[c] --\\u003e OXYGEN-MOLECULE[c] + 2.0 WATER[c]\",4.617206352194779e-06,7.056934026731487e-06],[\"CDPKIN-RXN\",\"ATP[c] + CDP[c] --\\u003e ADP[c] + CTP[c]\",0.004761147242600414,0.018663660128612248],[\"CDPREDUCT-RXN\",\"CDP[c] + Red-Thioredoxin[c] --\\u003e DCDP[c] + Ox-Thioredoxin[c] + WATER[c]\",0.0,0.0],[\"CHORISMATE-SYNTHASE-RXN\",\"3-ENOLPYRUVYL-SHIKIMATE-5P[c] --\\u003e CHORISMATE[c] + Pi[c]\",0.01577287381816665,0.024093132257913055],[\"CHORISMATEMUT-RXN\",\"CHORISMATE[c] --\\u003e PREPHENATE[c]\",0.01338207194602347,0.02045314669965939],[\"CHORPYRLY-RXN\",\"CHORISMATE[c] --\\u003e 4-hydroxybenzoate[c] + PYRUVATE[c]\",9.234412704389558e-06,0.0],[\"CO2tex\",\"CARBON-DIOXIDE[e] \\u003c=\\u003e CARBON-DIOXIDE[p]\",-0.9405683699928626,0.0],[\"CO2tpp\",\"CARBON-DIOXIDE[p] \\u003c=\\u003e CARBON-DIOXIDE[c]\",-0.9405683699928626,-0.11650494915573856],[\"CPM-KDOSYNTH-RXN\",\"CTP[c] + KDO[c] --\\u003e CMP-KDO[c] + PPI[c]\",0.0,2.531635525284226e-06],[\"CROBETREDUCT-RXN\",\"CROTONOBETAINYL-COA[c] + ETF-Reduced[c] --\\u003e ETF-Oxidized[c] + GAMMA-BUTYROBETAINYL-COA[c] + PROTON[c]\",0.0,0.0],[\"CYTDEAM-RXN\",\"CYTOSINE[c] + PROTON[c] + WATER[c] --\\u003e AMMONIUM[c] + URACIL[c]\",0.0,0.0],[\"CYTIDEAM-RXN\",\"DEOXYCYTIDINE[c] + PROTON[c] + WATER[c] --\\u003e AMMONIUM[c] + DEOXYURIDINE[c]\",0.0,0.0],[\"CYTIDEAM2-RXN\",\"CYTIDINE[c] + PROTON[c] + WATER[c] --\\u003e AMMONIUM[c] + URIDINE[c]\",0.0,0.0],[\"D-PPENTOMUT-RXN\",\"DEOXY-D-RIBOSE-1-PHOSPHATE[c] --\\u003e DEOXY-RIBOSE-5P[c]\",0.0,0.0],[\"DADPKIN-RXN\",\"ATP[c] + DADP[c] --\\u003e ADP[c] + DATP[c]\",0.0,0.0],[\"DAHPSYN-RXN\",\"ERYTHROSE-4P[c] + PHOSPHO-ENOL-PYRUVATE[c] + WATER[c] --\\u003e 3-DEOXY-D-ARABINO-HEPTULOSONATE-7-P[c] + Pi[c]\",0.01577287381816665,0.024093132257913055],[\"DALADALALIG-RXN\",\"ATP[c] + 2.0 D-ALANINE[c] --\\u003e ADP[c] + D-ALA-D-ALA[c] + PROTON[c] + Pi[c]\",0.0011506989247963095,0.0008793635997074782],[\"DCDPKIN-RXN\",\"ATP[c] + DCDP[c] --\\u003e ADP[c] + DCTP[c]\",0.0011187718745941375,0.0],[\"DCTP-DEAM-RXN\",\"DCTP[c] + PROTON[c] + WATER[c] --\\u003e AMMONIUM[c] + DUTP[c]\",0.0,0.0],[\"DCTP-PYROPHOSPHATASE-RXN\",\"DCTP[c] + WATER[c] --\\u003e DCMP[c] + PPI[c] + PROTON[c]\",0.0,0.0],[\"DEHYDDEOXGALACTKIN-RXN\",\"2-DEHYDRO-3-DEOXY-D-GALACTONATE[c] + ATP[c] \\u003c=\\u003e ADP[c] + DEHYDRO-DEOXY-GALACTONATE-PHOSPHATE[c] + PROTON[c]\",0.0,0.0],[\"DEOXYADENPHOSPHOR-RXN\",\"DEOXYADENOSINE[c] + Pi[c] --\\u003e ADENINE[c] + DEOXY-D-RIBOSE-1-PHOSPHATE[c]\",0.0,0.0],[\"DEOXYGLUCONOKIN-RXN\",\"2-DEHYDRO-3-DEOXY-D-GLUCONATE[c] + ATP[c] --\\u003e 2-KETO-3-DEOXY-6-P-GLUCONATE[c] + ADP[c] + PROTON[c]\",0.0,0.0],[\"DEOXYGUANPHOSPHOR-RXN\",\"DEOXYGUANOSINE[c] + Pi[c] \\u003c=\\u003e DEOXY-D-RIBOSE-1-PHOSPHATE[c] + GUANINE[c]\",0.0,0.0],[\"DEOXYINOPHOSPHOR-RXN\",\"DEOXYINOSINE[c] + Pi[c] \\u003c=\\u003e DEOXY-D-RIBOSE-1-PHOSPHATE[c] + HYPOXANTHINE[c]\",0.0,0.0],[\"DEOXYRIBOSE-P-ALD-RXN\",\"DEOXY-RIBOSE-5P[c] --\\u003e ACETALD[c] + GAP[c]\",0.0,0.0],[\"DEPHOSPHOCOAKIN-RXN\",\"ATP[c] + DEPHOSPHO-COA[c] --\\u003e ADP[c] + CO-A[c] + PROTON[c]\",2.385211532612841e-05,3.6455551564101205e-05],[\"DGDPKIN-RXN\",\"ATP[c] + DGDP[c] --\\u003e ADP[c] + DGTP[c]\",0.0,0.0],[\"DGTPTRIPHYDRO-RXN\",\"DGTP[c] + WATER[c] --\\u003e DEOXYGUANOSINE[c] + P3I[c] + PROTON[c]\",0.0,0.0],[\"DHBAMPLIG-RXN\",\"2-3-DIHYDROXYBENZOATE[c] + ATP[c] + PROTON[c] --\\u003e CPD-62[c] + PPI[c]\",0.0,0.0],[\"DHBDEHYD-RXN\",\"DIHYDRO-DIOH-BENZOATE[c] + NAD[c] --\\u003e 2-3-DIHYDROXYBENZOATE[c] + NADH[c] + PROTON[c]\",0.0,0.0],[\"DIAMINOPIMDECARB-RXN\",\"MESO-DIAMINOPIMELATE[c] + PROTON[c] --\\u003e CARBON-DIOXIDE[c] + LYS[c]\",0.014210270394847646,0.021719597371182828],[\"DIAMINOPIMEPIM-RXN\",\"LL-DIAMINOPIMELATE[c] --\\u003e MESO-DIAMINOPIMELATE[c]\",0.015360969319643956,0.022598960970890303],[\"DIHYDRODIPICSYN-RXN\",\"L-ASPARTATE-SEMIALDEHYDE[c] + PYRUVATE[c] --\\u003e CPD-14443[c] + PROTON[c] + WATER[c]\",0.015360969319643956,0.022598960970890303],[\"DIHYDROFOLATESYNTH-RXN\",\"7-8-DIHYDROPTEROATE[c] + ATP[c] + GLT[c] --\\u003e ADP[c] + DIHYDROFOLATE[c] + PROTON[c] + Pi[c]\",2.7703238113158113e-05,4.234160416038062e-05],[\"DIHYDRONEOPTERIN-MONO-P-DEPHOS-RXN\",\"DIHYDRONEOPTERIN-P[c] + WATER[c] --\\u003e DIHYDRO-NEO-PTERIN[c] + Pi[c]\",2.7703238113158113e-05,4.234160416038062e-05],[\"DIHYDROURACIL-DEHYDROGENASE-NAD+-RXN\",\"DI-H-URACIL[c] + NAD[c] \\u003c=\\u003e NADH[c] + PROTON[c] + URACIL[c]\",0.0,0.0],[\"DIHYDROXYISOVALDEHYDRAT-RXN\",\"CPD-13357[c] --\\u003e 2-KETO-ISOVALERATE[c] + WATER[c]\",0.03620341148275315,0.05533326147636789],[\"DIHYDROXYMETVALDEHYDRAT-RXN\",\"1-KETO-2-METHYLVALERATE[c] --\\u003e 2-KETO-3-METHYL-VALERATE[c] + WATER[c]\",0.012030783356921945,0.01838783843813252],[\"DIOHBUTANONEPSYN-RXN\",\"RIBULOSE-5P[c] --\\u003e DIHYDROXY-BUTANONE-P[c] + FORMATE[c] + PROTON[c]\",3.6937650817558234e-05,5.6455472213838237e-05],[\"DLACTDEHYDROGNAD-RXN\",\"NADH[c] + PROTON[c] + PYRUVATE[c] --\\u003e D-LACTATE[c] + NAD[c]\",0.0,0.0],[\"DTMPKI-RXN\",\"ATP[c] + TMP[c] --\\u003e ADP[c] + TDP[c]\",0.0,0.0016560693788646762],[\"DUDPKIN-RXN\",\"ATP[c] + DUDP[c] --\\u003e ADP[c] + DUTP[c]\",0.0010835320305966688,0.0],[\"DURIDKI-RXN\",\"ATP[c] + DEOXYURIDINE[c] --\\u003e ADP[c] + DUMP[c] + PROTON[c]\",0.0,-2.168404344971009e-18],[\"DUTP-PYROP-RXN\",\"DUTP[c] + WATER[c] --\\u003e DUMP[c] + PPI[c] + PROTON[c]\",0.0010835320305966688,0.0],[\"DXS-RXN\",\"GAP[c] + PROTON[c] + PYRUVATE[c] --\\u003e CARBON-DIOXIDE[c] + DEOXYXYLULOSE-5P[c]\",0.0001081627174164381,0.009838315396583296],[\"ENOYL-COA-DELTA-ISOM-RXN-POLYMER-INST-CIS-DELTA3-ENOYL-COA-C0-H0\\u002f\\u002fCROTONYL-COA.54.\",\"POLYMER-INST-CIS-DELTA3-ENOYL-COA-C0-H0[c] --\\u003e CROTONYL-COA[c]\",0.0,0.0],[\"ENOYL-COA-DELTA-ISOM-RXN-POLYMER-INST-CIS-DELTA3-ENOYL-COA-C12-H24\\u002f\\u002fCPD0-2117.53.\",\"POLYMER-INST-CIS-DELTA3-ENOYL-COA-C12-H24[c] \\u003c=\\u003e CPD0-2117[c]\",-0.006229211812986154,0.0],[\"ENOYL-COA-DELTA-ISOM-RXN-POLYMER-INST-CIS-DELTA3-ENOYL-COA-C2-H4\\u002f\\u002fCPD0-2121.51.\",\"POLYMER-INST-CIS-DELTA3-ENOYL-COA-C2-H4[c] --\\u003e CPD0-2121[c]\",0.0,0.0],[\"ENOYL-COA-HYDRAT-RXN-POLYMER-INST-L-3-HYDROXYACYL-COA-C12-H24\\u002f\\u002fCPD0-2117\\u002fWATER.58.\",\"CPD0-2117[c] + WATER[c] --\\u003e POLYMER-INST-L-3-HYDROXYACYL-COA-C12-H24[c]\",0.0,0.0],[\"ENTF-RXN\",\"ATP[c] + PROTON[c] + SER[c] --\\u003e PPI[c] + SERYL-AMP[c]\",0.0,0.0],[\"ENTG-RXN\",\"3.0 DHB-Seryl-EntF[c] --\\u003e ENTEROBACTIN[c] + 3.0 Holo-EntF[c]\",0.0,0.0],[\"ERYTH4PDEHYDROG-RXN\",\"ERYTHROSE-4P[c] + NAD[c] + WATER[c] --\\u003e ERYTHRONATE-4P[c] + NADH[c] + 2.0 PROTON[c]\",9.234412704389558e-06,1.4113868053459559e-05],[\"ERYTHRON4PDEHYDROG-RXN\",\"ERYTHRONATE-4P[c] + NAD[c] --\\u003e 3OH-4P-OH-ALPHA-KETOBUTYRATE[c] + NADH[c] + PROTON[c]\",9.234412704389558e-06,1.4113868053459559e-05],[\"F16ALDOLASE-RXN\",\"FRUCTOSE-16-DIPHOSPHATE[c] \\u003c=\\u003e DIHYDROXY-ACETONE-PHOSPHATE[c] + GAP[c]\",0.3718583630725432,0.0],[\"F16BDEPHOS-RXN\",\"FRUCTOSE-16-DIPHOSPHATE[c] + WATER[c] --\\u003e FRUCTOSE-6P[c] + Pi[c]\",0.0,0.0],[\"FADSYN-RXN\",\"ATP[c] + FMN[c] + PROTON[c] --\\u003e FAD[c] + PPI[c]\",9.234412704389558e-06,1.4113868053459559e-05],[\"FE2tpp\",\"FE+2[p] \\u003c=\\u003e FE+2[c]\",0.0002780676291927169,0.0009258191115964451],[\"FGAMSYN-RXN\",\"5-P-RIBOSYL-N-FORMYLGLYCINEAMIDE[c] + ATP[c] + GLN[c] + WATER[c] --\\u003e 5-PHOSPHORIBOSYL-N-FORMYLGLYCINEAMIDINE[c] + ADP[c] + GLT[c] + PROTON[c] + Pi[c]\",0.018531975540500664,0.02794476254606697],[\"FPPSYN-RXN\",\"DELTA3-ISOPENTENYL-PP[c] + GERANYL-PP[c] --\\u003e FARNESYL-PP[c] + PPI[c]\",1.1511958438656111e-05,0.0008969584666082036],[\"FRUCTOKINASE-RXN\",\"ATP[c] + BETA-D-FRUCTOSE[c] --\\u003e ADP[c] + FRUCTOSE-6P[c] + PROTON[c]\",0.0,0.0],[\"FUCPALDOL-RXN\",\"FUCULOSE-1P[c] \\u003c=\\u003e DIHYDROXY-ACETONE-PHOSPHATE[c] + LACTALD[c]\",0.0,0.0],[\"FUMHYDR-RXN\",\"MAL[c] --\\u003e FUM[c] + WATER[c]\",0.0612152530967777,0.0],[\"GABATRANSAM-RXN\",\"2-KETOGLUTARATE[c] + 4-AMINO-BUTYRATE[c] --\\u003e GLT[c] + SUCC-S-ALD[c]\",0.022422520573698406,0.0],[\"GALACTARDEHYDRA-RXN\",\"D-GALACTARATE[c] --\\u003e 5-KETO-4-DEOXY-D-GLUCARATE[c] + WATER[c]\",0.0,0.0],[\"GAPOXNPHOSPHN-RXN\",\"GAP[c] + NAD[c] + Pi[c] \\u003c=\\u003e DPG[c] + NADH[c] + PROTON[c]\",0.7401109571485186,0.7089142654215266],[\"GCVP-RXN\",\"GLY[c] + PROTEIN-LIPOYLLYSINE[c] + PROTON[c] \\u003c=\\u003e AMINOMETHYLDIHYDROLIPOYL-GCVH[c] + CARBON-DIOXIDE[c]\",0.15750096881898087,0.0],[\"GCVT-RXN\",\"AMINOMETHYLDIHYDROLIPOYL-GCVH[c] + THF-GLU-N[c] \\u003c=\\u003e AMMONIUM[c] + DIHYDROLIPOYL-GCVH[c] + METHYLENE-THF-GLU-N[c]\",0.15750096881898087,0.0],[\"GDPKIN-RXN\",\"ATP[c] + GDP[c] --\\u003e ADP[c] + GTP[c]\",0.0,0.033971574077558596],[\"GDPREDUCT-RXN\",\"GDP[c] + Red-Thioredoxin[c] --\\u003e DGDP[c] + Ox-Thioredoxin[c] + WATER[c]\",0.0,0.0],[\"GLU6PDEHYDROG-RXN\",\"D-glucopyranose-6-phosphate[c] + NADP[c] --\\u003e D-6-P-GLUCONO-DELTA-LACTONE[c] + NADPH[c] + PROTON[c]\",0.07020261420388149,0.0],[\"GLUCOKIN-RXN-ALPHA-GLUCOSE\\u002fATP\\u002f\\u002fD-glucopyranose-6-phosphate\\u002fADP\\u002fPROTON.58.\",\"ALPHA-GLUCOSE[c] + ATP[c] --\\u003e ADP[c] + D-glucopyranose-6-phosphate[c] + PROTON[c]\",0.0,0.0],[\"GLUCOKIN-RXN-GLC\\u002fATP\\u002f\\u002fD-glucopyranose-6-phosphate\\u002fADP\\u002fPROTON.48.\",\"ATP[c] + GLC[c] --\\u003e ADP[c] + D-glucopyranose-6-phosphate[c] + PROTON[c]\",0.0,0.0],[\"GLUCONATE-5-DEHYDROGENASE-RXN-GLUCONATE\\u002fNADP\\u002f\\u002f5-DEHYDROGLUCONATE\\u002fNADPH\\u002fPROTON.48.\",\"5-DEHYDROGLUCONATE[c] + NADPH[c] + PROTON[c] --\\u003e GLUCONATE[c] + NADP[c]\",0.0,0.0],[\"GLUCONOKIN-RXN\",\"ATP[c] + GLUCONATE[c] --\\u003e ADP[c] + CPD-2961[c] + PROTON[c]\",0.0,0.0],[\"GLURS-RXN\",\"ATP[c] + GLT-tRNAs[c] + GLT[c] --\\u003e AMP[c] + Charged-GLT-tRNAs[c] + PPI[c]\",0.0,0.016881452009700277],[\"GLUTAMINESYN-RXN\",\"AMMONIUM[c] + ATP[c] + GLT[c] --\\u003e ADP[c] + GLN[c] + PROTON[c] + Pi[c]\",0.0,0.0743064140479191],[\"GLUTATHIONE-PEROXIDASE-RXN\",\"2.0 GLUTATHIONE[c] + HYDROGEN-PEROXIDE[c] --\\u003e OXIDIZED-GLUTATHIONE[c] + 2.0 WATER[c]\",0.0,0.0],[\"GLUTATHIONE-REDUCT-NADPH-RXN\",\"NADPH[c] + OXIDIZED-GLUTATHIONE[c] + PROTON[c] --\\u003e 2.0 GLUTATHIONE[c] + NADP[c]\",0.003321075779784944,0.0],[\"GLUTATHIONE-SYN-RXN\",\"ATP[c] + GLY[c] + L-GAMMA-GLUTAMYLCYSTEINE[c] --\\u003e ADP[c] + GLUTATHIONE[c] + PROTON[c] + Pi[c]\",0.0,0.0],[\"GLUTCYSLIG-RXN\",\"ATP[c] + CYS[c] + GLT[c] --\\u003e ADP[c] + L-GAMMA-GLUTAMYLCYSTEINE[c] + PROTON[c] + Pi[c]\",0.0,0.0],[\"GLUTDEHYD-RXN\",\"GLT[c] + NADP[c] + WATER[c] \\u003c=\\u003e 2-KETOGLUTARATE[c] + AMMONIUM[c] + NADPH[c] + PROTON[c]\",-0.1202531428930746,-0.45088669210685617],[\"GLUTKIN-RXN\",\"ATP[c] + GLT[c] --\\u003e ADP[c] + L-GLUTAMATE-5-P[c]\",0.009153870405241406,0.013990767276042614],[\"GLUTRACE-RXN\",\"GLT[c] --\\u003e D-GLT[c]\",0.002876747311990774,0.0008793635997074782],[\"GLUTRNAREDUCT-RXN\",\"Charged-GLT-tRNAs[c] + NADPH[c] + PROTON[c] --\\u003e GLT-tRNAs[c] + GLUTAMATE-1-SEMIALDEHYDE[c] + NADP[c]\",0.0,0.00022582188885535295],[\"GLYC3PDEHYDROGBIOSYN-RXN-GLYCEROL-3P\\u002fNADP\\u002f\\u002fDIHYDROXY-ACETONE-PHOSPHATE\\u002fNADPH\\u002fPROTON.59.\",\"DIHYDROXY-ACETONE-PHOSPHATE[c] + NADPH[c] + PROTON[c] --\\u003e GLYCEROL-3P[c] + NADP[c]\",0.0,0.0],[\"GLYCEROL-KIN-RXN\",\"ATP[c] + GLYCEROL[c] --\\u003e ADP[c] + GLYCEROL-3P[c] + PROTON[c]\",0.0,0.0],[\"GLYOXI-RXN\",\"GLUTATHIONE[c] + METHYL-GLYOXAL[c] --\\u003e S-LACTOYL-GLUTATHIONE[c]\",0.0,0.0],[\"GLYOXII-RXN\",\"S-LACTOYL-GLUTATHIONE[c] + WATER[c] --\\u003e D-LACTATE[c] + GLUTATHIONE[c] + PROTON[c]\",0.0,0.0],[\"GLYOXIII-RXN\",\"METHYL-GLYOXAL[c] + WATER[c] --\\u003e D-LACTATE[c] + PROTON[c]\",0.0,0.0],[\"GLYRIBONUCSYN-RXN\",\"5-P-BETA-D-RIBOSYL-AMINE[c] + ATP[c] + GLY[c] --\\u003e 5-PHOSPHO-RIBOSYL-GLYCINEAMIDE[c] + ADP[c] + PROTON[c] + Pi[c]\",0.018531975540500664,0.02794476254606697],[\"GPPSYN-RXN\",\"CPD-4211[c] + DELTA3-ISOPENTENYL-PP[c] --\\u003e GERANYL-PP[c] + PPI[c]\",1.1511958438656111e-05,0.0008969584666082036],[\"GSAAMINOTRANS-RXN\",\"GLUTAMATE-1-SEMIALDEHYDE[c] --\\u003e 5-AMINO-LEVULINATE[c]\",0.0,0.00022582188885535295],[\"GTP-CYCLOHYDRO-I-RXN\",\"GTP[c] + WATER[c] --\\u003e DIHYDRONEOPTERIN-P3[c] + FORMATE[c] + PROTON[c]\",2.7703238113158113e-05,4.234160416038062e-05],[\"GUANINE-DEAMINASE-RXN\",\"GUANINE[c] + PROTON[c] + WATER[c] --\\u003e AMMONIUM[c] + XANTHINE[c]\",0.0,0.0],[\"GUANPRIBOSYLTRAN-RXN\",\"GUANINE[c] + PRPP[c] --\\u003e GMP[c] + PPI[c]\",0.0,0.0],[\"GUANYL-KIN-RXN\",\"ATP[c] + GMP[c] \\u003c=\\u003e ADP[c] + GDP[c]\",0.01007205261553032,0.015015953082006464],[\"H2NEOPTERINALDOL-RXN\",\"DIHYDRO-NEO-PTERIN[c] --\\u003e AMINO-OH-HYDROXYMETHYL-DIHYDROPTERIDINE[c] + GLYCOLALDEHYDE[c]\",2.7703238113158113e-05,4.234160416038062e-05],[\"H2NEOPTERINP3PYROPHOSPHOHYDRO-RXN\",\"DIHYDRONEOPTERIN-P3[c] + WATER[c] --\\u003e DIHYDRONEOPTERIN-P[c] + PPI[c] + PROTON[c]\",2.7703238113158113e-05,4.234160416038062e-05],[\"H2Otex\",\"WATER[e] \\u003c=\\u003e WATER[p]\",-2.0226853407198533,0.0],[\"H2Otpp\",\"WATER[p] \\u003c=\\u003e WATER[c]\",-2.0226853407198533,0.0],[\"H2PTERIDINEPYROPHOSPHOKIN-RXN\",\"AMINO-OH-HYDROXYMETHYL-DIHYDROPTERIDINE[c] + ATP[c] --\\u003e AMP[c] + DIHYDROPTERIN-CH2OH-PP[c] + PROTON[c]\",2.7703238113158113e-05,4.234160416038062e-05],[\"H2PTEROATESYNTH-RXN\",\"DIHYDROPTERIN-CH2OH-PP[c] + P-AMINO-BENZOATE[c] --\\u003e 7-8-DIHYDROPTEROATE[c] + PPI[c]\",2.7703238113158113e-05,4.234160416038062e-05],[\"HISTALDEHYD-RXN\",\"HISTIDINAL[c] + NAD[c] + WATER[c] --\\u003e HIS[c] + NADH[c] + 2.0 PROTON[c]\",0.0,0.005996052159859425],[\"HISTAMINOTRANS-RXN\",\"2-KETOGLUTARATE[c] + L-HISTIDINOL-P[c] \\u003c=\\u003e GLT[c] + IMIDAZOLE-ACETOL-P[c]\",-0.003923093232235238,-0.005996052159859425],[\"HISTCYCLOHYD-RXN\",\"PHOSPHORIBOSYL-AMP[c] + WATER[c] --\\u003e PHOSPHORIBOSYL-FORMIMINO-AICAR-P[c]\",0.003923093232235238,0.005996052159859425],[\"HISTIDPHOS-RXN\",\"L-HISTIDINOL-P[c] + WATER[c] --\\u003e HISTIDINOL[c] + Pi[c]\",0.003923093232235238,0.005996052159859425],[\"HISTOLDEHYD-RXN\",\"HISTIDINOL[c] + NAD[c] \\u003c=\\u003e HISTIDINAL[c] + NADH[c] + PROTON[c]\",0.0,0.005996052159859425],[\"HOMOSERDEHYDROG-RXN-HOMO-SER\\u002fNAD\\u002f\\u002fL-ASPARTATE-SEMIALDEHYDE\\u002fNADH\\u002fPROTON.51.\",\"L-ASPARTATE-SEMIALDEHYDE[c] + NADH[c] + PROTON[c] --\\u003e HOMO-SER[c] + NAD[c]\",0.0,0.0800490600402037],[\"HOMOSERDEHYDROG-RXN-HOMO-SER\\u002fNADP\\u002f\\u002fL-ASPARTATE-SEMIALDEHYDE\\u002fNADPH\\u002fPROTON.53.\",\"L-ASPARTATE-SEMIALDEHYDE[c] + NADPH[c] + PROTON[c] --\\u003e HOMO-SER[c] + NADP[c]\",0.028909302104268876,0.0],[\"HOMOSERKIN-RXN\",\"ATP[c] + HOMO-SER[c] --\\u003e ADP[c] + O-PHOSPHO-L-HOMOSERINE[c] + PROTON[c]\",0.010505158994342931,0.08003431326326889],[\"HOMSUCTRAN-RXN\",\"HOMO-SER[c] + SUC-COA[c] --\\u003e CO-A[c] + O-SUCCINYL-L-HOMOSERINE[c]\",0.0,1.4746776934818073e-05],[\"HYPOXANPRIBOSYLTRAN-RXN\",\"HYPOXANTHINE[c] + PRPP[c] --\\u003e IMP[c] + PPI[c]\",0.0,0.0],[\"IGPSYN-RXN\",\"CARBOXYPHENYLAMINO-DEOXYRIBULOSE-P[c] + PROTON[c] --\\u003e CARBON-DIOXIDE[c] + INDOLE-3-GLYCEROL-P[c] + WATER[c]\",0.0023538642213256303,0.003597643954093281],[\"IMIDPHOSDEHYD-RXN\",\"D-ERYTHRO-IMIDAZOLE-GLYCEROL-P[c] --\\u003e IMIDAZOLE-ACETOL-P[c] + WATER[c]\",0.003923093232235238,0.005996052159859425],[\"IMP-DEHYDROG-RXN\",\"IMP[c] + NAD[c] + WATER[c] \\u003c=\\u003e NADH[c] + PROTON[c] + XANTHOSINE-5-PHOSPHATE[c]\",0.01007205261553032,0.015015953082006464],[\"INOPHOSPHOR-RXN\",\"INOSINE[c] + Pi[c] --\\u003e HYPOXANTHINE[c] + RIBOSE-1P[c]\",0.0,0.0],[\"INORGPYROPHOSPHAT-RXN\",\"PPI[c] + WATER[c] --\\u003e PROTON[c] + 2.0 Pi[c]\",0.0,0.18854564434483748],[\"IPPISOM-RXN\",\"DELTA3-ISOPENTENYL-PP[c] \\u003c=\\u003e CPD-4211[c]\",1.1511958438656111e-05,0.0],[\"ISOCHORMAT-RXN\",\"ISOCHORISMATE[c] + WATER[c] --\\u003e DIHYDRO-DIOH-BENZOATE[c] + PYRUVATE[c]\",0.0,0.0],[\"ISOCHORSYN-RXN\",\"CHORISMATE[c] --\\u003e ISOCHORISMATE[c]\",0.0,0.0],[\"ISPH2-RXN\",\"HYDROXY-METHYL-BUTENYL-DIP[c] + 2.0 PROTON[c] + 2.0 Reduced-ferredoxins[c] --\\u003e DELTA3-ISOPENTENYL-PP[c] + 2.0 Oxidized-ferredoxins[c] + WATER[c]\",9.892830471204855e-05,0.008927243061921632],[\"KDO-8PPHOSPHAT-RXN\",\"KDO-8P[c] + WATER[c] --\\u003e KDO[c] + Pi[c]\",0.0,2.531635525284226e-06],[\"KDO-8PSYNTH-RXN\",\"CPD-18118[c] + PHOSPHO-ENOL-PYRUVATE[c] + WATER[c] --\\u003e KDO-8P[c] + Pi[c]\",0.0,2.531635525284226e-06],[\"KDOTRANS-RXN\",\"CMP-KDO[c] + LIPID-IV-A[c] --\\u003e CMP[c] + KDO-LIPID-IVA[c] + PROTON[c]\",0.0,1.265817762642113e-06],[\"KDOTRANS2-RXN\",\"CMP-KDO[c] + KDO-LIPID-IVA[c] --\\u003e CMP[c] + KDO2-LIPID-IVA[c] + PROTON[c]\",0.0,1.265817762642113e-06],[\"KDPGALDOL-RXN\",\"2-KETO-3-DEOXY-6-P-GLUCONATE[c] --\\u003e GAP[c] + PYRUVATE[c]\",0.0,0.0],[\"KETOACYLCOATHIOL-RXN-CPD-196\\u002fACETYL-COA\\u002f\\u002fCPD0-2123\\u002fCO-A.35.\",\"CO-A[c] + CPD0-2123[c] --\\u003e ACETYL-COA[c] + CPD-196[c]\",0.0,0.0],[\"KETOACYLCOATHIOL-RXN-LAUROYLCOA-CPD\\u002fACETYL-COA\\u002f\\u002fCPD-10284\\u002fCO-A.42.\",\"CO-A[c] + CPD-10284[c] --\\u003e ACETYL-COA[c] + LAUROYLCOA-CPD[c]\",0.0,0.0],[\"KETOACYLCOATHIOL-RXN-PALMITYL-COA\\u002fACETYL-COA\\u002f\\u002fCPD-10260\\u002fCO-A.40.\",\"CO-A[c] + CPD-10260[c] --\\u003e ACETYL-COA[c] + PALMITYL-COA[c]\",0.0,0.0],[\"KETOACYLCOATHIOL-RXN-STEAROYL-COA\\u002fACETYL-COA\\u002f\\u002fPOLYMER-INST-3-KETOACYL-COA-C16-H32\\u002fCO-A.66.\",\"CO-A[c] + POLYMER-INST-3-KETOACYL-COA-C16-H32[c] --\\u003e ACETYL-COA[c] + STEAROYL-COA[c]\",0.0,0.0],[\"KETOACYLCOATHIOL-RXN-TETRADECANOYL-COA\\u002fACETYL-COA\\u002f\\u002f3-OXOPALMITOYL-COA\\u002fCO-A.54.\",\"3-OXOPALMITOYL-COA[c] + CO-A[c] --\\u003e ACETYL-COA[c] + TETRADECANOYL-COA[c]\",0.0,0.0],[\"L-ASPARTATE-OXID-RXN\",\"L-ASPARTATE[c] + OXYGEN-MOLECULE[c] --\\u003e HYDROGEN-PEROXIDE[c] + IMINOASPARTATE[c] + PROTON[c]\",0.0,0.0],[\"L-GLN-FRUCT-6-P-AMINOTRANS-RXN\",\"FRUCTOSE-6P[c] + GLN[c] \\u003c=\\u003e D-GLUCOSAMINE-6-P[c] + GLT[c]\",0.0,0.0],[\"L-GLN-FRUCT-6-P-AMINOTRANS-RXN-FRUCTOSE-6P\\u002fGLN\\u002f\\u002fCPD-13469\\u002fGLT.31.\",\"FRUCTOSE-6P[c] + GLN[c] \\u003c=\\u003e CPD-13469[c] + GLT[c]\",-0.0603250225841342,0.0017612588349402406],[\"L-IDONATE-2-DEHYDROGENASE-RXN\",\"L-IDONATE[c] + NADP[c] --\\u003e 5-DEHYDROGLUCONATE[c] + NADPH[c] + PROTON[c]\",0.0,0.0],[\"LAUROYLACYLTRAN-RXN\",\"Dodecanoyl-ACPs[c] + KDO2-LIPID-IVA[c] --\\u003e ACP[c] + KDO2-LAUROYL-LIPID-IVA[c]\",0.0,0.0],[\"LCARNCOALIG-RXN\",\"ATP[c] + CARNITINE[c] + CO-A[c] --\\u003e AMP[c] + L-CARNITINYL-COA[c] + PPI[c]\",0.0,0.0],[\"LIPIDADISACCHARIDESYNTH-RXN\",\"BISOHMYR-GLUCOSAMINYL-1P[c] + OH-MYRISTOYL[c] --\\u003e BISOHMYR-GLC[c] + PROTON[c] + UDP[c]\",0.0,1.265817762642113e-06],[\"LIPIDXSYNTHESIS-RXN\",\"OH-MYRISTOYL[c] + WATER[c] --\\u003e BISOHMYR-GLUCOSAMINYL-1P[c] + 2.0 PROTON[c] + UMP[c]\",0.0,1.265817762642113e-06],[\"LONG-CHAIN-ACYL-COA-DEHYDROGENASE-RXN-PALMITYL-COA\\u002fETF-Oxidized\\u002fPROTON\\u002f\\u002fCPD0-2117\\u002fETF-Reduced.56.\",\"ETF-Oxidized[c] + PALMITYL-COA[c] + PROTON[c] \\u003c=\\u003e CPD0-2117[c] + ETF-Reduced[c]\",0.006229211812986154,0.0],[\"LUMAZINESYN-RXN\",\"AMINO-RIBOSYLAMINO-1H-3H-PYR-DIONE[c] + DIHYDROXY-BUTANONE-P[c] --\\u003e DIMETHYL-D-RIBITYL-LUMAZINE[c] + PROTON[c] + Pi[c] + 2.0 WATER[c]\",3.6937650817558234e-05,5.6455472213838237e-05],[\"LYSDECARBOX-RXN\",\"LYS[c] + PROTON[c] --\\u003e CADAVERINE[c] + CARBON-DIOXIDE[c]\",0.0,0.0],[\"MALONYL-COA-ACP-TRANSACYL-RXN\",\"ACP[c] + MALONYL-COA[c] --\\u003e CO-A[c] + MALONYL-ACP[c]\",0.0,0.12324552367810357],[\"MALSYN-RXN\",\"ACETYL-COA[c] + GLYOX[c] + WATER[c] --\\u003e CO-A[c] + MAL[c] + PROTON[c]\",0.0,0.0],[\"MANNONDEHYDRAT-RXN\",\"D-MANNONATE[c] --\\u003e 2-DEHYDRO-3-DEOXY-D-GLUCONATE[c] + WATER[c]\",0.0,0.0],[\"METHGLYSYN-RXN\",\"DIHYDROXY-ACETONE-PHOSPHATE[c] --\\u003e METHYL-GLYOXAL[c] + Pi[c]\",0.0,0.0],[\"METHYLISOCITRATE-LYASE-RXN\",\"CPD-618[c] --\\u003e PYRUVATE[c] + SUC[c]\",0.0,0.0],[\"METHYLMALONYL-COA-EPIM-RXN\",\"METHYL-MALONYL-COA[c] \\u003c=\\u003e D-METHYL-MALONYL-COA[c]\",-0.06118754985866454,0.0],[\"METHYLMALONYL-COA-MUT-RXN\",\"METHYL-MALONYL-COA[c] \\u003c=\\u003e SUC-COA[c]\",0.06118754985866454,0.0],[\"MMUM-RXN\",\"CPD-397[c] + HOMO-CYS[c] --\\u003e 2.0 MET[c] + PROTON[c]\",0.0,0.0],[\"MNtpp\",\"MN+2[p] \\u003c=\\u003e MN+2[c]\",2.8614256406875266e-05,4.373400369928512e-05],[\"MYRISTOYLACYLTRAN-RXN\",\"KDO2-LAUROYL-LIPID-IVA[c] + Myristoyl-ACPs[c] --\\u003e ACP[c] + KDO2-LIPID-A[c]\",0.0,0.0],[\"N-ACETYLTRANSFER-RXN\",\"ACETYL-COA[c] + GLT[c] --\\u003e ACETYL-GLU[c] + CO-A[c] + PROTON[c]\",0.0,0.018720938382371793],[\"NACGLCTRANS-RXN\",\"C5[c] + UDP-N-ACETYL-D-GLUCOSAMINE[c] --\\u003e C6[c] + PROTON[c] + UDP[c]\",0.0011506989247963095,0.0008793635997074782],[\"NAD-KIN-RXN\",\"ATP[c] + NAD[c] --\\u003e ADP[c] + NADP[c] + PROTON[c]\",1.8510235331170577e-05,2.8291026994991167e-05],[\"NAD-SYNTH-GLN-RXN\",\"ATP[c] + DEAMIDO-NAD[c] + GLN[c] + WATER[c] --\\u003e AMP[c] + GLT[c] + NAD[c] + PPI[c] + PROTON[c]\",0.0,0.0],[\"NAD-SYNTH-NH3-RXN\",\"AMMONIUM[c] + ATP[c] + DEAMIDO-NAD[c] --\\u003e AMP[c] + NAD[c] + PPI[c] + PROTON[c]\",9.433180332067692e-05,0.00014417664316487833],[\"NAG1P-URIDYLTRANS-RXN\",\"N-ACETYL-D-GLUCOSAMINE-1-P[c] + PROTON[c] + UTP[c] --\\u003e PPI[c] + UDP-N-ACETYL-D-GLUCOSAMINE[c]\",0.002301397849592619,0.0017612588349402406],[\"NAG6PDEACET-RXN\",\"N-ACETYL-D-GLUCOSAMINE-6-P[c] + WATER[c] --\\u003e ACET[c] + D-GLUCOSAMINE-6-P[c]\",0.0,0.0],[\"NAG6PDEACET-RXN-N-ACETYL-D-GLUCOSAMINE-6-P\\u002fWATER\\u002f\\u002fCPD-13469\\u002fACET.49.\",\"N-ACETYL-D-GLUCOSAMINE-6-P[c] + WATER[c] --\\u003e ACET[c] + CPD-13469[c]\",0.0,0.0],[\"NICOTINAMID-RXN\",\"NIACINAMIDE[c] + WATER[c] --\\u003e AMMONIUM[c] + NIACINE[c]\",0.0,0.0],[\"O2tpp\",\"OXYGEN-MOLECULE[p] \\u003c=\\u003e OXYGEN-MOLECULE[c]\",0.8691801897094854,0.005543807118710438],[\"OHACYL-COA-DEHYDROG-RXN-POLYMER-INST-L-3-HYDROXYACYL-COA-C16-H32\\u002fNAD\\u002f\\u002fPOLYMER-INST-3-KETOACYL-COA-C16-H32\\u002fNADH\\u002fPROTON.94.\",\"NAD[c] + POLYMER-INST-L-3-HYDROXYACYL-COA-C16-H32[c] --\\u003e NADH[c] + POLYMER-INST-3-KETOACYL-COA-C16-H32[c] + PROTON[c]\",0.0,0.0],[\"OHBUTYRYL-COA-EPIM-RXN-CPD-650\\u002f\\u002fS-3-HYDROXYBUTANOYL-COA.33.\",\"CPD-650[c] \\u003c=\\u003e S-3-HYDROXYBUTANOYL-COA[c]\",0.0,0.0],[\"OHBUTYRYL-COA-EPIM-RXN-POLYMER-INST-D-3-HYDROXYACYL-COA-C10-H20\\u002f\\u002fCPD0-2171.52.\",\"POLYMER-INST-D-3-HYDROXYACYL-COA-C10-H20[c] \\u003c=\\u003e CPD0-2171[c]\",0.0,0.0],[\"OHBUTYRYL-COA-EPIM-RXN-POLYMER-INST-D-3-HYDROXYACYL-COA-C12-H24\\u002f\\u002fPOLYMER-INST-L-3-HYDROXYACYL-COA-C12-H24.83.\",\"POLYMER-INST-D-3-HYDROXYACYL-COA-C12-H24[c] \\u003c=\\u003e POLYMER-INST-L-3-HYDROXYACYL-COA-C12-H24[c]\",0.0,0.0],[\"OHBUTYRYL-COA-EPIM-RXN-POLYMER-INST-D-3-HYDROXYACYL-COA-C16-H32\\u002f\\u002fPOLYMER-INST-L-3-HYDROXYACYL-COA-C16-H32.83.\",\"POLYMER-INST-D-3-HYDROXYACYL-COA-C16-H32[c] \\u003c=\\u003e POLYMER-INST-L-3-HYDROXYACYL-COA-C16-H32[c]\",0.0,0.0],[\"OHBUTYRYL-COA-EPIM-RXN-POLYMER-INST-D-3-HYDROXYACYL-COA-C2-H4\\u002f\\u002fOH-HEXANOYL-COA.56.\",\"POLYMER-INST-D-3-HYDROXYACYL-COA-C2-H4[c] \\u003c=\\u003e OH-HEXANOYL-COA[c]\",0.0,0.0],[\"OHBUTYRYL-COA-EPIM-RXN-POLYMER-INST-D-3-HYDROXYACYL-COA-C6-H12\\u002f\\u002fCPD0-2244.51.\",\"POLYMER-INST-D-3-HYDROXYACYL-COA-C6-H12[c] \\u003c=\\u003e CPD0-2244[c]\",0.0,0.0],[\"ORNDECARBOX-RXN\",\"L-ORNITHINE[c] + PROTON[c] --\\u003e CARBON-DIOXIDE[c] + PUTRESCINE[c]\",0.022422520573698406,0.0],[\"OROTPDECARB-RXN\",\"OROTIDINE-5-PHOSPHATE[c] + PROTON[c] --\\u003e CARBON-DIOXIDE[c] + UMP[c]\",0.013698195293939655,0.020682955914467067],[\"P-PANTOCYSDECARB-RXN\",\"PROTON[c] + R-4-PHOSPHOPANTOTHENOYL-L-CYSTEINE[c] --\\u003e CARBON-DIOXIDE[c] + PANTETHEINE-P[c]\",2.385211532612841e-05,3.6455551564101205e-05],[\"PANTEPADENYLYLTRAN-RXN\",\"ATP[c] + PANTETHEINE-P[c] + PROTON[c] --\\u003e DEPHOSPHO-COA[c] + PPI[c]\",2.385211532612841e-05,3.6455551564101205e-05],[\"PANTOATE-BETA-ALANINE-LIG-RXN\",\"ATP[c] + B-ALANINE[c] + L-PANTOATE[c] --\\u003e AMP[c] + PANTOTHENATE[c] + PPI[c] + PROTON[c]\",2.385211532612841e-05,3.6455551564101205e-05],[\"PANTOTHENATE-KIN-RXN\",\"ATP[c] + PANTOTHENATE[c] --\\u003e 4-P-PANTOTHENATE[c] + ADP[c] + PROTON[c]\",2.385211532612841e-05,3.6455551564101205e-05],[\"PDXJ-RXN\",\"1-AMINO-PROPAN-2-ONE-3-PHOSPHATE[c] + DEOXYXYLULOSE-5P[c] --\\u003e PROTON[c] + PYRIDOXINE-5P[c] + Pi[c] + 2.0 WATER[c]\",9.234412704389558e-06,1.4113868053459559e-05],[\"PEPDEPHOS-RXN\",\"ADP[c] + PHOSPHO-ENOL-PYRUVATE[c] + PROTON[c] --\\u003e ATP[c] + PYRUVATE[c]\",0.0,0.0],[\"PEPSYNTH-RXN\",\"ATP[c] + PYRUVATE[c] + WATER[c] --\\u003e AMP[c] + PHOSPHO-ENOL-PYRUVATE[c] + 2.0 PROTON[c] + Pi[c]\",0.0,0.0],[\"PGLUCONDEHYDRAT-RXN\",\"CPD-2961[c] --\\u003e 2-KETO-3-DEOXY-6-P-GLUCONATE[c] + WATER[c]\",0.0,0.0],[\"PGLYCDEHYDROG-RXN\",\"G3P[c] + NAD[c] \\u003c=\\u003e 3-P-HYDROXYPYRUVATE[c] + NADH[c] + PROTON[c]\",0.22226534213842616,0.05303066512674111],[\"PHENDEHYD-RXN\",\"NAD[c] + PHENYLACETALDEHYDE[c] + WATER[c] --\\u003e NADH[c] + PHENYLACETATE[c] + 2.0 PROTON[c]\",0.0,0.0],[\"PHENYLPYRUVATE-TAUTOMERASE-RXN\",\"PHENYL-PYRUVATE[c] \\u003c=\\u003e ENOL-PHENYLPYRUVATE[c]\",0.0,0.0],[\"PHOSACETYLTRANS-RXN\",\"ACETYL-COA[c] + Pi[c] \\u003c=\\u003e ACETYL-P[c] + CO-A[c]\",0.0,-0.024570851881534194],[\"PHOSGLYPHOS-RXN\",\"ATP[c] + G3P[c] \\u003c=\\u003e ADP[c] + DPG[c]\",-0.7401109571485186,-0.7089142654215266],[\"PHOSNACMURPENTATRANS-RXN\",\"C1[c] + CPD-9646[c] --\\u003e C5[c] + UMP[c]\",0.0011506989247963095,0.0008793635997074782],[\"PHOSPHASERDECARB-RXN-2\",\"CPD-12817[c] + PROTON[c] --\\u003e CARBON-DIOXIDE[c] + CPD-12819[c]\",0.002642532790663297,0.008799205595230385],[\"PORPHOBILSYNTH-RXN\",\"2.0 5-AMINO-LEVULINATE[c] --\\u003e PORPHOBILINOGEN[c] + PROTON[c] + 2.0 WATER[c]\",0.0,0.00011291094442767647],[\"PPENTOMUT-RXN\",\"RIBOSE-1P[c] --\\u003e RIBOSE-5P[c]\",0.0,0.0],[\"PPENTOMUT-RXN-RIBOSE-1P\\u002f\\u002fCPD-15318.21.\",\"RIBOSE-1P[c] \\u003c=\\u003e CPD-15318[c]\",0.0,0.0],[\"PPENTOMUT-RXN-RIBOSE-1P\\u002f\\u002fCPD-15895.21.\",\"RIBOSE-1P[c] \\u003c=\\u003e CPD-15895[c]\",0.0,0.0],[\"PPENTOMUT-RXN-RIBOSE-1P\\u002f\\u002fCPD-16551.21.\",\"RIBOSE-1P[c] \\u003c=\\u003e CPD-16551[c]\",0.0,-3.075937163220342e-05],[\"PPPGPPHYDRO-RXN\",\"GDP-TP[c] + WATER[c] --\\u003e GUANOSINE-5DP-3DP[c] + PROTON[c] + Pi[c]\",0.0,0.0],[\"PRAISOM-RXN\",\"N-5-PHOSPHORIBOSYL-ANTHRANILATE[c] --\\u003e CARBOXYPHENYLAMINO-DEOXYRIBULOSE-P[c]\",0.0023538642213256303,0.003597643954093281],[\"PREPHENATEDEHYDRAT-RXN\",\"PREPHENATE[c] + PROTON[c] --\\u003e CARBON-DIOXIDE[c] + PHENYL-PYRUVATE[c] + WATER[c]\",0.007671809281070545,0.011725586389794554],[\"PREPHENATEDEHYDROG-RXN\",\"NAD[c] + PREPHENATE[c] --\\u003e CARBON-DIOXIDE[c] + NADH[c] + P-HYDROXY-PHENYLPYRUVATE[c]\",0.005710262664952926,0.00872756030986484],[\"PRIBFAICARPISOM-RXN\",\"PHOSPHORIBOSYL-FORMIMINO-AICAR-P[c] --\\u003e PHOSPHORIBULOSYL-FORMIMINO-AICAR-P[c]\",0.003923093232235238,0.005996052159859425],[\"PRODISULFREDUCT-A-RXN-GLUTATHIONE\\u002fOxidized-NrdH-Proteins\\u002f\\u002fOXIDIZED-GLUTATHIONE\\u002fReduced-NrdH-Proteins.79.\",\"2.0 GLUTATHIONE[c] + Oxidized-NrdH-Proteins[c] --\\u003e OXIDIZED-GLUTATHIONE[c] + Reduced-NrdH-Proteins[c]\",0.003321075779784944,0.0],[\"PROPIONATE--COA-LIGASE-RXN\",\"ATP[c] + CO-A[c] + PROPIONATE[c] --\\u003e AMP[c] + PPI[c] + PROPIONYL-COA[c]\",0.319520949232648,0.0],[\"PROPIONYL-COA-CARBOXY-RXN\",\"ATP[c] + HCO3[c] + PROPIONYL-COA[c] \\u003c=\\u003e ADP[c] + D-METHYL-MALONYL-COA[c] + PROTON[c] + Pi[c]\",0.06118754985866454,0.0],[\"PRPPAMIDOTRANS-RXN\",\"GLN[c] + PRPP[c] + WATER[c] --\\u003e 5-P-BETA-D-RIBOSYL-AMINE[c] + GLT[c] + PPI[c]\",0.018531975540500664,0.02794476254606697],[\"PRPPSYN-RXN\",\"ATP[c] + RIBOSE-5P[c] --\\u003e AMP[c] + PROTON[c] + PRPP[c]\",0.038601460091321864,0.05836559121765349],[\"PRPPSYN-RXN-CPD-15318\\u002fATP\\u002f\\u002fPRPP\\u002fAMP\\u002fPROTON.31.\",\"ATP[c] + CPD-15318[c] --\\u003e AMP[c] + PROTON[c] + PRPP[c]\",0.0,0.0],[\"PRPPSYN-RXN-CPD-15895\\u002fATP\\u002f\\u002fPRPP\\u002fAMP\\u002fPROTON.31.\",\"ATP[c] + CPD-15895[c] --\\u003e AMP[c] + PROTON[c] + PRPP[c]\",0.0,0.0],[\"PRPPSYN-RXN-CPD-16551\\u002fATP\\u002f\\u002fPRPP\\u002fAMP\\u002fPROTON.31.\",\"ATP[c] + CPD-16551[c] --\\u003e AMP[c] + PROTON[c] + PRPP[c]\",0.0,0.0],[\"PRTRANS-RXN\",\"ANTHRANILATE[c] + PRPP[c] --\\u003e N-5-PHOSPHORIBOSYL-ANTHRANILATE[c] + PPI[c]\",0.0023538642213256303,0.003597643954093281],[\"PSEUDOURIDINE-KINASE-RXN\",\"ATP[c] + CPD-497[c] --\\u003e ADP[c] + PROTON[c] + PSEUDOURIDINE-5-P[c]\",0.0,0.0],[\"PTAALT-RXN\",\"PROPIONYL-COA[c] + Pi[c] --\\u003e CO-A[c] + PROPIONYL-P[c]\",0.0,0.0],[\"PYRIMSYN3-RXN\",\"AMINO-HYDROXYMETHYL-METHYL-PYR-P[c] + ATP[c] --\\u003e ADP[c] + AMINO-HYDROXYMETHYL-METHYLPYRIMIDINE-PP[c]\",0.0,0.0],[\"PYRNUTRANSHYDROGEN-RXN\",\"NADPH[c] + NAD[c] --\\u003e NADH[c] + NADP[c]\",0.0,0.0],[\"PYRUVFORMLY-RXN\",\"CO-A[c] + PYRUVATE[c] --\\u003e ACETYL-COA[c] + FORMATE[c]\",0.0,0.04747197410082999],[\"QUINOLINATE-SYNTHA-RXN\",\"DIHYDROXY-ACETONE-PHOSPHATE[c] + IMINOASPARTATE[c] --\\u003e Pi[c] + QUINOLINATE[c] + 2.0 WATER[c]\",9.433180332067692e-05,0.00014417664316487833],[\"R223-RXN\",\"ATP[c] + CO-A[c] + CPD-195[c] --\\u003e AMP[c] + CPD-196[c] + PPI[c]\",0.0,0.0],[\"RIBOFLAVIN-SYN-RXN\",\"2.0 DIMETHYL-D-RIBITYL-LUMAZINE[c] + PROTON[c] --\\u003e AMINO-RIBOSYLAMINO-1H-3H-PYR-DIONE[c] + RIBOFLAVIN[c]\",1.8468825408779117e-05,2.8227736106919118e-05],[\"RIBOFLAVINKIN-RXN\",\"ATP[c] + RIBOFLAVIN[c] --\\u003e ADP[c] + FMN[c] + PROTON[c]\",9.234412704389558e-06,1.4113868053459559e-05],[\"RIBOFLAVINSYNDEAM-RXN\",\"DIAMINO-OH-PHOSPHORIBOSYLAMINO-PYR[c] + PROTON[c] + WATER[c] --\\u003e AMMONIUM[c] + CPD-602[c]\",1.8468825408779117e-05,2.8227736106919118e-05],[\"RIBOFLAVINSYNREDUC-RXN\",\"CPD-602[c] + NADPH[c] + PROTON[c] --\\u003e CPD-1086[c] + NADP[c]\",1.8468825408779117e-05,2.8227736106919118e-05],[\"RIBONUCLEOSIDE-DIP-REDUCTI-RXN-CPD0-2231\\u002fOx-Thioredoxin\\u002fWATER\\u002f\\u002fIDP\\u002fRed-Thioredoxin.52.\",\"IDP[c] + Red-Thioredoxin[c] --\\u003e CPD0-2231[c] + Ox-Thioredoxin[c] + WATER[c]\",0.0,0.0],[\"RIBOPHOSPHAT-RXN\",\"CPD-1086[c] + WATER[c] --\\u003e AMINO-RIBOSYLAMINO-1H-3H-PYR-DIONE[c] + Pi[c]\",1.8468825408779117e-05,2.8227736106919118e-05],[\"RIBOSYLHOMOCYSTEINASE-RXN\",\"CPD-564[c] --\\u003e DIHYDROXYPENTANEDIONE[c] + HOMO-CYS[c]\",0.0,3.075937163220335e-05],[\"RIBULP3EPIM-RXN\",\"RIBULOSE-5P[c] --\\u003e XYLULOSE-5-PHOSPHATE[c]\",0.015782108230871037,-0.0470059738400053],[\"RXN-10015\",\"DIHYDROXYPENTANEDIONE[c] --\\u003e CPD-10773[c]\",0.0,0.0],[\"RXN-10017\",\"CPD-10773[c] + WATER[c] --\\u003e CPD-10774[c]\",0.0,0.0],[\"RXN-10654\",\"Cis-Delta5-dodecenoyl-ACPs[c] + MALONYL-ACP[c] + PROTON[c] --\\u003e 3-oxo-cis-D7-tetradecenoyl-ACPs[c] + ACP[c] + CARBON-DIOXIDE[c]\",0.0,9.493633219815848e-07],[\"RXN-10655\",\"3-oxo-cis-D7-tetradecenoyl-ACPs[c] + NADPH[c] + PROTON[c] --\\u003e 3-hydroxy-cis-D7-tetraecenoyl-ACPs[c] + NADP[c]\",0.0,9.493633219815848e-07],[\"RXN-10656\",\"3-hydroxy-cis-D7-tetraecenoyl-ACPs[c] --\\u003e Trans-D2-cis-D7-tetradecenoyl-ACPs[c] + WATER[c]\",0.0,9.493633219815848e-07],[\"RXN-10657\",\"NADH[c] + PROTON[c] + Trans-D2-cis-D7-tetradecenoyl-ACPs[c] --\\u003e Cis-Delta7-tetradecenoyl-ACPs[c] + NAD[c]\",0.0,9.493633219815848e-07],[\"RXN-10658\",\"Cis-Delta7-tetradecenoyl-ACPs[c] + MALONYL-ACP[c] + PROTON[c] --\\u003e 3-oxo-cis-D9-hexadecenoyl-ACPs[c] + ACP[c] + CARBON-DIOXIDE[c]\",0.0,9.493633219815848e-07],[\"RXN-10659\",\"3-oxo-cis-D9-hexadecenoyl-ACPs[c] + NADPH[c] + PROTON[c] --\\u003e 3-hydroxy-cis-D9-hexaecenoyl-ACPs[c] + NADP[c]\",0.0,9.493633219815848e-07],[\"RXN-10660\",\"3-hydroxy-cis-D9-hexaecenoyl-ACPs[c] --\\u003e Trans-D3-cis-D9-hexadecenoyl-ACPs[c] + WATER[c]\",0.0,9.493633219815848e-07],[\"RXN-10661\",\"NADH[c] + PROTON[c] + Trans-D3-cis-D9-hexadecenoyl-ACPs[c] --\\u003e NAD[c] + Palmitoleoyl-ACPs[c]\",0.0,9.493633219815848e-07],[\"RXN-10819\",\"ATP[c] + CO-A[c] + PHENYLACETATE[c] --\\u003e AMP[c] + CPD-207[c] + PPI[c]\",0.0,0.0],[\"RXN-11319\",\"NADPH[c] + S-ADENOSYLMETHIONINE[c] + TYR[c] --\\u003e CH33ADO[c] + CPD-108[c] + CPD-12279[c] + MET[c] + NADP[c] + PROTON[c]\",0.0,0.0],[\"RXN-11476\",\"3-Ketoglutaryl-ACP-methyl-ester[c] + NADPH[c] + PROTON[c] --\\u003e 3-Hydroxyglutaryl-ACP-methyl-ester[c] + NADP[c]\",0.0,6.329088813210565e-07],[\"RXN-11477\",\"3-Hydroxyglutaryl-ACP-methyl-ester[c] \\u003c=\\u003e Enoylglutaryl-ACP-methyl-esters[c] + WATER[c]\",0.0,6.329088813210565e-07],[\"RXN-11479\",\"Glutaryl-ACP-methyl-esters[c] + MALONYL-ACP[c] + PROTON[c] \\u003c=\\u003e 3-Ketopimeloyl-ACP-methyl-esters[c] + ACP[c] + CARBON-DIOXIDE[c]\",0.0,6.329088813210565e-07],[\"RXN-11480\",\"3-Ketopimeloyl-ACP-methyl-esters[c] + NADPH[c] + PROTON[c] --\\u003e 3-hydroxypimeloyl-ACP-methyl-esters[c] + NADP[c]\",0.0,6.329088813210565e-07],[\"RXN-11481\",\"3-hydroxypimeloyl-ACP-methyl-esters[c] \\u003c=\\u003e Enoylpimeloyl-ACP-methyl-esters[c] + WATER[c]\",0.0,6.329088813210565e-07],[\"RXN-11662\",\"NAD[c] + S-3-HYDROXYBUTANOYL-COA[c] \\u003c=\\u003e ACETOACETYL-COA[c] + NADH[c] + PROTON[c]\",-0.06118754985866454,0.0],[\"RXN-11811\",\"AMMONIA[c] + PROTON[c] \\u003c=\\u003e AMMONIUM[c]\",0.0,-0.034811760617525805],[\"RXN-11832\",\"ATP[c] + CMP[c] \\u003c=\\u003e ADP[c] + CDP[c]\",0.005879919117194552,0.018663660128612248],[\"RXN-12002\",\"ATP[c] + UMP[c] --\\u003e ADP[c] + UDP[c]\",0.014848894218735965,0.021563585331937193],[\"RXN-12107\",\"L-IDONATE[c] + NAD[c] --\\u003e 5-DEHYDROGLUCONATE[c] + NADH[c] + PROTON[c]\",0.0,0.0],[\"RXN-12195\",\"CTP[c] + WATER[c] --\\u003e CDP[c] + PROTON[c] + Pi[c]\",0.0,0.0],[\"RXN-12198\",\"CDP[c] + WATER[c] --\\u003e CMP[c] + PROTON[c] + Pi[c]\",0.0,0.0],[\"RXN-12490\",\"CPD0-2244[c] + NAD[c] \\u003c=\\u003e CPD0-2123[c] + NADH[c] + PROTON[c]\",0.0,0.0],[\"RXN-12507\",\"CPD0-2171[c] + NAD[c] \\u003c=\\u003e CPD-10284[c] + NADH[c] + PROTON[c]\",0.0,0.0],[\"RXN-12570\",\"NAD[c] + OH-HEXANOYL-COA[c] \\u003c=\\u003e K-HEXANOYL-COA[c] + NADH[c] + PROTON[c]\",0.0,0.0],[\"RXN-12583\",\"PROTON[c] + PYRUVATE[c] + THIAMINE-PYROPHOSPHATE[c] --\\u003e 2-ALPHA-HYDROXYETHYL-THPP[c] + CARBON-DIOXIDE[c]\",0.0,0.0],[\"RXN-12611\",\"AMINO-HYDROXYMETHYL-METHYLPYRIMIDINE-PP[c] + CPD-13575[c] + 2.0 PROTON[c] --\\u003e CARBON-DIOXIDE[c] + PPI[c] + THIAMINE-P[c]\",0.0,0.0],[\"RXN-12752\",\"CPD0-2472[c] --\\u003e CPD-653[c]\",0.0,0.0],[\"RXN-12753\",\"NADH[c] + WATER[c] --\\u003e CPD-653[c]\",0.0,0.0],[\"RXN-12754\",\"NADH[c] + WATER[c] --\\u003e CPD0-2472[c]\",0.0,0.0],[\"RXN-13141\",\"ADP[c] + CPD0-2474[c] \\u003c=\\u003e AMP[c] + NADPH[c] + PROTON[c] + Pi[c]\",0.0,0.0],[\"RXN-13142\",\"CPD-14133[c] --\\u003e CPD0-2474[c]\",0.0,0.0],[\"RXN-13179\",\"4-PHOSPHONOOXY-THREONINE[c] + NAD[c] --\\u003e 1-AMINO-PROPAN-2-ONE-3-PHOSPHATE[c] + CARBON-DIOXIDE[c] + NADH[c]\",9.234412704389558e-06,1.4113868053459559e-05],[\"RXN-13198\",\"NAD[c] + PROPANOL[c] \\u003c=\\u003e CPD-665[c] + NADH[c] + PROTON[c]\",0.0,0.0],[\"RXN-13329\",\"CPD-12279[c] + PROTON[c] + WATER[c] --\\u003e AMMONIUM[c] + GLYOX[c]\",0.0,0.0],[\"RXN-13459\",\"CPD-14447[c] \\u003c=\\u003e CPD-14441[c]\",0.0,0.0],[\"RXN-13482\",\"CARBAMOYL-P[c] + L-ORNITHINE[c] \\u003c=\\u003e L-CITRULLINE[c] + PROTON[c] + Pi[c]\",0.012248723778730028,0.018720938382371793],[\"RXN-13614\",\"ATP[c] + CO-A[c] + CPD-3617[c] --\\u003e AMP[c] + CPD-10267[c] + PPI[c]\",0.0,0.0],[\"RXN-13615\",\"CPD-10267[c] + ETF-Oxidized[c] + PROTON[c] \\u003c=\\u003e ETF-Reduced[c] + T2-DECENOYL-COA[c]\",0.0,0.0],[\"RXN-13616\",\"T2-DECENOYL-COA[c] + WATER[c] --\\u003e CPD0-2244[c]\",0.0,0.0],[\"RXN-1381-PALMITYL-COA\\u002fGLYCEROL-3P\\u002f\\u002f1-PALMITOYLGLYCEROL-3-PHOSPHATE\\u002fCO-A.63.\",\"GLYCEROL-3P[c] + PALMITYL-COA[c] --\\u003e 1-PALMITOYLGLYCEROL-3-PHOSPHATE[c] + CO-A[c]\",0.002642532790663297,0.0],[\"RXN-1381-TETRADECANOYL-COA\\u002fGLYCEROL-3P\\u002f\\u002fCPD-18379\\u002fCO-A.46.\",\"GLYCEROL-3P[c] + TETRADECANOYL-COA[c] --\\u003e CO-A[c] + CPD-18379[c]\",0.0,0.0],[\"RXN-14014-DELTA1-PIPERIDEINE-2-6-DICARBOXYLATE\\u002fNAD\\u002fWATER\\u002f\\u002fCPD-14443\\u002fNADH\\u002fPROTON.70.\",\"CPD-14443[c] + NADH[c] + PROTON[c] --\\u003e DELTA1-PIPERIDEINE-2-6-DICARBOXYLATE[c] + NAD[c] + WATER[c]\",0.0,0.022598960970890303],[\"RXN-14014-DELTA1-PIPERIDEINE-2-6-DICARBOXYLATE\\u002fNADP\\u002fWATER\\u002f\\u002fCPD-14443\\u002fNADPH\\u002fPROTON.72.\",\"CPD-14443[c] + NADPH[c] + PROTON[c] --\\u003e DELTA1-PIPERIDEINE-2-6-DICARBOXYLATE[c] + NADP[c] + WATER[c]\",0.015360969319643956,0.0],[\"RXN-14025\",\"UMP[c] + WATER[c] --\\u003e Pi[c] + URIDINE[c]\",0.0,0.0],[\"RXN-14026\",\"CMP[c] + WATER[c] --\\u003e CYTIDINE[c] + Pi[c]\",0.0,0.0],[\"RXN-14120\",\"ATP[c] + IDP[c] \\u003c=\\u003e ADP[c] + ITP[c]\",0.0,0.0],[\"RXN-14131\",\"ETF-Oxidized[c] + PROTON[c] + TETRADECANOYL-COA[c] \\u003c=\\u003e CPD-15568[c] + ETF-Reduced[c]\",0.0,0.0],[\"RXN-14139\",\"UTP[c] + WATER[c] --\\u003e PPI[c] + PROTON[c] + UMP[c]\",0.0,0.0],[\"RXN-14140\",\"GTP[c] + WATER[c] --\\u003e GMP[c] + PPI[c] + PROTON[c]\",0.0,0.0],[\"RXN-14196\",\"ATP[c] + CARBAMATE[c] \\u003c=\\u003e ADP[c] + CARBAMOYL-P[c]\",0.0,0.03940389429683886],[\"RXN-14228\",\"ATP[c] + CPD0-2231[c] \\u003c=\\u003e ADP[c] + DITP[c]\",0.0,0.0],[\"RXN-14229\",\"CPD-196[c] + ETF-Oxidized[c] + PROTON[c] \\u003c=\\u003e CPD0-2108[c] + ETF-Reduced[c]\",0.0,0.0],[\"RXN-14262\",\"ETF-Oxidized[c] + LAUROYLCOA-CPD[c] + PROTON[c] \\u003c=\\u003e CPD-7222[c] + ETF-Reduced[c]\",0.0,0.0],[\"RXN-14273\",\"CPD-15568[c] + WATER[c] \\u003c=\\u003e CPD0-2171[c]\",0.0,0.0],[\"RXN-14278\",\"ETF-Oxidized[c] + HEXANOYL-COA[c] + PROTON[c] \\u003c=\\u003e CPD0-2121[c] + ETF-Reduced[c]\",0.0,0.0],[\"RXN-14503\",\"CPD-15377[c] \\u003c=\\u003e D-Xylopyranose[c]\",0.0,0.0],[\"RXN-14503-CPD-15377\\u002f\\u002fBETA-D-XYLOSE.25.\",\"CPD-15377[c] \\u003c=\\u003e BETA-D-XYLOSE[c]\",0.0,0.0],[\"RXN-14515\",\"CPD-15382[c] --\\u003e BETA-D-FRUCTOSE[c]\",0.0,0.0],[\"RXN-14811\",\"CPD-15616[c] \\u003c=\\u003e CPD-9569[c]\",0.0,0.0],[\"RXN-14812\",\"CPD-15709[c] \\u003c=\\u003e FRUCTOSE-6P[c]\",0.0,0.0],[\"RXN-14882\",\"CPD-15818[c] \\u003c=\\u003e D-Ribofuranose[c]\",0.0,0.0],[\"RXN-14883\",\"CPD-15818[c] \\u003c=\\u003e D-Ribopyranose[c]\",0.0,0.0],[\"RXN-14904\",\"CPD-10330[c] \\u003c=\\u003e CPD0-1108[c]\",0.0,0.0],[\"RXN-14997\",\"CPD-15318[c] --\\u003e CPD-15895[c]\",0.0,0.0],[\"RXN-15121\",\"CPD-15056[c] --\\u003e CPD-16013[c]\",0.0,0.01838783843813252],[\"RXN-15122\",\"THR[c] --\\u003e CPD-15056[c] + PROTON[c] + WATER[c]\",0.0,0.01838783843813248],[\"RXN-15123\",\"CPD-16013[c] + PROTON[c] + WATER[c] --\\u003e 2-OXOBUTANOATE[c] + AMMONIUM[c]\",0.0,0.01838783843813252],[\"RXN-15124\",\"2-AMINOACRYLATE[c] --\\u003e CPD-16015[c]\",0.0,0.0],[\"RXN-15125\",\"SER[c] --\\u003e 2-AMINOACRYLATE[c] + WATER[c]\",0.0,0.0],[\"RXN-15127\",\"CPD-16015[c] + WATER[c] --\\u003e AMMONIUM[c] + PYRUVATE[c]\",0.0,0.0],[\"RXN-15129\",\"CYS[c] --\\u003e 2-AMINOACRYLATE[c] + HS[c]\",0.0,0.0],[\"RXN-15345\",\"CPD-15318[c] --\\u003e CPD-16551[c]\",0.0,0.0],[\"RXN-15346\",\"CPD-16551[c] --\\u003e CPD-15895[c]\",0.0,0.0],[\"RXN-15348\",\"CPD-11281[c] + GLUTATHIONE[c] \\u003c=\\u003e HS[c] + OXIDIZED-GLUTATHIONE[c]\",0.0,0.0],[\"RXN-15890\",\"Holo-EntF[c] + SERYL-AMP[c] --\\u003e AMP[c] + PROTON[c] + Seryl-EntF[c]\",0.0,0.0],[\"RXN-15891\",\"23DHB-EntB[c] + Seryl-EntF[c] --\\u003e DHB-Seryl-EntF[c] + Holo-EntB[c] + PROTON[c]\",0.0,0.0],[\"RXN-16393\",\"ATP[c] + CO-A[c] + DODECANOATE[c] --\\u003e AMP[c] + LAUROYLCOA-CPD[c] + PPI[c]\",0.0,0.0],[\"RXN-16475\",\"CPD-13122[c] \\u003c=\\u003e CPD-37[c]\",0.0,0.0],[\"RXN-16804\",\"ARABINOSE-5P[c] \\u003c=\\u003e CPD-18118[c]\",0.0,2.531635525284226e-06],[\"RXN-16909\",\"ATP[c] + HCO3[c] --\\u003e ADP[c] + CPD-18238[c]\",0.0,0.03940389429683886],[\"RXN-16910\",\"AMMONIUM[c] + CPD-18238[c] --\\u003e CARBAMATE[c] + 2.0 PROTON[c] + Pi[c]\",0.0,0.03940389429683886],[\"RXN-17012\",\"1-PALMITOYLGLYCEROL-3-PHOSPHATE[c] + Palmitoleoyl-ACPs[c] --\\u003e ACP[c] + CPD-18350[c]\",0.0,0.0],[\"RXN-17013\",\"CPD-18348[c] + Palmitoleoyl-ACPs[c] --\\u003e ACP[c] + CPD-18351[c]\",0.0,0.0],[\"RXN-17014\",\"1-PALMITOYLGLYCEROL-3-PHOSPHATE[c] + Cis-vaccenoyl-ACPs[c] --\\u003e ACP[c] + CPD-18352[c]\",0.0,0.0],[\"RXN-17015\",\"CPD-18348[c] + Cis-vaccenoyl-ACPs[c] --\\u003e ACP[c] + CPD-18353[c]\",0.0,0.0],[\"RXN-17016\",\"Cis-vaccenoyl-ACPs[c] + GLYCEROL-3P[c] --\\u003e ACP[c] + CPD-18348[c]\",0.0,0.0],[\"RXN-17017\",\"GLYCEROL-3P[c] + Myristoyl-ACPs[c] --\\u003e ACP[c] + CPD-18379[c]\",0.0,0.0],[\"RXN-17018\",\"GLYCEROL-3P[c] + Palmitoyl-ACPs[c] --\\u003e 1-PALMITOYLGLYCEROL-3-PHOSPHATE[c] + ACP[c]\",0.0,0.008800471412993026],[\"RXN-17020\",\"CPD-18379[c] + Palmitoleoyl-ACPs[c] --\\u003e ACP[c] + CPD-18380[c]\",0.0,0.0],[\"RXN-17021\",\"CPD-18379[c] + TETRADECANOYL-COA[c] --\\u003e CO-A[c] + CPD0-1425[c]\",0.0,0.0],[\"RXN-17022\",\"CPD-18379[c] + Myristoyl-ACPs[c] --\\u003e ACP[c] + CPD0-1425[c]\",0.0,0.0],[\"RXN-17023\",\"1-PALMITOYLGLYCEROL-3-PHOSPHATE[c] + TETRADECANOYL-COA[c] --\\u003e CO-A[c] + CPD-18390[c]\",0.0,0.0],[\"RXN-17024\",\"1-PALMITOYLGLYCEROL-3-PHOSPHATE[c] + Myristoyl-ACPs[c] --\\u003e ACP[c] + CPD-18390[c]\",0.0,0.0],[\"RXN-17753\",\"CARBAMOYL-P[c] --\\u003e CPD-69[c] + PROTON[c] + Pi[c]\",0.0,0.0],[\"RXN-17796\",\"CPD-19148[c] + ETF-Oxidized[c] + PROTON[c] --\\u003e CPD-19150[c] + ETF-Reduced[c]\",0.0,0.0],[\"RXN-17797\",\"CPD-19150[c] + WATER[c] --\\u003e CPD-19151[c]\",0.0,0.0],[\"RXN-17798\",\"CPD-19151[c] + NAD[c] --\\u003e CPD-19153[c] + NADH[c] + PROTON[c]\",0.0,0.0],[\"RXN-18031\",\"H2CO3[c] \\u003c=\\u003e HCO3[c] + PROTON[c]\",0.0,0.0],[\"RXN-18032\",\"HCO3[c] \\u003c=\\u003e CO3[c] + PROTON[c]\",0.0,0.0],[\"RXN-18232\",\"HSCN[c] \\u003c=\\u003e CPD-19512[c]\",0.0,0.0],[\"RXN-18392\",\"CPD-19753[c] \\u003c=\\u003e KDO[c]\",0.0,0.0],[\"RXN-2962-S-HYDROXYMETHYLGLUTATHIONE\\u002fNAD\\u002f\\u002fCPD-548\\u002fNADH\\u002fPROTON.52.\",\"NAD[c] + S-HYDROXYMETHYLGLUTATHIONE[c] --\\u003e CPD-548[c] + NADH[c] + PROTON[c]\",0.0,0.0],[\"RXN-2962-S-HYDROXYMETHYLGLUTATHIONE\\u002fNADP\\u002f\\u002fCPD-548\\u002fNADPH\\u002fPROTON.54.\",\"NADP[c] + S-HYDROXYMETHYLGLUTATHIONE[c] --\\u003e CPD-548[c] + NADPH[c] + PROTON[c]\",0.0,0.0],[\"RXN-3641\",\"3-KETO-ADIPYL-COA[c] + CO-A[c] --\\u003e ACETYL-COA[c] + SUC-COA[c]\",0.0,0.0],[\"RXN-4821\",\"DELTA1-PIPERIDEINE-2-6-DICARBOXYLATE[c] + PROTON[c] + WATER[c] \\u003c=\\u003e L-ALPHA-AMINO-EPSILON-KETO-PIMELATE[c]\",0.0,0.0],[\"RXN-5822\",\"NADP[c] + WATER[c] --\\u003e NAD[c] + Pi[c]\",0.0,0.0],[\"RXN-7282\",\"OXOPENTENOATE[c] \\u003c=\\u003e CPD-14447[c]\",0.0,0.0],[\"RXN-7607\",\"IMP[c] + WATER[c] --\\u003e INOSINE[c] + Pi[c]\",0.0,0.0],[\"RXN-7609\",\"GMP[c] + WATER[c] --\\u003e GUANOSINE[c] + Pi[c]\",0.0,0.0],[\"RXN-7682\",\"HYPOXANTHINE[c] + NAD[c] + WATER[c] --\\u003e NADH[c] + PROTON[c] + XANTHINE[c]\",0.0,0.0],[\"RXN-7800\",\"CPD-7100[c] + PROTON[c] --\\u003e 2K-4CH3-PENTANOATE[c] + CARBON-DIOXIDE[c]\",0.0,0.028514507121045692],[\"RXN-7913\",\"ATP[c] + DCMP[c] --\\u003e ADP[c] + DCDP[c]\",0.0,0.0],[\"RXN-7968-SHIKIMATE\\u002fNAD\\u002f\\u002f3-DEHYDRO-SHIKIMATE\\u002fNADH\\u002fPROTON.47.\",\"NAD[c] + SHIKIMATE[c] --\\u003e 3-DEHYDRO-SHIKIMATE[c] + NADH[c] + PROTON[c]\",0.0,0.0],[\"RXN-8315\",\"PROTON[c] + SO3[c] \\u003c=\\u003e HSO3[c]\",0.0,0.0],[\"RXN-8629\",\"DIHYDROLIPOYL-GCVH[c] + NAD[c] \\u003c=\\u003e NADH[c] + PROTEIN-LIPOYLLYSINE[c] + PROTON[c]\",0.15750096881898087,0.0],[\"RXN-8638-BETAINE-ALDEHYDE-HYDRATE\\u002fATP\\u002fWATER\\u002f\\u002fBETAINE-ALDEHYDE-HYDRATE\\u002fADP\\u002fPi\\u002fPROTON.75.\",\"ATP[c] + BETAINE-ALDEHYDE-HYDRATE[p] + WATER[c] --\\u003e ADP[c] + BETAINE-ALDEHYDE-HYDRATE[c] + PROTON[c] + Pi[c]\",0.0,0.0],[\"RXN-8638-CHOLINE\\u002fATP\\u002fWATER\\u002f\\u002fCHOLINE\\u002fADP\\u002fPi\\u002fPROTON.41.\",\"ATP[c] + CHOLINE[p] + WATER[c] --\\u003e ADP[c] + CHOLINE[c] + PROTON[c] + Pi[c]\",0.0,0.0],[\"RXN-8638-CPD-821\\u002fATP\\u002fWATER\\u002f\\u002fCPD-821\\u002fADP\\u002fPi\\u002fPROTON.41.\",\"ATP[c] + CPD-821[p] + WATER[c] --\\u003e ADP[c] + CPD-821[c] + PROTON[c] + Pi[c]\",0.0,0.0],[\"RXN-8638-GAMMA-BUTYROBETAINE\\u002fATP\\u002fWATER\\u002f\\u002fGAMMA-BUTYROBETAINE\\u002fADP\\u002fPi\\u002fPROTON.65.\",\"ATP[c] + GAMMA-BUTYROBETAINE[p] + WATER[c] --\\u003e ADP[c] + GAMMA-BUTYROBETAINE[c] + PROTON[c] + Pi[c]\",0.0,0.0],[\"RXN-8642\",\"OXALO-SUCCINATE[c] + PROTON[c] \\u003c=\\u003e 2-KETOGLUTARATE[c] + CARBON-DIOXIDE[c]\",0.06679838729983631,0.06717049299282733],[\"RXN-8675\",\"CPD-9038[c] + S-ADENOSYLMETHIONINE[c] --\\u003e ADENOSYL-HOMO-CYS[c] + DIHYDROSIROHYDROCHLORIN[c]\",0.0,1.4113868053459559e-05],[\"RXN-8899\",\"2-AMINOACRYLATE[c] + WATER[c] --\\u003e AMMONIUM[c] + PYRUVATE[c]\",0.0,1.4746776934780614e-05],[\"RXN-8991\",\"2-D-THREO-HYDROXY-3-CARBOXY-ISOCAPROATE[c] \\u003c=\\u003e CPD-9451[c] + WATER[c]\",-0.018656453767360234,-0.028514507121045692],[\"RXN-8992\",\"5.0 DELTA3-ISOPENTENYL-PP[c] + FARNESYL-PP[c] --\\u003e OCTAPRENYL-DIPHOSPHATE[c] + 5.0 PPI[c]\",9.234412704389558e-06,1.4113868053459559e-05],[\"RXN-8999\",\"8.0 DELTA3-ISOPENTENYL-PP[c] + FARNESYL-PP[c] --\\u003e 8.0 PPI[c] + UNDECAPRENYL-DIPHOSPHATE[c]\",2.2775457342665527e-06,0.000882844598554744],[\"RXN-9514\",\"Acetoacetyl-ACPs[c] + NADPH[c] + PROTON[c] --\\u003e Beta-3-hydroxybutyryl-ACPs[c] + NADP[c]\",0.011514277394312747,0.0],[\"RXN-9516\",\"Butanoyl-ACPs[c] + MALONYL-ACP[c] + PROTON[c] --\\u003e 3-oxo-hexanoyl-ACPs[c] + ACP[c] + CARBON-DIOXIDE[c]\",0.0,0.017606955460358596],[\"RXN-9518\",\"3-oxo-hexanoyl-ACPs[c] + NADPH[c] + PROTON[c] --\\u003e NADP[c] + R-3-hydroxyhexanoyl-ACPs[c]\",0.011514277394312747,0.017606955460358596],[\"RXN-9520\",\"R-3-hydroxyhexanoyl-ACPs[c] --\\u003e Hex-2-enoyl-ACPs[c] + WATER[c]\",0.011514277394312747,0.017606955460358596],[\"RXN-9523\",\"Hexanoyl-ACPs[c] + MALONYL-ACP[c] + PROTON[c] --\\u003e 3-Oxo-octanoyl-ACPs[c] + ACP[c] + CARBON-DIOXIDE[c]\",0.0,0.017606955460358596],[\"RXN-9524\",\"3-Oxo-octanoyl-ACPs[c] + NADPH[c] + PROTON[c] --\\u003e 3-Hydroxy-octanoyl-ACPs[c] + NADP[c]\",0.011514277394312747,0.017606955460358596],[\"RXN-9527\",\"MALONYL-ACP[c] + Octanoyl-ACPs[c] + PROTON[c] --\\u003e 3-oxo-decanoyl-ACPs[c] + ACP[c] + CARBON-DIOXIDE[c]\",0.0,0.017606955460358596],[\"RXN-9528\",\"3-oxo-decanoyl-ACPs[c] + NADPH[c] + PROTON[c] --\\u003e Beta-hydroxydecanoyl-ACPs[c] + NADP[c]\",0.011514277394312747,0.017606955460358596],[\"RXN-9531\",\"Decanoyl-ACPs[c] + MALONYL-ACP[c] + PROTON[c] --\\u003e 3-oxo-dodecanoyl-ACPs[c] + ACP[c] + CARBON-DIOXIDE[c]\",0.0,0.017606006097036615],[\"RXN-9532\",\"3-oxo-dodecanoyl-ACPs[c] + NADPH[c] + PROTON[c] --\\u003e NADP[c] + R-3-hydroxydodecanoyl-ACPs[c]\",0.011514277394312747,0.017606006097036615],[\"RXN-9533\",\"R-3-hydroxydodecanoyl-ACPs[c] --\\u003e Dodec-2-enoyl-ACPs[c] + WATER[c]\",0.011514277394312747,0.017606006097036615],[\"RXN-9535\",\"Dodecanoyl-ACPs[c] + MALONYL-ACP[c] + PROTON[c] --\\u003e 3-oxo-myristoyl-ACPs[c] + ACP[c] + CARBON-DIOXIDE[c]\",0.0,0.017606006097036615],[\"RXN-9536\",\"3-oxo-myristoyl-ACPs[c] + NADPH[c] + PROTON[c] --\\u003e NADP[c] + R-3-hydroxymyristoyl-ACPs[c]\",0.011514277394312747,0.017606006097036615],[\"RXN-9537\",\"R-3-hydroxymyristoyl-ACPs[c] --\\u003e Tetradec-2-enoyl-ACPs[c] + WATER[c]\",0.011514277394312747,0.01760094282598605],[\"RXN-9539\",\"MALONYL-ACP[c] + Myristoyl-ACPs[c] + PROTON[c] --\\u003e 3-oxo-palmitoyl-ACPs[c] + ACP[c] + CARBON-DIOXIDE[c]\",0.0,0.01760094282598605],[\"RXN-9540\",\"3-oxo-palmitoyl-ACPs[c] + NADPH[c] + PROTON[c] --\\u003e NADP[c] + R-3-Hydroxypalmitoyl-ACPs[c]\",0.011514277394312747,0.0],[\"RXN-9556\",\"3-oxo-cis-vaccenoyl-ACPs[c] + NADPH[c] + PROTON[c] --\\u003e NADP[c] + R-3-hydroxy-cis-vaccenoyl-ACPs[c]\",0.0,0.0],[\"RXN-9557\",\"R-3-hydroxy-cis-vaccenoyl-ACPs[c] --\\u003e WATER[c] + cis-vaccen-2-enoyl-ACPs[c]\",0.0,0.0],[\"RXN-9558\",\"NADH[c] + PROTON[c] + cis-vaccen-2-enoyl-ACPs[c] --\\u003e Cis-vaccenoyl-ACPs[c] + NAD[c]\",0.0,0.0],[\"RXN-9615\",\"AMMONIUM[p] \\u003c=\\u003e AMMONIUM[c]\",0.4454375083369833,0.0],[\"RXN-9623\",\"ATP[c] + CO-A[c] + PALMITATE[c] --\\u003e AMP[c] + PALMITYL-COA[c] + PPI[c]\",0.0,0.0],[\"RXN-9655\",\"Beta-hydroxydecanoyl-ACPs[c] --\\u003e Trans-D2-decenoyl-ACPs[c] + WATER[c]\",0.011514277394312747,0.017606955460358596],[\"RXN-9657\",\"Crotonyl-ACPs[c] + NADH[c] + PROTON[c] --\\u003e Butanoyl-ACPs[c] + NAD[c]\",0.011514277394312747,0.0],[\"RXN-9658\",\"Hex-2-enoyl-ACPs[c] + NADH[c] + PROTON[c] --\\u003e Hexanoyl-ACPs[c] + NAD[c]\",0.0,0.017606955460358596],[\"RXN-9659\",\"2-Octenoyl-ACPs[c] + NADH[c] + PROTON[c] --\\u003e NAD[c] + Octanoyl-ACPs[c]\",0.0,0.017606955460358596],[\"RXN-9660\",\"NADH[c] + PROTON[c] + Trans-D2-decenoyl-ACPs[c] --\\u003e Decanoyl-ACPs[c] + NAD[c]\",0.0,0.017606006097036615],[\"RXN-9661\",\"Dodec-2-enoyl-ACPs[c] + NADH[c] + PROTON[c] --\\u003e Dodecanoyl-ACPs[c] + NAD[c]\",0.0,0.017606006097036615],[\"RXN-9662\",\"NADH[c] + PROTON[c] + Tetradec-2-enoyl-ACPs[c] --\\u003e Myristoyl-ACPs[c] + NAD[c]\",0.011514277394312747,0.01760094282598605],[\"RXN-9663\",\"2-Hexadecenoyl-ACPs[c] + NADH[c] + PROTON[c] --\\u003e NAD[c] + Palmitoyl-ACPs[c]\",0.011514277394312747,0.01760094282598605],[\"RXN-9772\",\"FUM[c] + L-ASPARTATE[c] --\\u003e IMINOASPARTATE[c] + PROTON[c] + SUC[c]\",9.433180332067692e-05,0.00014417664316485393],[\"RXN-9951\",\"NADP[c] + THREO-DS-ISO-CITRATE[c] \\u003c=\\u003e NADPH[c] + OXALO-SUCCINATE[c] + PROTON[c]\",0.06679838729983631,0.06717049299282733],[\"RXN-9952\",\"CPD-2961[c] + NADP[c] --\\u003e CARBON-DIOXIDE[c] + NADPH[c] + RIBULOSE-5P[c]\",0.07020261420388149,0.0],[\"RXN0-1401\",\"ATP[c] + RIBOSE-15-BISPHOSPHATE[c] --\\u003e ADP[c] + PRPP[c]\",0.0,0.0],[\"RXN0-2042\",\"CPD-207[c] + NADPH[c] + OXYGEN-MOLECULE[c] + PROTON[c] --\\u003e CPD0-2362[c] + NADP[c] + WATER[c]\",0.0,0.0],[\"RXN0-2044\",\"3-HYDROXYADIPYL-COA[c] + NAD[c] \\u003c=\\u003e 3-KETO-ADIPYL-COA[c] + NADH[c] + PROTON[c]\",0.0,0.0],[\"RXN0-2141\",\"Cis-delta-3-decenoyl-ACPs[c] + MALONYL-ACP[c] + PROTON[c] \\u003c=\\u003e ACP[c] + CARBON-DIOXIDE[c] + b-Keto-cis-D5-dodecenoyl-ACPs[c]\",0.0,9.493633219815848e-07],[\"RXN0-2142\",\"NADPH[c] + PROTON[c] + b-Keto-cis-D5-dodecenoyl-ACPs[c] --\\u003e NADP[c] + b-Hydroxy-cis-D5-dodecenoyl-ACPs[c]\",0.0,9.493633219815848e-07],[\"RXN0-2144\",\"b-Hydroxy-cis-D5-dodecenoyl-ACPs[c] \\u003c=\\u003e Trans-D3-cis-D5-dodecenoyl-ACPs[c] + WATER[c]\",0.0,9.493633219815848e-07],[\"RXN0-2361\",\"ATP[c] + L-ALA-GAMMA-D-GLU-DAP[c] + UDP-N-ACETYLMURAMATE[c] --\\u003e ADP[c] + PROTON[c] + Pi[c] + UDP-AAGM-DIAMINOHEPTANEDIOATE[c]\",0.0,0.0],[\"RXN0-2381\",\"INDOLE-3-GLYCEROL-P[c] --\\u003e GAP[c] + INDOLE[c]\",0.0023538642213256303,0.003597643954093281],[\"RXN0-2382\",\"INDOLE[c] + SER[c] --\\u003e TRP[c] + WATER[c]\",0.0023538642213256303,0.003597643954093281],[\"RXN0-268\",\"PROPIONYL-COA[c] + SUC[c] --\\u003e PROPIONATE[c] + SUC-COA[c]\",0.319520949232648,0.0],[\"RXN0-302\",\"2-PHOSPHO-4-CYTIDINE-5-DIPHOSPHO-2-C-MET[c] --\\u003e 2C-METH-D-ERYTHRITOL-CYCLODIPHOSPHATE[c] + CMP[c]\",9.892830471204855e-05,0.009824201528529836],[\"RXN0-3601\",\"CARNITINE[c] + GAMMA-BUTYROBETAINYL-COA[c] --\\u003e GAMMA-BUTYROBETAINE[c] + L-CARNITINYL-COA[c]\",0.0,0.0],[\"RXN0-363\",\"WATER[c] + XANTHOSINE[c] --\\u003e D-Ribofuranose[c] + XANTHINE[c]\",0.0,0.0],[\"RXN0-383\",\"CTP[c] + WATER[c] --\\u003e CMP[c] + PPI[c] + PROTON[c]\",0.0,0.0],[\"RXN0-384\",\"DATP[c] + WATER[c] \\u003c=\\u003e DAMP[c] + PPI[c] + PROTON[c]\",0.0,0.0],[\"RXN0-385\",\"DGTP[c] + WATER[c] --\\u003e DGMP[c] + PPI[c] + PROTON[c]\",0.0,0.0],[\"RXN0-3922-GAMMA-GLUTAMYL-GAMMA-AMINOBUTYRALDEH\\u002fNAD\\u002fWATER\\u002f\\u002fCPD-9000\\u002fNADH\\u002fPROTON.69.\",\"GAMMA-GLUTAMYL-GAMMA-AMINOBUTYRALDEH[c] + NAD[c] + WATER[c] --\\u003e CPD-9000[c] + NADH[c] + 2.0 PROTON[c]\",0.0,0.0],[\"RXN0-3922-GAMMA-GLUTAMYL-GAMMA-AMINOBUTYRALDEH\\u002fNADP\\u002fWATER\\u002f\\u002fCPD-9000\\u002fNADPH\\u002fPROTON.71.\",\"GAMMA-GLUTAMYL-GAMMA-AMINOBUTYRALDEH[c] + NADP[c] + WATER[c] --\\u003e CPD-9000[c] + NADPH[c] + 2.0 PROTON[c]\",0.0,0.0],[\"RXN0-3942\",\"CPD-9000[c] + WATER[c] \\u003c=\\u003e 4-AMINO-BUTYRATE[c] + GLT[c]\",0.0,0.0],[\"RXN0-4641\",\"CPD0-881[c] + WATER[c] --\\u003e D-LACTATE[c] + N-ACETYL-D-GLUCOSAMINE-6-P[c]\",0.0,0.0],[\"RXN0-5055\",\"ACETYL-COA[c] + carboxybiotin-L-lysine-in-BCCP-dimers[c] --\\u003e MALONYL-COA[c] + biotin-L-lysine-in-BCCP-dimers[c]\",0.0,0.12324552367810357],[\"RXN0-5114\",\"3-P-SERINE[c] + WATER[c] --\\u003e Pi[c] + SER[c]\",0.22226534213842616,0.05303066512674154],[\"RXN0-5199\",\"GUANOSINE[c] + Pi[c] --\\u003e GUANINE[c] + RIBOSE-1P[c]\",0.0,0.0],[\"RXN0-5222\",\"CARBAMATE[c] + 2.0 PROTON[c] --\\u003e AMMONIUM[c] + CARBON-DIOXIDE[c]\",0.0,0.0],[\"RXN0-5224\",\"HCO3[c] + PROTON[c] \\u003c=\\u003e CARBON-DIOXIDE[c] + WATER[c]\",-0.16773441069152345,-0.4117894527114963],[\"RXN0-5227\",\"CPD0-1082[c] + WATER[c] --\\u003e D-ALANINE[c] + L-ALA-GAMMA-D-GLU-DAP[c]\",0.0,0.0],[\"RXN0-5305\",\"CPD0-1108[c] \\u003c=\\u003e CPD-15818[c]\",0.0,0.0],[\"RXN0-5391\",\"CPD0-1162[c] \\u003c=\\u003e CPD0-1158[c]\",0.0,0.0],[\"RXN0-5393\",\"CPD0-1162[c] + WATER[c] --\\u003e CPD0-1163[c]\",0.0,0.0],[\"RXN0-5433\",\"DEHYDRO-3-DEOXY-L-RHAMNONATE[c] \\u003c=\\u003e LACTALD[c] + PYRUVATE[c]\",0.0,0.0],[\"RXN0-5462\",\"GTP[c] + WATER[c] --\\u003e GDP[c] + PROTON[c] + Pi[c]\",0.0,0.0],[\"RXN0-6382\",\"ITP[c] + WATER[c] \\u003c=\\u003e IMP[c] + PPI[c] + PROTON[c]\",0.0,0.0],[\"RXN0-6442\",\"CPD-62[c] + Holo-EntB[c] --\\u003e 23DHB-EntB[c] + AMP[c] + PROTON[c]\",0.0,0.0],[\"RXN0-6510\",\"CPD0-2362[c] --\\u003e CPD0-2363[c]\",0.0,0.0],[\"RXN0-6512\",\"CO-A[c] + CPD0-2364[c] --\\u003e ACETYL-COA[c] + TRANS-23-DEHYDROADIPYL-COA[c]\",0.0,0.0],[\"RXN0-6565\",\"DIHYDRO-THYMINE[c] + NAD[c] \\u003c=\\u003e NADH[c] + PROTON[c] + THYMINE[c]\",0.0,0.0],[\"RXN0-6705\",\"1-PALMITOYLGLYCEROL-3-PHOSPHATE[c] + Palmitoyl-ACPs[c] --\\u003e ACP[c] + CPD0-1422[c]\",0.011514277394312747,0.008800471412993026],[\"RXN0-6727\",\"ADP[c] + CPD-653[c] \\u003c=\\u003e AMP[c] + NADH[c] + PROTON[c] + Pi[c]\",0.0,0.0],[\"RXN0-6948\",\"ACETYL-COA[c] + MET[c] --\\u003e CO-A[c] + CPD0-2015[c] + PROTON[c]\",0.0,0.0],[\"RXN0-722\",\"Reduced-NrdH-Proteins[c] + UDP[c] --\\u003e DUDP[c] + Oxidized-NrdH-Proteins[c] + WATER[c]\",0.0010835320305966688,0.0],[\"RXN0-742\",\"5-PHOSPHORIBOSYL-5-AMINOIMIDAZOLE[c] + ATP[c] + HCO3[c] --\\u003e ADP[c] + CPD0-181[c] + 2.0 PROTON[c] + Pi[c]\",0.0,0.02794476254606697],[\"RXN0-743\",\"CPD0-181[c] --\\u003e PHOSPHORIBOSYL-CARBOXY-AMINOIMIDAZOLE[c]\",0.0,0.02794476254606697],[\"RXN0-884\",\"HYDROXY-METHYL-BUTENYL-DIP[c] + 2.0 PROTON[c] + 2.0 Reduced-ferredoxins[c] --\\u003e CPD-4211[c] + 2.0 Oxidized-ferredoxins[c] + WATER[c]\",0.0,0.0008969584666082036],[\"RXN0-901\",\"NAD[c] + WATER[c] + XANTHINE[c] --\\u003e NADH[c] + PROTON[c] + URATE[c]\",0.0,0.0],[\"RXNMETA-12671\",\"CPD0-2363[c] + WATER[c] \\u003c=\\u003e CPDMETA-13650[c]\",0.0,0.0],[\"RXNMETA-12672\",\"CPDMETA-13650[c] + NADP[c] + WATER[c] --\\u003e CPD0-2364[c] + NADPH[c] + 2.0 PROTON[c]\",0.0,0.0],[\"S-ADENMETSYN-RXN\",\"ATP[c] + MET[c] + WATER[c] --\\u003e PPI[c] + Pi[c] + S-ADENOSYLMETHIONINE[c]\",9.234412704389218e-06,4.5506148566983905e-05],[\"S-FORMYLGLUTATHIONE-HYDROLASE-RXN\",\"CPD-548[c] + WATER[c] --\\u003e FORMATE[c] + GLUTATHIONE[c] + PROTON[c]\",0.0,0.0],[\"SAICARSYN-RXN\",\"ATP[c] + L-ASPARTATE[c] + PHOSPHORIBOSYL-CARBOXY-AMINOIMIDAZOLE[c] --\\u003e ADP[c] + P-RIBOSYL-4-SUCCCARB-AMINOIMIDAZOLE[c] + PROTON[c] + Pi[c]\",0.018531975540500664,0.02794476254606697],[\"SERINE-O-ACETTRAN-RXN\",\"ACETYL-COA[c] + SER[c] --\\u003e ACETYLSERINE[c] + CO-A[c]\",0.003816172812492028,0.005847381863637116],[\"SHIKIMATE-5-DEHYDROGENASE-RXN\",\"3-DEHYDRO-SHIKIMATE[c] + NADPH[c] + PROTON[c] --\\u003e NADP[c] + SHIKIMATE[c]\",0.01577287381816665,0.024093132257913055],[\"SHIKIMATE-KINASE-RXN\",\"ATP[c] + SHIKIMATE[c] --\\u003e ADP[c] + PROTON[c] + SHIKIMATE-5P[c]\",0.01577287381816665,0.024093132257913055],[\"SUCCCOASYN-RXN\",\"ATP[c] + CO-A[c] + SUC[c] \\u003c=\\u003e ADP[c] + Pi[c] + SUC-COA[c]\",-0.3653475297716686,0.0226137077478252],[\"SUCCDIAMINOPIMDESUCC-RXN\",\"N-SUCCINYLLL-2-6-DIAMINOPIMELATE[c] + WATER[c] --\\u003e LL-DIAMINOPIMELATE[c] + SUC[c]\",0.015360969319643956,0.022598960970890303],[\"SUCCINATE-SEMIALDEHYDE-DEHYDROGENASE-RXN\",\"NAD[c] + SUCC-S-ALD[c] + WATER[c] --\\u003e NADH[c] + 2.0 PROTON[c] + SUC[c]\",0.022422520573698406,0.0],[\"SUCCINYLDIAMINOPIMTRANS-RXN\",\"GLT[c] + N-SUCCINYL-2-AMINO-6-KETOPIMELATE[c] --\\u003e 2-KETOGLUTARATE[c] + N-SUCCINYLLL-2-6-DIAMINOPIMELATE[c]\",0.015360969319643956,0.022598960970890303],[\"SUCCSEMIALDDEHYDROG-RXN\",\"NADP[c] + SUCC-S-ALD[c] + WATER[c] \\u003c=\\u003e NADPH[c] + 2.0 PROTON[c] + SUC[c]\",0.0,0.0],[\"SULFATE-ADENYLYLTRANS-RXN\",\"ATP[c] + PROTON[c] + SULFATE[c] --\\u003e APS[c] + PPI[c]\",0.01018953256549603,0.005847381863637116],[\"SULFITE-REDUCT-RXN\",\"3.0 NADPH[c] + 5.0 PROTON[c] + SO3[c] --\\u003e HS[c] + 3.0 NADP[c] + 3.0 WATER[c]\",0.01018953256549603,0.005847381863637116],[\"TETHYDPICSUCC-RXN\",\"DELTA1-PIPERIDEINE-2-6-DICARBOXYLATE[c] + SUC-COA[c] + WATER[c] --\\u003e CO-A[c] + N-SUCCINYL-2-AMINO-6-KETOPIMELATE[c]\",0.015360969319643956,0.022598960970890303],[\"TETRAACYLDISACC4KIN-RXN\",\"ATP[c] + BISOHMYR-GLC[c] --\\u003e ADP[c] + LIPID-IV-A[c] + PROTON[c]\",0.0,1.265817762642113e-06],[\"THI-P-KIN-RXN\",\"ATP[c] + THIAMINE-P[c] --\\u003e ADP[c] + THIAMINE-PYROPHOSPHATE[c]\",0.0,0.0],[\"THI-P-SYN-RXN\",\"AMINO-HYDROXYMETHYL-METHYLPYRIMIDINE-PP[c] + PROTON[c] + THZ-P[c] --\\u003e PPI[c] + THIAMINE-P[c]\",0.0,0.0],[\"THIAZOLSYN3-RXN\",\"ATP[c] + THZ[c] --\\u003e ADP[c] + PROTON[c] + THZ-P[c]\",0.0,0.0],[\"THIOREDOXIN-REDUCT-NADPH-RXN\",\"NADPH[c] + Ox-Thioredoxin[c] + PROTON[c] --\\u003e NADP[c] + Red-Thioredoxin[c]\",0.011273064596092699,0.0],[\"THREODEHYD-RXN\",\"NAD[c] + THR[c] --\\u003e AMINO-OXOBUT[c] + NADH[c] + PROTON[c]\",0.0,0.0],[\"THREONINE-ALDOLASE-RXN\",\"THR[c] --\\u003e ACETALD[c] + GLY[c]\",0.0,0.0455903992875669],[\"THRESYN-RXN\",\"O-PHOSPHO-L-HOMOSERINE[c] + WATER[c] --\\u003e Pi[c] + THR[c]\",0.010505158994342931,0.08003431326326889],[\"THYKI-RXN\",\"ATP[c] + THYMIDINE[c] --\\u003e ADP[c] + PROTON[c] + TMP[c]\",0.0,0.0],[\"THYM-PHOSPH-RXN\",\"Pi[c] + THYMIDINE[c] \\u003c=\\u003e DEOXY-D-RIBOSE-1-PHOSPHATE[c] + THYMINE[c]\",0.0,0.0],[\"TRANS-RXN-1\",\"FORMATE[c] \\u003c=\\u003e FORMATE[p]\",0.0,0.0],[\"TRANS-RXN-132\",\"PROTON[p] + URACIL[p] --\\u003e PROTON[c] + URACIL[c]\",0.0,0.0],[\"TRANS-RXN-141\",\"MG+2[p] \\u003c=\\u003e MG+2[c]\",0.0003592310771774862,0.0005490484545460168],[\"TRANS-RXN-141A\",\"CO+2[p] \\u003c=\\u003e CO+2[c]\",1.0352480610302196e-06,1.5822722033026412e-06],[\"TRANS-RXN-283\",\"ATP[c] + BETAINE[p] + WATER[c] --\\u003e ADP[c] + BETAINE[c] + PROTON[c] + Pi[c]\",0.0,0.0],[\"TRANS-RXN0-239\",\"NITRATE[p] + NITRITE[c] --\\u003e NITRATE[c] + NITRITE[p]\",0.0,0.0],[\"TRANS-RXN0-277\",\"NADH[c] + NADP[c] + PROTON[p] --\\u003e NADPH[c] + NAD[c] + PROTON[c]\",0.0,0.0],[\"TRANS-RXN0-544\",\"AMMONIA[p] --\\u003e AMMONIA[c]\",0.0,0.0],[\"TRANS-RXN1G48-13-CPD-397\\u002f\\u002fCPD-397.17.\",\"CPD-397[p] --\\u003e CPD-397[c]\",0.0,0.0],[\"TRANS-RXN1G48-13-GLY\\u002f\\u002fGLY.9.\",\"GLY[p] --\\u003e GLY[c]\",0.0,0.0],[\"TRANS-RXN1G48-13-L-CYSTATHIONINE\\u002f\\u002fL-CYSTATHIONINE.33.\",\"L-CYSTATHIONINE[p] --\\u003e L-CYSTATHIONINE[c]\",0.0,0.0],[\"TRANS-RXN1G48-13-L-SELENOCYSTEINE\\u002f\\u002fL-SELENOCYSTEINE.35.\",\"L-SELENOCYSTEINE[p] --\\u003e L-SELENOCYSTEINE[c]\",0.0,0.0],[\"TRANS-RXN1G48-17-FE+2\\u002fPROTON\\u002f\\u002fFE+2\\u002fPROTON.25.\",\"FE+2[p] + PROTON[p] --\\u003e FE+2[c] + PROTON[c]\",0.0,0.0],[\"TRANS-RXN1G48-17-K+\\u002fPROTON\\u002f\\u002fK+\\u002fPROTON.21.\",\"K+[p] + PROTON[p] --\\u003e K+[c] + PROTON[c]\",0.0,0.012353938327170098],[\"TRANS-RXN1G48-17-MN+2\\u002fPROTON\\u002f\\u002fMN+2\\u002fPROTON.25.\",\"MN+2[p] + PROTON[p] --\\u003e MN+2[c] + PROTON[c]\",0.0,0.0],[\"TRANS-RXN1G48-17-ZN+2\\u002fPROTON\\u002f\\u002fZN+2\\u002fPROTON.25.\",\"PROTON[p] + ZN+2[p] --\\u003e PROTON[c] + ZN+2[c]\",1.4120783552452194e-05,0.0],[\"TRANS-RXN1G48-19-NITRITE\\u002f\\u002fNITRITE.17.\",\"NITRITE[p] --\\u003e NITRITE[c]\",0.0,0.0],[\"TRANS-RXN1G48-19-S2O3\\u002f\\u002fS2O3.11.\",\"S2O3[p] --\\u003e S2O3[c]\",0.0,0.0],[\"TRANS-RXN1G48-5-NA+\\u002fACET\\u002f\\u002fNA+\\u002fACET.19.\",\"ACET[p] + NA+[p] --\\u003e ACET[c] + NA+[c]\",0.0,0.0],[\"TRANS-RXN1G48-5-PROTON\\u002fACET\\u002f\\u002fPROTON\\u002fACET.25.\",\"ACET[p] + PROTON[p] --\\u003e ACET[c] + PROTON[c]\",0.0,0.0],[\"TRANS-RXN1G48-6-Pi\\u002fPROTON\\u002f\\u002fPi\\u002fPROTON.21.\",\"PROTON[p] + Pi[p] --\\u003e PROTON[c] + Pi[c]\",0.0,0.0581238200249719],[\"TRANS-RXN1G48-6-SULFATE\\u002fPROTON\\u002f\\u002fSULFATE\\u002fPROTON.31.\",\"PROTON[p] + SULFATE[p] --\\u003e PROTON[c] + SULFATE[c]\",0.0,0.005847381863637116],[\"TRANS-RXN1G48-9-ASN\\u002fPROTON\\u002f\\u002fASN\\u002fPROTON.23.\",\"ASN[p] + PROTON[p] --\\u003e ASN[c] + PROTON[c]\",0.0,0.0],[\"TRANS-RXN1G48-9-B-ALANINE\\u002fPROTON\\u002f\\u002fB-ALANINE\\u002fPROTON.35.\",\"B-ALANINE[p] + PROTON[p] --\\u003e B-ALANINE[c] + PROTON[c]\",0.0,0.0],[\"TRANS-RXN1G48-9-D-ALANINE\\u002fPROTON\\u002f\\u002fD-ALANINE\\u002fPROTON.35.\",\"D-ALANINE[p] + PROTON[p] --\\u003e D-ALANINE[c] + PROTON[c]\",0.0,0.0],[\"TRANS-RXN1G48-9-GLY\\u002fPROTON\\u002f\\u002fGLY\\u002fPROTON.23.\",\"GLY[p] + PROTON[p] --\\u003e GLY[c] + PROTON[c]\",0.0,0.0],[\"TRANS-RXN1G48-9-L-ALPHA-ALANINE\\u002fPROTON\\u002f\\u002fL-ALPHA-ALANINE\\u002fPROTON.47.\",\"L-ALPHA-ALANINE[p] + PROTON[p] --\\u003e L-ALPHA-ALANINE[c] + PROTON[c]\",0.0,0.0],[\"TRANS-RXN1G48-9-LYS\\u002fPROTON\\u002f\\u002fLYS\\u002fPROTON.23.\",\"LYS[p] + PROTON[p] --\\u003e LYS[c] + PROTON[c]\",0.0,0.0],[\"TRANS-RXN1G48-9-PHE\\u002fPROTON\\u002f\\u002fPHE\\u002fPROTON.23.\",\"PHE[p] + PROTON[p] --\\u003e PHE[c] + PROTON[c]\",0.0,0.0],[\"TRANS-RXN1G48-9-PRO\\u002fPROTON\\u002f\\u002fPRO\\u002fPROTON.23.\",\"PROTON[p] + PRO[p] --\\u003e PROTON[c] + PRO[c]\",0.0,0.0],[\"TRANS-RXN1G48-9-SER\\u002fPROTON\\u002f\\u002fSER\\u002fPROTON.23.\",\"PROTON[p] + SER[p] --\\u003e PROTON[c] + SER[c]\",0.0,0.0],[\"TRANS-RXN1G48-9-THR\\u002fPROTON\\u002f\\u002fTHR\\u002fPROTON.23.\",\"PROTON[p] + THR[p] --\\u003e PROTON[c] + THR[c]\",0.0,0.0],[\"TRANS-RXN1G48-9-TRP\\u002fPROTON\\u002f\\u002fTRP\\u002fPROTON.23.\",\"PROTON[p] + TRP[p] --\\u003e PROTON[c] + TRP[c]\",0.0,0.0],[\"TRANS-RXN1G48-9-TYR\\u002fPROTON\\u002f\\u002fTYR\\u002fPROTON.23.\",\"PROTON[p] + TYR[p] --\\u003e PROTON[c] + TYR[c]\",0.0,0.0],[\"TRANSALDOL-RXN\",\"D-SEDOHEPTULOSE-7-P[c] + GAP[c] --\\u003e ERYTHROSE-4P[c] + FRUCTOSE-6P[c]\",0.015782108230871037,-0.011449363857019433],[\"TRIOSEPISOMERIZATION-RXN\",\"GAP[c] \\u003c=\\u003e DIHYDROXY-ACETONE-PHOSPHATE[c]\",-0.36600689257206614,-0.37089851262679796],[\"TSA-REDUCT-RXN-GLYCERATE\\u002fNAD\\u002f\\u002fTARTRONATE-S-ALD\\u002fNADH\\u002fPROTON.44.\",\"GLYCERATE[c] + NAD[c] \\u003c=\\u003e NADH[c] + PROTON[c] + TARTRONATE-S-ALD[c]\",0.0,0.0],[\"TSA-REDUCT-RXN-GLYCERATE\\u002fNADP\\u002f\\u002fTARTRONATE-S-ALD\\u002fNADPH\\u002fPROTON.46.\",\"NADPH[c] + PROTON[c] + TARTRONATE-S-ALD[c] --\\u003e GLYCERATE[c] + NADP[c]\",0.0,0.0],[\"TYROSINE-AMINOTRANSFERASE-RXN\",\"2-KETOGLUTARATE[c] + TYR[c] \\u003c=\\u003e GLT[c] + P-HYDROXY-PHENYLPYRUVATE[c]\",-0.005710262664952926,-0.00872756030986484],[\"UDP-NACMUR-ALA-LIG-RXN\",\"ATP[c] + L-ALPHA-ALANINE[c] + UDP-N-ACETYLMURAMATE[c] --\\u003e ADP[c] + CPD0-1456[c] + PROTON[c] + Pi[c]\",0.0011506989247963095,0.0008793635997074782],[\"UDP-NACMURALA-GLU-LIG-RXN\",\"ATP[c] + CPD0-1456[c] + D-GLT[c] --\\u003e ADP[c] + PROTON[c] + Pi[c] + UDP-AA-GLUTAMATE[c]\",0.0011506989247963095,0.0008793635997074782],[\"UDP-NACMURALGLDAPAALIG-RXN\",\"ATP[c] + D-ALA-D-ALA[c] + UDP-AAGM-DIAMINOHEPTANEDIOATE[c] --\\u003e ADP[c] + C1[c] + PROTON[c] + Pi[c]\",0.0011506989247963095,0.0008793635997074782],[\"UDP-NACMURALGLDAPLIG-RXN\",\"ATP[c] + MESO-DIAMINOPIMELATE[c] + UDP-AA-GLUTAMATE[c] --\\u003e ADP[c] + PROTON[c] + Pi[c] + UDP-AAGM-DIAMINOHEPTANEDIOATE[c]\",0.0011506989247963095,0.0008793635997074782],[\"UDPACYLGLCNACDEACETYL-RXN\",\"UDP-OHMYR-ACETYLGLUCOSAMINE[c] + WATER[c] --\\u003e ACET[c] + UDP-OHMYR-GLUCOSAMINE[c]\",0.0,2.531635525284226e-06],[\"UDPHYDROXYMYRGLUCOSAMNACETYLTRANS-RXN\",\"R-3-hydroxymyristoyl-ACPs[c] + UDP-OHMYR-GLUCOSAMINE[c] --\\u003e ACP[c] + OH-MYRISTOYL[c] + PROTON[c]\",0.0,2.531635525284226e-06],[\"UDPKIN-RXN\",\"ATP[c] + UDP[c] --\\u003e ADP[c] + UTP[c]\",0.014916061112935605,0.020788145370542632],[\"UDPNACETYLGLUCOSAMACYLTRANS-RXN\",\"R-3-hydroxymyristoyl-ACPs[c] + UDP-N-ACETYL-D-GLUCOSAMINE[c] --\\u003e ACP[c] + UDP-OHMYR-ACETYLGLUCOSAMINE[c]\",0.0,2.531635525284226e-06],[\"UDPNACETYLGLUCOSAMENOLPYRTRANS-RXN\",\"PHOSPHO-ENOL-PYRUVATE[c] + UDP-N-ACETYL-D-GLUCOSAMINE[c] --\\u003e Pi[c] + UDP-ACETYL-CARBOXYVINYL-GLUCOSAMINE[c]\",0.0011506989247963095,0.0008793635997074782],[\"UDPNACETYLMURAMATEDEHYDROG-RXN\",\"NADPH[c] + PROTON[c] + UDP-ACETYL-CARBOXYVINYL-GLUCOSAMINE[c] --\\u003e NADP[c] + UDP-N-ACETYLMURAMATE[c]\",0.0011506989247963095,0.0008793635997074782],[\"UDPREDUCT-RXN\",\"Red-Thioredoxin[c] + UDP[c] --\\u003e DUDP[c] + Ox-Thioredoxin[c] + WATER[c]\",0.0,0.0],[\"UGD-RXN\",\"CPD-12575[c] + 2.0 NAD[c] + WATER[c] --\\u003e 2.0 NADH[c] + 3.0 PROTON[c] + UDP-GLUCURONATE[c]\",0.0,0.0],[\"UNDECAPRENYL-DIPHOSPHATASE-RXN\",\"UNDECAPRENYL-DIPHOSPHATE[c] + WATER[c] --\\u003e CPD-9646[c] + PROTON[c] + Pi[c]\",0.0011506989247963095,0.0008793635997074782],[\"URA-PHOSPH-RXN\",\"DEOXYURIDINE[c] + Pi[c] --\\u003e DEOXY-D-RIBOSE-1-PHOSPHATE[c] + URACIL[c]\",0.0,0.0],[\"URACIL-PRIBOSYLTRANS-RXN\",\"PRPP[c] + URACIL[c] --\\u003e PPI[c] + UMP[c]\",0.0,0.0],[\"UROGENIIISYN-RXN\",\"HYDROXYMETHYLBILANE[c] --\\u003e UROPORPHYRINOGEN-III[c] + WATER[c]\",0.0,2.8227736106919118e-05],[\"UROPORIIIMETHYLTRANSA-RXN\",\"S-ADENOSYLMETHIONINE[c] + UROPORPHYRINOGEN-III[c] --\\u003e ADENOSYL-HOMO-CYS[c] + CPD-9038[c] + PROTON[c]\",0.0,1.4113868053459559e-05],[\"URUR-RXN\",\"CPD0-2298[c] + WATER[c] --\\u003e AMMONIUM[c] + CPD-1091[c]\",0.0,0.0],[\"XANPRIBOSYLTRAN-RXN\",\"PRPP[c] + XANTHINE[c] --\\u003e PPI[c] + XANTHOSINE-5-PHOSPHATE[c]\",0.0,0.0],[\"XANTHOSINEPHOSPHORY-RXN\",\"Pi[c] + XANTHOSINE[c] --\\u003e RIBOSE-1P[c] + XANTHINE[c]\",0.0,0.0],[\"XMPXAN-RXN\",\"WATER[c] + XANTHOSINE-5-PHOSPHATE[c] --\\u003e Pi[c] + XANTHOSINE[c]\",0.0,0.0],[\"RXN0-1133\",\"CO-A[c] + Pyruvate-dehydrogenase-acetylDHlipoyl[c] --\\u003e ACETYL-COA[c] + Pyruvate-dehydrogenase-dihydrolipoate[c]\",0.0,0.0],[\"RXN0-1132\",\"NAD[c] + Pyruvate-dehydrogenase-dihydrolipoate[c] --\\u003e NADH[c] + PROTON[c] + Pyruvate-dehydrogenase-lipoate[c]\",0.0,0.0]],\"hovertemplate\":\"\\u003cb\\u003e%{customdata[0]}\\u003c\\u002fb\\u003e\\u003cbr\\u003erpom flux: %{customdata[2]}\\u003cbr\\u003eecoli flux: %{customdata[3]}\\u003cbr\\u003erxn: %{customdata[1]}\",\"legendgroup\":\"\",\"marker\":{\"color\":\"#636efa\",\"opacity\":0.5,\"symbol\":\"circle\"},\"mode\":\"markers\",\"name\":\"\",\"orientation\":\"h\",\"showlegend\":false,\"x\":[0.005757138697156375,0.010189532565496031,2.385211532612941e-05,0.018656453767360234,1e-18,0.00230139784959262,0.011514277394312749,0.01577287381816665,0.007671809281070546,9.892830471204955e-05,1e-18,9.892830471204955e-05,0.5178456150100924,1e-18,0.01577287381816665,1e-18,1e-18,0.018656453767360234,1e-18,0.010189532565496031,0.5178456150100924,0.011514277394312749,0.011514277394312749,0.011514277394312749,1e-18,0.3718583630725432,0.07020261420388149,1e-18,1e-18,9.234412704390558e-06,2.385211532612941e-05,0.010189532565496031,0.03620341148275315,0.03620341148275315,0.012030783356921947,0.012030783356921947,0.03467124435242844,1e-18,0.03467124435242844,1e-18,1e-18,0.003816172812492029,2.7703238113159112e-05,1e-18,1e-18,1e-18,1e-18,1e-18,1e-18,0.03203889840268653,1e-18,0.012383016157205584,0.010189532565496031,0.0010835320305966698,1e-18,0.018531975540500664,0.018531975540500664,1e-18,1e-18,1e-18,1e-18,1e-18,1e-18,1e-18,0.022422520573698406,1e-18,1e-18,1e-18,1e-18,0.012383016157205584,0.01224872377873003,0.01224872377873003,0.18798903900557695,0.044270271423912835,0.044270271423912835,0.013698195293939657,1e-18,1e-18,2.355324688654161,1e-18,0.012030783356921947,1e-18,4.61720635219578e-06,0.004761147242600415,1e-18,0.01577287381816665,0.013382071946023472,9.234412704390558e-06,0.9405683699928626,0.9405683699928626,1e-18,1e-18,1e-18,1e-18,1e-18,1e-18,1e-18,0.01577287381816665,0.0011506989247963106,0.0011187718745941386,1e-18,1e-18,1e-18,1e-18,1e-18,1e-18,1e-18,1e-18,2.385211532612941e-05,1e-18,1e-18,1e-18,1e-18,0.014210270394847648,0.015360969319643957,0.015360969319643957,2.7703238113159112e-05,2.7703238113159112e-05,1e-18,0.03620341148275315,0.012030783356921947,3.693765081755924e-05,1e-18,1e-18,0.0010835320305966698,1e-18,0.0010835320305966698,0.00010816271741643911,1e-18,0.006229211812986155,1e-18,1e-18,1e-18,1e-18,9.234412704390558e-06,9.234412704390558e-06,0.3718583630725432,1e-18,9.234412704390558e-06,0.0002780676291927179,0.018531975540500664,1.151195843865711e-05,1e-18,1e-18,0.0612152530967777,0.022422520573698406,1e-18,0.7401109571485186,0.15750096881898087,0.15750096881898087,1e-18,1e-18,0.07020261420388149,1e-18,1e-18,1e-18,1e-18,1e-18,1e-18,1e-18,0.0033210757797849447,1e-18,1e-18,0.1202531428930746,0.009153870405241408,0.002876747311990775,1e-18,1e-18,1e-18,1e-18,1e-18,1e-18,0.018531975540500664,1.151195843865711e-05,1e-18,2.7703238113159112e-05,1e-18,1e-18,0.010072052615530321,2.7703238113159112e-05,2.7703238113159112e-05,2.0226853407198533,2.0226853407198533,2.7703238113159112e-05,2.7703238113159112e-05,1e-18,0.003923093232235239,0.003923093232235239,0.003923093232235239,1e-18,1e-18,0.028909302104268876,0.010505158994342933,1e-18,1e-18,0.002353864221325631,0.003923093232235239,0.010072052615530321,1e-18,1e-18,1.151195843865711e-05,1e-18,1e-18,9.892830471204955e-05,1e-18,1e-18,1e-18,1e-18,1e-18,1e-18,1e-18,1e-18,1e-18,1e-18,1e-18,1e-18,0.0603250225841342,1e-18,1e-18,1e-18,1e-18,1e-18,0.006229211812986155,3.693765081755924e-05,1e-18,1e-18,1e-18,1e-18,1e-18,1e-18,0.06118754985866454,0.06118754985866454,1e-18,2.8614256406876265e-05,1e-18,1e-18,0.0011506989247963106,1.8510235331171576e-05,1e-18,9.433180332067792e-05,0.00230139784959262,1e-18,1e-18,1e-18,0.8691801897094854,1e-18,1e-18,1e-18,1e-18,1e-18,1e-18,1e-18,0.022422520573698406,0.013698195293939657,2.385211532612941e-05,2.385211532612941e-05,2.385211532612941e-05,2.385211532612941e-05,9.234412704390558e-06,1e-18,1e-18,1e-18,0.22226534213842616,1e-18,1e-18,1e-18,0.7401109571485186,0.0011506989247963106,0.002642532790663298,1e-18,1e-18,1e-18,1e-18,1e-18,1e-18,0.002353864221325631,0.007671809281070546,0.005710262664952927,0.003923093232235239,0.0033210757797849447,0.319520949232648,0.06118754985866454,0.018531975540500664,0.038601460091321864,1e-18,1e-18,1e-18,0.002353864221325631,1e-18,1e-18,1e-18,1e-18,1e-18,9.433180332067792e-05,1e-18,1.8468825408780116e-05,9.234412704390558e-06,1.8468825408780116e-05,1.8468825408780116e-05,1e-18,1.8468825408780116e-05,1e-18,0.015782108230871037,1e-18,1e-18,1e-18,1e-18,1e-18,1e-18,1e-18,1e-18,1e-18,1e-18,1e-18,1e-18,1e-18,1e-18,1e-18,1e-18,1e-18,0.06118754985866454,1e-18,0.005879919117194553,0.014848894218735966,1e-18,1e-18,1e-18,1e-18,1e-18,1e-18,1e-18,1e-18,1e-18,1e-18,1e-18,1e-18,1e-18,9.234412704390558e-06,1e-18,1e-18,1e-18,0.01224872377873003,1e-18,1e-18,1e-18,0.002642532790663298,1e-18,1e-18,0.015360969319643957,1e-18,1e-18,1e-18,1e-18,1e-18,1e-18,1e-18,1e-18,1e-18,1e-18,1e-18,1e-18,1e-18,1e-18,1e-18,1e-18,1e-18,1e-18,1e-18,1e-18,1e-18,1e-18,1e-18,1e-18,1e-18,1e-18,1e-18,1e-18,1e-18,1e-18,1e-18,1e-18,1e-18,1e-18,1e-18,1e-18,1e-18,1e-18,1e-18,1e-18,1e-18,1e-18,1e-18,1e-18,1e-18,1e-18,1e-18,1e-18,1e-18,1e-18,1e-18,1e-18,1e-18,1e-18,1e-18,1e-18,1e-18,1e-18,1e-18,1e-18,1e-18,1e-18,1e-18,1e-18,1e-18,1e-18,1e-18,1e-18,1e-18,1e-18,1e-18,0.15750096881898087,1e-18,1e-18,1e-18,1e-18,0.06679838729983631,1e-18,1e-18,0.018656453767360234,9.234412704390558e-06,2.2775457342675526e-06,0.011514277394312749,1e-18,0.011514277394312749,0.011514277394312749,1e-18,0.011514277394312749,1e-18,0.011514277394312749,1e-18,0.011514277394312749,0.011514277394312749,1e-18,0.011514277394312749,0.011514277394312749,1e-18,0.011514277394312749,1e-18,1e-18,1e-18,0.4454375083369833,1e-18,0.011514277394312749,0.011514277394312749,1e-18,1e-18,1e-18,1e-18,0.011514277394312749,0.011514277394312749,9.433180332067792e-05,0.06679838729983631,0.07020261420388149,1e-18,1e-18,1e-18,1e-18,1e-18,1e-18,1e-18,0.002353864221325631,0.002353864221325631,0.319520949232648,9.892830471204955e-05,1e-18,1e-18,1e-18,1e-18,1e-18,1e-18,1e-18,1e-18,1e-18,1e-18,0.22226534213842616,1e-18,1e-18,0.16773441069152345,1e-18,1e-18,1e-18,1e-18,1e-18,1e-18,1e-18,1e-18,1e-18,1e-18,1e-18,0.011514277394312749,1e-18,1e-18,0.0010835320305966698,1e-18,1e-18,1e-18,1e-18,1e-18,1e-18,9.234412704390217e-06,1e-18,0.018531975540500664,0.003816172812492029,0.01577287381816665,0.01577287381816665,0.3653475297716686,0.015360969319643957,0.022422520573698406,0.015360969319643957,1e-18,0.010189532565496031,0.010189532565496031,0.015360969319643957,1e-18,1e-18,1e-18,1e-18,0.0112730645960927,1e-18,1e-18,0.010505158994342933,1e-18,1e-18,1e-18,1e-18,0.00035923107717748717,1.0352480610312195e-06,1e-18,1e-18,1e-18,1e-18,1e-18,1e-18,1e-18,1e-18,1e-18,1e-18,1e-18,1.4120783552453193e-05,1e-18,1e-18,1e-18,1e-18,1e-18,1e-18,1e-18,1e-18,1e-18,1e-18,1e-18,1e-18,1e-18,1e-18,1e-18,1e-18,1e-18,1e-18,0.015782108230871037,0.36600689257206614,1e-18,1e-18,0.005710262664952927,0.0011506989247963106,0.0011506989247963106,0.0011506989247963106,0.0011506989247963106,1e-18,1e-18,0.014916061112935607,1e-18,0.0011506989247963106,0.0011506989247963106,1e-18,1e-18,0.0011506989247963106,1e-18,1e-18,1e-18,1e-18,1e-18,1e-18,1e-18,1e-18,1e-18,1e-18],\"xaxis\":\"x\",\"y\":[0.00880173723075567,1e-18,3.645555156410221e-05,0.028514507121045692,1e-18,0.0017612588349402416,0.017606955460358596,0.024093132257913055,0.011725586389794556,0.009824201528529837,0.3798136671290863,0.009824201528529837,0.6558836002947854,0.03555660998298597,0.024093132257913055,1e-18,0.028514507121045692,0.028514507121045692,1e-18,0.005847381863637117,0.6558836002947854,1e-18,0.017606955460358596,1e-18,1e-18,1e-18,1e-18,1e-18,1e-18,1e-18,0.19075113137512759,1e-18,0.05533326147636789,0.05533326147636789,0.01838783843813252,0.01838783843813252,0.018720938382371793,0.018720938382371793,0.018720938382371793,0.06712815138866696,0.06712815138866696,0.005847381863637117,4.234160416038162e-05,1e-18,1e-18,3.0759371632204355e-05,3.0759371632204355e-05,3.0759371632204355e-05,1e-18,0.12287824665424782,1e-18,0.018955620995552133,0.005847381863637117,1e-18,1e-18,0.02794476254606697,0.02794476254606697,1e-18,0.0017587271994149575,1e-18,1e-18,1e-18,1e-18,1e-18,1e-18,1e-18,1e-18,1e-18,1e-18,0.018955620995552133,0.018720938382371793,0.018720938382371793,0.06557898031983066,0.102648021011094,0.102648021011094,0.020682955914467067,1e-18,1e-18,7.431867610724271,0.12324552367810357,0.01838783843813252,1e-18,7.0569340267324875e-06,0.018663660128612248,1e-18,0.024093132257913055,0.02045314669965939,1e-18,1e-18,0.11650494915573856,2.531635525285226e-06,1e-18,1e-18,1e-18,1e-18,1e-18,1e-18,0.024093132257913055,0.0008793635997074792,1e-18,1e-18,1e-18,1e-18,1e-18,1e-18,1e-18,1e-18,1e-18,3.645555156410221e-05,1e-18,1e-18,1e-18,1e-18,0.021719597371182828,0.022598960970890303,0.022598960970890303,4.234160416038162e-05,4.234160416038162e-05,1e-18,0.05533326147636789,0.01838783843813252,5.645547221383924e-05,1e-18,0.0016560693788646773,1e-18,3.168404344971009e-18,1e-18,0.009838315396583298,1e-18,1e-18,1e-18,1e-18,1e-18,1e-18,1.4113868053460559e-05,1.4113868053460559e-05,1e-18,1e-18,1.4113868053460559e-05,0.0009258191115964461,0.02794476254606697,0.0008969584666082045,1e-18,1e-18,1e-18,1e-18,1e-18,0.7089142654215266,1e-18,1e-18,0.033971574077558596,1e-18,1e-18,1e-18,1e-18,1e-18,1e-18,0.016881452009700277,0.0743064140479191,1e-18,1e-18,1e-18,1e-18,0.45088669210685617,0.013990767276042615,0.0008793635997074792,0.00022582188885535395,1e-18,1e-18,1e-18,1e-18,1e-18,0.02794476254606697,0.0008969584666082045,0.00022582188885535395,4.234160416038162e-05,1e-18,1e-18,0.015015953082006466,4.234160416038162e-05,4.234160416038162e-05,1e-18,1e-18,4.234160416038162e-05,4.234160416038162e-05,0.005996052159859426,0.005996052159859426,0.005996052159859426,0.005996052159859426,0.005996052159859426,0.0800490600402037,1e-18,0.08003431326326889,1.4746776934819073e-05,1e-18,0.003597643954093282,0.005996052159859426,0.015015953082006466,1e-18,0.18854564434483748,1e-18,1e-18,1e-18,0.008927243061921634,2.531635525285226e-06,2.531635525285226e-06,1.265817762643113e-06,1.265817762643113e-06,1e-18,1e-18,1e-18,1e-18,1e-18,1e-18,1e-18,1e-18,0.0017612588349402416,1e-18,1e-18,1e-18,1.265817762643113e-06,1.265817762643113e-06,1e-18,5.645547221383924e-05,1e-18,0.12324552367810357,1e-18,1e-18,1e-18,1e-18,1e-18,1e-18,1e-18,4.373400369928612e-05,1e-18,0.018720938382371793,0.0008793635997074792,2.8291026994992166e-05,1e-18,0.00014417664316487933,0.0017612588349402416,1e-18,1e-18,1e-18,0.005543807118710439,1e-18,1e-18,1e-18,1e-18,1e-18,1e-18,1e-18,1e-18,0.020682955914467067,3.645555156410221e-05,3.645555156410221e-05,3.645555156410221e-05,3.645555156410221e-05,1.4113868053460559e-05,1e-18,1e-18,1e-18,0.05303066512674111,1e-18,1e-18,0.024570851881534194,0.7089142654215266,0.0008793635997074792,0.008799205595230387,0.00011291094442767748,1e-18,1e-18,1e-18,3.075937163220442e-05,1e-18,0.003597643954093282,0.011725586389794556,0.008727560309864841,0.005996052159859426,1e-18,1e-18,1e-18,0.02794476254606697,0.05836559121765349,1e-18,1e-18,1e-18,0.003597643954093282,1e-18,1e-18,1e-18,1e-18,0.04747197410082999,0.00014417664316487933,1e-18,2.8227736106920118e-05,1.4113868053460559e-05,2.8227736106920118e-05,2.8227736106920118e-05,1e-18,2.8227736106920118e-05,3.0759371632204355e-05,0.0470059738400053,1e-18,1e-18,9.493633219825848e-07,9.493633219825848e-07,9.493633219825848e-07,9.493633219825848e-07,9.493633219825848e-07,9.493633219825848e-07,9.493633219825848e-07,9.493633219825848e-07,1e-18,1e-18,6.329088813220566e-07,6.329088813220566e-07,6.329088813220566e-07,6.329088813220566e-07,6.329088813220566e-07,1e-18,0.034811760617525805,0.018663660128612248,0.021563585331937193,1e-18,1e-18,1e-18,1e-18,1e-18,1e-18,1e-18,1e-18,1e-18,1e-18,1e-18,1e-18,1e-18,1.4113868053460559e-05,1e-18,1e-18,1e-18,0.018720938382371793,1e-18,1e-18,1e-18,1e-18,1e-18,0.022598960970890303,1e-18,1e-18,1e-18,1e-18,1e-18,1e-18,1e-18,0.03940389429683886,1e-18,1e-18,1e-18,1e-18,1e-18,1e-18,1e-18,1e-18,1e-18,1e-18,1e-18,1e-18,1e-18,1e-18,0.01838783843813252,0.01838783843813248,0.01838783843813252,1e-18,1e-18,1e-18,1e-18,1e-18,1e-18,1e-18,1e-18,1e-18,1e-18,1e-18,2.531635525285226e-06,0.03940389429683886,0.03940389429683886,1e-18,1e-18,1e-18,1e-18,1e-18,1e-18,0.008800471412993028,1e-18,1e-18,1e-18,1e-18,1e-18,1e-18,1e-18,1e-18,1e-18,1e-18,1e-18,1e-18,1e-18,1e-18,1e-18,1e-18,1e-18,1e-18,1e-18,1e-18,1e-18,1e-18,0.028514507121045692,1e-18,1e-18,1e-18,1e-18,1e-18,1e-18,1e-18,1e-18,0.06717049299282733,1.4113868053460559e-05,1.4746776934781614e-05,0.028514507121045692,1.4113868053460559e-05,0.000882844598554745,1e-18,0.017606955460358596,0.017606955460358596,0.017606955460358596,0.017606955460358596,0.017606955460358596,0.017606955460358596,0.017606955460358596,0.017606006097036615,0.017606006097036615,0.017606006097036615,0.017606006097036615,0.017606006097036615,0.01760094282598605,0.01760094282598605,1e-18,1e-18,1e-18,1e-18,1e-18,1e-18,0.017606955460358596,1e-18,0.017606955460358596,0.017606955460358596,0.017606006097036615,0.017606006097036615,0.01760094282598605,0.01760094282598605,0.00014417664316485493,0.06717049299282733,1e-18,1e-18,1e-18,1e-18,9.493633219825848e-07,9.493633219825848e-07,9.493633219825848e-07,1e-18,0.003597643954093282,0.003597643954093282,1e-18,0.009824201528529837,1e-18,1e-18,1e-18,1e-18,1e-18,1e-18,1e-18,1e-18,1e-18,0.12324552367810357,0.05303066512674154,1e-18,1e-18,0.4117894527114963,1e-18,1e-18,1e-18,1e-18,1e-18,1e-18,1e-18,1e-18,1e-18,1e-18,1e-18,0.008800471412993028,1e-18,1e-18,1e-18,0.02794476254606697,0.02794476254606697,0.0008969584666082045,1e-18,1e-18,1e-18,4.550614856698491e-05,1e-18,0.02794476254606697,0.005847381863637117,0.024093132257913055,0.024093132257913055,0.0226137077478252,0.022598960970890303,1e-18,0.022598960970890303,1e-18,0.005847381863637117,0.005847381863637117,0.022598960970890303,1.265817762643113e-06,1e-18,1e-18,1e-18,1e-18,1e-18,0.0455903992875669,0.08003431326326889,1e-18,1e-18,1e-18,1e-18,0.0005490484545460178,1.5822722033036411e-06,1e-18,1e-18,1e-18,1e-18,1e-18,1e-18,1e-18,1e-18,1e-18,0.0123539383271701,1e-18,1e-18,1e-18,1e-18,1e-18,1e-18,0.0581238200249719,0.005847381863637117,1e-18,1e-18,1e-18,1e-18,1e-18,1e-18,1e-18,1e-18,1e-18,1e-18,1e-18,1e-18,0.011449363857019435,0.37089851262679796,1e-18,1e-18,0.008727560309864841,0.0008793635997074792,0.0008793635997074792,0.0008793635997074792,0.0008793635997074792,2.531635525285226e-06,2.531635525285226e-06,0.020788145370542632,2.531635525285226e-06,0.0008793635997074792,0.0008793635997074792,1e-18,1e-18,0.0008793635997074792,1e-18,1e-18,2.8227736106920118e-05,1.4113868053460559e-05,1e-18,1e-18,1e-18,1e-18,1e-18,1e-18],\"yaxis\":\"y\",\"type\":\"scatter\"}],                        {\"template\":{\"data\":{\"histogram2dcontour\":[{\"type\":\"histogram2dcontour\",\"colorbar\":{\"outlinewidth\":0,\"ticks\":\"\"},\"colorscale\":[[0.0,\"#0d0887\"],[0.1111111111111111,\"#46039f\"],[0.2222222222222222,\"#7201a8\"],[0.3333333333333333,\"#9c179e\"],[0.4444444444444444,\"#bd3786\"],[0.5555555555555556,\"#d8576b\"],[0.6666666666666666,\"#ed7953\"],[0.7777777777777778,\"#fb9f3a\"],[0.8888888888888888,\"#fdca26\"],[1.0,\"#f0f921\"]]}],\"choropleth\":[{\"type\":\"choropleth\",\"colorbar\":{\"outlinewidth\":0,\"ticks\":\"\"}}],\"histogram2d\":[{\"type\":\"histogram2d\",\"colorbar\":{\"outlinewidth\":0,\"ticks\":\"\"},\"colorscale\":[[0.0,\"#0d0887\"],[0.1111111111111111,\"#46039f\"],[0.2222222222222222,\"#7201a8\"],[0.3333333333333333,\"#9c179e\"],[0.4444444444444444,\"#bd3786\"],[0.5555555555555556,\"#d8576b\"],[0.6666666666666666,\"#ed7953\"],[0.7777777777777778,\"#fb9f3a\"],[0.8888888888888888,\"#fdca26\"],[1.0,\"#f0f921\"]]}],\"heatmap\":[{\"type\":\"heatmap\",\"colorbar\":{\"outlinewidth\":0,\"ticks\":\"\"},\"colorscale\":[[0.0,\"#0d0887\"],[0.1111111111111111,\"#46039f\"],[0.2222222222222222,\"#7201a8\"],[0.3333333333333333,\"#9c179e\"],[0.4444444444444444,\"#bd3786\"],[0.5555555555555556,\"#d8576b\"],[0.6666666666666666,\"#ed7953\"],[0.7777777777777778,\"#fb9f3a\"],[0.8888888888888888,\"#fdca26\"],[1.0,\"#f0f921\"]]}],\"heatmapgl\":[{\"type\":\"heatmapgl\",\"colorbar\":{\"outlinewidth\":0,\"ticks\":\"\"},\"colorscale\":[[0.0,\"#0d0887\"],[0.1111111111111111,\"#46039f\"],[0.2222222222222222,\"#7201a8\"],[0.3333333333333333,\"#9c179e\"],[0.4444444444444444,\"#bd3786\"],[0.5555555555555556,\"#d8576b\"],[0.6666666666666666,\"#ed7953\"],[0.7777777777777778,\"#fb9f3a\"],[0.8888888888888888,\"#fdca26\"],[1.0,\"#f0f921\"]]}],\"contourcarpet\":[{\"type\":\"contourcarpet\",\"colorbar\":{\"outlinewidth\":0,\"ticks\":\"\"}}],\"contour\":[{\"type\":\"contour\",\"colorbar\":{\"outlinewidth\":0,\"ticks\":\"\"},\"colorscale\":[[0.0,\"#0d0887\"],[0.1111111111111111,\"#46039f\"],[0.2222222222222222,\"#7201a8\"],[0.3333333333333333,\"#9c179e\"],[0.4444444444444444,\"#bd3786\"],[0.5555555555555556,\"#d8576b\"],[0.6666666666666666,\"#ed7953\"],[0.7777777777777778,\"#fb9f3a\"],[0.8888888888888888,\"#fdca26\"],[1.0,\"#f0f921\"]]}],\"surface\":[{\"type\":\"surface\",\"colorbar\":{\"outlinewidth\":0,\"ticks\":\"\"},\"colorscale\":[[0.0,\"#0d0887\"],[0.1111111111111111,\"#46039f\"],[0.2222222222222222,\"#7201a8\"],[0.3333333333333333,\"#9c179e\"],[0.4444444444444444,\"#bd3786\"],[0.5555555555555556,\"#d8576b\"],[0.6666666666666666,\"#ed7953\"],[0.7777777777777778,\"#fb9f3a\"],[0.8888888888888888,\"#fdca26\"],[1.0,\"#f0f921\"]]}],\"mesh3d\":[{\"type\":\"mesh3d\",\"colorbar\":{\"outlinewidth\":0,\"ticks\":\"\"}}],\"scatter\":[{\"fillpattern\":{\"fillmode\":\"overlay\",\"size\":10,\"solidity\":0.2},\"type\":\"scatter\"}],\"parcoords\":[{\"type\":\"parcoords\",\"line\":{\"colorbar\":{\"outlinewidth\":0,\"ticks\":\"\"}}}],\"scatterpolargl\":[{\"type\":\"scatterpolargl\",\"marker\":{\"colorbar\":{\"outlinewidth\":0,\"ticks\":\"\"}}}],\"bar\":[{\"error_x\":{\"color\":\"#2a3f5f\"},\"error_y\":{\"color\":\"#2a3f5f\"},\"marker\":{\"line\":{\"color\":\"#E5ECF6\",\"width\":0.5},\"pattern\":{\"fillmode\":\"overlay\",\"size\":10,\"solidity\":0.2}},\"type\":\"bar\"}],\"scattergeo\":[{\"type\":\"scattergeo\",\"marker\":{\"colorbar\":{\"outlinewidth\":0,\"ticks\":\"\"}}}],\"scatterpolar\":[{\"type\":\"scatterpolar\",\"marker\":{\"colorbar\":{\"outlinewidth\":0,\"ticks\":\"\"}}}],\"histogram\":[{\"marker\":{\"pattern\":{\"fillmode\":\"overlay\",\"size\":10,\"solidity\":0.2}},\"type\":\"histogram\"}],\"scattergl\":[{\"type\":\"scattergl\",\"marker\":{\"colorbar\":{\"outlinewidth\":0,\"ticks\":\"\"}}}],\"scatter3d\":[{\"type\":\"scatter3d\",\"line\":{\"colorbar\":{\"outlinewidth\":0,\"ticks\":\"\"}},\"marker\":{\"colorbar\":{\"outlinewidth\":0,\"ticks\":\"\"}}}],\"scattermapbox\":[{\"type\":\"scattermapbox\",\"marker\":{\"colorbar\":{\"outlinewidth\":0,\"ticks\":\"\"}}}],\"scatterternary\":[{\"type\":\"scatterternary\",\"marker\":{\"colorbar\":{\"outlinewidth\":0,\"ticks\":\"\"}}}],\"scattercarpet\":[{\"type\":\"scattercarpet\",\"marker\":{\"colorbar\":{\"outlinewidth\":0,\"ticks\":\"\"}}}],\"carpet\":[{\"aaxis\":{\"endlinecolor\":\"#2a3f5f\",\"gridcolor\":\"white\",\"linecolor\":\"white\",\"minorgridcolor\":\"white\",\"startlinecolor\":\"#2a3f5f\"},\"baxis\":{\"endlinecolor\":\"#2a3f5f\",\"gridcolor\":\"white\",\"linecolor\":\"white\",\"minorgridcolor\":\"white\",\"startlinecolor\":\"#2a3f5f\"},\"type\":\"carpet\"}],\"table\":[{\"cells\":{\"fill\":{\"color\":\"#EBF0F8\"},\"line\":{\"color\":\"white\"}},\"header\":{\"fill\":{\"color\":\"#C8D4E3\"},\"line\":{\"color\":\"white\"}},\"type\":\"table\"}],\"barpolar\":[{\"marker\":{\"line\":{\"color\":\"#E5ECF6\",\"width\":0.5},\"pattern\":{\"fillmode\":\"overlay\",\"size\":10,\"solidity\":0.2}},\"type\":\"barpolar\"}],\"pie\":[{\"automargin\":true,\"type\":\"pie\"}]},\"layout\":{\"autotypenumbers\":\"strict\",\"colorway\":[\"#636efa\",\"#EF553B\",\"#00cc96\",\"#ab63fa\",\"#FFA15A\",\"#19d3f3\",\"#FF6692\",\"#B6E880\",\"#FF97FF\",\"#FECB52\"],\"font\":{\"color\":\"#2a3f5f\"},\"hovermode\":\"closest\",\"hoverlabel\":{\"align\":\"left\"},\"paper_bgcolor\":\"white\",\"plot_bgcolor\":\"#E5ECF6\",\"polar\":{\"bgcolor\":\"#E5ECF6\",\"angularaxis\":{\"gridcolor\":\"white\",\"linecolor\":\"white\",\"ticks\":\"\"},\"radialaxis\":{\"gridcolor\":\"white\",\"linecolor\":\"white\",\"ticks\":\"\"}},\"ternary\":{\"bgcolor\":\"#E5ECF6\",\"aaxis\":{\"gridcolor\":\"white\",\"linecolor\":\"white\",\"ticks\":\"\"},\"baxis\":{\"gridcolor\":\"white\",\"linecolor\":\"white\",\"ticks\":\"\"},\"caxis\":{\"gridcolor\":\"white\",\"linecolor\":\"white\",\"ticks\":\"\"}},\"coloraxis\":{\"colorbar\":{\"outlinewidth\":0,\"ticks\":\"\"}},\"colorscale\":{\"sequential\":[[0.0,\"#0d0887\"],[0.1111111111111111,\"#46039f\"],[0.2222222222222222,\"#7201a8\"],[0.3333333333333333,\"#9c179e\"],[0.4444444444444444,\"#bd3786\"],[0.5555555555555556,\"#d8576b\"],[0.6666666666666666,\"#ed7953\"],[0.7777777777777778,\"#fb9f3a\"],[0.8888888888888888,\"#fdca26\"],[1.0,\"#f0f921\"]],\"sequentialminus\":[[0.0,\"#0d0887\"],[0.1111111111111111,\"#46039f\"],[0.2222222222222222,\"#7201a8\"],[0.3333333333333333,\"#9c179e\"],[0.4444444444444444,\"#bd3786\"],[0.5555555555555556,\"#d8576b\"],[0.6666666666666666,\"#ed7953\"],[0.7777777777777778,\"#fb9f3a\"],[0.8888888888888888,\"#fdca26\"],[1.0,\"#f0f921\"]],\"diverging\":[[0,\"#8e0152\"],[0.1,\"#c51b7d\"],[0.2,\"#de77ae\"],[0.3,\"#f1b6da\"],[0.4,\"#fde0ef\"],[0.5,\"#f7f7f7\"],[0.6,\"#e6f5d0\"],[0.7,\"#b8e186\"],[0.8,\"#7fbc41\"],[0.9,\"#4d9221\"],[1,\"#276419\"]]},\"xaxis\":{\"gridcolor\":\"white\",\"linecolor\":\"white\",\"ticks\":\"\",\"title\":{\"standoff\":15},\"zerolinecolor\":\"white\",\"automargin\":true,\"zerolinewidth\":2},\"yaxis\":{\"gridcolor\":\"white\",\"linecolor\":\"white\",\"ticks\":\"\",\"title\":{\"standoff\":15},\"zerolinecolor\":\"white\",\"automargin\":true,\"zerolinewidth\":2},\"scene\":{\"xaxis\":{\"backgroundcolor\":\"#E5ECF6\",\"gridcolor\":\"white\",\"linecolor\":\"white\",\"showbackground\":true,\"ticks\":\"\",\"zerolinecolor\":\"white\",\"gridwidth\":2},\"yaxis\":{\"backgroundcolor\":\"#E5ECF6\",\"gridcolor\":\"white\",\"linecolor\":\"white\",\"showbackground\":true,\"ticks\":\"\",\"zerolinecolor\":\"white\",\"gridwidth\":2},\"zaxis\":{\"backgroundcolor\":\"#E5ECF6\",\"gridcolor\":\"white\",\"linecolor\":\"white\",\"showbackground\":true,\"ticks\":\"\",\"zerolinecolor\":\"white\",\"gridwidth\":2}},\"shapedefaults\":{\"line\":{\"color\":\"#2a3f5f\"}},\"annotationdefaults\":{\"arrowcolor\":\"#2a3f5f\",\"arrowhead\":0,\"arrowwidth\":1},\"geo\":{\"bgcolor\":\"white\",\"landcolor\":\"#E5ECF6\",\"subunitcolor\":\"white\",\"showland\":true,\"showlakes\":true,\"lakecolor\":\"white\"},\"title\":{\"x\":0.05},\"mapbox\":{\"style\":\"light\"}}},\"xaxis\":{\"anchor\":\"y\",\"domain\":[0.0,1.0],\"title\":{\"text\":\"|Flux (\\u003ci\\u003eR. pom\\u003c\\u002fi\\u003e)|\"},\"type\":\"log\",\"showexponent\":\"all\",\"exponentformat\":\"power\"},\"yaxis\":{\"anchor\":\"x\",\"domain\":[0.0,1.0],\"title\":{\"text\":\"|Flux (\\u003ci\\u003eE. coli\\u003c\\u002fi\\u003e)|\"},\"type\":\"log\",\"showexponent\":\"all\",\"exponentformat\":\"power\"},\"legend\":{\"tracegroupgap\":0},\"margin\":{\"t\":60},\"width\":800,\"height\":600},                        {\"responsive\": true}                    ).then(function(){\n",
       "                            \n",
       "var gd = document.getElementById('91c20122-c1cf-475c-8c72-00c84104ff17');\n",
       "var x = new MutationObserver(function (mutations, observer) {{\n",
       "        var display = window.getComputedStyle(gd).display;\n",
       "        if (!display || display === 'none') {{\n",
       "            console.log([gd, 'removed!']);\n",
       "            Plotly.purge(gd);\n",
       "            observer.disconnect();\n",
       "        }}\n",
       "}});\n",
       "\n",
       "// Listen for the removal of the full notebook cells\n",
       "var notebookContainer = gd.closest('#notebook-container');\n",
       "if (notebookContainer) {{\n",
       "    x.observe(notebookContainer, {childList: true});\n",
       "}}\n",
       "\n",
       "// Listen for the clearing of the current output cell\n",
       "var outputEl = gd.closest('.output');\n",
       "if (outputEl) {{\n",
       "    x.observe(outputEl, {childList: true});\n",
       "}}\n",
       "\n",
       "                        })                };                });            </script>        </div>"
      ]
     },
     "metadata": {},
     "output_type": "display_data"
    }
   ],
   "source": [
    "import plotly.express as px\n",
    "\n",
    "subset_data = reaction_data[reaction_data[\"has_link\"]]\n",
    "\n",
    "# Add small positive value to prevent log(0)\n",
    "subset_data[\"rpom_flux_adj\"] = 1e-18 + subset_data[\"rpom_flux\"].abs()\n",
    "subset_data[\"ecoli_flux_adj\"] = 1e-18 + subset_data[\"ecoli_flux\"].abs()\n",
    "\n",
    "subset_data[\"reaction_str\"] = [model.reactions.get_by_id(rxn).reaction for rxn in subset_data[\"id\"]]\n",
    "fig = px.scatter(subset_data,\n",
    "                 x=\"rpom_flux_adj\",\n",
    "                 y=\"ecoli_flux_adj\",\n",
    "                 custom_data=[\"id\", \"reaction_str\", \"rpom_flux\", \"ecoli_flux\"],\n",
    "                 labels={\n",
    "                    \"rpom_flux_adj\" : \"|Flux (<i>R. pom</i>)|\",\n",
    "                    \"ecoli_flux_adj\" : \"|Flux (<i>E. coli</i>)|\"\n",
    "                 },\n",
    "                 log_x = True,\n",
    "                 log_y = True,\n",
    "                 opacity=0.5)\n",
    "fig.update_traces(\n",
    "    hovertemplate=\"<br>\".join([\n",
    "        \"<b>%{customdata[0]}</b>\",\n",
    "        \"rpom flux: %{customdata[2]}\",\n",
    "        \"ecoli flux: %{customdata[3]}\",\n",
    "        \"rxn: %{customdata[1]}\"\n",
    "    ]))\n",
    "\n",
    "# fig.update_yaxes(range=[abs(subset_data[\"ecoli_flux\"][subset_data[\"ecoli_flux\"] != 0].min()), subset_data[\"ecoli_flux\"].max()])\n",
    "\n",
    "fig.update_layout(\n",
    "    width=800,\n",
    "    height=600,\n",
    "    yaxis = dict(\n",
    "        showexponent = 'all',\n",
    "        exponentformat = 'power'\n",
    "    ),\n",
    "    xaxis = dict(\n",
    "        showexponent = 'all',\n",
    "        exponentformat = 'power'\n",
    "    ),\n",
    ")\n",
    "fig.show()\n",
    "fig.write_html(\"img/scatter_interactive.html\")"
   ]
  },
  {
   "cell_type": "code",
   "execution_count": 53,
   "metadata": {},
   "outputs": [
    {
     "data": {
      "text/html": [
       "<div>\n",
       "<style scoped>\n",
       "    .dataframe tbody tr th:only-of-type {\n",
       "        vertical-align: middle;\n",
       "    }\n",
       "\n",
       "    .dataframe tbody tr th {\n",
       "        vertical-align: top;\n",
       "    }\n",
       "\n",
       "    .dataframe thead th {\n",
       "        text-align: right;\n",
       "    }\n",
       "</style>\n",
       "<table border=\"1\" class=\"dataframe\">\n",
       "  <thead>\n",
       "    <tr style=\"text-align: right;\">\n",
       "      <th></th>\n",
       "      <th>id</th>\n",
       "      <th>source</th>\n",
       "      <th>stoich_fwd</th>\n",
       "      <th>stoich_rev</th>\n",
       "      <th>rpom_flux</th>\n",
       "      <th>link</th>\n",
       "      <th>ecoli_flux</th>\n",
       "      <th>has_link</th>\n",
       "      <th>has_encoding</th>\n",
       "      <th>reaction_str</th>\n",
       "    </tr>\n",
       "  </thead>\n",
       "  <tbody>\n",
       "    <tr>\n",
       "      <th>4</th>\n",
       "      <td>1.1.1.8-RXN</td>\n",
       "      <td>rpom</td>\n",
       "      <td>(1:-1.0, 2:1.0, 3:-1.0, 8:-1.0, 9:1.0)</td>\n",
       "      <td>(1:1.0, 2:-1.0, 3:1.0, 8:1.0, 9:-1.0)</td>\n",
       "      <td>5.757139e-03</td>\n",
       "      <td>GLYC3PDEHYDROGBIOSYN_RXN_GLYCEROL_3P/NAD//DIHY...</td>\n",
       "      <td>0.008802</td>\n",
       "      <td>True</td>\n",
       "      <td>True</td>\n",
       "      <td>DIHYDROXY-ACETONE-PHOSPHATE[c] + NADH[c] + PRO...</td>\n",
       "    </tr>\n",
       "    <tr>\n",
       "      <th>30</th>\n",
       "      <td>1.8.4.8-RXN</td>\n",
       "      <td>rpom</td>\n",
       "      <td>(3:2.0, 38:1.0, 39:1.0, 40:-1.0, 41:-1.0, 42:1.0)</td>\n",
       "      <td>(3:-2.0, 38:-1.0, 39:-1.0, 40:1.0, 41:1.0, 42:...</td>\n",
       "      <td>1.018953e-02</td>\n",
       "      <td>1.8.4.8_RXN</td>\n",
       "      <td>0.0</td>\n",
       "      <td>True</td>\n",
       "      <td>True</td>\n",
       "      <td>PAPS[c] + Red-Thioredoxin[c] --&gt; 3-5-ADP[c] + ...</td>\n",
       "    </tr>\n",
       "    <tr>\n",
       "      <th>35</th>\n",
       "      <td>2-DEHYDROPANTOATE-REDUCT-RXN</td>\n",
       "      <td>rpom</td>\n",
       "      <td>(3:-1.0, 25:-1.0, 26:1.0, 50:-1.0, 51:1.0)</td>\n",
       "      <td>(3:1.0, 25:1.0, 26:-1.0, 50:1.0, 51:-1.0)</td>\n",
       "      <td>2.385212e-05</td>\n",
       "      <td>2_DEHYDROPANTOATE_REDUCT_RXN</td>\n",
       "      <td>0.000036</td>\n",
       "      <td>True</td>\n",
       "      <td>True</td>\n",
       "      <td>2-DEHYDROPANTOATE[c] + NADPH[c] + PROTON[c] --...</td>\n",
       "    </tr>\n",
       "    <tr>\n",
       "      <th>36</th>\n",
       "      <td>2-ISOPROPYLMALATESYN-RXN</td>\n",
       "      <td>rpom</td>\n",
       "      <td>(3:1.0, 16:-1.0, 17:1.0, 20:-1.0, 52:1.0, 53:-...</td>\n",
       "      <td>(3:-1.0, 16:1.0, 17:-1.0, 20:1.0, 52:-1.0, 53:...</td>\n",
       "      <td>1.865645e-02</td>\n",
       "      <td>2_ISOPROPYLMALATESYN_RXN</td>\n",
       "      <td>0.028515</td>\n",
       "      <td>True</td>\n",
       "      <td>True</td>\n",
       "      <td>2-KETO-ISOVALERATE[c] + ACETYL-COA[c] + WATER[...</td>\n",
       "    </tr>\n",
       "    <tr>\n",
       "      <th>38</th>\n",
       "      <td>2-METHYLCITRATE-DEHYDRATASE-RXN</td>\n",
       "      <td>rpom</td>\n",
       "      <td>(20:1.0, 54:1.0, 55:-1.0)</td>\n",
       "      <td>(20:-1.0, 54:-1.0, 55:1.0)</td>\n",
       "      <td>1.000000e-18</td>\n",
       "      <td>2_METHYLCITRATE_DEHYDRATASE_RXN</td>\n",
       "      <td>0.0</td>\n",
       "      <td>True</td>\n",
       "      <td>True</td>\n",
       "      <td>CPD-622[c] --&gt; CPD-1136[c] + WATER[c]</td>\n",
       "    </tr>\n",
       "    <tr>\n",
       "      <th>...</th>\n",
       "      <td>...</td>\n",
       "      <td>...</td>\n",
       "      <td>...</td>\n",
       "      <td>...</td>\n",
       "      <td>...</td>\n",
       "      <td>...</td>\n",
       "      <td>...</td>\n",
       "      <td>...</td>\n",
       "      <td>...</td>\n",
       "      <td>...</td>\n",
       "    </tr>\n",
       "    <tr>\n",
       "      <th>1917</th>\n",
       "      <td>XANPRIBOSYLTRAN-RXN</td>\n",
       "      <td>rpom</td>\n",
       "      <td>(67:1.0, 181:-1.0, 415:1.0, 420:-1.0)</td>\n",
       "      <td>(67:-1.0, 181:1.0, 415:-1.0, 420:1.0)</td>\n",
       "      <td>1.000000e-18</td>\n",
       "      <td>XANPRIBOSYLTRAN_RXN</td>\n",
       "      <td>0.0</td>\n",
       "      <td>True</td>\n",
       "      <td>True</td>\n",
       "      <td>PRPP[c] + XANTHINE[c] --&gt; PPI[c] + XANTHOSINE-...</td>\n",
       "    </tr>\n",
       "    <tr>\n",
       "      <th>1918</th>\n",
       "      <td>XANTHOSINEPHOSPHORY-RXN</td>\n",
       "      <td>rpom</td>\n",
       "      <td>(30:-1.0, 180:1.0, 420:1.0, 697:-1.0)</td>\n",
       "      <td>(30:1.0, 180:-1.0, 420:-1.0, 697:1.0)</td>\n",
       "      <td>1.000000e-18</td>\n",
       "      <td>XANTHOSINEPHOSPHORY_RXN</td>\n",
       "      <td>0.0</td>\n",
       "      <td>True</td>\n",
       "      <td>True</td>\n",
       "      <td>Pi[c] + XANTHOSINE[c] --&gt; RIBOSE-1P[c] + XANTH...</td>\n",
       "    </tr>\n",
       "    <tr>\n",
       "      <th>1919</th>\n",
       "      <td>XMPXAN-RXN</td>\n",
       "      <td>rpom</td>\n",
       "      <td>(20:-1.0, 30:1.0, 415:-1.0, 697:1.0)</td>\n",
       "      <td>(20:1.0, 30:-1.0, 415:1.0, 697:-1.0)</td>\n",
       "      <td>1.000000e-18</td>\n",
       "      <td>5_NUCLEOTID_RXN[CCO_CYTOSOL]_XANTHOSINE_5_PHOS...</td>\n",
       "      <td>0.0</td>\n",
       "      <td>True</td>\n",
       "      <td>True</td>\n",
       "      <td>WATER[c] + XANTHOSINE-5-PHOSPHATE[c] --&gt; Pi[c]...</td>\n",
       "    </tr>\n",
       "    <tr>\n",
       "      <th>1971</th>\n",
       "      <td>RXN0-1133</td>\n",
       "      <td>rpom</td>\n",
       "      <td>(17:-1.0, 53:1.0, 884:-1.0, 885:1.0)</td>\n",
       "      <td>(17:1.0, 53:-1.0, 884:1.0, 885:-1.0)</td>\n",
       "      <td>1.000000e-18</td>\n",
       "      <td>RXN0_1133</td>\n",
       "      <td>0.0</td>\n",
       "      <td>True</td>\n",
       "      <td>True</td>\n",
       "      <td>CO-A[c] + Pyruvate-dehydrogenase-acetylDHlipoy...</td>\n",
       "    </tr>\n",
       "    <tr>\n",
       "      <th>1972</th>\n",
       "      <td>RXN0-1132</td>\n",
       "      <td>rpom</td>\n",
       "      <td>(1:1.0, 2:-1.0, 3:1.0, 883:1.0, 885:-1.0)</td>\n",
       "      <td>(1:-1.0, 2:1.0, 3:-1.0, 883:-1.0, 885:1.0)</td>\n",
       "      <td>1.000000e-18</td>\n",
       "      <td>RXN0_1132</td>\n",
       "      <td>0.0</td>\n",
       "      <td>True</td>\n",
       "      <td>True</td>\n",
       "      <td>NAD[c] + Pyruvate-dehydrogenase-dihydrolipoate...</td>\n",
       "    </tr>\n",
       "  </tbody>\n",
       "</table>\n",
       "<p>595 rows × 10 columns</p>\n",
       "</div>"
      ],
      "text/plain": [
       "                                   id source  \\\n",
       "4                         1.1.1.8-RXN   rpom   \n",
       "30                        1.8.4.8-RXN   rpom   \n",
       "35       2-DEHYDROPANTOATE-REDUCT-RXN   rpom   \n",
       "36           2-ISOPROPYLMALATESYN-RXN   rpom   \n",
       "38    2-METHYLCITRATE-DEHYDRATASE-RXN   rpom   \n",
       "...                               ...    ...   \n",
       "1917              XANPRIBOSYLTRAN-RXN   rpom   \n",
       "1918          XANTHOSINEPHOSPHORY-RXN   rpom   \n",
       "1919                       XMPXAN-RXN   rpom   \n",
       "1971                        RXN0-1133   rpom   \n",
       "1972                        RXN0-1132   rpom   \n",
       "\n",
       "                                             stoich_fwd  \\\n",
       "4                (1:-1.0, 2:1.0, 3:-1.0, 8:-1.0, 9:1.0)   \n",
       "30    (3:2.0, 38:1.0, 39:1.0, 40:-1.0, 41:-1.0, 42:1.0)   \n",
       "35           (3:-1.0, 25:-1.0, 26:1.0, 50:-1.0, 51:1.0)   \n",
       "36    (3:1.0, 16:-1.0, 17:1.0, 20:-1.0, 52:1.0, 53:-...   \n",
       "38                            (20:1.0, 54:1.0, 55:-1.0)   \n",
       "...                                                 ...   \n",
       "1917              (67:1.0, 181:-1.0, 415:1.0, 420:-1.0)   \n",
       "1918              (30:-1.0, 180:1.0, 420:1.0, 697:-1.0)   \n",
       "1919               (20:-1.0, 30:1.0, 415:-1.0, 697:1.0)   \n",
       "1971               (17:-1.0, 53:1.0, 884:-1.0, 885:1.0)   \n",
       "1972          (1:1.0, 2:-1.0, 3:1.0, 883:1.0, 885:-1.0)   \n",
       "\n",
       "                                             stoich_rev     rpom_flux  \\\n",
       "4                 (1:1.0, 2:-1.0, 3:1.0, 8:1.0, 9:-1.0)  5.757139e-03   \n",
       "30    (3:-2.0, 38:-1.0, 39:-1.0, 40:1.0, 41:1.0, 42:...  1.018953e-02   \n",
       "35            (3:1.0, 25:1.0, 26:-1.0, 50:1.0, 51:-1.0)  2.385212e-05   \n",
       "36    (3:-1.0, 16:1.0, 17:-1.0, 20:1.0, 52:-1.0, 53:...  1.865645e-02   \n",
       "38                           (20:-1.0, 54:-1.0, 55:1.0)  1.000000e-18   \n",
       "...                                                 ...           ...   \n",
       "1917              (67:-1.0, 181:1.0, 415:-1.0, 420:1.0)  1.000000e-18   \n",
       "1918              (30:1.0, 180:-1.0, 420:-1.0, 697:1.0)  1.000000e-18   \n",
       "1919               (20:1.0, 30:-1.0, 415:1.0, 697:-1.0)  1.000000e-18   \n",
       "1971               (17:1.0, 53:-1.0, 884:1.0, 885:-1.0)  1.000000e-18   \n",
       "1972         (1:-1.0, 2:1.0, 3:-1.0, 883:-1.0, 885:1.0)  1.000000e-18   \n",
       "\n",
       "                                                   link ecoli_flux  has_link  \\\n",
       "4     GLYC3PDEHYDROGBIOSYN_RXN_GLYCEROL_3P/NAD//DIHY...   0.008802      True   \n",
       "30                                          1.8.4.8_RXN        0.0      True   \n",
       "35                         2_DEHYDROPANTOATE_REDUCT_RXN   0.000036      True   \n",
       "36                             2_ISOPROPYLMALATESYN_RXN   0.028515      True   \n",
       "38                      2_METHYLCITRATE_DEHYDRATASE_RXN        0.0      True   \n",
       "...                                                 ...        ...       ...   \n",
       "1917                                XANPRIBOSYLTRAN_RXN        0.0      True   \n",
       "1918                            XANTHOSINEPHOSPHORY_RXN        0.0      True   \n",
       "1919  5_NUCLEOTID_RXN[CCO_CYTOSOL]_XANTHOSINE_5_PHOS...        0.0      True   \n",
       "1971                                          RXN0_1133        0.0      True   \n",
       "1972                                          RXN0_1132        0.0      True   \n",
       "\n",
       "      has_encoding                                       reaction_str  \n",
       "4             True  DIHYDROXY-ACETONE-PHOSPHATE[c] + NADH[c] + PRO...  \n",
       "30            True  PAPS[c] + Red-Thioredoxin[c] --> 3-5-ADP[c] + ...  \n",
       "35            True  2-DEHYDROPANTOATE[c] + NADPH[c] + PROTON[c] --...  \n",
       "36            True  2-KETO-ISOVALERATE[c] + ACETYL-COA[c] + WATER[...  \n",
       "38            True              CPD-622[c] --> CPD-1136[c] + WATER[c]  \n",
       "...            ...                                                ...  \n",
       "1917          True  PRPP[c] + XANTHINE[c] --> PPI[c] + XANTHOSINE-...  \n",
       "1918          True  Pi[c] + XANTHOSINE[c] --> RIBOSE-1P[c] + XANTH...  \n",
       "1919          True  WATER[c] + XANTHOSINE-5-PHOSPHATE[c] --> Pi[c]...  \n",
       "1971          True  CO-A[c] + Pyruvate-dehydrogenase-acetylDHlipoy...  \n",
       "1972          True  NAD[c] + Pyruvate-dehydrogenase-dihydrolipoate...  \n",
       "\n",
       "[595 rows x 10 columns]"
      ]
     },
     "execution_count": 53,
     "metadata": {},
     "output_type": "execute_result"
    }
   ],
   "source": [
    "subset_data"
   ]
  },
  {
   "cell_type": "code",
   "execution_count": 54,
   "metadata": {},
   "outputs": [
    {
     "ename": "TypeError",
     "evalue": "encode_reactions() got an unexpected keyword argument 'reaction_as_key'",
     "output_type": "error",
     "traceback": [
      "\u001b[0;31m---------------------------------------------------------------------------\u001b[0m",
      "\u001b[0;31mTypeError\u001b[0m                                 Traceback (most recent call last)",
      "Input \u001b[0;32mIn [54]\u001b[0m, in \u001b[0;36m<cell line: 21>\u001b[0;34m()\u001b[0m\n\u001b[1;32m     18\u001b[0m     \u001b[38;5;28;01mreturn\u001b[39;00m result\n\u001b[1;32m     20\u001b[0m rpom_encoded_reactions \u001b[38;5;241m=\u001b[39m encode_reactions(model\u001b[38;5;241m.\u001b[39mreactions, common_met_encoding)\n\u001b[0;32m---> 21\u001b[0m ecoli_encoded_reactions \u001b[38;5;241m=\u001b[39m \u001b[43mencode_reactions\u001b[49m\u001b[43m(\u001b[49m\u001b[43mecoli\u001b[49m\u001b[38;5;241;43m.\u001b[39;49m\u001b[43mreactions\u001b[49m\u001b[43m,\u001b[49m\u001b[43m \u001b[49m\u001b[43mcommon_met_encoding\u001b[49m\u001b[43m,\u001b[49m\u001b[43m \u001b[49m\u001b[43mreaction_as_key\u001b[49m\u001b[38;5;241;43m=\u001b[39;49m\u001b[38;5;28;43;01mFalse\u001b[39;49;00m\u001b[43m)\u001b[49m\n\u001b[1;32m     23\u001b[0m rpom_to_ecoli_reactions \u001b[38;5;241m=\u001b[39m {}\n\u001b[1;32m     24\u001b[0m \u001b[38;5;28;01mfor\u001b[39;00m reaction, encodings \u001b[38;5;129;01min\u001b[39;00m rpom_encoded_reactions\u001b[38;5;241m.\u001b[39mitems():\n",
      "\u001b[0;31mTypeError\u001b[0m: encode_reactions() got an unexpected keyword argument 'reaction_as_key'"
     ]
    }
   ],
   "source": [
    "def encode_reactions(reactions, metabolite_encodings):\n",
    "    def freeze_encoding(encoding):\n",
    "        keylist = list(encoding.keys())\n",
    "        valuelist = list(encoding.values())\n",
    "        \n",
    "        order = np.argsort(keylist)\n",
    "        return tuple(f\"{keylist[i]}:{valuelist[i]}\" for i in order)\n",
    "    result = {}\n",
    "    for reaction in reactions:\n",
    "        if all(met.id in metabolite_encodings for met in reaction.metabolites):\n",
    "            encoding_fwd = {metabolite_encodings[met.id] : coeff for met, coeff in reaction.metabolites.items()}\n",
    "            encoding_rev = {metabolite_encodings[met.id] : -coeff for met, coeff in reaction.metabolites.items()}\n",
    "\n",
    "            # Needs to be a bijective mapping\n",
    "            result[reaction] = (freeze_encoding(encoding_fwd), freeze_encoding(encoding_rev))\n",
    "            result[freeze_encoding(encoding_fwd)] = reaction\n",
    "            result[freeze_encoding(encoding_rev)] = reaction\n",
    "    return result\n",
    "\n",
    "rpom_encoded_reactions = encode_reactions(model.reactions, common_met_encoding)\n",
    "ecoli_encoded_reactions = encode_reactions(ecoli.reactions, common_met_encoding, reaction_as_key=False)\n",
    "\n",
    "rpom_to_ecoli_reactions = {}\n",
    "for reaction, encodings in rpom_encoded_reactions.items():\n",
    "    if not isinstance(reaction, Reaction):\n",
    "        continue\n",
    "    \n",
    "    try:\n",
    "        rpom_to_ecoli_reactions[reaction] = ecoli_encoded_reactions[encodings[0]]\n",
    "    except KeyError:\n",
    "        continue\n",
    "# for reaction, encodings in ecoli_encoded_reactions.items():\n",
    "#     try:\n",
    "#         rpom_reaction = rpom_encoded_reactions[]\n",
    "#         rpom_to_ecoli_reactions[reaction] = ecoli_encoded_reactions[encodings[0]]\n",
    "#     except KeyError:\n",
    "#         continue\n",
    "\n",
    "print(len(rpom_to_ecoli_reactions))\n"
   ]
  },
  {
   "cell_type": "code",
   "execution_count": null,
   "metadata": {},
   "outputs": [
    {
     "data": {
      "text/plain": [
       "Text(0.5, 0, 'flux (R pom)')"
      ]
     },
     "execution_count": 134,
     "metadata": {},
     "output_type": "execute_result"
    },
    {
     "data": {
      "image/png": "[encoded data removed]",
      "text/plain": [
       "<Figure size 640x480 with 1 Axes>"
      ]
     },
     "metadata": {},
     "output_type": "display_data"
    }
   ],
   "source": [
    "fluxes_rpom = [abs(rxn.flux) for rxn in rpom_to_ecoli_reactions.keys()]\n",
    "fluxes_ecoli = [abs(rxn.flux) for rxn in rpom_to_ecoli_reactions.values()]\n",
    "\n",
    "fig, ax = plt.subplots()\n",
    "ax.scatter(fluxes_rpom, fluxes_ecoli, alpha=0.25)\n",
    "ax.set_xscale(\"log\")\n",
    "ax.set_yscale(\"log\")\n",
    "ax.set_ylabel(\"flux (E coli)\")\n",
    "ax.set_xlabel(\"flux (R pom)\")"
   ]
  },
  {
   "cell_type": "code",
   "execution_count": null,
   "metadata": {},
   "outputs": [],
   "source": [
    "ecoli_mets = set(strip_compartment(met.id, ecoli=True) for met in ecoli.metabolites)\n",
    "common_mets = []\n",
    "for met in model.metabolites:\n",
    "    if strip_compartment(met.id) in ecoli_mets:\n",
    "        common_mets.append(strip_compartment(met.id))\n",
    "\n",
    "ecoli_common_reactions = [rxn for rxn in ecoli.reactions if all(strip_compartment(met.id, ecoli=True) in common_mets for met in rxn.metabolites)]\n",
    "rpom_common_reactions = [rxn for rxn in model.reactions if all(strip_compartment(met.id, ecoli=False) in common_mets for met in rxn.metabolites)]\n",
    "\n",
    "\n",
    "ecoli_reaction_encodings = {}\n",
    "for rxn in ecoli_common_reactions:\n",
    "    reaction_encoding = {\n",
    "        common_mets.index(strip_compartment(met.id, ecoli=True)) : coeff\n",
    "        for met, coeff in rxn.metabolites.items()\n",
    "    }\n",
    "    ecoli_reaction_encodings[rxn] = reaction_encoding\n",
    "\n",
    "rpom_reaction_encodings = {}\n",
    "for rxn in rpom_common_reactions:\n",
    "    reaction_encoding = {\n",
    "        common_mets.index(strip_compartment(met.id, ecoli=False)) : coeff\n",
    "        for met, coeff in rxn.metabolites.items()\n",
    "    }\n",
    "    rpom_reaction_encodings[rxn] = reaction_encoding"
   ]
  },
  {
   "cell_type": "code",
   "execution_count": null,
   "metadata": {},
   "outputs": [],
   "source": [
    "common_reactions = {}\n",
    "\n",
    "l_keys = list(ecoli_reaction_encodings.keys())\n",
    "l_values = list(ecoli_reaction_encodings.values())\n",
    "\n",
    "for reaction, encoding in rpom_reaction_encodings.items():\n",
    "    if encoding in ecoli_reaction_encodings.values():\n",
    "        common_reactions[reaction] = l_keys[l_values.index(encoding)]"
   ]
  },
  {
   "cell_type": "code",
   "execution_count": null,
   "metadata": {},
   "outputs": [
    {
     "data": {
      "text/plain": [
       "Text(0.5, 0, 'flux (R pom)')"
      ]
     },
     "execution_count": 60,
     "metadata": {},
     "output_type": "execute_result"
    },
    {
     "data": {
      "image/png": "[encoded data removed]",
      "text/plain": [
       "<Figure size 640x480 with 1 Axes>"
      ]
     },
     "metadata": {},
     "output_type": "display_data"
    }
   ],
   "source": [
    "fluxes_rpom = [abs(rxn.flux) for rxn in common_reactions.keys()]\n",
    "fluxes_ecoli = [abs(rxn.flux) for rxn in common_reactions.values()]\n",
    "\n",
    "fig, ax = plt.subplots()\n",
    "ax.scatter(fluxes_rpom, fluxes_ecoli, alpha=0.25)\n",
    "ax.set_xscale(\"log\")\n",
    "ax.set_yscale(\"log\")\n",
    "ax.set_ylabel(\"flux (E coli)\")\n",
    "ax.set_xlabel(\"flux (R pom)\")"
   ]
  },
  {
   "cell_type": "code",
   "execution_count": null,
   "metadata": {},
   "outputs": [
    {
     "data": {
      "text/plain": [
       "[(<Reaction Htex at 0x7fc985ba03a0>,\n",
       "  <Reaction PROTON_c_EXCHANGE_RXN at 0x7fc9848c52d0>,\n",
       "  5.916669530089914,\n",
       "  3.15),\n",
       " (<Reaction PItex at 0x7fc985a9b6d0>,\n",
       "  <Reaction Pi_c_EXCHANGE_RXN at 0x7fc9848c5180>,\n",
       "  0.03831374395020015,\n",
       "  3.15),\n",
       " (<Reaction TRANS-RXN0-470 at 0x7fc98536f790>,\n",
       "  <Reaction Pi_c_EXCHANGE_RXN at 0x7fc9848c5180>,\n",
       "  0.03831374395020015,\n",
       "  3.15),\n",
       " (<Reaction TRANS-RXN1G48-17-PROTON/PROTON//PROTON/PROTON.29. at 0x7fc9852920b0>,\n",
       "  <Reaction PROTON_c_EXCHANGE_RXN at 0x7fc9848c52d0>,\n",
       "  0.0,\n",
       "  3.15)]"
      ]
     },
     "execution_count": 50,
     "metadata": {},
     "output_type": "execute_result"
    }
   ],
   "source": [
    "[(rxn_rpom, rxn_ecoli, rxn_rpom.flux, rxn_ecoli.flux) for rxn_rpom, rxn_ecoli in common_reactions.items() if rxn_ecoli.flux > 3.1]"
   ]
  },
  {
   "cell_type": "code",
   "execution_count": null,
   "metadata": {},
   "outputs": [
    {
     "data": {
      "text/html": [
       "\n",
       "        <table>\n",
       "            <tr>\n",
       "                <td><strong>Reaction identifier</strong></td><td>TRANS-RXN1G48-17-PROTON/PROTON//PROTON/PROTON.29.</td>\n",
       "            </tr><tr>\n",
       "                <td><strong>Name</strong></td><td>TRANS-RXN1G48-17-PROTON/PROTON//PROTON/PROTON.29.</td>\n",
       "            </tr><tr>\n",
       "                <td><strong>Memory address</strong></td>\n",
       "                <td>0x7fc9852920b0</td>\n",
       "            </tr><tr>\n",
       "                <td><strong>Stoichiometry</strong></td>\n",
       "                <td>\n",
       "                    <p style='text-align:right'>PROTON[p] --> PROTON[c]</p>\n",
       "                    <p style='text-align:right'>H+ --> H+</p>\n",
       "                </td>\n",
       "            </tr><tr>\n",
       "                <td><strong>GPR</strong></td><td>G1G48-1419</td>\n",
       "            </tr><tr>\n",
       "                <td><strong>Lower bound</strong></td><td>0.0</td>\n",
       "            </tr><tr>\n",
       "                <td><strong>Upper bound</strong></td><td>1000.0</td>\n",
       "            </tr>\n",
       "        </table>\n",
       "        "
      ],
      "text/plain": [
       "<Reaction TRANS-RXN1G48-17-PROTON/PROTON//PROTON/PROTON.29. at 0x7fc9852920b0>"
      ]
     },
     "execution_count": 59,
     "metadata": {},
     "output_type": "execute_result"
    }
   ],
   "source": [
    "model.reactions.get_by_id(\"TRANS-RXN1G48-17-PROTON/PROTON//PROTON/PROTON.29.\")"
   ]
  },
  {
   "cell_type": "code",
   "execution_count": null,
   "metadata": {},
   "outputs": [],
   "source": []
  }
 ],
 "metadata": {
  "kernelspec": {
   "display_name": "rpom",
   "language": "python",
   "name": "python3"
  },
  "language_info": {
   "codemirror_mode": {
    "name": "ipython",
    "version": 3
   },
   "file_extension": ".py",
   "mimetype": "text/x-python",
   "name": "python",
   "nbconvert_exporter": "python",
   "pygments_lexer": "ipython3",
   "version": "3.10.4"
  }
 },
 "nbformat": 4,
 "nbformat_minor": 2
}
