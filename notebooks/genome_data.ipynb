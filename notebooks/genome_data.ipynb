{
 "cells": [
  {
   "cell_type": "code",
   "execution_count": 1,
   "metadata": {},
   "outputs": [],
   "source": [
    "import numpy as np\n",
    "import pandas as pd"
   ]
  },
  {
   "cell_type": "markdown",
   "metadata": {},
   "source": [
    "# Load genome data:"
   ]
  },
  {
   "cell_type": "code",
   "execution_count": 3,
   "metadata": {},
   "outputs": [],
   "source": [
    "genes = pd.read_excel(\"../data/DSS3_external_gene_calls.xlsx\")"
   ]
  },
  {
   "cell_type": "code",
   "execution_count": 4,
   "metadata": {},
   "outputs": [
    {
     "data": {
      "text/html": [
       "<div>\n",
       "<style scoped>\n",
       "    .dataframe tbody tr th:only-of-type {\n",
       "        vertical-align: middle;\n",
       "    }\n",
       "\n",
       "    .dataframe tbody tr th {\n",
       "        vertical-align: top;\n",
       "    }\n",
       "\n",
       "    .dataframe thead th {\n",
       "        text-align: right;\n",
       "    }\n",
       "</style>\n",
       "<table border=\"1\" class=\"dataframe\">\n",
       "  <thead>\n",
       "    <tr style=\"text-align: right;\">\n",
       "      <th></th>\n",
       "      <th>gene_callers_id</th>\n",
       "      <th>contig</th>\n",
       "      <th>start</th>\n",
       "      <th>stop</th>\n",
       "      <th>direction</th>\n",
       "      <th>partial</th>\n",
       "      <th>call_type</th>\n",
       "      <th>source</th>\n",
       "      <th>version</th>\n",
       "      <th>aa_sequence</th>\n",
       "    </tr>\n",
       "  </thead>\n",
       "  <tbody>\n",
       "    <tr>\n",
       "      <th>0</th>\n",
       "      <td>SPO0001</td>\n",
       "      <td>chromosome</td>\n",
       "      <td>0</td>\n",
       "      <td>1868</td>\n",
       "      <td>f</td>\n",
       "      <td>0</td>\n",
       "      <td>1</td>\n",
       "      <td>Glimmer</td>\n",
       "      <td>2</td>\n",
       "      <td>VKHSDFDIVVIGAGHAGAEAAHAAARMGMRTALVSLSERDIGVMSC...</td>\n",
       "    </tr>\n",
       "    <tr>\n",
       "      <th>1</th>\n",
       "      <td>SPO0002</td>\n",
       "      <td>chromosome</td>\n",
       "      <td>1865</td>\n",
       "      <td>2479</td>\n",
       "      <td>f</td>\n",
       "      <td>0</td>\n",
       "      <td>1</td>\n",
       "      <td>Glimmer</td>\n",
       "      <td>2</td>\n",
       "      <td>MMVPDANTLNVSRETFERLKIFADLVHKWNPRINLVSKRSLEDLWT...</td>\n",
       "    </tr>\n",
       "    <tr>\n",
       "      <th>2</th>\n",
       "      <td>SPO0003</td>\n",
       "      <td>chromosome</td>\n",
       "      <td>2472</td>\n",
       "      <td>3275</td>\n",
       "      <td>f</td>\n",
       "      <td>0</td>\n",
       "      <td>1</td>\n",
       "      <td>Glimmer</td>\n",
       "      <td>2</td>\n",
       "      <td>VSDLSRPAGPRIIAVANQKGGVGKTTTAINLAAALVESGQRVLVVD...</td>\n",
       "    </tr>\n",
       "    <tr>\n",
       "      <th>3</th>\n",
       "      <td>SPO0004</td>\n",
       "      <td>chromosome</td>\n",
       "      <td>3298</td>\n",
       "      <td>4188</td>\n",
       "      <td>f</td>\n",
       "      <td>0</td>\n",
       "      <td>1</td>\n",
       "      <td>Glimmer</td>\n",
       "      <td>2</td>\n",
       "      <td>MVSNKPRGLGRGLSALMADVTQPAEAAASEAARRPDRTVPIEKLRA...</td>\n",
       "    </tr>\n",
       "    <tr>\n",
       "      <th>4</th>\n",
       "      <td>SPO0005</td>\n",
       "      <td>chromosome</td>\n",
       "      <td>4178</td>\n",
       "      <td>4531</td>\n",
       "      <td>r</td>\n",
       "      <td>0</td>\n",
       "      <td>1</td>\n",
       "      <td>Glimmer</td>\n",
       "      <td>2</td>\n",
       "      <td>MQFIWAALGLVCVALALIGVALPLLPTVPFLLLAAFFFARSSERLH...</td>\n",
       "    </tr>\n",
       "    <tr>\n",
       "      <th>...</th>\n",
       "      <td>...</td>\n",
       "      <td>...</td>\n",
       "      <td>...</td>\n",
       "      <td>...</td>\n",
       "      <td>...</td>\n",
       "      <td>...</td>\n",
       "      <td>...</td>\n",
       "      <td>...</td>\n",
       "      <td>...</td>\n",
       "      <td>...</td>\n",
       "    </tr>\n",
       "    <tr>\n",
       "      <th>4337</th>\n",
       "      <td>SPOA0442</td>\n",
       "      <td>megaplasmid</td>\n",
       "      <td>489040</td>\n",
       "      <td>489135</td>\n",
       "      <td>f</td>\n",
       "      <td>0</td>\n",
       "      <td>1</td>\n",
       "      <td>Glimmer</td>\n",
       "      <td>2</td>\n",
       "      <td>MLDSVGRFCYHAATFLNFVTCFGAIEDSRVF</td>\n",
       "    </tr>\n",
       "    <tr>\n",
       "      <th>4338</th>\n",
       "      <td>SPOA0443</td>\n",
       "      <td>megaplasmid</td>\n",
       "      <td>489175</td>\n",
       "      <td>489438</td>\n",
       "      <td>f</td>\n",
       "      <td>0</td>\n",
       "      <td>1</td>\n",
       "      <td>Glimmer</td>\n",
       "      <td>2</td>\n",
       "      <td>MPEDGIGFEFFRDDQNPRLTIVNEAALQNASNQLFNEIAHLRAFDH...</td>\n",
       "    </tr>\n",
       "    <tr>\n",
       "      <th>4339</th>\n",
       "      <td>SPOA0444</td>\n",
       "      <td>megaplasmid</td>\n",
       "      <td>489505</td>\n",
       "      <td>490014</td>\n",
       "      <td>r</td>\n",
       "      <td>0</td>\n",
       "      <td>1</td>\n",
       "      <td>Glimmer</td>\n",
       "      <td>2</td>\n",
       "      <td>MAQYPSSFDKEDLLKCARGELFGPGNAQLPAPPMLMMDRITEVSAD...</td>\n",
       "    </tr>\n",
       "    <tr>\n",
       "      <th>4340</th>\n",
       "      <td>SPOA0445</td>\n",
       "      <td>megaplasmid</td>\n",
       "      <td>490203</td>\n",
       "      <td>490622</td>\n",
       "      <td>f</td>\n",
       "      <td>0</td>\n",
       "      <td>1</td>\n",
       "      <td>Glimmer</td>\n",
       "      <td>2</td>\n",
       "      <td>MTPNSQEIATDWLVDAGLRPTRQRVALAELLVGDGRHRHVTAESLF...</td>\n",
       "    </tr>\n",
       "    <tr>\n",
       "      <th>4341</th>\n",
       "      <td>SPOA0446</td>\n",
       "      <td>megaplasmid</td>\n",
       "      <td>490623</td>\n",
       "      <td>491519</td>\n",
       "      <td>r</td>\n",
       "      <td>0</td>\n",
       "      <td>1</td>\n",
       "      <td>Glimmer</td>\n",
       "      <td>2</td>\n",
       "      <td>MLYLTLRQYEYVCAVGRHGSLSAAAAALNVSQPALSAALTKIESHL...</td>\n",
       "    </tr>\n",
       "  </tbody>\n",
       "</table>\n",
       "<p>4342 rows × 10 columns</p>\n",
       "</div>"
      ],
      "text/plain": [
       "     gene_callers_id       contig   start    stop direction  partial  \\\n",
       "0            SPO0001   chromosome       0    1868         f        0   \n",
       "1            SPO0002   chromosome    1865    2479         f        0   \n",
       "2            SPO0003   chromosome    2472    3275         f        0   \n",
       "3            SPO0004   chromosome    3298    4188         f        0   \n",
       "4            SPO0005   chromosome    4178    4531         r        0   \n",
       "...              ...          ...     ...     ...       ...      ...   \n",
       "4337        SPOA0442  megaplasmid  489040  489135         f        0   \n",
       "4338        SPOA0443  megaplasmid  489175  489438         f        0   \n",
       "4339        SPOA0444  megaplasmid  489505  490014         r        0   \n",
       "4340        SPOA0445  megaplasmid  490203  490622         f        0   \n",
       "4341        SPOA0446  megaplasmid  490623  491519         r        0   \n",
       "\n",
       "      call_type   source  version  \\\n",
       "0             1  Glimmer        2   \n",
       "1             1  Glimmer        2   \n",
       "2             1  Glimmer        2   \n",
       "3             1  Glimmer        2   \n",
       "4             1  Glimmer        2   \n",
       "...         ...      ...      ...   \n",
       "4337          1  Glimmer        2   \n",
       "4338          1  Glimmer        2   \n",
       "4339          1  Glimmer        2   \n",
       "4340          1  Glimmer        2   \n",
       "4341          1  Glimmer        2   \n",
       "\n",
       "                                            aa_sequence  \n",
       "0     VKHSDFDIVVIGAGHAGAEAAHAAARMGMRTALVSLSERDIGVMSC...  \n",
       "1     MMVPDANTLNVSRETFERLKIFADLVHKWNPRINLVSKRSLEDLWT...  \n",
       "2     VSDLSRPAGPRIIAVANQKGGVGKTTTAINLAAALVESGQRVLVVD...  \n",
       "3     MVSNKPRGLGRGLSALMADVTQPAEAAASEAARRPDRTVPIEKLRA...  \n",
       "4     MQFIWAALGLVCVALALIGVALPLLPTVPFLLLAAFFFARSSERLH...  \n",
       "...                                                 ...  \n",
       "4337                    MLDSVGRFCYHAATFLNFVTCFGAIEDSRVF  \n",
       "4338  MPEDGIGFEFFRDDQNPRLTIVNEAALQNASNQLFNEIAHLRAFDH...  \n",
       "4339  MAQYPSSFDKEDLLKCARGELFGPGNAQLPAPPMLMMDRITEVSAD...  \n",
       "4340  MTPNSQEIATDWLVDAGLRPTRQRVALAELLVGDGRHRHVTAESLF...  \n",
       "4341  MLYLTLRQYEYVCAVGRHGSLSAAAAALNVSQPALSAALTKIESHL...  \n",
       "\n",
       "[4342 rows x 10 columns]"
      ]
     },
     "execution_count": 4,
     "metadata": {},
     "output_type": "execute_result"
    }
   ],
   "source": [
    "genes"
   ]
  },
  {
   "cell_type": "markdown",
   "metadata": {},
   "source": [
    "# Trying to unify with model data"
   ]
  },
  {
   "cell_type": "code",
   "execution_count": 5,
   "metadata": {},
   "outputs": [
    {
     "name": "stdout",
     "output_type": "stream",
     "text": [
      "Scaling...\n",
      " A: min|aij| =  1.000e+00  max|aij| =  1.000e+00  ratio =  1.000e+00\n",
      "Problem data seem to be well scaled\n"
     ]
    }
   ],
   "source": [
    "import cobra\n",
    "\n",
    "# Load model\n",
    "model = cobra.io.read_sbml_model(\"../base_model/Rpom_06.xml\")"
   ]
  },
  {
   "cell_type": "code",
   "execution_count": 13,
   "metadata": {},
   "outputs": [
    {
     "data": {
      "text/html": [
       "\n",
       "        <table>\n",
       "            <tr>\n",
       "                <td><strong>Reaction identifier</strong></td><td>1-ACYLGLYCEROL-3-P-ACYLTRANSFER-RXN</td>\n",
       "            </tr><tr>\n",
       "                <td><strong>Name</strong></td><td>1-ACYLGLYCEROL-3-P-ACYLTRANSFER-RXN</td>\n",
       "            </tr><tr>\n",
       "                <td><strong>Memory address</strong></td>\n",
       "                <td>0x7f2f0533cbb0</td>\n",
       "            </tr><tr>\n",
       "                <td><strong>Stoichiometry</strong></td>\n",
       "                <td>\n",
       "                    <p style='text-align:right'>ACYL-SN-GLYCEROL-3P[c] + hdeACP[c] --> ACP[c] + L-PHOSPHATIDATE[c]</p>\n",
       "                    <p style='text-align:right'>a 1-acyl-sn-glycerol 3-phosphate + Cis-hexadec-9-enoyl-[acyl-carrier protein] (n-C16:1) --> a soluble [acyl-carrier protein] + a 1,2-diacyl-sn-glycerol 3-phosphate</p>\n",
       "                </td>\n",
       "            </tr><tr>\n",
       "                <td><strong>GPR</strong></td><td></td>\n",
       "            </tr><tr>\n",
       "                <td><strong>Lower bound</strong></td><td>0.0</td>\n",
       "            </tr><tr>\n",
       "                <td><strong>Upper bound</strong></td><td>1000.0</td>\n",
       "            </tr>\n",
       "        </table>\n",
       "        "
      ],
      "text/plain": [
       "<Reaction 1-ACYLGLYCEROL-3-P-ACYLTRANSFER-RXN at 0x7f2f0533cbb0>"
      ]
     },
     "execution_count": 13,
     "metadata": {},
     "output_type": "execute_result"
    }
   ],
   "source": [
    "model.reactions[0]"
   ]
  },
  {
   "cell_type": "markdown",
   "metadata": {},
   "source": [
    "**Need genes names associated with reactions**"
   ]
  }
 ],
 "metadata": {
  "kernelspec": {
   "display_name": "Python 3.10.4 64-bit ('rpom')",
   "language": "python",
   "name": "python3"
  },
  "language_info": {
   "codemirror_mode": {
    "name": "ipython",
    "version": 3
   },
   "file_extension": ".py",
   "mimetype": "text/x-python",
   "name": "python",
   "nbconvert_exporter": "python",
   "pygments_lexer": "ipython3",
   "version": "3.10.4"
  },
  "orig_nbformat": 4,
  "vscode": {
   "interpreter": {
    "hash": "ed26c3003969632c7587d8912b7df065f859ebead2b9551b57bf07e4853bc19a"
   }
  }
 },
 "nbformat": 4,
 "nbformat_minor": 2
}
