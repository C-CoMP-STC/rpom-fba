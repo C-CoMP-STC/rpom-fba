{
 "cells": [
  {
   "cell_type": "code",
   "execution_count": 1,
   "id": "457c4d76",
   "metadata": {},
   "outputs": [],
   "source": [
    "import sys\n",
    "if \"..\" not in sys.path:\n",
    "    sys.path.insert(0, \"..\")"
   ]
  },
  {
   "cell_type": "code",
   "execution_count": 4,
   "id": "d74083f5",
   "metadata": {},
   "outputs": [
    {
     "name": "stderr",
     "output_type": "stream",
     "text": [
      "https://identifiers.org/stem/ does not conform to 'http(s)://identifiers.org/collection/id' or'http(s)://identifiers.org/COLLECTION:id\n",
      "https://identifiers.org/stem/ does not conform to 'http(s)://identifiers.org/collection/id' or'http(s)://identifiers.org/COLLECTION:id\n",
      "https://identifiers.org/stem/ does not conform to 'http(s)://identifiers.org/collection/id' or'http(s)://identifiers.org/COLLECTION:id\n",
      "https://identifiers.org/stem/ does not conform to 'http(s)://identifiers.org/collection/id' or'http(s)://identifiers.org/COLLECTION:id\n",
      "https://identifiers.org/stem/ does not conform to 'http(s)://identifiers.org/collection/id' or'http(s)://identifiers.org/COLLECTION:id\n",
      "https://identifiers.org/stem/ does not conform to 'http(s)://identifiers.org/collection/id' or'http(s)://identifiers.org/COLLECTION:id\n",
      "https://identifiers.org/stem/ does not conform to 'http(s)://identifiers.org/collection/id' or'http(s)://identifiers.org/COLLECTION:id\n",
      "https://identifiers.org/stem/ does not conform to 'http(s)://identifiers.org/collection/id' or'http(s)://identifiers.org/COLLECTION:id\n",
      "https://identifiers.org/stem/ does not conform to 'http(s)://identifiers.org/collection/id' or'http(s)://identifiers.org/COLLECTION:id\n",
      "https://identifiers.org/stem/ does not conform to 'http(s)://identifiers.org/collection/id' or'http(s)://identifiers.org/COLLECTION:id\n",
      "https://identifiers.org/stem/ does not conform to 'http(s)://identifiers.org/collection/id' or'http(s)://identifiers.org/COLLECTION:id\n",
      "https://identifiers.org/stem/ does not conform to 'http(s)://identifiers.org/collection/id' or'http(s)://identifiers.org/COLLECTION:id\n",
      "https://identifiers.org/stem/ does not conform to 'http(s)://identifiers.org/collection/id' or'http(s)://identifiers.org/COLLECTION:id\n",
      "https://identifiers.org/stem/ does not conform to 'http(s)://identifiers.org/collection/id' or'http(s)://identifiers.org/COLLECTION:id\n",
      "https://identifiers.org/stem/ does not conform to 'http(s)://identifiers.org/collection/id' or'http(s)://identifiers.org/COLLECTION:id\n",
      "https://identifiers.org/stem/ does not conform to 'http(s)://identifiers.org/collection/id' or'http(s)://identifiers.org/COLLECTION:id\n",
      "https://identifiers.org/stem/ does not conform to 'http(s)://identifiers.org/collection/id' or'http(s)://identifiers.org/COLLECTION:id\n"
     ]
    }
   ],
   "source": [
    "from cobra.io import read_sbml_model\n",
    "\n",
    "model = read_sbml_model(\"../model/Rpom_05.xml\")"
   ]
  },
  {
   "cell_type": "code",
   "execution_count": 29,
   "id": "267e91e0",
   "metadata": {},
   "outputs": [],
   "source": [
    "def get_glc_flux(rxnid):\n",
    "    with model:\n",
    "        model.reactions.get_by_id(\"EX_glc\").bounds = (-5.44, 0)\n",
    "\n",
    "        sol = model.optimize()\n",
    "    return sol.fluxes[rxnid]"
   ]
  },
  {
   "cell_type": "code",
   "execution_count": 18,
   "id": "24b8a251",
   "metadata": {},
   "outputs": [
    {
     "data": {
      "application/vnd.microsoft.datawrangler.viewer.v0+json": {
       "columns": [
        {
         "name": "index",
         "rawType": "int64",
         "type": "integer"
        },
        {
         "name": "ID",
         "rawType": "object",
         "type": "string"
        },
        {
         "name": "Reactions",
         "rawType": "object",
         "type": "string"
        },
        {
         "name": "Link 1",
         "rawType": "object",
         "type": "string"
        },
        {
         "name": "Link 2",
         "rawType": "object",
         "type": "string"
        }
       ],
       "ref": "e3a02fe9-895b-44c0-b42a-09fcde0f39a6",
       "rows": [
        [
         "0",
         "hdeACP[c]",
         "RXN-10462, AACPS4, 1-ACYLGLYCEROL-3-P-ACYLTRANSFER-RXN",
         "https://biocyc.org/compound?orgid=RUEGERIA_POMEROYI_DSS3&id=hdeACP",
         "https://biocyc.org/compound?orgid=GCF_000011965&id=hdeACP"
        ],
        [
         "1",
         "Oxidized-ferredoxins[c]",
         "RXN-17472, 1.2.7.4-RXN, RXN-17897, RXN-12691, RXN0-884, ISPH2-RXN, RXN0-882, 2.8.1.6-RXN, RXN-5061, 1.2.7.8-RXN",
         "https://biocyc.org/compound?orgid=RUEGERIA_POMEROYI_DSS3&id=Oxidized-ferredoxins",
         "https://biocyc.org/compound?orgid=GCF_000011965&id=Oxidized-ferredoxins"
        ],
        [
         "2",
         "Reduced-ferredoxins[c]",
         "RXN-17472, 1.2.7.4-RXN, RXN-17897, RXN-12691, RXN0-884, ISPH2-RXN, RXN0-882, 2.8.1.6-RXN, RXN-5061, 1.2.7.8-RXN",
         "https://biocyc.org/compound?orgid=RUEGERIA_POMEROYI_DSS3&id=Reduced-ferredoxins",
         "https://biocyc.org/compound?orgid=GCF_000011965&id=Reduced-ferredoxins"
        ],
        [
         "3",
         "ETF-Oxidized[c]",
         "DIMETHYLGLYCINE-DEHYDROGENASE-RXN, RXN-14262, RXN-17783, RXN-14131, RXN-17796, RXN-14229, RXN-17788, GLUTARYL-COA-DEHYDROGENASE-RXN, RXN0-2301, ACYLCOADEHYDROG-RXN-STEAROYL-COA/ETF-Oxidized/PROTON//POLYMER-INST-TRANS-D2-ENOYL-COA-C14-H28/ETF-Reduced.86., SARCOSINE-DEHYDROGENASE-RXN, RXN-17784, RXN-13615, RXN-12572, RXN-14278, RXN-17779, 2-METHYLACYL-COA-DEHYDROGENASE-RXN, CROBETREDUCT-RXN, RXN-17792, ACYLCOADEHYDROG-RXN-POLYMER-INST-Saturated-Fatty-Acyl-CoA-C0-H0/ETF-Oxidized/PROTON//CROTONYL-COA/ETF-Reduced.90., LONG-CHAIN-ACYL-COA-DEHYDROGENASE-RXN-PALMITYL-COA/ETF-Oxidized/PROTON//CPD0-2117/ETF-Reduced.56., 1.5.5.1-RXN-ETF-Reduced/UBIQUINONE-10//ETF-Oxidized/CPD-9958/PROTON.56., ACYLCOADEHYDROG-RXN-POLYMER-INST-Saturated-Fatty-Acyl-CoA-C16-H32/ETF-Oxidized/PROTON//CPD-14928/ETF-Reduced.89., RXN-8959, RXN-17775",
         "https://biocyc.org/compound?orgid=RUEGERIA_POMEROYI_DSS3&id=ETF-Oxidized",
         "https://biocyc.org/compound?orgid=GCF_000011965&id=ETF-Oxidized"
        ],
        [
         "4",
         "ETF-Reduced[c]",
         "DIMETHYLGLYCINE-DEHYDROGENASE-RXN, RXN-14262, RXN-17783, RXN-14131, RXN-17796, RXN-14229, RXN-17788, GLUTARYL-COA-DEHYDROGENASE-RXN, RXN0-2301, ACYLCOADEHYDROG-RXN-STEAROYL-COA/ETF-Oxidized/PROTON//POLYMER-INST-TRANS-D2-ENOYL-COA-C14-H28/ETF-Reduced.86., SARCOSINE-DEHYDROGENASE-RXN, RXN-17784, RXN-13615, RXN-12572, RXN-14278, RXN-17779, 2-METHYLACYL-COA-DEHYDROGENASE-RXN, CROBETREDUCT-RXN, RXN-17792, ACYLCOADEHYDROG-RXN-POLYMER-INST-Saturated-Fatty-Acyl-CoA-C0-H0/ETF-Oxidized/PROTON//CROTONYL-COA/ETF-Reduced.90., LONG-CHAIN-ACYL-COA-DEHYDROGENASE-RXN-PALMITYL-COA/ETF-Oxidized/PROTON//CPD0-2117/ETF-Reduced.56., 1.5.5.1-RXN-ETF-Reduced/UBIQUINONE-10//ETF-Oxidized/CPD-9958/PROTON.56., ACYLCOADEHYDROG-RXN-POLYMER-INST-Saturated-Fatty-Acyl-CoA-C16-H32/ETF-Oxidized/PROTON//CPD-14928/ETF-Reduced.89., RXN-8959, RXN-17775",
         "https://biocyc.org/compound?orgid=RUEGERIA_POMEROYI_DSS3&id=ETF-Reduced",
         "https://biocyc.org/compound?orgid=GCF_000011965&id=ETF-Reduced"
        ],
        [
         "5",
         "Ox-Thioredoxin[c]",
         "CDPREDUCT-RXN, ADPREDUCT-RXN, 1.8.4.8-RXN, UDPREDUCT-RXN, THIOREDOXIN-REDUCT-NADPH-RXN, RIBONUCLEOSIDE-DIP-REDUCTI-RXN-CPD0-2231/Ox-Thioredoxin/WATER//IDP/Red-Thioredoxin.52., GDPREDUCT-RXN",
         "https://biocyc.org/compound?orgid=RUEGERIA_POMEROYI_DSS3&id=Ox-Thioredoxin",
         "https://biocyc.org/compound?orgid=GCF_000011965&id=Ox-Thioredoxin"
        ],
        [
         "6",
         "Red-Thioredoxin[c]",
         "CDPREDUCT-RXN, ADPREDUCT-RXN, 1.8.4.8-RXN, UDPREDUCT-RXN, THIOREDOXIN-REDUCT-NADPH-RXN, RIBONUCLEOSIDE-DIP-REDUCTI-RXN-CPD0-2231/Ox-Thioredoxin/WATER//IDP/Red-Thioredoxin.52., GDPREDUCT-RXN",
         "https://biocyc.org/compound?orgid=RUEGERIA_POMEROYI_DSS3&id=Red-Thioredoxin",
         "https://biocyc.org/compound?orgid=GCF_000011965&id=Red-Thioredoxin"
        ],
        [
         "7",
         "Acetoacetyl-ACPs[c]",
         "2.3.1.180-RXN, RXN-9514",
         "https://biocyc.org/compound?orgid=RUEGERIA_POMEROYI_DSS3&id=Acetoacetyl-ACPs",
         "https://biocyc.org/compound?orgid=GCF_000011965&id=Acetoacetyl-ACPs"
        ],
        [
         "8",
         "Hpr-Histidine[c]",
         "2.7.3.9-RXN",
         "https://biocyc.org/compound?orgid=RUEGERIA_POMEROYI_DSS3&id=Hpr-Histidine",
         "https://biocyc.org/compound?orgid=GCF_000011965&id=Hpr-Histidine"
        ],
        [
         "9",
         "Hpr-pi-phospho-L-histidines[c]",
         "2.7.3.9-RXN",
         "https://biocyc.org/compound?orgid=RUEGERIA_POMEROYI_DSS3&id=Hpr-pi-phospho-L-histidines",
         "https://biocyc.org/compound?orgid=GCF_000011965&id=Hpr-pi-phospho-L-histidines"
        ],
        [
         "10",
         "Sulfurated-Sulfur-Acceptors[c]",
         "RXN-17472, RXN0-6359, 2.8.1.6-RXN, RXN-12588",
         "https://biocyc.org/compound?orgid=RUEGERIA_POMEROYI_DSS3&id=Sulfurated-Sulfur-Acceptors",
         "https://biocyc.org/compound?orgid=GCF_000011965&id=Sulfurated-Sulfur-Acceptors"
        ],
        [
         "11",
         "Unsulfurated-Sulfur-Acceptors[c]",
         "RXN-17472, RXN0-6359, 2.8.1.6-RXN, RXN-12588",
         "https://biocyc.org/compound?orgid=RUEGERIA_POMEROYI_DSS3&id=Unsulfurated-Sulfur-Acceptors",
         "https://biocyc.org/compound?orgid=GCF_000011965&id=Unsulfurated-Sulfur-Acceptors"
        ],
        [
         "12",
         "Dodecanoyl-ACPs[c]",
         "LAUROYLACYLTRAN-RXN, 3.1.2.21-RXN, RXN-9653, RXN-9661, RXN-9534, RXN-9535",
         "https://biocyc.org/compound?orgid=RUEGERIA_POMEROYI_DSS3&id=Dodecanoyl-ACPs",
         "https://biocyc.org/compound?orgid=GCF_000011965&id=Dodecanoyl-ACPs"
        ],
        [
         "13",
         "4-hydroxybenzoate[c]",
         "RXN-9230, 2.5.1.39-RXN, CHORPYRLY-RXN, 4-HYDROXYBENZOATE-3-MONOOXYGENASE-RXN, RXN-9003, RXN-9222, 4OHBENZOATE-OCTAPRENYLTRANSFER-RXN",
         "https://biocyc.org/compound?orgid=RUEGERIA_POMEROYI_DSS3&id=4-hydroxybenzoate",
         "https://biocyc.org/compound?orgid=GCF_000011965&id=4-hydroxybenzoate"
        ],
        [
         "14",
         "Beta-3-hydroxybutyryl-ACPs[c]",
         "4.2.1.58-RXN, RXN-9514, RXN-10026",
         "https://biocyc.org/compound?orgid=RUEGERIA_POMEROYI_DSS3&id=Beta-3-hydroxybutyryl-ACPs",
         "https://biocyc.org/compound?orgid=GCF_000011965&id=Beta-3-hydroxybutyryl-ACPs"
        ],
        [
         "15",
         "Crotonyl-ACPs[c]",
         "4.2.1.58-RXN, RXN-9657, RXN-9515",
         "https://biocyc.org/compound?orgid=RUEGERIA_POMEROYI_DSS3&id=Crotonyl-ACPs",
         "https://biocyc.org/compound?orgid=GCF_000011965&id=Crotonyl-ACPs"
        ],
        [
         "16",
         "2-Octenoyl-ACPs[c]",
         "RXN-9659, RXN-9526, 4.2.1.59-RXN",
         "https://biocyc.org/compound?orgid=RUEGERIA_POMEROYI_DSS3&id=2-Octenoyl-ACPs",
         "https://biocyc.org/compound?orgid=GCF_000011965&id=2-Octenoyl-ACPs"
        ],
        [
         "17",
         "3-Hydroxy-octanoyl-ACPs[c]",
         "RXN-9524, 4.2.1.59-RXN",
         "https://biocyc.org/compound?orgid=RUEGERIA_POMEROYI_DSS3&id=3-Hydroxy-octanoyl-ACPs",
         "https://biocyc.org/compound?orgid=GCF_000011965&id=3-Hydroxy-octanoyl-ACPs"
        ],
        [
         "18",
         "2-Hexadecenoyl-ACPs[c]",
         "RXN-9542, RXN-9663, 4.2.1.61-RXN",
         "https://biocyc.org/compound?orgid=RUEGERIA_POMEROYI_DSS3&id=2-Hexadecenoyl-ACPs",
         "https://biocyc.org/compound?orgid=GCF_000011965&id=2-Hexadecenoyl-ACPs"
        ],
        [
         "19",
         "R-3-Hydroxypalmitoyl-ACPs[c]",
         "RXN-9540, 4.2.1.61-RXN",
         "https://biocyc.org/compound?orgid=RUEGERIA_POMEROYI_DSS3&id=R-3-Hydroxypalmitoyl-ACPs",
         "https://biocyc.org/compound?orgid=GCF_000011965&id=R-3-Hydroxypalmitoyl-ACPs"
        ],
        [
         "20",
         "23-Diaminopropanoate[c]",
         "4.3.1.15-RXN",
         "https://biocyc.org/compound?orgid=RUEGERIA_POMEROYI_DSS3&id=23-Diaminopropanoate",
         "https://biocyc.org/compound?orgid=GCF_000011965&id=23-Diaminopropanoate"
        ],
        [
         "21",
         "N5-Formyl-THF-Glu-N[c]",
         "5-FORMYL-THF-CYCLO-LIGASE-RXN",
         "https://biocyc.org/compound?orgid=RUEGERIA_POMEROYI_DSS3&id=N5-Formyl-THF-Glu-N",
         "https://biocyc.org/compound?orgid=GCF_000011965&id=N5-Formyl-THF-Glu-N"
        ],
        [
         "22",
         "hdcea[c]",
         "AACPS4, FACOAE161",
         "https://biocyc.org/compound?orgid=RUEGERIA_POMEROYI_DSS3&id=hdcea",
         "https://biocyc.org/compound?orgid=GCF_000011965&id=hdcea"
        ],
        [
         "23",
         "N-acetyl-D-glucosamine[e]",
         "ACGAMtex, EX_acgam",
         "https://biocyc.org/compound?orgid=RUEGERIA_POMEROYI_DSS3&id=N-acetyl-D-glucosamine",
         "https://biocyc.org/compound?orgid=GCF_000011965&id=N-acetyl-D-glucosamine"
        ],
        [
         "24",
         "N-acetyl-D-glucosamine[p]",
         "ACGAMtex",
         "https://biocyc.org/compound?orgid=RUEGERIA_POMEROYI_DSS3&id=N-acetyl-D-glucosamine",
         "https://biocyc.org/compound?orgid=GCF_000011965&id=N-acetyl-D-glucosamine"
        ],
        [
         "25",
         "POLYMER-INST-Saturated-Fatty-Acyl-CoA-C0-H0[c]",
         "KETOACYLCOATHIOL-RXN-POLYMER-INST-Saturated-Fatty-Acyl-CoA-C0-H0/ACETYL-COA//K-HEXANOYL-COA/CO-A.76., ACYLCOASYN-RXN-POLYMER-INST-CPD66-39-C0-H0/CO-A/ATP//POLYMER-INST-Saturated-Fatty-Acyl-CoA-C0-H0/PPI/AMP.90., ACYLCOADEHYDROG-RXN-POLYMER-INST-Saturated-Fatty-Acyl-CoA-C0-H0/ETF-Oxidized/PROTON//CROTONYL-COA/ETF-Reduced.90.",
         "https://biocyc.org/compound?orgid=RUEGERIA_POMEROYI_DSS3&id=POLYMER-INST-Saturated-Fatty-Acyl-CoA-C0-H0",
         "https://biocyc.org/compound?orgid=GCF_000011965&id=POLYMER-INST-Saturated-Fatty-Acyl-CoA-C0-H0"
        ],
        [
         "26",
         "POLYMER-INST-Saturated-Fatty-Acyl-CoA-C16-H32[c]",
         "ACYLCOADEHYDROG-RXN-POLYMER-INST-Saturated-Fatty-Acyl-CoA-C16-H32/ETF-Oxidized/PROTON//CPD-14928/ETF-Reduced.89., KETOACYLCOATHIOL-RXN-POLYMER-INST-Saturated-Fatty-Acyl-CoA-C16-H32/ACETYL-COA//POLYMER-INST-3-KETOACYL-COA-C18-H36/CO-A.99., ACYLCOASYN-RXN-POLYMER-INST-CPD66-39-C16-H32/CO-A/ATP//POLYMER-INST-Saturated-Fatty-Acyl-CoA-C16-H32/PPI/AMP.94.",
         "https://biocyc.org/compound?orgid=RUEGERIA_POMEROYI_DSS3&id=POLYMER-INST-Saturated-Fatty-Acyl-CoA-C16-H32",
         "https://biocyc.org/compound?orgid=GCF_000011965&id=POLYMER-INST-Saturated-Fatty-Acyl-CoA-C16-H32"
        ],
        [
         "27",
         "Benzoin[c]",
         "BENZOIN-ALDOLASE-RXN",
         "https://biocyc.org/compound?orgid=RUEGERIA_POMEROYI_DSS3&id=Benzoin",
         "https://biocyc.org/compound?orgid=GCF_000011965&id=Benzoin"
        ],
        [
         "28",
         "biotin-L-lysine-in-BCCP-dimers[c]",
         "RXN0-5055, BIOTIN-CARBOXYL-RXN",
         "https://biocyc.org/compound?orgid=RUEGERIA_POMEROYI_DSS3&id=biotin-L-lysine-in-BCCP-dimers",
         "https://biocyc.org/compound?orgid=GCF_000011965&id=biotin-L-lysine-in-BCCP-dimers"
        ],
        [
         "29",
         "carboxybiotin-L-lysine-in-BCCP-dimers[c]",
         "RXN0-5055, BIOTIN-CARBOXYL-RXN",
         "https://biocyc.org/compound?orgid=RUEGERIA_POMEROYI_DSS3&id=carboxybiotin-L-lysine-in-BCCP-dimers",
         "https://biocyc.org/compound?orgid=GCF_000011965&id=carboxybiotin-L-lysine-in-BCCP-dimers"
        ],
        [
         "30",
         "cdpdhdecg[c]",
         "CDPDIGLYSYN-RXN-2, PHOSPHASERSYN-RXN-2",
         "https://biocyc.org/compound?orgid=RUEGERIA_POMEROYI_DSS3&id=cdpdhdecg",
         "https://biocyc.org/compound?orgid=GCF_000011965&id=cdpdhdecg"
        ],
        [
         "31",
         "N-sulfo-D-glucosamine[c]",
         "N-SULFOGLUCOSAMINE-SULFOHYDROLASE-RXN, DISULFOGLUCOSAMINE-6-SULFATASE-RXN",
         "https://biocyc.org/compound?orgid=RUEGERIA_POMEROYI_DSS3&id=N-sulfo-D-glucosamine",
         "https://biocyc.org/compound?orgid=GCF_000011965&id=N-sulfo-D-glucosamine"
        ],
        [
         "32",
         "N6-O-disulfo-D-glucosamine[c]",
         "RXN-16484, DISULFOGLUCOSAMINE-6-SULFATASE-RXN",
         "https://biocyc.org/compound?orgid=RUEGERIA_POMEROYI_DSS3&id=N6-O-disulfo-D-glucosamine",
         "https://biocyc.org/compound?orgid=GCF_000011965&id=N6-O-disulfo-D-glucosamine"
        ],
        [
         "33",
         "Apo-EntB[c]",
         "ENTDB-RXN",
         "https://biocyc.org/compound?orgid=RUEGERIA_POMEROYI_DSS3&id=Apo-EntB",
         "https://biocyc.org/compound?orgid=GCF_000011965&id=Apo-EntB"
        ],
        [
         "34",
         "Holo-EntB[c]",
         "ENTDB-RXN",
         "https://biocyc.org/compound?orgid=RUEGERIA_POMEROYI_DSS3&id=Holo-EntB",
         "https://biocyc.org/compound?orgid=GCF_000011965&id=Holo-EntB"
        ],
        [
         "35",
         "Holo-EntF[c]",
         "RXN-15889",
         "https://biocyc.org/compound?orgid=RUEGERIA_POMEROYI_DSS3&id=Holo-EntF",
         "https://biocyc.org/compound?orgid=GCF_000011965&id=Holo-EntF"
        ],
        [
         "36",
         "D-glucopyranose-6-phosphate[e]",
         "G6Ptex, EX_g6p",
         "https://biocyc.org/compound?orgid=RUEGERIA_POMEROYI_DSS3&id=D-glucopyranose-6-phosphate",
         "https://biocyc.org/compound?orgid=GCF_000011965&id=D-glucopyranose-6-phosphate"
        ],
        [
         "37",
         "Glucose[e]",
         "GLCtex, EX_glc",
         "https://biocyc.org/compound?orgid=RUEGERIA_POMEROYI_DSS3&id=Glucose",
         "https://biocyc.org/compound?orgid=GCF_000011965&id=Glucose"
        ],
        [
         "38",
         "D-glucopyranose-6-phosphate[p]",
         "G6Ptex",
         "https://biocyc.org/compound?orgid=RUEGERIA_POMEROYI_DSS3&id=D-glucopyranose-6-phosphate",
         "https://biocyc.org/compound?orgid=GCF_000011965&id=D-glucopyranose-6-phosphate"
        ],
        [
         "39",
         "Glucose[p]",
         "RXN1RHL-6, GLCtex",
         "https://biocyc.org/compound?orgid=RUEGERIA_POMEROYI_DSS3&id=Glucose",
         "https://biocyc.org/compound?orgid=GCF_000011965&id=Glucose"
        ],
        [
         "40",
         "D-glucopyranose-6-phosphate[c]",
         "GLU6PDEHYDROG-RXN, GLUCOKIN-RXN-GLC/ATP//D-glucopyranose-6-phosphate/ADP/PROTON.48., GLUCOKIN-RXN-ALPHA-GLUCOSE/ATP//D-glucopyranose-6-phosphate/ADP/PROTON.58., MYO-INOSITOL-1-PHOSPHATE-SYNTHASE-RXN, PHOSPHOGLUCMUT-RXN, GLUCOKIN-RXN, PGLUCISOM-RXN",
         "https://biocyc.org/compound?orgid=RUEGERIA_POMEROYI_DSS3&id=D-glucopyranose-6-phosphate",
         "https://biocyc.org/compound?orgid=GCF_000011965&id=D-glucopyranose-6-phosphate"
        ],
        [
         "41",
         "Glucopyranose[c]",
         "GLUCISOM-RXN",
         "https://biocyc.org/compound?orgid=RUEGERIA_POMEROYI_DSS3&id=Glucopyranose",
         "https://biocyc.org/compound?orgid=GCF_000011965&id=Glucopyranose"
        ],
        [
         "42",
         "Glucose[c]",
         "RXN1RHL-6, GLUCOKIN-RXN",
         "https://biocyc.org/compound?orgid=RUEGERIA_POMEROYI_DSS3&id=Glucose",
         "https://biocyc.org/compound?orgid=GCF_000011965&id=Glucose"
        ],
        [
         "43",
         "Charged-GLT-tRNAs[c]",
         "GLURS-RXN, GLUTRNAREDUCT-RXN",
         "https://biocyc.org/compound?orgid=RUEGERIA_POMEROYI_DSS3&id=Charged-GLT-tRNAs",
         "https://biocyc.org/compound?orgid=GCF_000011965&id=Charged-GLT-tRNAs"
        ],
        [
         "44",
         "GLT-tRNAs[c]",
         "GLURS-RXN, GLUTRNAREDUCT-RXN",
         "https://biocyc.org/compound?orgid=RUEGERIA_POMEROYI_DSS3&id=GLT-tRNAs",
         "https://biocyc.org/compound?orgid=GCF_000011965&id=GLT-tRNAs"
        ],
        [
         "45",
         "Cytochromes-C-Oxidized[p]",
         "CYTOCHROME-C-OXIDASE-RXN, 1.10.2.2-RXN, NITRIC-OXIDE-REDUCTASE-RXN-NITRIC-OXIDE/Cytochromes-C-Reduced/PROTON//NITROUS-OXIDE/Cytochromes-C-Oxidized/WATER.86., RXN-14107, HAONITRO-RXN-Cytochromes-C-Oxidized/HYDROXYLAMINE/WATER//Cytochromes-C-Reduced/NITRITE/PROTON.81.",
         "https://biocyc.org/compound?orgid=RUEGERIA_POMEROYI_DSS3&id=Cytochromes-C-Oxidized",
         "https://biocyc.org/compound?orgid=GCF_000011965&id=Cytochromes-C-Oxidized"
        ],
        [
         "46",
         "Cytochromes-C-Reduced[p]",
         "CYTOCHROME-C-OXIDASE-RXN, 1.10.2.2-RXN, NITRIC-OXIDE-REDUCTASE-RXN-NITRIC-OXIDE/Cytochromes-C-Reduced/PROTON//NITROUS-OXIDE/Cytochromes-C-Oxidized/WATER.86., RXN-14107, HAONITRO-RXN-Cytochromes-C-Oxidized/HYDROXYLAMINE/WATER//Cytochromes-C-Reduced/NITRITE/PROTON.81.",
         "https://biocyc.org/compound?orgid=RUEGERIA_POMEROYI_DSS3&id=Cytochromes-C-Reduced",
         "https://biocyc.org/compound?orgid=GCF_000011965&id=Cytochromes-C-Reduced"
        ],
        [
         "47",
         "a-reduced-NrfB-protein[p]",
         "NITRIC-OXIDE-REDUCTASE-RXN-NITRIC-OXIDE/a-reduced-NrfB-protein/PROTON//NITROUS-OXIDE/an-oxidized-NrfB-protein/WATER.89., RXN-18604, HAONITRO-RXN-an-oxidized-NrfB-protein/HYDROXYLAMINE/WATER//a-reduced-NrfB-protein/NITRITE/PROTON.84.",
         "https://biocyc.org/compound?orgid=RUEGERIA_POMEROYI_DSS3&id=a-reduced-NrfB-protein",
         "https://biocyc.org/compound?orgid=GCF_000011965&id=a-reduced-NrfB-protein"
        ],
        [
         "48",
         "an-oxidized-NrfB-protein[p]",
         "NITRIC-OXIDE-REDUCTASE-RXN-NITRIC-OXIDE/a-reduced-NrfB-protein/PROTON//NITROUS-OXIDE/an-oxidized-NrfB-protein/WATER.89., RXN-18604, HAONITRO-RXN-an-oxidized-NrfB-protein/HYDROXYLAMINE/WATER//a-reduced-NrfB-protein/NITRITE/PROTON.84.",
         "https://biocyc.org/compound?orgid=RUEGERIA_POMEROYI_DSS3&id=an-oxidized-NrfB-protein",
         "https://biocyc.org/compound?orgid=GCF_000011965&id=an-oxidized-NrfB-protein"
        ],
        [
         "49",
         "Myristoyl-ACPs[c]",
         "RXN-9538, MYRPALMTRAN-RXN, RXN-9654, RXN-9539, MYRISTOYLACYLTRAN-RXN, RXN-9662",
         "https://biocyc.org/compound?orgid=RUEGERIA_POMEROYI_DSS3&id=Myristoyl-ACPs",
         "https://biocyc.org/compound?orgid=GCF_000011965&id=Myristoyl-ACPs"
        ]
       ],
       "shape": {
        "columns": 4,
        "rows": 115
       }
      },
      "text/html": [
       "<div>\n",
       "<style scoped>\n",
       "    .dataframe tbody tr th:only-of-type {\n",
       "        vertical-align: middle;\n",
       "    }\n",
       "\n",
       "    .dataframe tbody tr th {\n",
       "        vertical-align: top;\n",
       "    }\n",
       "\n",
       "    .dataframe thead th {\n",
       "        text-align: right;\n",
       "    }\n",
       "</style>\n",
       "<table border=\"1\" class=\"dataframe\">\n",
       "  <thead>\n",
       "    <tr style=\"text-align: right;\">\n",
       "      <th></th>\n",
       "      <th>ID</th>\n",
       "      <th>Reactions</th>\n",
       "      <th>Link 1</th>\n",
       "      <th>Link 2</th>\n",
       "    </tr>\n",
       "  </thead>\n",
       "  <tbody>\n",
       "    <tr>\n",
       "      <th>0</th>\n",
       "      <td>hdeACP[c]</td>\n",
       "      <td>RXN-10462, AACPS4, 1-ACYLGLYCEROL-3-P-ACYLTRAN...</td>\n",
       "      <td>https://biocyc.org/compound?orgid=RUEGERIA_POM...</td>\n",
       "      <td>https://biocyc.org/compound?orgid=GCF_00001196...</td>\n",
       "    </tr>\n",
       "    <tr>\n",
       "      <th>1</th>\n",
       "      <td>Oxidized-ferredoxins[c]</td>\n",
       "      <td>RXN-17472, 1.2.7.4-RXN, RXN-17897, RXN-12691, ...</td>\n",
       "      <td>https://biocyc.org/compound?orgid=RUEGERIA_POM...</td>\n",
       "      <td>https://biocyc.org/compound?orgid=GCF_00001196...</td>\n",
       "    </tr>\n",
       "    <tr>\n",
       "      <th>2</th>\n",
       "      <td>Reduced-ferredoxins[c]</td>\n",
       "      <td>RXN-17472, 1.2.7.4-RXN, RXN-17897, RXN-12691, ...</td>\n",
       "      <td>https://biocyc.org/compound?orgid=RUEGERIA_POM...</td>\n",
       "      <td>https://biocyc.org/compound?orgid=GCF_00001196...</td>\n",
       "    </tr>\n",
       "    <tr>\n",
       "      <th>3</th>\n",
       "      <td>ETF-Oxidized[c]</td>\n",
       "      <td>DIMETHYLGLYCINE-DEHYDROGENASE-RXN, RXN-14262, ...</td>\n",
       "      <td>https://biocyc.org/compound?orgid=RUEGERIA_POM...</td>\n",
       "      <td>https://biocyc.org/compound?orgid=GCF_00001196...</td>\n",
       "    </tr>\n",
       "    <tr>\n",
       "      <th>4</th>\n",
       "      <td>ETF-Reduced[c]</td>\n",
       "      <td>DIMETHYLGLYCINE-DEHYDROGENASE-RXN, RXN-14262, ...</td>\n",
       "      <td>https://biocyc.org/compound?orgid=RUEGERIA_POM...</td>\n",
       "      <td>https://biocyc.org/compound?orgid=GCF_00001196...</td>\n",
       "    </tr>\n",
       "    <tr>\n",
       "      <th>...</th>\n",
       "      <td>...</td>\n",
       "      <td>...</td>\n",
       "      <td>...</td>\n",
       "      <td>...</td>\n",
       "    </tr>\n",
       "    <tr>\n",
       "      <th>110</th>\n",
       "      <td>SoxY-Thiocysteine-Sulfate[c]</td>\n",
       "      <td>RXN-11952, RXN-18798, RXN-11951</td>\n",
       "      <td>https://biocyc.org/compound?orgid=RUEGERIA_POM...</td>\n",
       "      <td>https://biocyc.org/compound?orgid=GCF_00001196...</td>\n",
       "    </tr>\n",
       "    <tr>\n",
       "      <th>111</th>\n",
       "      <td>SoxY-S-Thiocysteine[c]</td>\n",
       "      <td>RXN-11952, RXN-18796</td>\n",
       "      <td>https://biocyc.org/compound?orgid=RUEGERIA_POM...</td>\n",
       "      <td>https://biocyc.org/compound?orgid=GCF_00001196...</td>\n",
       "    </tr>\n",
       "    <tr>\n",
       "      <th>112</th>\n",
       "      <td>SoxY-Thiocysteine-S-Sulfate[c]</td>\n",
       "      <td>RXN-18797, RXN-18796</td>\n",
       "      <td>https://biocyc.org/compound?orgid=RUEGERIA_POM...</td>\n",
       "      <td>https://biocyc.org/compound?orgid=GCF_00001196...</td>\n",
       "    </tr>\n",
       "    <tr>\n",
       "      <th>113</th>\n",
       "      <td>SoxY-S-S-Thiocysteine[c]</td>\n",
       "      <td>RXN-18798, RXN-18797</td>\n",
       "      <td>https://biocyc.org/compound?orgid=RUEGERIA_POM...</td>\n",
       "      <td>https://biocyc.org/compound?orgid=GCF_00001196...</td>\n",
       "    </tr>\n",
       "    <tr>\n",
       "      <th>114</th>\n",
       "      <td>8-Oxo-dGTP[c]</td>\n",
       "      <td>RXN-11396</td>\n",
       "      <td>https://biocyc.org/compound?orgid=RUEGERIA_POM...</td>\n",
       "      <td>https://biocyc.org/compound?orgid=GCF_00001196...</td>\n",
       "    </tr>\n",
       "  </tbody>\n",
       "</table>\n",
       "<p>115 rows × 4 columns</p>\n",
       "</div>"
      ],
      "text/plain": [
       "                                 ID  ...                                             Link 2\n",
       "0                         hdeACP[c]  ...  https://biocyc.org/compound?orgid=GCF_00001196...\n",
       "1           Oxidized-ferredoxins[c]  ...  https://biocyc.org/compound?orgid=GCF_00001196...\n",
       "2            Reduced-ferredoxins[c]  ...  https://biocyc.org/compound?orgid=GCF_00001196...\n",
       "3                   ETF-Oxidized[c]  ...  https://biocyc.org/compound?orgid=GCF_00001196...\n",
       "4                    ETF-Reduced[c]  ...  https://biocyc.org/compound?orgid=GCF_00001196...\n",
       "..                              ...  ...                                                ...\n",
       "110    SoxY-Thiocysteine-Sulfate[c]  ...  https://biocyc.org/compound?orgid=GCF_00001196...\n",
       "111          SoxY-S-Thiocysteine[c]  ...  https://biocyc.org/compound?orgid=GCF_00001196...\n",
       "112  SoxY-Thiocysteine-S-Sulfate[c]  ...  https://biocyc.org/compound?orgid=GCF_00001196...\n",
       "113        SoxY-S-S-Thiocysteine[c]  ...  https://biocyc.org/compound?orgid=GCF_00001196...\n",
       "114                   8-Oxo-dGTP[c]  ...  https://biocyc.org/compound?orgid=GCF_00001196...\n",
       "\n",
       "[115 rows x 4 columns]"
      ]
     },
     "execution_count": 18,
     "metadata": {},
     "output_type": "execute_result"
    }
   ],
   "source": [
    "import pandas as pd\n",
    "\n",
    "# Check for class-looking names\n",
    "suspicious_names = pd.DataFrame([\n",
    "    {\n",
    "        \"ID\": met.id,\n",
    "        \"Reactions\": \", \".join([rxn.id for rxn in met.reactions]),\n",
    "        \"Link 1\": f\"https://biocyc.org/compound?orgid=RUEGERIA_POMEROYI_DSS3&id={met.id[:-3]}\",\n",
    "        \"Link 2\": f\"https://biocyc.org/compound?orgid=GCF_000011965&id={met.id[:-3]}\",\n",
    "    }\n",
    "    for met in model.metabolites\n",
    "    if (met.id[:-3].upper() != met.id[:-3]\n",
    "        and met.id[:-3] != \"Pi\")])\n",
    "\n",
    "suspicious_names.to_clipboard(index=False)\n",
    "suspicious_names"
   ]
  },
  {
   "cell_type": "code",
   "execution_count": 30,
   "id": "b8b6aaa5",
   "metadata": {},
   "outputs": [
    {
     "data": {
      "application/vnd.microsoft.datawrangler.viewer.v0+json": {
       "columns": [
        {
         "name": "index",
         "rawType": "int64",
         "type": "integer"
        },
        {
         "name": "ID",
         "rawType": "object",
         "type": "string"
        },
        {
         "name": "Stem",
         "rawType": "object",
         "type": "string"
        },
        {
         "name": "GPR",
         "rawType": "object",
         "type": "string"
        },
        {
         "name": "Reaction",
         "rawType": "object",
         "type": "string"
        },
        {
         "name": "Glucose flux",
         "rawType": "float64",
         "type": "float"
        }
       ],
       "ref": "3c8d1375-d33e-4dce-8427-2e18354642ec",
       "rows": [
        [
         "87",
         "RXN-14014-DELTA1-PIPERIDEINE-2-6-DICARBOXYLATE/NADP/WATER//CPD-14443/NADPH/PROTON.72.",
         "",
         "",
         "CPD-14443[c] + NADPH[c] + PROTON[c] --> DELTA1-PIPERIDEINE-2-6-DICARBOXYLATE[c] + NADP[c] + WATER[c]",
         "0.16430017962131813"
        ],
        [
         "90",
         "RXN-8775-CPD-654/NAD/WATER//2-KETOGLUTARATE/NADH/PROTON.47.",
         "",
         "",
         "CPD-654[c] + NAD[c] + WATER[c] <=> 2-KETOGLUTARATE[c] + NADH[c] + 2.0 PROTON[c]",
         "0.0"
        ],
        [
         "103",
         "TRANS-RXN1G48-19-OH//OH.7.",
         "",
         "",
         "OH[p] --> OH[c]",
         "0.0"
        ],
        [
         "89",
         "RXN-16032-PALMITYL-COA/CPD0-2113//CPD-17273/CO-A.39.",
         "",
         "",
         "CPD0-2113[c] + PALMITYL-COA[c] <=> CO-A[c] + CPD-17273[c]",
         "0.0"
        ],
        [
         "0",
         "1.4.1.21-RXN-L-ASPARTATE/NAD/WATER//OXALACETIC_ACID/AMMONIUM/NADH/PROTON.60.",
         "1.4.1.21-RXN",
         "SPO_RS14615",
         "L-ASPARTATE[c] + NAD[c] + WATER[c] <=> AMMONIUM[c] + NADH[c] + OXALACETIC_ACID[c] + PROTON[c]",
         "-4.348135669391809"
        ],
        [
         "1",
         "1.4.1.21-RXN-L-ASPARTATE/NADP/WATER//OXALACETIC_ACID/AMMONIUM/NADPH/PROTON.62.",
         "1.4.1.21-RXN",
         "SPO_RS14615",
         "L-ASPARTATE[c] + NADP[c] + WATER[c] <=> AMMONIUM[c] + NADPH[c] + OXALACETIC_ACID[c] + PROTON[c]",
         "0.0"
        ],
        [
         "2",
         "1.5.5.1-RXN-ETF-Reduced/UBIQUINONE-10//ETF-Oxidized/CPD-9958/PROTON.56.",
         "1.5.5.1-RXN",
         "",
         "ETF-Reduced[c] + UBIQUINONE-10[c] --> CPD-9958[c] + ETF-Oxidized[c] + PROTON[c]",
         "0.7385837695142158"
        ],
        [
         "3",
         "1.6.99.5-RXN-NADH/UBIQUINONE-10/PROTON//NAD/CPD-9958.40.",
         "1.6.99.5-RXN",
         "",
         "NADH[c] + 5.0 PROTON[c] + UBIQUINONE-10[c] <=> CPD-9958[c] + NAD[c] + 4.0 PROTON[e]",
         "21.969571876513534"
        ],
        [
         "4",
         "2.6.1.57-RXN-PHE/2-KETOGLUTARATE//PHENYL-PYRUVATE/GLT.41.",
         "2.6.1.57-RXN",
         "SPO3720",
         "2-KETOGLUTARATE[c] + PHE[c] <=> GLT[c] + PHENYL-PYRUVATE[c]",
         "-0.08847478519506313"
        ],
        [
         "5",
         "2.7.1.156-RXN-ITP/ADENOSYLCOBINAMIDE//ADENOSYLCOBINAMIDE-P/IDP/PROTON.56.",
         "2.7.1.156-RXN",
         "SPO_RS02050",
         "ADENOSYLCOBINAMIDE[c] + ITP[c] --> ADENOSYLCOBINAMIDE-P[c] + IDP[c] + PROTON[c]",
         "0.0"
        ],
        [
         "6",
         "5.4.2.10-RXN-CPD-13469//GLUCOSAMINE-1P.26.",
         "5.4.2.10-RXN",
         "SPO1364",
         "CPD-13469[c] <=> GLUCOSAMINE-1P[c]",
         "0.0008417894983022879"
        ],
        [
         "7",
         "ACYLCOADEHYDROG-RXN-POLYMER-INST-Saturated-Fatty-Acyl-CoA-C0-H0/ETF-Oxidized/PROTON//CROTONYL-COA/ETF-Reduced.90.",
         "ACYLCOADEHYDROG-RXN",
         "G1RHL-1790 or SPOA0288 or G1RHL-3261 or SPO0575 or SPO0582 or G1RHL-1483 or G1RHL-1661",
         "ETF-Oxidized[c] + POLYMER-INST-Saturated-Fatty-Acyl-CoA-C0-H0[c] + PROTON[c] --> CROTONYL-COA[c] + ETF-Reduced[c]",
         "0.0"
        ],
        [
         "8",
         "ACYLCOADEHYDROG-RXN-POLYMER-INST-Saturated-Fatty-Acyl-CoA-C16-H32/ETF-Oxidized/PROTON//CPD-14928/ETF-Reduced.89.",
         "ACYLCOADEHYDROG-RXN",
         "G1RHL-1790 or SPOA0288 or G1RHL-3261 or SPO0575 or SPO0582 or G1RHL-1483 or G1RHL-1661",
         "ETF-Oxidized[c] + POLYMER-INST-Saturated-Fatty-Acyl-CoA-C16-H32[c] + PROTON[c] --> CPD-14928[c] + ETF-Reduced[c]",
         "0.0"
        ],
        [
         "9",
         "ACYLCOADEHYDROG-RXN-STEAROYL-COA/ETF-Oxidized/PROTON//POLYMER-INST-TRANS-D2-ENOYL-COA-C14-H28/ETF-Reduced.86.",
         "ACYLCOADEHYDROG-RXN",
         "G1RHL-1790 or SPOA0288 or G1RHL-3261 or SPO0575 or SPO0582 or G1RHL-1483 or G1RHL-1661",
         "ETF-Oxidized[c] + PROTON[c] + STEAROYL-COA[c] --> ETF-Reduced[c] + POLYMER-INST-TRANS-D2-ENOYL-COA-C14-H28[c]",
         "0.0"
        ],
        [
         "10",
         "ACYLCOASYN-RXN-POLYMER-INST-CPD66-39-C0-H0/CO-A/ATP//POLYMER-INST-Saturated-Fatty-Acyl-CoA-C0-H0/PPI/AMP.90.",
         "ACYLCOASYN-RXN",
         "G1RHL-2048 or G1RHL-3161 or G1RHL-538",
         "ATP[c] + CO-A[c] + POLYMER-INST-CPD66-39-C0-H0[c] --> AMP[c] + POLYMER-INST-Saturated-Fatty-Acyl-CoA-C0-H0[c] + PPI[c]",
         "0.0"
        ],
        [
         "11",
         "ACYLCOASYN-RXN-POLYMER-INST-CPD66-39-C10-H20/CO-A/ATP//TETRADECANOYL-COA/PPI/AMP.66.",
         "ACYLCOASYN-RXN",
         "G1RHL-2048 or G1RHL-3161 or G1RHL-538",
         "ATP[c] + CO-A[c] + POLYMER-INST-CPD66-39-C10-H20[c] --> AMP[c] + PPI[c] + TETRADECANOYL-COA[c]",
         "0.0"
        ],
        [
         "12",
         "ACYLCOASYN-RXN-POLYMER-INST-CPD66-39-C16-H32/CO-A/ATP//POLYMER-INST-Saturated-Fatty-Acyl-CoA-C16-H32/PPI/AMP.94.",
         "ACYLCOASYN-RXN",
         "G1RHL-2048 or G1RHL-3161 or G1RHL-538",
         "ATP[c] + CO-A[c] + POLYMER-INST-CPD66-39-C16-H32[c] --> AMP[c] + POLYMER-INST-Saturated-Fatty-Acyl-CoA-C16-H32[c] + PPI[c]",
         "0.0"
        ],
        [
         "13",
         "ACYLCOASYN-RXN-POLYMER-INST-CPD66-39-C2-H4/CO-A/ATP//HEXANOYL-COA/PPI/AMP.59.",
         "ACYLCOASYN-RXN",
         "G1RHL-2048 or G1RHL-3161 or G1RHL-538",
         "ATP[c] + CO-A[c] + POLYMER-INST-CPD66-39-C2-H4[c] --> AMP[c] + HEXANOYL-COA[c] + PPI[c]",
         "0.0"
        ],
        [
         "14",
         "ALCOHOL-DEHYDROG-GENERIC-RXN-OCTANOL/NAD//CPD-371/NADH/PROTON.33.",
         "ALCOHOL-DEHYDROG-GENERIC-RXN",
         "G1RHL-153 or G1RHL-1192 or G1RHL-1427 or G1RHL-2580",
         "NAD[c] + OCTANOL[c] <=> CPD-371[c] + NADH[c] + PROTON[c]",
         "0.0"
        ],
        [
         "15",
         "AMIDASE-RXN-CPD-14534/WATER//GLYCOLLATE/AMMONIUM.37.",
         "AMIDASE-RXN",
         "SPO_RS12825 or SPO_RS13105 or SPO_RS17305",
         "CPD-14534[c] + WATER[c] --> AMMONIUM[c] + GLYCOLATE[c]",
         "0.0"
        ],
        [
         "16",
         "ANTHRANILOYL-COA-MONOOXYGENASE-RXN-2-AMINOBENZOYL-COA/NADH/OXYGEN-MOLECULE/PROTON//2-AMINO-5-OXOCYCLOHEX-1-ENECARBOXYL-COA/NAD/WATER.98.",
         "ANTHRANILOYL-COA-MONOOXYGENASE-RXN",
         "G1RHL-3265",
         "2-AMINOBENZOYL-COA[c] + 2.0 NADH[c] + OXYGEN-MOLECULE[c] + 2.0 PROTON[c] --> 2-AMINO-5-OXOCYCLOHEX-1-ENECARBOXYL-COA[c] + 2.0 NAD[c] + WATER[c]",
         "0.0"
        ],
        [
         "17",
         "ANTHRANILOYL-COA-MONOOXYGENASE-RXN-2-AMINOBENZOYL-COA/NADPH/OXYGEN-MOLECULE/PROTON//2-AMINO-5-OXOCYCLOHEX-1-ENECARBOXYL-COA/NADP/WATER.100.",
         "ANTHRANILOYL-COA-MONOOXYGENASE-RXN",
         "G1RHL-3265",
         "2-AMINOBENZOYL-COA[c] + 2.0 NADPH[c] + OXYGEN-MOLECULE[c] + 2.0 PROTON[c] --> 2-AMINO-5-OXOCYCLOHEX-1-ENECARBOXYL-COA[c] + 2.0 NADP[c] + WATER[c]",
         "0.0"
        ],
        [
         "21",
         "DEOXYCYTIDINE-KINASE-RXN-DEOXYCYTIDINE/DITP//DCMP/CPD0-2231/PROTON.42.",
         "DEOXYCYTIDINE-KINASE-RXN",
         "",
         "DEOXYCYTIDINE[c] + DITP[c] --> CPD0-2231[c] + DCMP[c] + PROTON[c]",
         "0.0"
        ],
        [
         "22",
         "DEOXYCYTIDINE-KINASE-RXN-DEOXYCYTIDINE/DUTP//DCMP/DUDP/PROTON.37.",
         "DEOXYCYTIDINE-KINASE-RXN",
         "",
         "DEOXYCYTIDINE[c] + DUTP[c] --> DCMP[c] + DUDP[c] + PROTON[c]",
         "0.0"
        ],
        [
         "23",
         "DEOXYCYTIDINE-KINASE-RXN-DEOXYCYTIDINE/GTP//DCMP/GDP/PROTON.35.",
         "DEOXYCYTIDINE-KINASE-RXN",
         "",
         "DEOXYCYTIDINE[c] + GTP[c] --> DCMP[c] + GDP[c] + PROTON[c]",
         "0.0"
        ],
        [
         "24",
         "DEOXYCYTIDINE-KINASE-RXN-DEOXYCYTIDINE/ITP//DCMP/IDP/PROTON.35.",
         "DEOXYCYTIDINE-KINASE-RXN",
         "",
         "DEOXYCYTIDINE[c] + ITP[c] --> DCMP[c] + IDP[c] + PROTON[c]",
         "0.0"
        ],
        [
         "25",
         "DEOXYCYTIDINE-KINASE-RXN-DEOXYCYTIDINE/TTP//DCMP/TDP/PROTON.35.",
         "DEOXYCYTIDINE-KINASE-RXN",
         "",
         "DEOXYCYTIDINE[c] + DTTP[c] --> DCMP[c] + PROTON[c] + TDP[c]",
         "0.0"
        ],
        [
         "26",
         "DEOXYCYTIDINE-KINASE-RXN-DEOXYCYTIDINE/UTP//DCMP/UDP/PROTON.35.",
         "DEOXYCYTIDINE-KINASE-RXN",
         "",
         "DEOXYCYTIDINE[c] + UTP[c] --> DCMP[c] + PROTON[c] + UDP[c]",
         "0.0"
        ],
        [
         "19",
         "DEOXYCYTIDINE-KINASE-RXN-DEOXYCYTIDINE/DATP//DCMP/DADP/PROTON.37.",
         "DEOXYCYTIDINE-KINASE-RXN",
         "",
         "DATP[c] + DEOXYCYTIDINE[c] --> DADP[c] + DCMP[c] + PROTON[c]",
         "0.0"
        ],
        [
         "18",
         "DEOXYCYTIDINE-KINASE-RXN-DEOXYCYTIDINE/CTP//DCMP/CDP/PROTON.35.",
         "DEOXYCYTIDINE-KINASE-RXN",
         "",
         "CTP[c] + DEOXYCYTIDINE[c] --> CDP[c] + DCMP[c] + PROTON[c]",
         "0.0"
        ],
        [
         "20",
         "DEOXYCYTIDINE-KINASE-RXN-DEOXYCYTIDINE/DCTP//DCMP/DCDP/PROTON.37.",
         "DEOXYCYTIDINE-KINASE-RXN",
         "",
         "DCTP[c] + DEOXYCYTIDINE[c] --> DCDP[c] + DCMP[c] + PROTON[c]",
         "0.0"
        ],
        [
         "35",
         "ENOYL-COA-DELTA-ISOM-RXN-POLYMER-INST-CIS-DELTA3-ENOYL-COA-C8-H16//CPD-7222.51.",
         "ENOYL-COA-DELTA-ISOM-RXN",
         "SPO0740",
         "POLYMER-INST-CIS-DELTA3-ENOYL-COA-C8-H16[c] --> CPD-7222[c]",
         "0.0"
        ],
        [
         "34",
         "ENOYL-COA-DELTA-ISOM-RXN-POLYMER-INST-CIS-DELTA3-ENOYL-COA-C6-H12//T2-DECENOYL-COA.58.",
         "ENOYL-COA-DELTA-ISOM-RXN",
         "SPO0740",
         "POLYMER-INST-CIS-DELTA3-ENOYL-COA-C6-H12[c] --> T2-DECENOYL-COA[c]",
         "0.0"
        ],
        [
         "28",
         "ENOYL-COA-DELTA-ISOM-RXN-POLYMER-INST-CIS-DELTA3-ENOYL-COA-C10-H20//CPD-15568.53.",
         "ENOYL-COA-DELTA-ISOM-RXN",
         "SPO0740",
         "POLYMER-INST-CIS-DELTA3-ENOYL-COA-C10-H20[c] --> CPD-15568[c]",
         "0.0"
        ],
        [
         "32",
         "ENOYL-COA-DELTA-ISOM-RXN-POLYMER-INST-CIS-DELTA3-ENOYL-COA-C2-H4//CPD0-2121.51.",
         "ENOYL-COA-DELTA-ISOM-RXN",
         "SPO0740",
         "POLYMER-INST-CIS-DELTA3-ENOYL-COA-C2-H4[c] --> CPD0-2121[c]",
         "0.0"
        ],
        [
         "31",
         "ENOYL-COA-DELTA-ISOM-RXN-POLYMER-INST-CIS-DELTA3-ENOYL-COA-C16-H32//CPD-14928.53.",
         "ENOYL-COA-DELTA-ISOM-RXN",
         "SPO0740",
         "POLYMER-INST-CIS-DELTA3-ENOYL-COA-C16-H32[c] --> CPD-14928[c]",
         "0.0"
        ],
        [
         "33",
         "ENOYL-COA-DELTA-ISOM-RXN-POLYMER-INST-CIS-DELTA3-ENOYL-COA-C4-H8//CPD0-2108.51.",
         "ENOYL-COA-DELTA-ISOM-RXN",
         "SPO0740",
         "POLYMER-INST-CIS-DELTA3-ENOYL-COA-C4-H8[c] --> CPD0-2108[c]",
         "0.0"
        ],
        [
         "27",
         "ENOYL-COA-DELTA-ISOM-RXN-POLYMER-INST-CIS-DELTA3-ENOYL-COA-C0-H0//CROTONYL-COA.54.",
         "ENOYL-COA-DELTA-ISOM-RXN",
         "SPO0740",
         "POLYMER-INST-CIS-DELTA3-ENOYL-COA-C0-H0[c] --> CROTONYL-COA[c]",
         "0.0"
        ],
        [
         "29",
         "ENOYL-COA-DELTA-ISOM-RXN-POLYMER-INST-CIS-DELTA3-ENOYL-COA-C12-H24//CPD0-2117.53.",
         "ENOYL-COA-DELTA-ISOM-RXN",
         "SPO0740",
         "POLYMER-INST-CIS-DELTA3-ENOYL-COA-C12-H24[c] <=> CPD0-2117[c]",
         "-0.08645162460246344"
        ],
        [
         "30",
         "ENOYL-COA-DELTA-ISOM-RXN-POLYMER-INST-CIS-DELTA3-ENOYL-COA-C14-H28//POLYMER-INST-TRANS-D2-ENOYL-COA-C14-H28.83.",
         "ENOYL-COA-DELTA-ISOM-RXN",
         "SPO0740",
         "POLYMER-INST-CIS-DELTA3-ENOYL-COA-C14-H28[c] --> POLYMER-INST-TRANS-D2-ENOYL-COA-C14-H28[c]",
         "0.0"
        ],
        [
         "36",
         "ENOYL-COA-HYDRAT-RXN-POLYMER-INST-L-3-HYDROXYACYL-COA-C12-H24//CPD0-2117/WATER.58.",
         "ENOYL-COA-HYDRAT-RXN",
         "SPO0740 or G1RHL-98 or G1RHL-3262",
         "CPD0-2117[c] + WATER[c] --> POLYMER-INST-L-3-HYDROXYACYL-COA-C12-H24[c]",
         "0.0"
        ],
        [
         "37",
         "ENOYL-COA-HYDRAT-RXN-POLYMER-INST-L-3-HYDROXYACYL-COA-C14-H28//POLYMER-INST-TRANS-D2-ENOYL-COA-C14-H28/WATER.88.",
         "ENOYL-COA-HYDRAT-RXN",
         "SPO0740 or G1RHL-98 or G1RHL-3262",
         "POLYMER-INST-TRANS-D2-ENOYL-COA-C14-H28[c] + WATER[c] --> POLYMER-INST-L-3-HYDROXYACYL-COA-C14-H28[c]",
         "0.0"
        ],
        [
         "38",
         "ENOYL-COA-HYDRAT-RXN-POLYMER-INST-L-3-HYDROXYACYL-COA-C16-H32//CPD-14928/WATER.58.",
         "ENOYL-COA-HYDRAT-RXN",
         "SPO0740 or G1RHL-98 or G1RHL-3262",
         "CPD-14928[c] + WATER[c] --> POLYMER-INST-L-3-HYDROXYACYL-COA-C16-H32[c]",
         "0.0"
        ],
        [
         "39",
         "ENOYL-COA-HYDRAT-RXN-POLYMER-INST-L-3-HYDROXYACYL-COA-C4-H8//CPD0-2108/WATER.56.",
         "ENOYL-COA-HYDRAT-RXN",
         "SPO0740 or G1RHL-98 or G1RHL-3262",
         "CPD0-2108[c] + WATER[c] --> POLYMER-INST-L-3-HYDROXYACYL-COA-C4-H8[c]",
         "0.0"
        ],
        [
         "40",
         "ENOYL-COA-HYDRAT-RXN-POLYMER-INST-L-3-HYDROXYACYL-COA-C8-H16//CPD-7222/WATER.56.",
         "ENOYL-COA-HYDRAT-RXN",
         "SPO0740 or G1RHL-98 or G1RHL-3262",
         "CPD-7222[c] + WATER[c] --> POLYMER-INST-L-3-HYDROXYACYL-COA-C8-H16[c]",
         "0.0"
        ],
        [
         "41",
         "GLUCISOM-RXN-ALPHA-GLUCOSE//CPD-15382.25.",
         "GLUCISOM-RXN",
         "SPO0856",
         "ALPHA-GLUCOSE[c] <=> CPD-15382[c]",
         "0.0"
        ],
        [
         "42",
         "GLUCISOM-RXN-GLC//CPD-15382.15.",
         "GLUCISOM-RXN",
         "SPO0856",
         "GLC[c] <=> CPD-15382[c]",
         "0.0"
        ],
        [
         "43",
         "GLUCOKIN-RXN-ALPHA-GLUCOSE/ATP//D-glucopyranose-6-phosphate/ADP/PROTON.58.",
         "GLUCOKIN-RXN",
         "G1RHL-602",
         "ALPHA-GLUCOSE[c] + ATP[c] --> ADP[c] + D-glucopyranose-6-phosphate[c] + PROTON[c]",
         "0.0"
        ],
        [
         "44",
         "GLUCOKIN-RXN-GLC/ATP//D-glucopyranose-6-phosphate/ADP/PROTON.48.",
         "GLUCOKIN-RXN",
         "G1RHL-602",
         "ATP[c] + GLC[c] --> ADP[c] + D-glucopyranose-6-phosphate[c] + PROTON[c]",
         "0.0"
        ],
        [
         "45",
         "GLUCONATE-5-DEHYDROGENASE-RXN-GLUCONATE/NAD//5-DEHYDROGLUCONATE/NADH/PROTON.46.",
         "GLUCONATE-5-DEHYDROGENASE-RXN",
         "SPO0595 or SPO2417",
         "5-DEHYDROGLUCONATE[c] + NADH[c] + PROTON[c] --> GLUCONATE[c] + NAD[c]",
         "0.0"
        ]
       ],
       "shape": {
        "columns": 5,
        "rows": 116
       }
      },
      "text/html": [
       "<div>\n",
       "<style scoped>\n",
       "    .dataframe tbody tr th:only-of-type {\n",
       "        vertical-align: middle;\n",
       "    }\n",
       "\n",
       "    .dataframe tbody tr th {\n",
       "        vertical-align: top;\n",
       "    }\n",
       "\n",
       "    .dataframe thead th {\n",
       "        text-align: right;\n",
       "    }\n",
       "</style>\n",
       "<table border=\"1\" class=\"dataframe\">\n",
       "  <thead>\n",
       "    <tr style=\"text-align: right;\">\n",
       "      <th></th>\n",
       "      <th>ID</th>\n",
       "      <th>Stem</th>\n",
       "      <th>GPR</th>\n",
       "      <th>Reaction</th>\n",
       "      <th>Glucose flux</th>\n",
       "    </tr>\n",
       "  </thead>\n",
       "  <tbody>\n",
       "    <tr>\n",
       "      <th>87</th>\n",
       "      <td>RXN-14014-DELTA1-PIPERIDEINE-2-6-DICARBOXYLATE...</td>\n",
       "      <td></td>\n",
       "      <td></td>\n",
       "      <td>CPD-14443[c] + NADPH[c] + PROTON[c] --&gt; DELTA1...</td>\n",
       "      <td>0.164300</td>\n",
       "    </tr>\n",
       "    <tr>\n",
       "      <th>90</th>\n",
       "      <td>RXN-8775-CPD-654/NAD/WATER//2-KETOGLUTARATE/NA...</td>\n",
       "      <td></td>\n",
       "      <td></td>\n",
       "      <td>CPD-654[c] + NAD[c] + WATER[c] &lt;=&gt; 2-KETOGLUTA...</td>\n",
       "      <td>0.000000</td>\n",
       "    </tr>\n",
       "    <tr>\n",
       "      <th>103</th>\n",
       "      <td>TRANS-RXN1G48-19-OH//OH.7.</td>\n",
       "      <td></td>\n",
       "      <td></td>\n",
       "      <td>OH[p] --&gt; OH[c]</td>\n",
       "      <td>0.000000</td>\n",
       "    </tr>\n",
       "    <tr>\n",
       "      <th>89</th>\n",
       "      <td>RXN-16032-PALMITYL-COA/CPD0-2113//CPD-17273/CO...</td>\n",
       "      <td></td>\n",
       "      <td></td>\n",
       "      <td>CPD0-2113[c] + PALMITYL-COA[c] &lt;=&gt; CO-A[c] + C...</td>\n",
       "      <td>0.000000</td>\n",
       "    </tr>\n",
       "    <tr>\n",
       "      <th>0</th>\n",
       "      <td>1.4.1.21-RXN-L-ASPARTATE/NAD/WATER//OXALACETIC...</td>\n",
       "      <td>1.4.1.21-RXN</td>\n",
       "      <td>SPO_RS14615</td>\n",
       "      <td>L-ASPARTATE[c] + NAD[c] + WATER[c] &lt;=&gt; AMMONIU...</td>\n",
       "      <td>-4.348136</td>\n",
       "    </tr>\n",
       "    <tr>\n",
       "      <th>...</th>\n",
       "      <td>...</td>\n",
       "      <td>...</td>\n",
       "      <td>...</td>\n",
       "      <td>...</td>\n",
       "      <td>...</td>\n",
       "    </tr>\n",
       "    <tr>\n",
       "      <th>111</th>\n",
       "      <td>TRANS-RXN1G48-9-GLT/PROTON//GLT/PROTON.23.</td>\n",
       "      <td>TRANS-RXN1G48-9</td>\n",
       "      <td></td>\n",
       "      <td>GLT[p] + PROTON[p] --&gt; GLT[c] + PROTON[c]</td>\n",
       "      <td>0.000000</td>\n",
       "    </tr>\n",
       "    <tr>\n",
       "      <th>112</th>\n",
       "      <td>TRANS-RXN1G48-9-VAL/PROTON//VAL/PROTON.23.</td>\n",
       "      <td>TRANS-RXN1G48-9</td>\n",
       "      <td></td>\n",
       "      <td>PROTON[p] + VAL[p] --&gt; PROTON[c] + VAL[c]</td>\n",
       "      <td>0.000000</td>\n",
       "    </tr>\n",
       "    <tr>\n",
       "      <th>113</th>\n",
       "      <td>TSA-REDUCT-RXN-GLYCERATE/NADP//TARTRONATE-S-AL...</td>\n",
       "      <td>TSA-REDUCT-RXN</td>\n",
       "      <td>SPO2560</td>\n",
       "      <td>NADPH[c] + PROTON[c] + TARTRONATE-S-ALD[c] --&gt;...</td>\n",
       "      <td>0.000000</td>\n",
       "    </tr>\n",
       "    <tr>\n",
       "      <th>114</th>\n",
       "      <td>XYLISOM-RXN-BETA-D-XYLOSE//D-XYLULOSE.26.</td>\n",
       "      <td>XYLISOM-RXN</td>\n",
       "      <td>SPO0856</td>\n",
       "      <td>BETA-D-XYLOSE[c] &lt;=&gt; D-XYLULOSE[c]</td>\n",
       "      <td>0.000000</td>\n",
       "    </tr>\n",
       "    <tr>\n",
       "      <th>115</th>\n",
       "      <td>XYLISOM-RXN-XYLOSE//D-XYLULOSE.19.</td>\n",
       "      <td>XYLISOM-RXN</td>\n",
       "      <td>SPO0856</td>\n",
       "      <td>XYLOSE[c] &lt;=&gt; D-XYLULOSE[c]</td>\n",
       "      <td>0.000000</td>\n",
       "    </tr>\n",
       "  </tbody>\n",
       "</table>\n",
       "<p>116 rows × 5 columns</p>\n",
       "</div>"
      ],
      "text/plain": [
       "                                                    ID  ... Glucose flux\n",
       "87   RXN-14014-DELTA1-PIPERIDEINE-2-6-DICARBOXYLATE...  ...     0.164300\n",
       "90   RXN-8775-CPD-654/NAD/WATER//2-KETOGLUTARATE/NA...  ...     0.000000\n",
       "103                         TRANS-RXN1G48-19-OH//OH.7.  ...     0.000000\n",
       "89   RXN-16032-PALMITYL-COA/CPD0-2113//CPD-17273/CO...  ...     0.000000\n",
       "0    1.4.1.21-RXN-L-ASPARTATE/NAD/WATER//OXALACETIC...  ...    -4.348136\n",
       "..                                                 ...  ...          ...\n",
       "111         TRANS-RXN1G48-9-GLT/PROTON//GLT/PROTON.23.  ...     0.000000\n",
       "112         TRANS-RXN1G48-9-VAL/PROTON//VAL/PROTON.23.  ...     0.000000\n",
       "113  TSA-REDUCT-RXN-GLYCERATE/NADP//TARTRONATE-S-AL...  ...     0.000000\n",
       "114          XYLISOM-RXN-BETA-D-XYLOSE//D-XYLULOSE.26.  ...     0.000000\n",
       "115                 XYLISOM-RXN-XYLOSE//D-XYLULOSE.19.  ...     0.000000\n",
       "\n",
       "[116 rows x 5 columns]"
      ]
     },
     "execution_count": 30,
     "metadata": {},
     "output_type": "execute_result"
    }
   ],
   "source": [
    "instanced_reactions = pd.DataFrame([\n",
    "    {\n",
    "        \"ID\": rxn.id,\n",
    "        \"Stem\": rxn.annotation.get(\"stem\", \"\"),\n",
    "        \"GPR\": rxn.gene_reaction_rule,\n",
    "        \"Reaction\": rxn.reaction,\n",
    "        \"Glucose flux\": get_glc_flux(rxn.id)\n",
    "    }\n",
    "    for rxn in model.reactions\n",
    "    if \"//\" in rxn.id\n",
    "]).sort_values(\"Stem\")\n",
    "\n",
    "instanced_reactions.to_clipboard(index=False)\n",
    "instanced_reactions"
   ]
  },
  {
   "cell_type": "code",
   "execution_count": 31,
   "id": "9304dbc4",
   "metadata": {},
   "outputs": [
    {
     "ename": "KeyError",
     "evalue": "'NADH-DEHYDROG-A-RXN'",
     "output_type": "error",
     "traceback": [
      "\u001b[31m---------------------------------------------------------------------------\u001b[39m",
      "\u001b[31mKeyError\u001b[39m                                  Traceback (most recent call last)",
      "\u001b[36mCell\u001b[39m\u001b[36m \u001b[39m\u001b[32mIn[31]\u001b[39m\u001b[32m, line 1\u001b[39m\n\u001b[32m----> \u001b[39m\u001b[32m1\u001b[39m \u001b[43mmodel\u001b[49m\u001b[43m.\u001b[49m\u001b[43mreactions\u001b[49m\u001b[43m.\u001b[49m\u001b[43mget_by_id\u001b[49m\u001b[43m(\u001b[49m\u001b[33;43m\"\u001b[39;49m\u001b[33;43mNADH-DEHYDROG-A-RXN\u001b[39;49m\u001b[33;43m\"\u001b[39;49m\u001b[43m)\u001b[49m\n",
      "\u001b[36mFile \u001b[39m\u001b[32m~/.pyenv/versions/3.12.1/envs/rpom/lib/python3.12/site-packages/cobra/core/dictlist.py:73\u001b[39m, in \u001b[36mDictList.get_by_id\u001b[39m\u001b[34m(self, id)\u001b[39m\n\u001b[32m     71\u001b[39m \u001b[38;5;28;01mdef\u001b[39;00m\u001b[38;5;250m \u001b[39m\u001b[34mget_by_id\u001b[39m(\u001b[38;5;28mself\u001b[39m, \u001b[38;5;28mid\u001b[39m: Union[Object, \u001b[38;5;28mstr\u001b[39m]) -> Object:\n\u001b[32m     72\u001b[39m \u001b[38;5;250m    \u001b[39m\u001b[33;03m\"\"\"Return the element with a matching id.\"\"\"\u001b[39;00m\n\u001b[32m---> \u001b[39m\u001b[32m73\u001b[39m     \u001b[38;5;28;01mreturn\u001b[39;00m \u001b[38;5;28mlist\u001b[39m.\u001b[34m__getitem__\u001b[39m(\u001b[38;5;28mself\u001b[39m, \u001b[38;5;28;43mself\u001b[39;49m\u001b[43m.\u001b[49m\u001b[43m_dict\u001b[49m\u001b[43m[\u001b[49m\u001b[38;5;28;43mid\u001b[39;49m\u001b[43m]\u001b[49m)\n",
      "\u001b[31mKeyError\u001b[39m: 'NADH-DEHYDROG-A-RXN'"
     ]
    }
   ],
   "source": [
    "model.reactions.get_by_id(\"NADH-DEHYDROG-A-RXN\")"
   ]
  }
 ],
 "metadata": {
  "kernelspec": {
   "display_name": "Python 3",
   "language": "python",
   "name": "python3"
  },
  "language_info": {
   "codemirror_mode": {
    "name": "ipython",
    "version": 3
   },
   "file_extension": ".py",
   "mimetype": "text/x-python",
   "name": "python",
   "nbconvert_exporter": "python",
   "pygments_lexer": "ipython3",
   "version": "3.12.1"
  }
 },
 "nbformat": 4,
 "nbformat_minor": 5
}
