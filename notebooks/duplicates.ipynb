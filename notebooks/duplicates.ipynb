{
 "cells": [
  {
   "cell_type": "code",
   "execution_count": 112,
   "id": "457c4d76",
   "metadata": {},
   "outputs": [],
   "source": [
    "import sys\n",
    "if \"..\" not in sys.path:\n",
    "    sys.path.insert(0, \"..\")"
   ]
  },
  {
   "cell_type": "code",
   "execution_count": 113,
   "id": "d74083f5",
   "metadata": {},
   "outputs": [
    {
     "name": "stderr",
     "output_type": "stream",
     "text": [
      "https://identifiers.org/stem/ does not conform to 'http(s)://identifiers.org/collection/id' or'http(s)://identifiers.org/COLLECTION:id\n",
      "https://identifiers.org/stem/ does not conform to 'http(s)://identifiers.org/collection/id' or'http(s)://identifiers.org/COLLECTION:id\n",
      "https://identifiers.org/stem/ does not conform to 'http(s)://identifiers.org/collection/id' or'http(s)://identifiers.org/COLLECTION:id\n",
      "https://identifiers.org/stem/ does not conform to 'http(s)://identifiers.org/collection/id' or'http(s)://identifiers.org/COLLECTION:id\n",
      "https://identifiers.org/stem/ does not conform to 'http(s)://identifiers.org/collection/id' or'http(s)://identifiers.org/COLLECTION:id\n",
      "https://identifiers.org/stem/ does not conform to 'http(s)://identifiers.org/collection/id' or'http(s)://identifiers.org/COLLECTION:id\n",
      "https://identifiers.org/stem/ does not conform to 'http(s)://identifiers.org/collection/id' or'http(s)://identifiers.org/COLLECTION:id\n",
      "https://identifiers.org/stem/ does not conform to 'http(s)://identifiers.org/collection/id' or'http(s)://identifiers.org/COLLECTION:id\n",
      "https://identifiers.org/stem/ does not conform to 'http(s)://identifiers.org/collection/id' or'http(s)://identifiers.org/COLLECTION:id\n",
      "https://identifiers.org/stem/ does not conform to 'http(s)://identifiers.org/collection/id' or'http(s)://identifiers.org/COLLECTION:id\n",
      "https://identifiers.org/stem/ does not conform to 'http(s)://identifiers.org/collection/id' or'http(s)://identifiers.org/COLLECTION:id\n",
      "https://identifiers.org/stem/ does not conform to 'http(s)://identifiers.org/collection/id' or'http(s)://identifiers.org/COLLECTION:id\n",
      "https://identifiers.org/stem/ does not conform to 'http(s)://identifiers.org/collection/id' or'http(s)://identifiers.org/COLLECTION:id\n",
      "https://identifiers.org/stem/ does not conform to 'http(s)://identifiers.org/collection/id' or'http(s)://identifiers.org/COLLECTION:id\n",
      "https://identifiers.org/stem/ does not conform to 'http(s)://identifiers.org/collection/id' or'http(s)://identifiers.org/COLLECTION:id\n",
      "https://identifiers.org/stem/ does not conform to 'http(s)://identifiers.org/collection/id' or'http(s)://identifiers.org/COLLECTION:id\n"
     ]
    }
   ],
   "source": [
    "from cobra.io import read_sbml_model\n",
    "\n",
    "model = read_sbml_model(\"../model/Rpom_05.xml\")"
   ]
  },
  {
   "cell_type": "code",
   "execution_count": 114,
   "id": "267e91e0",
   "metadata": {},
   "outputs": [],
   "source": [
    "def get_glc_flux(rxnid):\n",
    "    with model:\n",
    "        model.reactions.get_by_id(\"EX_glc\").bounds = (-5.44, 0)\n",
    "\n",
    "        sol = model.optimize()\n",
    "    return sol.fluxes[rxnid]"
   ]
  },
  {
   "cell_type": "code",
   "execution_count": 115,
   "id": "24b8a251",
   "metadata": {},
   "outputs": [
    {
     "data": {
      "application/vnd.microsoft.datawrangler.viewer.v0+json": {
       "columns": [
        {
         "name": "index",
         "rawType": "int64",
         "type": "integer"
        },
        {
         "name": "ID",
         "rawType": "object",
         "type": "string"
        },
        {
         "name": "Reactions",
         "rawType": "object",
         "type": "string"
        },
        {
         "name": "Link 1",
         "rawType": "object",
         "type": "string"
        },
        {
         "name": "Link 2",
         "rawType": "object",
         "type": "string"
        },
        {
         "name": "Total Abs Flux",
         "rawType": "float64",
         "type": "float"
        }
       ],
       "ref": "1c39f25b-43cb-4806-93b9-bc97dec214b3",
       "rows": [
        [
         "41",
         "Cytochromes-C-Reduced[p]",
         "CYTOCHROME-C-OXIDASE-RXN, NITRIC-OXIDE-REDUCTASE-RXN-NITRIC-OXIDE/Cytochromes-C-Reduced/PROTON//NITROUS-OXIDE/Cytochromes-C-Oxidized/WATER.86., HAONITRO-RXN-Cytochromes-C-Oxidized/HYDROXYLAMINE/WATER//Cytochromes-C-Reduced/NITRITE/PROTON.81., RXN-14107, 1.10.2.2-RXN",
         "https://biocyc.org/compound?orgid=RUEGERIA_POMEROYI_DSS3&id=Cytochromes-C-Reduced",
         "https://biocyc.org/compound?orgid=GCF_000011965&id=Cytochromes-C-Reduced",
         "35.5236922591358"
        ],
        [
         "40",
         "Cytochromes-C-Oxidized[p]",
         "CYTOCHROME-C-OXIDASE-RXN, NITRIC-OXIDE-REDUCTASE-RXN-NITRIC-OXIDE/Cytochromes-C-Reduced/PROTON//NITROUS-OXIDE/Cytochromes-C-Oxidized/WATER.86., HAONITRO-RXN-Cytochromes-C-Oxidized/HYDROXYLAMINE/WATER//Cytochromes-C-Reduced/NITRITE/PROTON.81., RXN-14107, 1.10.2.2-RXN",
         "https://biocyc.org/compound?orgid=RUEGERIA_POMEROYI_DSS3&id=Cytochromes-C-Oxidized",
         "https://biocyc.org/compound?orgid=GCF_000011965&id=Cytochromes-C-Oxidized",
         "35.5236922591358"
        ],
        [
         "37",
         "Glucopyranose[c]",
         "GLUCISOM-RXN, GLUCOKIN-RXN, GLCtpp",
         "https://biocyc.org/compound?orgid=RUEGERIA_POMEROYI_DSS3&id=Glucopyranose",
         "https://biocyc.org/compound?orgid=GCF_000011965&id=Glucopyranose",
         "10.880000000000003"
        ],
        [
         "109",
         "Glucopyranose[p]",
         "GLCtpp, GLCtex",
         "https://biocyc.org/compound?orgid=RUEGERIA_POMEROYI_DSS3&id=Glucopyranose",
         "https://biocyc.org/compound?orgid=GCF_000011965&id=Glucopyranose",
         "10.880000000000003"
        ],
        [
         "110",
         "Glucopyranose[e]",
         "EX_glc, GLCtex",
         "https://biocyc.org/compound?orgid=RUEGERIA_POMEROYI_DSS3&id=Glucopyranose",
         "https://biocyc.org/compound?orgid=GCF_000011965&id=Glucopyranose",
         "10.88"
        ],
        [
         "36",
         "D-glucopyranose-6-phosphate[c]",
         "GLUCOKIN-RXN, PHOSPHOGLUCMUT-RXN, PGLUCISOM-RXN, GLU6PDEHYDROG-RXN, MYO-INOSITOL-1-PHOSPHATE-SYNTHASE-RXN",
         "https://biocyc.org/compound?orgid=RUEGERIA_POMEROYI_DSS3&id=D-glucopyranose-6-phosphate",
         "https://biocyc.org/compound?orgid=GCF_000011965&id=D-glucopyranose-6-phosphate",
         "10.428763780880772"
        ],
        [
         "29",
         "carboxybiotin-L-lysine-in-BCCP-dimers[c]",
         "BIOTIN-CARBOXYL-RXN, RXN0-5055",
         "https://biocyc.org/compound?orgid=RUEGERIA_POMEROYI_DSS3&id=carboxybiotin-L-lysine-in-BCCP-dimers",
         "https://biocyc.org/compound?orgid=GCF_000011965&id=carboxybiotin-L-lysine-in-BCCP-dimers",
         "2.237199863104572"
        ],
        [
         "28",
         "biotin-L-lysine-in-BCCP-dimers[c]",
         "BIOTIN-CARBOXYL-RXN, RXN0-5055",
         "https://biocyc.org/compound?orgid=RUEGERIA_POMEROYI_DSS3&id=biotin-L-lysine-in-BCCP-dimers",
         "https://biocyc.org/compound?orgid=GCF_000011965&id=biotin-L-lysine-in-BCCP-dimers",
         "2.237199863104572"
        ],
        [
         "4",
         "ETF-Reduced[c]",
         "RXN-12572, RXN-17792, RXN-8959, RXN-17775, ACYLCOADEHYDROG-RXN-STEAROYL-COA/ETF-Oxidized/PROTON//POLYMER-INST-TRANS-D2-ENOYL-COA-C14-H28/ETF-Reduced.86., RXN-14131, RXN-14278, RXN-17784, 2-METHYLACYL-COA-DEHYDROGENASE-RXN, RXN-17779, RXN-17783, SARCOSINE-DEHYDROGENASE-RXN, RXN-14262, GLUTARYL-COA-DEHYDROGENASE-RXN, RXN-14229, ACYLCOADEHYDROG-RXN-POLYMER-INST-Saturated-Fatty-Acyl-CoA-C0-H0/ETF-Oxidized/PROTON//CROTONYL-COA/ETF-Reduced.90., 1.5.5.1-RXN-ETF-Reduced/UBIQUINONE-10//ETF-Oxidized/CPD-9958/PROTON.56., LONG-CHAIN-ACYL-COA-DEHYDROGENASE-RXN-PALMITYL-COA/ETF-Oxidized/PROTON//CPD0-2117/ETF-Reduced.56., DIMETHYLGLYCINE-DEHYDROGENASE-RXN, ACYLCOADEHYDROG-RXN-POLYMER-INST-Saturated-Fatty-Acyl-CoA-C16-H32/ETF-Oxidized/PROTON//CPD-14928/ETF-Reduced.89., RXN0-2301, RXN-13615, CROBETREDUCT-RXN, RXN-17788, RXN-17796",
         "https://biocyc.org/compound?orgid=RUEGERIA_POMEROYI_DSS3&id=ETF-Reduced",
         "https://biocyc.org/compound?orgid=GCF_000011965&id=ETF-Reduced",
         "1.477167539028425"
        ],
        [
         "3",
         "ETF-Oxidized[c]",
         "RXN-12572, RXN-17792, RXN-8959, RXN-17775, ACYLCOADEHYDROG-RXN-STEAROYL-COA/ETF-Oxidized/PROTON//POLYMER-INST-TRANS-D2-ENOYL-COA-C14-H28/ETF-Reduced.86., RXN-14131, RXN-14278, RXN-17784, 2-METHYLACYL-COA-DEHYDROGENASE-RXN, RXN-17779, RXN-17783, SARCOSINE-DEHYDROGENASE-RXN, RXN-14262, GLUTARYL-COA-DEHYDROGENASE-RXN, RXN-14229, ACYLCOADEHYDROG-RXN-POLYMER-INST-Saturated-Fatty-Acyl-CoA-C0-H0/ETF-Oxidized/PROTON//CROTONYL-COA/ETF-Reduced.90., 1.5.5.1-RXN-ETF-Reduced/UBIQUINONE-10//ETF-Oxidized/CPD-9958/PROTON.56., LONG-CHAIN-ACYL-COA-DEHYDROGENASE-RXN-PALMITYL-COA/ETF-Oxidized/PROTON//CPD0-2117/ETF-Reduced.56., DIMETHYLGLYCINE-DEHYDROGENASE-RXN, ACYLCOADEHYDROG-RXN-POLYMER-INST-Saturated-Fatty-Acyl-CoA-C16-H32/ETF-Oxidized/PROTON//CPD-14928/ETF-Reduced.89., RXN0-2301, RXN-13615, CROBETREDUCT-RXN, RXN-17788, RXN-17796",
         "https://biocyc.org/compound?orgid=RUEGERIA_POMEROYI_DSS3&id=ETF-Oxidized",
         "https://biocyc.org/compound?orgid=GCF_000011965&id=ETF-Oxidized",
         "1.477167539028425"
        ],
        [
         "15",
         "Crotonyl-ACPs[c]",
         "RXN-9657, RXN-9515, 4.2.1.58-RXN",
         "https://biocyc.org/compound?orgid=RUEGERIA_POMEROYI_DSS3&id=Crotonyl-ACPs",
         "https://biocyc.org/compound?orgid=GCF_000011965&id=Crotonyl-ACPs",
         "0.31959998044351046"
        ],
        [
         "14",
         "Beta-3-hydroxybutyryl-ACPs[c]",
         "RXN-9514, RXN-10026, 4.2.1.58-RXN",
         "https://biocyc.org/compound?orgid=RUEGERIA_POMEROYI_DSS3&id=Beta-3-hydroxybutyryl-ACPs",
         "https://biocyc.org/compound?orgid=GCF_000011965&id=Beta-3-hydroxybutyryl-ACPs",
         "0.3195999804435104"
        ],
        [
         "55",
         "Butanoyl-ACPs[c]",
         "RXN-9657, RXN-10024, RXN-9515, RXN-9648, RXN-9516",
         "https://biocyc.org/compound?orgid=RUEGERIA_POMEROYI_DSS3&id=Butanoyl-ACPs",
         "https://biocyc.org/compound?orgid=GCF_000011965&id=Butanoyl-ACPs",
         "0.3195999804435104"
        ],
        [
         "85",
         "Trans-D2-decenoyl-ACPs[c]",
         "RXN-9660, RXN-9655, RXN-9530",
         "https://biocyc.org/compound?orgid=RUEGERIA_POMEROYI_DSS3&id=Trans-D2-decenoyl-ACPs",
         "https://biocyc.org/compound?orgid=GCF_000011965&id=Trans-D2-decenoyl-ACPs",
         "0.31959998044351035"
        ],
        [
         "53",
         "3-oxo-hexanoyl-ACPs[c]",
         "RXN-9516, RXN-10022, RXN-9518, RXN-9648",
         "https://biocyc.org/compound?orgid=RUEGERIA_POMEROYI_DSS3&id=3-oxo-hexanoyl-ACPs",
         "https://biocyc.org/compound?orgid=GCF_000011965&id=3-oxo-hexanoyl-ACPs",
         "0.31959998044351035"
        ],
        [
         "52",
         "3-Oxo-octanoyl-ACPs[c]",
         "RXN-9524, RXN-9523, RXN-10020",
         "https://biocyc.org/compound?orgid=RUEGERIA_POMEROYI_DSS3&id=3-Oxo-octanoyl-ACPs",
         "https://biocyc.org/compound?orgid=GCF_000011965&id=3-Oxo-octanoyl-ACPs",
         "0.31959998044351035"
        ],
        [
         "80",
         "Hex-2-enoyl-ACPs[c]",
         "RXN-9520, RXN-9658",
         "https://biocyc.org/compound?orgid=RUEGERIA_POMEROYI_DSS3&id=Hex-2-enoyl-ACPs",
         "https://biocyc.org/compound?orgid=GCF_000011965&id=Hex-2-enoyl-ACPs",
         "0.31959998044351035"
        ],
        [
         "81",
         "Hexanoyl-ACPs[c]",
         "RXN-9523, RXN-9658",
         "https://biocyc.org/compound?orgid=RUEGERIA_POMEROYI_DSS3&id=Hexanoyl-ACPs",
         "https://biocyc.org/compound?orgid=GCF_000011965&id=Hexanoyl-ACPs",
         "0.31959998044351035"
        ],
        [
         "82",
         "3-oxo-decanoyl-ACPs[c]",
         "RXN-9527, RXN-9528",
         "https://biocyc.org/compound?orgid=RUEGERIA_POMEROYI_DSS3&id=3-oxo-decanoyl-ACPs",
         "https://biocyc.org/compound?orgid=GCF_000011965&id=3-oxo-decanoyl-ACPs",
         "0.31959998044351035"
        ],
        [
         "83",
         "Beta-hydroxydecanoyl-ACPs[c]",
         "RXN-9655, RXN-9528",
         "https://biocyc.org/compound?orgid=RUEGERIA_POMEROYI_DSS3&id=Beta-hydroxydecanoyl-ACPs",
         "https://biocyc.org/compound?orgid=GCF_000011965&id=Beta-hydroxydecanoyl-ACPs",
         "0.31959998044351035"
        ],
        [
         "79",
         "R-3-hydroxyhexanoyl-ACPs[c]",
         "RXN-9520, RXN-9518",
         "https://biocyc.org/compound?orgid=RUEGERIA_POMEROYI_DSS3&id=R-3-hydroxyhexanoyl-ACPs",
         "https://biocyc.org/compound?orgid=GCF_000011965&id=R-3-hydroxyhexanoyl-ACPs",
         "0.31959998044351035"
        ],
        [
         "56",
         "Octanoyl-ACPs[c]",
         "RXN-10025, RXN-9526, RXN-9527, RXN-9659",
         "https://biocyc.org/compound?orgid=RUEGERIA_POMEROYI_DSS3&id=Octanoyl-ACPs",
         "https://biocyc.org/compound?orgid=GCF_000011965&id=Octanoyl-ACPs",
         "0.31959998044351035"
        ],
        [
         "7",
         "Acetoacetyl-ACPs[c]",
         "2.3.1.180-RXN, RXN-9514",
         "https://biocyc.org/compound?orgid=RUEGERIA_POMEROYI_DSS3&id=Acetoacetyl-ACPs",
         "https://biocyc.org/compound?orgid=GCF_000011965&id=Acetoacetyl-ACPs",
         "0.31959998044351035"
        ],
        [
         "17",
         "3-Hydroxy-octanoyl-ACPs[c]",
         "RXN-9524, 4.2.1.59-RXN",
         "https://biocyc.org/compound?orgid=RUEGERIA_POMEROYI_DSS3&id=3-Hydroxy-octanoyl-ACPs",
         "https://biocyc.org/compound?orgid=GCF_000011965&id=3-Hydroxy-octanoyl-ACPs",
         "0.31959998044351035"
        ],
        [
         "16",
         "2-Octenoyl-ACPs[c]",
         "RXN-9526, 4.2.1.59-RXN, RXN-9659",
         "https://biocyc.org/compound?orgid=RUEGERIA_POMEROYI_DSS3&id=2-Octenoyl-ACPs",
         "https://biocyc.org/compound?orgid=GCF_000011965&id=2-Octenoyl-ACPs",
         "0.31959998044351035"
        ],
        [
         "84",
         "Decanoyl-ACPs[c]",
         "RXN-9660, RXN-9531, RXN-9530",
         "https://biocyc.org/compound?orgid=RUEGERIA_POMEROYI_DSS3&id=Decanoyl-ACPs",
         "https://biocyc.org/compound?orgid=GCF_000011965&id=Decanoyl-ACPs",
         "0.3195999804435103"
        ],
        [
         "86",
         "R-3-hydroxydodecanoyl-ACPs[c]",
         "RXN-9532, RXN-9533",
         "https://biocyc.org/compound?orgid=RUEGERIA_POMEROYI_DSS3&id=R-3-hydroxydodecanoyl-ACPs",
         "https://biocyc.org/compound?orgid=GCF_000011965&id=R-3-hydroxydodecanoyl-ACPs",
         "0.31959998044351023"
        ],
        [
         "12",
         "Dodecanoyl-ACPs[c]",
         "RXN-9653, RXN-9661, RXN-9535, LAUROYLACYLTRAN-RXN, 3.1.2.21-RXN, RXN-9534",
         "https://biocyc.org/compound?orgid=RUEGERIA_POMEROYI_DSS3&id=Dodecanoyl-ACPs",
         "https://biocyc.org/compound?orgid=GCF_000011965&id=Dodecanoyl-ACPs",
         "0.31959998044351023"
        ],
        [
         "54",
         "3-oxo-dodecanoyl-ACPs[c]",
         "RXN-9531, RXN-9532, RXN-10023",
         "https://biocyc.org/compound?orgid=RUEGERIA_POMEROYI_DSS3&id=3-oxo-dodecanoyl-ACPs",
         "https://biocyc.org/compound?orgid=GCF_000011965&id=3-oxo-dodecanoyl-ACPs",
         "0.31959998044351023"
        ],
        [
         "87",
         "Dodec-2-enoyl-ACPs[c]",
         "RXN-9661, RXN-9534, RXN-9533",
         "https://biocyc.org/compound?orgid=RUEGERIA_POMEROYI_DSS3&id=Dodec-2-enoyl-ACPs",
         "https://biocyc.org/compound?orgid=GCF_000011965&id=Dodec-2-enoyl-ACPs",
         "0.31959998044351023"
        ],
        [
         "88",
         "3-oxo-myristoyl-ACPs[c]",
         "RXN-9535, RXN-9536, RXN-9653",
         "https://biocyc.org/compound?orgid=RUEGERIA_POMEROYI_DSS3&id=3-oxo-myristoyl-ACPs",
         "https://biocyc.org/compound?orgid=GCF_000011965&id=3-oxo-myristoyl-ACPs",
         "0.31959998044351023"
        ],
        [
         "89",
         "R-3-hydroxymyristoyl-ACPs[c]",
         "RXN-9536, UDPHYDROXYMYRGLUCOSAMNACETYLTRANS-RXN, UDPNACETYLGLUCOSAMACYLTRANS-RXN, RXN-9537",
         "https://biocyc.org/compound?orgid=RUEGERIA_POMEROYI_DSS3&id=R-3-hydroxymyristoyl-ACPs",
         "https://biocyc.org/compound?orgid=GCF_000011965&id=R-3-hydroxymyristoyl-ACPs",
         "0.3195999804435102"
        ],
        [
         "90",
         "Tetradec-2-enoyl-ACPs[c]",
         "RXN-9662, RXN-9538, RXN-9537",
         "https://biocyc.org/compound?orgid=RUEGERIA_POMEROYI_DSS3&id=Tetradec-2-enoyl-ACPs",
         "https://biocyc.org/compound?orgid=GCF_000011965&id=Tetradec-2-enoyl-ACPs",
         "0.3195999804435102"
        ],
        [
         "18",
         "2-Hexadecenoyl-ACPs[c]",
         "4.2.1.61-RXN, RXN-9663, RXN-9542",
         "https://biocyc.org/compound?orgid=RUEGERIA_POMEROYI_DSS3&id=2-Hexadecenoyl-ACPs",
         "https://biocyc.org/compound?orgid=GCF_000011965&id=2-Hexadecenoyl-ACPs",
         "0.3195999804435102"
        ],
        [
         "91",
         "3-oxo-palmitoyl-ACPs[c]",
         "RXN-9654, RXN-9540, RXN-9539",
         "https://biocyc.org/compound?orgid=RUEGERIA_POMEROYI_DSS3&id=3-oxo-palmitoyl-ACPs",
         "https://biocyc.org/compound?orgid=GCF_000011965&id=3-oxo-palmitoyl-ACPs",
         "0.3195999804435102"
        ],
        [
         "19",
         "R-3-Hydroxypalmitoyl-ACPs[c]",
         "4.2.1.61-RXN, RXN-9540",
         "https://biocyc.org/compound?orgid=RUEGERIA_POMEROYI_DSS3&id=R-3-Hydroxypalmitoyl-ACPs",
         "https://biocyc.org/compound?orgid=GCF_000011965&id=R-3-Hydroxypalmitoyl-ACPs",
         "0.3195999804435102"
        ],
        [
         "44",
         "Myristoyl-ACPs[c]",
         "MYRPALMTRAN-RXN, RXN-9538, RXN-9539, RXN-9654, MYRISTOYLACYLTRAN-RXN, RXN-9662",
         "https://biocyc.org/compound?orgid=RUEGERIA_POMEROYI_DSS3&id=Myristoyl-ACPs",
         "https://biocyc.org/compound?orgid=GCF_000011965&id=Myristoyl-ACPs",
         "0.3195999804435102"
        ],
        [
         "77",
         "Palmitoyl-ACPs[c]",
         "RXN-9632, RXN-9663, RXN-9542, RXN-16025, RXN-9549, RXN0-6705, RXN-17018, RXN3O-1803",
         "https://biocyc.org/compound?orgid=RUEGERIA_POMEROYI_DSS3&id=Palmitoyl-ACPs",
         "https://biocyc.org/compound?orgid=GCF_000011965&id=Palmitoyl-ACPs",
         "0.3195999804435101"
        ],
        [
         "6",
         "Red-Thioredoxin[c]",
         "UDPREDUCT-RXN, RIBONUCLEOSIDE-DIP-REDUCTI-RXN-CPD0-2231/Ox-Thioredoxin/WATER//IDP/Red-Thioredoxin.52., GDPREDUCT-RXN, THIOREDOXIN-REDUCT-NADPH-RXN, CDPREDUCT-RXN, ADPREDUCT-RXN, 1.8.4.8-RXN",
         "https://biocyc.org/compound?orgid=RUEGERIA_POMEROYI_DSS3&id=Red-Thioredoxin",
         "https://biocyc.org/compound?orgid=GCF_000011965&id=Red-Thioredoxin",
         "0.23517586415735203"
        ],
        [
         "5",
         "Ox-Thioredoxin[c]",
         "UDPREDUCT-RXN, RIBONUCLEOSIDE-DIP-REDUCTI-RXN-CPD0-2231/Ox-Thioredoxin/WATER//IDP/Red-Thioredoxin.52., GDPREDUCT-RXN, THIOREDOXIN-REDUCT-NADPH-RXN, CDPREDUCT-RXN, ADPREDUCT-RXN, 1.8.4.8-RXN",
         "https://biocyc.org/compound?orgid=RUEGERIA_POMEROYI_DSS3&id=Ox-Thioredoxin",
         "https://biocyc.org/compound?orgid=GCF_000011965&id=Ox-Thioredoxin",
         "0.23517586415735203"
        ],
        [
         "0",
         "hdeACP[c]",
         "AACPS4, RXN-10462, 1-ACYLGLYCEROL-3-P-ACYLTRANSFER-RXN",
         "https://biocyc.org/compound?orgid=RUEGERIA_POMEROYI_DSS3&id=hdeACP",
         "https://biocyc.org/compound?orgid=GCF_000011965&id=hdeACP",
         "0.17290324920492647"
        ],
        [
         "22",
         "hdcea[c]",
         "AACPS4, FACOAE161",
         "https://biocyc.org/compound?orgid=RUEGERIA_POMEROYI_DSS3&id=hdcea",
         "https://biocyc.org/compound?orgid=GCF_000011965&id=hdcea",
         "0.17290324920492622"
        ],
        [
         "2",
         "Reduced-ferredoxins[c]",
         "RXN-17472, ISPH2-RXN, RXN0-884, RXN-17897, 1.2.7.8-RXN, RXN-12691, RXN-5061, RXN0-882, 1.2.7.4-RXN, 2.8.1.6-RXN",
         "https://biocyc.org/compound?orgid=RUEGERIA_POMEROYI_DSS3&id=Reduced-ferredoxins",
         "https://biocyc.org/compound?orgid=GCF_000011965&id=Reduced-ferredoxins",
         "0.152535644770199"
        ],
        [
         "1",
         "Oxidized-ferredoxins[c]",
         "RXN-17472, ISPH2-RXN, RXN0-884, RXN-17897, 1.2.7.8-RXN, RXN-12691, RXN-5061, RXN0-882, 1.2.7.4-RXN, 2.8.1.6-RXN",
         "https://biocyc.org/compound?orgid=RUEGERIA_POMEROYI_DSS3&id=Oxidized-ferredoxins",
         "https://biocyc.org/compound?orgid=GCF_000011965&id=Oxidized-ferredoxins",
         "0.152535644770199"
        ],
        [
         "49",
         "Menaquinols[c]",
         "RXN-18604, R601-RXN, RXN-14107, RXN0-6554, RXN-15740",
         "https://biocyc.org/compound?orgid=RUEGERIA_POMEROYI_DSS3&id=Menaquinols",
         "https://biocyc.org/compound?orgid=GCF_000011965&id=Menaquinols",
         "0.1515362835834636"
        ],
        [
         "50",
         "Menaquinones[c]",
         "RXN-18604, R601-RXN, RXN-14107, RXN0-6554, RXN-15740",
         "https://biocyc.org/compound?orgid=RUEGERIA_POMEROYI_DSS3&id=Menaquinones",
         "https://biocyc.org/compound?orgid=GCF_000011965&id=Menaquinones",
         "0.1515362835834636"
        ],
        [
         "47",
         "Oxidized-NrdH-Proteins[c]",
         "PRODISULFREDUCT-A-RXN-GLUTATHIONE/Oxidized-NrdH-Proteins//OXIDIZED-GLUTATHIONE/Reduced-NrdH-Proteins.79., RXN0-748, RXN0-722, RIBONUCLEOSIDE-DIP-REDUCTII-RXN, RXN0-747",
         "https://biocyc.org/compound?orgid=RUEGERIA_POMEROYI_DSS3&id=Oxidized-NrdH-Proteins",
         "https://biocyc.org/compound?orgid=GCF_000011965&id=Oxidized-NrdH-Proteins",
         "0.12292006344117751"
        ],
        [
         "48",
         "Reduced-NrdH-Proteins[c]",
         "PRODISULFREDUCT-A-RXN-GLUTATHIONE/Oxidized-NrdH-Proteins//OXIDIZED-GLUTATHIONE/Reduced-NrdH-Proteins.79., RXN0-748, RXN0-722, RIBONUCLEOSIDE-DIP-REDUCTII-RXN, RXN0-747",
         "https://biocyc.org/compound?orgid=RUEGERIA_POMEROYI_DSS3&id=Reduced-NrdH-Proteins",
         "https://biocyc.org/compound?orgid=GCF_000011965&id=Reduced-NrdH-Proteins",
         "0.12292006344117751"
        ],
        [
         "30",
         "cdpdhdecg[c]",
         "CDPDIGLYSYN-RXN-2, PHOSPHASERSYN-RXN-2",
         "https://biocyc.org/compound?orgid=RUEGERIA_POMEROYI_DSS3&id=cdpdhdecg",
         "https://biocyc.org/compound?orgid=GCF_000011965&id=cdpdhdecg",
         "0.07334836561929191"
        ],
        [
         "13",
         "4-hydroxybenzoate[c]",
         "CHORPYRLY-RXN, 2.5.1.39-RXN, 4OHBENZOATE-OCTAPRENYLTRANSFER-RXN, RXN-9222, RXN-9230, RXN-9003, 4-HYDROXYBENZOATE-3-MONOOXYGENASE-RXN",
         "https://biocyc.org/compound?orgid=RUEGERIA_POMEROYI_DSS3&id=4-hydroxybenzoate",
         "https://biocyc.org/compound?orgid=GCF_000011965&id=4-hydroxybenzoate",
         "0.0002563181234708333"
        ]
       ],
       "shape": {
        "columns": 5,
        "rows": 112
       }
      },
      "text/html": [
       "<div>\n",
       "<style scoped>\n",
       "    .dataframe tbody tr th:only-of-type {\n",
       "        vertical-align: middle;\n",
       "    }\n",
       "\n",
       "    .dataframe tbody tr th {\n",
       "        vertical-align: top;\n",
       "    }\n",
       "\n",
       "    .dataframe thead th {\n",
       "        text-align: right;\n",
       "    }\n",
       "</style>\n",
       "<table border=\"1\" class=\"dataframe\">\n",
       "  <thead>\n",
       "    <tr style=\"text-align: right;\">\n",
       "      <th></th>\n",
       "      <th>ID</th>\n",
       "      <th>Reactions</th>\n",
       "      <th>Link 1</th>\n",
       "      <th>Link 2</th>\n",
       "      <th>Total Abs Flux</th>\n",
       "    </tr>\n",
       "  </thead>\n",
       "  <tbody>\n",
       "    <tr>\n",
       "      <th>41</th>\n",
       "      <td>Cytochromes-C-Reduced[p]</td>\n",
       "      <td>CYTOCHROME-C-OXIDASE-RXN, NITRIC-OXIDE-REDUCTA...</td>\n",
       "      <td>https://biocyc.org/compound?orgid=RUEGERIA_POM...</td>\n",
       "      <td>https://biocyc.org/compound?orgid=GCF_00001196...</td>\n",
       "      <td>35.523692</td>\n",
       "    </tr>\n",
       "    <tr>\n",
       "      <th>40</th>\n",
       "      <td>Cytochromes-C-Oxidized[p]</td>\n",
       "      <td>CYTOCHROME-C-OXIDASE-RXN, NITRIC-OXIDE-REDUCTA...</td>\n",
       "      <td>https://biocyc.org/compound?orgid=RUEGERIA_POM...</td>\n",
       "      <td>https://biocyc.org/compound?orgid=GCF_00001196...</td>\n",
       "      <td>35.523692</td>\n",
       "    </tr>\n",
       "    <tr>\n",
       "      <th>37</th>\n",
       "      <td>Glucopyranose[c]</td>\n",
       "      <td>GLUCISOM-RXN, GLUCOKIN-RXN, GLCtpp</td>\n",
       "      <td>https://biocyc.org/compound?orgid=RUEGERIA_POM...</td>\n",
       "      <td>https://biocyc.org/compound?orgid=GCF_00001196...</td>\n",
       "      <td>10.880000</td>\n",
       "    </tr>\n",
       "    <tr>\n",
       "      <th>109</th>\n",
       "      <td>Glucopyranose[p]</td>\n",
       "      <td>GLCtpp, GLCtex</td>\n",
       "      <td>https://biocyc.org/compound?orgid=RUEGERIA_POM...</td>\n",
       "      <td>https://biocyc.org/compound?orgid=GCF_00001196...</td>\n",
       "      <td>10.880000</td>\n",
       "    </tr>\n",
       "    <tr>\n",
       "      <th>110</th>\n",
       "      <td>Glucopyranose[e]</td>\n",
       "      <td>EX_glc, GLCtex</td>\n",
       "      <td>https://biocyc.org/compound?orgid=RUEGERIA_POM...</td>\n",
       "      <td>https://biocyc.org/compound?orgid=GCF_00001196...</td>\n",
       "      <td>10.880000</td>\n",
       "    </tr>\n",
       "    <tr>\n",
       "      <th>...</th>\n",
       "      <td>...</td>\n",
       "      <td>...</td>\n",
       "      <td>...</td>\n",
       "      <td>...</td>\n",
       "      <td>...</td>\n",
       "    </tr>\n",
       "    <tr>\n",
       "      <th>73</th>\n",
       "      <td>Vernolates[c]</td>\n",
       "      <td>RXN-12134</td>\n",
       "      <td>https://biocyc.org/compound?orgid=RUEGERIA_POM...</td>\n",
       "      <td>https://biocyc.org/compound?orgid=GCF_00001196...</td>\n",
       "      <td>0.000000</td>\n",
       "    </tr>\n",
       "    <tr>\n",
       "      <th>74</th>\n",
       "      <td>D-Xylopyranose[c]</td>\n",
       "      <td>XYLISOM-RXN, RXN-14503</td>\n",
       "      <td>https://biocyc.org/compound?orgid=RUEGERIA_POM...</td>\n",
       "      <td>https://biocyc.org/compound?orgid=GCF_00001196...</td>\n",
       "      <td>0.000000</td>\n",
       "    </tr>\n",
       "    <tr>\n",
       "      <th>75</th>\n",
       "      <td>Apo-EntF[c]</td>\n",
       "      <td>RXN-15889</td>\n",
       "      <td>https://biocyc.org/compound?orgid=RUEGERIA_POM...</td>\n",
       "      <td>https://biocyc.org/compound?orgid=GCF_00001196...</td>\n",
       "      <td>0.000000</td>\n",
       "    </tr>\n",
       "    <tr>\n",
       "      <th>42</th>\n",
       "      <td>a-reduced-NrfB-protein[p]</td>\n",
       "      <td>NITRIC-OXIDE-REDUCTASE-RXN-NITRIC-OXIDE/a-redu...</td>\n",
       "      <td>https://biocyc.org/compound?orgid=RUEGERIA_POM...</td>\n",
       "      <td>https://biocyc.org/compound?orgid=GCF_00001196...</td>\n",
       "      <td>0.000000</td>\n",
       "    </tr>\n",
       "    <tr>\n",
       "      <th>111</th>\n",
       "      <td>8-Oxo-dGTP[c]</td>\n",
       "      <td>RXN-11396</td>\n",
       "      <td>https://biocyc.org/compound?orgid=RUEGERIA_POM...</td>\n",
       "      <td>https://biocyc.org/compound?orgid=GCF_00001196...</td>\n",
       "      <td>0.000000</td>\n",
       "    </tr>\n",
       "  </tbody>\n",
       "</table>\n",
       "<p>112 rows × 5 columns</p>\n",
       "</div>"
      ],
      "text/plain": [
       "                            ID  \\\n",
       "41    Cytochromes-C-Reduced[p]   \n",
       "40   Cytochromes-C-Oxidized[p]   \n",
       "37            Glucopyranose[c]   \n",
       "109           Glucopyranose[p]   \n",
       "110           Glucopyranose[e]   \n",
       "..                         ...   \n",
       "73               Vernolates[c]   \n",
       "74           D-Xylopyranose[c]   \n",
       "75                 Apo-EntF[c]   \n",
       "42   a-reduced-NrfB-protein[p]   \n",
       "111              8-Oxo-dGTP[c]   \n",
       "\n",
       "                                             Reactions  \\\n",
       "41   CYTOCHROME-C-OXIDASE-RXN, NITRIC-OXIDE-REDUCTA...   \n",
       "40   CYTOCHROME-C-OXIDASE-RXN, NITRIC-OXIDE-REDUCTA...   \n",
       "37                  GLUCISOM-RXN, GLUCOKIN-RXN, GLCtpp   \n",
       "109                                     GLCtpp, GLCtex   \n",
       "110                                     EX_glc, GLCtex   \n",
       "..                                                 ...   \n",
       "73                                           RXN-12134   \n",
       "74                              XYLISOM-RXN, RXN-14503   \n",
       "75                                           RXN-15889   \n",
       "42   NITRIC-OXIDE-REDUCTASE-RXN-NITRIC-OXIDE/a-redu...   \n",
       "111                                          RXN-11396   \n",
       "\n",
       "                                                Link 1  \\\n",
       "41   https://biocyc.org/compound?orgid=RUEGERIA_POM...   \n",
       "40   https://biocyc.org/compound?orgid=RUEGERIA_POM...   \n",
       "37   https://biocyc.org/compound?orgid=RUEGERIA_POM...   \n",
       "109  https://biocyc.org/compound?orgid=RUEGERIA_POM...   \n",
       "110  https://biocyc.org/compound?orgid=RUEGERIA_POM...   \n",
       "..                                                 ...   \n",
       "73   https://biocyc.org/compound?orgid=RUEGERIA_POM...   \n",
       "74   https://biocyc.org/compound?orgid=RUEGERIA_POM...   \n",
       "75   https://biocyc.org/compound?orgid=RUEGERIA_POM...   \n",
       "42   https://biocyc.org/compound?orgid=RUEGERIA_POM...   \n",
       "111  https://biocyc.org/compound?orgid=RUEGERIA_POM...   \n",
       "\n",
       "                                                Link 2  Total Abs Flux  \n",
       "41   https://biocyc.org/compound?orgid=GCF_00001196...       35.523692  \n",
       "40   https://biocyc.org/compound?orgid=GCF_00001196...       35.523692  \n",
       "37   https://biocyc.org/compound?orgid=GCF_00001196...       10.880000  \n",
       "109  https://biocyc.org/compound?orgid=GCF_00001196...       10.880000  \n",
       "110  https://biocyc.org/compound?orgid=GCF_00001196...       10.880000  \n",
       "..                                                 ...             ...  \n",
       "73   https://biocyc.org/compound?orgid=GCF_00001196...        0.000000  \n",
       "74   https://biocyc.org/compound?orgid=GCF_00001196...        0.000000  \n",
       "75   https://biocyc.org/compound?orgid=GCF_00001196...        0.000000  \n",
       "42   https://biocyc.org/compound?orgid=GCF_00001196...        0.000000  \n",
       "111  https://biocyc.org/compound?orgid=GCF_00001196...        0.000000  \n",
       "\n",
       "[112 rows x 5 columns]"
      ]
     },
     "execution_count": 115,
     "metadata": {},
     "output_type": "execute_result"
    }
   ],
   "source": [
    "import pandas as pd\n",
    "\n",
    "# Check for class-looking names\n",
    "suspicious_names = pd.DataFrame([\n",
    "    {\n",
    "        \"ID\": met.id,\n",
    "        \"Reactions\": \", \".join([rxn.id for rxn in met.reactions]),\n",
    "        \"Link 1\": f\"https://biocyc.org/compound?orgid=RUEGERIA_POMEROYI_DSS3&id={met.id[:-3]}\",\n",
    "        \"Link 2\": f\"https://biocyc.org/compound?orgid=GCF_000011965&id={met.id[:-3]}\",\n",
    "        \"Total Abs Flux\": sum(abs(get_glc_flux(rxn.id)) for rxn in met.reactions)\n",
    "    }\n",
    "    for met in model.metabolites\n",
    "    if (met.id[:-3].upper() != met.id[:-3]\n",
    "        and met.id[:-3] != \"Pi\")]).sort_values(\"Total Abs Flux\", ascending=False)\n",
    "\n",
    "suspicious_names.to_clipboard(index=False)\n",
    "suspicious_names"
   ]
  },
  {
   "cell_type": "code",
   "execution_count": null,
   "id": "b8b6aaa5",
   "metadata": {},
   "outputs": [
    {
     "data": {
      "application/vnd.microsoft.datawrangler.viewer.v0+json": {
       "columns": [
        {
         "name": "index",
         "rawType": "int64",
         "type": "integer"
        },
        {
         "name": "ID",
         "rawType": "object",
         "type": "string"
        },
        {
         "name": "Stem",
         "rawType": "object",
         "type": "string"
        },
        {
         "name": "GPR",
         "rawType": "object",
         "type": "string"
        },
        {
         "name": "Reaction",
         "rawType": "object",
         "type": "string"
        },
        {
         "name": "Glucose flux",
         "rawType": "float64",
         "type": "float"
        }
       ],
       "ref": "ae287685-2572-409b-9717-42b9cb7cf980",
       "rows": [
        [
         "99",
         "TRANS-RXN1G48-27-CPD-602/PROTON//CPD-602/PROTON.31.",
         "",
         "",
         "CPD-602[p] + PROTON[c] --> CPD-602[c] + PROTON[p]",
         "0.0"
        ],
        [
         "84",
         "RXN-8775-CPD-654/NAD/WATER//2-KETOGLUTARATE/NADH/PROTON.47.",
         "",
         "",
         "CPD-654[c] + NAD[c] + WATER[c] <=> 2-KETOGLUTARATE[c] + NADH[c] + 2.0 PROTON[c]",
         "0.0"
        ],
        [
         "83",
         "RXN-16032-PALMITYL-COA/CPD0-2113//CPD-17273/CO-A.39.",
         "",
         "",
         "CPD0-2113[c] + PALMITYL-COA[c] <=> CO-A[c] + CPD-17273[c]",
         "-0.08645162460246313"
        ],
        [
         "0",
         "1.4.1.21-RXN-L-ASPARTATE/NAD/WATER//OXALACETIC_ACID/AMMONIUM/NADH/PROTON.60.",
         "1.4.1.21-RXN",
         "SPO_RS14615",
         "L-ASPARTATE[c] + NAD[c] + WATER[c] <=> AMMONIUM[c] + NADH[c] + OXALACETIC_ACID[c] + PROTON[c]",
         "-4.348135669391836"
        ],
        [
         "1",
         "1.4.1.21-RXN-L-ASPARTATE/NADP/WATER//OXALACETIC_ACID/AMMONIUM/NADPH/PROTON.62.",
         "1.4.1.21-RXN",
         "SPO_RS14615",
         "L-ASPARTATE[c] + NADP[c] + WATER[c] <=> AMMONIUM[c] + NADPH[c] + OXALACETIC_ACID[c] + PROTON[c]",
         "0.0"
        ],
        [
         "2",
         "1.5.5.1-RXN-ETF-Reduced/UBIQUINONE-10//ETF-Oxidized/CPD-9958/PROTON.56.",
         "1.5.5.1-RXN",
         "",
         "ETF-Reduced[c] + UBIQUINONE-10[c] --> CPD-9958[c] + ETF-Oxidized[c] + PROTON[c]",
         "0.7385837695142125"
        ],
        [
         "3",
         "2.6.1.57-RXN-PHE/2-KETOGLUTARATE//PHENYL-PYRUVATE/GLT.41.",
         "2.6.1.57-RXN",
         "SPO3720",
         "2-KETOGLUTARATE[c] + PHE[c] <=> GLT[c] + PHENYL-PYRUVATE[c]",
         "-0.08847478519506281"
        ],
        [
         "4",
         "2.7.1.156-RXN-ITP/ADENOSYLCOBINAMIDE//ADENOSYLCOBINAMIDE-P/IDP/PROTON.56.",
         "2.7.1.156-RXN",
         "SPO_RS02050",
         "ADENOSYLCOBINAMIDE[c] + ITP[c] --> ADENOSYLCOBINAMIDE-P[c] + IDP[c] + PROTON[c]",
         "0.0"
        ],
        [
         "5",
         "5.4.2.10-RXN-CPD-13469//GLUCOSAMINE-1P.26.",
         "5.4.2.10-RXN",
         "SPO1364",
         "CPD-13469[c] <=> GLUCOSAMINE-1P[c]",
         "0.0008417894983022849"
        ],
        [
         "6",
         "ACYLCOADEHYDROG-RXN-POLYMER-INST-Saturated-Fatty-Acyl-CoA-C0-H0/ETF-Oxidized/PROTON//CROTONYL-COA/ETF-Reduced.90.",
         "ACYLCOADEHYDROG-RXN",
         "G1RHL-1790 or SPOA0288 or G1RHL-3261 or SPO0575 or SPO0582 or G1RHL-1483 or G1RHL-1661",
         "ETF-Oxidized[c] + POLYMER-INST-Saturated-Fatty-Acyl-CoA-C0-H0[c] + PROTON[c] --> CROTONYL-COA[c] + ETF-Reduced[c]",
         "0.0"
        ],
        [
         "7",
         "ACYLCOADEHYDROG-RXN-POLYMER-INST-Saturated-Fatty-Acyl-CoA-C16-H32/ETF-Oxidized/PROTON//CPD-14928/ETF-Reduced.89.",
         "ACYLCOADEHYDROG-RXN",
         "G1RHL-1790 or SPOA0288 or G1RHL-3261 or SPO0575 or SPO0582 or G1RHL-1483 or G1RHL-1661",
         "ETF-Oxidized[c] + POLYMER-INST-Saturated-Fatty-Acyl-CoA-C16-H32[c] + PROTON[c] --> CPD-14928[c] + ETF-Reduced[c]",
         "0.0"
        ],
        [
         "8",
         "ACYLCOADEHYDROG-RXN-STEAROYL-COA/ETF-Oxidized/PROTON//POLYMER-INST-TRANS-D2-ENOYL-COA-C14-H28/ETF-Reduced.86.",
         "ACYLCOADEHYDROG-RXN",
         "G1RHL-1790 or SPOA0288 or G1RHL-3261 or SPO0575 or SPO0582 or G1RHL-1483 or G1RHL-1661",
         "ETF-Oxidized[c] + PROTON[c] + STEAROYL-COA[c] --> ETF-Reduced[c] + POLYMER-INST-TRANS-D2-ENOYL-COA-C14-H28[c]",
         "0.0"
        ],
        [
         "10",
         "ACYLCOASYN-RXN-POLYMER-INST-CPD66-39-C10-H20/CO-A/ATP//TETRADECANOYL-COA/PPI/AMP.66.",
         "ACYLCOASYN-RXN",
         "G1RHL-2048 or G1RHL-3161 or G1RHL-538",
         "ATP[c] + CO-A[c] + POLYMER-INST-CPD66-39-C10-H20[c] --> AMP[c] + PPI[c] + TETRADECANOYL-COA[c]",
         "0.0"
        ],
        [
         "11",
         "ACYLCOASYN-RXN-POLYMER-INST-CPD66-39-C16-H32/CO-A/ATP//POLYMER-INST-Saturated-Fatty-Acyl-CoA-C16-H32/PPI/AMP.94.",
         "ACYLCOASYN-RXN",
         "G1RHL-2048 or G1RHL-3161 or G1RHL-538",
         "ATP[c] + CO-A[c] + POLYMER-INST-CPD66-39-C16-H32[c] --> AMP[c] + POLYMER-INST-Saturated-Fatty-Acyl-CoA-C16-H32[c] + PPI[c]",
         "0.0"
        ],
        [
         "9",
         "ACYLCOASYN-RXN-POLYMER-INST-CPD66-39-C0-H0/CO-A/ATP//POLYMER-INST-Saturated-Fatty-Acyl-CoA-C0-H0/PPI/AMP.90.",
         "ACYLCOASYN-RXN",
         "G1RHL-2048 or G1RHL-3161 or G1RHL-538",
         "ATP[c] + CO-A[c] + POLYMER-INST-CPD66-39-C0-H0[c] --> AMP[c] + POLYMER-INST-Saturated-Fatty-Acyl-CoA-C0-H0[c] + PPI[c]",
         "0.0"
        ],
        [
         "12",
         "ACYLCOASYN-RXN-POLYMER-INST-CPD66-39-C2-H4/CO-A/ATP//HEXANOYL-COA/PPI/AMP.59.",
         "ACYLCOASYN-RXN",
         "G1RHL-2048 or G1RHL-3161 or G1RHL-538",
         "ATP[c] + CO-A[c] + POLYMER-INST-CPD66-39-C2-H4[c] --> AMP[c] + HEXANOYL-COA[c] + PPI[c]",
         "0.0"
        ],
        [
         "13",
         "ALCOHOL-DEHYDROG-GENERIC-RXN-OCTANOL/NAD//CPD-371/NADH/PROTON.33.",
         "ALCOHOL-DEHYDROG-GENERIC-RXN",
         "G1RHL-153 or G1RHL-1192 or G1RHL-1427 or G1RHL-2580",
         "NAD[c] + OCTANOL[c] <=> CPD-371[c] + NADH[c] + PROTON[c]",
         "0.0"
        ],
        [
         "14",
         "AMIDASE-RXN-CPD-14534/WATER//GLYCOLLATE/AMMONIUM.37.",
         "AMIDASE-RXN",
         "SPO_RS12825 or SPO_RS13105 or SPO_RS17305",
         "CPD-14534[c] + WATER[c] --> AMMONIUM[c] + GLYCOLATE[c]",
         "0.0"
        ],
        [
         "15",
         "ANTHRANILOYL-COA-MONOOXYGENASE-RXN-2-AMINOBENZOYL-COA/NADH/OXYGEN-MOLECULE/PROTON//2-AMINO-5-OXOCYCLOHEX-1-ENECARBOXYL-COA/NAD/WATER.98.",
         "ANTHRANILOYL-COA-MONOOXYGENASE-RXN",
         "G1RHL-3265",
         "2-AMINOBENZOYL-COA[c] + 2.0 NADH[c] + OXYGEN-MOLECULE[c] + 2.0 PROTON[c] --> 2-AMINO-5-OXOCYCLOHEX-1-ENECARBOXYL-COA[c] + 2.0 NAD[c] + WATER[c]",
         "0.0"
        ],
        [
         "16",
         "ANTHRANILOYL-COA-MONOOXYGENASE-RXN-2-AMINOBENZOYL-COA/NADPH/OXYGEN-MOLECULE/PROTON//2-AMINO-5-OXOCYCLOHEX-1-ENECARBOXYL-COA/NADP/WATER.100.",
         "ANTHRANILOYL-COA-MONOOXYGENASE-RXN",
         "G1RHL-3265",
         "2-AMINOBENZOYL-COA[c] + 2.0 NADPH[c] + OXYGEN-MOLECULE[c] + 2.0 PROTON[c] --> 2-AMINO-5-OXOCYCLOHEX-1-ENECARBOXYL-COA[c] + 2.0 NADP[c] + WATER[c]",
         "0.0"
        ],
        [
         "24",
         "DEOXYCYTIDINE-KINASE-RXN-DEOXYCYTIDINE/TTP//DCMP/TDP/PROTON.35.",
         "DEOXYCYTIDINE-KINASE-RXN",
         "",
         "DEOXYCYTIDINE[c] + DTTP[c] --> DCMP[c] + PROTON[c] + TDP[c]",
         "0.0"
        ],
        [
         "23",
         "DEOXYCYTIDINE-KINASE-RXN-DEOXYCYTIDINE/ITP//DCMP/IDP/PROTON.35.",
         "DEOXYCYTIDINE-KINASE-RXN",
         "",
         "DEOXYCYTIDINE[c] + ITP[c] --> DCMP[c] + IDP[c] + PROTON[c]",
         "0.0"
        ],
        [
         "25",
         "DEOXYCYTIDINE-KINASE-RXN-DEOXYCYTIDINE/UTP//DCMP/UDP/PROTON.35.",
         "DEOXYCYTIDINE-KINASE-RXN",
         "",
         "DEOXYCYTIDINE[c] + UTP[c] --> DCMP[c] + PROTON[c] + UDP[c]",
         "0.0"
        ],
        [
         "21",
         "DEOXYCYTIDINE-KINASE-RXN-DEOXYCYTIDINE/DUTP//DCMP/DUDP/PROTON.37.",
         "DEOXYCYTIDINE-KINASE-RXN",
         "",
         "DEOXYCYTIDINE[c] + DUTP[c] --> DCMP[c] + DUDP[c] + PROTON[c]",
         "0.0"
        ],
        [
         "20",
         "DEOXYCYTIDINE-KINASE-RXN-DEOXYCYTIDINE/DITP//DCMP/CPD0-2231/PROTON.42.",
         "DEOXYCYTIDINE-KINASE-RXN",
         "",
         "DEOXYCYTIDINE[c] + DITP[c] --> CPD0-2231[c] + DCMP[c] + PROTON[c]",
         "0.0"
        ],
        [
         "17",
         "DEOXYCYTIDINE-KINASE-RXN-DEOXYCYTIDINE/CTP//DCMP/CDP/PROTON.35.",
         "DEOXYCYTIDINE-KINASE-RXN",
         "",
         "CTP[c] + DEOXYCYTIDINE[c] --> CDP[c] + DCMP[c] + PROTON[c]",
         "0.0"
        ],
        [
         "18",
         "DEOXYCYTIDINE-KINASE-RXN-DEOXYCYTIDINE/DATP//DCMP/DADP/PROTON.37.",
         "DEOXYCYTIDINE-KINASE-RXN",
         "",
         "DATP[c] + DEOXYCYTIDINE[c] --> DADP[c] + DCMP[c] + PROTON[c]",
         "0.0"
        ],
        [
         "19",
         "DEOXYCYTIDINE-KINASE-RXN-DEOXYCYTIDINE/DCTP//DCMP/DCDP/PROTON.37.",
         "DEOXYCYTIDINE-KINASE-RXN",
         "",
         "DCTP[c] + DEOXYCYTIDINE[c] --> DCDP[c] + DCMP[c] + PROTON[c]",
         "0.0"
        ],
        [
         "22",
         "DEOXYCYTIDINE-KINASE-RXN-DEOXYCYTIDINE/GTP//DCMP/GDP/PROTON.35.",
         "DEOXYCYTIDINE-KINASE-RXN",
         "",
         "DEOXYCYTIDINE[c] + GTP[c] --> DCMP[c] + GDP[c] + PROTON[c]",
         "0.0"
        ],
        [
         "26",
         "ENOYL-COA-DELTA-ISOM-RXN-POLYMER-INST-CIS-DELTA3-ENOYL-COA-C0-H0//CROTONYL-COA.54.",
         "ENOYL-COA-DELTA-ISOM-RXN",
         "SPO0740",
         "POLYMER-INST-CIS-DELTA3-ENOYL-COA-C0-H0[c] --> CROTONYL-COA[c]",
         "0.0"
        ],
        [
         "27",
         "ENOYL-COA-DELTA-ISOM-RXN-POLYMER-INST-CIS-DELTA3-ENOYL-COA-C10-H20//CPD-15568.53.",
         "ENOYL-COA-DELTA-ISOM-RXN",
         "SPO0740",
         "POLYMER-INST-CIS-DELTA3-ENOYL-COA-C10-H20[c] --> CPD-15568[c]",
         "0.0"
        ],
        [
         "28",
         "ENOYL-COA-DELTA-ISOM-RXN-POLYMER-INST-CIS-DELTA3-ENOYL-COA-C12-H24//CPD0-2117.53.",
         "ENOYL-COA-DELTA-ISOM-RXN",
         "SPO0740",
         "POLYMER-INST-CIS-DELTA3-ENOYL-COA-C12-H24[c] <=> CPD0-2117[c]",
         "-0.08645162460246313"
        ],
        [
         "29",
         "ENOYL-COA-DELTA-ISOM-RXN-POLYMER-INST-CIS-DELTA3-ENOYL-COA-C14-H28//POLYMER-INST-TRANS-D2-ENOYL-COA-C14-H28.83.",
         "ENOYL-COA-DELTA-ISOM-RXN",
         "SPO0740",
         "POLYMER-INST-CIS-DELTA3-ENOYL-COA-C14-H28[c] --> POLYMER-INST-TRANS-D2-ENOYL-COA-C14-H28[c]",
         "0.0"
        ],
        [
         "30",
         "ENOYL-COA-DELTA-ISOM-RXN-POLYMER-INST-CIS-DELTA3-ENOYL-COA-C16-H32//CPD-14928.53.",
         "ENOYL-COA-DELTA-ISOM-RXN",
         "SPO0740",
         "POLYMER-INST-CIS-DELTA3-ENOYL-COA-C16-H32[c] --> CPD-14928[c]",
         "0.0"
        ],
        [
         "31",
         "ENOYL-COA-DELTA-ISOM-RXN-POLYMER-INST-CIS-DELTA3-ENOYL-COA-C2-H4//CPD0-2121.51.",
         "ENOYL-COA-DELTA-ISOM-RXN",
         "SPO0740",
         "POLYMER-INST-CIS-DELTA3-ENOYL-COA-C2-H4[c] --> CPD0-2121[c]",
         "0.0"
        ],
        [
         "32",
         "ENOYL-COA-DELTA-ISOM-RXN-POLYMER-INST-CIS-DELTA3-ENOYL-COA-C4-H8//CPD0-2108.51.",
         "ENOYL-COA-DELTA-ISOM-RXN",
         "SPO0740",
         "POLYMER-INST-CIS-DELTA3-ENOYL-COA-C4-H8[c] --> CPD0-2108[c]",
         "0.0"
        ],
        [
         "33",
         "ENOYL-COA-DELTA-ISOM-RXN-POLYMER-INST-CIS-DELTA3-ENOYL-COA-C6-H12//T2-DECENOYL-COA.58.",
         "ENOYL-COA-DELTA-ISOM-RXN",
         "SPO0740",
         "POLYMER-INST-CIS-DELTA3-ENOYL-COA-C6-H12[c] --> T2-DECENOYL-COA[c]",
         "0.0"
        ],
        [
         "34",
         "ENOYL-COA-DELTA-ISOM-RXN-POLYMER-INST-CIS-DELTA3-ENOYL-COA-C8-H16//CPD-7222.51.",
         "ENOYL-COA-DELTA-ISOM-RXN",
         "SPO0740",
         "POLYMER-INST-CIS-DELTA3-ENOYL-COA-C8-H16[c] --> CPD-7222[c]",
         "0.0"
        ],
        [
         "39",
         "ENOYL-COA-HYDRAT-RXN-POLYMER-INST-L-3-HYDROXYACYL-COA-C8-H16//CPD-7222/WATER.56.",
         "ENOYL-COA-HYDRAT-RXN",
         "SPO0740 or G1RHL-98 or G1RHL-3262",
         "CPD-7222[c] + WATER[c] --> POLYMER-INST-L-3-HYDROXYACYL-COA-C8-H16[c]",
         "0.0"
        ],
        [
         "37",
         "ENOYL-COA-HYDRAT-RXN-POLYMER-INST-L-3-HYDROXYACYL-COA-C16-H32//CPD-14928/WATER.58.",
         "ENOYL-COA-HYDRAT-RXN",
         "SPO0740 or G1RHL-98 or G1RHL-3262",
         "CPD-14928[c] + WATER[c] --> POLYMER-INST-L-3-HYDROXYACYL-COA-C16-H32[c]",
         "0.0"
        ],
        [
         "36",
         "ENOYL-COA-HYDRAT-RXN-POLYMER-INST-L-3-HYDROXYACYL-COA-C14-H28//POLYMER-INST-TRANS-D2-ENOYL-COA-C14-H28/WATER.88.",
         "ENOYL-COA-HYDRAT-RXN",
         "SPO0740 or G1RHL-98 or G1RHL-3262",
         "POLYMER-INST-TRANS-D2-ENOYL-COA-C14-H28[c] + WATER[c] --> POLYMER-INST-L-3-HYDROXYACYL-COA-C14-H28[c]",
         "0.0"
        ],
        [
         "35",
         "ENOYL-COA-HYDRAT-RXN-POLYMER-INST-L-3-HYDROXYACYL-COA-C12-H24//CPD0-2117/WATER.58.",
         "ENOYL-COA-HYDRAT-RXN",
         "SPO0740 or G1RHL-98 or G1RHL-3262",
         "CPD0-2117[c] + WATER[c] --> POLYMER-INST-L-3-HYDROXYACYL-COA-C12-H24[c]",
         "0.0"
        ],
        [
         "38",
         "ENOYL-COA-HYDRAT-RXN-POLYMER-INST-L-3-HYDROXYACYL-COA-C4-H8//CPD0-2108/WATER.56.",
         "ENOYL-COA-HYDRAT-RXN",
         "SPO0740 or G1RHL-98 or G1RHL-3262",
         "CPD0-2108[c] + WATER[c] --> POLYMER-INST-L-3-HYDROXYACYL-COA-C4-H8[c]",
         "0.0"
        ],
        [
         "40",
         "GLUCONATE-5-DEHYDROGENASE-RXN-GLUCONATE/NAD//5-DEHYDROGLUCONATE/NADH/PROTON.46.",
         "GLUCONATE-5-DEHYDROGENASE-RXN",
         "SPO0595 or SPO2417",
         "5-DEHYDROGLUCONATE[c] + NADH[c] + PROTON[c] --> GLUCONATE[c] + NAD[c]",
         "0.0"
        ],
        [
         "41",
         "GLUCONATE-5-DEHYDROGENASE-RXN-GLUCONATE/NADP//5-DEHYDROGLUCONATE/NADPH/PROTON.48.",
         "GLUCONATE-5-DEHYDROGENASE-RXN",
         "SPO0595 or SPO2417",
         "5-DEHYDROGLUCONATE[c] + NADPH[c] + PROTON[c] --> GLUCONATE[c] + NADP[c]",
         "0.0"
        ],
        [
         "42",
         "GLYC3PDEHYDROGBIOSYN-RXN-GLYCEROL-3P/NADP//DIHYDROXY-ACETONE-PHOSPHATE/NADPH/PROTON.59.",
         "GLYC3PDEHYDROGBIOSYN-RXN",
         "SPO3855",
         "DIHYDROXY-ACETONE-PHOSPHATE[c] + NADPH[c] + PROTON[c] --> GLYCEROL-3P[c] + NADP[c]",
         "0.07989999511087753"
        ],
        [
         "43",
         "HAONITRO-RXN-Cytochromes-C-Oxidized/HYDROXYLAMINE/WATER//Cytochromes-C-Reduced/NITRITE/PROTON.81.",
         "HAONITRO-RXN",
         "G1RHL-3100",
         "4.0 Cytochromes-C-Oxidized[p] + HYDROXYLAMINE[c] + WATER[c] --> 4.0 Cytochromes-C-Reduced[p] + NITRITE[c] + 5.0 PROTON[c]",
         "0.0"
        ],
        [
         "44",
         "HAONITRO-RXN-an-oxidized-NrfB-protein/HYDROXYLAMINE/WATER//a-reduced-NrfB-protein/NITRITE/PROTON.84.",
         "HAONITRO-RXN",
         "G1RHL-3100",
         "HYDROXYLAMINE[c] + WATER[c] + 4.0 an-oxidized-NrfB-protein[p] --> NITRITE[c] + 5.0 PROTON[c] + 4.0 a-reduced-NrfB-protein[p]",
         "0.0"
        ],
        [
         "45",
         "HOMOSERDEHYDROG-RXN-HOMO-SER/NAD//L-ASPARTATE-SEMIALDEHYDE/NADH/PROTON.51.",
         "HOMOSERDEHYDROG-RXN",
         "SPO1734",
         "L-ASPARTATE-SEMIALDEHYDE[c] + NADH[c] + PROTON[c] --> HOMO-SER[c] + NAD[c]",
         "0.3334168504379192"
        ],
        [
         "46",
         "HOMOSERDEHYDROG-RXN-HOMO-SER/NADP//L-ASPARTATE-SEMIALDEHYDE/NADPH/PROTON.53.",
         "HOMOSERDEHYDROG-RXN",
         "SPO1734",
         "L-ASPARTATE-SEMIALDEHYDE[c] + NADPH[c] + PROTON[c] --> HOMO-SER[c] + NADP[c]",
         "0.0"
        ]
       ],
       "shape": {
        "columns": 5,
        "rows": 110
       }
      },
      "text/html": [
       "<div>\n",
       "<style scoped>\n",
       "    .dataframe tbody tr th:only-of-type {\n",
       "        vertical-align: middle;\n",
       "    }\n",
       "\n",
       "    .dataframe tbody tr th {\n",
       "        vertical-align: top;\n",
       "    }\n",
       "\n",
       "    .dataframe thead th {\n",
       "        text-align: right;\n",
       "    }\n",
       "</style>\n",
       "<table border=\"1\" class=\"dataframe\">\n",
       "  <thead>\n",
       "    <tr style=\"text-align: right;\">\n",
       "      <th></th>\n",
       "      <th>ID</th>\n",
       "      <th>Stem</th>\n",
       "      <th>GPR</th>\n",
       "      <th>Reaction</th>\n",
       "      <th>Glucose flux</th>\n",
       "    </tr>\n",
       "  </thead>\n",
       "  <tbody>\n",
       "    <tr>\n",
       "      <th>99</th>\n",
       "      <td>TRANS-RXN1G48-27-CPD-602/PROTON//CPD-602/PROTO...</td>\n",
       "      <td></td>\n",
       "      <td></td>\n",
       "      <td>CPD-602[p] + PROTON[c] --&gt; CPD-602[c] + PROTON[p]</td>\n",
       "      <td>0.000000</td>\n",
       "    </tr>\n",
       "    <tr>\n",
       "      <th>84</th>\n",
       "      <td>RXN-8775-CPD-654/NAD/WATER//2-KETOGLUTARATE/NA...</td>\n",
       "      <td></td>\n",
       "      <td></td>\n",
       "      <td>CPD-654[c] + NAD[c] + WATER[c] &lt;=&gt; 2-KETOGLUTA...</td>\n",
       "      <td>0.000000</td>\n",
       "    </tr>\n",
       "    <tr>\n",
       "      <th>83</th>\n",
       "      <td>RXN-16032-PALMITYL-COA/CPD0-2113//CPD-17273/CO...</td>\n",
       "      <td></td>\n",
       "      <td></td>\n",
       "      <td>CPD0-2113[c] + PALMITYL-COA[c] &lt;=&gt; CO-A[c] + C...</td>\n",
       "      <td>-0.086452</td>\n",
       "    </tr>\n",
       "    <tr>\n",
       "      <th>0</th>\n",
       "      <td>1.4.1.21-RXN-L-ASPARTATE/NAD/WATER//OXALACETIC...</td>\n",
       "      <td>1.4.1.21-RXN</td>\n",
       "      <td>SPO_RS14615</td>\n",
       "      <td>L-ASPARTATE[c] + NAD[c] + WATER[c] &lt;=&gt; AMMONIU...</td>\n",
       "      <td>-4.348136</td>\n",
       "    </tr>\n",
       "    <tr>\n",
       "      <th>1</th>\n",
       "      <td>1.4.1.21-RXN-L-ASPARTATE/NADP/WATER//OXALACETI...</td>\n",
       "      <td>1.4.1.21-RXN</td>\n",
       "      <td>SPO_RS14615</td>\n",
       "      <td>L-ASPARTATE[c] + NADP[c] + WATER[c] &lt;=&gt; AMMONI...</td>\n",
       "      <td>0.000000</td>\n",
       "    </tr>\n",
       "    <tr>\n",
       "      <th>...</th>\n",
       "      <td>...</td>\n",
       "      <td>...</td>\n",
       "      <td>...</td>\n",
       "      <td>...</td>\n",
       "      <td>...</td>\n",
       "    </tr>\n",
       "    <tr>\n",
       "      <th>105</th>\n",
       "      <td>TRANS-RXN1G48-9-GLT/PROTON//GLT/PROTON.23.</td>\n",
       "      <td>TRANS-RXN1G48-9</td>\n",
       "      <td></td>\n",
       "      <td>GLT[p] + PROTON[p] --&gt; GLT[c] + PROTON[c]</td>\n",
       "      <td>0.000000</td>\n",
       "    </tr>\n",
       "    <tr>\n",
       "      <th>106</th>\n",
       "      <td>TRANS-RXN1G48-9-VAL/PROTON//VAL/PROTON.23.</td>\n",
       "      <td>TRANS-RXN1G48-9</td>\n",
       "      <td></td>\n",
       "      <td>PROTON[p] + VAL[p] --&gt; PROTON[c] + VAL[c]</td>\n",
       "      <td>0.000000</td>\n",
       "    </tr>\n",
       "    <tr>\n",
       "      <th>107</th>\n",
       "      <td>TSA-REDUCT-RXN-GLYCERATE/NADP//TARTRONATE-S-AL...</td>\n",
       "      <td>TSA-REDUCT-RXN</td>\n",
       "      <td>SPO2560</td>\n",
       "      <td>NADPH[c] + PROTON[c] + TARTRONATE-S-ALD[c] --&gt;...</td>\n",
       "      <td>0.000000</td>\n",
       "    </tr>\n",
       "    <tr>\n",
       "      <th>108</th>\n",
       "      <td>XYLISOM-RXN-BETA-D-XYLOSE//D-XYLULOSE.26.</td>\n",
       "      <td>XYLISOM-RXN</td>\n",
       "      <td>SPO0856</td>\n",
       "      <td>BETA-D-XYLOSE[c] &lt;=&gt; D-XYLULOSE[c]</td>\n",
       "      <td>0.000000</td>\n",
       "    </tr>\n",
       "    <tr>\n",
       "      <th>109</th>\n",
       "      <td>XYLISOM-RXN-XYLOSE//D-XYLULOSE.19.</td>\n",
       "      <td>XYLISOM-RXN</td>\n",
       "      <td>SPO0856</td>\n",
       "      <td>XYLOSE[c] &lt;=&gt; D-XYLULOSE[c]</td>\n",
       "      <td>0.000000</td>\n",
       "    </tr>\n",
       "  </tbody>\n",
       "</table>\n",
       "<p>110 rows × 5 columns</p>\n",
       "</div>"
      ],
      "text/plain": [
       "                                                    ID             Stem  \\\n",
       "99   TRANS-RXN1G48-27-CPD-602/PROTON//CPD-602/PROTO...                    \n",
       "84   RXN-8775-CPD-654/NAD/WATER//2-KETOGLUTARATE/NA...                    \n",
       "83   RXN-16032-PALMITYL-COA/CPD0-2113//CPD-17273/CO...                    \n",
       "0    1.4.1.21-RXN-L-ASPARTATE/NAD/WATER//OXALACETIC...     1.4.1.21-RXN   \n",
       "1    1.4.1.21-RXN-L-ASPARTATE/NADP/WATER//OXALACETI...     1.4.1.21-RXN   \n",
       "..                                                 ...              ...   \n",
       "105         TRANS-RXN1G48-9-GLT/PROTON//GLT/PROTON.23.  TRANS-RXN1G48-9   \n",
       "106         TRANS-RXN1G48-9-VAL/PROTON//VAL/PROTON.23.  TRANS-RXN1G48-9   \n",
       "107  TSA-REDUCT-RXN-GLYCERATE/NADP//TARTRONATE-S-AL...   TSA-REDUCT-RXN   \n",
       "108          XYLISOM-RXN-BETA-D-XYLOSE//D-XYLULOSE.26.      XYLISOM-RXN   \n",
       "109                 XYLISOM-RXN-XYLOSE//D-XYLULOSE.19.      XYLISOM-RXN   \n",
       "\n",
       "             GPR                                           Reaction  \\\n",
       "99                CPD-602[p] + PROTON[c] --> CPD-602[c] + PROTON[p]   \n",
       "84                CPD-654[c] + NAD[c] + WATER[c] <=> 2-KETOGLUTA...   \n",
       "83                CPD0-2113[c] + PALMITYL-COA[c] <=> CO-A[c] + C...   \n",
       "0    SPO_RS14615  L-ASPARTATE[c] + NAD[c] + WATER[c] <=> AMMONIU...   \n",
       "1    SPO_RS14615  L-ASPARTATE[c] + NADP[c] + WATER[c] <=> AMMONI...   \n",
       "..           ...                                                ...   \n",
       "105                       GLT[p] + PROTON[p] --> GLT[c] + PROTON[c]   \n",
       "106                       PROTON[p] + VAL[p] --> PROTON[c] + VAL[c]   \n",
       "107      SPO2560  NADPH[c] + PROTON[c] + TARTRONATE-S-ALD[c] -->...   \n",
       "108      SPO0856                 BETA-D-XYLOSE[c] <=> D-XYLULOSE[c]   \n",
       "109      SPO0856                        XYLOSE[c] <=> D-XYLULOSE[c]   \n",
       "\n",
       "     Glucose flux  \n",
       "99       0.000000  \n",
       "84       0.000000  \n",
       "83      -0.086452  \n",
       "0       -4.348136  \n",
       "1        0.000000  \n",
       "..            ...  \n",
       "105      0.000000  \n",
       "106      0.000000  \n",
       "107      0.000000  \n",
       "108      0.000000  \n",
       "109      0.000000  \n",
       "\n",
       "[110 rows x 5 columns]"
      ]
     },
     "execution_count": 116,
     "metadata": {},
     "output_type": "execute_result"
    }
   ],
   "source": [
    "instanced_reactions = pd.DataFrame([\n",
    "    {\n",
    "        \"ID\": rxn.id,\n",
    "        \"Stem\": rxn.notes.get(\"stem\", \"\"),\n",
    "        \"GPR\": rxn.gene_reaction_rule,\n",
    "        \"Reaction\": rxn.reaction,\n",
    "        \"Glucose flux\": get_glc_flux(rxn.id)\n",
    "    }\n",
    "    for rxn in model.reactions\n",
    "    if \"//\" in rxn.id\n",
    "]).sort_values(\"Stem\")\n",
    "\n",
    "instanced_reactions.to_clipboard(index=False)\n",
    "instanced_reactions"
   ]
  },
  {
   "cell_type": "code",
   "execution_count": 117,
   "id": "92e937c3",
   "metadata": {},
   "outputs": [
    {
     "data": {
      "text/plain": [
       "[<Metabolite FRU[e] at 0x71db381b0c20>,\n",
       " <Metabolite GALACTOSE[e] at 0x71db381b0dd0>,\n",
       " <Metabolite MANNOSE[e] at 0x71db381b1280>,\n",
       " <Metabolite BETA-D-FRUCTOSE[c] at 0x71db381b2c60>,\n",
       " <Metabolite FRU[p] at 0x71db381b2ab0>,\n",
       " <Metabolite GALACTOSE[p] at 0x71db381b30b0>,\n",
       " <Metabolite CPD-15382[c] at 0x71db381b3530>,\n",
       " <Metabolite Glucopyranose[c] at 0x71db38af65a0>,\n",
       " <Metabolite MANNOSE[p] at 0x71db381eb380>,\n",
       " <Metabolite MYO-INOSITOL[c] at 0x71db381ebad0>,\n",
       " <Metabolite Glucopyranose[p] at 0x71db3821f800>,\n",
       " <Metabolite Glucopyranose[e] at 0x71db3821f860>,\n",
       " <Metabolite GALACTOSE[c] at 0x71db3821fb30>,\n",
       " <Metabolite ALPHA-D-GALACTOSE[c] at 0x71db3821fc50>]"
      ]
     },
     "execution_count": 117,
     "metadata": {},
     "output_type": "execute_result"
    }
   ],
   "source": [
    "[met for met in model.metabolites if met.formula==\"C6H12O6\"]"
   ]
  },
  {
   "cell_type": "code",
   "execution_count": 130,
   "id": "673c7ca0",
   "metadata": {},
   "outputs": [
    {
     "name": "stdout",
     "output_type": "stream",
     "text": [
      "RXN0-7192 (0.0)\n",
      "\tATP[c] + BIOTIN[c] + PROTON[c] --> BIO-5-AMP[c] + PPI[c]\n",
      "TRANS-RXN0-240 (0.0)\n",
      "\tBIOTIN[p] --> BIOTIN[c]\n",
      "RXN-17473 (0.0)\n",
      "\tCPD-5662[c] + S-ADENOSYLMETHIONINE[c] --> BIOTIN[c] + CH33ADO[c] + MET[c] + PROTON[c]\n",
      "2.8.1.6-RXN (0.0)\n",
      "\tDETHIOBIOTIN[c] + 2.0 Reduced-ferredoxins[c] + 2.0 S-ADENOSYLMETHIONINE[c] + Sulfurated-Sulfur-Acceptors[c] --> BIOTIN[c] + 2.0 CH33ADO[c] + 2.0 MET[c] + 2.0 Oxidized-ferredoxins[c] + Unsulfurated-Sulfur-Acceptors[c]\n"
     ]
    }
   ],
   "source": [
    "for rxn in model.metabolites.get_by_id(\"BIOTIN[c]\").reactions:\n",
    "    print(f\"{rxn.id} ({get_glc_flux(rxn.id)})\\n\\t{rxn.reaction}\")"
   ]
  },
  {
   "cell_type": "code",
   "execution_count": 138,
   "id": "a2c6f165",
   "metadata": {},
   "outputs": [
    {
     "data": {
      "text/html": [
       "<strong><em>Optimal</em> solution with objective value 0.575</strong><br><div>\n",
       "<style scoped>\n",
       "    .dataframe tbody tr th:only-of-type {\n",
       "        vertical-align: middle;\n",
       "    }\n",
       "\n",
       "    .dataframe tbody tr th {\n",
       "        vertical-align: top;\n",
       "    }\n",
       "\n",
       "    .dataframe thead th {\n",
       "        text-align: right;\n",
       "    }\n",
       "</style>\n",
       "<table border=\"1\" class=\"dataframe\">\n",
       "  <thead>\n",
       "    <tr style=\"text-align: right;\">\n",
       "      <th></th>\n",
       "      <th>fluxes</th>\n",
       "      <th>reduced_costs</th>\n",
       "    </tr>\n",
       "  </thead>\n",
       "  <tbody>\n",
       "    <tr>\n",
       "      <th>1-ACYLGLYCEROL-3-P-ACYLTRANSFER-RXN</th>\n",
       "      <td>0.043226</td>\n",
       "      <td>0.000000e+00</td>\n",
       "    </tr>\n",
       "    <tr>\n",
       "      <th>1.1.1.178-RXN</th>\n",
       "      <td>0.000000</td>\n",
       "      <td>-3.169325e-02</td>\n",
       "    </tr>\n",
       "    <tr>\n",
       "      <th>1.1.1.39-RXN</th>\n",
       "      <td>0.000000</td>\n",
       "      <td>-1.056442e-02</td>\n",
       "    </tr>\n",
       "    <tr>\n",
       "      <th>1.1.1.8-RXN</th>\n",
       "      <td>0.000000</td>\n",
       "      <td>2.010830e-16</td>\n",
       "    </tr>\n",
       "    <tr>\n",
       "      <th>1.13.11.15-RXN</th>\n",
       "      <td>0.000000</td>\n",
       "      <td>2.168404e-19</td>\n",
       "    </tr>\n",
       "    <tr>\n",
       "      <th>...</th>\n",
       "      <td>...</td>\n",
       "      <td>...</td>\n",
       "    </tr>\n",
       "    <tr>\n",
       "      <th>RXN-21228</th>\n",
       "      <td>0.000000</td>\n",
       "      <td>-8.326673e-17</td>\n",
       "    </tr>\n",
       "    <tr>\n",
       "      <th>ORNITHINE-RACEMASE-RXN</th>\n",
       "      <td>0.000000</td>\n",
       "      <td>-0.000000e+00</td>\n",
       "    </tr>\n",
       "    <tr>\n",
       "      <th>2.3.1.155-RXN</th>\n",
       "      <td>0.000000</td>\n",
       "      <td>-1.110223e-16</td>\n",
       "    </tr>\n",
       "    <tr>\n",
       "      <th>RXN-8763</th>\n",
       "      <td>0.000000</td>\n",
       "      <td>0.000000e+00</td>\n",
       "    </tr>\n",
       "    <tr>\n",
       "      <th>RXN-9666</th>\n",
       "      <td>0.000000</td>\n",
       "      <td>-1.942890e-16</td>\n",
       "    </tr>\n",
       "  </tbody>\n",
       "</table>\n",
       "<p>1841 rows × 2 columns</p>\n",
       "</div>"
      ],
      "text/plain": [
       "<Solution 0.575 at 0x71db39cab950>"
      ]
     },
     "execution_count": 138,
     "metadata": {},
     "output_type": "execute_result"
    }
   ],
   "source": [
    "with model:\n",
    "    model.reactions.get_by_id(\"EX_glc\").bounds = (-5.44, 0)\n",
    "\n",
    "    # from cobra import Reaction\n",
    "    # biotin_tpp = Reaction(\"BIOTINtpp\", lower_bound=-1000.0, upper_bound=1000.0)\n",
    "    # model.add_reactions([biotin_tpp])\n",
    "    # biotin_tpp.build_reaction_from_string(\"BIOTIN[e] <=> BIOTIN[p]\")\n",
    "    \n",
    "    sol = model.optimize()\n",
    "sol"
   ]
  },
  {
   "cell_type": "code",
   "execution_count": 120,
   "id": "9304dbc4",
   "metadata": {},
   "outputs": [
    {
     "data": {
      "application/vnd.microsoft.datawrangler.viewer.v0+json": {
       "columns": [
        {
         "name": "index",
         "rawType": "int64",
         "type": "integer"
        },
        {
         "name": "ID",
         "rawType": "object",
         "type": "string"
        },
        {
         "name": "Flux",
         "rawType": "float64",
         "type": "float"
        },
        {
         "name": "Abs Flux",
         "rawType": "float64",
         "type": "float"
        },
        {
         "name": "GPR",
         "rawType": "object",
         "type": "string"
        }
       ],
       "ref": "d4587df1-2b72-42fc-a425-6dd5034174ed",
       "rows": [
        [
         "453",
         "Htex",
         "83.71773199039266",
         "83.71773199039266",
         ""
        ],
        [
         "178",
         "ATPSYN-RXN",
         "-32.81051675863962",
         "32.81051675863962",
         "SPO0183"
        ],
        [
         "1435",
         "1.10.2.2-RXN",
         "23.606693364298803",
         "23.606693364298803",
         "SPO0273 and SPO0272 and SPO0271"
        ],
        [
         "424",
         "H2Otpp",
         "-22.480438914084374",
         "22.480438914084374",
         ""
        ],
        [
         "423",
         "H2Otex",
         "-22.480438914084374",
         "22.480438914084374",
         ""
        ],
        [
         "320",
         "EX_h2o",
         "22.480438914084374",
         "22.480438914084374",
         ""
        ],
        [
         "1368",
         "NADH-DEHYDROG-A-RXN",
         "21.969571876513534",
         "21.969571876513534",
         "SPO2786 and SPO2785 and SPO2782 and SPO2774 and SPO2772 and SPO2770 and SPO2767 and SPO2766 and SPO2765 and SPO2764 and SPO2763"
        ],
        [
         "305",
         "EX_co2",
         "13.59230041315554",
         "13.59230041315554",
         ""
        ],
        [
         "213",
         "CO2tpp",
         "-13.59230041315554",
         "13.59230041315554",
         ""
        ],
        [
         "212",
         "CO2tex",
         "-13.59230041315554",
         "13.59230041315554",
         ""
        ],
        [
         "549",
         "O2tpp",
         "11.841743389292212",
         "11.841743389292212",
         ""
        ],
        [
         "331",
         "EX_o2",
         "-11.841743389292212",
         "11.841743389292212",
         ""
        ],
        [
         "548",
         "O2tex",
         "11.841743389292212",
         "11.841743389292212",
         ""
        ],
        [
         "1434",
         "CYTOCHROME-C-OXIDASE-RXN",
         "11.841230753045268",
         "11.841230753045268",
         "SPO0303 and SPO0623 and SPO1383 and SPO3076 and SPO3073 and SPO3526 and SPO3525 and SPO3524 and SPO3523 and SPOA0190 and SPOA0189 and SPOA0188 and SPOA0187"
        ],
        [
         "61",
         "3-HYDROXYBUTYRYL-COA-DEHYDROGENASE-RXN",
         "6.488995797512906",
         "6.488995797512906",
         "SPO0717"
        ],
        [
         "1393",
         "GLCtpp",
         "5.440000000000001",
         "5.440000000000001",
         "SPO0861 and SPO0862 and SPO0863"
        ],
        [
         "1392",
         "GLCtex",
         "5.44",
         "5.44",
         ""
        ],
        [
         "1391",
         "EX_glc",
         "-5.44",
         "5.44",
         ""
        ],
        [
         "512",
         "METHYLENETHFDEHYDROG-NADP-RXN",
         "5.374321445871579",
         "5.374321445871579",
         "SPO_RS07940 or SPO_RS07935 or SPO_RS15715"
        ],
        [
         "506",
         "METHENYLTHFCYCLOHYDRO-RXN",
         "5.374321445871578",
         "5.374321445871578",
         ""
        ],
        [
         "723",
         "RXN-11662",
         "5.301729977242634",
         "5.301729977242634",
         "G1RHL-1876"
        ],
        [
         "1331",
         "PYRUVDEH-RXN",
         "5.265828955337212",
         "5.265828955337212",
         "SPO2241 and SPO2240 and SPO2242 and (SPO0340 or SPO2222)"
        ],
        [
         "1333",
         "GLUCOKIN-RXN",
         "5.214381890440387",
         "5.214381890440387",
         "SPO0864"
        ],
        [
         "468",
         "KDPGALDOL-RXN",
         "5.214381890440386",
         "5.214381890440386",
         "SPO3031 or SPOA0330"
        ],
        [
         "374",
         "GLU6PDEHYDROG-RXN",
         "5.214381890440386",
         "5.214381890440386",
         "SPO2048 or SPO3033"
        ],
        [
         "583",
         "PGLUCONDEHYDRAT-RXN",
         "5.214381890440386",
         "5.214381890440386",
         "SPO3032"
        ],
        [
         "98",
         "6PGLUCONOLACT-RXN",
         "5.214381890440386",
         "5.214381890440386",
         "SPO2047"
        ],
        [
         "8",
         "1.2.1.2-RXN",
         "5.1378469686959924",
         "5.1378469686959924",
         "G1RHL-1345"
        ],
        [
         "354",
         "FORMATETHFLIG-RXN",
         "-5.136693537140375",
         "5.136693537140375",
         "SPO1557 or SPO3103"
        ],
        [
         "169",
         "ASPAMINOTRANS-RXN",
         "5.09285099190775",
         "5.09285099190775",
         "G1RHL-2982 or SPO0584 or SPO1264 or SPO2132"
        ],
        [
         "366",
         "GAPOXNPHOSPHN-RXN",
         "4.9557030430177775",
         "4.9557030430177775",
         ""
        ],
        [
         "588",
         "PHOSGLYPHOS-RXN",
         "-4.955703043017777",
         "4.955703043017777",
         "SPO2235"
        ],
        [
         "15",
         "1.4.1.21-RXN-L-ASPARTATE/NAD/WATER//OXALACETIC_ACID/AMMONIUM/NADH/PROTON.60.",
         "-4.348135669391836",
         "4.348135669391836",
         "SPO_RS14615"
        ],
        [
         "1084",
         "RXN-9615",
         "4.264003379680683",
         "4.264003379680683",
         "SPO3723 or SPO2093"
        ],
        [
         "329",
         "EX_nh4",
         "-4.264003379680683",
         "4.264003379680683",
         ""
        ],
        [
         "540",
         "NH4tex",
         "4.264003379680683",
         "4.264003379680683",
         ""
        ],
        [
         "319",
         "EX_h",
         "4.1605555156614775",
         "4.1605555156614775",
         ""
        ],
        [
         "1138",
         "RXN0-5114",
         "3.1806970036736337",
         "3.1806970036736337",
         "SPO2363 or SPO3353"
        ],
        [
         "616",
         "PSERTRANSAM-RXN",
         "3.1806970036736337",
         "3.1806970036736337",
         "G1RHL-2549"
        ],
        [
         "584",
         "PGLYCDEHYDROG-RXN",
         "3.1806970036736337",
         "3.1806970036736337",
         "SPO3355"
        ],
        [
         "404",
         "GLYOHMETRANS-RXN",
         "2.926532187476928",
         "2.926532187476928",
         "SPO1572 or SPO2940 or SPO3529"
        ],
        [
         "368",
         "GCVMULTI-RXN",
         "2.5368083004725643",
         "2.5368083004725643",
         "SPOA0058 or G1RHL-3175 or SPO0878"
        ],
        [
         "1141",
         "RXN0-5224",
         "-1.9877580575415594",
         "1.9877580575415594",
         "G1RHL-2823"
        ],
        [
         "170",
         "ASPARTASE-RXN",
         "-1.8775675119976303",
         "1.8775675119976303",
         "SPO2663"
        ],
        [
         "75",
         "3PGAREARR-RXN",
         "-1.775006039344143",
         "1.775006039344143",
         "SPO3810"
        ],
        [
         "52",
         "2PGADEHYDRAT-RXN",
         "1.7750060393441427",
         "1.7750060393441427",
         "SPO2474"
        ],
        [
         "110",
         "ACETYL-COA-ACETYLTRANSFER-RXN",
         "1.1872658202702717",
         "1.1872658202702717",
         "G1RHL-2214 or G1RHL-2589 or G1RHL-518 or G1RHL-533 or SPO0326 or G1RHL-3282"
        ],
        [
         "556",
         "OHBUTYRYL-COA-EPIM-RXN-CPD-650//S-3-HYDROXYBUTANOYL-COA.33.",
         "-1.1872658202702715",
         "1.1872658202702715",
         "SPO2920"
        ],
        [
         "1137",
         "RXN0-5055",
         "1.118599931552286",
         "1.118599931552286",
         "SPO3616 or SPO3817 or G1RHL-396"
        ],
        [
         "183",
         "BIOTIN-CARBOXYL-RXN",
         "1.1185999315522859",
         "1.1185999315522859",
         "G1RHL-397 or SPO1010"
        ]
       ],
       "shape": {
        "columns": 4,
        "rows": 1841
       }
      },
      "text/html": [
       "<div>\n",
       "<style scoped>\n",
       "    .dataframe tbody tr th:only-of-type {\n",
       "        vertical-align: middle;\n",
       "    }\n",
       "\n",
       "    .dataframe tbody tr th {\n",
       "        vertical-align: top;\n",
       "    }\n",
       "\n",
       "    .dataframe thead th {\n",
       "        text-align: right;\n",
       "    }\n",
       "</style>\n",
       "<table border=\"1\" class=\"dataframe\">\n",
       "  <thead>\n",
       "    <tr style=\"text-align: right;\">\n",
       "      <th></th>\n",
       "      <th>ID</th>\n",
       "      <th>Flux</th>\n",
       "      <th>Abs Flux</th>\n",
       "      <th>GPR</th>\n",
       "    </tr>\n",
       "  </thead>\n",
       "  <tbody>\n",
       "    <tr>\n",
       "      <th>453</th>\n",
       "      <td>Htex</td>\n",
       "      <td>83.717732</td>\n",
       "      <td>83.717732</td>\n",
       "      <td></td>\n",
       "    </tr>\n",
       "    <tr>\n",
       "      <th>178</th>\n",
       "      <td>ATPSYN-RXN</td>\n",
       "      <td>-32.810517</td>\n",
       "      <td>32.810517</td>\n",
       "      <td>SPO0183</td>\n",
       "    </tr>\n",
       "    <tr>\n",
       "      <th>1435</th>\n",
       "      <td>1.10.2.2-RXN</td>\n",
       "      <td>23.606693</td>\n",
       "      <td>23.606693</td>\n",
       "      <td>SPO0273 and SPO0272 and SPO0271</td>\n",
       "    </tr>\n",
       "    <tr>\n",
       "      <th>424</th>\n",
       "      <td>H2Otpp</td>\n",
       "      <td>-22.480439</td>\n",
       "      <td>22.480439</td>\n",
       "      <td></td>\n",
       "    </tr>\n",
       "    <tr>\n",
       "      <th>423</th>\n",
       "      <td>H2Otex</td>\n",
       "      <td>-22.480439</td>\n",
       "      <td>22.480439</td>\n",
       "      <td></td>\n",
       "    </tr>\n",
       "    <tr>\n",
       "      <th>...</th>\n",
       "      <td>...</td>\n",
       "      <td>...</td>\n",
       "      <td>...</td>\n",
       "      <td>...</td>\n",
       "    </tr>\n",
       "    <tr>\n",
       "      <th>776</th>\n",
       "      <td>RXN-12747</td>\n",
       "      <td>0.000000</td>\n",
       "      <td>0.000000</td>\n",
       "      <td></td>\n",
       "    </tr>\n",
       "    <tr>\n",
       "      <th>775</th>\n",
       "      <td>RXN-12746</td>\n",
       "      <td>0.000000</td>\n",
       "      <td>0.000000</td>\n",
       "      <td>G1RHL-2048 or G1RHL-3161</td>\n",
       "    </tr>\n",
       "    <tr>\n",
       "      <th>774</th>\n",
       "      <td>RXN-12736</td>\n",
       "      <td>0.000000</td>\n",
       "      <td>0.000000</td>\n",
       "      <td></td>\n",
       "    </tr>\n",
       "    <tr>\n",
       "      <th>773</th>\n",
       "      <td>RXN-12735</td>\n",
       "      <td>0.000000</td>\n",
       "      <td>0.000000</td>\n",
       "      <td></td>\n",
       "    </tr>\n",
       "    <tr>\n",
       "      <th>1840</th>\n",
       "      <td>RXN-9666</td>\n",
       "      <td>0.000000</td>\n",
       "      <td>0.000000</td>\n",
       "      <td></td>\n",
       "    </tr>\n",
       "  </tbody>\n",
       "</table>\n",
       "<p>1841 rows × 4 columns</p>\n",
       "</div>"
      ],
      "text/plain": [
       "                ID       Flux   Abs Flux                              GPR\n",
       "453           Htex  83.717732  83.717732                                 \n",
       "178     ATPSYN-RXN -32.810517  32.810517                          SPO0183\n",
       "1435  1.10.2.2-RXN  23.606693  23.606693  SPO0273 and SPO0272 and SPO0271\n",
       "424         H2Otpp -22.480439  22.480439                                 \n",
       "423         H2Otex -22.480439  22.480439                                 \n",
       "...            ...        ...        ...                              ...\n",
       "776      RXN-12747   0.000000   0.000000                                 \n",
       "775      RXN-12746   0.000000   0.000000         G1RHL-2048 or G1RHL-3161\n",
       "774      RXN-12736   0.000000   0.000000                                 \n",
       "773      RXN-12735   0.000000   0.000000                                 \n",
       "1840      RXN-9666   0.000000   0.000000                                 \n",
       "\n",
       "[1841 rows x 4 columns]"
      ]
     },
     "execution_count": 120,
     "metadata": {},
     "output_type": "execute_result"
    }
   ],
   "source": [
    "with model:\n",
    "    model.reactions.get_by_id(\"EX_glc\").bounds = (-5.44, 0.0)\n",
    "\n",
    "    sol = model.optimize().fluxes\n",
    "\n",
    "glc_fluxes = pd.DataFrame([\n",
    "    {\n",
    "        \"ID\": rxn,\n",
    "        \"Flux\" : flux,\n",
    "        \"Abs Flux\" : abs(flux),\n",
    "        \"GPR\": model.reactions.get_by_id(rxn).gene_reaction_rule\n",
    "    }\n",
    "    for _, (rxn, flux) in sol.reset_index().iterrows()\n",
    "]).sort_values(\"Abs Flux\", ascending=False)\n",
    "\n",
    "glc_fluxes.to_clipboard(index=False)\n",
    "glc_fluxes"
   ]
  },
  {
   "cell_type": "code",
   "execution_count": 121,
   "id": "186a3be7",
   "metadata": {},
   "outputs": [
    {
     "ename": "KeyError",
     "evalue": "'RXN1RHL-6'",
     "output_type": "error",
     "traceback": [
      "\u001b[31m---------------------------------------------------------------------------\u001b[39m",
      "\u001b[31mKeyError\u001b[39m                                  Traceback (most recent call last)",
      "\u001b[36mCell\u001b[39m\u001b[36m \u001b[39m\u001b[32mIn[121]\u001b[39m\u001b[32m, line 1\u001b[39m\n\u001b[32m----> \u001b[39m\u001b[32m1\u001b[39m \u001b[43mmodel\u001b[49m\u001b[43m.\u001b[49m\u001b[43mreactions\u001b[49m\u001b[43m.\u001b[49m\u001b[43mget_by_id\u001b[49m\u001b[43m(\u001b[49m\u001b[33;43m\"\u001b[39;49m\u001b[33;43mRXN1RHL-6\u001b[39;49m\u001b[33;43m\"\u001b[39;49m\u001b[43m)\u001b[49m\n",
      "\u001b[36mFile \u001b[39m\u001b[32m~/.pyenv/versions/3.12.1/envs/rpom/lib/python3.12/site-packages/cobra/core/dictlist.py:73\u001b[39m, in \u001b[36mDictList.get_by_id\u001b[39m\u001b[34m(self, id)\u001b[39m\n\u001b[32m     71\u001b[39m \u001b[38;5;28;01mdef\u001b[39;00m\u001b[38;5;250m \u001b[39m\u001b[34mget_by_id\u001b[39m(\u001b[38;5;28mself\u001b[39m, \u001b[38;5;28mid\u001b[39m: Union[Object, \u001b[38;5;28mstr\u001b[39m]) -> Object:\n\u001b[32m     72\u001b[39m \u001b[38;5;250m    \u001b[39m\u001b[33;03m\"\"\"Return the element with a matching id.\"\"\"\u001b[39;00m\n\u001b[32m---> \u001b[39m\u001b[32m73\u001b[39m     \u001b[38;5;28;01mreturn\u001b[39;00m \u001b[38;5;28mlist\u001b[39m.\u001b[34m__getitem__\u001b[39m(\u001b[38;5;28mself\u001b[39m, \u001b[38;5;28;43mself\u001b[39;49m\u001b[43m.\u001b[49m\u001b[43m_dict\u001b[49m\u001b[43m[\u001b[49m\u001b[38;5;28;43mid\u001b[39;49m\u001b[43m]\u001b[49m)\n",
      "\u001b[31mKeyError\u001b[39m: 'RXN1RHL-6'"
     ]
    }
   ],
   "source": [
    "model.reactions.get_by_id(\"RXN1RHL-6\")"
   ]
  }
 ],
 "metadata": {
  "kernelspec": {
   "display_name": "Python 3",
   "language": "python",
   "name": "python3"
  },
  "language_info": {
   "codemirror_mode": {
    "name": "ipython",
    "version": 3
   },
   "file_extension": ".py",
   "mimetype": "text/x-python",
   "name": "python",
   "nbconvert_exporter": "python",
   "pygments_lexer": "ipython3",
   "version": "3.12.1"
  }
 },
 "nbformat": 4,
 "nbformat_minor": 5
}
