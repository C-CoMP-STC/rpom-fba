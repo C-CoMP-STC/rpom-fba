{
 "cells": [
  {
   "cell_type": "code",
   "execution_count": 83,
   "id": "457c4d76",
   "metadata": {},
   "outputs": [],
   "source": [
    "import sys\n",
    "if \"..\" not in sys.path:\n",
    "    sys.path.insert(0, \"..\")"
   ]
  },
  {
   "cell_type": "code",
   "execution_count": 84,
   "id": "d74083f5",
   "metadata": {},
   "outputs": [
    {
     "name": "stderr",
     "output_type": "stream",
     "text": [
      "https://identifiers.org/stem/ does not conform to 'http(s)://identifiers.org/collection/id' or'http(s)://identifiers.org/COLLECTION:id\n",
      "https://identifiers.org/stem/ does not conform to 'http(s)://identifiers.org/collection/id' or'http(s)://identifiers.org/COLLECTION:id\n",
      "https://identifiers.org/stem/ does not conform to 'http(s)://identifiers.org/collection/id' or'http(s)://identifiers.org/COLLECTION:id\n",
      "https://identifiers.org/stem/ does not conform to 'http(s)://identifiers.org/collection/id' or'http(s)://identifiers.org/COLLECTION:id\n",
      "https://identifiers.org/stem/ does not conform to 'http(s)://identifiers.org/collection/id' or'http(s)://identifiers.org/COLLECTION:id\n",
      "https://identifiers.org/stem/ does not conform to 'http(s)://identifiers.org/collection/id' or'http(s)://identifiers.org/COLLECTION:id\n",
      "https://identifiers.org/stem/ does not conform to 'http(s)://identifiers.org/collection/id' or'http(s)://identifiers.org/COLLECTION:id\n",
      "https://identifiers.org/stem/ does not conform to 'http(s)://identifiers.org/collection/id' or'http(s)://identifiers.org/COLLECTION:id\n",
      "https://identifiers.org/stem/ does not conform to 'http(s)://identifiers.org/collection/id' or'http(s)://identifiers.org/COLLECTION:id\n",
      "https://identifiers.org/stem/ does not conform to 'http(s)://identifiers.org/collection/id' or'http(s)://identifiers.org/COLLECTION:id\n",
      "https://identifiers.org/stem/ does not conform to 'http(s)://identifiers.org/collection/id' or'http(s)://identifiers.org/COLLECTION:id\n",
      "https://identifiers.org/stem/ does not conform to 'http(s)://identifiers.org/collection/id' or'http(s)://identifiers.org/COLLECTION:id\n",
      "https://identifiers.org/stem/ does not conform to 'http(s)://identifiers.org/collection/id' or'http(s)://identifiers.org/COLLECTION:id\n",
      "https://identifiers.org/stem/ does not conform to 'http(s)://identifiers.org/collection/id' or'http(s)://identifiers.org/COLLECTION:id\n",
      "https://identifiers.org/stem/ does not conform to 'http(s)://identifiers.org/collection/id' or'http(s)://identifiers.org/COLLECTION:id\n",
      "https://identifiers.org/stem/ does not conform to 'http(s)://identifiers.org/collection/id' or'http(s)://identifiers.org/COLLECTION:id\n",
      "https://identifiers.org/stem/ does not conform to 'http(s)://identifiers.org/collection/id' or'http(s)://identifiers.org/COLLECTION:id\n",
      "https://identifiers.org/stem/ does not conform to 'http(s)://identifiers.org/collection/id' or'http(s)://identifiers.org/COLLECTION:id\n",
      "https://identifiers.org/stem/ does not conform to 'http(s)://identifiers.org/collection/id' or'http(s)://identifiers.org/COLLECTION:id\n",
      "https://identifiers.org/stem/ does not conform to 'http(s)://identifiers.org/collection/id' or'http(s)://identifiers.org/COLLECTION:id\n",
      "https://identifiers.org/stem/ does not conform to 'http(s)://identifiers.org/collection/id' or'http(s)://identifiers.org/COLLECTION:id\n",
      "https://identifiers.org/stem/ does not conform to 'http(s)://identifiers.org/collection/id' or'http(s)://identifiers.org/COLLECTION:id\n",
      "https://identifiers.org/stem/ does not conform to 'http(s)://identifiers.org/collection/id' or'http(s)://identifiers.org/COLLECTION:id\n"
     ]
    }
   ],
   "source": [
    "from cobra.io import read_sbml_model\n",
    "\n",
    "model = read_sbml_model(\"../model/Rpom_05.xml\")"
   ]
  },
  {
   "cell_type": "code",
   "execution_count": 85,
   "id": "267e91e0",
   "metadata": {},
   "outputs": [],
   "source": [
    "def get_glc_flux(rxnid):\n",
    "    with model:\n",
    "        model.reactions.get_by_id(\"EX_glc\").bounds = (-5.44, 0)\n",
    "\n",
    "        sol = model.optimize()\n",
    "    return sol.fluxes[rxnid]"
   ]
  },
  {
   "cell_type": "code",
   "execution_count": 89,
   "id": "24b8a251",
   "metadata": {},
   "outputs": [
    {
     "data": {
      "application/vnd.microsoft.datawrangler.viewer.v0+json": {
       "columns": [
        {
         "name": "index",
         "rawType": "int64",
         "type": "integer"
        },
        {
         "name": "ID",
         "rawType": "object",
         "type": "string"
        },
        {
         "name": "Reactions",
         "rawType": "object",
         "type": "string"
        },
        {
         "name": "Link 1",
         "rawType": "object",
         "type": "string"
        },
        {
         "name": "Link 2",
         "rawType": "object",
         "type": "string"
        },
        {
         "name": "Total Abs Flux",
         "rawType": "float64",
         "type": "float"
        }
       ],
       "ref": "cbc76b67-8f63-43a2-a2e5-c8b2900a04f8",
       "rows": [
        [
         "41",
         "Cytochromes-C-Reduced[p]",
         "RXN-14107, CYTOCHROME-C-OXIDASE-RXN, 1.10.2.2-RXN, HAONITRO-RXN-Cytochromes-C-Oxidized/HYDROXYLAMINE/WATER//Cytochromes-C-Reduced/NITRITE/PROTON.81., NITRIC-OXIDE-REDUCTASE-RXN-NITRIC-OXIDE/Cytochromes-C-Reduced/PROTON//NITROUS-OXIDE/Cytochromes-C-Oxidized/WATER.86.",
         "https://biocyc.org/compound?orgid=RUEGERIA_POMEROYI_DSS3&id=Cytochromes-C-Reduced",
         "https://biocyc.org/compound?orgid=GCF_000011965&id=Cytochromes-C-Reduced",
         "35.52369225913583"
        ],
        [
         "40",
         "Cytochromes-C-Oxidized[p]",
         "RXN-14107, CYTOCHROME-C-OXIDASE-RXN, 1.10.2.2-RXN, HAONITRO-RXN-Cytochromes-C-Oxidized/HYDROXYLAMINE/WATER//Cytochromes-C-Reduced/NITRITE/PROTON.81., NITRIC-OXIDE-REDUCTASE-RXN-NITRIC-OXIDE/Cytochromes-C-Reduced/PROTON//NITROUS-OXIDE/Cytochromes-C-Oxidized/WATER.86.",
         "https://biocyc.org/compound?orgid=RUEGERIA_POMEROYI_DSS3&id=Cytochromes-C-Oxidized",
         "https://biocyc.org/compound?orgid=GCF_000011965&id=Cytochromes-C-Oxidized",
         "35.52369225913583"
        ],
        [
         "37",
         "Glucopyranose[c]",
         "GLUCISOM-RXN, GLCtpp",
         "https://biocyc.org/compound?orgid=RUEGERIA_POMEROYI_DSS3&id=Glucopyranose",
         "https://biocyc.org/compound?orgid=GCF_000011965&id=Glucopyranose",
         "10.880000000000003"
        ],
        [
         "109",
         "Glucopyranose[p]",
         "GLCtex, GLCtpp",
         "https://biocyc.org/compound?orgid=RUEGERIA_POMEROYI_DSS3&id=Glucopyranose",
         "https://biocyc.org/compound?orgid=GCF_000011965&id=Glucopyranose",
         "10.880000000000003"
        ],
        [
         "110",
         "Glucopyranose[e]",
         "EX_glc, GLCtex",
         "https://biocyc.org/compound?orgid=RUEGERIA_POMEROYI_DSS3&id=Glucopyranose",
         "https://biocyc.org/compound?orgid=GCF_000011965&id=Glucopyranose",
         "10.88"
        ],
        [
         "36",
         "D-glucopyranose-6-phosphate[c]",
         "GLU6PDEHYDROG-RXN, PHOSPHOGLUCMUT-RXN, PGLUCISOM-RXN, MYO-INOSITOL-1-PHOSPHATE-SYNTHASE-RXN",
         "https://biocyc.org/compound?orgid=RUEGERIA_POMEROYI_DSS3&id=D-glucopyranose-6-phosphate",
         "https://biocyc.org/compound?orgid=GCF_000011965&id=D-glucopyranose-6-phosphate",
         "10.428763780880761"
        ],
        [
         "28",
         "biotin-L-lysine-in-BCCP-dimers[c]",
         "BIOTIN-CARBOXYL-RXN, RXN0-5055",
         "https://biocyc.org/compound?orgid=RUEGERIA_POMEROYI_DSS3&id=biotin-L-lysine-in-BCCP-dimers",
         "https://biocyc.org/compound?orgid=GCF_000011965&id=biotin-L-lysine-in-BCCP-dimers",
         "2.2371998631045615"
        ],
        [
         "29",
         "carboxybiotin-L-lysine-in-BCCP-dimers[c]",
         "BIOTIN-CARBOXYL-RXN, RXN0-5055",
         "https://biocyc.org/compound?orgid=RUEGERIA_POMEROYI_DSS3&id=carboxybiotin-L-lysine-in-BCCP-dimers",
         "https://biocyc.org/compound?orgid=GCF_000011965&id=carboxybiotin-L-lysine-in-BCCP-dimers",
         "2.2371998631045615"
        ],
        [
         "3",
         "ETF-Oxidized[c]",
         "1.5.5.1-RXN-ETF-Reduced/UBIQUINONE-10//ETF-Oxidized/CPD-9958/PROTON.56., GLUTARYL-COA-DEHYDROGENASE-RXN, CROBETREDUCT-RXN, RXN-17788, RXN-17784, LONG-CHAIN-ACYL-COA-DEHYDROGENASE-RXN-PALMITYL-COA/ETF-Oxidized/PROTON//CPD0-2117/ETF-Reduced.56., ACYLCOADEHYDROG-RXN-POLYMER-INST-Saturated-Fatty-Acyl-CoA-C0-H0/ETF-Oxidized/PROTON//CROTONYL-COA/ETF-Reduced.90., RXN0-2301, RXN-17779, RXN-14262, SARCOSINE-DEHYDROGENASE-RXN, RXN-17792, RXN-17796, ACYLCOADEHYDROG-RXN-POLYMER-INST-Saturated-Fatty-Acyl-CoA-C16-H32/ETF-Oxidized/PROTON//CPD-14928/ETF-Reduced.89., DIMETHYLGLYCINE-DEHYDROGENASE-RXN, RXN-8959, RXN-12572, RXN-14229, RXN-14131, 2-METHYLACYL-COA-DEHYDROGENASE-RXN, RXN-17783, RXN-17775, ACYLCOADEHYDROG-RXN-STEAROYL-COA/ETF-Oxidized/PROTON//POLYMER-INST-TRANS-D2-ENOYL-COA-C14-H28/ETF-Reduced.86., RXN-13615, RXN-14278",
         "https://biocyc.org/compound?orgid=RUEGERIA_POMEROYI_DSS3&id=ETF-Oxidized",
         "https://biocyc.org/compound?orgid=GCF_000011965&id=ETF-Oxidized",
         "1.4771675390284216"
        ],
        [
         "4",
         "ETF-Reduced[c]",
         "1.5.5.1-RXN-ETF-Reduced/UBIQUINONE-10//ETF-Oxidized/CPD-9958/PROTON.56., GLUTARYL-COA-DEHYDROGENASE-RXN, CROBETREDUCT-RXN, RXN-17788, RXN-17784, LONG-CHAIN-ACYL-COA-DEHYDROGENASE-RXN-PALMITYL-COA/ETF-Oxidized/PROTON//CPD0-2117/ETF-Reduced.56., ACYLCOADEHYDROG-RXN-POLYMER-INST-Saturated-Fatty-Acyl-CoA-C0-H0/ETF-Oxidized/PROTON//CROTONYL-COA/ETF-Reduced.90., RXN0-2301, RXN-17779, RXN-14262, SARCOSINE-DEHYDROGENASE-RXN, RXN-17792, RXN-17796, ACYLCOADEHYDROG-RXN-POLYMER-INST-Saturated-Fatty-Acyl-CoA-C16-H32/ETF-Oxidized/PROTON//CPD-14928/ETF-Reduced.89., DIMETHYLGLYCINE-DEHYDROGENASE-RXN, RXN-8959, RXN-12572, RXN-14229, RXN-14131, 2-METHYLACYL-COA-DEHYDROGENASE-RXN, RXN-17783, RXN-17775, ACYLCOADEHYDROG-RXN-STEAROYL-COA/ETF-Oxidized/PROTON//POLYMER-INST-TRANS-D2-ENOYL-COA-C14-H28/ETF-Reduced.86., RXN-13615, RXN-14278",
         "https://biocyc.org/compound?orgid=RUEGERIA_POMEROYI_DSS3&id=ETF-Reduced",
         "https://biocyc.org/compound?orgid=GCF_000011965&id=ETF-Reduced",
         "1.4771675390284216"
        ],
        [
         "5",
         "Ox-Thioredoxin[c]",
         "CDPREDUCT-RXN, UDPREDUCT-RXN, GDPREDUCT-RXN, RIBONUCLEOSIDE-DIP-REDUCTI-RXN-CPD0-2231/Ox-Thioredoxin/WATER//IDP/Red-Thioredoxin.52., THIOREDOXIN-REDUCT-NADPH-RXN, 1.8.4.8-RXN, ADPREDUCT-RXN",
         "https://biocyc.org/compound?orgid=RUEGERIA_POMEROYI_DSS3&id=Ox-Thioredoxin",
         "https://biocyc.org/compound?orgid=GCF_000011965&id=Ox-Thioredoxin",
         "0.35809592759853"
        ],
        [
         "6",
         "Red-Thioredoxin[c]",
         "CDPREDUCT-RXN, UDPREDUCT-RXN, GDPREDUCT-RXN, RIBONUCLEOSIDE-DIP-REDUCTI-RXN-CPD0-2231/Ox-Thioredoxin/WATER//IDP/Red-Thioredoxin.52., THIOREDOXIN-REDUCT-NADPH-RXN, 1.8.4.8-RXN, ADPREDUCT-RXN",
         "https://biocyc.org/compound?orgid=RUEGERIA_POMEROYI_DSS3&id=Red-Thioredoxin",
         "https://biocyc.org/compound?orgid=GCF_000011965&id=Red-Thioredoxin",
         "0.35809592759853"
        ],
        [
         "55",
         "Butanoyl-ACPs[c]",
         "RXN-9648, RXN-9516, RXN-10024, RXN-9657, RXN-9515",
         "https://biocyc.org/compound?orgid=RUEGERIA_POMEROYI_DSS3&id=Butanoyl-ACPs",
         "https://biocyc.org/compound?orgid=GCF_000011965&id=Butanoyl-ACPs",
         "0.319599980443509"
        ],
        [
         "15",
         "Crotonyl-ACPs[c]",
         "RXN-9657, 4.2.1.58-RXN, RXN-9515",
         "https://biocyc.org/compound?orgid=RUEGERIA_POMEROYI_DSS3&id=Crotonyl-ACPs",
         "https://biocyc.org/compound?orgid=GCF_000011965&id=Crotonyl-ACPs",
         "0.31959998044350896"
        ],
        [
         "53",
         "3-oxo-hexanoyl-ACPs[c]",
         "RXN-9518, RXN-9648, RXN-10022, RXN-9516",
         "https://biocyc.org/compound?orgid=RUEGERIA_POMEROYI_DSS3&id=3-oxo-hexanoyl-ACPs",
         "https://biocyc.org/compound?orgid=GCF_000011965&id=3-oxo-hexanoyl-ACPs",
         "0.31959998044350896"
        ],
        [
         "79",
         "R-3-hydroxyhexanoyl-ACPs[c]",
         "RXN-9518, RXN-9520",
         "https://biocyc.org/compound?orgid=RUEGERIA_POMEROYI_DSS3&id=R-3-hydroxyhexanoyl-ACPs",
         "https://biocyc.org/compound?orgid=GCF_000011965&id=R-3-hydroxyhexanoyl-ACPs",
         "0.3195999804435089"
        ],
        [
         "54",
         "3-oxo-dodecanoyl-ACPs[c]",
         "RXN-9532, RXN-10023, RXN-9531",
         "https://biocyc.org/compound?orgid=RUEGERIA_POMEROYI_DSS3&id=3-oxo-dodecanoyl-ACPs",
         "https://biocyc.org/compound?orgid=GCF_000011965&id=3-oxo-dodecanoyl-ACPs",
         "0.3195999804435089"
        ],
        [
         "84",
         "Decanoyl-ACPs[c]",
         "RXN-9530, RXN-9531, RXN-9660",
         "https://biocyc.org/compound?orgid=RUEGERIA_POMEROYI_DSS3&id=Decanoyl-ACPs",
         "https://biocyc.org/compound?orgid=GCF_000011965&id=Decanoyl-ACPs",
         "0.3195999804435089"
        ],
        [
         "80",
         "Hex-2-enoyl-ACPs[c]",
         "RXN-9658, RXN-9520",
         "https://biocyc.org/compound?orgid=RUEGERIA_POMEROYI_DSS3&id=Hex-2-enoyl-ACPs",
         "https://biocyc.org/compound?orgid=GCF_000011965&id=Hex-2-enoyl-ACPs",
         "0.3195999804435089"
        ],
        [
         "81",
         "Hexanoyl-ACPs[c]",
         "RXN-9658, RXN-9523",
         "https://biocyc.org/compound?orgid=RUEGERIA_POMEROYI_DSS3&id=Hexanoyl-ACPs",
         "https://biocyc.org/compound?orgid=GCF_000011965&id=Hexanoyl-ACPs",
         "0.3195999804435089"
        ],
        [
         "52",
         "3-Oxo-octanoyl-ACPs[c]",
         "RXN-9524, RXN-10020, RXN-9523",
         "https://biocyc.org/compound?orgid=RUEGERIA_POMEROYI_DSS3&id=3-Oxo-octanoyl-ACPs",
         "https://biocyc.org/compound?orgid=GCF_000011965&id=3-Oxo-octanoyl-ACPs",
         "0.3195999804435089"
        ],
        [
         "82",
         "3-oxo-decanoyl-ACPs[c]",
         "RXN-9527, RXN-9528",
         "https://biocyc.org/compound?orgid=RUEGERIA_POMEROYI_DSS3&id=3-oxo-decanoyl-ACPs",
         "https://biocyc.org/compound?orgid=GCF_000011965&id=3-oxo-decanoyl-ACPs",
         "0.3195999804435089"
        ],
        [
         "83",
         "Beta-hydroxydecanoyl-ACPs[c]",
         "RXN-9655, RXN-9528",
         "https://biocyc.org/compound?orgid=RUEGERIA_POMEROYI_DSS3&id=Beta-hydroxydecanoyl-ACPs",
         "https://biocyc.org/compound?orgid=GCF_000011965&id=Beta-hydroxydecanoyl-ACPs",
         "0.3195999804435089"
        ],
        [
         "56",
         "Octanoyl-ACPs[c]",
         "RXN-9659, RXN-9527, RXN-9526, RXN-10025",
         "https://biocyc.org/compound?orgid=RUEGERIA_POMEROYI_DSS3&id=Octanoyl-ACPs",
         "https://biocyc.org/compound?orgid=GCF_000011965&id=Octanoyl-ACPs",
         "0.3195999804435089"
        ],
        [
         "85",
         "Trans-D2-decenoyl-ACPs[c]",
         "RXN-9530, RXN-9655, RXN-9660",
         "https://biocyc.org/compound?orgid=RUEGERIA_POMEROYI_DSS3&id=Trans-D2-decenoyl-ACPs",
         "https://biocyc.org/compound?orgid=GCF_000011965&id=Trans-D2-decenoyl-ACPs",
         "0.3195999804435089"
        ],
        [
         "17",
         "3-Hydroxy-octanoyl-ACPs[c]",
         "RXN-9524, 4.2.1.59-RXN",
         "https://biocyc.org/compound?orgid=RUEGERIA_POMEROYI_DSS3&id=3-Hydroxy-octanoyl-ACPs",
         "https://biocyc.org/compound?orgid=GCF_000011965&id=3-Hydroxy-octanoyl-ACPs",
         "0.3195999804435089"
        ],
        [
         "16",
         "2-Octenoyl-ACPs[c]",
         "RXN-9659, RXN-9526, 4.2.1.59-RXN",
         "https://biocyc.org/compound?orgid=RUEGERIA_POMEROYI_DSS3&id=2-Octenoyl-ACPs",
         "https://biocyc.org/compound?orgid=GCF_000011965&id=2-Octenoyl-ACPs",
         "0.3195999804435089"
        ],
        [
         "14",
         "Beta-3-hydroxybutyryl-ACPs[c]",
         "4.2.1.58-RXN, RXN-10026, RXN-9514",
         "https://biocyc.org/compound?orgid=RUEGERIA_POMEROYI_DSS3&id=Beta-3-hydroxybutyryl-ACPs",
         "https://biocyc.org/compound?orgid=GCF_000011965&id=Beta-3-hydroxybutyryl-ACPs",
         "0.3195999804435089"
        ],
        [
         "7",
         "Acetoacetyl-ACPs[c]",
         "2.3.1.180-RXN, RXN-9514",
         "https://biocyc.org/compound?orgid=RUEGERIA_POMEROYI_DSS3&id=Acetoacetyl-ACPs",
         "https://biocyc.org/compound?orgid=GCF_000011965&id=Acetoacetyl-ACPs",
         "0.3195999804435089"
        ],
        [
         "86",
         "R-3-hydroxydodecanoyl-ACPs[c]",
         "RXN-9532, RXN-9533",
         "https://biocyc.org/compound?orgid=RUEGERIA_POMEROYI_DSS3&id=R-3-hydroxydodecanoyl-ACPs",
         "https://biocyc.org/compound?orgid=GCF_000011965&id=R-3-hydroxydodecanoyl-ACPs",
         "0.31959998044350885"
        ],
        [
         "12",
         "Dodecanoyl-ACPs[c]",
         "RXN-9535, LAUROYLACYLTRAN-RXN, 3.1.2.21-RXN, RXN-9534, RXN-9661, RXN-9653",
         "https://biocyc.org/compound?orgid=RUEGERIA_POMEROYI_DSS3&id=Dodecanoyl-ACPs",
         "https://biocyc.org/compound?orgid=GCF_000011965&id=Dodecanoyl-ACPs",
         "0.31959998044350885"
        ],
        [
         "87",
         "Dodec-2-enoyl-ACPs[c]",
         "RXN-9533, RXN-9661, RXN-9534",
         "https://biocyc.org/compound?orgid=RUEGERIA_POMEROYI_DSS3&id=Dodec-2-enoyl-ACPs",
         "https://biocyc.org/compound?orgid=GCF_000011965&id=Dodec-2-enoyl-ACPs",
         "0.31959998044350885"
        ],
        [
         "88",
         "3-oxo-myristoyl-ACPs[c]",
         "RXN-9535, RXN-9653, RXN-9536",
         "https://biocyc.org/compound?orgid=RUEGERIA_POMEROYI_DSS3&id=3-oxo-myristoyl-ACPs",
         "https://biocyc.org/compound?orgid=GCF_000011965&id=3-oxo-myristoyl-ACPs",
         "0.3195999804435088"
        ],
        [
         "89",
         "R-3-hydroxymyristoyl-ACPs[c]",
         "RXN-9537, UDPHYDROXYMYRGLUCOSAMNACETYLTRANS-RXN, UDPNACETYLGLUCOSAMACYLTRANS-RXN, RXN-9536",
         "https://biocyc.org/compound?orgid=RUEGERIA_POMEROYI_DSS3&id=R-3-hydroxymyristoyl-ACPs",
         "https://biocyc.org/compound?orgid=GCF_000011965&id=R-3-hydroxymyristoyl-ACPs",
         "0.3195999804435088"
        ],
        [
         "90",
         "Tetradec-2-enoyl-ACPs[c]",
         "RXN-9537, RXN-9538, RXN-9662",
         "https://biocyc.org/compound?orgid=RUEGERIA_POMEROYI_DSS3&id=Tetradec-2-enoyl-ACPs",
         "https://biocyc.org/compound?orgid=GCF_000011965&id=Tetradec-2-enoyl-ACPs",
         "0.3195999804435088"
        ],
        [
         "91",
         "3-oxo-palmitoyl-ACPs[c]",
         "RXN-9540, RXN-9539, RXN-9654",
         "https://biocyc.org/compound?orgid=RUEGERIA_POMEROYI_DSS3&id=3-oxo-palmitoyl-ACPs",
         "https://biocyc.org/compound?orgid=GCF_000011965&id=3-oxo-palmitoyl-ACPs",
         "0.3195999804435088"
        ],
        [
         "44",
         "Myristoyl-ACPs[c]",
         "MYRPALMTRAN-RXN, RXN-9539, RXN-9662, RXN-9538, MYRISTOYLACYLTRAN-RXN, RXN-9654",
         "https://biocyc.org/compound?orgid=RUEGERIA_POMEROYI_DSS3&id=Myristoyl-ACPs",
         "https://biocyc.org/compound?orgid=GCF_000011965&id=Myristoyl-ACPs",
         "0.3195999804435088"
        ],
        [
         "19",
         "R-3-Hydroxypalmitoyl-ACPs[c]",
         "4.2.1.61-RXN, RXN-9540",
         "https://biocyc.org/compound?orgid=RUEGERIA_POMEROYI_DSS3&id=R-3-Hydroxypalmitoyl-ACPs",
         "https://biocyc.org/compound?orgid=GCF_000011965&id=R-3-Hydroxypalmitoyl-ACPs",
         "0.31959998044350874"
        ],
        [
         "18",
         "2-Hexadecenoyl-ACPs[c]",
         "4.2.1.61-RXN, RXN-9542, RXN-9663",
         "https://biocyc.org/compound?orgid=RUEGERIA_POMEROYI_DSS3&id=2-Hexadecenoyl-ACPs",
         "https://biocyc.org/compound?orgid=GCF_000011965&id=2-Hexadecenoyl-ACPs",
         "0.31959998044350874"
        ],
        [
         "77",
         "Palmitoyl-ACPs[c]",
         "RXN-9549, RXN-9663, RXN-17018, RXN0-6705, RXN3O-1803, RXN-9542, RXN-16025, RXN-9632",
         "https://biocyc.org/compound?orgid=RUEGERIA_POMEROYI_DSS3&id=Palmitoyl-ACPs",
         "https://biocyc.org/compound?orgid=GCF_000011965&id=Palmitoyl-ACPs",
         "0.3195999804435087"
        ],
        [
         "0",
         "hdeACP[c]",
         "AACPS4, 1-ACYLGLYCEROL-3-P-ACYLTRANSFER-RXN, RXN-10462",
         "https://biocyc.org/compound?orgid=RUEGERIA_POMEROYI_DSS3&id=hdeACP",
         "https://biocyc.org/compound?orgid=GCF_000011965&id=hdeACP",
         "0.17290324920492547"
        ],
        [
         "22",
         "hdcea[c]",
         "AACPS4, FACOAE161",
         "https://biocyc.org/compound?orgid=RUEGERIA_POMEROYI_DSS3&id=hdcea",
         "https://biocyc.org/compound?orgid=GCF_000011965&id=hdcea",
         "0.17290324920492547"
        ],
        [
         "2",
         "Reduced-ferredoxins[c]",
         "RXN-17897, RXN-12691, RXN0-882, 1.2.7.8-RXN, ISPH2-RXN, 2.8.1.6-RXN, RXN-5061, RXN-17472, RXN0-884, 1.2.7.4-RXN",
         "https://biocyc.org/compound?orgid=RUEGERIA_POMEROYI_DSS3&id=Reduced-ferredoxins",
         "https://biocyc.org/compound?orgid=GCF_000011965&id=Reduced-ferredoxins",
         "0.15253564477019843"
        ],
        [
         "1",
         "Oxidized-ferredoxins[c]",
         "RXN-17897, RXN-12691, RXN0-882, 1.2.7.8-RXN, ISPH2-RXN, 2.8.1.6-RXN, RXN-5061, RXN-17472, RXN0-884, 1.2.7.4-RXN",
         "https://biocyc.org/compound?orgid=RUEGERIA_POMEROYI_DSS3&id=Oxidized-ferredoxins",
         "https://biocyc.org/compound?orgid=GCF_000011965&id=Oxidized-ferredoxins",
         "0.15253564477019843"
        ],
        [
         "49",
         "Menaquinols[c]",
         "RXN-15740, RXN-14107, RXN0-6554, RXN-18604, R601-RXN",
         "https://biocyc.org/compound?orgid=RUEGERIA_POMEROYI_DSS3&id=Menaquinols",
         "https://biocyc.org/compound?orgid=GCF_000011965&id=Menaquinols",
         "0.15153628358346397"
        ],
        [
         "50",
         "Menaquinones[c]",
         "RXN-15740, RXN-14107, RXN0-6554, RXN-18604, R601-RXN",
         "https://biocyc.org/compound?orgid=RUEGERIA_POMEROYI_DSS3&id=Menaquinones",
         "https://biocyc.org/compound?orgid=GCF_000011965&id=Menaquinones",
         "0.15153628358346397"
        ],
        [
         "30",
         "cdpdhdecg[c]",
         "PHOSPHASERSYN-RXN-2, CDPDIGLYSYN-RXN-2",
         "https://biocyc.org/compound?orgid=RUEGERIA_POMEROYI_DSS3&id=cdpdhdecg",
         "https://biocyc.org/compound?orgid=GCF_000011965&id=cdpdhdecg",
         "0.07334836561929159"
        ],
        [
         "47",
         "Oxidized-NrdH-Proteins[c]",
         "RXN0-748, RXN0-722, RIBONUCLEOSIDE-DIP-REDUCTII-RXN, PRODISULFREDUCT-A-RXN-GLUTATHIONE/Oxidized-NrdH-Proteins//OXIDIZED-GLUTATHIONE/Reduced-NrdH-Proteins.79., RXN0-747",
         "https://biocyc.org/compound?orgid=RUEGERIA_POMEROYI_DSS3&id=Oxidized-NrdH-Proteins",
         "https://biocyc.org/compound?orgid=GCF_000011965&id=Oxidized-NrdH-Proteins",
         "0.0300754276222765"
        ],
        [
         "48",
         "Reduced-NrdH-Proteins[c]",
         "RXN0-748, RXN0-722, RIBONUCLEOSIDE-DIP-REDUCTII-RXN, PRODISULFREDUCT-A-RXN-GLUTATHIONE/Oxidized-NrdH-Proteins//OXIDIZED-GLUTATHIONE/Reduced-NrdH-Proteins.79., RXN0-747",
         "https://biocyc.org/compound?orgid=RUEGERIA_POMEROYI_DSS3&id=Reduced-NrdH-Proteins",
         "https://biocyc.org/compound?orgid=GCF_000011965&id=Reduced-NrdH-Proteins",
         "0.0300754276222765"
        ],
        [
         "13",
         "4-hydroxybenzoate[c]",
         "2.5.1.39-RXN, 4OHBENZOATE-OCTAPRENYLTRANSFER-RXN, RXN-9222, RXN-9230, 4-HYDROXYBENZOATE-3-MONOOXYGENASE-RXN, CHORPYRLY-RXN, RXN-9003",
         "https://biocyc.org/compound?orgid=RUEGERIA_POMEROYI_DSS3&id=4-hydroxybenzoate",
         "https://biocyc.org/compound?orgid=GCF_000011965&id=4-hydroxybenzoate",
         "0.0002563181234708322"
        ]
       ],
       "shape": {
        "columns": 5,
        "rows": 112
       }
      },
      "text/html": [
       "<div>\n",
       "<style scoped>\n",
       "    .dataframe tbody tr th:only-of-type {\n",
       "        vertical-align: middle;\n",
       "    }\n",
       "\n",
       "    .dataframe tbody tr th {\n",
       "        vertical-align: top;\n",
       "    }\n",
       "\n",
       "    .dataframe thead th {\n",
       "        text-align: right;\n",
       "    }\n",
       "</style>\n",
       "<table border=\"1\" class=\"dataframe\">\n",
       "  <thead>\n",
       "    <tr style=\"text-align: right;\">\n",
       "      <th></th>\n",
       "      <th>ID</th>\n",
       "      <th>Reactions</th>\n",
       "      <th>Link 1</th>\n",
       "      <th>Link 2</th>\n",
       "      <th>Total Abs Flux</th>\n",
       "    </tr>\n",
       "  </thead>\n",
       "  <tbody>\n",
       "    <tr>\n",
       "      <th>41</th>\n",
       "      <td>Cytochromes-C-Reduced[p]</td>\n",
       "      <td>RXN-14107, CYTOCHROME-C-OXIDASE-RXN, 1.10.2.2-...</td>\n",
       "      <td>https://biocyc.org/compound?orgid=RUEGERIA_POM...</td>\n",
       "      <td>https://biocyc.org/compound?orgid=GCF_00001196...</td>\n",
       "      <td>35.523692</td>\n",
       "    </tr>\n",
       "    <tr>\n",
       "      <th>40</th>\n",
       "      <td>Cytochromes-C-Oxidized[p]</td>\n",
       "      <td>RXN-14107, CYTOCHROME-C-OXIDASE-RXN, 1.10.2.2-...</td>\n",
       "      <td>https://biocyc.org/compound?orgid=RUEGERIA_POM...</td>\n",
       "      <td>https://biocyc.org/compound?orgid=GCF_00001196...</td>\n",
       "      <td>35.523692</td>\n",
       "    </tr>\n",
       "    <tr>\n",
       "      <th>37</th>\n",
       "      <td>Glucopyranose[c]</td>\n",
       "      <td>GLUCISOM-RXN, GLCtpp</td>\n",
       "      <td>https://biocyc.org/compound?orgid=RUEGERIA_POM...</td>\n",
       "      <td>https://biocyc.org/compound?orgid=GCF_00001196...</td>\n",
       "      <td>10.880000</td>\n",
       "    </tr>\n",
       "    <tr>\n",
       "      <th>109</th>\n",
       "      <td>Glucopyranose[p]</td>\n",
       "      <td>GLCtex, GLCtpp</td>\n",
       "      <td>https://biocyc.org/compound?orgid=RUEGERIA_POM...</td>\n",
       "      <td>https://biocyc.org/compound?orgid=GCF_00001196...</td>\n",
       "      <td>10.880000</td>\n",
       "    </tr>\n",
       "    <tr>\n",
       "      <th>110</th>\n",
       "      <td>Glucopyranose[e]</td>\n",
       "      <td>EX_glc, GLCtex</td>\n",
       "      <td>https://biocyc.org/compound?orgid=RUEGERIA_POM...</td>\n",
       "      <td>https://biocyc.org/compound?orgid=GCF_00001196...</td>\n",
       "      <td>10.880000</td>\n",
       "    </tr>\n",
       "    <tr>\n",
       "      <th>...</th>\n",
       "      <td>...</td>\n",
       "      <td>...</td>\n",
       "      <td>...</td>\n",
       "      <td>...</td>\n",
       "      <td>...</td>\n",
       "    </tr>\n",
       "    <tr>\n",
       "      <th>73</th>\n",
       "      <td>Vernolates[c]</td>\n",
       "      <td>RXN-12134</td>\n",
       "      <td>https://biocyc.org/compound?orgid=RUEGERIA_POM...</td>\n",
       "      <td>https://biocyc.org/compound?orgid=GCF_00001196...</td>\n",
       "      <td>0.000000</td>\n",
       "    </tr>\n",
       "    <tr>\n",
       "      <th>74</th>\n",
       "      <td>D-Xylopyranose[c]</td>\n",
       "      <td>XYLISOM-RXN, RXN-14503</td>\n",
       "      <td>https://biocyc.org/compound?orgid=RUEGERIA_POM...</td>\n",
       "      <td>https://biocyc.org/compound?orgid=GCF_00001196...</td>\n",
       "      <td>0.000000</td>\n",
       "    </tr>\n",
       "    <tr>\n",
       "      <th>75</th>\n",
       "      <td>Apo-EntF[c]</td>\n",
       "      <td>RXN-15889</td>\n",
       "      <td>https://biocyc.org/compound?orgid=RUEGERIA_POM...</td>\n",
       "      <td>https://biocyc.org/compound?orgid=GCF_00001196...</td>\n",
       "      <td>0.000000</td>\n",
       "    </tr>\n",
       "    <tr>\n",
       "      <th>42</th>\n",
       "      <td>a-reduced-NrfB-protein[p]</td>\n",
       "      <td>NITRIC-OXIDE-REDUCTASE-RXN-NITRIC-OXIDE/a-redu...</td>\n",
       "      <td>https://biocyc.org/compound?orgid=RUEGERIA_POM...</td>\n",
       "      <td>https://biocyc.org/compound?orgid=GCF_00001196...</td>\n",
       "      <td>0.000000</td>\n",
       "    </tr>\n",
       "    <tr>\n",
       "      <th>111</th>\n",
       "      <td>8-Oxo-dGTP[c]</td>\n",
       "      <td>RXN-11396</td>\n",
       "      <td>https://biocyc.org/compound?orgid=RUEGERIA_POM...</td>\n",
       "      <td>https://biocyc.org/compound?orgid=GCF_00001196...</td>\n",
       "      <td>0.000000</td>\n",
       "    </tr>\n",
       "  </tbody>\n",
       "</table>\n",
       "<p>112 rows × 5 columns</p>\n",
       "</div>"
      ],
      "text/plain": [
       "                            ID  \\\n",
       "41    Cytochromes-C-Reduced[p]   \n",
       "40   Cytochromes-C-Oxidized[p]   \n",
       "37            Glucopyranose[c]   \n",
       "109           Glucopyranose[p]   \n",
       "110           Glucopyranose[e]   \n",
       "..                         ...   \n",
       "73               Vernolates[c]   \n",
       "74           D-Xylopyranose[c]   \n",
       "75                 Apo-EntF[c]   \n",
       "42   a-reduced-NrfB-protein[p]   \n",
       "111              8-Oxo-dGTP[c]   \n",
       "\n",
       "                                             Reactions  \\\n",
       "41   RXN-14107, CYTOCHROME-C-OXIDASE-RXN, 1.10.2.2-...   \n",
       "40   RXN-14107, CYTOCHROME-C-OXIDASE-RXN, 1.10.2.2-...   \n",
       "37                                GLUCISOM-RXN, GLCtpp   \n",
       "109                                     GLCtex, GLCtpp   \n",
       "110                                     EX_glc, GLCtex   \n",
       "..                                                 ...   \n",
       "73                                           RXN-12134   \n",
       "74                              XYLISOM-RXN, RXN-14503   \n",
       "75                                           RXN-15889   \n",
       "42   NITRIC-OXIDE-REDUCTASE-RXN-NITRIC-OXIDE/a-redu...   \n",
       "111                                          RXN-11396   \n",
       "\n",
       "                                                Link 1  \\\n",
       "41   https://biocyc.org/compound?orgid=RUEGERIA_POM...   \n",
       "40   https://biocyc.org/compound?orgid=RUEGERIA_POM...   \n",
       "37   https://biocyc.org/compound?orgid=RUEGERIA_POM...   \n",
       "109  https://biocyc.org/compound?orgid=RUEGERIA_POM...   \n",
       "110  https://biocyc.org/compound?orgid=RUEGERIA_POM...   \n",
       "..                                                 ...   \n",
       "73   https://biocyc.org/compound?orgid=RUEGERIA_POM...   \n",
       "74   https://biocyc.org/compound?orgid=RUEGERIA_POM...   \n",
       "75   https://biocyc.org/compound?orgid=RUEGERIA_POM...   \n",
       "42   https://biocyc.org/compound?orgid=RUEGERIA_POM...   \n",
       "111  https://biocyc.org/compound?orgid=RUEGERIA_POM...   \n",
       "\n",
       "                                                Link 2  Total Abs Flux  \n",
       "41   https://biocyc.org/compound?orgid=GCF_00001196...       35.523692  \n",
       "40   https://biocyc.org/compound?orgid=GCF_00001196...       35.523692  \n",
       "37   https://biocyc.org/compound?orgid=GCF_00001196...       10.880000  \n",
       "109  https://biocyc.org/compound?orgid=GCF_00001196...       10.880000  \n",
       "110  https://biocyc.org/compound?orgid=GCF_00001196...       10.880000  \n",
       "..                                                 ...             ...  \n",
       "73   https://biocyc.org/compound?orgid=GCF_00001196...        0.000000  \n",
       "74   https://biocyc.org/compound?orgid=GCF_00001196...        0.000000  \n",
       "75   https://biocyc.org/compound?orgid=GCF_00001196...        0.000000  \n",
       "42   https://biocyc.org/compound?orgid=GCF_00001196...        0.000000  \n",
       "111  https://biocyc.org/compound?orgid=GCF_00001196...        0.000000  \n",
       "\n",
       "[112 rows x 5 columns]"
      ]
     },
     "execution_count": 89,
     "metadata": {},
     "output_type": "execute_result"
    }
   ],
   "source": [
    "import pandas as pd\n",
    "\n",
    "# Check for class-looking names\n",
    "suspicious_names = pd.DataFrame([\n",
    "    {\n",
    "        \"ID\": met.id,\n",
    "        \"Reactions\": \", \".join([rxn.id for rxn in met.reactions]),\n",
    "        \"Link 1\": f\"https://biocyc.org/compound?orgid=RUEGERIA_POMEROYI_DSS3&id={met.id[:-3]}\",\n",
    "        \"Link 2\": f\"https://biocyc.org/compound?orgid=GCF_000011965&id={met.id[:-3]}\",\n",
    "        \"Total Abs Flux\": sum(abs(get_glc_flux(rxn.id)) for rxn in met.reactions)\n",
    "    }\n",
    "    for met in model.metabolites\n",
    "    if (met.id[:-3].upper() != met.id[:-3]\n",
    "        and met.id[:-3] != \"Pi\")]).sort_values(\"Total Abs Flux\", ascending=False)\n",
    "\n",
    "suspicious_names.to_clipboard(index=False)\n",
    "suspicious_names"
   ]
  },
  {
   "cell_type": "code",
   "execution_count": null,
   "id": "b8b6aaa5",
   "metadata": {},
   "outputs": [
    {
     "data": {
      "application/vnd.microsoft.datawrangler.viewer.v0+json": {
       "columns": [
        {
         "name": "index",
         "rawType": "int64",
         "type": "integer"
        },
        {
         "name": "ID",
         "rawType": "object",
         "type": "string"
        },
        {
         "name": "Stem",
         "rawType": "object",
         "type": "string"
        },
        {
         "name": "GPR",
         "rawType": "object",
         "type": "string"
        },
        {
         "name": "Reaction",
         "rawType": "object",
         "type": "string"
        },
        {
         "name": "Glucose flux",
         "rawType": "float64",
         "type": "float"
        }
       ],
       "ref": "48d326c7-aa98-4eca-9583-7d22b35544ed",
       "rows": [
        [
         "81",
         "RXN-1381-PALMITYL-COA/GLYCEROL-3P//1-PALMITOYLGLYCEROL-3-PHOSPHATE/CO-A.63.",
         "",
         "",
         "GLYCEROL-3P[c] + PALMITYL-COA[c] --> 1-PALMITOYLGLYCEROL-3-PHOSPHATE[c] + CO-A[c]",
         "0.0"
        ],
        [
         "84",
         "RXN-14014-DELTA1-PIPERIDEINE-2-6-DICARBOXYLATE/NADP/WATER//CPD-14443/NADPH/PROTON.72.",
         "",
         "",
         "CPD-14443[c] + NADPH[c] + PROTON[c] --> DELTA1-PIPERIDEINE-2-6-DICARBOXYLATE[c] + NADP[c] + WATER[c]",
         "0.0"
        ],
        [
         "86",
         "RXN-16032-PALMITYL-COA/CPD0-2113//CPD-17273/CO-A.39.",
         "",
         "",
         "CPD0-2113[c] + PALMITYL-COA[c] <=> CO-A[c] + CPD-17273[c]",
         "0.0"
        ],
        [
         "87",
         "RXN-8638-BETAINE-ALDEHYDE-HYDRATE/ATP/WATER//BETAINE-ALDEHYDE-HYDRATE/ADP/Pi/PROTON.75.",
         "",
         "",
         "ATP[c] + BETAINE-ALDEHYDE-HYDRATE[p] + WATER[c] --> ADP[c] + BETAINE-ALDEHYDE-HYDRATE[c] + PROTON[c] + Pi[c]",
         "0.0"
        ],
        [
         "88",
         "RXN-8775-CPD-654/NAD/WATER//2-KETOGLUTARATE/NADH/PROTON.47.",
         "",
         "",
         "CPD-654[c] + NAD[c] + WATER[c] <=> 2-KETOGLUTARATE[c] + NADH[c] + 2.0 PROTON[c]",
         "0.0"
        ],
        [
         "82",
         "RXN-1381-TETRADECANOYL-COA/GLYCEROL-3P//CPD-18379/CO-A.46.",
         "",
         "",
         "GLYCEROL-3P[c] + TETRADECANOYL-COA[c] --> CO-A[c] + CPD-18379[c]",
         "0.0"
        ],
        [
         "0",
         "1.4.1.21-RXN-L-ASPARTATE/NAD/WATER//OXALACETIC_ACID/AMMONIUM/NADH/PROTON.60.",
         "1.4.1.21-RXN",
         "SPO_RS14615",
         "L-ASPARTATE[c] + NAD[c] + WATER[c] <=> AMMONIUM[c] + NADH[c] + OXALACETIC_ACID[c] + PROTON[c]",
         "0.0"
        ],
        [
         "1",
         "1.4.1.21-RXN-L-ASPARTATE/NADP/WATER//OXALACETIC_ACID/AMMONIUM/NADPH/PROTON.62.",
         "1.4.1.21-RXN",
         "SPO_RS14615",
         "L-ASPARTATE[c] + NADP[c] + WATER[c] <=> AMMONIUM[c] + NADPH[c] + OXALACETIC_ACID[c] + PROTON[c]",
         "0.0"
        ],
        [
         "2",
         "1.5.5.1-RXN-ETF-Reduced/UBIQUINONE-10//ETF-Oxidized/CPD-9958/PROTON.56.",
         "1.5.5.1-RXN",
         "",
         "ETF-Reduced[c] + UBIQUINONE-10[c] --> CPD-9958[c] + ETF-Oxidized[c] + PROTON[c]",
         "0.7385837695142149"
        ],
        [
         "3",
         "2.6.1.57-RXN-PHE/2-KETOGLUTARATE//PHENYL-PYRUVATE/GLT.41.",
         "2.6.1.57-RXN",
         "SPO3720",
         "2-KETOGLUTARATE[c] + PHE[c] <=> GLT[c] + PHENYL-PYRUVATE[c]",
         "-0.08847478519506312"
        ],
        [
         "4",
         "2.7.1.156-RXN-ITP/ADENOSYLCOBINAMIDE//ADENOSYLCOBINAMIDE-P/IDP/PROTON.56.",
         "2.7.1.156-RXN",
         "SPO_RS02050",
         "ADENOSYLCOBINAMIDE[c] + ITP[c] --> ADENOSYLCOBINAMIDE-P[c] + IDP[c] + PROTON[c]",
         "0.0"
        ],
        [
         "5",
         "5.4.2.10-RXN-CPD-13469//GLUCOSAMINE-1P.26.",
         "5.4.2.10-RXN",
         "SPO1364",
         "CPD-13469[c] <=> GLUCOSAMINE-1P[c]",
         "0.0008417894983022876"
        ],
        [
         "7",
         "ACYLCOADEHYDROG-RXN-POLYMER-INST-Saturated-Fatty-Acyl-CoA-C16-H32/ETF-Oxidized/PROTON//CPD-14928/ETF-Reduced.89.",
         "ACYLCOADEHYDROG-RXN",
         "G1RHL-1790 or SPOA0288 or G1RHL-3261 or SPO0575 or SPO0582 or G1RHL-1483 or G1RHL-1661",
         "ETF-Oxidized[c] + POLYMER-INST-Saturated-Fatty-Acyl-CoA-C16-H32[c] + PROTON[c] --> CPD-14928[c] + ETF-Reduced[c]",
         "0.0"
        ],
        [
         "6",
         "ACYLCOADEHYDROG-RXN-POLYMER-INST-Saturated-Fatty-Acyl-CoA-C0-H0/ETF-Oxidized/PROTON//CROTONYL-COA/ETF-Reduced.90.",
         "ACYLCOADEHYDROG-RXN",
         "G1RHL-1790 or SPOA0288 or G1RHL-3261 or SPO0575 or SPO0582 or G1RHL-1483 or G1RHL-1661",
         "ETF-Oxidized[c] + POLYMER-INST-Saturated-Fatty-Acyl-CoA-C0-H0[c] + PROTON[c] --> CROTONYL-COA[c] + ETF-Reduced[c]",
         "0.0"
        ],
        [
         "8",
         "ACYLCOADEHYDROG-RXN-STEAROYL-COA/ETF-Oxidized/PROTON//POLYMER-INST-TRANS-D2-ENOYL-COA-C14-H28/ETF-Reduced.86.",
         "ACYLCOADEHYDROG-RXN",
         "G1RHL-1790 or SPOA0288 or G1RHL-3261 or SPO0575 or SPO0582 or G1RHL-1483 or G1RHL-1661",
         "ETF-Oxidized[c] + PROTON[c] + STEAROYL-COA[c] --> ETF-Reduced[c] + POLYMER-INST-TRANS-D2-ENOYL-COA-C14-H28[c]",
         "0.0"
        ],
        [
         "9",
         "ACYLCOASYN-RXN-POLYMER-INST-CPD66-39-C0-H0/CO-A/ATP//POLYMER-INST-Saturated-Fatty-Acyl-CoA-C0-H0/PPI/AMP.90.",
         "ACYLCOASYN-RXN",
         "G1RHL-2048 or G1RHL-3161 or G1RHL-538",
         "ATP[c] + CO-A[c] + POLYMER-INST-CPD66-39-C0-H0[c] --> AMP[c] + POLYMER-INST-Saturated-Fatty-Acyl-CoA-C0-H0[c] + PPI[c]",
         "0.0"
        ],
        [
         "10",
         "ACYLCOASYN-RXN-POLYMER-INST-CPD66-39-C10-H20/CO-A/ATP//TETRADECANOYL-COA/PPI/AMP.66.",
         "ACYLCOASYN-RXN",
         "G1RHL-2048 or G1RHL-3161 or G1RHL-538",
         "ATP[c] + CO-A[c] + POLYMER-INST-CPD66-39-C10-H20[c] --> AMP[c] + PPI[c] + TETRADECANOYL-COA[c]",
         "0.0"
        ],
        [
         "11",
         "ACYLCOASYN-RXN-POLYMER-INST-CPD66-39-C16-H32/CO-A/ATP//POLYMER-INST-Saturated-Fatty-Acyl-CoA-C16-H32/PPI/AMP.94.",
         "ACYLCOASYN-RXN",
         "G1RHL-2048 or G1RHL-3161 or G1RHL-538",
         "ATP[c] + CO-A[c] + POLYMER-INST-CPD66-39-C16-H32[c] --> AMP[c] + POLYMER-INST-Saturated-Fatty-Acyl-CoA-C16-H32[c] + PPI[c]",
         "0.0"
        ],
        [
         "12",
         "ACYLCOASYN-RXN-POLYMER-INST-CPD66-39-C2-H4/CO-A/ATP//HEXANOYL-COA/PPI/AMP.59.",
         "ACYLCOASYN-RXN",
         "G1RHL-2048 or G1RHL-3161 or G1RHL-538",
         "ATP[c] + CO-A[c] + POLYMER-INST-CPD66-39-C2-H4[c] --> AMP[c] + HEXANOYL-COA[c] + PPI[c]",
         "0.0"
        ],
        [
         "13",
         "ALCOHOL-DEHYDROG-GENERIC-RXN-OCTANOL/NAD//CPD-371/NADH/PROTON.33.",
         "ALCOHOL-DEHYDROG-GENERIC-RXN",
         "G1RHL-153 or G1RHL-1192 or G1RHL-1427 or G1RHL-2580",
         "NAD[c] + OCTANOL[c] <=> CPD-371[c] + NADH[c] + PROTON[c]",
         "0.0"
        ],
        [
         "14",
         "AMIDASE-RXN-CPD-14534/WATER//GLYCOLLATE/AMMONIUM.37.",
         "AMIDASE-RXN",
         "SPO_RS12825 or SPO_RS13105 or SPO_RS17305",
         "CPD-14534[c] + WATER[c] --> AMMONIUM[c] + GLYCOLATE[c]",
         "0.0"
        ],
        [
         "15",
         "ANTHRANILOYL-COA-MONOOXYGENASE-RXN-2-AMINOBENZOYL-COA/NADH/OXYGEN-MOLECULE/PROTON//2-AMINO-5-OXOCYCLOHEX-1-ENECARBOXYL-COA/NAD/WATER.98.",
         "ANTHRANILOYL-COA-MONOOXYGENASE-RXN",
         "G1RHL-3265",
         "2-AMINOBENZOYL-COA[c] + 2.0 NADH[c] + OXYGEN-MOLECULE[c] + 2.0 PROTON[c] --> 2-AMINO-5-OXOCYCLOHEX-1-ENECARBOXYL-COA[c] + 2.0 NAD[c] + WATER[c]",
         "0.0"
        ],
        [
         "16",
         "ANTHRANILOYL-COA-MONOOXYGENASE-RXN-2-AMINOBENZOYL-COA/NADPH/OXYGEN-MOLECULE/PROTON//2-AMINO-5-OXOCYCLOHEX-1-ENECARBOXYL-COA/NADP/WATER.100.",
         "ANTHRANILOYL-COA-MONOOXYGENASE-RXN",
         "G1RHL-3265",
         "2-AMINOBENZOYL-COA[c] + 2.0 NADPH[c] + OXYGEN-MOLECULE[c] + 2.0 PROTON[c] --> 2-AMINO-5-OXOCYCLOHEX-1-ENECARBOXYL-COA[c] + 2.0 NADP[c] + WATER[c]",
         "0.0"
        ],
        [
         "25",
         "DEOXYCYTIDINE-KINASE-RXN-DEOXYCYTIDINE/UTP//DCMP/UDP/PROTON.35.",
         "DEOXYCYTIDINE-KINASE-RXN",
         "",
         "DEOXYCYTIDINE[c] + UTP[c] --> DCMP[c] + PROTON[c] + UDP[c]",
         "0.0"
        ],
        [
         "23",
         "DEOXYCYTIDINE-KINASE-RXN-DEOXYCYTIDINE/ITP//DCMP/IDP/PROTON.35.",
         "DEOXYCYTIDINE-KINASE-RXN",
         "",
         "DEOXYCYTIDINE[c] + ITP[c] --> DCMP[c] + IDP[c] + PROTON[c]",
         "0.0"
        ],
        [
         "22",
         "DEOXYCYTIDINE-KINASE-RXN-DEOXYCYTIDINE/GTP//DCMP/GDP/PROTON.35.",
         "DEOXYCYTIDINE-KINASE-RXN",
         "",
         "DEOXYCYTIDINE[c] + GTP[c] --> DCMP[c] + GDP[c] + PROTON[c]",
         "0.0"
        ],
        [
         "21",
         "DEOXYCYTIDINE-KINASE-RXN-DEOXYCYTIDINE/DUTP//DCMP/DUDP/PROTON.37.",
         "DEOXYCYTIDINE-KINASE-RXN",
         "",
         "DEOXYCYTIDINE[c] + DUTP[c] --> DCMP[c] + DUDP[c] + PROTON[c]",
         "0.0"
        ],
        [
         "20",
         "DEOXYCYTIDINE-KINASE-RXN-DEOXYCYTIDINE/DITP//DCMP/CPD0-2231/PROTON.42.",
         "DEOXYCYTIDINE-KINASE-RXN",
         "",
         "DEOXYCYTIDINE[c] + DITP[c] --> CPD0-2231[c] + DCMP[c] + PROTON[c]",
         "0.0"
        ],
        [
         "18",
         "DEOXYCYTIDINE-KINASE-RXN-DEOXYCYTIDINE/DATP//DCMP/DADP/PROTON.37.",
         "DEOXYCYTIDINE-KINASE-RXN",
         "",
         "DATP[c] + DEOXYCYTIDINE[c] --> DADP[c] + DCMP[c] + PROTON[c]",
         "0.0"
        ],
        [
         "17",
         "DEOXYCYTIDINE-KINASE-RXN-DEOXYCYTIDINE/CTP//DCMP/CDP/PROTON.35.",
         "DEOXYCYTIDINE-KINASE-RXN",
         "",
         "CTP[c] + DEOXYCYTIDINE[c] --> CDP[c] + DCMP[c] + PROTON[c]",
         "0.0"
        ],
        [
         "24",
         "DEOXYCYTIDINE-KINASE-RXN-DEOXYCYTIDINE/TTP//DCMP/TDP/PROTON.35.",
         "DEOXYCYTIDINE-KINASE-RXN",
         "",
         "DEOXYCYTIDINE[c] + DTTP[c] --> DCMP[c] + PROTON[c] + TDP[c]",
         "0.0"
        ],
        [
         "19",
         "DEOXYCYTIDINE-KINASE-RXN-DEOXYCYTIDINE/DCTP//DCMP/DCDP/PROTON.37.",
         "DEOXYCYTIDINE-KINASE-RXN",
         "",
         "DCTP[c] + DEOXYCYTIDINE[c] --> DCDP[c] + DCMP[c] + PROTON[c]",
         "0.0"
        ],
        [
         "34",
         "ENOYL-COA-DELTA-ISOM-RXN-POLYMER-INST-CIS-DELTA3-ENOYL-COA-C8-H16//CPD-7222.51.",
         "ENOYL-COA-DELTA-ISOM-RXN",
         "SPO0740",
         "POLYMER-INST-CIS-DELTA3-ENOYL-COA-C8-H16[c] --> CPD-7222[c]",
         "0.0"
        ],
        [
         "33",
         "ENOYL-COA-DELTA-ISOM-RXN-POLYMER-INST-CIS-DELTA3-ENOYL-COA-C6-H12//T2-DECENOYL-COA.58.",
         "ENOYL-COA-DELTA-ISOM-RXN",
         "SPO0740",
         "POLYMER-INST-CIS-DELTA3-ENOYL-COA-C6-H12[c] --> T2-DECENOYL-COA[c]",
         "0.0"
        ],
        [
         "31",
         "ENOYL-COA-DELTA-ISOM-RXN-POLYMER-INST-CIS-DELTA3-ENOYL-COA-C2-H4//CPD0-2121.51.",
         "ENOYL-COA-DELTA-ISOM-RXN",
         "SPO0740",
         "POLYMER-INST-CIS-DELTA3-ENOYL-COA-C2-H4[c] --> CPD0-2121[c]",
         "0.0"
        ],
        [
         "26",
         "ENOYL-COA-DELTA-ISOM-RXN-POLYMER-INST-CIS-DELTA3-ENOYL-COA-C0-H0//CROTONYL-COA.54.",
         "ENOYL-COA-DELTA-ISOM-RXN",
         "SPO0740",
         "POLYMER-INST-CIS-DELTA3-ENOYL-COA-C0-H0[c] --> CROTONYL-COA[c]",
         "0.0"
        ],
        [
         "27",
         "ENOYL-COA-DELTA-ISOM-RXN-POLYMER-INST-CIS-DELTA3-ENOYL-COA-C10-H20//CPD-15568.53.",
         "ENOYL-COA-DELTA-ISOM-RXN",
         "SPO0740",
         "POLYMER-INST-CIS-DELTA3-ENOYL-COA-C10-H20[c] --> CPD-15568[c]",
         "0.0"
        ],
        [
         "28",
         "ENOYL-COA-DELTA-ISOM-RXN-POLYMER-INST-CIS-DELTA3-ENOYL-COA-C12-H24//CPD0-2117.53.",
         "ENOYL-COA-DELTA-ISOM-RXN",
         "SPO0740",
         "POLYMER-INST-CIS-DELTA3-ENOYL-COA-C12-H24[c] <=> CPD0-2117[c]",
         "-0.08645162460246342"
        ],
        [
         "29",
         "ENOYL-COA-DELTA-ISOM-RXN-POLYMER-INST-CIS-DELTA3-ENOYL-COA-C14-H28//POLYMER-INST-TRANS-D2-ENOYL-COA-C14-H28.83.",
         "ENOYL-COA-DELTA-ISOM-RXN",
         "SPO0740",
         "POLYMER-INST-CIS-DELTA3-ENOYL-COA-C14-H28[c] --> POLYMER-INST-TRANS-D2-ENOYL-COA-C14-H28[c]",
         "0.0"
        ],
        [
         "32",
         "ENOYL-COA-DELTA-ISOM-RXN-POLYMER-INST-CIS-DELTA3-ENOYL-COA-C4-H8//CPD0-2108.51.",
         "ENOYL-COA-DELTA-ISOM-RXN",
         "SPO0740",
         "POLYMER-INST-CIS-DELTA3-ENOYL-COA-C4-H8[c] --> CPD0-2108[c]",
         "0.0"
        ],
        [
         "30",
         "ENOYL-COA-DELTA-ISOM-RXN-POLYMER-INST-CIS-DELTA3-ENOYL-COA-C16-H32//CPD-14928.53.",
         "ENOYL-COA-DELTA-ISOM-RXN",
         "SPO0740",
         "POLYMER-INST-CIS-DELTA3-ENOYL-COA-C16-H32[c] --> CPD-14928[c]",
         "0.0"
        ],
        [
         "39",
         "ENOYL-COA-HYDRAT-RXN-POLYMER-INST-L-3-HYDROXYACYL-COA-C8-H16//CPD-7222/WATER.56.",
         "ENOYL-COA-HYDRAT-RXN",
         "SPO0740 or G1RHL-98 or G1RHL-3262",
         "CPD-7222[c] + WATER[c] --> POLYMER-INST-L-3-HYDROXYACYL-COA-C8-H16[c]",
         "0.0"
        ],
        [
         "35",
         "ENOYL-COA-HYDRAT-RXN-POLYMER-INST-L-3-HYDROXYACYL-COA-C12-H24//CPD0-2117/WATER.58.",
         "ENOYL-COA-HYDRAT-RXN",
         "SPO0740 or G1RHL-98 or G1RHL-3262",
         "CPD0-2117[c] + WATER[c] --> POLYMER-INST-L-3-HYDROXYACYL-COA-C12-H24[c]",
         "0.0"
        ],
        [
         "36",
         "ENOYL-COA-HYDRAT-RXN-POLYMER-INST-L-3-HYDROXYACYL-COA-C14-H28//POLYMER-INST-TRANS-D2-ENOYL-COA-C14-H28/WATER.88.",
         "ENOYL-COA-HYDRAT-RXN",
         "SPO0740 or G1RHL-98 or G1RHL-3262",
         "POLYMER-INST-TRANS-D2-ENOYL-COA-C14-H28[c] + WATER[c] --> POLYMER-INST-L-3-HYDROXYACYL-COA-C14-H28[c]",
         "0.0"
        ],
        [
         "37",
         "ENOYL-COA-HYDRAT-RXN-POLYMER-INST-L-3-HYDROXYACYL-COA-C16-H32//CPD-14928/WATER.58.",
         "ENOYL-COA-HYDRAT-RXN",
         "SPO0740 or G1RHL-98 or G1RHL-3262",
         "CPD-14928[c] + WATER[c] --> POLYMER-INST-L-3-HYDROXYACYL-COA-C16-H32[c]",
         "0.0"
        ],
        [
         "38",
         "ENOYL-COA-HYDRAT-RXN-POLYMER-INST-L-3-HYDROXYACYL-COA-C4-H8//CPD0-2108/WATER.56.",
         "ENOYL-COA-HYDRAT-RXN",
         "SPO0740 or G1RHL-98 or G1RHL-3262",
         "CPD0-2108[c] + WATER[c] --> POLYMER-INST-L-3-HYDROXYACYL-COA-C4-H8[c]",
         "0.0"
        ],
        [
         "41",
         "GLUCONATE-5-DEHYDROGENASE-RXN-GLUCONATE/NADP//5-DEHYDROGLUCONATE/NADPH/PROTON.48.",
         "GLUCONATE-5-DEHYDROGENASE-RXN",
         "SPO0595 or SPO2417",
         "5-DEHYDROGLUCONATE[c] + NADPH[c] + PROTON[c] --> GLUCONATE[c] + NADP[c]",
         "0.0"
        ],
        [
         "40",
         "GLUCONATE-5-DEHYDROGENASE-RXN-GLUCONATE/NAD//5-DEHYDROGLUCONATE/NADH/PROTON.46.",
         "GLUCONATE-5-DEHYDROGENASE-RXN",
         "SPO0595 or SPO2417",
         "5-DEHYDROGLUCONATE[c] + NADH[c] + PROTON[c] --> GLUCONATE[c] + NAD[c]",
         "0.0"
        ],
        [
         "42",
         "GLYC3PDEHYDROGBIOSYN-RXN-GLYCEROL-3P/NADP//DIHYDROXY-ACETONE-PHOSPHATE/NADPH/PROTON.59.",
         "GLYC3PDEHYDROGBIOSYN-RXN",
         "SPO3855",
         "DIHYDROXY-ACETONE-PHOSPHATE[c] + NADPH[c] + PROTON[c] --> GLYCEROL-3P[c] + NADP[c]",
         "0.07989999511087778"
        ],
        [
         "43",
         "HAONITRO-RXN-Cytochromes-C-Oxidized/HYDROXYLAMINE/WATER//Cytochromes-C-Reduced/NITRITE/PROTON.81.",
         "HAONITRO-RXN",
         "G1RHL-3100",
         "4.0 Cytochromes-C-Oxidized[p] + HYDROXYLAMINE[c] + WATER[c] --> 4.0 Cytochromes-C-Reduced[p] + NITRITE[c] + 5.0 PROTON[c]",
         "0.0"
        ]
       ],
       "shape": {
        "columns": 5,
        "rows": 112
       }
      },
      "text/html": [
       "<div>\n",
       "<style scoped>\n",
       "    .dataframe tbody tr th:only-of-type {\n",
       "        vertical-align: middle;\n",
       "    }\n",
       "\n",
       "    .dataframe tbody tr th {\n",
       "        vertical-align: top;\n",
       "    }\n",
       "\n",
       "    .dataframe thead th {\n",
       "        text-align: right;\n",
       "    }\n",
       "</style>\n",
       "<table border=\"1\" class=\"dataframe\">\n",
       "  <thead>\n",
       "    <tr style=\"text-align: right;\">\n",
       "      <th></th>\n",
       "      <th>ID</th>\n",
       "      <th>Stem</th>\n",
       "      <th>GPR</th>\n",
       "      <th>Reaction</th>\n",
       "      <th>Glucose flux</th>\n",
       "    </tr>\n",
       "  </thead>\n",
       "  <tbody>\n",
       "    <tr>\n",
       "      <th>81</th>\n",
       "      <td>RXN-1381-PALMITYL-COA/GLYCEROL-3P//1-PALMITOYL...</td>\n",
       "      <td></td>\n",
       "      <td></td>\n",
       "      <td>GLYCEROL-3P[c] + PALMITYL-COA[c] --&gt; 1-PALMITO...</td>\n",
       "      <td>0.0</td>\n",
       "    </tr>\n",
       "    <tr>\n",
       "      <th>84</th>\n",
       "      <td>RXN-14014-DELTA1-PIPERIDEINE-2-6-DICARBOXYLATE...</td>\n",
       "      <td></td>\n",
       "      <td></td>\n",
       "      <td>CPD-14443[c] + NADPH[c] + PROTON[c] --&gt; DELTA1...</td>\n",
       "      <td>0.0</td>\n",
       "    </tr>\n",
       "    <tr>\n",
       "      <th>86</th>\n",
       "      <td>RXN-16032-PALMITYL-COA/CPD0-2113//CPD-17273/CO...</td>\n",
       "      <td></td>\n",
       "      <td></td>\n",
       "      <td>CPD0-2113[c] + PALMITYL-COA[c] &lt;=&gt; CO-A[c] + C...</td>\n",
       "      <td>0.0</td>\n",
       "    </tr>\n",
       "    <tr>\n",
       "      <th>87</th>\n",
       "      <td>RXN-8638-BETAINE-ALDEHYDE-HYDRATE/ATP/WATER//B...</td>\n",
       "      <td></td>\n",
       "      <td></td>\n",
       "      <td>ATP[c] + BETAINE-ALDEHYDE-HYDRATE[p] + WATER[c...</td>\n",
       "      <td>0.0</td>\n",
       "    </tr>\n",
       "    <tr>\n",
       "      <th>88</th>\n",
       "      <td>RXN-8775-CPD-654/NAD/WATER//2-KETOGLUTARATE/NA...</td>\n",
       "      <td></td>\n",
       "      <td></td>\n",
       "      <td>CPD-654[c] + NAD[c] + WATER[c] &lt;=&gt; 2-KETOGLUTA...</td>\n",
       "      <td>0.0</td>\n",
       "    </tr>\n",
       "    <tr>\n",
       "      <th>...</th>\n",
       "      <td>...</td>\n",
       "      <td>...</td>\n",
       "      <td>...</td>\n",
       "      <td>...</td>\n",
       "      <td>...</td>\n",
       "    </tr>\n",
       "    <tr>\n",
       "      <th>108</th>\n",
       "      <td>TRANS-RXN1G48-9-VAL/PROTON//VAL/PROTON.23.</td>\n",
       "      <td>TRANS-RXN1G48-9</td>\n",
       "      <td></td>\n",
       "      <td>PROTON[p] + VAL[p] --&gt; PROTON[c] + VAL[c]</td>\n",
       "      <td>0.0</td>\n",
       "    </tr>\n",
       "    <tr>\n",
       "      <th>107</th>\n",
       "      <td>TRANS-RXN1G48-9-GLT/PROTON//GLT/PROTON.23.</td>\n",
       "      <td>TRANS-RXN1G48-9</td>\n",
       "      <td></td>\n",
       "      <td>GLT[p] + PROTON[p] --&gt; GLT[c] + PROTON[c]</td>\n",
       "      <td>0.0</td>\n",
       "    </tr>\n",
       "    <tr>\n",
       "      <th>109</th>\n",
       "      <td>TSA-REDUCT-RXN-GLYCERATE/NADP//TARTRONATE-S-AL...</td>\n",
       "      <td>TSA-REDUCT-RXN</td>\n",
       "      <td>SPO2560</td>\n",
       "      <td>NADPH[c] + PROTON[c] + TARTRONATE-S-ALD[c] --&gt;...</td>\n",
       "      <td>0.0</td>\n",
       "    </tr>\n",
       "    <tr>\n",
       "      <th>110</th>\n",
       "      <td>XYLISOM-RXN-BETA-D-XYLOSE//D-XYLULOSE.26.</td>\n",
       "      <td>XYLISOM-RXN</td>\n",
       "      <td>SPO0856</td>\n",
       "      <td>BETA-D-XYLOSE[c] &lt;=&gt; D-XYLULOSE[c]</td>\n",
       "      <td>0.0</td>\n",
       "    </tr>\n",
       "    <tr>\n",
       "      <th>111</th>\n",
       "      <td>XYLISOM-RXN-XYLOSE//D-XYLULOSE.19.</td>\n",
       "      <td>XYLISOM-RXN</td>\n",
       "      <td>SPO0856</td>\n",
       "      <td>XYLOSE[c] &lt;=&gt; D-XYLULOSE[c]</td>\n",
       "      <td>0.0</td>\n",
       "    </tr>\n",
       "  </tbody>\n",
       "</table>\n",
       "<p>112 rows × 5 columns</p>\n",
       "</div>"
      ],
      "text/plain": [
       "                                                    ID             Stem  \\\n",
       "81   RXN-1381-PALMITYL-COA/GLYCEROL-3P//1-PALMITOYL...                    \n",
       "84   RXN-14014-DELTA1-PIPERIDEINE-2-6-DICARBOXYLATE...                    \n",
       "86   RXN-16032-PALMITYL-COA/CPD0-2113//CPD-17273/CO...                    \n",
       "87   RXN-8638-BETAINE-ALDEHYDE-HYDRATE/ATP/WATER//B...                    \n",
       "88   RXN-8775-CPD-654/NAD/WATER//2-KETOGLUTARATE/NA...                    \n",
       "..                                                 ...              ...   \n",
       "108         TRANS-RXN1G48-9-VAL/PROTON//VAL/PROTON.23.  TRANS-RXN1G48-9   \n",
       "107         TRANS-RXN1G48-9-GLT/PROTON//GLT/PROTON.23.  TRANS-RXN1G48-9   \n",
       "109  TSA-REDUCT-RXN-GLYCERATE/NADP//TARTRONATE-S-AL...   TSA-REDUCT-RXN   \n",
       "110          XYLISOM-RXN-BETA-D-XYLOSE//D-XYLULOSE.26.      XYLISOM-RXN   \n",
       "111                 XYLISOM-RXN-XYLOSE//D-XYLULOSE.19.      XYLISOM-RXN   \n",
       "\n",
       "         GPR                                           Reaction  Glucose flux  \n",
       "81            GLYCEROL-3P[c] + PALMITYL-COA[c] --> 1-PALMITO...           0.0  \n",
       "84            CPD-14443[c] + NADPH[c] + PROTON[c] --> DELTA1...           0.0  \n",
       "86            CPD0-2113[c] + PALMITYL-COA[c] <=> CO-A[c] + C...           0.0  \n",
       "87            ATP[c] + BETAINE-ALDEHYDE-HYDRATE[p] + WATER[c...           0.0  \n",
       "88            CPD-654[c] + NAD[c] + WATER[c] <=> 2-KETOGLUTA...           0.0  \n",
       "..       ...                                                ...           ...  \n",
       "108                   PROTON[p] + VAL[p] --> PROTON[c] + VAL[c]           0.0  \n",
       "107                   GLT[p] + PROTON[p] --> GLT[c] + PROTON[c]           0.0  \n",
       "109  SPO2560  NADPH[c] + PROTON[c] + TARTRONATE-S-ALD[c] -->...           0.0  \n",
       "110  SPO0856                 BETA-D-XYLOSE[c] <=> D-XYLULOSE[c]           0.0  \n",
       "111  SPO0856                        XYLOSE[c] <=> D-XYLULOSE[c]           0.0  \n",
       "\n",
       "[112 rows x 5 columns]"
      ]
     },
     "execution_count": 77,
     "metadata": {},
     "output_type": "execute_result"
    }
   ],
   "source": [
    "instanced_reactions = pd.DataFrame([\n",
    "    {\n",
    "        \"ID\": rxn.id,\n",
    "        \"Stem\": rxn.annotation.get(\"stem\", \"\"),\n",
    "        \"GPR\": rxn.gene_reaction_rule,\n",
    "        \"Reaction\": rxn.reaction,\n",
    "        \"Glucose flux\": get_glc_flux(rxn.id)\n",
    "    }\n",
    "    for rxn in model.reactions\n",
    "    if \"//\" in rxn.id\n",
    "]).sort_values(\"Stem\")\n",
    "\n",
    "instanced_reactions.to_clipboard(index=False)\n",
    "instanced_reactions"
   ]
  },
  {
   "cell_type": "code",
   "execution_count": 92,
   "id": "92e937c3",
   "metadata": {},
   "outputs": [
    {
     "data": {
      "text/plain": [
       "0.0"
      ]
     },
     "execution_count": 92,
     "metadata": {},
     "output_type": "execute_result"
    }
   ],
   "source": [
    "model.reactions.get_by_id(\"EX_glc\").lower_bound"
   ]
  },
  {
   "cell_type": "code",
   "execution_count": null,
   "id": "9304dbc4",
   "metadata": {},
   "outputs": [
    {
     "data": {
      "application/vnd.microsoft.datawrangler.viewer.v0+json": {
       "columns": [
        {
         "name": "index",
         "rawType": "int64",
         "type": "integer"
        },
        {
         "name": "ID",
         "rawType": "object",
         "type": "string"
        },
        {
         "name": "Flux",
         "rawType": "float64",
         "type": "float"
        },
        {
         "name": "Abs Flux",
         "rawType": "float64",
         "type": "float"
        },
        {
         "name": "GPR",
         "rawType": "object",
         "type": "string"
        }
       ],
       "ref": "3a1e3e83-ca79-43a6-a704-a2cf40e6275f",
       "rows": [
        [
         "454",
         "Htex",
         "83.71773199039275",
         "83.71773199039275",
         ""
        ],
        [
         "179",
         "ATPSYN-RXN",
         "-32.81051675863965",
         "32.81051675863965",
         "SPO0183"
        ],
        [
         "1442",
         "1.10.2.2-RXN",
         "23.606693364298827",
         "23.606693364298827",
         "SPO0273 and SPO0272 and SPO0271"
        ],
        [
         "425",
         "H2Otpp",
         "-22.48043891408435",
         "22.48043891408435",
         ""
        ],
        [
         "321",
         "EX_h2o",
         "22.48043891408435",
         "22.48043891408435",
         ""
        ],
        [
         "424",
         "H2Otex",
         "-22.48043891408435",
         "22.48043891408435",
         ""
        ],
        [
         "1375",
         "NADH-DEHYDROG-A-RXN",
         "21.96957187651355",
         "21.96957187651355",
         "SPO2786 and SPO2785 and SPO2782 and SPO2774 and SPO2772 and SPO2770 and SPO2767 and SPO2766 and SPO2765 and SPO2764 and SPO2763"
        ],
        [
         "213",
         "CO2tex",
         "-13.592300413155568",
         "13.592300413155568",
         ""
        ],
        [
         "306",
         "EX_co2",
         "13.592300413155568",
         "13.592300413155568",
         ""
        ],
        [
         "214",
         "CO2tpp",
         "-13.592300413155566",
         "13.592300413155566",
         ""
        ],
        [
         "332",
         "EX_o2",
         "-11.84174338929222",
         "11.84174338929222",
         ""
        ],
        [
         "549",
         "O2tex",
         "11.84174338929222",
         "11.84174338929222",
         ""
        ],
        [
         "550",
         "O2tpp",
         "11.841743389292219",
         "11.841743389292219",
         ""
        ],
        [
         "1441",
         "CYTOCHROME-C-OXIDASE-RXN",
         "11.841230753045279",
         "11.841230753045279",
         "SPO0303 and SPO0623 and SPO1383 and SPO3076 and SPO3073 and SPO3526 and SPO3525 and SPO3524 and SPO3523 and SPOA0190 and SPOA0189 and SPOA0188 and SPOA0187"
        ],
        [
         "1400",
         "GLCtpp",
         "5.440000000000001",
         "5.440000000000001",
         "SPO0861 and SPO0862 and SPO0863"
        ],
        [
         "376",
         "GLUCISOM-RXN",
         "5.440000000000001",
         "5.440000000000001",
         "SPO0856"
        ],
        [
         "358",
         "FRUCTOKINASE-RXN",
         "5.440000000000001",
         "5.440000000000001",
         "SPOA0276"
        ],
        [
         "854",
         "RXN-14515",
         "5.440000000000001",
         "5.440000000000001",
         ""
        ],
        [
         "1399",
         "GLCtex",
         "5.44",
         "5.44",
         ""
        ],
        [
         "1398",
         "EX_glc",
         "-5.44",
         "5.44",
         ""
        ],
        [
         "513",
         "METHYLENETHFDEHYDROG-NADP-RXN",
         "5.374321445871579",
         "5.374321445871579",
         "SPO_RS07940 or SPO_RS07935 or SPO_RS15715"
        ],
        [
         "507",
         "METHENYLTHFCYCLOHYDRO-RXN",
         "5.374321445871578",
         "5.374321445871578",
         ""
        ],
        [
         "1339",
         "PYRUVDEH-RXN",
         "5.265828955337231",
         "5.265828955337231",
         "SPO2241 and SPO2240 and SPO2242 and (SPO0340 or SPO2222)"
        ],
        [
         "583",
         "PGLUCISOM-RXN",
         "-5.21438189044039",
         "5.21438189044039",
         "SPO2046"
        ],
        [
         "584",
         "PGLUCONDEHYDRAT-RXN",
         "5.21438189044039",
         "5.21438189044039",
         "SPO3032"
        ],
        [
         "375",
         "GLU6PDEHYDROG-RXN",
         "5.214381890440389",
         "5.214381890440389",
         "SPO2048 or SPO3033"
        ],
        [
         "99",
         "6PGLUCONOLACT-RXN",
         "5.214381890440389",
         "5.214381890440389",
         "SPO2047"
        ],
        [
         "469",
         "KDPGALDOL-RXN",
         "5.214381890440389",
         "5.214381890440389",
         "SPO3031 or SPOA0330"
        ],
        [
         "9",
         "1.2.1.2-RXN",
         "5.137846968695999",
         "5.137846968695999",
         "G1RHL-1345"
        ],
        [
         "355",
         "FORMATETHFLIG-RXN",
         "-5.1366935371403795",
         "5.1366935371403795",
         "SPO1557 or SPO3103"
        ],
        [
         "367",
         "GAPOXNPHOSPHN-RXN",
         "4.9557030430177855",
         "4.9557030430177855",
         ""
        ],
        [
         "589",
         "PHOSGLYPHOS-RXN",
         "-4.9557030430177855",
         "4.9557030430177855",
         "SPO2235"
        ],
        [
         "730",
         "RXN-11811",
         "-4.27009939030172",
         "4.27009939030172",
         ""
        ],
        [
         "330",
         "EX_nh4",
         "-4.264003379680682",
         "4.264003379680682",
         ""
        ],
        [
         "1093",
         "RXN-9615",
         "4.264003379680682",
         "4.264003379680682",
         "SPO3723 or SPO2093"
        ],
        [
         "541",
         "NH4tex",
         "4.264003379680682",
         "4.264003379680682",
         ""
        ],
        [
         "1615",
         "RXN-20084",
         "-4.2425690829555185",
         "4.2425690829555185",
         ""
        ],
        [
         "320",
         "EX_h",
         "4.160555515661465",
         "4.160555515661465",
         ""
        ],
        [
         "1147",
         "RXN0-5114",
         "3.180697003673632",
         "3.180697003673632",
         "SPO2363 or SPO3353"
        ],
        [
         "585",
         "PGLYCDEHYDROG-RXN",
         "3.180697003673632",
         "3.180697003673632",
         "SPO3355"
        ],
        [
         "617",
         "PSERTRANSAM-RXN",
         "3.1806970036736315",
         "3.1806970036736315",
         "G1RHL-2549"
        ],
        [
         "405",
         "GLYOHMETRANS-RXN",
         "2.9265321874769255",
         "2.9265321874769255",
         "SPO1572 or SPO2940 or SPO3529"
        ],
        [
         "369",
         "GCVMULTI-RXN",
         "2.536808300472565",
         "2.536808300472565",
         "SPOA0058 or G1RHL-3175 or SPO0878"
        ],
        [
         "1150",
         "RXN0-5224",
         "-1.987758057541565",
         "1.987758057541565",
         "G1RHL-2823"
        ],
        [
         "171",
         "ASPARTASE-RXN",
         "-1.8775675119976316",
         "1.8775675119976316",
         "SPO2663"
        ],
        [
         "53",
         "2PGADEHYDRAT-RXN",
         "1.775006039344153",
         "1.775006039344153",
         "SPO2474"
        ],
        [
         "76",
         "3PGAREARR-RXN",
         "-1.775006039344153",
         "1.775006039344153",
         "SPO3810"
        ],
        [
         "14",
         "1.3.1.2-RXN",
         "1.4329942785160548",
         "1.4329942785160548",
         "G1RHL-1329"
        ],
        [
         "264",
         "DIHYDROURACIL-DEHYDROGENASE-NAD+-RXN",
         "1.4326632488315747",
         "1.4326632488315747",
         "SPO_RS09040"
        ],
        [
         "62",
         "3-HYDROXYBUTYRYL-COA-DEHYDROGENASE-RXN",
         "1.187265820270276",
         "1.187265820270276",
         "SPO0717"
        ]
       ],
       "shape": {
        "columns": 4,
        "rows": 1849
       }
      },
      "text/html": [
       "<div>\n",
       "<style scoped>\n",
       "    .dataframe tbody tr th:only-of-type {\n",
       "        vertical-align: middle;\n",
       "    }\n",
       "\n",
       "    .dataframe tbody tr th {\n",
       "        vertical-align: top;\n",
       "    }\n",
       "\n",
       "    .dataframe thead th {\n",
       "        text-align: right;\n",
       "    }\n",
       "</style>\n",
       "<table border=\"1\" class=\"dataframe\">\n",
       "  <thead>\n",
       "    <tr style=\"text-align: right;\">\n",
       "      <th></th>\n",
       "      <th>ID</th>\n",
       "      <th>Flux</th>\n",
       "      <th>Abs Flux</th>\n",
       "      <th>GPR</th>\n",
       "    </tr>\n",
       "  </thead>\n",
       "  <tbody>\n",
       "    <tr>\n",
       "      <th>454</th>\n",
       "      <td>Htex</td>\n",
       "      <td>83.717732</td>\n",
       "      <td>83.717732</td>\n",
       "      <td></td>\n",
       "    </tr>\n",
       "    <tr>\n",
       "      <th>179</th>\n",
       "      <td>ATPSYN-RXN</td>\n",
       "      <td>-32.810517</td>\n",
       "      <td>32.810517</td>\n",
       "      <td>SPO0183</td>\n",
       "    </tr>\n",
       "    <tr>\n",
       "      <th>1442</th>\n",
       "      <td>1.10.2.2-RXN</td>\n",
       "      <td>23.606693</td>\n",
       "      <td>23.606693</td>\n",
       "      <td>SPO0273 and SPO0272 and SPO0271</td>\n",
       "    </tr>\n",
       "    <tr>\n",
       "      <th>425</th>\n",
       "      <td>H2Otpp</td>\n",
       "      <td>-22.480439</td>\n",
       "      <td>22.480439</td>\n",
       "      <td></td>\n",
       "    </tr>\n",
       "    <tr>\n",
       "      <th>321</th>\n",
       "      <td>EX_h2o</td>\n",
       "      <td>22.480439</td>\n",
       "      <td>22.480439</td>\n",
       "      <td></td>\n",
       "    </tr>\n",
       "    <tr>\n",
       "      <th>...</th>\n",
       "      <td>...</td>\n",
       "      <td>...</td>\n",
       "      <td>...</td>\n",
       "      <td>...</td>\n",
       "    </tr>\n",
       "    <tr>\n",
       "      <th>781</th>\n",
       "      <td>RXN-12754</td>\n",
       "      <td>0.000000</td>\n",
       "      <td>0.000000</td>\n",
       "      <td></td>\n",
       "    </tr>\n",
       "    <tr>\n",
       "      <th>780</th>\n",
       "      <td>RXN-12753</td>\n",
       "      <td>0.000000</td>\n",
       "      <td>0.000000</td>\n",
       "      <td></td>\n",
       "    </tr>\n",
       "    <tr>\n",
       "      <th>779</th>\n",
       "      <td>RXN-12752</td>\n",
       "      <td>0.000000</td>\n",
       "      <td>0.000000</td>\n",
       "      <td>SPO_RS11625</td>\n",
       "    </tr>\n",
       "    <tr>\n",
       "      <th>778</th>\n",
       "      <td>RXN-12750</td>\n",
       "      <td>0.000000</td>\n",
       "      <td>0.000000</td>\n",
       "      <td>G1RHL-1876</td>\n",
       "    </tr>\n",
       "    <tr>\n",
       "      <th>1848</th>\n",
       "      <td>RXN-9673</td>\n",
       "      <td>0.000000</td>\n",
       "      <td>0.000000</td>\n",
       "      <td>G1RHL-2048 or G1RHL-3161 or G1RHL-538</td>\n",
       "    </tr>\n",
       "  </tbody>\n",
       "</table>\n",
       "<p>1849 rows × 4 columns</p>\n",
       "</div>"
      ],
      "text/plain": [
       "                ID       Flux   Abs Flux  \\\n",
       "454           Htex  83.717732  83.717732   \n",
       "179     ATPSYN-RXN -32.810517  32.810517   \n",
       "1442  1.10.2.2-RXN  23.606693  23.606693   \n",
       "425         H2Otpp -22.480439  22.480439   \n",
       "321         EX_h2o  22.480439  22.480439   \n",
       "...            ...        ...        ...   \n",
       "781      RXN-12754   0.000000   0.000000   \n",
       "780      RXN-12753   0.000000   0.000000   \n",
       "779      RXN-12752   0.000000   0.000000   \n",
       "778      RXN-12750   0.000000   0.000000   \n",
       "1848      RXN-9673   0.000000   0.000000   \n",
       "\n",
       "                                        GPR  \n",
       "454                                          \n",
       "179                                 SPO0183  \n",
       "1442        SPO0273 and SPO0272 and SPO0271  \n",
       "425                                          \n",
       "321                                          \n",
       "...                                     ...  \n",
       "781                                          \n",
       "780                                          \n",
       "779                             SPO_RS11625  \n",
       "778                              G1RHL-1876  \n",
       "1848  G1RHL-2048 or G1RHL-3161 or G1RHL-538  \n",
       "\n",
       "[1849 rows x 4 columns]"
      ]
     },
     "execution_count": 78,
     "metadata": {},
     "output_type": "execute_result"
    }
   ],
   "source": [
    "with model:\n",
    "    model.reactions.get_by_id(\"EX_glc\").bounds = (-5.44, 0.0)\n",
    "\n",
    "    sol = model.optimize().fluxes\n",
    "\n",
    "glc_fluxes = pd.DataFrame([\n",
    "    {\n",
    "        \"ID\": rxn,\n",
    "        \"Flux\" : flux,\n",
    "        \"Abs Flux\" : abs(flux),\n",
    "        \"GPR\": model.reactions.get_by_id(rxn).gene_reaction_rule\n",
    "    }\n",
    "    for _, (rxn, flux) in sol.reset_index().iterrows()\n",
    "]).sort_values(\"Abs Flux\", ascending=False)\n",
    "\n",
    "glc_fluxes.to_clipboard(index=False)\n",
    "glc_fluxes"
   ]
  },
  {
   "cell_type": "code",
   "execution_count": null,
   "id": "186a3be7",
   "metadata": {},
   "outputs": [
    {
     "ename": "KeyError",
     "evalue": "'RXN1RHL-6'",
     "output_type": "error",
     "traceback": [
      "\u001b[31m---------------------------------------------------------------------------\u001b[39m",
      "\u001b[31mKeyError\u001b[39m                                  Traceback (most recent call last)",
      "\u001b[36mCell\u001b[39m\u001b[36m \u001b[39m\u001b[32mIn[79]\u001b[39m\u001b[32m, line 1\u001b[39m\n\u001b[32m----> \u001b[39m\u001b[32m1\u001b[39m \u001b[43mmodel\u001b[49m\u001b[43m.\u001b[49m\u001b[43mreactions\u001b[49m\u001b[43m.\u001b[49m\u001b[43mget_by_id\u001b[49m\u001b[43m(\u001b[49m\u001b[33;43m\"\u001b[39;49m\u001b[33;43mRXN1RHL-6\u001b[39;49m\u001b[33;43m\"\u001b[39;49m\u001b[43m)\u001b[49m\n",
      "\u001b[36mFile \u001b[39m\u001b[32m~/.pyenv/versions/3.12.1/envs/rpom/lib/python3.12/site-packages/cobra/core/dictlist.py:73\u001b[39m, in \u001b[36mDictList.get_by_id\u001b[39m\u001b[34m(self, id)\u001b[39m\n\u001b[32m     71\u001b[39m \u001b[38;5;28;01mdef\u001b[39;00m\u001b[38;5;250m \u001b[39m\u001b[34mget_by_id\u001b[39m(\u001b[38;5;28mself\u001b[39m, \u001b[38;5;28mid\u001b[39m: Union[Object, \u001b[38;5;28mstr\u001b[39m]) -> Object:\n\u001b[32m     72\u001b[39m \u001b[38;5;250m    \u001b[39m\u001b[33;03m\"\"\"Return the element with a matching id.\"\"\"\u001b[39;00m\n\u001b[32m---> \u001b[39m\u001b[32m73\u001b[39m     \u001b[38;5;28;01mreturn\u001b[39;00m \u001b[38;5;28mlist\u001b[39m.\u001b[34m__getitem__\u001b[39m(\u001b[38;5;28mself\u001b[39m, \u001b[38;5;28;43mself\u001b[39;49m\u001b[43m.\u001b[49m\u001b[43m_dict\u001b[49m\u001b[43m[\u001b[49m\u001b[38;5;28;43mid\u001b[39;49m\u001b[43m]\u001b[49m)\n",
      "\u001b[31mKeyError\u001b[39m: 'RXN1RHL-6'"
     ]
    }
   ],
   "source": [
    "model.reactions.get_by_id(\"RXN1RHL-6\")"
   ]
  }
 ],
 "metadata": {
  "kernelspec": {
   "display_name": "Python 3",
   "language": "python",
   "name": "python3"
  },
  "language_info": {
   "codemirror_mode": {
    "name": "ipython",
    "version": 3
   },
   "file_extension": ".py",
   "mimetype": "text/x-python",
   "name": "python",
   "nbconvert_exporter": "python",
   "pygments_lexer": "ipython3",
   "version": "3.12.1"
  }
 },
 "nbformat": 4,
 "nbformat_minor": 5
}
