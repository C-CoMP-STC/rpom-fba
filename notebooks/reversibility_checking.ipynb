{
 "cells": [
  {
   "cell_type": "code",
   "execution_count": 1,
   "id": "1e10d6f2",
   "metadata": {},
   "outputs": [],
   "source": [
    "import sys\n",
    "if \"..\" not in sys.path:\n",
    "    sys.path.insert(0, \"..\")"
   ]
  },
  {
   "cell_type": "code",
   "execution_count": 4,
   "id": "20d310b2",
   "metadata": {},
   "outputs": [
    {
     "name": "stderr",
     "output_type": "stream",
     "text": [
      "https://identifiers.org/stem/ does not conform to 'http(s)://identifiers.org/collection/id' or'http(s)://identifiers.org/COLLECTION:id\n",
      "https://identifiers.org/stem/ does not conform to 'http(s)://identifiers.org/collection/id' or'http(s)://identifiers.org/COLLECTION:id\n",
      "https://identifiers.org/stem/ does not conform to 'http(s)://identifiers.org/collection/id' or'http(s)://identifiers.org/COLLECTION:id\n",
      "https://identifiers.org/stem/ does not conform to 'http(s)://identifiers.org/collection/id' or'http(s)://identifiers.org/COLLECTION:id\n",
      "https://identifiers.org/stem/ does not conform to 'http(s)://identifiers.org/collection/id' or'http(s)://identifiers.org/COLLECTION:id\n",
      "https://identifiers.org/stem/ does not conform to 'http(s)://identifiers.org/collection/id' or'http(s)://identifiers.org/COLLECTION:id\n",
      "https://identifiers.org/stem/ does not conform to 'http(s)://identifiers.org/collection/id' or'http(s)://identifiers.org/COLLECTION:id\n",
      "https://identifiers.org/stem/ does not conform to 'http(s)://identifiers.org/collection/id' or'http(s)://identifiers.org/COLLECTION:id\n",
      "https://identifiers.org/stem/ does not conform to 'http(s)://identifiers.org/collection/id' or'http(s)://identifiers.org/COLLECTION:id\n",
      "https://identifiers.org/stem/ does not conform to 'http(s)://identifiers.org/collection/id' or'http(s)://identifiers.org/COLLECTION:id\n",
      "https://identifiers.org/stem/ does not conform to 'http(s)://identifiers.org/collection/id' or'http(s)://identifiers.org/COLLECTION:id\n",
      "https://identifiers.org/stem/ does not conform to 'http(s)://identifiers.org/collection/id' or'http(s)://identifiers.org/COLLECTION:id\n",
      "https://identifiers.org/stem/ does not conform to 'http(s)://identifiers.org/collection/id' or'http(s)://identifiers.org/COLLECTION:id\n"
     ]
    }
   ],
   "source": [
    "import pandas as pd\n",
    "from cobra.io import read_sbml_model\n",
    "\n",
    "model = read_sbml_model(\"../model/Rpom_05.xml\")"
   ]
  },
  {
   "cell_type": "code",
   "execution_count": 43,
   "id": "d7583518",
   "metadata": {},
   "outputs": [
    {
     "name": "stderr",
     "output_type": "stream",
     "text": [
      "/home/myang42/projects/rpom-fba/notebooks/../model_building/biocyc_update_pipeline/transform/build_templates.py:197: UserWarning: No reaction direction specified (inference from enzymatic reactions not yet implemented)\n",
      "  warnings.warn(\n"
     ]
    }
   ],
   "source": [
    "import pickle\n",
    "from model_building.biocyc_update_pipeline.transform.build_templates import get_bounds\n",
    "\n",
    "# Get bounds for all reactions according to either database\n",
    "\n",
    "with open(\"../model_building/biocyc_update_pipeline/data/raw_reaction_data__RUEGERIA_POMEROYI_DSS3.pkl\", \"rb\") as f:\n",
    "    db1 = pickle.load(f)\n",
    "\n",
    "with open(\"../model_building/biocyc_update_pipeline/data/raw_reaction_data__GCF_000011965.pkl\", \"rb\") as f:\n",
    "    db2 = pickle.load(f)\n",
    "\n",
    "def to_float_tuple(int_tuple):\n",
    "    if int_tuple is None:\n",
    "        return None\n",
    "    return tuple([float(x) for x in int_tuple])\n",
    "\n",
    "db1_bounds = pd.DataFrame([\n",
    "    {\"ID\" : rxn_data[\"@frameid\"], \"Bounds\": to_float_tuple(get_bounds(rxn_data))}\n",
    "    for rxn_data in db1\n",
    "])\n",
    "\n",
    "db2_bounds = pd.DataFrame([\n",
    "    {\"ID\" : rxn_data[\"@frameid\"], \"Bounds\": to_float_tuple(get_bounds(rxn_data))}\n",
    "    for rxn_data in db2\n",
    "])"
   ]
  },
  {
   "cell_type": "code",
   "execution_count": 44,
   "id": "6cd568d2",
   "metadata": {},
   "outputs": [],
   "source": [
    "# Subset to reactions in the model\n",
    "db1_bounds_in_model = db1_bounds[[rxnid in model.reactions for rxnid in db1_bounds[\"ID\"]]]\n",
    "db2_bounds_in_model = db2_bounds[[rxnid in model.reactions for rxnid in db2_bounds[\"ID\"]]]"
   ]
  },
  {
   "cell_type": "code",
   "execution_count": 45,
   "id": "1ad2c6c7",
   "metadata": {},
   "outputs": [
    {
     "data": {
      "application/vnd.microsoft.datawrangler.viewer.v0+json": {
       "columns": [
        {
         "name": "index",
         "rawType": "int64",
         "type": "integer"
        },
        {
         "name": "ID",
         "rawType": "object",
         "type": "string"
        },
        {
         "name": "Bounds db1",
         "rawType": "object",
         "type": "unknown"
        },
        {
         "name": "Bounds db2",
         "rawType": "object",
         "type": "unknown"
        },
        {
         "name": "Model Bounds",
         "rawType": "object",
         "type": "unknown"
        },
        {
         "name": "Flux",
         "rawType": "float64",
         "type": "float"
        }
       ],
       "ref": "dabb1c7d-85f6-4676-b7a4-f561c17997d1",
       "rows": [
        [
         "0",
         "GSAAMINOTRANS-RXN",
         "(0.0, 1000.0)",
         "(0.0, 1000.0)",
         "(0.0, 1000.0)",
         "0.0"
        ],
        [
         "1",
         "MALEYLACETOACETATE-ISOMERASE-RXN",
         "(0.0, 1000.0)",
         "(0.0, 1000.0)",
         "(0.0, 1000.0)",
         "0.0"
        ],
        [
         "2",
         "RXN0-5462",
         "(0.0, 1000.0)",
         "(0.0, 1000.0)",
         "(0.0, 1000.0)",
         "0.0"
        ],
        [
         "3",
         "RXN-11741",
         "(0.0, 1000.0)",
         "(0.0, 1000.0)",
         "(0.0, 1000.0)",
         "0.0"
        ],
        [
         "4",
         "RXN-9530",
         null,
         "(-1000.0, 0.0)",
         "(-1000.0, 0.0)",
         "0.0"
        ],
        [
         "5",
         "RXN-9542",
         null,
         "(-1000.0, 0.0)",
         "(-1000.0, 0.0)",
         "-0.2728973728321412"
        ],
        [
         "6",
         "RXN-7800",
         "(0.0, 1000.0)",
         "(0.0, 1000.0)",
         "(0.0, 1000.0)",
         "0.0"
        ],
        [
         "7",
         "RXN-10",
         "(0.0, 1000.0)",
         "(0.0, 1000.0)",
         "(0.0, 1000.0)",
         "0.0"
        ],
        [
         "8",
         "RXN-8675",
         "(0.0, 1000.0)",
         "(0.0, 1000.0)",
         "(0.0, 1000.0)",
         "0.0"
        ],
        [
         "9",
         "RXN-11667",
         "(-1000.0, 0.0)",
         "(-1000.0, 0.0)",
         "(-1000.0, 0.0)",
         "0.0"
        ],
        [
         "10",
         "PPPGPPHYDRO-RXN",
         "(0.0, 1000.0)",
         "(0.0, 1000.0)",
         "(0.0, 1000.0)",
         "0.0"
        ],
        [
         "11",
         "CATAL-RXN",
         "(0.0, 1000.0)",
         "(0.0, 1000.0)",
         "(0.0, 1000.0)",
         "0.00043772557437198186"
        ],
        [
         "12",
         "CYTIDEAM-RXN",
         "(0.0, 1000.0)",
         "(0.0, 1000.0)",
         "(0.0, 1000.0)",
         "0.000565313746886055"
        ],
        [
         "13",
         "RXN-16112",
         null,
         null,
         "(-1000.0, 1000.0)",
         "0.0"
        ],
        [
         "14",
         "OHMETHYLBILANESYN-RXN",
         "(0.0, 1000.0)",
         "(0.0, 1000.0)",
         "(0.0, 1000.0)",
         "0.00021886278718599099"
        ],
        [
         "15",
         "RXN0-262",
         "(0.0, 1000.0)",
         "(0.0, 1000.0)",
         "(0.0, 1000.0)",
         "0.0"
        ],
        [
         "16",
         "RXN-18511",
         "(0.0, 1000.0)",
         "(0.0, 1000.0)",
         "(0.0, 1000.0)",
         "0.0"
        ],
        [
         "17",
         "R101-RXN",
         "(-1000.0, 1000.0)",
         "(-1000.0, 1000.0)",
         "(-1000.0, 1000.0)",
         "0.0"
        ],
        [
         "18",
         "N-ACETYLGLUTPREDUCT-RXN",
         "(-1000.0, 0.0)",
         "(-1000.0, 0.0)",
         "(0.0, 1000.0)",
         "0.8411688342080655"
        ],
        [
         "19",
         "RXN-19316",
         "(0.0, 1000.0)",
         "(0.0, 1000.0)",
         "(0.0, 1000.0)",
         "0.0"
        ],
        [
         "20",
         "RXN-12900",
         "(0.0, 1000.0)",
         "(0.0, 1000.0)",
         "(0.0, 1000.0)",
         "0.0"
        ],
        [
         "21",
         "ALDOSE1EPIM-RXN",
         null,
         "(0.0, 1000.0)",
         "(-1000.0, 1000.0)",
         "0.0"
        ],
        [
         "22",
         "PANTOTHENATE-KIN-RXN",
         "(0.0, 1000.0)",
         "(0.0, 1000.0)",
         "(0.0, 1000.0)",
         "0.000565313746886055"
        ],
        [
         "23",
         "RXN-9539",
         "(0.0, 1000.0)",
         "(0.0, 1000.0)",
         "(0.0, 1000.0)",
         "0.27289737283214127"
        ],
        [
         "24",
         "RXN-16691",
         "(0.0, 1000.0)",
         "(0.0, 1000.0)",
         "(0.0, 1000.0)",
         "0.0"
        ],
        [
         "25",
         "MALYL-COA-LYASE-RXN",
         null,
         "(-1000.0, 0.0)",
         "(0.0, 1000.0)",
         "1.1146592253182257"
        ],
        [
         "26",
         "RXN-14112",
         "(0.0, 1000.0)",
         "(0.0, 1000.0)",
         "(0.0, 1000.0)",
         "0.0"
        ],
        [
         "27",
         "KYNURENINASE-RXN",
         "(0.0, 1000.0)",
         null,
         "(0.0, 1000.0)",
         "0.0"
        ],
        [
         "28",
         "DUDPKIN-RXN",
         "(0.0, 1000.0)",
         "(0.0, 1000.0)",
         "(0.0, 1000.0)",
         "0.02568055596728422"
        ],
        [
         "29",
         "ACETOOHBUTREDUCTOISOM-RXN",
         "(-1000.0, 0.0)",
         "(-1000.0, 0.0)",
         "(0.0, 1000.0)",
         "0.23693991637582879"
        ],
        [
         "30",
         "PREPHENATEDEHYDROG-RXN",
         "(0.0, 1000.0)",
         "(0.0, 1000.0)",
         "(0.0, 1000.0)",
         "0.11246060369900648"
        ],
        [
         "31",
         "PHOSPHOGLUCMUT-RXN",
         "(-1000.0, 1000.0)",
         "(-1000.0, 1000.0)",
         "(-1000.0, 1000.0)",
         "0.0"
        ],
        [
         "32",
         "RXN-14064",
         "(0.0, 1000.0)",
         "(0.0, 1000.0)",
         "(0.0, 1000.0)",
         "0.0"
        ],
        [
         "33",
         "RXN-9623",
         "(0.0, 1000.0)",
         "(0.0, 1000.0)",
         "(0.0, 1000.0)",
         "0.0"
        ],
        [
         "34",
         "RXN-3641",
         "(-1000.0, 0.0)",
         "(-1000.0, 0.0)",
         "(0.0, 1000.0)",
         "0.0"
        ],
        [
         "35",
         "RXNN-386",
         null,
         null,
         "(-1000.0, 1000.0)",
         "0.0"
        ],
        [
         "36",
         "RXN-16690",
         "(0.0, 1000.0)",
         "(0.0, 1000.0)",
         "(0.0, 1000.0)",
         "0.0"
        ],
        [
         "37",
         "ARGINASE-RXN",
         "(0.0, 1000.0)",
         "(0.0, 1000.0)",
         "(0.0, 1000.0)",
         "0.0"
        ],
        [
         "38",
         "ADENYLOSUCCINATE-SYNTHASE-RXN",
         "(0.0, 1000.0)",
         "(0.0, 1000.0)",
         "(0.0, 1000.0)",
         "0.15444161449217372"
        ],
        [
         "39",
         "RXN-11211",
         "(0.0, 1000.0)",
         "(0.0, 1000.0)",
         "(0.0, 1000.0)",
         "0.0"
        ],
        [
         "40",
         "R310-RXN",
         "(-1000.0, 0.0)",
         "(-1000.0, 0.0)",
         "(0.0, 1000.0)",
         "0.0"
        ],
        [
         "41",
         "RXN-13824",
         "(0.0, 1000.0)",
         "(0.0, 1000.0)",
         "(0.0, 1000.0)",
         "0.0"
        ],
        [
         "42",
         "RIBOFLAVINSYNREDUC-RXN",
         "(-1000.0, 0.0)",
         "(-1000.0, 0.0)",
         "(0.0, 1000.0)",
         "0.0004377255743719818"
        ],
        [
         "43",
         "RXN-17472",
         null,
         "(0.0, 1000.0)",
         "(0.0, 1000.0)",
         "0.0"
        ],
        [
         "44",
         "RXN-14056",
         "(-1000.0, 1000.0)",
         "(-1000.0, 1000.0)",
         "(-1000.0, 1000.0)",
         "0.0"
        ],
        [
         "45",
         "MYO-INOSITOL-1OR-4-MONOPHOSPHATASE-RXN",
         "(0.0, 1000.0)",
         "(0.0, 1000.0)",
         "(0.0, 1000.0)",
         "0.0"
        ],
        [
         "46",
         "ACETOOHBUTSYN-RXN",
         "(0.0, 1000.0)",
         "(0.0, 1000.0)",
         "(0.0, 1000.0)",
         "0.2369399163758288"
        ],
        [
         "47",
         "RXN-12720",
         "(0.0, 1000.0)",
         "(0.0, 1000.0)",
         "(0.0, 1000.0)",
         "0.0"
        ],
        [
         "48",
         "RXN-10660",
         "(0.0, 1000.0)",
         "(0.0, 1000.0)",
         "(0.0, 1000.0)",
         "0.0"
        ],
        [
         "49",
         "RXN-11180",
         "(0.0, 1000.0)",
         "(0.0, 1000.0)",
         "(0.0, 1000.0)",
         "0.0"
        ]
       ],
       "shape": {
        "columns": 5,
        "rows": 823
       }
      },
      "text/html": [
       "<div>\n",
       "<style scoped>\n",
       "    .dataframe tbody tr th:only-of-type {\n",
       "        vertical-align: middle;\n",
       "    }\n",
       "\n",
       "    .dataframe tbody tr th {\n",
       "        vertical-align: top;\n",
       "    }\n",
       "\n",
       "    .dataframe thead th {\n",
       "        text-align: right;\n",
       "    }\n",
       "</style>\n",
       "<table border=\"1\" class=\"dataframe\">\n",
       "  <thead>\n",
       "    <tr style=\"text-align: right;\">\n",
       "      <th></th>\n",
       "      <th>ID</th>\n",
       "      <th>Bounds db1</th>\n",
       "      <th>Bounds db2</th>\n",
       "      <th>Model Bounds</th>\n",
       "      <th>Flux</th>\n",
       "    </tr>\n",
       "  </thead>\n",
       "  <tbody>\n",
       "    <tr>\n",
       "      <th>0</th>\n",
       "      <td>GSAAMINOTRANS-RXN</td>\n",
       "      <td>(0.0, 1000.0)</td>\n",
       "      <td>(0.0, 1000.0)</td>\n",
       "      <td>(0.0, 1000.0)</td>\n",
       "      <td>0.000000</td>\n",
       "    </tr>\n",
       "    <tr>\n",
       "      <th>1</th>\n",
       "      <td>MALEYLACETOACETATE-ISOMERASE-RXN</td>\n",
       "      <td>(0.0, 1000.0)</td>\n",
       "      <td>(0.0, 1000.0)</td>\n",
       "      <td>(0.0, 1000.0)</td>\n",
       "      <td>0.000000</td>\n",
       "    </tr>\n",
       "    <tr>\n",
       "      <th>2</th>\n",
       "      <td>RXN0-5462</td>\n",
       "      <td>(0.0, 1000.0)</td>\n",
       "      <td>(0.0, 1000.0)</td>\n",
       "      <td>(0.0, 1000.0)</td>\n",
       "      <td>0.000000</td>\n",
       "    </tr>\n",
       "    <tr>\n",
       "      <th>3</th>\n",
       "      <td>RXN-11741</td>\n",
       "      <td>(0.0, 1000.0)</td>\n",
       "      <td>(0.0, 1000.0)</td>\n",
       "      <td>(0.0, 1000.0)</td>\n",
       "      <td>0.000000</td>\n",
       "    </tr>\n",
       "    <tr>\n",
       "      <th>4</th>\n",
       "      <td>RXN-9530</td>\n",
       "      <td>None</td>\n",
       "      <td>(-1000.0, 0.0)</td>\n",
       "      <td>(-1000.0, 0.0)</td>\n",
       "      <td>0.000000</td>\n",
       "    </tr>\n",
       "    <tr>\n",
       "      <th>...</th>\n",
       "      <td>...</td>\n",
       "      <td>...</td>\n",
       "      <td>...</td>\n",
       "      <td>...</td>\n",
       "      <td>...</td>\n",
       "    </tr>\n",
       "    <tr>\n",
       "      <th>818</th>\n",
       "      <td>RXN0-2141</td>\n",
       "      <td>None</td>\n",
       "      <td>(0.0, 1000.0)</td>\n",
       "      <td>(-1000.0, 1000.0)</td>\n",
       "      <td>0.000000</td>\n",
       "    </tr>\n",
       "    <tr>\n",
       "      <th>819</th>\n",
       "      <td>2.1.1.132-RXN</td>\n",
       "      <td>(0.0, 1000.0)</td>\n",
       "      <td>(0.0, 1000.0)</td>\n",
       "      <td>(0.0, 1000.0)</td>\n",
       "      <td>0.000000</td>\n",
       "    </tr>\n",
       "    <tr>\n",
       "      <th>820</th>\n",
       "      <td>RXN-9644</td>\n",
       "      <td>(0.0, 1000.0)</td>\n",
       "      <td>(0.0, 1000.0)</td>\n",
       "      <td>(0.0, 1000.0)</td>\n",
       "      <td>0.000000</td>\n",
       "    </tr>\n",
       "    <tr>\n",
       "      <th>821</th>\n",
       "      <td>DEPHOSPHOCOAKIN-RXN</td>\n",
       "      <td>(0.0, 1000.0)</td>\n",
       "      <td>(0.0, 1000.0)</td>\n",
       "      <td>(0.0, 1000.0)</td>\n",
       "      <td>0.000565</td>\n",
       "    </tr>\n",
       "    <tr>\n",
       "      <th>822</th>\n",
       "      <td>PHOSACETYLTRANS-RXN</td>\n",
       "      <td>(-1000.0, 1000.0)</td>\n",
       "      <td>(-1000.0, 1000.0)</td>\n",
       "      <td>(-1000.0, 1000.0)</td>\n",
       "      <td>0.000000</td>\n",
       "    </tr>\n",
       "  </tbody>\n",
       "</table>\n",
       "<p>823 rows × 5 columns</p>\n",
       "</div>"
      ],
      "text/plain": [
       "                                   ID  ...      Flux\n",
       "0                   GSAAMINOTRANS-RXN  ...  0.000000\n",
       "1    MALEYLACETOACETATE-ISOMERASE-RXN  ...  0.000000\n",
       "2                           RXN0-5462  ...  0.000000\n",
       "3                           RXN-11741  ...  0.000000\n",
       "4                            RXN-9530  ...  0.000000\n",
       "..                                ...  ...       ...\n",
       "818                         RXN0-2141  ...  0.000000\n",
       "819                     2.1.1.132-RXN  ...  0.000000\n",
       "820                          RXN-9644  ...  0.000000\n",
       "821               DEPHOSPHOCOAKIN-RXN  ...  0.000565\n",
       "822               PHOSACETYLTRANS-RXN  ...  0.000000\n",
       "\n",
       "[823 rows x 5 columns]"
      ]
     },
     "execution_count": 45,
     "metadata": {},
     "output_type": "execute_result"
    }
   ],
   "source": [
    "# Merge with model bounds, flux on glucose\n",
    "\n",
    "with model:\n",
    "    model.reactions.get_by_id(\"EX_glc\").bounds = (-10., 0.)\n",
    "    sol = model.optimize()\n",
    "\n",
    "model_bounds = pd.DataFrame([\n",
    "    {\"ID\": rxn.id, \"Model Bounds\": rxn.bounds, \"Flux\" : sol[rxn.id]}\n",
    "    for rxn in model.reactions])\n",
    "\n",
    "all_bounds = db1_bounds_in_model.merge(\n",
    "    db2_bounds_in_model,\n",
    "    left_on=\"ID\", right_on=\"ID\",\n",
    "    suffixes=[\" db1\", \" db2\"]).merge(\n",
    "        model_bounds,\n",
    "        left_on=\"ID\", right_on=\"ID\")\n",
    "\n",
    "all_bounds"
   ]
  },
  {
   "cell_type": "code",
   "execution_count": 46,
   "id": "0551ccdd",
   "metadata": {},
   "outputs": [
    {
     "data": {
      "application/vnd.microsoft.datawrangler.viewer.v0+json": {
       "columns": [
        {
         "name": "index",
         "rawType": "int64",
         "type": "integer"
        },
        {
         "name": "ID",
         "rawType": "object",
         "type": "string"
        },
        {
         "name": "Bounds db1",
         "rawType": "object",
         "type": "unknown"
        },
        {
         "name": "Bounds db2",
         "rawType": "object",
         "type": "unknown"
        },
        {
         "name": "Model Bounds",
         "rawType": "object",
         "type": "unknown"
        },
        {
         "name": "Flux",
         "rawType": "float64",
         "type": "float"
        }
       ],
       "ref": "b8a28532-f58d-40e3-9d96-fcaaf81faf01",
       "rows": [
        [
         "384",
         "RXN-5901",
         null,
         "(-1000.0, 0.0)",
         "(-1000.0, 0.0)",
         "-2.0278736197814684"
        ],
        [
         "248",
         "RIBULP3EPIM-RXN",
         null,
         "(-1000.0, 1000.0)",
         "(-1000.0, 1000.0)",
         "-0.3838602689180002"
        ],
        [
         "270",
         "2TRANSKETO-RXN",
         null,
         "(-1000.0, 1000.0)",
         "(-1000.0, 1000.0)",
         "-0.3474327625712798"
        ],
        [
         "664",
         "RXN-9515",
         null,
         "(-1000.0, 0.0)",
         "(-1000.0, 0.0)",
         "-0.2728973728321414"
        ],
        [
         "221",
         "RXN-9526",
         null,
         "(-1000.0, 0.0)",
         "(-1000.0, 0.0)",
         "-0.2728973728321413"
        ],
        [
         "651",
         "RXN-9534",
         null,
         "(-1000.0, 0.0)",
         "(-1000.0, 0.0)",
         "-0.27289737283214127"
        ],
        [
         "5",
         "RXN-9542",
         null,
         "(-1000.0, 0.0)",
         "(-1000.0, 0.0)",
         "-0.2728973728321412"
        ],
        [
         "206",
         "RXN-9538",
         null,
         "(-1000.0, 0.0)",
         "(-1000.0, 0.0)",
         "-0.2728973728321412"
        ],
        [
         "454",
         "1TRANSKETO-RXN",
         null,
         "(-1000.0, 1000.0)",
         "(-1000.0, 1000.0)",
         "-0.0364275063467204"
        ],
        [
         "665",
         "RXN-12726",
         null,
         "(0.0, 1000.0)",
         "(-1000.0, 1000.0)",
         "0.0"
        ],
        [
         "605",
         "3-HYDROXYISOBUTYRATE-DEHYDROGENASE-RXN",
         "(0.0, 1000.0)",
         null,
         "(0.0, 1000.0)",
         "0.0"
        ],
        [
         "692",
         "RXN-12570",
         null,
         "(0.0, 1000.0)",
         "(-1000.0, 1000.0)",
         "0.0"
        ],
        [
         "694",
         "RXN66-1",
         null,
         "(0.0, 1000.0)",
         "(0.0, 1000.0)",
         "0.0"
        ],
        [
         "643",
         "RXN0-2145",
         null,
         "(-1000.0, 0.0)",
         "(-1000.0, 1000.0)",
         "0.0"
        ],
        [
         "702",
         "2.7.9.3-RXN",
         null,
         "(0.0, 1000.0)",
         "(-1000.0, 1000.0)",
         "0.0"
        ],
        [
         "620",
         "RXN-17473",
         null,
         "(0.0, 1000.0)",
         "(0.0, 1000.0)",
         "0.0"
        ],
        [
         "713",
         "RXN-16013",
         null,
         "(0.0, 1000.0)",
         "(0.0, 1000.0)",
         "0.0"
        ],
        [
         "618",
         "RXN-18092",
         null,
         "(0.0, 1000.0)",
         "(-1000.0, 1000.0)",
         "0.0"
        ],
        [
         "741",
         "CYTIDEAM2-RXN",
         "(0.0, 1000.0)",
         null,
         "(0.0, 1000.0)",
         "0.0"
        ],
        [
         "758",
         "PYRIMSYN3-RXN",
         null,
         "(0.0, 1000.0)",
         "(0.0, 1000.0)",
         "0.0"
        ],
        [
         "666",
         "RXN-8631",
         null,
         "(-1000.0, 1000.0)",
         "(-1000.0, 1000.0)",
         "0.0"
        ],
        [
         "600",
         "ADENYLATECYC-RXN",
         null,
         "(0.0, 1000.0)",
         "(0.0, 1000.0)",
         "0.0"
        ],
        [
         "4",
         "RXN-9530",
         null,
         "(-1000.0, 0.0)",
         "(-1000.0, 0.0)",
         "0.0"
        ],
        [
         "788",
         "RXN-12490",
         null,
         "(0.0, 1000.0)",
         "(-1000.0, 1000.0)",
         "0.0"
        ],
        [
         "21",
         "ALDOSE1EPIM-RXN",
         null,
         "(0.0, 1000.0)",
         "(-1000.0, 1000.0)",
         "0.0"
        ],
        [
         "27",
         "KYNURENINASE-RXN",
         "(0.0, 1000.0)",
         null,
         "(0.0, 1000.0)",
         "0.0"
        ],
        [
         "43",
         "RXN-17472",
         null,
         "(0.0, 1000.0)",
         "(0.0, 1000.0)",
         "0.0"
        ],
        [
         "82",
         "RXN-13697",
         null,
         "(-1000.0, 1000.0)",
         "(-1000.0, 1000.0)",
         "0.0"
        ],
        [
         "104",
         "O-ACETYLHOMOSERINE-THIOL-LYASE-RXN",
         null,
         "(0.0, 1000.0)",
         "(-1000.0, 1000.0)",
         "0.0"
        ],
        [
         "235",
         "DEHYDDEOXGALACTKIN-RXN",
         "(0.0, 1000.0)",
         null,
         "(-1000.0, 1000.0)",
         "0.0"
        ],
        [
         "256",
         "RXN-13617",
         null,
         "(-1000.0, 0.0)",
         "(-1000.0, 0.0)",
         "0.0"
        ],
        [
         "444",
         "RXN-12567",
         null,
         "(-1000.0, 0.0)",
         "(-1000.0, 1000.0)",
         "0.0"
        ],
        [
         "209",
         "RXN0-2144",
         null,
         "(0.0, 1000.0)",
         "(-1000.0, 1000.0)",
         "0.0"
        ],
        [
         "818",
         "RXN0-2141",
         null,
         "(0.0, 1000.0)",
         "(-1000.0, 1000.0)",
         "0.0"
        ],
        [
         "159",
         "CDPDIGLYSYN-RXN",
         null,
         "(0.0, 1000.0)",
         "(0.0, 1000.0)",
         "0.07381859410111165"
        ],
        [
         "160",
         "AICARSYN-RXN",
         null,
         "(0.0, 1000.0)",
         "(0.0, 1000.0)",
         "0.16416268739439865"
        ],
        [
         "621",
         "1.8.4.8-RXN",
         null,
         "(-1000.0, 0.0)",
         "(0.0, 1000.0)",
         "0.20081001066711404"
        ],
        [
         "732",
         "SULFATE-ADENYLYLTRANS-RXN",
         null,
         "(0.0, 1000.0)",
         "(0.0, 1000.0)",
         "0.20081001066711404"
        ],
        [
         "474",
         "RIB5PISOM-RXN",
         null,
         "(-1000.0, 1000.0)",
         "(-1000.0, 1000.0)",
         "0.3829848177692562"
        ],
        [
         "181",
         "RXN-16391",
         null,
         "(0.0, 1000.0)",
         "(0.0, 1000.0)",
         "1.1140026369566676"
        ],
        [
         "100",
         "RXN-8961",
         null,
         "(0.0, 1000.0)",
         "(0.0, 1000.0)",
         "1.114002636956668"
        ],
        [
         "25",
         "MALYL-COA-LYASE-RXN",
         null,
         "(-1000.0, 0.0)",
         "(0.0, 1000.0)",
         "1.1146592253182257"
        ],
        [
         "707",
         "GCVMULTI-RXN",
         null,
         "(-1000.0, 1000.0)",
         "(0.0, 1000.0)",
         "4.258326271621976"
        ]
       ],
       "shape": {
        "columns": 5,
        "rows": 43
       }
      },
      "text/html": [
       "<div>\n",
       "<style scoped>\n",
       "    .dataframe tbody tr th:only-of-type {\n",
       "        vertical-align: middle;\n",
       "    }\n",
       "\n",
       "    .dataframe tbody tr th {\n",
       "        vertical-align: top;\n",
       "    }\n",
       "\n",
       "    .dataframe thead th {\n",
       "        text-align: right;\n",
       "    }\n",
       "</style>\n",
       "<table border=\"1\" class=\"dataframe\">\n",
       "  <thead>\n",
       "    <tr style=\"text-align: right;\">\n",
       "      <th></th>\n",
       "      <th>ID</th>\n",
       "      <th>Bounds db1</th>\n",
       "      <th>Bounds db2</th>\n",
       "      <th>Model Bounds</th>\n",
       "      <th>Flux</th>\n",
       "    </tr>\n",
       "  </thead>\n",
       "  <tbody>\n",
       "    <tr>\n",
       "      <th>384</th>\n",
       "      <td>RXN-5901</td>\n",
       "      <td>None</td>\n",
       "      <td>(-1000.0, 0.0)</td>\n",
       "      <td>(-1000.0, 0.0)</td>\n",
       "      <td>-2.027874</td>\n",
       "    </tr>\n",
       "    <tr>\n",
       "      <th>248</th>\n",
       "      <td>RIBULP3EPIM-RXN</td>\n",
       "      <td>None</td>\n",
       "      <td>(-1000.0, 1000.0)</td>\n",
       "      <td>(-1000.0, 1000.0)</td>\n",
       "      <td>-0.383860</td>\n",
       "    </tr>\n",
       "    <tr>\n",
       "      <th>270</th>\n",
       "      <td>2TRANSKETO-RXN</td>\n",
       "      <td>None</td>\n",
       "      <td>(-1000.0, 1000.0)</td>\n",
       "      <td>(-1000.0, 1000.0)</td>\n",
       "      <td>-0.347433</td>\n",
       "    </tr>\n",
       "    <tr>\n",
       "      <th>664</th>\n",
       "      <td>RXN-9515</td>\n",
       "      <td>None</td>\n",
       "      <td>(-1000.0, 0.0)</td>\n",
       "      <td>(-1000.0, 0.0)</td>\n",
       "      <td>-0.272897</td>\n",
       "    </tr>\n",
       "    <tr>\n",
       "      <th>221</th>\n",
       "      <td>RXN-9526</td>\n",
       "      <td>None</td>\n",
       "      <td>(-1000.0, 0.0)</td>\n",
       "      <td>(-1000.0, 0.0)</td>\n",
       "      <td>-0.272897</td>\n",
       "    </tr>\n",
       "    <tr>\n",
       "      <th>651</th>\n",
       "      <td>RXN-9534</td>\n",
       "      <td>None</td>\n",
       "      <td>(-1000.0, 0.0)</td>\n",
       "      <td>(-1000.0, 0.0)</td>\n",
       "      <td>-0.272897</td>\n",
       "    </tr>\n",
       "    <tr>\n",
       "      <th>5</th>\n",
       "      <td>RXN-9542</td>\n",
       "      <td>None</td>\n",
       "      <td>(-1000.0, 0.0)</td>\n",
       "      <td>(-1000.0, 0.0)</td>\n",
       "      <td>-0.272897</td>\n",
       "    </tr>\n",
       "    <tr>\n",
       "      <th>206</th>\n",
       "      <td>RXN-9538</td>\n",
       "      <td>None</td>\n",
       "      <td>(-1000.0, 0.0)</td>\n",
       "      <td>(-1000.0, 0.0)</td>\n",
       "      <td>-0.272897</td>\n",
       "    </tr>\n",
       "    <tr>\n",
       "      <th>454</th>\n",
       "      <td>1TRANSKETO-RXN</td>\n",
       "      <td>None</td>\n",
       "      <td>(-1000.0, 1000.0)</td>\n",
       "      <td>(-1000.0, 1000.0)</td>\n",
       "      <td>-0.036428</td>\n",
       "    </tr>\n",
       "    <tr>\n",
       "      <th>665</th>\n",
       "      <td>RXN-12726</td>\n",
       "      <td>None</td>\n",
       "      <td>(0.0, 1000.0)</td>\n",
       "      <td>(-1000.0, 1000.0)</td>\n",
       "      <td>0.000000</td>\n",
       "    </tr>\n",
       "    <tr>\n",
       "      <th>605</th>\n",
       "      <td>3-HYDROXYISOBUTYRATE-DEHYDROGENASE-RXN</td>\n",
       "      <td>(0.0, 1000.0)</td>\n",
       "      <td>None</td>\n",
       "      <td>(0.0, 1000.0)</td>\n",
       "      <td>0.000000</td>\n",
       "    </tr>\n",
       "    <tr>\n",
       "      <th>692</th>\n",
       "      <td>RXN-12570</td>\n",
       "      <td>None</td>\n",
       "      <td>(0.0, 1000.0)</td>\n",
       "      <td>(-1000.0, 1000.0)</td>\n",
       "      <td>0.000000</td>\n",
       "    </tr>\n",
       "    <tr>\n",
       "      <th>694</th>\n",
       "      <td>RXN66-1</td>\n",
       "      <td>None</td>\n",
       "      <td>(0.0, 1000.0)</td>\n",
       "      <td>(0.0, 1000.0)</td>\n",
       "      <td>0.000000</td>\n",
       "    </tr>\n",
       "    <tr>\n",
       "      <th>643</th>\n",
       "      <td>RXN0-2145</td>\n",
       "      <td>None</td>\n",
       "      <td>(-1000.0, 0.0)</td>\n",
       "      <td>(-1000.0, 1000.0)</td>\n",
       "      <td>0.000000</td>\n",
       "    </tr>\n",
       "    <tr>\n",
       "      <th>702</th>\n",
       "      <td>2.7.9.3-RXN</td>\n",
       "      <td>None</td>\n",
       "      <td>(0.0, 1000.0)</td>\n",
       "      <td>(-1000.0, 1000.0)</td>\n",
       "      <td>0.000000</td>\n",
       "    </tr>\n",
       "    <tr>\n",
       "      <th>620</th>\n",
       "      <td>RXN-17473</td>\n",
       "      <td>None</td>\n",
       "      <td>(0.0, 1000.0)</td>\n",
       "      <td>(0.0, 1000.0)</td>\n",
       "      <td>0.000000</td>\n",
       "    </tr>\n",
       "    <tr>\n",
       "      <th>713</th>\n",
       "      <td>RXN-16013</td>\n",
       "      <td>None</td>\n",
       "      <td>(0.0, 1000.0)</td>\n",
       "      <td>(0.0, 1000.0)</td>\n",
       "      <td>0.000000</td>\n",
       "    </tr>\n",
       "    <tr>\n",
       "      <th>618</th>\n",
       "      <td>RXN-18092</td>\n",
       "      <td>None</td>\n",
       "      <td>(0.0, 1000.0)</td>\n",
       "      <td>(-1000.0, 1000.0)</td>\n",
       "      <td>0.000000</td>\n",
       "    </tr>\n",
       "    <tr>\n",
       "      <th>741</th>\n",
       "      <td>CYTIDEAM2-RXN</td>\n",
       "      <td>(0.0, 1000.0)</td>\n",
       "      <td>None</td>\n",
       "      <td>(0.0, 1000.0)</td>\n",
       "      <td>0.000000</td>\n",
       "    </tr>\n",
       "    <tr>\n",
       "      <th>758</th>\n",
       "      <td>PYRIMSYN3-RXN</td>\n",
       "      <td>None</td>\n",
       "      <td>(0.0, 1000.0)</td>\n",
       "      <td>(0.0, 1000.0)</td>\n",
       "      <td>0.000000</td>\n",
       "    </tr>\n",
       "    <tr>\n",
       "      <th>666</th>\n",
       "      <td>RXN-8631</td>\n",
       "      <td>None</td>\n",
       "      <td>(-1000.0, 1000.0)</td>\n",
       "      <td>(-1000.0, 1000.0)</td>\n",
       "      <td>0.000000</td>\n",
       "    </tr>\n",
       "    <tr>\n",
       "      <th>600</th>\n",
       "      <td>ADENYLATECYC-RXN</td>\n",
       "      <td>None</td>\n",
       "      <td>(0.0, 1000.0)</td>\n",
       "      <td>(0.0, 1000.0)</td>\n",
       "      <td>0.000000</td>\n",
       "    </tr>\n",
       "    <tr>\n",
       "      <th>4</th>\n",
       "      <td>RXN-9530</td>\n",
       "      <td>None</td>\n",
       "      <td>(-1000.0, 0.0)</td>\n",
       "      <td>(-1000.0, 0.0)</td>\n",
       "      <td>0.000000</td>\n",
       "    </tr>\n",
       "    <tr>\n",
       "      <th>788</th>\n",
       "      <td>RXN-12490</td>\n",
       "      <td>None</td>\n",
       "      <td>(0.0, 1000.0)</td>\n",
       "      <td>(-1000.0, 1000.0)</td>\n",
       "      <td>0.000000</td>\n",
       "    </tr>\n",
       "    <tr>\n",
       "      <th>21</th>\n",
       "      <td>ALDOSE1EPIM-RXN</td>\n",
       "      <td>None</td>\n",
       "      <td>(0.0, 1000.0)</td>\n",
       "      <td>(-1000.0, 1000.0)</td>\n",
       "      <td>0.000000</td>\n",
       "    </tr>\n",
       "    <tr>\n",
       "      <th>27</th>\n",
       "      <td>KYNURENINASE-RXN</td>\n",
       "      <td>(0.0, 1000.0)</td>\n",
       "      <td>None</td>\n",
       "      <td>(0.0, 1000.0)</td>\n",
       "      <td>0.000000</td>\n",
       "    </tr>\n",
       "    <tr>\n",
       "      <th>43</th>\n",
       "      <td>RXN-17472</td>\n",
       "      <td>None</td>\n",
       "      <td>(0.0, 1000.0)</td>\n",
       "      <td>(0.0, 1000.0)</td>\n",
       "      <td>0.000000</td>\n",
       "    </tr>\n",
       "    <tr>\n",
       "      <th>82</th>\n",
       "      <td>RXN-13697</td>\n",
       "      <td>None</td>\n",
       "      <td>(-1000.0, 1000.0)</td>\n",
       "      <td>(-1000.0, 1000.0)</td>\n",
       "      <td>0.000000</td>\n",
       "    </tr>\n",
       "    <tr>\n",
       "      <th>104</th>\n",
       "      <td>O-ACETYLHOMOSERINE-THIOL-LYASE-RXN</td>\n",
       "      <td>None</td>\n",
       "      <td>(0.0, 1000.0)</td>\n",
       "      <td>(-1000.0, 1000.0)</td>\n",
       "      <td>0.000000</td>\n",
       "    </tr>\n",
       "    <tr>\n",
       "      <th>235</th>\n",
       "      <td>DEHYDDEOXGALACTKIN-RXN</td>\n",
       "      <td>(0.0, 1000.0)</td>\n",
       "      <td>None</td>\n",
       "      <td>(-1000.0, 1000.0)</td>\n",
       "      <td>0.000000</td>\n",
       "    </tr>\n",
       "    <tr>\n",
       "      <th>256</th>\n",
       "      <td>RXN-13617</td>\n",
       "      <td>None</td>\n",
       "      <td>(-1000.0, 0.0)</td>\n",
       "      <td>(-1000.0, 0.0)</td>\n",
       "      <td>0.000000</td>\n",
       "    </tr>\n",
       "    <tr>\n",
       "      <th>444</th>\n",
       "      <td>RXN-12567</td>\n",
       "      <td>None</td>\n",
       "      <td>(-1000.0, 0.0)</td>\n",
       "      <td>(-1000.0, 1000.0)</td>\n",
       "      <td>0.000000</td>\n",
       "    </tr>\n",
       "    <tr>\n",
       "      <th>209</th>\n",
       "      <td>RXN0-2144</td>\n",
       "      <td>None</td>\n",
       "      <td>(0.0, 1000.0)</td>\n",
       "      <td>(-1000.0, 1000.0)</td>\n",
       "      <td>0.000000</td>\n",
       "    </tr>\n",
       "    <tr>\n",
       "      <th>818</th>\n",
       "      <td>RXN0-2141</td>\n",
       "      <td>None</td>\n",
       "      <td>(0.0, 1000.0)</td>\n",
       "      <td>(-1000.0, 1000.0)</td>\n",
       "      <td>0.000000</td>\n",
       "    </tr>\n",
       "    <tr>\n",
       "      <th>159</th>\n",
       "      <td>CDPDIGLYSYN-RXN</td>\n",
       "      <td>None</td>\n",
       "      <td>(0.0, 1000.0)</td>\n",
       "      <td>(0.0, 1000.0)</td>\n",
       "      <td>0.073819</td>\n",
       "    </tr>\n",
       "    <tr>\n",
       "      <th>160</th>\n",
       "      <td>AICARSYN-RXN</td>\n",
       "      <td>None</td>\n",
       "      <td>(0.0, 1000.0)</td>\n",
       "      <td>(0.0, 1000.0)</td>\n",
       "      <td>0.164163</td>\n",
       "    </tr>\n",
       "    <tr>\n",
       "      <th>621</th>\n",
       "      <td>1.8.4.8-RXN</td>\n",
       "      <td>None</td>\n",
       "      <td>(-1000.0, 0.0)</td>\n",
       "      <td>(0.0, 1000.0)</td>\n",
       "      <td>0.200810</td>\n",
       "    </tr>\n",
       "    <tr>\n",
       "      <th>732</th>\n",
       "      <td>SULFATE-ADENYLYLTRANS-RXN</td>\n",
       "      <td>None</td>\n",
       "      <td>(0.0, 1000.0)</td>\n",
       "      <td>(0.0, 1000.0)</td>\n",
       "      <td>0.200810</td>\n",
       "    </tr>\n",
       "    <tr>\n",
       "      <th>474</th>\n",
       "      <td>RIB5PISOM-RXN</td>\n",
       "      <td>None</td>\n",
       "      <td>(-1000.0, 1000.0)</td>\n",
       "      <td>(-1000.0, 1000.0)</td>\n",
       "      <td>0.382985</td>\n",
       "    </tr>\n",
       "    <tr>\n",
       "      <th>181</th>\n",
       "      <td>RXN-16391</td>\n",
       "      <td>None</td>\n",
       "      <td>(0.0, 1000.0)</td>\n",
       "      <td>(0.0, 1000.0)</td>\n",
       "      <td>1.114003</td>\n",
       "    </tr>\n",
       "    <tr>\n",
       "      <th>100</th>\n",
       "      <td>RXN-8961</td>\n",
       "      <td>None</td>\n",
       "      <td>(0.0, 1000.0)</td>\n",
       "      <td>(0.0, 1000.0)</td>\n",
       "      <td>1.114003</td>\n",
       "    </tr>\n",
       "    <tr>\n",
       "      <th>25</th>\n",
       "      <td>MALYL-COA-LYASE-RXN</td>\n",
       "      <td>None</td>\n",
       "      <td>(-1000.0, 0.0)</td>\n",
       "      <td>(0.0, 1000.0)</td>\n",
       "      <td>1.114659</td>\n",
       "    </tr>\n",
       "    <tr>\n",
       "      <th>707</th>\n",
       "      <td>GCVMULTI-RXN</td>\n",
       "      <td>None</td>\n",
       "      <td>(-1000.0, 1000.0)</td>\n",
       "      <td>(0.0, 1000.0)</td>\n",
       "      <td>4.258326</td>\n",
       "    </tr>\n",
       "  </tbody>\n",
       "</table>\n",
       "</div>"
      ],
      "text/plain": [
       "                                         ID  ...      Flux\n",
       "384                                RXN-5901  ... -2.027874\n",
       "248                         RIBULP3EPIM-RXN  ... -0.383860\n",
       "270                          2TRANSKETO-RXN  ... -0.347433\n",
       "664                                RXN-9515  ... -0.272897\n",
       "221                                RXN-9526  ... -0.272897\n",
       "651                                RXN-9534  ... -0.272897\n",
       "5                                  RXN-9542  ... -0.272897\n",
       "206                                RXN-9538  ... -0.272897\n",
       "454                          1TRANSKETO-RXN  ... -0.036428\n",
       "665                               RXN-12726  ...  0.000000\n",
       "605  3-HYDROXYISOBUTYRATE-DEHYDROGENASE-RXN  ...  0.000000\n",
       "692                               RXN-12570  ...  0.000000\n",
       "694                                 RXN66-1  ...  0.000000\n",
       "643                               RXN0-2145  ...  0.000000\n",
       "702                             2.7.9.3-RXN  ...  0.000000\n",
       "620                               RXN-17473  ...  0.000000\n",
       "713                               RXN-16013  ...  0.000000\n",
       "618                               RXN-18092  ...  0.000000\n",
       "741                           CYTIDEAM2-RXN  ...  0.000000\n",
       "758                           PYRIMSYN3-RXN  ...  0.000000\n",
       "666                                RXN-8631  ...  0.000000\n",
       "600                        ADENYLATECYC-RXN  ...  0.000000\n",
       "4                                  RXN-9530  ...  0.000000\n",
       "788                               RXN-12490  ...  0.000000\n",
       "21                          ALDOSE1EPIM-RXN  ...  0.000000\n",
       "27                         KYNURENINASE-RXN  ...  0.000000\n",
       "43                                RXN-17472  ...  0.000000\n",
       "82                                RXN-13697  ...  0.000000\n",
       "104      O-ACETYLHOMOSERINE-THIOL-LYASE-RXN  ...  0.000000\n",
       "235                  DEHYDDEOXGALACTKIN-RXN  ...  0.000000\n",
       "256                               RXN-13617  ...  0.000000\n",
       "444                               RXN-12567  ...  0.000000\n",
       "209                               RXN0-2144  ...  0.000000\n",
       "818                               RXN0-2141  ...  0.000000\n",
       "159                         CDPDIGLYSYN-RXN  ...  0.073819\n",
       "160                            AICARSYN-RXN  ...  0.164163\n",
       "621                             1.8.4.8-RXN  ...  0.200810\n",
       "732               SULFATE-ADENYLYLTRANS-RXN  ...  0.200810\n",
       "474                           RIB5PISOM-RXN  ...  0.382985\n",
       "181                               RXN-16391  ...  1.114003\n",
       "100                                RXN-8961  ...  1.114003\n",
       "25                      MALYL-COA-LYASE-RXN  ...  1.114659\n",
       "707                            GCVMULTI-RXN  ...  4.258326\n",
       "\n",
       "[43 rows x 5 columns]"
      ]
     },
     "execution_count": 46,
     "metadata": {},
     "output_type": "execute_result"
    }
   ],
   "source": [
    "# How many reactions are in one db but not the other?\n",
    "all_bounds[all_bounds[\"Bounds db1\"].isna() ^ all_bounds[\"Bounds db2\"].isna()].sort_values(\"Flux\")"
   ]
  },
  {
   "cell_type": "code",
   "execution_count": 62,
   "id": "d79ef24b",
   "metadata": {},
   "outputs": [
    {
     "data": {
      "application/vnd.microsoft.datawrangler.viewer.v0+json": {
       "columns": [
        {
         "name": "index",
         "rawType": "int64",
         "type": "integer"
        },
        {
         "name": "ID",
         "rawType": "object",
         "type": "string"
        },
        {
         "name": "Bounds db1",
         "rawType": "object",
         "type": "unknown"
        },
        {
         "name": "Bounds db2",
         "rawType": "object",
         "type": "unknown"
        },
        {
         "name": "Model Bounds",
         "rawType": "object",
         "type": "unknown"
        },
        {
         "name": "Flux",
         "rawType": "float64",
         "type": "float"
        }
       ],
       "ref": "82657c80-f68b-4a6a-b97b-061fa324acd2",
       "rows": [
        [
         "596",
         "FORMATETHFLIG-RXN",
         "(-1000.0, 1000.0)",
         "(0.0, 1000.0)",
         "(-1000.0, 1000.0)",
         "-8.62437176243843"
        ],
        [
         "207",
         "METHYLMALONYL-COA-EPIM-RXN",
         "(-1000.0, 0.0)",
         "(-1000.0, 0.0)",
         "(-1000.0, 1000.0)",
         "-1.114002636956668"
        ],
        [
         "187",
         "BRANCHED-CHAINAMINOTRANSFERILEU-RXN",
         "(-1000.0, 1000.0)",
         "(-1000.0, 0.0)",
         "(-1000.0, 1000.0)",
         "-0.2369399163758288"
        ],
        [
         "444",
         "RXN-12567",
         null,
         "(-1000.0, 0.0)",
         "(-1000.0, 1000.0)",
         "0.0"
        ],
        [
         "629",
         "5.5.1.2-RXN",
         "(-1000.0, 0.0)",
         "(-1000.0, 0.0)",
         "(0.0, 1000.0)",
         "0.0"
        ],
        [
         "619",
         "GDPREDUCT-RXN",
         "(-1000.0, 0.0)",
         "(-1000.0, 0.0)",
         "(0.0, 1000.0)",
         "0.0"
        ],
        [
         "618",
         "RXN-18092",
         null,
         "(0.0, 1000.0)",
         "(-1000.0, 1000.0)",
         "0.0"
        ],
        [
         "608",
         "ALARACECAT-RXN",
         "(0.0, 1000.0)",
         "(-1000.0, 1000.0)",
         "(0.0, 1000.0)",
         "0.0"
        ],
        [
         "594",
         "ADPREDUCT-RXN",
         "(-1000.0, 0.0)",
         "(-1000.0, 0.0)",
         "(0.0, 1000.0)",
         "0.0"
        ],
        [
         "576",
         "RXN-14278",
         "(0.0, 1000.0)",
         "(0.0, 1000.0)",
         "(-1000.0, 1000.0)",
         "0.0"
        ],
        [
         "566",
         "RXN-2961",
         "(-1000.0, 0.0)",
         "(-1000.0, 0.0)",
         "(-1000.0, 1000.0)",
         "0.0"
        ],
        [
         "564",
         "RXN-10661",
         "(-1000.0, 0.0)",
         "(-1000.0, 0.0)",
         "(0.0, 1000.0)",
         "0.0"
        ],
        [
         "563",
         "UDPREDUCT-RXN",
         "(-1000.0, 0.0)",
         "(-1000.0, 0.0)",
         "(0.0, 1000.0)",
         "0.0"
        ],
        [
         "543",
         "RXN-14117",
         "(-1000.0, 0.0)",
         "(-1000.0, 0.0)",
         "(0.0, 1000.0)",
         "0.0"
        ],
        [
         "630",
         "RXN0-6512",
         "(-1000.0, 0.0)",
         "(-1000.0, 0.0)",
         "(0.0, 1000.0)",
         "0.0"
        ],
        [
         "540",
         "PYRUVFORMLY-RXN",
         "(-1000.0, 0.0)",
         "(-1000.0, 0.0)",
         "(0.0, 1000.0)",
         "0.0"
        ],
        [
         "524",
         "RXN-12867",
         "(-1000.0, 0.0)",
         "(-1000.0, 0.0)",
         "(0.0, 1000.0)",
         "0.0"
        ],
        [
         "521",
         "RXN-2425",
         "(-1000.0, 0.0)",
         "(-1000.0, 0.0)",
         "(-1000.0, 1000.0)",
         "0.0"
        ],
        [
         "509",
         "XANPRIBOSYLTRAN-RXN",
         "(-1000.0, 0.0)",
         "(-1000.0, 0.0)",
         "(0.0, 1000.0)",
         "0.0"
        ],
        [
         "508",
         "1.3.1.54-RXN",
         "(-1000.0, 0.0)",
         "(-1000.0, 0.0)",
         "(0.0, 1000.0)",
         "0.0"
        ],
        [
         "501",
         "ADENPRIBOSYLTRAN-RXN",
         "(-1000.0, 0.0)",
         "(-1000.0, 0.0)",
         "(0.0, 1000.0)",
         "0.0"
        ],
        [
         "489",
         "RXN0-2142",
         "(-1000.0, 0.0)",
         "(-1000.0, 0.0)",
         "(0.0, 1000.0)",
         "0.0"
        ],
        [
         "484",
         "RXN-17781",
         "(-1000.0, 0.0)",
         "(-1000.0, 0.0)",
         "(0.0, 1000.0)",
         "0.0"
        ],
        [
         "459",
         "RXN-13616",
         "(-1000.0, 0.0)",
         "(-1000.0, 0.0)",
         "(0.0, 1000.0)",
         "0.0"
        ],
        [
         "440",
         "RXN-9661",
         "(-1000.0, 0.0)",
         "(-1000.0, 0.0)",
         "(0.0, 1000.0)",
         "0.0"
        ],
        [
         "431",
         "1.2.7.8-RXN",
         "(0.0, 1000.0)",
         "(0.0, 1000.0)",
         "(-1000.0, 1000.0)",
         "0.0"
        ],
        [
         "429",
         "RXN0-901",
         "(0.0, 1000.0)",
         "(-1000.0, 1000.0)",
         "(0.0, 1000.0)",
         "0.0"
        ],
        [
         "428",
         "ACETATEKIN-RXN",
         "(-1000.0, 0.0)",
         "(-1000.0, 1000.0)",
         "(0.0, 1000.0)",
         "0.0"
        ],
        [
         "418",
         "RXN-14229",
         "(0.0, 1000.0)",
         "(0.0, 1000.0)",
         "(-1000.0, 1000.0)",
         "0.0"
        ],
        [
         "538",
         "RXN-11729",
         "(-1000.0, 0.0)",
         "(-1000.0, 0.0)",
         "(0.0, 1000.0)",
         "0.0"
        ],
        [
         "634",
         "R313-RXN",
         "(-1000.0, 0.0)",
         "(-1000.0, 0.0)",
         "(0.0, 1000.0)",
         "0.0"
        ],
        [
         "642",
         "RXN-9663",
         "(-1000.0, 0.0)",
         "(-1000.0, 0.0)",
         "(0.0, 1000.0)",
         "0.0"
        ],
        [
         "643",
         "RXN0-2145",
         null,
         "(-1000.0, 0.0)",
         "(-1000.0, 1000.0)",
         "0.0"
        ],
        [
         "813",
         "HYPOXANPRIBOSYLTRAN-RXN",
         "(-1000.0, 0.0)",
         "(-1000.0, 0.0)",
         "(0.0, 1000.0)",
         "0.0"
        ],
        [
         "808",
         "RXN-9633",
         "(-1000.0, 0.0)",
         "(-1000.0, 0.0)",
         "(0.0, 1000.0)",
         "0.0"
        ],
        [
         "799",
         "RXN-14192",
         "(-1000.0, 0.0)",
         "(-1000.0, 0.0)",
         "(0.0, 1000.0)",
         "0.0"
        ],
        [
         "795",
         "RXN-12141",
         "(0.0, 1000.0)",
         "(0.0, 1000.0)",
         "(-1000.0, 1000.0)",
         "0.0"
        ],
        [
         "790",
         "3-HYDROXYBUTYRYL-COA-DEHYDROGENASE-RXN",
         "(-1000.0, 0.0)",
         "(-1000.0, 0.0)",
         "(0.0, 1000.0)",
         "0.0"
        ],
        [
         "788",
         "RXN-12490",
         null,
         "(0.0, 1000.0)",
         "(-1000.0, 1000.0)",
         "0.0"
        ],
        [
         "779",
         "PEPCARBOX-RXN",
         "(-1000.0, 0.0)",
         "(-1000.0, 0.0)",
         "(0.0, 1000.0)",
         "0.0"
        ],
        [
         "777",
         "RXN0-5199",
         "(0.0, 1000.0)",
         "(-1000.0, 1000.0)",
         "(0.0, 1000.0)",
         "0.0"
        ],
        [
         "769",
         "URACIL-PRIBOSYLTRANS-RXN",
         "(-1000.0, 0.0)",
         "(-1000.0, 0.0)",
         "(0.0, 1000.0)",
         "0.0"
        ],
        [
         "764",
         "RXN-12142",
         "(0.0, 1000.0)",
         "(0.0, 1000.0)",
         "(-1000.0, 1000.0)",
         "0.0"
        ],
        [
         "756",
         "ACETATE--COA-LIGASE-RXN",
         "(0.0, 1000.0)",
         "(-1000.0, 1000.0)",
         "(0.0, 1000.0)",
         "0.0"
        ],
        [
         "751",
         "RXN-2364",
         "(-1000.0, 0.0)",
         "(-1000.0, 0.0)",
         "(0.0, 1000.0)",
         "0.0"
        ],
        [
         "411",
         "RXN-13615",
         "(0.0, 1000.0)",
         "(0.0, 1000.0)",
         "(-1000.0, 1000.0)",
         "0.0"
        ],
        [
         "747",
         "MANNONOXIDOREDUCT-RXN",
         "(-1000.0, 0.0)",
         "(-1000.0, 0.0)",
         "(0.0, 1000.0)",
         "0.0"
        ],
        [
         "734",
         "RXN-10659",
         "(-1000.0, 0.0)",
         "(-1000.0, 0.0)",
         "(0.0, 1000.0)",
         "0.0"
        ],
        [
         "730",
         "UROCANATE-HYDRATASE-RXN",
         "(-1000.0, 0.0)",
         "(-1000.0, 0.0)",
         "(0.0, 1000.0)",
         "0.0"
        ],
        [
         "709",
         "RXN-7567",
         "(-1000.0, 0.0)",
         "(-1000.0, 0.0)",
         "(0.0, 1000.0)",
         "0.0"
        ]
       ],
       "shape": {
        "columns": 5,
        "rows": 144
       }
      },
      "text/html": [
       "<div>\n",
       "<style scoped>\n",
       "    .dataframe tbody tr th:only-of-type {\n",
       "        vertical-align: middle;\n",
       "    }\n",
       "\n",
       "    .dataframe tbody tr th {\n",
       "        vertical-align: top;\n",
       "    }\n",
       "\n",
       "    .dataframe thead th {\n",
       "        text-align: right;\n",
       "    }\n",
       "</style>\n",
       "<table border=\"1\" class=\"dataframe\">\n",
       "  <thead>\n",
       "    <tr style=\"text-align: right;\">\n",
       "      <th></th>\n",
       "      <th>ID</th>\n",
       "      <th>Bounds db1</th>\n",
       "      <th>Bounds db2</th>\n",
       "      <th>Model Bounds</th>\n",
       "      <th>Flux</th>\n",
       "    </tr>\n",
       "  </thead>\n",
       "  <tbody>\n",
       "    <tr>\n",
       "      <th>596</th>\n",
       "      <td>FORMATETHFLIG-RXN</td>\n",
       "      <td>(-1000.0, 1000.0)</td>\n",
       "      <td>(0.0, 1000.0)</td>\n",
       "      <td>(-1000.0, 1000.0)</td>\n",
       "      <td>-8.624372</td>\n",
       "    </tr>\n",
       "    <tr>\n",
       "      <th>207</th>\n",
       "      <td>METHYLMALONYL-COA-EPIM-RXN</td>\n",
       "      <td>(-1000.0, 0.0)</td>\n",
       "      <td>(-1000.0, 0.0)</td>\n",
       "      <td>(-1000.0, 1000.0)</td>\n",
       "      <td>-1.114003</td>\n",
       "    </tr>\n",
       "    <tr>\n",
       "      <th>187</th>\n",
       "      <td>BRANCHED-CHAINAMINOTRANSFERILEU-RXN</td>\n",
       "      <td>(-1000.0, 1000.0)</td>\n",
       "      <td>(-1000.0, 0.0)</td>\n",
       "      <td>(-1000.0, 1000.0)</td>\n",
       "      <td>-0.236940</td>\n",
       "    </tr>\n",
       "    <tr>\n",
       "      <th>444</th>\n",
       "      <td>RXN-12567</td>\n",
       "      <td>None</td>\n",
       "      <td>(-1000.0, 0.0)</td>\n",
       "      <td>(-1000.0, 1000.0)</td>\n",
       "      <td>0.000000</td>\n",
       "    </tr>\n",
       "    <tr>\n",
       "      <th>629</th>\n",
       "      <td>5.5.1.2-RXN</td>\n",
       "      <td>(-1000.0, 0.0)</td>\n",
       "      <td>(-1000.0, 0.0)</td>\n",
       "      <td>(0.0, 1000.0)</td>\n",
       "      <td>0.000000</td>\n",
       "    </tr>\n",
       "    <tr>\n",
       "      <th>...</th>\n",
       "      <td>...</td>\n",
       "      <td>...</td>\n",
       "      <td>...</td>\n",
       "      <td>...</td>\n",
       "      <td>...</td>\n",
       "    </tr>\n",
       "    <tr>\n",
       "      <th>25</th>\n",
       "      <td>MALYL-COA-LYASE-RXN</td>\n",
       "      <td>None</td>\n",
       "      <td>(-1000.0, 0.0)</td>\n",
       "      <td>(0.0, 1000.0)</td>\n",
       "      <td>1.114659</td>\n",
       "    </tr>\n",
       "    <tr>\n",
       "      <th>707</th>\n",
       "      <td>GCVMULTI-RXN</td>\n",
       "      <td>None</td>\n",
       "      <td>(-1000.0, 1000.0)</td>\n",
       "      <td>(0.0, 1000.0)</td>\n",
       "      <td>4.258326</td>\n",
       "    </tr>\n",
       "    <tr>\n",
       "      <th>338</th>\n",
       "      <td>PSERTRANSAM-RXN</td>\n",
       "      <td>(-1000.0, 0.0)</td>\n",
       "      <td>(-1000.0, 1000.0)</td>\n",
       "      <td>(0.0, 1000.0)</td>\n",
       "      <td>5.357923</td>\n",
       "    </tr>\n",
       "    <tr>\n",
       "      <th>519</th>\n",
       "      <td>PYRNUTRANSHYDROGEN-RXN</td>\n",
       "      <td>(0.0, 1000.0)</td>\n",
       "      <td>(-1000.0, 1000.0)</td>\n",
       "      <td>(0.0, 1000.0)</td>\n",
       "      <td>8.025592</td>\n",
       "    </tr>\n",
       "    <tr>\n",
       "      <th>708</th>\n",
       "      <td>FUMHYDR-RXN</td>\n",
       "      <td>(0.0, 1000.0)</td>\n",
       "      <td>(-1000.0, 1000.0)</td>\n",
       "      <td>(-1000.0, 1000.0)</td>\n",
       "      <td>8.466268</td>\n",
       "    </tr>\n",
       "  </tbody>\n",
       "</table>\n",
       "<p>144 rows × 5 columns</p>\n",
       "</div>"
      ],
      "text/plain": [
       "                                      ID  ...      Flux\n",
       "596                    FORMATETHFLIG-RXN  ... -8.624372\n",
       "207           METHYLMALONYL-COA-EPIM-RXN  ... -1.114003\n",
       "187  BRANCHED-CHAINAMINOTRANSFERILEU-RXN  ... -0.236940\n",
       "444                            RXN-12567  ...  0.000000\n",
       "629                          5.5.1.2-RXN  ...  0.000000\n",
       "..                                   ...  ...       ...\n",
       "25                   MALYL-COA-LYASE-RXN  ...  1.114659\n",
       "707                         GCVMULTI-RXN  ...  4.258326\n",
       "338                      PSERTRANSAM-RXN  ...  5.357923\n",
       "519               PYRNUTRANSHYDROGEN-RXN  ...  8.025592\n",
       "708                          FUMHYDR-RXN  ...  8.466268\n",
       "\n",
       "[144 rows x 5 columns]"
      ]
     },
     "execution_count": 62,
     "metadata": {},
     "output_type": "execute_result"
    }
   ],
   "source": [
    "# Highlight bounds disagreements\n",
    "from itertools import pairwise\n",
    "\n",
    "# Convoluted syntax - basically, it's a problem when the bounds aren't all equal,\n",
    "# BUT we can ignore any missing bounds (e.g. if db1 says (0.0, 1000.0) while db2\n",
    "# has no bounds for that reaction, that's not necessarily an issue worth highlighting.)\n",
    "bonunds_issues = all_bounds[[\n",
    "    not all([x == y or x is None or y is None\n",
    "             for x, y in pairwise([bounds_db1, bounds_db2, bounds_model])])\n",
    "    for _, (_, bounds_db1, bounds_db2, bounds_model, _) in all_bounds.iterrows()\n",
    "]].sort_values(\"Flux\")\n",
    "bonunds_issues"
   ]
  },
  {
   "cell_type": "code",
   "execution_count": 64,
   "id": "51bd1a81",
   "metadata": {},
   "outputs": [],
   "source": [
    "bonunds_issues.to_clipboard(index=False)"
   ]
  },
  {
   "cell_type": "code",
   "execution_count": null,
   "id": "e9767a94",
   "metadata": {},
   "outputs": [
    {
     "data": {
      "text/plain": [
       "0.0006565883615579256"
      ]
     },
     "execution_count": 108,
     "metadata": {},
     "output_type": "execute_result"
    }
   ],
   "source": [
    "model.reactions.get_by_id(\"DIHYDROFOLATEREDUCT-RXN\")\n",
    "sol[\"DIHYDROFOLATEREDUCT-RXN\"]"
   ]
  },
  {
   "cell_type": "code",
   "execution_count": 111,
   "id": "b282aae7",
   "metadata": {},
   "outputs": [
    {
     "data": {
      "text/plain": [
       "0.0006565883615579256"
      ]
     },
     "execution_count": 111,
     "metadata": {},
     "output_type": "execute_result"
    }
   ],
   "source": [
    "model.reactions.get_by_id(\"DIHYDROFOLATESYNTH-RXN\")\n",
    "sol[\"DIHYDROFOLATESYNTH-RXN\"]"
   ]
  },
  {
   "cell_type": "code",
   "execution_count": 107,
   "id": "16340724",
   "metadata": {},
   "outputs": [
    {
     "data": {
      "text/html": [
       "\n",
       "        <table>\n",
       "            <tr>\n",
       "                <td><strong>Reaction identifier</strong></td><td>DIHYDROFOLATESYNTH-RXN</td>\n",
       "            </tr><tr>\n",
       "                <td><strong>Name</strong></td><td>DIHYDROFOLATESYNTH-RXN</td>\n",
       "            </tr><tr>\n",
       "                <td><strong>Memory address</strong></td>\n",
       "                <td>0x7ae5ad409880</td>\n",
       "            </tr><tr>\n",
       "                <td><strong>Stoichiometry</strong></td>\n",
       "                <td>\n",
       "                    <p style='text-align:right'>7-8-DIHYDROPTEROATE[c] + ATP[c] + GLT[c] --> ADP[c] + DIHYDROFOLATE[c] + PROTON[c] + Pi[c]</p>\n",
       "                    <p style='text-align:right'>7,8-dihydropteroate + ATP + L-glutamate --> ADP + 7,8-dihydrofolate monoglutamate + H+ + phosphate</p>\n",
       "                </td>\n",
       "            </tr><tr>\n",
       "                <td><strong>GPR</strong></td><td></td>\n",
       "            </tr><tr>\n",
       "                <td><strong>Lower bound</strong></td><td>0.0</td>\n",
       "            </tr><tr>\n",
       "                <td><strong>Upper bound</strong></td><td>1000.0</td>\n",
       "            </tr>\n",
       "        </table>\n",
       "        "
      ],
      "text/plain": [
       "<Reaction DIHYDROFOLATESYNTH-RXN at 0x7ae5ad409880>"
      ]
     },
     "execution_count": 107,
     "metadata": {},
     "output_type": "execute_result"
    }
   ],
   "source": [
    "model.reactions.get_by_id(\"DIHYDROFOLATESYNTH-RXN\")"
   ]
  }
 ],
 "metadata": {
  "kernelspec": {
   "display_name": "Python 3",
   "language": "python",
   "name": "python3"
  },
  "language_info": {
   "codemirror_mode": {
    "name": "ipython",
    "version": 3
   },
   "file_extension": ".py",
   "mimetype": "text/x-python",
   "name": "python",
   "nbconvert_exporter": "python",
   "pygments_lexer": "ipython3",
   "version": "3.12.1"
  }
 },
 "nbformat": 4,
 "nbformat_minor": 5
}
