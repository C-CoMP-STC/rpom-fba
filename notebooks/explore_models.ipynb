{
 "cells": [
  {
   "cell_type": "markdown",
   "metadata": {},
   "source": [
    "# Exploring the *Ruegeria pomeroyi* FBA model"
   ]
  },
  {
   "cell_type": "code",
   "execution_count": 1,
   "metadata": {},
   "outputs": [
    {
     "name": "stdout",
     "output_type": "stream",
     "text": [
      "Scaling...\n",
      " A: min|aij| =  1.000e+00  max|aij| =  1.000e+00  ratio =  1.000e+00\n",
      "Problem data seem to be well scaled\n"
     ]
    }
   ],
   "source": [
    "# Necessary imports\n",
    "from collections import Counter\n",
    "import numpy as np\n",
    "import matplotlib.pyplot as plt\n",
    "import escher\n",
    "from escher import Builder\n",
    "import cobra\n",
    "\n",
    "# Load model\n",
    "model = cobra.io.read_sbml_model(\"../base_model/Rpom_06.xml\")\n"
   ]
  },
  {
   "cell_type": "markdown",
   "metadata": {},
   "source": [
    "> ### From Matteo:\n",
    ">\n",
    "> 1) The different models vary in their biomass composition, with the number corresponding to the growth rate across different nutrient sources according to out lab's measurements. For example, Rpom_055 has the biomass extrapolated at a growth rate 0.55/h.\n",
    "> 2) I really don't have much to add compared to what I told Arion above - it is mostly to make sure that the pathways are thermodynamically consistent and that the atp/nadh, as well as the individual biomass components are produced in the expected pathways.\n",
    "> 3) In addition, there are a few genes to be added to the model (I have added three reactions compared to what Arion did: PDH, PHB-SYNTHESIS, PHB-DEGRADATION). Here are the uniprot IDs of the corresponding proteins:\n",
    ">  - Pyruvate dehydrogenase (PDH):\n",
    ">     - Q5LR87\n",
    ">     - Q5LR88\n",
    ">     - Q5LR89\n",
    ">     - Q5LKR2\n",
    ">   - PHB synthesis (including phasin)\n",
    ">     - Q5LTW8\n",
    ">     - Q5LTW7\n",
    ">   - PHB degradation\n",
    ">     - Q5LTW9\n",
    "> \n",
    "> The problem is that the model was made using a previous Biocyc genome, with different gene names. I don't know whether this older annotation is still available. So, it would be necessary to update the gene IDs to make sure that all genes are properly annotated."
   ]
  },
  {
   "cell_type": "markdown",
   "metadata": {},
   "source": [
    "## Issue: Which BioCyc database?\n",
    "\n",
    "Ruegeria pomeroyi DSS-3\n",
    "<img src=\"img/Ruegeria%20pomeroyi%20DSS-3.png\" width=250/>\n",
    "\n",
    "Ruegeria pomeroyi DSS-3 representative genome\n",
    "<img src=\"img/Ruegeria%20pomeroyi%20DSS-3%20representative%20genome.png\" width=250/>"
   ]
  },
  {
   "cell_type": "code",
   "execution_count": null,
   "metadata": {},
   "outputs": [],
   "source": [
    "model.summary()"
   ]
  },
  {
   "cell_type": "markdown",
   "metadata": {},
   "source": [
    "# Exploring the Model"
   ]
  },
  {
   "cell_type": "code",
   "execution_count": 2,
   "metadata": {},
   "outputs": [
    {
     "data": {
      "text/html": [
       "\n",
       "        <table>\n",
       "            <tr>\n",
       "                <td><strong>Name</strong></td>\n",
       "                <td>Rpom_06</td>\n",
       "            </tr><tr>\n",
       "                <td><strong>Memory address</strong></td>\n",
       "                <td>0x07f86a870bfa0</td>\n",
       "            </tr><tr>\n",
       "                <td><strong>Number of metabolites</strong></td>\n",
       "                <td>1657</td>\n",
       "            </tr><tr>\n",
       "                <td><strong>Number of reactions</strong></td>\n",
       "                <td>1929</td>\n",
       "            </tr><tr>\n",
       "                <td><strong>Number of groups</strong></td>\n",
       "                <td>0</td>\n",
       "            </tr><tr>\n",
       "                <td><strong>Objective expression</strong></td>\n",
       "                <td>1.0*EX_glc - 1.0*EX_glc_reverse_8e37d</td>\n",
       "            </tr><tr>\n",
       "                <td><strong>Compartments</strong></td>\n",
       "                <td>c, p, e</td>\n",
       "            </tr>\n",
       "          </table>"
      ],
      "text/plain": [
       "<Model Rpom_06 at 0x7f86a870bfa0>"
      ]
     },
     "execution_count": 2,
     "metadata": {},
     "output_type": "execute_result"
    }
   ],
   "source": [
    "model"
   ]
  },
  {
   "cell_type": "code",
   "execution_count": null,
   "metadata": {},
   "outputs": [],
   "source": [
    "model.objective.expression"
   ]
  },
  {
   "cell_type": "code",
   "execution_count": null,
   "metadata": {},
   "outputs": [],
   "source": [
    "solution = model.optimize()\n",
    "solution"
   ]
  },
  {
   "cell_type": "code",
   "execution_count": null,
   "metadata": {},
   "outputs": [],
   "source": [
    "(solution.shadow_prices).sort_values(ascending=False)[:25]\n"
   ]
  },
  {
   "cell_type": "code",
   "execution_count": null,
   "metadata": {},
   "outputs": [],
   "source": [
    "objbuilder = Builder()\n",
    "objbuilder.model = model\n",
    "objbuilder.reaction_data = solution.fluxes\n",
    "objbuilder"
   ]
  },
  {
   "cell_type": "markdown",
   "metadata": {},
   "source": [
    "Genes are missing (!)"
   ]
  },
  {
   "cell_type": "code",
   "execution_count": null,
   "metadata": {},
   "outputs": [],
   "source": []
  },
  {
   "cell_type": "code",
   "execution_count": 3,
   "metadata": {},
   "outputs": [
    {
     "data": {
      "text/plain": [
       "[]"
      ]
     },
     "execution_count": 3,
     "metadata": {},
     "output_type": "execute_result"
    }
   ],
   "source": [
    "model.genes"
   ]
  },
  {
   "cell_type": "markdown",
   "metadata": {},
   "source": [
    "Thermodynamic consistency is apparently an issue with the base model. Begin exploring by counting bounds on reaction fluxes:"
   ]
  },
  {
   "cell_type": "code",
   "execution_count": null,
   "metadata": {},
   "outputs": [],
   "source": [
    "bounds = np.zeros((2, len(model.reactions)))\n",
    "\n",
    "for c, reaction in enumerate(model.reactions):\n",
    "    bounds[:, c] = reaction.lower_bound, reaction.upper_bound\n",
    "\n",
    "bounds_counter = Counter([tuple(bounds[:, c]) for c in range(bounds.shape[1])])\n",
    "bounds_counter = list(bounds_counter.items())\n",
    "\n",
    "bounds_counter.sort(key=lambda x: abs(x[0][1] - x[0][0]))\n",
    "\n",
    "fig, ax = plt.subplots()\n",
    "for y, ((lb, ub), count) in enumerate(bounds_counter):\n",
    "    ax.hlines(y, lb, ub, color=\"k\")\n",
    "    ax.scatter([lb, ub], [y, y])\n",
    "    middle = (lb + ub) / 2\n",
    "    ax.text(middle, y + 0.1,\n",
    "            f\"{count} reaction(s)\",\n",
    "            horizontalalignment=\"right\" if middle > 0 else \"left\")\n",
    "ax.set_xscale(\"symlog\")\n",
    "ax.set_ybound(-1, y + 1)\n",
    "ax.set_yticks(list(range(y + 1)))\n",
    "ax.set_yticklabels([bounds for bounds, _ in bounds_counter])\n",
    "ax.set_xlabel(\"Flux (mmol / [gDW h])\")\n",
    "ax.set_ylabel(\"Constraints\")\n",
    "fig.tight_layout()\n"
   ]
  },
  {
   "cell_type": "markdown",
   "metadata": {},
   "source": [
    "Get reactions that involve NADH:"
   ]
  },
  {
   "cell_type": "code",
   "execution_count": null,
   "metadata": {},
   "outputs": [],
   "source": [
    "nadh = model.metabolites.get_by_id(\"NADH[c]\")\n",
    "nadh_reactions = model.reactions.query(\n",
    "    lambda m: nadh in m, attribute=\"metabolites\")\n",
    "len(nadh_reactions)"
   ]
  },
  {
   "cell_type": "markdown",
   "metadata": {},
   "source": [
    "Can we build a Escher diagram containing all reactions affecting NADH?"
   ]
  },
  {
   "cell_type": "code",
   "execution_count": null,
   "metadata": {},
   "outputs": [],
   "source": [
    "import os\n",
    "import sys\n",
    "module_path = os.path.abspath(os.path.join('..'))\n",
    "if module_path not in sys.path:\n",
    "    sys.path.append(module_path)\n",
    "\n",
    "from utils.escher_utils.mapbuilder import MapBuilder"
   ]
  },
  {
   "cell_type": "code",
   "execution_count": null,
   "metadata": {},
   "outputs": [],
   "source": [
    "mapbuilder = MapBuilder(template=\"../utils/escher_utils/template.json\",\n",
    "                        name=\"nadh_reaction_map\")\n",
    "\n",
    "for rxn in nadh_reactions:\n",
    "    mapbuilder.add_reaction(rxn)\n",
    "\n",
    "mapbuilder.write(\"./nadh_reactions_map.json\")"
   ]
  },
  {
   "cell_type": "markdown",
   "metadata": {},
   "source": [
    "Need to load the map manually using Map>Load map JSON:"
   ]
  },
  {
   "cell_type": "code",
   "execution_count": null,
   "metadata": {},
   "outputs": [],
   "source": [
    "escher.list_available_maps()"
   ]
  }
 ],
 "metadata": {
  "kernelspec": {
   "display_name": "Python 3.10.4 64-bit ('rpom')",
   "language": "python",
   "name": "python3"
  },
  "language_info": {
   "codemirror_mode": {
    "name": "ipython",
    "version": 3
   },
   "file_extension": ".py",
   "mimetype": "text/x-python",
   "name": "python",
   "nbconvert_exporter": "python",
   "pygments_lexer": "ipython3",
   "version": "3.10.4"
  },
  "orig_nbformat": 4,
  "vscode": {
   "interpreter": {
    "hash": "ed26c3003969632c7587d8912b7df065f859ebead2b9551b57bf07e4853bc19a"
   }
  }
 },
 "nbformat": 4,
 "nbformat_minor": 2
}
