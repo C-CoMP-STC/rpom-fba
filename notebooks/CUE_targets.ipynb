{
 "cells": [
  {
   "cell_type": "code",
   "execution_count": 1,
   "metadata": {},
   "outputs": [],
   "source": [
    "import sys\n",
    "if \"..\" not in sys.path:\n",
    "    sys.path.append(\"..\")"
   ]
  },
  {
   "cell_type": "code",
   "execution_count": 8,
   "metadata": {},
   "outputs": [],
   "source": [
    "import os\n",
    "import pickle\n",
    "import warnings\n",
    "from collections import defaultdict\n",
    "from datetime import datetime\n",
    "\n",
    "import numpy as np\n",
    "import pandas as pd\n",
    "from cobra.io import load_model, read_sbml_model\n",
    "from matplotlib import pyplot as plt\n",
    "\n",
    "from experiments.cue import plot_bge, plot_result\n",
    "from experiments.experiment import Experiment\n",
    "from experiments.fast_dFBA import (ConstantBounds, dFBA, make_bge_listener,\n",
    "                                   make_boundary_listener, make_cue_listener,\n",
    "                                   make_growth_rate_listener,\n",
    "                                   make_shadow_price_listener,\n",
    "                                   plot_shadow_prices, setup_drawdown)\n",
    "from parameters.drawdown import *\n",
    "from utils.cobra_utils import get_or_create_exchange\n",
    "from utils.units import u\n",
    "\n",
    "C_PER_GLUCOSE = 6\n",
    "C_PER_ACETATE = 2\n",
    "\n",
    "BIOMASS_ID = \"Rpom_hwa_biomass\"\n",
    "DATA_FILE = \"../data/clean/CUE2/dFBA.pkl\"\n",
    "\n",
    "# Load and set up model\n",
    "model = read_sbml_model(\"../model/Rpom_05.xml\")\n",
    "setup_drawdown(model)\n",
    "ex_ace = get_or_create_exchange(model, \"ACET[e]\")\n",
    "\n",
    "# Turn on maintenance\n",
    "atpm = model.reactions.get_by_id(\"ATPM\")\n",
    "atpm.bounds = (25, 25)\n",
    "\n",
    "# Make ETC complex II irreversible, complex I reversible\n",
    "model.reactions.get_by_id(\"RXN-14970-SUC/UBIQUINONE-8//FUM/CPD-9956.31.\").bounds = (-1000, 0)\n",
    "model.reactions.get_by_id(\"1.6.99.5-RXN-NADH/UBIQUINONE-10/PROTON//NAD/CPD-9958.40.\").bounds = (-1000, 1000)\n",
    "model.reactions.get_by_id(\"1.6.99.5-RXN-NADH/UBIQUINONE-6/PROTON//NAD/UBIQUINOL-30.43.\").bounds = (-1000, 1000)\n",
    "model.reactions.get_by_id(\"1.6.99.5-RXN-NADH/UBIQUINONE-9/PROTON//NAD/CPD-9957.39.\").bounds = (-1000, 1000)\n",
    "\n",
    "# Make 1.5.5.1-RXN-ETF-Reduced/UBIQUINONE-10//ETF-Oxidized/CPD-9958/PROTON.56. irreversible\n",
    "model.reactions.get_by_id(\"1.5.5.1-RXN-ETF-Reduced/UBIQUINONE-10//ETF-Oxidized/CPD-9958/PROTON.56.\").bounds = (0, 1000)\n",
    "\n",
    "# Change/remove all reactions so as to use ubiquinone 10 only\n",
    "model.remove_reactions([\n",
    "    \"1.5.5.1-RXN-ETF-Reduced/UBIQUINONE-6//ETF-Oxidized/UBIQUINOL-30/PROTON.59.\",\n",
    "    \"1.5.5.1-RXN-ETF-Reduced/UBIQUINONE-9//ETF-Oxidized/CPD-9957/PROTON.55.\",\n",
    "    \"1.6.99.5-RXN-NADH/UBIQUINONE-6/PROTON//NAD/UBIQUINOL-30.43.\",\n",
    "    \"1.6.99.5-RXN-NADH/UBIQUINONE-9/PROTON//NAD/CPD-9957.39.\",\n",
    "    \"2.1.1.64-RXN\",\n",
    "    \"DHHB-METHYLTRANSFER-RXN\",\n",
    "    \"RXN3O-102\",\n",
    "    \"RXN66-550-ETF-Reduced/UBIQUINONE-8//ETF-Oxidized/CPD-9956/PROTON.55.\",\n",
    "    \"SUCCINATE-DEHYDROGENASE-UBIQUINONE6-RXN\"\n",
    "])\n",
    "# Add new ETC reactions\n",
    "ubiquinones = [model.metabolites.get_by_id(ubi)\n",
    "                for ubi in [\n",
    "                    \"UBIQUINONE-6[c]\",\n",
    "                    \"UBIQUINONE-8[c]\",\n",
    "                    \"UBIQUINONE-9[c]\",\n",
    "                    \"UBIQUINONE-10[c]\"]]\n",
    "ubiquinols = [model.metabolites.get_by_id(ubi)\n",
    "                for ubi in [\n",
    "                    \"UBIQUINOL-30[c]\",\n",
    "                    \"CPD-9956[c]\",\n",
    "                    \"CPD-9957[c]\",\n",
    "                    \"CPD-9958[c]\"\n",
    "                ]]\n",
    "\n",
    "reactions_to_change = [\n",
    "    \"RXN-14903-PRO/UBIQUINONE-8//L-DELTA1-PYRROLINE_5-CARBOXYLATE/CPD-9956/PROTON.67.\",\n",
    "    \"RXN-14970-SUC/UBIQUINONE-8//FUM/CPD-9956.31.\",\n",
    "    \"RXN-20992-CPD-9956/OXYGEN-MOLECULE//UBIQUINONE-8/WATER.45.\",\n",
    "]\n",
    "for rxn_id in reactions_to_change:\n",
    "    rxn = model.reactions.get_by_id(rxn_id)\n",
    "    metabolites_copy = rxn.metabolites.copy()\n",
    "    for met, coeff in metabolites_copy.items():\n",
    "        if met in ubiquinones:\n",
    "            rxn.add_metabolites({met : -coeff, model.metabolites.get_by_id(\"UBIQUINONE-10[c]\") : coeff})\n",
    "        if met in ubiquinols:\n",
    "            rxn.add_metabolites({met : -coeff, model.metabolites.get_by_id(\"CPD-9958[c]\") : coeff})\n",
    "\n",
    "# Load condition data\n",
    "with open(DATA_FILE, \"rb\") as f:\n",
    "    data = pickle.load(f)"
   ]
  },
  {
   "cell_type": "code",
   "execution_count": 9,
   "metadata": {},
   "outputs": [
    {
     "data": {
      "text/plain": [
       "dict_keys([(<Quantity(2.0, 'millimolar')>, <Quantity(0.0, 'millimolar')>), (<Quantity(0.0, 'millimolar')>, <Quantity(6.0, 'millimolar')>), (<Quantity(0.666666667, 'millimolar')>, <Quantity(4.0, 'millimolar')>), (<Quantity(1.33333333, 'millimolar')>, <Quantity(2.0, 'millimolar')>)])"
      ]
     },
     "execution_count": 9,
     "metadata": {},
     "output_type": "execute_result"
    }
   ],
   "source": [
    "data.keys()"
   ]
  },
  {
   "cell_type": "code",
   "execution_count": 18,
   "metadata": {},
   "outputs": [],
   "source": [
    "g12a0 = [v for (g, a), v in data.items() if g > 0 and a == 0][0]\n",
    "g0a12 = [v for (g, a), v in data.items() if g == 0 and a > 0][0]\n",
    "g4a8 = [v for (g, a), v in data.items() if 0 < g.magnitude < 1 and a > 0][0]\n",
    "g8a4 = [v for (g, a), v in data.items() if g.magnitude > 1 and a > 0][0]"
   ]
  },
  {
   "cell_type": "code",
   "execution_count": 21,
   "metadata": {},
   "outputs": [
    {
     "data": {
      "text/plain": [
       "dict_keys(['raw_b_t', 'raw_b', 'raw_g_t', 'raw_g_s', 'raw_a_t', 'raw_a_s'])"
      ]
     },
     "execution_count": 21,
     "metadata": {},
     "output_type": "execute_result"
    }
   ],
   "source": [
    "g12a0[\"raw\"].keys()"
   ]
  }
 ],
 "metadata": {
  "kernelspec": {
   "display_name": "rpom",
   "language": "python",
   "name": "python3"
  },
  "language_info": {
   "codemirror_mode": {
    "name": "ipython",
    "version": 3
   },
   "file_extension": ".py",
   "mimetype": "text/x-python",
   "name": "python",
   "nbconvert_exporter": "python",
   "pygments_lexer": "ipython3",
   "version": "3.10.4"
  }
 },
 "nbformat": 4,
 "nbformat_minor": 2
}
