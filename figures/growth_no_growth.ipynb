{
 "cells": [
  {
   "cell_type": "code",
   "execution_count": 1,
   "metadata": {},
   "outputs": [],
   "source": [
    "import sys\n",
    "if \"..\" not in sys.path:\n",
    "    sys.path.append(\"..\")"
   ]
  },
  {
   "cell_type": "code",
   "execution_count": 2,
   "metadata": {},
   "outputs": [
    {
     "name": "stderr",
     "output_type": "stream",
     "text": [
      "https://identifiers.org/stem/ does not conform to 'http(s)://identifiers.org/collection/id' or'http(s)://identifiers.org/COLLECTION:id\n"
     ]
    }
   ],
   "source": [
    "import warnings\n",
    "\n",
    "import numpy as np\n",
    "import pandas as pd\n",
    "from cobra.io import read_sbml_model\n",
    "from utils.cobra_utils import get_or_create_exchange, set_active_bound\n",
    "\n",
    "# Load the model\n",
    "model = read_sbml_model(\"../model/Rpom_05.xml\")\n",
    "ex_glc = model.reactions.get_by_id(\"EX_glc\")\n",
    "ex_ace = get_or_create_exchange(model, \"ACET[e]\")\n",
    "\n",
    "# TODO: Remove all of the below\n",
    "# Turn on maintenance\n",
    "atpm = model.reactions.get_by_id(\"ATPM\")\n",
    "# atpm.bounds = (25, 25)"
   ]
  },
  {
   "cell_type": "code",
   "execution_count": 3,
   "metadata": {},
   "outputs": [
    {
     "data": {
      "application/vnd.microsoft.datawrangler.viewer.v0+json": {
       "columns": [
        {
         "name": "index",
         "rawType": "int64",
         "type": "integer"
        },
        {
         "name": "Substrate",
         "rawType": "object",
         "type": "string"
        },
        {
         "name": "BIOCYC ID",
         "rawType": "object",
         "type": "unknown"
        },
        {
         "name": "Growth (yes/no)",
         "rawType": "object",
         "type": "string"
        },
        {
         "name": "Notes",
         "rawType": "object",
         "type": "unknown"
        }
       ],
       "conversionMethod": "pd.DataFrame",
       "ref": "75e161ab-d542-43d4-a00b-4b7356f18288",
       "rows": [
        [
         "0",
         "2,3-dihydroxypropane-1-sulfonate",
         "2-3-dihydroxypropane-1-sulfonate, CPD-12692, CPD-12693",
         "yes",
         null
        ],
        [
         "1",
         "3-Mercaptopropionate",
         "CPD-7672",
         "no",
         null
        ],
        [
         "2",
         "4-Amino-5-aminomethyl-2-methylpyrimidine",
         "CPD-13578",
         "no",
         null
        ],
        [
         "3",
         "4-Aminobenzoic acid",
         "P-AMINO-BENZOATE",
         "no",
         null
        ],
        [
         "4",
         "Acetate",
         "ACET",
         "yes",
         null
        ],
        [
         "5",
         "Acetoin",
         "CPD-10353, CPD-255",
         "yes",
         null
        ],
        [
         "6",
         "Acrylic acid",
         "ACRYLATE",
         "yes",
         null
        ],
        [
         "7",
         "Alanine",
         "L-ALPHA-ALANINE",
         "yes",
         null
        ],
        [
         "8",
         "Arginine",
         "ARG",
         "yes",
         null
        ],
        [
         "9",
         "Asparagine",
         "ASN",
         "yes",
         null
        ],
        [
         "10",
         "Aspartic acid",
         "L-ASPARTATE",
         "yes",
         null
        ],
        [
         "11",
         "Azelaic acid",
         "CPD0-1265",
         "yes",
         null
        ],
        [
         "12",
         "Benzoic acid",
         "BENZOATE",
         "no",
         null
        ],
        [
         "13",
         "Cadaverine",
         "CADAVERINE",
         "yes",
         null
        ],
        [
         "14",
         "Carnitine",
         "CARNITINE",
         "yes",
         null
        ],
        [
         "15",
         "Casamino acids",
         null,
         "yes",
         null
        ],
        [
         "16",
         "Chitobiose",
         "CPD-16163, CPD-16164",
         "no",
         null
        ],
        [
         "17",
         "Choline",
         "CHOLINE",
         "yes",
         null
        ],
        [
         "18",
         "Choline-o-sulfate",
         "CPD-543",
         "yes",
         "Same as \"choline sulfate\"?"
        ],
        [
         "19",
         "Citrate",
         "CIT",
         "yes",
         null
        ],
        [
         "20",
         "Citrulline",
         "L-CITRULLINE",
         "yes",
         null
        ],
        [
         "21",
         "Cysteic acid",
         "L-CYSTEATE",
         "yes",
         null
        ],
        [
         "22",
         "DHPS",
         "CPD-12693",
         "yes",
         "How is this different from 2,3-dihydroxypropane-1-sulfonate"
        ],
        [
         "23",
         "D-Mannono-1,4-lactone ",
         "CPD-9062",
         "yes",
         null
        ],
        [
         "24",
         "DMSP",
         "SS-DIMETHYL-BETA-PROPIOTHETIN",
         "yes",
         null
        ],
        [
         "25",
         "Ectoine",
         "ECTOINE",
         "yes",
         null
        ],
        [
         "26",
         "Ethanol",
         "ETOH",
         "yes",
         null
        ],
        [
         "27",
         "Formate",
         "FORMATE",
         "yes",
         null
        ],
        [
         "28",
         "Fructose",
         "CPD-10723, CPD-10725, CPD-10729, CPD-10727, BETA-D-FRUCTOSE, CPD-10726, CPD-10730, CPD-10728, CPD-15382, CPD-26021",
         "no",
         null
        ],
        [
         "29",
         "Fumarate",
         "FUM",
         "yes",
         null
        ],
        [
         "30",
         "Gluconic acid",
         "GLUCONATE",
         "yes",
         null
        ],
        [
         "31",
         "Glucose",
         "GLC",
         "yes",
         null
        ],
        [
         "32",
         "Glutamate",
         "GLT",
         "yes",
         null
        ],
        [
         "33",
         "Glutamine",
         "GLN",
         "yes",
         null
        ],
        [
         "34",
         "Glycerol",
         "GLYCEROL",
         "yes",
         null
        ],
        [
         "35",
         "Glycine",
         "GLY",
         "yes",
         null
        ],
        [
         "36",
         "Glycine betaine",
         "BETAINE",
         "yes",
         null
        ],
        [
         "37",
         "Glycolate",
         "GLYCOLLATE",
         "yes",
         null
        ],
        [
         "38",
         "Histidine",
         "HIS",
         "yes",
         null
        ],
        [
         "39",
         "I3A",
         null,
         "yes",
         null
        ],
        [
         "40",
         "IAA",
         "INDOLE_ACETATE_AUXIN",
         "yes",
         null
        ],
        [
         "41",
         "IAM",
         null,
         "yes",
         null
        ],
        [
         "42",
         "Isethionate",
         "CPD-3745",
         "yes",
         null
        ],
        [
         "43",
         "Isoleucine",
         "ILE",
         "yes",
         null
        ],
        [
         "44",
         "Lactate ",
         "D-LACTATE",
         "yes",
         null
        ],
        [
         "45",
         "Leucine",
         "LEU",
         "yes",
         null
        ],
        [
         "46",
         "Lysine",
         "LYS",
         "yes",
         null
        ],
        [
         "47",
         "Malate",
         "MAL",
         "yes",
         null
        ],
        [
         "48",
         "Malic acid",
         "MAL",
         "yes",
         null
        ],
        [
         "49",
         "Malonate",
         "MALONATE",
         "no",
         null
        ]
       ],
       "shape": {
        "columns": 4,
        "rows": 76
       }
      },
      "text/html": [
       "<div>\n",
       "<style scoped>\n",
       "    .dataframe tbody tr th:only-of-type {\n",
       "        vertical-align: middle;\n",
       "    }\n",
       "\n",
       "    .dataframe tbody tr th {\n",
       "        vertical-align: top;\n",
       "    }\n",
       "\n",
       "    .dataframe thead th {\n",
       "        text-align: right;\n",
       "    }\n",
       "</style>\n",
       "<table border=\"1\" class=\"dataframe\">\n",
       "  <thead>\n",
       "    <tr style=\"text-align: right;\">\n",
       "      <th></th>\n",
       "      <th>Substrate</th>\n",
       "      <th>BIOCYC ID</th>\n",
       "      <th>Growth (yes/no)</th>\n",
       "      <th>Notes</th>\n",
       "    </tr>\n",
       "  </thead>\n",
       "  <tbody>\n",
       "    <tr>\n",
       "      <th>0</th>\n",
       "      <td>2,3-dihydroxypropane-1-sulfonate</td>\n",
       "      <td>2-3-dihydroxypropane-1-sulfonate, CPD-12692, C...</td>\n",
       "      <td>yes</td>\n",
       "      <td>NaN</td>\n",
       "    </tr>\n",
       "    <tr>\n",
       "      <th>1</th>\n",
       "      <td>3-Mercaptopropionate</td>\n",
       "      <td>CPD-7672</td>\n",
       "      <td>no</td>\n",
       "      <td>NaN</td>\n",
       "    </tr>\n",
       "    <tr>\n",
       "      <th>2</th>\n",
       "      <td>4-Amino-5-aminomethyl-2-methylpyrimidine</td>\n",
       "      <td>CPD-13578</td>\n",
       "      <td>no</td>\n",
       "      <td>NaN</td>\n",
       "    </tr>\n",
       "    <tr>\n",
       "      <th>3</th>\n",
       "      <td>4-Aminobenzoic acid</td>\n",
       "      <td>P-AMINO-BENZOATE</td>\n",
       "      <td>no</td>\n",
       "      <td>NaN</td>\n",
       "    </tr>\n",
       "    <tr>\n",
       "      <th>4</th>\n",
       "      <td>Acetate</td>\n",
       "      <td>ACET</td>\n",
       "      <td>yes</td>\n",
       "      <td>NaN</td>\n",
       "    </tr>\n",
       "    <tr>\n",
       "      <th>...</th>\n",
       "      <td>...</td>\n",
       "      <td>...</td>\n",
       "      <td>...</td>\n",
       "      <td>...</td>\n",
       "    </tr>\n",
       "    <tr>\n",
       "      <th>71</th>\n",
       "      <td>Tyramine</td>\n",
       "      <td>TYRAMINE</td>\n",
       "      <td>yes</td>\n",
       "      <td>NaN</td>\n",
       "    </tr>\n",
       "    <tr>\n",
       "      <th>72</th>\n",
       "      <td>Tyrosine</td>\n",
       "      <td>TYR</td>\n",
       "      <td>yes</td>\n",
       "      <td>NaN</td>\n",
       "    </tr>\n",
       "    <tr>\n",
       "      <th>73</th>\n",
       "      <td>Valine</td>\n",
       "      <td>VAL</td>\n",
       "      <td>yes</td>\n",
       "      <td>NaN</td>\n",
       "    </tr>\n",
       "    <tr>\n",
       "      <th>74</th>\n",
       "      <td>Xylose</td>\n",
       "      <td>BETA-D-XYLOSE</td>\n",
       "      <td>yes</td>\n",
       "      <td>CPD-25028 as well?</td>\n",
       "    </tr>\n",
       "    <tr>\n",
       "      <th>75</th>\n",
       "      <td>β-Hydroxybutyric acid</td>\n",
       "      <td>CPD-335</td>\n",
       "      <td>yes</td>\n",
       "      <td>NaN</td>\n",
       "    </tr>\n",
       "  </tbody>\n",
       "</table>\n",
       "<p>76 rows × 4 columns</p>\n",
       "</div>"
      ],
      "text/plain": [
       "                                   Substrate  \\\n",
       "0           2,3-dihydroxypropane-1-sulfonate   \n",
       "1                       3-Mercaptopropionate   \n",
       "2   4-Amino-5-aminomethyl-2-methylpyrimidine   \n",
       "3                        4-Aminobenzoic acid   \n",
       "4                                    Acetate   \n",
       "..                                       ...   \n",
       "71                                  Tyramine   \n",
       "72                                  Tyrosine   \n",
       "73                                    Valine   \n",
       "74                                    Xylose   \n",
       "75                     β-Hydroxybutyric acid   \n",
       "\n",
       "                                            BIOCYC ID Growth (yes/no)  \\\n",
       "0   2-3-dihydroxypropane-1-sulfonate, CPD-12692, C...             yes   \n",
       "1                                            CPD-7672              no   \n",
       "2                                           CPD-13578              no   \n",
       "3                                    P-AMINO-BENZOATE              no   \n",
       "4                                                ACET             yes   \n",
       "..                                                ...             ...   \n",
       "71                                           TYRAMINE             yes   \n",
       "72                                                TYR             yes   \n",
       "73                                                VAL             yes   \n",
       "74                                      BETA-D-XYLOSE             yes   \n",
       "75                                            CPD-335             yes   \n",
       "\n",
       "                 Notes  \n",
       "0                  NaN  \n",
       "1                  NaN  \n",
       "2                  NaN  \n",
       "3                  NaN  \n",
       "4                  NaN  \n",
       "..                 ...  \n",
       "71                 NaN  \n",
       "72                 NaN  \n",
       "73                 NaN  \n",
       "74  CPD-25028 as well?  \n",
       "75                 NaN  \n",
       "\n",
       "[76 rows x 4 columns]"
      ]
     },
     "execution_count": 3,
     "metadata": {},
     "output_type": "execute_result"
    }
   ],
   "source": [
    "data = pd.read_excel(\"../../Additional R pom data/substrates Rpom grows on.xlsx\")\n",
    "data"
   ]
  },
  {
   "cell_type": "code",
   "execution_count": 4,
   "metadata": {},
   "outputs": [],
   "source": [
    "presence_c = [np.mean([f\"{met}[c]\" in model.metabolites for met in metid.split(\", \")]) if isinstance(metid, str) else 0 for metid in data[\"BIOCYC ID\"]]\n",
    "presence_p = [np.mean([f\"{met}[p]\" in model.metabolites for met in metid.split(\", \")]) if isinstance(metid, str) else 0 for metid in data[\"BIOCYC ID\"]]\n",
    "presence_e = [np.mean([f\"{met}[e]\" in model.metabolites for met in metid.split(\", \")]) if isinstance(metid, str) else 0 for metid in data[\"BIOCYC ID\"]]"
   ]
  },
  {
   "cell_type": "code",
   "execution_count": 5,
   "metadata": {},
   "outputs": [
    {
     "data": {
      "application/vnd.microsoft.datawrangler.viewer.v0+json": {
       "columns": [
        {
         "name": "index",
         "rawType": "int64",
         "type": "integer"
        },
        {
         "name": "Substrate",
         "rawType": "object",
         "type": "string"
        },
        {
         "name": "BIOCYC ID",
         "rawType": "object",
         "type": "unknown"
        },
        {
         "name": "Growth (yes/no)",
         "rawType": "object",
         "type": "string"
        },
        {
         "name": "Notes",
         "rawType": "object",
         "type": "unknown"
        },
        {
         "name": "In model [c]",
         "rawType": "float64",
         "type": "float"
        },
        {
         "name": "In model [p]",
         "rawType": "float64",
         "type": "float"
        },
        {
         "name": "In model [e]",
         "rawType": "float64",
         "type": "float"
        }
       ],
       "conversionMethod": "pd.DataFrame",
       "ref": "6e8dd8aa-283c-41e1-9f48-1c211525924c",
       "rows": [
        [
         "0",
         "2,3-dihydroxypropane-1-sulfonate",
         "2-3-dihydroxypropane-1-sulfonate, CPD-12692, CPD-12693",
         "yes",
         null,
         "0.6666666666666666",
         "0.3333333333333333",
         "0.3333333333333333"
        ],
        [
         "1",
         "3-Mercaptopropionate",
         "CPD-7672",
         "no",
         null,
         "1.0",
         "0.0",
         "0.0"
        ],
        [
         "2",
         "4-Amino-5-aminomethyl-2-methylpyrimidine",
         "CPD-13578",
         "no",
         null,
         "1.0",
         "0.0",
         "0.0"
        ],
        [
         "3",
         "4-Aminobenzoic acid",
         "P-AMINO-BENZOATE",
         "no",
         null,
         "1.0",
         "0.0",
         "0.0"
        ],
        [
         "4",
         "Acetate",
         "ACET",
         "yes",
         null,
         "1.0",
         "1.0",
         "1.0"
        ],
        [
         "5",
         "Acetoin",
         "CPD-10353, CPD-255",
         "yes",
         null,
         "0.0",
         "0.0",
         "0.0"
        ],
        [
         "6",
         "Acrylic acid",
         "ACRYLATE",
         "yes",
         null,
         "1.0",
         "0.0",
         "0.0"
        ],
        [
         "7",
         "Alanine",
         "L-ALPHA-ALANINE",
         "yes",
         null,
         "1.0",
         "1.0",
         "0.0"
        ],
        [
         "8",
         "Arginine",
         "ARG",
         "yes",
         null,
         "1.0",
         "1.0",
         "0.0"
        ],
        [
         "9",
         "Asparagine",
         "ASN",
         "yes",
         null,
         "1.0",
         "1.0",
         "0.0"
        ],
        [
         "10",
         "Aspartic acid",
         "L-ASPARTATE",
         "yes",
         null,
         "1.0",
         "1.0",
         "0.0"
        ],
        [
         "11",
         "Azelaic acid",
         "CPD0-1265",
         "yes",
         null,
         "1.0",
         "1.0",
         "1.0"
        ],
        [
         "12",
         "Benzoic acid",
         "BENZOATE",
         "no",
         null,
         "1.0",
         "1.0",
         "0.0"
        ],
        [
         "13",
         "Cadaverine",
         "CADAVERINE",
         "yes",
         null,
         "1.0",
         "1.0",
         "1.0"
        ],
        [
         "14",
         "Carnitine",
         "CARNITINE",
         "yes",
         null,
         "1.0",
         "1.0",
         "1.0"
        ],
        [
         "15",
         "Casamino acids",
         null,
         "yes",
         null,
         "0.0",
         "0.0",
         "0.0"
        ],
        [
         "16",
         "Chitobiose",
         "CPD-16163, CPD-16164",
         "no",
         null,
         "0.0",
         "0.0",
         "0.0"
        ],
        [
         "17",
         "Choline",
         "CHOLINE",
         "yes",
         null,
         "1.0",
         "1.0",
         "1.0"
        ],
        [
         "18",
         "Choline-o-sulfate",
         "CPD-543",
         "yes",
         "Same as \"choline sulfate\"?",
         "1.0",
         "1.0",
         "0.0"
        ],
        [
         "19",
         "Citrate",
         "CIT",
         "yes",
         null,
         "1.0",
         "1.0",
         "1.0"
        ],
        [
         "20",
         "Citrulline",
         "L-CITRULLINE",
         "yes",
         null,
         "1.0",
         "1.0",
         "0.0"
        ],
        [
         "21",
         "Cysteic acid",
         "L-CYSTEATE",
         "yes",
         null,
         "1.0",
         "1.0",
         "1.0"
        ],
        [
         "22",
         "DHPS",
         "CPD-12693",
         "yes",
         "How is this different from 2,3-dihydroxypropane-1-sulfonate",
         "1.0",
         "1.0",
         "1.0"
        ],
        [
         "23",
         "D-Mannono-1,4-lactone ",
         "CPD-9062",
         "yes",
         null,
         "0.0",
         "0.0",
         "0.0"
        ],
        [
         "24",
         "DMSP",
         "SS-DIMETHYL-BETA-PROPIOTHETIN",
         "yes",
         null,
         "1.0",
         "1.0",
         "1.0"
        ],
        [
         "25",
         "Ectoine",
         "ECTOINE",
         "yes",
         null,
         "1.0",
         "1.0",
         "1.0"
        ],
        [
         "26",
         "Ethanol",
         "ETOH",
         "yes",
         null,
         "1.0",
         "0.0",
         "0.0"
        ],
        [
         "27",
         "Formate",
         "FORMATE",
         "yes",
         null,
         "1.0",
         "1.0",
         "0.0"
        ],
        [
         "28",
         "Fructose",
         "CPD-10723, CPD-10725, CPD-10729, CPD-10727, BETA-D-FRUCTOSE, CPD-10726, CPD-10730, CPD-10728, CPD-15382, CPD-26021",
         "no",
         null,
         "0.2",
         "0.4",
         "0.0"
        ],
        [
         "29",
         "Fumarate",
         "FUM",
         "yes",
         null,
         "1.0",
         "1.0",
         "1.0"
        ],
        [
         "30",
         "Gluconic acid",
         "GLUCONATE",
         "yes",
         null,
         "1.0",
         "0.0",
         "0.0"
        ],
        [
         "31",
         "Glucose",
         "GLC",
         "yes",
         null,
         "1.0",
         "1.0",
         "1.0"
        ],
        [
         "32",
         "Glutamate",
         "GLT",
         "yes",
         null,
         "1.0",
         "1.0",
         "1.0"
        ],
        [
         "33",
         "Glutamine",
         "GLN",
         "yes",
         null,
         "1.0",
         "1.0",
         "0.0"
        ],
        [
         "34",
         "Glycerol",
         "GLYCEROL",
         "yes",
         null,
         "1.0",
         "1.0",
         "1.0"
        ],
        [
         "35",
         "Glycine",
         "GLY",
         "yes",
         null,
         "1.0",
         "1.0",
         "0.0"
        ],
        [
         "36",
         "Glycine betaine",
         "BETAINE",
         "yes",
         null,
         "1.0",
         "1.0",
         "0.0"
        ],
        [
         "37",
         "Glycolate",
         "GLYCOLLATE",
         "yes",
         null,
         "1.0",
         "0.0",
         "0.0"
        ],
        [
         "38",
         "Histidine",
         "HIS",
         "yes",
         null,
         "1.0",
         "1.0",
         "0.0"
        ],
        [
         "39",
         "I3A",
         null,
         "yes",
         null,
         "0.0",
         "0.0",
         "0.0"
        ],
        [
         "40",
         "IAA",
         "INDOLE_ACETATE_AUXIN",
         "yes",
         null,
         "1.0",
         "0.0",
         "0.0"
        ],
        [
         "41",
         "IAM",
         null,
         "yes",
         null,
         "0.0",
         "0.0",
         "0.0"
        ],
        [
         "42",
         "Isethionate",
         "CPD-3745",
         "yes",
         null,
         "1.0",
         "1.0",
         "1.0"
        ],
        [
         "43",
         "Isoleucine",
         "ILE",
         "yes",
         null,
         "1.0",
         "1.0",
         "0.0"
        ],
        [
         "44",
         "Lactate ",
         "D-LACTATE",
         "yes",
         null,
         "1.0",
         "0.0",
         "0.0"
        ],
        [
         "45",
         "Leucine",
         "LEU",
         "yes",
         null,
         "1.0",
         "1.0",
         "0.0"
        ],
        [
         "46",
         "Lysine",
         "LYS",
         "yes",
         null,
         "1.0",
         "1.0",
         "0.0"
        ],
        [
         "47",
         "Malate",
         "MAL",
         "yes",
         null,
         "1.0",
         "1.0",
         "1.0"
        ],
        [
         "48",
         "Malic acid",
         "MAL",
         "yes",
         null,
         "1.0",
         "1.0",
         "1.0"
        ],
        [
         "49",
         "Malonate",
         "MALONATE",
         "no",
         null,
         "0.0",
         "0.0",
         "0.0"
        ]
       ],
       "shape": {
        "columns": 7,
        "rows": 76
       }
      },
      "text/html": [
       "<div>\n",
       "<style scoped>\n",
       "    .dataframe tbody tr th:only-of-type {\n",
       "        vertical-align: middle;\n",
       "    }\n",
       "\n",
       "    .dataframe tbody tr th {\n",
       "        vertical-align: top;\n",
       "    }\n",
       "\n",
       "    .dataframe thead th {\n",
       "        text-align: right;\n",
       "    }\n",
       "</style>\n",
       "<table border=\"1\" class=\"dataframe\">\n",
       "  <thead>\n",
       "    <tr style=\"text-align: right;\">\n",
       "      <th></th>\n",
       "      <th>Substrate</th>\n",
       "      <th>BIOCYC ID</th>\n",
       "      <th>Growth (yes/no)</th>\n",
       "      <th>Notes</th>\n",
       "      <th>In model [c]</th>\n",
       "      <th>In model [p]</th>\n",
       "      <th>In model [e]</th>\n",
       "    </tr>\n",
       "  </thead>\n",
       "  <tbody>\n",
       "    <tr>\n",
       "      <th>0</th>\n",
       "      <td>2,3-dihydroxypropane-1-sulfonate</td>\n",
       "      <td>2-3-dihydroxypropane-1-sulfonate, CPD-12692, C...</td>\n",
       "      <td>yes</td>\n",
       "      <td>NaN</td>\n",
       "      <td>0.666667</td>\n",
       "      <td>0.333333</td>\n",
       "      <td>0.333333</td>\n",
       "    </tr>\n",
       "    <tr>\n",
       "      <th>1</th>\n",
       "      <td>3-Mercaptopropionate</td>\n",
       "      <td>CPD-7672</td>\n",
       "      <td>no</td>\n",
       "      <td>NaN</td>\n",
       "      <td>1.000000</td>\n",
       "      <td>0.000000</td>\n",
       "      <td>0.000000</td>\n",
       "    </tr>\n",
       "    <tr>\n",
       "      <th>2</th>\n",
       "      <td>4-Amino-5-aminomethyl-2-methylpyrimidine</td>\n",
       "      <td>CPD-13578</td>\n",
       "      <td>no</td>\n",
       "      <td>NaN</td>\n",
       "      <td>1.000000</td>\n",
       "      <td>0.000000</td>\n",
       "      <td>0.000000</td>\n",
       "    </tr>\n",
       "    <tr>\n",
       "      <th>3</th>\n",
       "      <td>4-Aminobenzoic acid</td>\n",
       "      <td>P-AMINO-BENZOATE</td>\n",
       "      <td>no</td>\n",
       "      <td>NaN</td>\n",
       "      <td>1.000000</td>\n",
       "      <td>0.000000</td>\n",
       "      <td>0.000000</td>\n",
       "    </tr>\n",
       "    <tr>\n",
       "      <th>4</th>\n",
       "      <td>Acetate</td>\n",
       "      <td>ACET</td>\n",
       "      <td>yes</td>\n",
       "      <td>NaN</td>\n",
       "      <td>1.000000</td>\n",
       "      <td>1.000000</td>\n",
       "      <td>1.000000</td>\n",
       "    </tr>\n",
       "    <tr>\n",
       "      <th>...</th>\n",
       "      <td>...</td>\n",
       "      <td>...</td>\n",
       "      <td>...</td>\n",
       "      <td>...</td>\n",
       "      <td>...</td>\n",
       "      <td>...</td>\n",
       "      <td>...</td>\n",
       "    </tr>\n",
       "    <tr>\n",
       "      <th>71</th>\n",
       "      <td>Tyramine</td>\n",
       "      <td>TYRAMINE</td>\n",
       "      <td>yes</td>\n",
       "      <td>NaN</td>\n",
       "      <td>1.000000</td>\n",
       "      <td>0.000000</td>\n",
       "      <td>0.000000</td>\n",
       "    </tr>\n",
       "    <tr>\n",
       "      <th>72</th>\n",
       "      <td>Tyrosine</td>\n",
       "      <td>TYR</td>\n",
       "      <td>yes</td>\n",
       "      <td>NaN</td>\n",
       "      <td>1.000000</td>\n",
       "      <td>1.000000</td>\n",
       "      <td>0.000000</td>\n",
       "    </tr>\n",
       "    <tr>\n",
       "      <th>73</th>\n",
       "      <td>Valine</td>\n",
       "      <td>VAL</td>\n",
       "      <td>yes</td>\n",
       "      <td>NaN</td>\n",
       "      <td>1.000000</td>\n",
       "      <td>1.000000</td>\n",
       "      <td>0.000000</td>\n",
       "    </tr>\n",
       "    <tr>\n",
       "      <th>74</th>\n",
       "      <td>Xylose</td>\n",
       "      <td>BETA-D-XYLOSE</td>\n",
       "      <td>yes</td>\n",
       "      <td>CPD-25028 as well?</td>\n",
       "      <td>1.000000</td>\n",
       "      <td>1.000000</td>\n",
       "      <td>1.000000</td>\n",
       "    </tr>\n",
       "    <tr>\n",
       "      <th>75</th>\n",
       "      <td>β-Hydroxybutyric acid</td>\n",
       "      <td>CPD-335</td>\n",
       "      <td>yes</td>\n",
       "      <td>NaN</td>\n",
       "      <td>1.000000</td>\n",
       "      <td>1.000000</td>\n",
       "      <td>1.000000</td>\n",
       "    </tr>\n",
       "  </tbody>\n",
       "</table>\n",
       "<p>76 rows × 7 columns</p>\n",
       "</div>"
      ],
      "text/plain": [
       "                                   Substrate  \\\n",
       "0           2,3-dihydroxypropane-1-sulfonate   \n",
       "1                       3-Mercaptopropionate   \n",
       "2   4-Amino-5-aminomethyl-2-methylpyrimidine   \n",
       "3                        4-Aminobenzoic acid   \n",
       "4                                    Acetate   \n",
       "..                                       ...   \n",
       "71                                  Tyramine   \n",
       "72                                  Tyrosine   \n",
       "73                                    Valine   \n",
       "74                                    Xylose   \n",
       "75                     β-Hydroxybutyric acid   \n",
       "\n",
       "                                            BIOCYC ID Growth (yes/no)  \\\n",
       "0   2-3-dihydroxypropane-1-sulfonate, CPD-12692, C...             yes   \n",
       "1                                            CPD-7672              no   \n",
       "2                                           CPD-13578              no   \n",
       "3                                    P-AMINO-BENZOATE              no   \n",
       "4                                                ACET             yes   \n",
       "..                                                ...             ...   \n",
       "71                                           TYRAMINE             yes   \n",
       "72                                                TYR             yes   \n",
       "73                                                VAL             yes   \n",
       "74                                      BETA-D-XYLOSE             yes   \n",
       "75                                            CPD-335             yes   \n",
       "\n",
       "                 Notes  In model [c]  In model [p]  In model [e]  \n",
       "0                  NaN      0.666667      0.333333      0.333333  \n",
       "1                  NaN      1.000000      0.000000      0.000000  \n",
       "2                  NaN      1.000000      0.000000      0.000000  \n",
       "3                  NaN      1.000000      0.000000      0.000000  \n",
       "4                  NaN      1.000000      1.000000      1.000000  \n",
       "..                 ...           ...           ...           ...  \n",
       "71                 NaN      1.000000      0.000000      0.000000  \n",
       "72                 NaN      1.000000      1.000000      0.000000  \n",
       "73                 NaN      1.000000      1.000000      0.000000  \n",
       "74  CPD-25028 as well?      1.000000      1.000000      1.000000  \n",
       "75                 NaN      1.000000      1.000000      1.000000  \n",
       "\n",
       "[76 rows x 7 columns]"
      ]
     },
     "execution_count": 5,
     "metadata": {},
     "output_type": "execute_result"
    }
   ],
   "source": [
    "data[\"In model [c]\"] = presence_c\n",
    "data[\"In model [p]\"] = presence_p\n",
    "data[\"In model [e]\"] = presence_e\n",
    "data"
   ]
  },
  {
   "cell_type": "code",
   "execution_count": 6,
   "metadata": {},
   "outputs": [],
   "source": [
    "from cobra.core import Metabolite, Reaction\n",
    "\n",
    "growth = []\n",
    "for metid, presence in zip(data[\"BIOCYC ID\"], data[\"In model [c]\"]):\n",
    "    if presence:\n",
    "        growth_rates = []\n",
    "        for met in metid.split(\", \"):\n",
    "            with model:\n",
    "                # Pass over cytosolic metabolites that don't exist\n",
    "                try:\n",
    "                    met_c = model.metabolites.get_by_id(met + \"[c]\")\n",
    "                except:\n",
    "                    continue\n",
    "\n",
    "                # Get or create external metabolite\n",
    "                try:\n",
    "                    met_e = model.metabolites.get_by_id(f\"{met}[e]\")\n",
    "                except:\n",
    "                    met_e = Metabolite(f\"{met}[e]\", name=met, compartment=\"e\")\n",
    "                    model.add_metabolites([met_e])\n",
    "                \n",
    "                # Get or create exchange reaction\n",
    "                ex_met = get_or_create_exchange(model, met_e.id)\n",
    "\n",
    "                # Create transport reaction\n",
    "                if len(met_e.reactions) == 1:\n",
    "                    transport = Reaction(\"test\", \"\", lower_bound=-1000, upper_bound=1000)\n",
    "                    transport.add_metabolites({\n",
    "                        met_e : -1,\n",
    "                        met_c : 1\n",
    "                    })\n",
    "                    model.add_reactions([transport])\n",
    "\n",
    "                # Bound and solve\n",
    "                with warnings.catch_warnings():\n",
    "                    warnings.simplefilter(\"ignore\")\n",
    "                    set_active_bound(ex_met, 10)\n",
    "                    sol = model.optimize()\n",
    "                    growth_rates.append(sol.objective_value)\n",
    "        \n",
    "        growth.append(growth_rates)\n",
    "    else:\n",
    "        growth.append([0])"
   ]
  },
  {
   "cell_type": "code",
   "execution_count": 7,
   "metadata": {},
   "outputs": [
    {
     "name": "stdout",
     "output_type": "stream",
     "text": [
      "                                   Substrate                                                                                                           BIOCYC ID Growth (yes/no)                                                        Notes  In model [c]  In model [p]  In model [e]\n",
      "0           2,3-dihydroxypropane-1-sulfonate                                                              2-3-dihydroxypropane-1-sulfonate, CPD-12692, CPD-12693             yes                                                          NaN      0.666667      0.333333      0.333333\n",
      "1                       3-Mercaptopropionate                                                                                                            CPD-7672              no                                                          NaN      1.000000      0.000000      0.000000\n",
      "2   4-Amino-5-aminomethyl-2-methylpyrimidine                                                                                                           CPD-13578              no                                                          NaN      1.000000      0.000000      0.000000\n",
      "3                        4-Aminobenzoic acid                                                                                                    P-AMINO-BENZOATE              no                                                          NaN      1.000000      0.000000      0.000000\n",
      "4                                    Acetate                                                                                                                ACET             yes                                                          NaN      1.000000      1.000000      1.000000\n",
      "5                                    Acetoin                                                                                                  CPD-10353, CPD-255             yes                                                          NaN      0.000000      0.000000      0.000000\n",
      "6                               Acrylic acid                                                                                                            ACRYLATE             yes                                                          NaN      1.000000      0.000000      0.000000\n",
      "7                                    Alanine                                                                                                     L-ALPHA-ALANINE             yes                                                          NaN      1.000000      1.000000      0.000000\n",
      "8                                   Arginine                                                                                                                 ARG             yes                                                          NaN      1.000000      1.000000      0.000000\n",
      "9                                 Asparagine                                                                                                                 ASN             yes                                                          NaN      1.000000      1.000000      0.000000\n",
      "10                             Aspartic acid                                                                                                         L-ASPARTATE             yes                                                          NaN      1.000000      1.000000      0.000000\n",
      "11                              Azelaic acid                                                                                                           CPD0-1265             yes                                                          NaN      1.000000      1.000000      1.000000\n",
      "12                              Benzoic acid                                                                                                            BENZOATE              no                                                          NaN      1.000000      1.000000      0.000000\n",
      "13                                Cadaverine                                                                                                          CADAVERINE             yes                                                          NaN      1.000000      1.000000      1.000000\n",
      "14                                 Carnitine                                                                                                           CARNITINE             yes                                                          NaN      1.000000      1.000000      1.000000\n",
      "15                            Casamino acids                                                                                                                 NaN             yes                                                          NaN      0.000000      0.000000      0.000000\n",
      "16                                Chitobiose                                                                                                CPD-16163, CPD-16164              no                                                          NaN      0.000000      0.000000      0.000000\n",
      "17                                   Choline                                                                                                             CHOLINE             yes                                                          NaN      1.000000      1.000000      1.000000\n",
      "18                         Choline-o-sulfate                                                                                                             CPD-543             yes                                   Same as \"choline sulfate\"?      1.000000      1.000000      0.000000\n",
      "19                                   Citrate                                                                                                                 CIT             yes                                                          NaN      1.000000      1.000000      1.000000\n",
      "20                                Citrulline                                                                                                        L-CITRULLINE             yes                                                          NaN      1.000000      1.000000      0.000000\n",
      "21                              Cysteic acid                                                                                                          L-CYSTEATE             yes                                                          NaN      1.000000      1.000000      1.000000\n",
      "22                                      DHPS                                                                                                           CPD-12693             yes  How is this different from 2,3-dihydroxypropane-1-sulfonate      1.000000      1.000000      1.000000\n",
      "23                    D-Mannono-1,4-lactone                                                                                                             CPD-9062             yes                                                          NaN      0.000000      0.000000      0.000000\n",
      "24                                      DMSP                                                                                       SS-DIMETHYL-BETA-PROPIOTHETIN             yes                                                          NaN      1.000000      1.000000      1.000000\n",
      "25                                   Ectoine                                                                                                             ECTOINE             yes                                                          NaN      1.000000      1.000000      1.000000\n",
      "26                                   Ethanol                                                                                                                ETOH             yes                                                          NaN      1.000000      0.000000      0.000000\n",
      "27                                   Formate                                                                                                             FORMATE             yes                                                          NaN      1.000000      1.000000      0.000000\n",
      "28                                  Fructose  CPD-10723, CPD-10725, CPD-10729, CPD-10727, BETA-D-FRUCTOSE, CPD-10726, CPD-10730, CPD-10728, CPD-15382, CPD-26021              no                                                          NaN      0.200000      0.400000      0.000000\n",
      "29                                  Fumarate                                                                                                                 FUM             yes                                                          NaN      1.000000      1.000000      1.000000\n",
      "30                             Gluconic acid                                                                                                           GLUCONATE             yes                                                          NaN      1.000000      0.000000      0.000000\n",
      "31                                   Glucose                                                                                                                 GLC             yes                                                          NaN      1.000000      1.000000      1.000000\n",
      "32                                 Glutamate                                                                                                                 GLT             yes                                                          NaN      1.000000      1.000000      1.000000\n",
      "33                                 Glutamine                                                                                                                 GLN             yes                                                          NaN      1.000000      1.000000      0.000000\n",
      "34                                  Glycerol                                                                                                            GLYCEROL             yes                                                          NaN      1.000000      1.000000      1.000000\n",
      "35                                   Glycine                                                                                                                 GLY             yes                                                          NaN      1.000000      1.000000      0.000000\n",
      "36                           Glycine betaine                                                                                                             BETAINE             yes                                                          NaN      1.000000      1.000000      0.000000\n",
      "37                                 Glycolate                                                                                                          GLYCOLLATE             yes                                                          NaN      1.000000      0.000000      0.000000\n",
      "38                                 Histidine                                                                                                                 HIS             yes                                                          NaN      1.000000      1.000000      0.000000\n",
      "39                                       I3A                                                                                                                 NaN             yes                                                          NaN      0.000000      0.000000      0.000000\n",
      "40                                       IAA                                                                                                INDOLE_ACETATE_AUXIN             yes                                                          NaN      1.000000      0.000000      0.000000\n",
      "41                                       IAM                                                                                                                 NaN             yes                                                          NaN      0.000000      0.000000      0.000000\n",
      "42                               Isethionate                                                                                                            CPD-3745             yes                                                          NaN      1.000000      1.000000      1.000000\n",
      "43                                Isoleucine                                                                                                                 ILE             yes                                                          NaN      1.000000      1.000000      0.000000\n",
      "44                                  Lactate                                                                                                            D-LACTATE             yes                                                          NaN      1.000000      0.000000      0.000000\n",
      "45                                   Leucine                                                                                                                 LEU             yes                                                          NaN      1.000000      1.000000      0.000000\n",
      "46                                    Lysine                                                                                                                 LYS             yes                                                          NaN      1.000000      1.000000      0.000000\n",
      "47                                    Malate                                                                                                                 MAL             yes                                                          NaN      1.000000      1.000000      1.000000\n",
      "48                                Malic acid                                                                                                                 MAL             yes                                                          NaN      1.000000      1.000000      1.000000\n",
      "49                                  Malonate                                                                                                            MALONATE              no                                                          NaN      0.000000      0.000000      0.000000\n",
      "50                                  Mannitol                                                                                                            MANNITOL              no                                                          NaN      0.000000      0.000000      0.000000\n",
      "51                                 Mannonate                                                                                                         D-MANNONATE             yes                                                          NaN      1.000000      0.000000      0.000000\n",
      "52                                Methionine                                                                                                                 MET             yes                                                          NaN      1.000000      1.000000      0.000000\n",
      "53                       N-acetylglucosamine                                                                                              N-ACETYL-D-GLUCOSAMINE             yes                                                          NaN      1.000000      1.000000      1.000000\n",
      "54                                 Ornithine                                                                                                         L-ORNITHINE             yes                                                          NaN      1.000000      1.000000      0.000000\n",
      "55                             Phenylacetate                                                                                                       PHENYLACETATE             yes                                                          NaN      1.000000      0.000000      0.000000\n",
      "56                             Phenylalanine                                                                                                                 PHE             yes                                                          NaN      1.000000      1.000000      0.000000\n",
      "57                                   Proline                                                                                                                 PRO             yes                                                          NaN      1.000000      1.000000      0.000000\n",
      "58                                Propionate                                                                                                          PROPIONATE             yes                                                          NaN      1.000000      0.000000      0.000000\n",
      "59                                Putrescine                                                                                                          PUTRESCINE             yes                                                          NaN      1.000000      1.000000      1.000000\n",
      "60                                  Pyruvate                                                                                                            PYRUVATE             yes                                                          NaN      1.000000      1.000000      1.000000\n",
      "61                                  Rhamnose                                                                                                            RHAMNOSE              no                                                          NaN      0.000000      0.000000      0.000000\n",
      "62                                    Ribose                                                                                 L-Ribofuranose, CPD-6001, CPD-10330             yes                                                          NaN      0.333333      0.000000      0.000000\n",
      "63                                    Serine                                                                                                                 SER             yes                                                          NaN      1.000000      1.000000      0.000000\n",
      "64                   sn-Glycerol-3-phosphate                                                                                                         GLYCEROL-3P              no                                                          NaN      1.000000      1.000000      1.000000\n",
      "65                                Spermidine                                                                                                          SPERMIDINE             yes                                                          NaN      1.000000      1.000000      1.000000\n",
      "66                                 Succinate                                                                                                                 SUC             yes                                                          NaN      1.000000      1.000000      1.000000\n",
      "67                                   Taurine                                                                                                             TAURINE             yes                                                          NaN      1.000000      1.000000      1.000000\n",
      "68                                 Threonine                                                                                                                 THR             yes                                                          NaN      1.000000      1.000000      0.000000\n",
      "69                                 Thymidine                                                                                                           THYMIDINE             yes                                                          NaN      1.000000      1.000000      1.000000\n",
      "70                                       TMA                                                                                                      TRIMETHYLAMINE             yes                                                          NaN      1.000000      0.000000      0.000000\n",
      "71                                  Tyramine                                                                                                            TYRAMINE             yes                                                          NaN      1.000000      0.000000      0.000000\n",
      "72                                  Tyrosine                                                                                                                 TYR             yes                                                          NaN      1.000000      1.000000      0.000000\n",
      "73                                    Valine                                                                                                                 VAL             yes                                                          NaN      1.000000      1.000000      0.000000\n",
      "74                                    Xylose                                                                                                       BETA-D-XYLOSE             yes                                           CPD-25028 as well?      1.000000      1.000000      1.000000\n",
      "75                     β-Hydroxybutyric acid                                                                                                             CPD-335             yes                                                          NaN      1.000000      1.000000      1.000000\n"
     ]
    }
   ],
   "source": [
    "print(data.to_string())"
   ]
  },
  {
   "cell_type": "code",
   "execution_count": 8,
   "metadata": {},
   "outputs": [
    {
     "data": {
      "image/png": "[encoded data removed]",
      "text/plain": [
       "<Figure size 400x1000 with 1 Axes>"
      ]
     },
     "metadata": {},
     "output_type": "display_data"
    }
   ],
   "source": [
    "import matplotlib.pyplot as plt\n",
    "from matplotlib.colors import LinearSegmentedColormap\n",
    "from matplotlib.collections import PatchCollection\n",
    "from matplotlib.patches import Rectangle\n",
    "\n",
    "data[\"Model Growth\"] = [np.mean([g_i > 0 for g_i in g]) for g in growth]\n",
    "\n",
    "# Create a figure and axes\n",
    "fig, ax = plt.subplots()\n",
    "\n",
    "# Get experimental and model growth for heatmap\n",
    "true_growth = (data[\"Growth (yes/no)\"] == \"yes\")[data[\"In model [c]\"] > 0].values\n",
    "model_growth = data[\"Model Growth\"][data[\"In model [c]\"] > 0].values\n",
    "\n",
    "# Create the heatmap\n",
    "cmap = LinearSegmentedColormap.from_list(\"\", [\"0.8\", (0.2, 0.7, 0.5)])\n",
    "\n",
    "patches = []\n",
    "for y, (g_true, g_model) in enumerate(np.array([true_growth, model_growth]).T):\n",
    "    if presence:\n",
    "        patches.append(Rectangle((0, y), 1, 1, color=cmap(g_true), ec=\"k\"))\n",
    "        patches.append(Rectangle((1, y), 1, 1, color=cmap(g_model), ec=\"k\"))\n",
    "\n",
    "pc = PatchCollection(patches, match_original=True)\n",
    "ax.add_collection(pc)\n",
    "\n",
    "# Add lollipops to indicate metabolites for which we can infer there is no transport\n",
    "no_transport = np.where(~true_growth & (model_growth > 0.5))[0]\n",
    "STEM_LENGTH = 0.15\n",
    "ax.hlines(0.5 + no_transport, 2, 2 + STEM_LENGTH, color=\"0.5\", lw=3)\n",
    "ax.scatter([2 + STEM_LENGTH + 0.05] * len(no_transport),\n",
    "           0.5 + no_transport, s=100, color=\"0.5\", marker=\"o\")\n",
    "ax.scatter([2 + STEM_LENGTH + 0.05] * len(no_transport),\n",
    "           0.5 + no_transport, s=25, color=\"0.3\", marker=\"x\")\n",
    "\n",
    "ax.set_xlim(0, 2.5)\n",
    "ax.set_ylim(-0.1, len(model_growth))\n",
    "\n",
    "# Set the tick labels and positions\n",
    "ax.set_xticks([0.5, 1.5])\n",
    "ax.set_xticklabels([\"Experiment\", \"FBA\"])\n",
    "ax.set_yticks(0.5 + np.arange(len(data[\"Substrate\"][data[\"In model [c]\"] > 0])))\n",
    "ax.set_yticklabels(data[\"Substrate\"][data[\"In model [c]\"] > 0])\n",
    "\n",
    "# Add a colorbar\n",
    "# cbar = fig.colorbar(heatmap)\n",
    "\n",
    "# Hide spines\n",
    "ax.spines['top'].set_visible(False)\n",
    "ax.spines['right'].set_visible(False)\n",
    "ax.spines['bottom'].set_visible(False)\n",
    "ax.spines['left'].set_visible(False)\n",
    "\n",
    "# Set size\n",
    "fig.tight_layout()\n",
    "fig.set_size_inches(4, 10)"
   ]
  },
  {
   "cell_type": "code",
   "execution_count": 10,
   "metadata": {},
   "outputs": [
    {
     "data": {
      "text/plain": [
       "0             2,3-dihydroxypropane-1-sulfonate\n",
       "1                         3-Mercaptopropionate\n",
       "2     4-Amino-5-aminomethyl-2-methylpyrimidine\n",
       "3                          4-Aminobenzoic acid\n",
       "4                                      Acetate\n",
       "                        ...                   \n",
       "69                                   Thymidine\n",
       "72                                    Tyrosine\n",
       "73                                      Valine\n",
       "74                                      Xylose\n",
       "75                       β-Hydroxybutyric acid\n",
       "Name: Substrate, Length: 62, dtype: object"
      ]
     },
     "execution_count": 10,
     "metadata": {},
     "output_type": "execute_result"
    }
   ],
   "source": [
    "data[\"Substrate\"][data[\"In model [c]\"] > 0]"
   ]
  },
  {
   "cell_type": "code",
   "execution_count": 11,
   "metadata": {},
   "outputs": [
    {
     "data": {
      "text/plain": [
       "0     0.666667\n",
       "1     1.000000\n",
       "2     1.000000\n",
       "3     1.000000\n",
       "4     1.000000\n",
       "        ...   \n",
       "71    0.000000\n",
       "72    1.000000\n",
       "73    1.000000\n",
       "74    0.500000\n",
       "75    1.000000\n",
       "Name: In model [c], Length: 76, dtype: float64"
      ]
     },
     "execution_count": 11,
     "metadata": {},
     "output_type": "execute_result"
    }
   ],
   "source": [
    "data[\"In model [c]\"]"
   ]
  },
  {
   "cell_type": "code",
   "execution_count": 68,
   "metadata": {},
   "outputs": [
    {
     "data": {
      "image/png": "[encoded data removed]",
      "text/plain": [
       "<Figure size 200x200 with 1 Axes>"
      ]
     },
     "metadata": {},
     "output_type": "display_data"
    }
   ],
   "source": [
    "from collections import Counter\n",
    "counts = Counter(zip(true_growth.astype(int), model_growth))\n",
    "\n",
    "fig, ax = plt.subplots()\n",
    "img = ax.imshow(np.array([[1, 0],\n",
    "                          [0, 1]]), cmap=\"Greys_r\", alpha=0.25)\n",
    "\n",
    "for (true, model_grows), count in counts.items():\n",
    "    ax.text(true, model_grows, count, ha=\"center\", va=\"center\")\n",
    "\n",
    "\n",
    "ax.hlines(0.5, -0.5, 1.5, color=\"0\", lw=0.5)\n",
    "ax.vlines(0.5, -0.5, 1.5, color=\"0\", lw=0.5)\n",
    "\n",
    "ax.set_xlim(-0.5, 1.5)\n",
    "ax.set_ylim(-0.5, 1.5)\n",
    "ax.set_xticks([0, 1])\n",
    "ax.set_yticks([0, 1])\n",
    "ax.set_xticklabels([\"No\", \"Yes\"])\n",
    "ax.set_yticklabels([\"No\", \"Yes\"])\n",
    "ax.set_xlabel(\"Experimental Growth\")\n",
    "ax.set_ylabel(\"Model Growth\")\n",
    "ax.set_aspect(\"equal\")\n",
    "fig.set_size_inches(2, 2)"
   ]
  },
  {
   "cell_type": "code",
   "execution_count": 70,
   "metadata": {},
   "outputs": [
    {
     "name": "stdout",
     "output_type": "stream",
     "text": [
      "EX_glt: GLT[e] <=>  bounds: (-3, 1000.0)\n",
      "EX_ILE[e]: ILE[e] <=>  bounds: (-3, 1000.0)\n",
      "EX_L-ALPHA-ALANINE[e]: L-ALPHA-ALANINE[e] <=>  bounds: (-3, 1000.0)\n",
      "EX_L-ASPARTATE[e]: L-ASPARTATE[e] <=>  bounds: (-3, 1000.0)\n",
      "EX_LEU[e]: LEU[e] <=>  bounds: (-3, 1000.0)\n",
      "EX_PHE[e]: PHE[e] <=>  bounds: (-3, 1000.0)\n",
      "EX_PRO[e]: PRO[e] <=>  bounds: (-3, 1000.0)\n",
      "EX_VAL[e]: VAL[e] <=>  bounds: (-3, 1000.0)\n"
     ]
    },
    {
     "data": {
      "text/plain": [
       "<matplotlib.legend.Legend at 0x7f84ed4caea0>"
      ]
     },
     "execution_count": 70,
     "metadata": {},
     "output_type": "execute_result"
    },
    {
     "data": {
      "image/png": "[encoded data removed]",
      "text/plain": [
       "<Figure size 640x480 with 1 Axes>"
      ]
     },
     "metadata": {},
     "output_type": "display_data"
    }
   ],
   "source": [
    "# Compare growth rates for substrates on which we have data\n",
    "# Grown on L1 medium with 3 mM C\n",
    "mu_df = pd.read_csv(\"../data/clean/growth/growth_rates.csv\")\n",
    "\n",
    "substrates = []\n",
    "growth_rates = []\n",
    "for met, mu in mu_df.groupby(\"ID\")[\"mu\"].mean().items():\n",
    "    met = met.split(\"[\")[0]\n",
    "    substrates.append(met)\n",
    "\n",
    "    # Get model growth rate\n",
    "    with model:\n",
    "        # Get cytosolic metabolite\n",
    "        met_c = model.metabolites.get_by_id(met + \"[c]\")\n",
    "        \n",
    "        # Get or create external metabolite\n",
    "        try:\n",
    "            met_e = model.metabolites.get_by_id(f\"{met}[e]\")\n",
    "        except:\n",
    "            met_e = Metabolite(f\"{met}[e]\",\n",
    "                               formula=met_c.formula,\n",
    "                               name=met,\n",
    "                               compartment=\"e\")\n",
    "            model.add_metabolites([met_e])\n",
    "\n",
    "        # Get or create exchange reaction\n",
    "        ex_met = get_or_create_exchange(model, met_e.id)\n",
    "\n",
    "        # Create transport reaction\n",
    "        transport = Reaction(\"test\", \"\", lower_bound=-1000, upper_bound=1000)\n",
    "        transport.add_metabolites({\n",
    "            met_e : -1,\n",
    "            met_c : 1\n",
    "        })\n",
    "        model.add_reactions([transport])\n",
    "\n",
    "        # Turn off VALINE-PYRUVATE-AMINOTRANSFER-RXN\n",
    "        problematique = model.reactions.get_by_id(\"VALINE-PYRUVATE-AMINOTRANSFER-RXN\")\n",
    "        problematique.bounds = (0, 0)\n",
    "\n",
    "        # Bound and solve\n",
    "        set_active_bound(ex_met, 3)\n",
    "        print(f\"{ex_met} bounds: {ex_met.bounds}\")\n",
    "        sol = model.optimize()\n",
    "\n",
    "        if sol.status != \"infeasible\":\n",
    "            growth_rates.append(sol.objective_value)\n",
    "        else:\n",
    "            growth_rates.append(0)\n",
    "\n",
    "mu_means = mu_df.groupby(\"ID\")[\"mu\"].mean()\n",
    "\n",
    "met_y = {\n",
    "    met : i for i, met in enumerate(mu_means.index)\n",
    "}\n",
    "\n",
    "fig, ax = plt.subplots()\n",
    "ax.barh([met_y[met] for met in mu_means.index],\n",
    "        mu_means,\n",
    "        label=\"data\",\n",
    "        height=0.3)\n",
    "ax.barh([met_y[met] - 0.3 for met in mu_means.index],\n",
    "        growth_rates,\n",
    "        color=(0.3, 0.75, 0.8),\n",
    "        label=\"FBA\",\n",
    "        height=0.3)\n",
    "ax.scatter(mu_df[\"mu\"], [met_y[met] for met in mu_df[\"ID\"]], color=\"0.25\", s=5)\n",
    "\n",
    "ax.set_yticks(np.arange(len(mu_means)), mu_means.index)\n",
    "\n",
    "ax.set_xlabel(\"Growth rate (1/h)\")\n",
    "ax.legend()"
   ]
  },
  {
   "cell_type": "code",
   "execution_count": 14,
   "metadata": {},
   "outputs": [
    {
     "data": {
      "text/plain": [
       "<matplotlib.collections.PathCollection at 0x7f84ae0017c0>"
      ]
     },
     "execution_count": 14,
     "metadata": {},
     "output_type": "execute_result"
    },
    {
     "data": {
      "image/png": "[encoded data removed]",
      "text/plain": [
       "<Figure size 640x480 with 1 Axes>"
      ]
     },
     "metadata": {},
     "output_type": "display_data"
    }
   ],
   "source": [
    "fig, ax = plt.subplots()\n",
    "ax.scatter(mu_means, growth_rates)"
   ]
  }
 ],
 "metadata": {
  "kernelspec": {
   "display_name": "rpom",
   "language": "python",
   "name": "python3"
  },
  "language_info": {
   "codemirror_mode": {
    "name": "ipython",
    "version": 3
   },
   "file_extension": ".py",
   "mimetype": "text/x-python",
   "name": "python",
   "nbconvert_exporter": "python",
   "pygments_lexer": "ipython3",
   "version": "3.12.1"
  }
 },
 "nbformat": 4,
 "nbformat_minor": 2
}
