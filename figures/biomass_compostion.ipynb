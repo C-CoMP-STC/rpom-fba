{
 "cells": [
  {
   "cell_type": "code",
   "execution_count": 1,
   "metadata": {},
   "outputs": [],
   "source": [
    "import sys\n",
    "if \"..\" not in sys.path:\n",
    "    sys.path.append(\"..\")"
   ]
  },
  {
   "cell_type": "code",
   "execution_count": 95,
   "metadata": {},
   "outputs": [],
   "source": [
    "import matplotlib.pyplot as plt\n",
    "import numpy as np\n",
    "from utils.colors import *\n",
    "\n",
    "plt.rc('xtick', labelsize=8)    # fontsize of the tick labels\n",
    "plt.rc('ytick', labelsize=8)    # fontsize of the tick labels\n",
    "plt.rc('legend', fontsize=8)    # legend fontsize\n",
    "\n",
    "rpom_biomass = {\"Protein\": 0.561521914,\n",
    "                \"RNA\": 0.093597842,\n",
    "                \"DNA\": 0.05136379,\n",
    "                \"Lipid\": 0.095950926,\n",
    "                \"PHB\": 0.091372857,\n",
    "                \"Murein\": 0.026355529,\n",
    "                \"Ions\": 0.009825009,\n",
    "                \"Cofactors\": 0.001524574,\n",
    "                \"Other\": 0.068487558}\n",
    "\n",
    "ecoli_biomass = {\"Protein\": 0.55,\n",
    "                 \"RNA\": 0.2053,\n",
    "                 \"DNA\": 0.031,\n",
    "                 \"Lipid\": 0.091,\n",
    "                 \"Glycogen\": 0.025,\n",
    "                 \"Murein\": 0.025,\n",
    "                 \"Other\": 0.073}\n",
    "\n",
    "biomass_colors = {\"Protein\": C_PROTEIN,\n",
    "                  \"Lipid\": C_LIPID,\n",
    "                  \"RNA\": C_RNA,\n",
    "                  \"PHB\": C_PHB,\n",
    "                  \"Glycogen\": C_PHB,\n",
    "                  \"DNA\": C_DNA,\n",
    "                  \"Murein\": C_MUREIN,\n",
    "                  \"Other\": BACKGROUND_GRAY}"
   ]
  },
  {
   "cell_type": "code",
   "execution_count": null,
   "metadata": {},
   "outputs": [
    {
     "data": {
      "image/png": "[encoded data removed]",
      "text/plain": [
       "<Figure size 300x225 with 2 Axes>"
      ]
     },
     "metadata": {},
     "output_type": "display_data"
    }
   ],
   "source": [
    "fig, (ax1, ax2) = plt.subplots(2, 1)\n",
    "\n",
    "\n",
    "for ax, sp, biomass in zip([ax1, ax2],\n",
    "                           [\"R. pom\", \"E. coli\"],\n",
    "                           [rpom_biomass, ecoli_biomass]):\n",
    "\n",
    "    # Draw bars, text\n",
    "    total = 0\n",
    "    for component, proportion in biomass.items():\n",
    "        ax.barh(0,\n",
    "            proportion,\n",
    "            left=total,\n",
    "            label=component if sp == \"R. pom\" else None,\n",
    "            color=biomass_colors.get(component, BACKGROUND_GRAY))\n",
    "        # if proportion > 0.08:\n",
    "        #     ax.text(total + proportion / 2, 0, f\"{proportion:.0%}\", ha=\"center\", va=\"center\")\n",
    "        total += proportion\n",
    "\n",
    "    ax.set_yticks([])\n",
    "\n",
    "    xticks = np.round(np.cumsum(list(biomass.values())), 2)\n",
    "    ax.set_xticks(xticks, [f\"{x:.0%}\" for x in xticks])\n",
    "    for i, tick in enumerate(ax.xaxis.get_major_ticks()):\n",
    "        ticklen = 5 + 10*(i % 4)\n",
    "        tick.set_pad(ticklen)\n",
    "        tick.tick1line.set_markersize(ticklen)\n",
    "\n",
    "    ax.set_xlim(0, 1)\n",
    "    ax.set_ylim(-0.45, 0.4)\n",
    "    ax.set_ylabel(f\"$\\\\it{{{sp}}}$\", fontsize=10)\n",
    "\n",
    "    for spine in ax.spines:\n",
    "        if spine == \"bottom\":\n",
    "            continue\n",
    "        ax.spines[spine].set_visible(False)\n",
    "\n",
    "fig.legend(loc=\"center right\", bbox_to_anchor=(1.35, 0.5))\n",
    "\n",
    "fig.tight_layout()\n",
    "fig.subplots_adjust(hspace=2)\n",
    "fig.set_size_inches(3, 2.25)\n",
    "\n",
    "fig.savefig(\"biomass_composition.svg\")"
   ]
  },
  {
   "cell_type": "code",
   "execution_count": 121,
   "metadata": {},
   "outputs": [
    {
     "data": {
      "text/plain": [
       "[<matplotlib.axis.XTick at 0x7f427f76ef80>,\n",
       " <matplotlib.axis.XTick at 0x7f427f76fb20>,\n",
       " <matplotlib.axis.XTick at 0x7f427f76cbe0>,\n",
       " <matplotlib.axis.XTick at 0x7f427fbdc340>,\n",
       " <matplotlib.axis.XTick at 0x7f427fbdeda0>,\n",
       " <matplotlib.axis.XTick at 0x7f427ff57760>,\n",
       " <matplotlib.axis.XTick at 0x7f427ff55a50>,\n",
       " <matplotlib.axis.XTick at 0x7f427ff56c50>,\n",
       " <matplotlib.axis.XTick at 0x7f427ff54880>]"
      ]
     },
     "execution_count": 121,
     "metadata": {},
     "output_type": "execute_result"
    }
   ],
   "source": [
    "ax.xaxis.get_major_ticks()"
   ]
  },
  {
   "cell_type": "code",
   "execution_count": 99,
   "metadata": {},
   "outputs": [
    {
     "data": {
      "text/plain": [
       "<matplotlib.axis.XTick at 0x7f427fe84a90>"
      ]
     },
     "execution_count": 99,
     "metadata": {},
     "output_type": "execute_result"
    }
   ],
   "source": [
    "tick"
   ]
  },
  {
   "cell_type": "code",
   "execution_count": 78,
   "metadata": {},
   "outputs": [
    {
     "data": {
      "text/plain": [
       "array([0.55  , 0.7553, 0.7863, 0.8773, 0.9023, 0.9273])"
      ]
     },
     "execution_count": 78,
     "metadata": {},
     "output_type": "execute_result"
    }
   ],
   "source": [
    "np.cumsum(list(biomass.values()))[:-1]"
   ]
  },
  {
   "cell_type": "code",
   "execution_count": null,
   "metadata": {},
   "outputs": [],
   "source": [
    "\n"
   ]
  }
 ],
 "metadata": {
  "kernelspec": {
   "display_name": "rpom",
   "language": "python",
   "name": "python3"
  },
  "language_info": {
   "codemirror_mode": {
    "name": "ipython",
    "version": 3
   },
   "file_extension": ".py",
   "mimetype": "text/x-python",
   "name": "python",
   "nbconvert_exporter": "python",
   "pygments_lexer": "ipython3",
   "version": "3.10.4"
  }
 },
 "nbformat": 4,
 "nbformat_minor": 2
}
