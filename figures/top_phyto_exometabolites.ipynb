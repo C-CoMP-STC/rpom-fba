{
 "cells": [
  {
   "cell_type": "code",
   "execution_count": 17,
   "metadata": {},
   "outputs": [],
   "source": [
    "import sys\n",
    "if \"..\" not in sys.path:\n",
    "    sys.path.append(\"..\")"
   ]
  },
  {
   "cell_type": "code",
   "execution_count": 18,
   "metadata": {},
   "outputs": [
    {
     "name": "stderr",
     "output_type": "stream",
     "text": [
      "https://identifiers.org/stem/ does not conform to 'http(s)://identifiers.org/collection/id' or'http(s)://identifiers.org/COLLECTION:id\n",
      "https://identifiers.org/stem/ does not conform to 'http(s)://identifiers.org/collection/id' or'http(s)://identifiers.org/COLLECTION:id\n",
      "https://identifiers.org/stem/ does not conform to 'http(s)://identifiers.org/collection/id' or'http(s)://identifiers.org/COLLECTION:id\n",
      "https://identifiers.org/stem/ does not conform to 'http(s)://identifiers.org/collection/id' or'http(s)://identifiers.org/COLLECTION:id\n",
      "https://identifiers.org/stem/ does not conform to 'http(s)://identifiers.org/collection/id' or'http(s)://identifiers.org/COLLECTION:id\n",
      "https://identifiers.org/stem/ does not conform to 'http(s)://identifiers.org/collection/id' or'http(s)://identifiers.org/COLLECTION:id\n",
      "https://identifiers.org/stem/ does not conform to 'http(s)://identifiers.org/collection/id' or'http(s)://identifiers.org/COLLECTION:id\n",
      "https://identifiers.org/stem/ does not conform to 'http(s)://identifiers.org/collection/id' or'http(s)://identifiers.org/COLLECTION:id\n",
      "https://identifiers.org/stem/ does not conform to 'http(s)://identifiers.org/collection/id' or'http(s)://identifiers.org/COLLECTION:id\n",
      "https://identifiers.org/stem/ does not conform to 'http(s)://identifiers.org/collection/id' or'http(s)://identifiers.org/COLLECTION:id\n",
      "https://identifiers.org/stem/ does not conform to 'http(s)://identifiers.org/collection/id' or'http(s)://identifiers.org/COLLECTION:id\n",
      "https://identifiers.org/stem/ does not conform to 'http(s)://identifiers.org/collection/id' or'http(s)://identifiers.org/COLLECTION:id\n",
      "https://identifiers.org/stem/ does not conform to 'http(s)://identifiers.org/collection/id' or'http(s)://identifiers.org/COLLECTION:id\n",
      "https://identifiers.org/stem/ does not conform to 'http(s)://identifiers.org/collection/id' or'http(s)://identifiers.org/COLLECTION:id\n",
      "https://identifiers.org/stem/ does not conform to 'http(s)://identifiers.org/collection/id' or'http(s)://identifiers.org/COLLECTION:id\n",
      "https://identifiers.org/stem/ does not conform to 'http(s)://identifiers.org/collection/id' or'http(s)://identifiers.org/COLLECTION:id\n",
      "https://identifiers.org/stem/ does not conform to 'http(s)://identifiers.org/collection/id' or'http(s)://identifiers.org/COLLECTION:id\n",
      "https://identifiers.org/stem/ does not conform to 'http(s)://identifiers.org/collection/id' or'http(s)://identifiers.org/COLLECTION:id\n",
      "https://identifiers.org/stem/ does not conform to 'http(s)://identifiers.org/collection/id' or'http(s)://identifiers.org/COLLECTION:id\n",
      "https://identifiers.org/stem/ does not conform to 'http(s)://identifiers.org/collection/id' or'http(s)://identifiers.org/COLLECTION:id\n",
      "https://identifiers.org/stem/ does not conform to 'http(s)://identifiers.org/collection/id' or'http(s)://identifiers.org/COLLECTION:id\n",
      "https://identifiers.org/stem/ does not conform to 'http(s)://identifiers.org/collection/id' or'http(s)://identifiers.org/COLLECTION:id\n",
      "https://identifiers.org/stem/ does not conform to 'http(s)://identifiers.org/collection/id' or'http(s)://identifiers.org/COLLECTION:id\n",
      "https://identifiers.org/stem/ does not conform to 'http(s)://identifiers.org/collection/id' or'http(s)://identifiers.org/COLLECTION:id\n",
      "https://identifiers.org/stem/ does not conform to 'http(s)://identifiers.org/collection/id' or'http(s)://identifiers.org/COLLECTION:id\n",
      "https://identifiers.org/stem/ does not conform to 'http(s)://identifiers.org/collection/id' or'http(s)://identifiers.org/COLLECTION:id\n",
      "https://identifiers.org/stem/ does not conform to 'http(s)://identifiers.org/collection/id' or'http(s)://identifiers.org/COLLECTION:id\n",
      "https://identifiers.org/stem/ does not conform to 'http(s)://identifiers.org/collection/id' or'http(s)://identifiers.org/COLLECTION:id\n",
      "https://identifiers.org/stem/ does not conform to 'http(s)://identifiers.org/collection/id' or'http(s)://identifiers.org/COLLECTION:id\n",
      "https://identifiers.org/stem/ does not conform to 'http(s)://identifiers.org/collection/id' or'http(s)://identifiers.org/COLLECTION:id\n",
      "https://identifiers.org/stem/ does not conform to 'http(s)://identifiers.org/collection/id' or'http(s)://identifiers.org/COLLECTION:id\n",
      "https://identifiers.org/stem/ does not conform to 'http(s)://identifiers.org/collection/id' or'http(s)://identifiers.org/COLLECTION:id\n",
      "https://identifiers.org/stem/ does not conform to 'http(s)://identifiers.org/collection/id' or'http(s)://identifiers.org/COLLECTION:id\n",
      "https://identifiers.org/stem/ does not conform to 'http(s)://identifiers.org/collection/id' or'http(s)://identifiers.org/COLLECTION:id\n",
      "https://identifiers.org/stem/ does not conform to 'http(s)://identifiers.org/collection/id' or'http(s)://identifiers.org/COLLECTION:id\n",
      "https://identifiers.org/stem/ does not conform to 'http(s)://identifiers.org/collection/id' or'http(s)://identifiers.org/COLLECTION:id\n",
      "https://identifiers.org/stem/ does not conform to 'http(s)://identifiers.org/collection/id' or'http(s)://identifiers.org/COLLECTION:id\n",
      "https://identifiers.org/stem/ does not conform to 'http(s)://identifiers.org/collection/id' or'http(s)://identifiers.org/COLLECTION:id\n",
      "https://identifiers.org/stem/ does not conform to 'http(s)://identifiers.org/collection/id' or'http(s)://identifiers.org/COLLECTION:id\n",
      "https://identifiers.org/stem/ does not conform to 'http(s)://identifiers.org/collection/id' or'http(s)://identifiers.org/COLLECTION:id\n",
      "https://identifiers.org/stem/ does not conform to 'http(s)://identifiers.org/collection/id' or'http(s)://identifiers.org/COLLECTION:id\n",
      "https://identifiers.org/stem/ does not conform to 'http(s)://identifiers.org/collection/id' or'http(s)://identifiers.org/COLLECTION:id\n",
      "https://identifiers.org/stem/ does not conform to 'http(s)://identifiers.org/collection/id' or'http(s)://identifiers.org/COLLECTION:id\n",
      "https://identifiers.org/stem/ does not conform to 'http(s)://identifiers.org/collection/id' or'http(s)://identifiers.org/COLLECTION:id\n",
      "https://identifiers.org/stem/ does not conform to 'http(s)://identifiers.org/collection/id' or'http(s)://identifiers.org/COLLECTION:id\n",
      "https://identifiers.org/stem/ does not conform to 'http(s)://identifiers.org/collection/id' or'http(s)://identifiers.org/COLLECTION:id\n",
      "https://identifiers.org/stem/ does not conform to 'http(s)://identifiers.org/collection/id' or'http(s)://identifiers.org/COLLECTION:id\n",
      "https://identifiers.org/stem/ does not conform to 'http(s)://identifiers.org/collection/id' or'http(s)://identifiers.org/COLLECTION:id\n",
      "https://identifiers.org/stem/ does not conform to 'http(s)://identifiers.org/collection/id' or'http(s)://identifiers.org/COLLECTION:id\n",
      "https://identifiers.org/stem/ does not conform to 'http(s)://identifiers.org/collection/id' or'http(s)://identifiers.org/COLLECTION:id\n",
      "https://identifiers.org/stem/ does not conform to 'http(s)://identifiers.org/collection/id' or'http(s)://identifiers.org/COLLECTION:id\n",
      "https://identifiers.org/stem/ does not conform to 'http(s)://identifiers.org/collection/id' or'http(s)://identifiers.org/COLLECTION:id\n",
      "https://identifiers.org/stem/ does not conform to 'http(s)://identifiers.org/collection/id' or'http(s)://identifiers.org/COLLECTION:id\n",
      "https://identifiers.org/stem/ does not conform to 'http(s)://identifiers.org/collection/id' or'http(s)://identifiers.org/COLLECTION:id\n",
      "https://identifiers.org/stem/ does not conform to 'http(s)://identifiers.org/collection/id' or'http(s)://identifiers.org/COLLECTION:id\n",
      "https://identifiers.org/stem/ does not conform to 'http(s)://identifiers.org/collection/id' or'http(s)://identifiers.org/COLLECTION:id\n",
      "https://identifiers.org/stem/ does not conform to 'http(s)://identifiers.org/collection/id' or'http(s)://identifiers.org/COLLECTION:id\n",
      "https://identifiers.org/stem/ does not conform to 'http(s)://identifiers.org/collection/id' or'http(s)://identifiers.org/COLLECTION:id\n",
      "https://identifiers.org/stem/ does not conform to 'http(s)://identifiers.org/collection/id' or'http(s)://identifiers.org/COLLECTION:id\n",
      "https://identifiers.org/stem/ does not conform to 'http(s)://identifiers.org/collection/id' or'http(s)://identifiers.org/COLLECTION:id\n",
      "https://identifiers.org/stem/ does not conform to 'http(s)://identifiers.org/collection/id' or'http(s)://identifiers.org/COLLECTION:id\n",
      "https://identifiers.org/stem/ does not conform to 'http(s)://identifiers.org/collection/id' or'http(s)://identifiers.org/COLLECTION:id\n",
      "https://identifiers.org/stem/ does not conform to 'http(s)://identifiers.org/collection/id' or'http(s)://identifiers.org/COLLECTION:id\n",
      "https://identifiers.org/stem/ does not conform to 'http(s)://identifiers.org/collection/id' or'http(s)://identifiers.org/COLLECTION:id\n",
      "https://identifiers.org/stem/ does not conform to 'http(s)://identifiers.org/collection/id' or'http(s)://identifiers.org/COLLECTION:id\n",
      "https://identifiers.org/stem/ does not conform to 'http(s)://identifiers.org/collection/id' or'http(s)://identifiers.org/COLLECTION:id\n",
      "https://identifiers.org/stem/ does not conform to 'http(s)://identifiers.org/collection/id' or'http(s)://identifiers.org/COLLECTION:id\n",
      "https://identifiers.org/stem/ does not conform to 'http(s)://identifiers.org/collection/id' or'http(s)://identifiers.org/COLLECTION:id\n",
      "https://identifiers.org/stem/ does not conform to 'http(s)://identifiers.org/collection/id' or'http(s)://identifiers.org/COLLECTION:id\n",
      "https://identifiers.org/stem/ does not conform to 'http(s)://identifiers.org/collection/id' or'http(s)://identifiers.org/COLLECTION:id\n",
      "https://identifiers.org/stem/ does not conform to 'http(s)://identifiers.org/collection/id' or'http(s)://identifiers.org/COLLECTION:id\n",
      "https://identifiers.org/stem/ does not conform to 'http(s)://identifiers.org/collection/id' or'http(s)://identifiers.org/COLLECTION:id\n",
      "https://identifiers.org/stem/ does not conform to 'http(s)://identifiers.org/collection/id' or'http(s)://identifiers.org/COLLECTION:id\n",
      "https://identifiers.org/stem/ does not conform to 'http(s)://identifiers.org/collection/id' or'http(s)://identifiers.org/COLLECTION:id\n",
      "https://identifiers.org/stem/ does not conform to 'http(s)://identifiers.org/collection/id' or'http(s)://identifiers.org/COLLECTION:id\n",
      "https://identifiers.org/stem/ does not conform to 'http(s)://identifiers.org/collection/id' or'http(s)://identifiers.org/COLLECTION:id\n"
     ]
    }
   ],
   "source": [
    "import warnings\n",
    "\n",
    "import numpy as np\n",
    "import pandas as pd\n",
    "from cobra.io import read_sbml_model\n",
    "from cobra import Reaction, Metabolite\n",
    "from utils.cobra_utils import get_or_create_exchange, set_active_bound\n",
    "\n",
    "# Load the model\n",
    "model = read_sbml_model(\"../model/Rpom_05.xml\")\n",
    "ex_glc = model.reactions.get_by_id(\"EX_glc\")\n",
    "ex_ace = get_or_create_exchange(model, \"ACET[e]\")\n",
    "\n",
    "# TODO: Remove all of the below\n",
    "# Turn on maintenance\n",
    "atpm = model.reactions.get_by_id(\"ATPM\")\n",
    "# atpm.bounds = (25, 25)"
   ]
  },
  {
   "cell_type": "code",
   "execution_count": 19,
   "metadata": {},
   "outputs": [],
   "source": [
    "micro_mets = {'proline' : \"PRO\",\n",
    " '4-aminobenzoic acid' : \"P-AMINO-BENZOATE\",\n",
    " 'taurine' : \"TAURINE\",\n",
    " 'glutamic acid' : \"GLT\",\n",
    " 'alanine' : \"L-ALPHA-ALANINE\",\n",
    " 'phenylalanine' : \"PHE\",\n",
    " 'leucine' : \"LEU\",\n",
    " '2′deoxyguanosine' : \"DEOXYGUANOSINE\",\n",
    " 'valine' : \"VAL\",\n",
    " 'tyrosine': \"TYR\",}\n",
    "\n",
    "pro_mets = {'glutamic acid' : \"GLT\",\n",
    " 'phenylalanine' : \"PHE\",\n",
    " 'valine' : \"VAL\",\n",
    " 'isoleucine' : \"ILE\",\n",
    " 'alanine' : \"L-ALPHA-ALANINE\",\n",
    " 'leucine' : \"LEU\",\n",
    " 'aspartic acid' : \"L-ASPARTATE\",\n",
    " '4-aminobenzoic acid' : \"P-AMINO-BENZOATE\",\n",
    " '2′deoxyguanosine' : \"DEOXYGUANOSINE\",\n",
    " 'proline' : \"PRO\"}\n",
    "\n"
   ]
  },
  {
   "cell_type": "code",
   "execution_count": 20,
   "metadata": {},
   "outputs": [
    {
     "name": "stdout",
     "output_type": "stream",
     "text": [
      "Creating external metabolite PRO[e] and free transport reaction\n",
      "Creating external metabolite P-AMINO-BENZOATE[e] and free transport reaction\n",
      "Creating external metabolite L-ALPHA-ALANINE[e] and free transport reaction\n",
      "Creating external metabolite PHE[e] and free transport reaction\n",
      "Creating external metabolite LEU[e] and free transport reaction\n",
      "Creating external metabolite DEOXYGUANOSINE[e] and free transport reaction\n",
      "Creating external metabolite TYR[e] and free transport reaction\n"
     ]
    },
    {
     "data": {
      "text/plain": [
       "{'proline': 0.8101985146164453,\n",
       " '4-aminobenzoic acid': 0.0,\n",
       " 'taurine': 0.33651157832305534,\n",
       " 'glutamic acid': 0.8045821006989164,\n",
       " 'alanine': 0.5497592666317336,\n",
       " 'phenylalanine': 0.7405523044327482,\n",
       " 'leucine': 0.7896210591926615,\n",
       " '2′deoxyguanosine': 1.3324486535456785,\n",
       " 'valine': 0.7054913413161406,\n",
       " 'tyrosine': 0.5680529345768696}"
      ]
     },
     "execution_count": 20,
     "metadata": {},
     "output_type": "execute_result"
    }
   ],
   "source": [
    "micro_growth_rates = {}\n",
    "for metname, metid in micro_mets.items():\n",
    "    with model:\n",
    "        try:\n",
    "            met_e = model.metabolites.get_by_id(f\"{metid}[e]\")\n",
    "        except KeyError:\n",
    "            # Create external metabolite, allow to enter the cell\n",
    "            print(f\"Creating external metabolite {metid}[e] and free transport reaction\")\n",
    "            met_c = model.metabolites.get_by_id(f\"{metid}[c]\")\n",
    "            met_e = Metabolite(\n",
    "                id=f\"{metid}[e]\",\n",
    "                name=metname,\n",
    "                formula=met_c.formula,\n",
    "                charge=met_c.charge,\n",
    "                compartment=\"e\",\n",
    "            )\n",
    "            model.add_metabolites([met_e])\n",
    "\n",
    "            # Create the free transport reaction\n",
    "            rxn = Reaction(f\"{metid}tx\")\n",
    "            rxn.name = f\"Free transport of {metname}\"\n",
    "            rxn.bounds = (0, 1000)\n",
    "            rxn.add_metabolites({met_e: -1, met_c: 1})\n",
    "            model.add_reactions([rxn])\n",
    "\n",
    "        # Add the exchange reaction for the metabolite\n",
    "        ex_met = get_or_create_exchange(model, met_e.id)\n",
    "        ex_met.bounds = (-10, 0)\n",
    "\n",
    "        sol = model.optimize()\n",
    "    \n",
    "    micro_growth_rates[metname] = sol.objective_value\n",
    "micro_growth_rates"
   ]
  },
  {
   "cell_type": "code",
   "execution_count": 21,
   "metadata": {},
   "outputs": [
    {
     "data": {
      "text/html": [
       "<strong><em>Optimal</em> solution with objective value 0.805</strong><br><div>\n",
       "<style scoped>\n",
       "    .dataframe tbody tr th:only-of-type {\n",
       "        vertical-align: middle;\n",
       "    }\n",
       "\n",
       "    .dataframe tbody tr th {\n",
       "        vertical-align: top;\n",
       "    }\n",
       "\n",
       "    .dataframe thead th {\n",
       "        text-align: right;\n",
       "    }\n",
       "</style>\n",
       "<table border=\"1\" class=\"dataframe\">\n",
       "  <thead>\n",
       "    <tr style=\"text-align: right;\">\n",
       "      <th></th>\n",
       "      <th>fluxes</th>\n",
       "      <th>reduced_costs</th>\n",
       "    </tr>\n",
       "  </thead>\n",
       "  <tbody>\n",
       "    <tr>\n",
       "      <th>1-ACYLGLYCEROL-3-P-ACYLTRANSFER-RXN</th>\n",
       "      <td>6.051584e-02</td>\n",
       "      <td>0.000000e+00</td>\n",
       "    </tr>\n",
       "    <tr>\n",
       "      <th>1.1.1.178-RXN</th>\n",
       "      <td>-2.367906e-19</td>\n",
       "      <td>2.143841e-13</td>\n",
       "    </tr>\n",
       "    <tr>\n",
       "      <th>1.1.1.262-RXN</th>\n",
       "      <td>0.000000e+00</td>\n",
       "      <td>0.000000e+00</td>\n",
       "    </tr>\n",
       "    <tr>\n",
       "      <th>1.1.1.39-RXN</th>\n",
       "      <td>0.000000e+00</td>\n",
       "      <td>-5.551115e-17</td>\n",
       "    </tr>\n",
       "    <tr>\n",
       "      <th>1.1.1.8-RXN</th>\n",
       "      <td>1.118594e-01</td>\n",
       "      <td>5.551115e-17</td>\n",
       "    </tr>\n",
       "    <tr>\n",
       "      <th>...</th>\n",
       "      <td>...</td>\n",
       "      <td>...</td>\n",
       "    </tr>\n",
       "    <tr>\n",
       "      <th>RXN-19800</th>\n",
       "      <td>0.000000e+00</td>\n",
       "      <td>-1.110223e-16</td>\n",
       "    </tr>\n",
       "    <tr>\n",
       "      <th>RXN0-7187</th>\n",
       "      <td>0.000000e+00</td>\n",
       "      <td>0.000000e+00</td>\n",
       "    </tr>\n",
       "    <tr>\n",
       "      <th>RXN-9205</th>\n",
       "      <td>0.000000e+00</td>\n",
       "      <td>5.009014e-17</td>\n",
       "    </tr>\n",
       "    <tr>\n",
       "      <th>RXN-15714</th>\n",
       "      <td>0.000000e+00</td>\n",
       "      <td>-1.159685e-16</td>\n",
       "    </tr>\n",
       "    <tr>\n",
       "      <th>RXN-22238</th>\n",
       "      <td>0.000000e+00</td>\n",
       "      <td>-5.421011e-18</td>\n",
       "    </tr>\n",
       "  </tbody>\n",
       "</table>\n",
       "<p>1925 rows × 2 columns</p>\n",
       "</div>"
      ],
      "text/plain": [
       "<Solution 0.805 at 0x7f4e244d5190>"
      ]
     },
     "execution_count": 21,
     "metadata": {},
     "output_type": "execute_result"
    }
   ],
   "source": [
    "with model:\n",
    "    # model.reactions.get_by_id('BRANCHED-CHAINAMINOTRANSFERVAL-RXN').bounds = (-1000, 1000)\n",
    "\n",
    "    # For now, supply free glutamate\n",
    "    dmd = model.add_boundary(\n",
    "        model.metabolites.get_by_id(\"GLT[c]\"),\n",
    "        type=\"demand\",\n",
    "        reaction_id=\"EX_GLT\"\n",
    "    )\n",
    "    dmd.bounds = (-10, 0)\n",
    "\n",
    "    sol = model.optimize()\n",
    "sol"
   ]
  },
  {
   "cell_type": "code",
   "execution_count": 22,
   "metadata": {},
   "outputs": [
    {
     "name": "stdout",
     "output_type": "stream",
     "text": [
      "Creating external metabolite PHE[e] and free transport reaction\n",
      "Creating external metabolite ILE[e] and free transport reaction\n",
      "Creating external metabolite L-ALPHA-ALANINE[e] and free transport reaction\n",
      "Creating external metabolite LEU[e] and free transport reaction\n",
      "Creating external metabolite P-AMINO-BENZOATE[e] and free transport reaction\n",
      "Creating external metabolite DEOXYGUANOSINE[e] and free transport reaction\n",
      "Creating external metabolite PRO[e] and free transport reaction\n"
     ]
    },
    {
     "data": {
      "text/plain": [
       "{'glutamic acid': 0.80458210069893,\n",
       " 'phenylalanine': 0.740552304432877,\n",
       " 'valine': 0.7054913413152134,\n",
       " 'isoleucine': 0.7855428752993071,\n",
       " 'alanine': 0.5497592666318084,\n",
       " 'leucine': 0.7896210591926248,\n",
       " 'aspartic acid': 0.4527827264490705,\n",
       " '4-aminobenzoic acid': 0.0,\n",
       " '2′deoxyguanosine': 1.3324486535456785,\n",
       " 'proline': 0.8101985146164496}"
      ]
     },
     "execution_count": 22,
     "metadata": {},
     "output_type": "execute_result"
    }
   ],
   "source": [
    "pro_growth_rates = {}\n",
    "for metname, metid in pro_mets.items():\n",
    "    with model:\n",
    "        try:\n",
    "            met_e = model.metabolites.get_by_id(f\"{metid}[e]\")\n",
    "        except KeyError:\n",
    "            # Create external metabolite, allow to enter the cell\n",
    "            print(f\"Creating external metabolite {metid}[e] and free transport reaction\")\n",
    "            met_c = model.metabolites.get_by_id(f\"{metid}[c]\")\n",
    "            met_e = Metabolite(\n",
    "                id=f\"{metid}[e]\",\n",
    "                name=metname,\n",
    "                formula=met_c.formula,\n",
    "                charge=met_c.charge,\n",
    "                compartment=\"e\",\n",
    "            )\n",
    "            model.add_metabolites([met_e])\n",
    "\n",
    "            # Create the free transport reaction\n",
    "            rxn = Reaction(f\"{metid}tx\")\n",
    "            rxn.name = f\"Free transport of {metname}\"\n",
    "            rxn.bounds = (0, 1000)\n",
    "            rxn.add_metabolites({met_e: -1, met_c: 1})\n",
    "            model.add_reactions([rxn])\n",
    "\n",
    "        # Add the exchange reaction for the metabolite\n",
    "        ex_met = get_or_create_exchange(model, met_e.id)\n",
    "        ex_met.bounds = (-10, 0)\n",
    "\n",
    "        sol = model.optimize()\n",
    "    \n",
    "    pro_growth_rates[metname] = sol.objective_value\n",
    "pro_growth_rates"
   ]
  },
  {
   "cell_type": "code",
   "execution_count": 23,
   "metadata": {},
   "outputs": [
    {
     "data": {
      "text/plain": [
       "180.156162"
      ]
     },
     "execution_count": 23,
     "metadata": {},
     "output_type": "execute_result"
    }
   ],
   "source": [
    "from molmass import Formula\n",
    "\n",
    "Formula(\"C6H12O6\").mass"
   ]
  },
  {
   "cell_type": "code",
   "execution_count": null,
   "metadata": {},
   "outputs": [
    {
     "data": {
      "text/plain": [
       "frozenset({<Reaction EX_VAL at 0x7f4e243e4950>,\n",
       "           <Reaction VALtex at 0x7f4e24246f60>})"
      ]
     },
     "execution_count": 25,
     "metadata": {},
     "output_type": "execute_result"
    }
   ],
   "source": [
    "# Calculate and plot yield coefficients on each substrate\n"
   ]
  },
  {
   "cell_type": "code",
   "execution_count": null,
   "metadata": {},
   "outputs": [],
   "source": []
  }
 ],
 "metadata": {
  "kernelspec": {
   "display_name": "rpom",
   "language": "python",
   "name": "python3"
  },
  "language_info": {
   "codemirror_mode": {
    "name": "ipython",
    "version": 3
   },
   "file_extension": ".py",
   "mimetype": "text/x-python",
   "name": "python",
   "nbconvert_exporter": "python",
   "pygments_lexer": "ipython3",
   "version": "3.12.1"
  }
 },
 "nbformat": 4,
 "nbformat_minor": 2
}
