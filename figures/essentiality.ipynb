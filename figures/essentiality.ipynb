{
 "cells": [
  {
   "cell_type": "code",
   "execution_count": 1,
   "metadata": {},
   "outputs": [],
   "source": [
    "import sys\n",
    "\n",
    "if \"..\" not in sys.path:\n",
    "    sys.path.append(\"..\")"
   ]
  },
  {
   "cell_type": "code",
   "execution_count": 2,
   "metadata": {},
   "outputs": [],
   "source": [
    "import pickle \n",
    "\n",
    "import pandas as pd\n",
    "import numpy as np\n",
    "import matplotlib\n",
    "import matplotlib.pyplot as plt\n",
    "import networkx as nx\n",
    "import cobra\n",
    "\n",
    "from pprint import pp\n",
    "from molmass import Formula\n",
    "from cobra.io import read_sbml_model\n",
    "from experiments.fast_dFBA import ConstantBounds\n",
    "from utils.cobra_utils import get_or_create_exchange\n",
    "from parameters.drawdown import *\n",
    "from plotting.diagnostic import uptakes_and_secretions, plot_pathway, plot_metabolite_fluxes\n",
    "\n",
    "\n",
    "MODEL_FILE = \"../model/Rpom_05.xml\"\n",
    "BIOMASS_ID = \"Rpom_hwa_biomass\"\n",
    "DATA_FILE = \"../data/clean/CUE2/dFBA.pkl\"\n",
    "\n",
    "\n",
    "# Load and set up model\n",
    "model = read_sbml_model(MODEL_FILE)\n",
    "\n",
    "# Set maintenance to 25 mmol/gDW/h\n",
    "atpm = model.reactions.get_by_id(\"ATPM\")\n",
    "atpm.bounds = (25, 25)\n",
    "\n",
    "ex_glc = model.reactions.get_by_id(\"EX_glc\")\n",
    "ex_ace = get_or_create_exchange(model, \"ACET[e]\")"
   ]
  },
  {
   "cell_type": "code",
   "execution_count": 3,
   "metadata": {},
   "outputs": [],
   "source": [
    "df = pd.read_excel(\"../data/raw/growth/essentiality - July 2023.xlsx\")\n",
    "df = df[~df[\"Mutant (yes/no)\"].isna()]\n",
    "df[\"Essential\"] = (df[\"Mutant (yes/no)\"] == \"no\")"
   ]
  },
  {
   "cell_type": "code",
   "execution_count": 4,
   "metadata": {},
   "outputs": [
    {
     "name": "stdout",
     "output_type": "stream",
     "text": [
      "Glucose growth: 0.76\n"
     ]
    }
   ],
   "source": [
    "# Get fluxes when running on glucose, acetate\n",
    "with model:\n",
    "    ex_glc.bounds = (-10, 0)\n",
    "    sol_glc = model.optimize()\n",
    "    mu_glc = sol_glc.objective_value\n",
    "    model.summary()\n",
    "    print(f\"Glucose growth: {sol_glc.objective_value:.2f}\")"
   ]
  },
  {
   "cell_type": "code",
   "execution_count": 5,
   "metadata": {},
   "outputs": [
    {
     "name": "stdout",
     "output_type": "stream",
     "text": [
      "Model has 862 genes\n",
      "Model has 705 genes ID'd by RefSeq locus tags\n",
      "703 genes in the model can be matched to essentiality data by RefSeq locus tag\n"
     ]
    }
   ],
   "source": [
    "# We need to create a mapping from model genes to (index of) data genes\n",
    "model_to_data_genes = {}\n",
    "\n",
    "# Most genes in the model are ID'd by their RefSeq locus tag:\n",
    "print(f\"Model has {len(model.genes)} genes\")\n",
    "\n",
    "matched_by_rs_locus_tag = {}\n",
    "for gene in model.genes:\n",
    "    if \"_RS\" not in gene.id:\n",
    "        continue\n",
    "\n",
    "    match = (df[df[\"RefSeq_locus_tag\"] == gene.id]\n",
    "                if gene.id in df[\"RefSeq_locus_tag\"].values\n",
    "                else None)\n",
    "    if match is not None:\n",
    "        assert len(match) == 1\n",
    "        matched_by_rs_locus_tag[gene] = match.index[0]\n",
    "\n",
    "model_to_data_genes.update(matched_by_rs_locus_tag)\n",
    "print(f\"Model has {len([gene for gene in model.genes if \"_RS\" in gene.id])} genes ID'd by RefSeq locus tags\")\n",
    "print(f\"{len(matched_by_rs_locus_tag)} genes in the model can be matched to essentiality data by RefSeq locus tag\")"
   ]
  },
  {
   "cell_type": "code",
   "execution_count": 6,
   "metadata": {},
   "outputs": [
    {
     "name": "stdout",
     "output_type": "stream",
     "text": [
      "Of the 159 remaining genes not ID'd by RefSeq locus tag, 69 can be matched by locus tag\n"
     ]
    }
   ],
   "source": [
    "# Try locus tag for the remaining genes\n",
    "remaining_genes = {gene for gene in model.genes if gene not in model_to_data_genes}\n",
    "\n",
    "matched_by_locus_tag = {}\n",
    "for gene in remaining_genes:\n",
    "    if gene.id in df[\"locus_tag\"].values:\n",
    "        match = df[df[\"locus_tag\"] == gene.id].index[0]\n",
    "        matched_by_locus_tag[gene] = match\n",
    "\n",
    "model_to_data_genes.update(matched_by_locus_tag)\n",
    "print(f\"Of the {len(remaining_genes)} remaining genes not ID'd by RefSeq locus tag, {len(matched_by_locus_tag)} can be matched by locus tag\")"
   ]
  },
  {
   "cell_type": "code",
   "execution_count": 7,
   "metadata": {},
   "outputs": [
    {
     "name": "stdout",
     "output_type": "stream",
     "text": [
      "G1RHL-2592 matched by position to SPO3411\n",
      "G1RHL-1483 matched by position to SPO1967\n",
      "G1RHL-1876 matched by position to SPO2487\n",
      "G1RHL-24 matched by position to SPO0042\n",
      "G1RHL-1167 matched by position to SPO1565\n",
      "G1RHL-2021 matched by position to SPO2662\n",
      "G1RHL-2048 matched by position to SPO2697\n",
      "G1RHL-793 matched by position to SPO1107\n",
      "G1RHL-2651 matched by position to SPO3482\n",
      "G1RHL-1194 matched by position to SPO1595\n",
      "G1RHL-489 matched by position to SPO0713\n",
      "G1RHL-2727 matched by position to SPO3597\n",
      "G1RHL-2356 matched by position to SPO3089\n",
      "G1RHL-2850 matched by position to SPO3903\n",
      "G1RHL-1974 matched by position to SPO2607\n",
      "G1RHL-2528 matched by position to SPO3327\n",
      "G1RHL-1999 matched by position to SPO2637\n",
      "G1RHL-1193 matched by position to SPO1594\n",
      "G1RHL-2130 matched by position to SPO2806\n",
      "G1RHL-2087 matched by position to SPO2739\n",
      "G1RHL-2244 matched by position to SPO2957\n",
      "G1RHL-1780 matched by position to SPO2370\n",
      "G1RHL-2827 matched by position to SPO3719\n",
      "G1RHL-558 matched by position to SPO0810\n",
      "G1RHL-1050 matched by position to SPO1432\n",
      "G1RHL-1044 matched by position to SPO1422\n",
      "G1RHL-2015 matched by position to SPO2653\n",
      "G1RHL-1303 matched by position to SPO1743\n",
      "G1RHL-2403 matched by position to SPO3152\n",
      "G1RHL-1737 matched by position to SPO2310\n",
      "G1RHL-1795 matched by position to SPO2385\n",
      "G1RHL-2823 matched by position to SPO3715\n",
      "G1RHL-360 matched by position to SPO0540\n",
      "G1RHL-3 matched by position to SPO0007\n",
      "G1RHL-2770 matched by position to SPO3654\n",
      "G1RHL-318 matched by position to SPO0466\n",
      "G1RHL-869 matched by position to SPO1214\n",
      "G1RHL-538 matched by position to SPO0778\n",
      "G1RHL-1474 matched by position to SPO1958\n",
      "G1RHL-775 matched by position to SPO1087\n",
      "G1RHL-1790 matched by position to SPO2380\n",
      "G1RHL-291 matched by position to SPO0435\n",
      "G1RHL-153 matched by position to SPO0231\n",
      "G1RHL-1192 matched by position to SPO1593\n",
      "G1RHL-411 matched by position to SPO0607\n",
      "G1RHL-560 matched by position to SPO0814\n",
      "G1RHL-1511 matched by position to SPO2002\n",
      "G1RHL-2580 matched by position to SPO3399\n",
      "G1RHL-769 matched by position to SPO1079\n",
      "G1RHL-1427 matched by position to SPO1889\n",
      "G1RHL-1564 matched by position to SPO2069\n",
      "G1RHL-1997 matched by position to SPO2634\n",
      "G1RHL-382 matched by position to SPO0563\n",
      "G1RHL-166 matched by position to SPO0260\n",
      "G1RHL-2310 matched by position to SPO3029\n",
      "G1RHL-2707 matched by position to SPO3573\n",
      "G1RHL-1357 matched by position to SPO1806\n",
      "G1RHL-610 matched by position to SPO0872\n",
      "G1RHL-111 matched by position to SPO0166\n",
      "G1RHL-406 matched by position to SPO0601\n",
      "G1RHL-1082 matched by position to SPO1466\n",
      "G1RHL-2581 matched by position to SPO3400\n",
      "G1RHL-2508 matched by position to SPO3306\n",
      "G1RHL-2214 matched by position to SPO2918\n",
      "G1RHL-921 matched by position to SPO1270\n",
      "G1RHL-855 matched by position to SPO1193\n",
      "G1RHL-533 matched by position to SPO0773\n",
      "G1RHL-1029 matched by position to SPO1405\n",
      "G1RHL-518 matched by position to SPO0758\n",
      "G1RHL-98 matched by position to SPO0147\n",
      "G1RHL-1662 matched by position to SPO2212\n",
      "G1RHL-604 matched by position to SPO0866\n",
      "G1RHL-1661 matched by position to SPO2211\n",
      "G1RHL-2865 matched by position to SPO3771\n",
      "74 out of 90 genes matched by position,\n",
      "\tleaving 16 genes unmatched.\n"
     ]
    }
   ],
   "source": [
    "remaining_genes = {gene for gene in model.genes if gene not in model_to_data_genes}\n",
    "lefts = [float(gene.annotation[\"left-end-position\"]) for gene in remaining_genes]\n",
    "rights = [float(gene.annotation[\"right-end-position\"]) for gene in remaining_genes]\n",
    "\n",
    "# Try to match by position for the remaining genes\n",
    "matched_by_position = {}\n",
    "for gene, left, right in zip(remaining_genes, lefts, rights):\n",
    "    matches = df[((df[\"start\"] == left) & (df[\"stop\"] == right)) \n",
    "                 | (df[\"start\"] == right) & (df[\"stop\"] == left)]\n",
    "    if len(matches) == 1:\n",
    "        print(f\"{gene} matched by position to {matches['locus_tag'].values[0]}\")\n",
    "        matched_by_position[gene] = matches.index[0]\n",
    "\n",
    "model_to_data_genes.update(matched_by_position)\n",
    "\n",
    "print(f\"{len(matched_by_position)} out of {len(remaining_genes)} genes matched by position,\")\n",
    "print(f\"\\tleaving {len(remaining_genes) - len(matched_by_position)} genes unmatched.\")"
   ]
  },
  {
   "cell_type": "code",
   "execution_count": 8,
   "metadata": {},
   "outputs": [
    {
     "name": "stdout",
     "output_type": "stream",
     "text": [
      "Remaining genes:\n",
      "G1RHL-3127 ({'source': 'Ruegeria pomeroyi DSS-3', 'left-end-position': '4378836', 'right-end-position': '4380011', 'replicon': 'DSS3'})\n",
      "G1RHL-3144 ({'source': 'Ruegeria pomeroyi DSS-3', 'left-end-position': '4401637', 'right-end-position': '4402578', 'replicon': 'DSS3'})\n",
      "SPO_RS01365 ({'source': 'Ruegeria pomeroyi DSS-3 representative genome', 'synonyms': \"['RS01365']\", 'left-end-position': '285959', 'right-end-position': '286399', 'replicon': 'NC_003911'})\n",
      "G1RHL-2947 ({'source': 'Ruegeria pomeroyi DSS-3', 'left-end-position': '4109488', 'right-end-position': '4110285', 'replicon': 'DSS3'})\n",
      "G1RHL-3161 ({'source': 'Ruegeria pomeroyi DSS-3', 'left-end-position': '4424979', 'right-end-position': '4426991', 'replicon': 'DSS3'})\n",
      "G1RHL-3123 ({'source': 'Ruegeria pomeroyi DSS-3', 'left-end-position': '4374253', 'right-end-position': '4375176', 'replicon': 'DSS3'})\n",
      "G1RHL-3135 ({'source': 'Ruegeria pomeroyi DSS-3', 'left-end-position': '4388978', 'right-end-position': '4389739', 'replicon': 'DSS3'})\n",
      "G1RHL-3265 ({'source': 'Ruegeria pomeroyi DSS-3', 'left-end-position': '4561902', 'right-end-position': '4564196', 'replicon': 'DSS3'})\n",
      "G1RHL-3100 ({'source': 'Ruegeria pomeroyi DSS-3', 'left-end-position': '4322246', 'right-end-position': '4323832', 'replicon': 'DSS3'})\n",
      "G1RHL-2980 ({'source': 'Ruegeria pomeroyi DSS-3', 'left-end-position': '4172721', 'right-end-position': '4173503', 'replicon': 'DSS3'})\n",
      "G1RHL-3165 ({'source': 'Ruegeria pomeroyi DSS-3', 'left-end-position': '4433955', 'right-end-position': '4434638', 'replicon': 'DSS3'})\n",
      "G1RHL-3261 ({'source': 'Ruegeria pomeroyi DSS-3', 'left-end-position': '4558688', 'right-end-position': '4559830', 'replicon': 'DSS3'})\n",
      "G1RHL-2978 ({'source': 'Ruegeria pomeroyi DSS-3', 'left-end-position': '4169333', 'right-end-position': '4170031', 'replicon': 'DSS3'})\n",
      "SPO_RS19330 ({'source': 'Ruegeria pomeroyi DSS-3 representative genome', 'synonyms': \"['RS19330']\", 'left-end-position': '4023398', 'right-end-position': '4023892', 'replicon': 'NC_003911'})\n",
      "G1RHL-3262 ({'source': 'Ruegeria pomeroyi DSS-3', 'left-end-position': '4559883', 'right-end-position': '4560686', 'replicon': 'DSS3'})\n",
      "G1RHL-3056 ({'source': 'Ruegeria pomeroyi DSS-3', 'left-end-position': '4264093', 'right-end-position': '4265283', 'replicon': 'DSS3'})\n"
     ]
    }
   ],
   "source": [
    "print(\"Remaining genes:\")\n",
    "remaining_genes = set(remaining_genes) - set(matched_by_position.keys())\n",
    "for gene in remaining_genes:\n",
    "    print(f\"{gene.id} ({gene.annotation})\")"
   ]
  },
  {
   "cell_type": "code",
   "execution_count": 9,
   "metadata": {},
   "outputs": [
    {
     "name": "stderr",
     "output_type": "stream",
     "text": [
      " 32%|███▏      | 267/846 [00:11<00:25, 22.40it/s]/home/mica/.pyenv/versions/3.12.1/envs/rpom/lib/python3.12/site-packages/cobra/util/solver.py:554: UserWarning: Solver status is 'infeasible'.\n",
      "  warn(f\"Solver status is '{status}'.\", UserWarning)\n",
      "100%|██████████| 846/846 [00:34<00:00, 24.24it/s]\n"
     ]
    },
    {
     "data": {
      "text/plain": [
       "(array([118.,   0.,   0.,   0.,   0.,   0.,   1.,   0.,   3., 724.]),\n",
       " array([-7.08097061e-12,  1.00000000e-01,  2.00000000e-01,  3.00000000e-01,\n",
       "         4.00000000e-01,  5.00000000e-01,  6.00000000e-01,  7.00000000e-01,\n",
       "         8.00000000e-01,  9.00000000e-01,  1.00000000e+00]),\n",
       " <BarContainer object of 10 artists>)"
      ]
     },
     "execution_count": 9,
     "metadata": {},
     "output_type": "execute_result"
    },
    {
     "data": {
      "image/png": "[encoded data removed]",
      "text/plain": [
       "<Figure size 640x480 with 1 Axes>"
      ]
     },
     "metadata": {},
     "output_type": "display_data"
    }
   ],
   "source": [
    "# Time to do the essentiality tests!!!\n",
    "from tqdm import tqdm\n",
    "\n",
    "with model:\n",
    "    ex_glc.bounds = (-10, 0)\n",
    "    sol = model.optimize()\n",
    "    baseline = sol.objective_value\n",
    "\n",
    "growth_rates = []\n",
    "essentialities = []\n",
    "for gene, index in tqdm(model_to_data_genes.items()):\n",
    "    # Retrieve whether the gene is experimentally essential\n",
    "    essential = df.loc[index][\"Essential\"]\n",
    "    essentialities.append(essential)\n",
    "\n",
    "    # Get model growth rate\n",
    "    with model:\n",
    "        ex_glc.bounds = (-10, 0)\n",
    "        gene.knock_out()\n",
    "        sol = model.optimize()\n",
    "        growth_rates.append(sol.objective_value)\n",
    "growth_rates = np.array(growth_rates)\n",
    "\n",
    "fig, ax = plt.subplots()\n",
    "ax.hist(growth_rates / baseline)"
   ]
  },
  {
   "cell_type": "code",
   "execution_count": 10,
   "metadata": {},
   "outputs": [
    {
     "data": {
      "image/png": "[encoded data removed]",
      "text/plain": [
       "<Figure size 300x300 with 1 Axes>"
      ]
     },
     "metadata": {},
     "output_type": "display_data"
    }
   ],
   "source": [
    "from collections import Counter\n",
    "\n",
    "model_essential = (growth_rates < 1e-6)\n",
    "\n",
    "fig, ax = plt.subplots()\n",
    "for (model_x, data_y), count in Counter(zip(model_essential, essentialities)).items():\n",
    "    ax.text(model_x/2 + 0.25,\n",
    "            data_y/2 + 0.25,\n",
    "            str(count),\n",
    "            ha=\"center\",\n",
    "            va=\"center\")\n",
    "\n",
    "ax.vlines(0.5, 0, 1, \"k\", lw=1)\n",
    "ax.hlines(0.5, 0, 1, \"k\", lw=1)\n",
    "ax.set_xlim(0, 1)\n",
    "ax.set_ylim(0, 1)\n",
    "ax.set_xticks([.25, .75], [\"Non-essential\", \"Essential\"])\n",
    "ax.set_yticks([.25, .75], [\"Non-essential\", \"Essential\"])\n",
    "ax.set_xlabel(\"Model\")\n",
    "ax.set_ylabel(\"Experiment\")\n",
    "\n",
    "fig.set_size_inches(3, 3)"
   ]
  },
  {
   "cell_type": "code",
   "execution_count": 15,
   "metadata": {},
   "outputs": [
    {
     "name": "stderr",
     "output_type": "stream",
     "text": [
      "  0%|          | 0/1801 [00:00<?, ?it/s]"
     ]
    },
    {
     "name": "stderr",
     "output_type": "stream",
     "text": [
      " 12%|█▏        | 214/1801 [00:05<00:34, 45.63it/s]/home/mica/.pyenv/versions/3.12.1/envs/rpom/lib/python3.12/site-packages/cobra/util/solver.py:554: UserWarning: Solver status is 'infeasible'.\n",
      "  warn(f\"Solver status is '{status}'.\", UserWarning)\n",
      "100%|██████████| 1801/1801 [00:50<00:00, 35.49it/s]\n"
     ]
    }
   ],
   "source": [
    "# Now, let's run a reaction essentiality test, so that we can relate the gene essentiality to the reaction essentiality\n",
    "reaction_essentialities = []\n",
    "for reaction in tqdm(model.reactions):\n",
    "    with model:\n",
    "        ex_glc.bounds = (-10, 0)\n",
    "        reaction.knock_out()\n",
    "        sol = model.optimize()\n",
    "        reaction_essentialities.append(sol.objective_value)\n",
    "reaction_essentialities = np.array(reaction_essentialities)\n",
    "reaction_essentialities = reaction_essentialities < 1e-6\n",
    "reaction_essentialities = dict(zip(model.reactions, reaction_essentialities))"
   ]
  },
  {
   "cell_type": "code",
   "execution_count": 31,
   "metadata": {},
   "outputs": [
    {
     "data": {
      "image/png": "[encoded data removed]",
      "text/plain": [
       "<Figure size 300x300 with 1 Axes>"
      ]
     },
     "metadata": {},
     "output_type": "display_data"
    }
   ],
   "source": [
    "# Now we can relate the gene essentiality to the reaction essentiality\n",
    "gene_reaction_categories = Counter()\n",
    "strange = []\n",
    "for gene, essentiality in zip(model_to_data_genes, model_essential):\n",
    "    reactions = gene.reactions\n",
    "    gene_reaction_essentialities = [reaction_essentialities[reaction] for reaction in reactions]\n",
    "    has_essential_reactions = any(gene_reaction_essentialities)\n",
    "\n",
    "    gene_reaction_categories[(essentiality, has_essential_reactions)] += 1\n",
    "\n",
    "    if essentiality and not has_essential_reactions:\n",
    "        strange.append(gene)\n",
    "\n",
    "fig, ax = plt.subplots()\n",
    "for (model_x, data_y), count in gene_reaction_categories.items():\n",
    "    ax.text(model_x/2 + 0.25,\n",
    "            data_y/2 + 0.25,\n",
    "            str(count),\n",
    "            ha=\"center\",\n",
    "            va=\"center\")\n",
    "ax.vlines(0.5, 0, 1, \"k\", lw=1)\n",
    "ax.hlines(0.5, 0, 1, \"k\", lw=1)\n",
    "ax.set_xlim(0, 1)\n",
    "ax.set_ylim(0, 1)\n",
    "ax.set_xticks([.25, .75], [\"Non-essential\", \"Essential\"])\n",
    "ax.set_yticks([.25, .75], [\"No essential reactions\", \"Has essential reactions\"])\n",
    "ax.set_xlabel(\"Gene\")\n",
    "ax.set_ylabel(\"Reactions\")\n",
    "fig.set_size_inches(3, 3)\n"
   ]
  },
  {
   "cell_type": "code",
   "execution_count": 30,
   "metadata": {},
   "outputs": [
    {
     "name": "stdout",
     "output_type": "stream",
     "text": [
      "SPO_RS18880\n",
      "====================\n",
      "\tRXN-15200 (False)\n",
      "\tCYSTEINE-AMINOTRANSFERASE-RXN (False)\n",
      "\tRXN-10814 (False)\n",
      "\tASPAMINOTRANS-RXN (False)\n",
      "\t2.6.1.57-RXN-PHE/2-KETOGLUTARATE//PHENYL-PYRUVATE/GLT.41. (False)\n",
      "\tRXN-11737 (False)\n",
      "\tTRYPTOPHAN-AMINOTRANSFERASE-RXN (False)\n",
      "\tRXN-13697 (False)\n",
      "\tTYROSINE-AMINOTRANSFERASE-RXN (False)\n",
      "SPO_RS06955\n",
      "====================\n",
      "\t5.4.2.10-RXN (False)\n",
      "\t5.4.2.10-RXN-CPD-13469//GLUCOSAMINE-1P.26. (False)\n",
      "SPO_RS04500\n",
      "====================\n",
      "\tAIRCARBOXY-RXN (False)\n",
      "\tRXN0-743 (False)\n",
      "SPO_RS08825\n",
      "====================\n",
      "\tHOMOSERDEHYDROG-RXN-HOMO-SER/NADP//L-ASPARTATE-SEMIALDEHYDE/NADPH/PROTON.53. (False)\n",
      "\tHOMOSERDEHYDROG-RXN-HOMO-SER/NAD//L-ASPARTATE-SEMIALDEHYDE/NADH/PROTON.51. (False)\n",
      "SPO_RS08800\n",
      "====================\n",
      "\tHOMSUCTRAN-RXN (False)\n",
      "\tHOMOSERINE-O-ACETYLTRANSFERASE-RXN (False)\n",
      "SPO_RS16245\n",
      "====================\n",
      "\tRXN0-884 (False)\n",
      "\tISPH2-RXN (False)\n",
      "SPO_RS02155\n",
      "====================\n",
      "\tNAD-SYNTH-NH3-RXN (False)\n",
      "\tNAD-SYNTH-GLN-RXN (False)\n",
      "SPO_RS16005\n",
      "====================\n",
      "\tPRPPSYN-RXN-CPD-16551/ATP//PRPP/AMP/PROTON.31. (False)\n",
      "\tPRPPSYN-RXN-CPD-15895/ATP//PRPP/AMP/PROTON.31. (False)\n",
      "\tPRPPSYN-RXN-CPD-15318/ATP//PRPP/AMP/PROTON.31. (False)\n",
      "\tPRPPSYN-RXN (False)\n",
      "SPO_RS01380\n",
      "====================\n",
      "\tRXN-14107 (False)\n",
      "\tRXN-18604 (False)\n",
      "\t1.10.2.2-RXN (False)\n"
     ]
    }
   ],
   "source": [
    "for gene in strange:\n",
    "    print(f\"{gene.id}\\n====================\")\n",
    "    for reaction in gene.reactions:\n",
    "        print(f\"\\t{reaction.id} ({reaction_essentialities[reaction]})\")"
   ]
  },
  {
   "cell_type": "code",
   "execution_count": 26,
   "metadata": {},
   "outputs": [
    {
     "name": "stdout",
     "output_type": "stream",
     "text": [
      "0.7622464363356171\n"
     ]
    }
   ],
   "source": [
    "# Check SPO_RS14555\n",
    "gene = model.genes.get_by_id(\"SPO_RS14555\")\n",
    "with model:\n",
    "    ex_glc.bounds = (-10, 0)\n",
    "    gene.knock_out()\n",
    "    sol = model.optimize()\n",
    "    print(sol.objective_value)"
   ]
  },
  {
   "cell_type": "code",
   "execution_count": null,
   "metadata": {},
   "outputs": [],
   "source": []
  }
 ],
 "metadata": {
  "kernelspec": {
   "display_name": "rpom",
   "language": "python",
   "name": "python3"
  },
  "language_info": {
   "codemirror_mode": {
    "name": "ipython",
    "version": 3
   },
   "file_extension": ".py",
   "mimetype": "text/x-python",
   "name": "python",
   "nbconvert_exporter": "python",
   "pygments_lexer": "ipython3",
   "version": "3.12.1"
  }
 },
 "nbformat": 4,
 "nbformat_minor": 2
}
