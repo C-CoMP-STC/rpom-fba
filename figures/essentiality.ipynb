{
 "cells": [
  {
   "cell_type": "code",
   "execution_count": 1,
   "metadata": {},
   "outputs": [],
   "source": [
    "import sys\n",
    "\n",
    "if \"..\" not in sys.path:\n",
    "    sys.path.append(\"..\")"
   ]
  },
  {
   "cell_type": "code",
   "execution_count": 2,
   "metadata": {},
   "outputs": [
    {
     "name": "stdout",
     "output_type": "stream",
     "text": [
      "Scaling...\n",
      " A: min|aij| =  1.000e+00  max|aij| =  1.000e+00  ratio =  1.000e+00\n",
      "Problem data seem to be well scaled\n"
     ]
    }
   ],
   "source": [
    "import pickle \n",
    "\n",
    "import pandas as pd\n",
    "import numpy as np\n",
    "import matplotlib\n",
    "import matplotlib.pyplot as plt\n",
    "import networkx as nx\n",
    "import cobra\n",
    "\n",
    "from pprint import pp\n",
    "from molmass import Formula\n",
    "from cobra.io import read_sbml_model\n",
    "from experiments.fast_dFBA import ConstantBounds\n",
    "from utils.cobra_utils import get_or_create_exchange\n",
    "from parameters.drawdown import *\n",
    "from plotting.diagnostic import uptakes_and_secretions, plot_pathway, plot_metabolite_fluxes\n",
    "\n",
    "\n",
    "MODEL_FILE = \"../model/Rpom_05.xml\"\n",
    "BIOMASS_ID = \"Rpom_hwa_biomass\"\n",
    "DATA_FILE = \"../data/clean/CUE2/dFBA.pkl\"\n",
    "\n",
    "\n",
    "# Load and set up model\n",
    "model = read_sbml_model(MODEL_FILE)\n",
    "\n",
    "# Set maintenance to 25 mmol/gDW/h\n",
    "atpm = model.reactions.get_by_id(\"ATPM\")\n",
    "atpm.bounds = (25, 25)\n",
    "\n",
    "ex_glc = model.reactions.get_by_id(\"EX_glc\")\n",
    "ex_ace = get_or_create_exchange(model, \"ACET[e]\")"
   ]
  },
  {
   "cell_type": "code",
   "execution_count": 21,
   "metadata": {},
   "outputs": [],
   "source": [
    "df = pd.read_excel(\"../data/raw/growth/essentiality - July 2023.xlsx\")\n",
    "df = df[~df[\"Mutant (yes/no)\"].isna()]\n",
    "df[\"Essential\"] = (df[\"Mutant (yes/no)\"] == \"no\")"
   ]
  },
  {
   "cell_type": "code",
   "execution_count": 23,
   "metadata": {},
   "outputs": [
    {
     "name": "stdout",
     "output_type": "stream",
     "text": [
      "Glucose growth: 0.72\n"
     ]
    }
   ],
   "source": [
    "# Get fluxes when running on glucose, acetate\n",
    "with model:\n",
    "    ex_glc.bounds = (-10, 0)\n",
    "    sol_glc = model.optimize()\n",
    "    mu_glc = sol_glc.objective_value\n",
    "    model.summary()\n",
    "    print(f\"Glucose growth: {sol_glc.objective_value:.2f}\")"
   ]
  },
  {
   "cell_type": "code",
   "execution_count": 49,
   "metadata": {},
   "outputs": [
    {
     "data": {
      "text/plain": [
       "frozenset({<Gene G1G48-1850 at 0x7f8441e4cdc0>,\n",
       "           <Gene G1G48-1997 at 0x7f8441e4cd90>,\n",
       "           <Gene G1G48-2841 at 0x7f8441e4cd60>,\n",
       "           <Gene G1G48-4366 at 0x7f8441e4cdf0>})"
      ]
     },
     "execution_count": 49,
     "metadata": {},
     "output_type": "execute_result"
    }
   ],
   "source": [
    "model.reactions.get_by_id(\"ACETATE--COA-LIGASE-RXN\").genes"
   ]
  },
  {
   "cell_type": "code",
   "execution_count": 46,
   "metadata": {},
   "outputs": [
    {
     "data": {
      "text/plain": [
       "Counter({True: 1207, False: 43})"
      ]
     },
     "execution_count": 46,
     "metadata": {},
     "output_type": "execute_result"
    }
   ],
   "source": [
    "import collections\n",
    "\n",
    "collections.Counter([gene.id.startswith(\"G1G48\") for gene in model.genes])\n",
    "# collections.Counter([gene.name == gene.id for gene in model.genes])"
   ]
  }
 ],
 "metadata": {
  "kernelspec": {
   "display_name": "rpom",
   "language": "python",
   "name": "python3"
  },
  "language_info": {
   "codemirror_mode": {
    "name": "ipython",
    "version": 3
   },
   "file_extension": ".py",
   "mimetype": "text/x-python",
   "name": "python",
   "nbconvert_exporter": "python",
   "pygments_lexer": "ipython3",
   "version": "3.10.4"
  }
 },
 "nbformat": 4,
 "nbformat_minor": 2
}
