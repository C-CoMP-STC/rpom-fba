{
 "cells": [
  {
   "cell_type": "code",
   "execution_count": 16,
   "metadata": {},
   "outputs": [],
   "source": [
    "import sys\n",
    "\n",
    "if \"..\" not in sys.path:\n",
    "    sys.path.append(\"..\")"
   ]
  },
  {
   "cell_type": "code",
   "execution_count": 17,
   "metadata": {},
   "outputs": [
    {
     "name": "stderr",
     "output_type": "stream",
     "text": [
      "https://identifiers.org/stem/ does not conform to 'http(s)://identifiers.org/collection/id' or'http(s)://identifiers.org/COLLECTION:id\n",
      "https://identifiers.org/stem/ does not conform to 'http(s)://identifiers.org/collection/id' or'http(s)://identifiers.org/COLLECTION:id\n",
      "https://identifiers.org/stem/ does not conform to 'http(s)://identifiers.org/collection/id' or'http(s)://identifiers.org/COLLECTION:id\n",
      "https://identifiers.org/stem/ does not conform to 'http(s)://identifiers.org/collection/id' or'http(s)://identifiers.org/COLLECTION:id\n",
      "https://identifiers.org/stem/ does not conform to 'http(s)://identifiers.org/collection/id' or'http(s)://identifiers.org/COLLECTION:id\n",
      "https://identifiers.org/stem/ does not conform to 'http(s)://identifiers.org/collection/id' or'http(s)://identifiers.org/COLLECTION:id\n",
      "https://identifiers.org/stem/ does not conform to 'http(s)://identifiers.org/collection/id' or'http(s)://identifiers.org/COLLECTION:id\n",
      "https://identifiers.org/stem/ does not conform to 'http(s)://identifiers.org/collection/id' or'http(s)://identifiers.org/COLLECTION:id\n",
      "https://identifiers.org/stem/ does not conform to 'http(s)://identifiers.org/collection/id' or'http(s)://identifiers.org/COLLECTION:id\n",
      "https://identifiers.org/stem/ does not conform to 'http(s)://identifiers.org/collection/id' or'http(s)://identifiers.org/COLLECTION:id\n",
      "https://identifiers.org/stem/ does not conform to 'http(s)://identifiers.org/collection/id' or'http(s)://identifiers.org/COLLECTION:id\n",
      "https://identifiers.org/stem/ does not conform to 'http(s)://identifiers.org/collection/id' or'http(s)://identifiers.org/COLLECTION:id\n",
      "https://identifiers.org/stem/ does not conform to 'http(s)://identifiers.org/collection/id' or'http(s)://identifiers.org/COLLECTION:id\n",
      "https://identifiers.org/stem/ does not conform to 'http(s)://identifiers.org/collection/id' or'http(s)://identifiers.org/COLLECTION:id\n",
      "https://identifiers.org/stem/ does not conform to 'http(s)://identifiers.org/collection/id' or'http(s)://identifiers.org/COLLECTION:id\n",
      "https://identifiers.org/stem/ does not conform to 'http(s)://identifiers.org/collection/id' or'http(s)://identifiers.org/COLLECTION:id\n",
      "https://identifiers.org/stem/ does not conform to 'http(s)://identifiers.org/collection/id' or'http(s)://identifiers.org/COLLECTION:id\n",
      "https://identifiers.org/stem/ does not conform to 'http(s)://identifiers.org/collection/id' or'http(s)://identifiers.org/COLLECTION:id\n",
      "https://identifiers.org/stem/ does not conform to 'http(s)://identifiers.org/collection/id' or'http(s)://identifiers.org/COLLECTION:id\n",
      "https://identifiers.org/stem/ does not conform to 'http(s)://identifiers.org/collection/id' or'http(s)://identifiers.org/COLLECTION:id\n",
      "https://identifiers.org/stem/ does not conform to 'http(s)://identifiers.org/collection/id' or'http(s)://identifiers.org/COLLECTION:id\n"
     ]
    }
   ],
   "source": [
    "import pickle \n",
    "\n",
    "import pandas as pd\n",
    "import numpy as np\n",
    "import matplotlib\n",
    "import matplotlib.pyplot as plt\n",
    "import networkx as nx\n",
    "import cobra\n",
    "\n",
    "from pprint import pp\n",
    "from molmass import Formula\n",
    "from cobra.io import read_sbml_model\n",
    "from experiments.fast_dFBA import ConstantBounds\n",
    "from utils.cobra_utils import get_or_create_exchange\n",
    "from parameters.drawdown import *\n",
    "from plotting.diagnostic import uptakes_and_secretions, plot_pathway, plot_metabolite_fluxes\n",
    "\n",
    "\n",
    "MODEL_FILE = \"../model/Rpom_05.xml\"\n",
    "BIOMASS_ID = \"Rpom_hwa_biomass\"\n",
    "DATA_FILE = \"../data/clean/CUE2/dFBA.pkl\"\n",
    "\n",
    "\n",
    "# Load and set up model\n",
    "model = read_sbml_model(MODEL_FILE)\n",
    "\n",
    "# Set maintenance to 25 mmol/gDW/h\n",
    "atpm = model.reactions.get_by_id(\"ATPM\")\n",
    "# atpm.bounds = (25, 25)\n",
    "\n",
    "ex_glc = model.reactions.get_by_id(\"EX_glc\")\n",
    "ex_ace = get_or_create_exchange(model, \"ACET[e]\")"
   ]
  },
  {
   "cell_type": "code",
   "execution_count": 18,
   "metadata": {},
   "outputs": [],
   "source": [
    "df = pd.read_excel(\"../data/raw/growth/essentiality - July 2023.xlsx\")\n",
    "df = df[~df[\"Mutant (yes/no)\"].isna()]\n",
    "df[\"Essential\"] = (df[\"Mutant (yes/no)\"] == \"no\")"
   ]
  },
  {
   "cell_type": "code",
   "execution_count": 19,
   "metadata": {},
   "outputs": [
    {
     "name": "stdout",
     "output_type": "stream",
     "text": [
      "Glucose growth: 0.98\n"
     ]
    }
   ],
   "source": [
    "# Get fluxes when running on glucose, acetate\n",
    "with model:\n",
    "    ex_glc.bounds = (-10, 0)\n",
    "    sol_glc = model.optimize()\n",
    "    mu_glc = sol_glc.objective_value\n",
    "    model.summary()\n",
    "    print(f\"Glucose growth: {sol_glc.objective_value:.2f}\")"
   ]
  },
  {
   "cell_type": "code",
   "execution_count": 20,
   "metadata": {},
   "outputs": [
    {
     "name": "stdout",
     "output_type": "stream",
     "text": [
      "Model has 904 genes\n",
      "Model has 171 genes ID'd by RefSeq locus tags\n",
      "170 genes in the model can be matched to essentiality data by RefSeq locus tag\n"
     ]
    }
   ],
   "source": [
    "# We need to create a mapping from model genes to (index of) data genes\n",
    "model_to_data_genes = {}\n",
    "\n",
    "# Most genes in the model are ID'd by their RefSeq locus tag:\n",
    "print(f\"Model has {len(model.genes)} genes\")\n",
    "\n",
    "matched_by_rs_locus_tag = {}\n",
    "for gene in model.genes:\n",
    "    if \"_RS\" not in gene.id:\n",
    "        continue\n",
    "\n",
    "    match = (df[df[\"RefSeq_locus_tag\"] == gene.id]\n",
    "                if gene.id in df[\"RefSeq_locus_tag\"].values\n",
    "                else None)\n",
    "    if match is not None:\n",
    "        assert len(match) == 1\n",
    "        matched_by_rs_locus_tag[gene] = match.index[0]\n",
    "\n",
    "model_to_data_genes.update(matched_by_rs_locus_tag)\n",
    "print(f\"Model has {len([gene for gene in model.genes if \"_RS\" in gene.id])} genes ID'd by RefSeq locus tags\")\n",
    "print(f\"{len(matched_by_rs_locus_tag)} genes in the model can be matched to essentiality data by RefSeq locus tag\")"
   ]
  },
  {
   "cell_type": "code",
   "execution_count": 21,
   "metadata": {},
   "outputs": [
    {
     "name": "stdout",
     "output_type": "stream",
     "text": [
      "Of the 734 remaining genes not ID'd by RefSeq locus tag, 503 can be matched by locus tag\n"
     ]
    }
   ],
   "source": [
    "# Try locus tag for the remaining genes\n",
    "remaining_genes = {gene for gene in model.genes if gene not in model_to_data_genes}\n",
    "\n",
    "matched_by_locus_tag = {}\n",
    "for gene in remaining_genes:\n",
    "    if gene.id in df[\"locus_tag\"].values:\n",
    "        match = df[df[\"locus_tag\"] == gene.id].index[0]\n",
    "        matched_by_locus_tag[gene] = match\n",
    "\n",
    "model_to_data_genes.update(matched_by_locus_tag)\n",
    "print(f\"Of the {len(remaining_genes)} remaining genes not ID'd by RefSeq locus tag, {len(matched_by_locus_tag)} can be matched by locus tag\")"
   ]
  },
  {
   "cell_type": "code",
   "execution_count": 22,
   "metadata": {},
   "outputs": [
    {
     "name": "stdout",
     "output_type": "stream",
     "text": [
      "G1RHL-1817 matched by position to SPO2414\n",
      "G1RHL-1475 matched by position to SPO1959\n",
      "G1RHL-689 matched by position to SPO0978\n",
      "G1RHL-382 matched by position to SPO0563\n",
      "G1RHL-2406 matched by position to SPO3156\n",
      "G1RHL-1887 matched by position to SPO2505\n",
      "G1RHL-2727 matched by position to SPO3597\n",
      "G1RHL-590 matched by position to SPO0846\n",
      "G1RHL-1483 matched by position to SPO1967\n",
      "G1RHL-2770 matched by position to SPO3654\n",
      "G1RHL-98 matched by position to SPO0147\n",
      "G1RHL-602 matched by position to SPO0864\n",
      "G1RHL-2411 matched by position to SPO3168\n",
      "G1RHL-2198 matched by position to SPO2899\n",
      "G1RHL-553 matched by position to SPO0800\n",
      "G1RHL-985 matched by position to SPO1352\n",
      "G1RHL-2178 matched by position to SPO2864\n",
      "G1RHL-1876 matched by position to SPO2487\n",
      "G1RHL-465 matched by position to SPO0678\n",
      "G1RHL-539 matched by position to SPO0784\n",
      "G1RHL-1614 matched by position to SPO2141\n",
      "G1RHL-318 matched by position to SPO0466\n",
      "G1RHL-1194 matched by position to SPO1595\n",
      "G1RHL-1268 matched by position to SPO1696\n",
      "G1RHL-1662 matched by position to SPO2212\n",
      "G1RHL-1919 matched by position to SPO2541\n",
      "G1RHL-1790 matched by position to SPO2380\n",
      "G1RHL-3 matched by position to SPO0007\n",
      "G1RHL-654 matched by position to SPO0932\n",
      "G1RHL-688 matched by position to SPO0977\n",
      "G1RHL-1193 matched by position to SPO1594\n",
      "G1RHL-111 matched by position to SPO0166\n",
      "G1RHL-2048 matched by position to SPO2697\n",
      "G1RHL-2087 matched by position to SPO2739\n",
      "G1RHL-1780 matched by position to SPO2370\n",
      "G1RHL-855 matched by position to SPO1193\n",
      "G1RHL-411 matched by position to SPO0607\n",
      "G1RHL-2682 matched by position to SPO3539\n",
      "G1RHL-153 matched by position to SPO0231\n",
      "G1RHL-1661 matched by position to SPO2211\n",
      "G1RHL-2021 matched by position to SPO2662\n",
      "G1RHL-2651 matched by position to SPO3482\n",
      "G1RHL-15 matched by position to SPO0030\n",
      "G1RHL-2865 matched by position to SPO3771\n",
      "G1RHL-183 matched by position to SPO0284\n",
      "G1RHL-2564 matched by position to SPO3380\n",
      "G1RHL-1999 matched by position to SPO2637\n",
      "G1RHL-1303 matched by position to SPO1743\n",
      "G1RHL-2313 matched by position to SPO3035\n",
      "G1RHL-2418 matched by position to SPO3176\n",
      "G1RHL-2263 matched by position to SPO2978\n",
      "G1RHL-2015 matched by position to SPO2653\n",
      "G1RHL-489 matched by position to SPO0713\n",
      "G1RHL-2214 matched by position to SPO2918\n",
      "G1RHL-2467 matched by position to SPO3252\n",
      "G1RHL-2843 matched by position to SPO3739\n",
      "G1RHL-992 matched by position to SPO1362\n",
      "G1RHL-2905 matched by position to SPO3832\n",
      "G1RHL-1712 matched by position to SPO2272\n",
      "G1RHL-2190 matched by position to SPO2885\n",
      "G1RHL-2243 matched by position to SPO2956\n",
      "G1RHL-1326 matched by position to SPO1774\n",
      "G1RHL-538 matched by position to SPO0778\n",
      "G1RHL-921 matched by position to SPO1270\n",
      "G1RHL-1167 matched by position to SPO1565\n",
      "G1RHL-2919 matched by position to SPO3851\n",
      "G1RHL-2850 matched by position to SPO3903\n",
      "G1RHL-1552 matched by position to SPO2056\n",
      "G1RHL-681 matched by position to SPO0967\n",
      "G1RHL-2900 matched by position to SPO3821\n",
      "G1RHL-1102 matched by position to SPO1489\n",
      "G1RHL-769 matched by position to SPO1079\n",
      "G1RHL-257 matched by position to SPO0385\n",
      "G1RHL-1885 matched by position to SPO2502\n",
      "G1RHL-2356 matched by position to SPO3089\n",
      "G1RHL-2581 matched by position to SPO3400\n",
      "G1RHL-2130 matched by position to SPO2806\n",
      "G1RHL-2110 matched by position to SPO2768\n",
      "G1RHL-793 matched by position to SPO1107\n",
      "G1RHL-242 matched by position to SPO0368\n",
      "G1RHL-1345 matched by position to SPO1794\n",
      "G1RHL-1107 matched by position to SPO1494\n",
      "G1RHL-533 matched by position to SPO0773\n",
      "G1RHL-2589 matched by position to SPO3408\n",
      "G1RHL-1329 matched by position to SPO1777\n",
      "G1RHL-1180 matched by position to SPO1581\n",
      "G1RHL-2609 matched by position to SPO3429\n",
      "G1RHL-2592 matched by position to SPO3411\n",
      "G1RHL-2310 matched by position to SPO3029\n",
      "G1RHL-1044 matched by position to SPO1422\n",
      "G1RHL-604 matched by position to SPO0866\n",
      "G1RHL-518 matched by position to SPO0758\n",
      "G1RHL-2903 matched by position to SPO3829\n",
      "G1RHL-2403 matched by position to SPO3152\n",
      "G1RHL-791 matched by position to SPO1105\n",
      "G1RHL-558 matched by position to SPO0810\n",
      "G1RHL-2312 matched by position to SPO3034\n",
      "G1RHL-2305 matched by position to SPO3024\n",
      "G1RHL-2244 matched by position to SPO2957\n",
      "G1RHL-271 matched by position to SPO0405\n",
      "G1RHL-2580 matched by position to SPO3399\n",
      "G1RHL-2579 matched by position to SPO3398\n",
      "G1RHL-560 matched by position to SPO0814\n",
      "G1RHL-87 matched by position to SPO0131\n",
      "G1RHL-1029 matched by position to SPO1405\n",
      "G1RHL-1082 matched by position to SPO1466\n",
      "G1RHL-2528 matched by position to SPO3327\n",
      "G1RHL-24 matched by position to SPO0042\n",
      "G1RHL-1576 matched by position to SPO2091\n",
      "G1RHL-1192 matched by position to SPO1593\n",
      "G1RHL-704 matched by position to SPO1015\n",
      "G1RHL-1649 matched by position to SPO2196\n",
      "G1RHL-1427 matched by position to SPO1889\n",
      "G1RHL-2731 matched by position to SPO3604\n",
      "G1RHL-166 matched by position to SPO0260\n",
      "G1RHL-360 matched by position to SPO0540\n",
      "G1RHL-869 matched by position to SPO1214\n",
      "G1RHL-2295 matched by position to SPO3012\n",
      "G1RHL-156 matched by position to SPO0236\n",
      "G1RHL-1564 matched by position to SPO2069\n",
      "G1RHL-2623 matched by position to SPO3444\n",
      "G1RHL-2549 matched by position to SPO3354\n",
      "G1RHL-1467 matched by position to SPO1942\n",
      "G1RHL-1997 matched by position to SPO2634\n",
      "G1RHL-2461 matched by position to SPO3244\n",
      "G1RHL-1333 matched by position to SPO1781\n",
      "G1RHL-1795 matched by position to SPO2385\n",
      "G1RHL-2108 matched by position to SPO2761\n",
      "G1RHL-2510 matched by position to SPO3309\n",
      "G1RHL-1825 matched by position to SPO2425\n",
      "G1RHL-2852 matched by position to SPO3753\n",
      "G1RHL-397 matched by position to SPO0579\n",
      "G1RHL-516 matched by position to SPO0751\n",
      "G1RHL-857 matched by position to SPO1195\n",
      "G1RHL-1111 matched by position to SPO1498\n",
      "G1RHL-110 matched by position to SPO0165\n",
      "G1RHL-2813 matched by position to SPO3704\n",
      "G1RHL-1376 matched by position to SPO1827\n",
      "G1RHL-1315 matched by position to SPO1761\n",
      "G1RHL-610 matched by position to SPO0872\n",
      "G1RHL-396 matched by position to SPO0578\n",
      "G1RHL-391 matched by position to SPO0572\n",
      "G1RHL-692 matched by position to SPO0981\n",
      "G1RHL-1255 matched by position to SPO1674\n",
      "G1RHL-2685 matched by position to SPO3542\n",
      "G1RHL-406 matched by position to SPO0601\n",
      "G1RHL-2632 matched by position to SPO3455\n",
      "G1RHL-2836 matched by position to SPO3731\n",
      "G1RHL-2823 matched by position to SPO3715\n",
      "SPO2192A matched by position to SPO2192a\n",
      "G1RHL-2767 matched by position to SPO3650\n",
      "G1RHL-1737 matched by position to SPO2310\n",
      "G1RHL-2262 matched by position to SPO2977\n",
      "G1RHL-2687 matched by position to SPO3544\n",
      "G1RHL-2228 matched by position to SPO2939\n",
      "G1RHL-841 matched by position to SPO1173\n",
      "G1RHL-1918 matched by position to SPO2540\n",
      "G1RHL-1357 matched by position to SPO1806\n",
      "G1RHL-540 matched by position to SPO0785\n",
      "G1RHL-632 matched by position to SPO0901\n",
      "G1RHL-2436 matched by position to SPO3203\n",
      "G1RHL-2094 matched by position to SPO2747\n",
      "G1RHL-999 matched by position to SPO1371\n",
      "G1RHL-2508 matched by position to SPO3306\n",
      "G1RHL-2707 matched by position to SPO3573\n",
      "G1RHL-472 matched by position to SPO0688\n",
      "G1RHL-1049 matched by position to SPO1431\n",
      "G1RHL-1865 matched by position to SPO2473\n",
      "G1RHL-2921 matched by position to SPO3853\n",
      "G1RHL-2627 matched by position to SPO3450\n",
      "G1RHL-2 matched by position to SPO0006\n",
      "G1RHL-354 matched by position to SPO0533\n",
      "G1RHL-1606 matched by position to SPO2130\n",
      "G1RHL-612 matched by position to SPO0876\n",
      "G1RHL-1474 matched by position to SPO1958\n",
      "G1RHL-828 matched by position to SPO1155\n",
      "G1RHL-2491 matched by position to SPO3289\n",
      "G1RHL-1050 matched by position to SPO1432\n",
      "G1RHL-819 matched by position to SPO1142\n",
      "G1RHL-460 matched by position to SPO0669\n",
      "G1RHL-291 matched by position to SPO0435\n",
      "G1RHL-1939 matched by position to SPO2565\n",
      "G1RHL-963 matched by position to SPO1321\n",
      "G1RHL-1511 matched by position to SPO2002\n",
      "G1RHL-609 matched by position to SPO0871\n",
      "G1RHL-2827 matched by position to SPO3719\n",
      "G1RHL-2733 matched by position to SPO3606\n",
      "G1RHL-2431 matched by position to SPO3194\n",
      "G1RHL-2918 matched by position to SPO3850\n",
      "G1RHL-1974 matched by position to SPO2607\n",
      "G1RHL-2109 matched by position to SPO2762\n",
      "191 out of 231 genes matched by position,\n",
      "\tleaving 40 genes unmatched.\n"
     ]
    }
   ],
   "source": [
    "remaining_genes = {gene for gene in model.genes if gene not in model_to_data_genes}\n",
    "lefts = [float(gene.annotation[\"left-end-position\"]) for gene in remaining_genes]\n",
    "rights = [float(gene.annotation[\"right-end-position\"]) for gene in remaining_genes]\n",
    "\n",
    "# Try to match by position for the remaining genes\n",
    "matched_by_position = {}\n",
    "for gene, left, right in zip(remaining_genes, lefts, rights):\n",
    "    matches = df[((df[\"start\"] == left) & (df[\"stop\"] == right)) \n",
    "                 | (df[\"start\"] == right) & (df[\"stop\"] == left)]\n",
    "    if len(matches) == 1:\n",
    "        print(f\"{gene} matched by position to {matches['locus_tag'].values[0]}\")\n",
    "        matched_by_position[gene] = matches.index[0]\n",
    "\n",
    "model_to_data_genes.update(matched_by_position)\n",
    "\n",
    "print(f\"{len(matched_by_position)} out of {len(remaining_genes)} genes matched by position,\")\n",
    "print(f\"\\tleaving {len(remaining_genes) - len(matched_by_position)} genes unmatched.\")"
   ]
  },
  {
   "cell_type": "code",
   "execution_count": 23,
   "metadata": {},
   "outputs": [],
   "source": [
    "for gene in remaining_genes:\n",
    "    if len(gene.annotation) == 0:\n",
    "        print(f\"Gene {gene} has no annotation\")\n",
    "        continue"
   ]
  },
  {
   "cell_type": "code",
   "execution_count": 24,
   "metadata": {},
   "outputs": [
    {
     "name": "stdout",
     "output_type": "stream",
     "text": [
      "Remaining genes:\n",
      "G1RHL-3056 ({'source': 'Ruegeria pomeroyi DSS-3', 'left-end-position': '4264093', 'right-end-position': '4265283', 'replicon': 'DSS3'})\n",
      "G1RHL-2982 ({'source': 'Ruegeria pomeroyi DSS-3', 'left-end-position': '4175111', 'right-end-position': '4176298', 'replicon': 'DSS3'})\n",
      "G1RHL-3100 ({'source': 'Ruegeria pomeroyi DSS-3', 'left-end-position': '4322246', 'right-end-position': '4323832', 'replicon': 'DSS3'})\n",
      "G1RHL-3182 ({'source': 'Ruegeria pomeroyi DSS-3', 'left-end-position': '4467276', 'right-end-position': '4469666', 'replicon': 'DSS3'})\n",
      "G1RHL-3119 ({'source': 'Ruegeria pomeroyi DSS-3', 'left-end-position': '4365528', 'right-end-position': '4366526', 'replicon': 'DSS3'})\n",
      "G1RHL-3192 ({'source': 'Ruegeria pomeroyi DSS-3', 'left-end-position': '4481928', 'right-end-position': '4483724', 'replicon': 'DSS3'})\n",
      "G1RHL-3265 ({'source': 'Ruegeria pomeroyi DSS-3', 'left-end-position': '4561902', 'right-end-position': '4564196', 'replicon': 'DSS3'})\n",
      "G1RHL-3235 ({'source': 'Ruegeria pomeroyi DSS-3', 'left-end-position': '4530508', 'right-end-position': '4531818', 'replicon': 'DSS3'})\n",
      "G1RHL-3237 ({'source': 'Ruegeria pomeroyi DSS-3', 'left-end-position': '4533413', 'right-end-position': '4534516', 'replicon': 'DSS3'})\n",
      "G1RHL-3261 ({'source': 'Ruegeria pomeroyi DSS-3', 'left-end-position': '4558688', 'right-end-position': '4559830', 'replicon': 'DSS3'})\n",
      "G1RHL-3267 ({'source': 'Ruegeria pomeroyi DSS-3', 'left-end-position': '4565111', 'right-end-position': '4565947', 'replicon': 'DSS3'})\n",
      "G1RHL-3276 ({'source': 'Ruegeria pomeroyi DSS-3', 'left-end-position': '4574149', 'right-end-position': '4575840', 'replicon': 'DSS3'})\n",
      "G1RHL-3058 ({'source': 'Ruegeria pomeroyi DSS-3', 'left-end-position': '4266255', 'right-end-position': '4267418', 'replicon': 'DSS3'})\n",
      "G1RHL-3174 ({'source': 'Ruegeria pomeroyi DSS-3', 'left-end-position': '4449461', 'right-end-position': '4451140', 'replicon': 'DSS3'})\n",
      "G1RHL-3123 ({'source': 'Ruegeria pomeroyi DSS-3', 'left-end-position': '4374253', 'right-end-position': '4375176', 'replicon': 'DSS3'})\n",
      "G1RHL-3282 ({'source': 'Ruegeria pomeroyi DSS-3', 'left-end-position': '4581257', 'right-end-position': '4582465', 'replicon': 'DSS3'})\n",
      "G1RHL-3285 ({'source': 'Ruegeria pomeroyi DSS-3', 'left-end-position': '4583972', 'right-end-position': '4585198', 'replicon': 'DSS3'})\n",
      "G1RHL-3164 ({'source': 'Ruegeria pomeroyi DSS-3', 'left-end-position': '4430422', 'right-end-position': '4431381', 'replicon': 'DSS3'})\n",
      "G1RHL-2947 ({'source': 'Ruegeria pomeroyi DSS-3', 'left-end-position': '4109488', 'right-end-position': '4110285', 'replicon': 'DSS3'})\n",
      "G1RHL-3127 ({'source': 'Ruegeria pomeroyi DSS-3', 'left-end-position': '4378836', 'right-end-position': '4380011', 'replicon': 'DSS3'})\n",
      "G1RHL-3264 ({'source': 'Ruegeria pomeroyi DSS-3', 'left-end-position': '4561147', 'right-end-position': '4561905', 'replicon': 'DSS3'})\n",
      "G1RHL-3165 ({'source': 'Ruegeria pomeroyi DSS-3', 'left-end-position': '4433955', 'right-end-position': '4434638', 'replicon': 'DSS3'})\n",
      "G1RHL-2964 ({'source': 'Ruegeria pomeroyi DSS-3', 'left-end-position': '4129931', 'right-end-position': '4130731', 'replicon': 'DSS3'})\n",
      "G1RHL-2978 ({'source': 'Ruegeria pomeroyi DSS-3', 'left-end-position': '4169333', 'right-end-position': '4170031', 'replicon': 'DSS3'})\n",
      "G1RHL-3105 ({'source': 'Ruegeria pomeroyi DSS-3', 'left-end-position': '4334766', 'right-end-position': '4337792', 'replicon': 'DSS3'})\n",
      "G1RHL-3112 ({'source': 'Ruegeria pomeroyi DSS-3', 'left-end-position': '4349261', 'right-end-position': '4350229', 'replicon': 'DSS3'})\n",
      "G1RHL-3175 ({'source': 'Ruegeria pomeroyi DSS-3', 'left-end-position': '4451144', 'right-end-position': '4453555', 'replicon': 'DSS3'})\n",
      "G1RHL-3026 ({'source': 'Ruegeria pomeroyi DSS-3', 'left-end-position': '4221577', 'right-end-position': '4223148', 'replicon': 'DSS3'})\n",
      "G1RHL-3191 ({'source': 'Ruegeria pomeroyi DSS-3', 'left-end-position': '4480971', 'right-end-position': '4481918', 'replicon': 'DSS3'})\n",
      "G1RHL-3247 ({'source': 'Ruegeria pomeroyi DSS-3', 'left-end-position': '4545763', 'right-end-position': '4547835', 'replicon': 'DSS3'})\n",
      "G1RHL-2960 ({'source': 'Ruegeria pomeroyi DSS-3', 'left-end-position': '4126215', 'right-end-position': '4127387', 'replicon': 'DSS3'})\n",
      "G1RHL-2980 ({'source': 'Ruegeria pomeroyi DSS-3', 'left-end-position': '4172721', 'right-end-position': '4173503', 'replicon': 'DSS3'})\n",
      "G1RHL-3177 ({'source': 'Ruegeria pomeroyi DSS-3', 'left-end-position': '4455951', 'right-end-position': '4457240', 'replicon': 'DSS3'})\n",
      "G1RHL-3266 ({'source': 'Ruegeria pomeroyi DSS-3', 'left-end-position': '4564330', 'right-end-position': '4565106', 'replicon': 'DSS3'})\n",
      "G1RHL-3161 ({'source': 'Ruegeria pomeroyi DSS-3', 'left-end-position': '4424979', 'right-end-position': '4426991', 'replicon': 'DSS3'})\n",
      "G1RHL-3262 ({'source': 'Ruegeria pomeroyi DSS-3', 'left-end-position': '4559883', 'right-end-position': '4560686', 'replicon': 'DSS3'})\n",
      "G1RHL-3135 ({'source': 'Ruegeria pomeroyi DSS-3', 'left-end-position': '4388978', 'right-end-position': '4389739', 'replicon': 'DSS3'})\n",
      "SPO_RS19330 ({'source': 'Ruegeria pomeroyi DSS-3 representative genome', 'synonyms': \"['RS19330']\", 'left-end-position': '4023398', 'right-end-position': '4023892', 'replicon': 'NC_003911'})\n",
      "G1RHL-3144 ({'source': 'Ruegeria pomeroyi DSS-3', 'left-end-position': '4401637', 'right-end-position': '4402578', 'replicon': 'DSS3'})\n",
      "G1RHL-3059 ({'source': 'Ruegeria pomeroyi DSS-3', 'left-end-position': '4267563', 'right-end-position': '4268441', 'replicon': 'DSS3'})\n"
     ]
    }
   ],
   "source": [
    "print(\"Remaining genes:\")\n",
    "remaining_genes = set(remaining_genes) - set(matched_by_position.keys())\n",
    "for gene in remaining_genes:\n",
    "    print(f\"{gene.id} ({gene.annotation})\")"
   ]
  },
  {
   "cell_type": "code",
   "execution_count": 25,
   "metadata": {},
   "outputs": [
    {
     "name": "stderr",
     "output_type": "stream",
     "text": [
      "100%|██████████| 864/864 [00:15<00:00, 55.43it/s]\n"
     ]
    },
    {
     "data": {
      "text/plain": [
       "(array([120.,   1.,   0.,   0.,   0.,   0.,  13.,   4.,   1., 725.]),\n",
       " array([-4.35088986e-12,  1.00000000e-01,  2.00000000e-01,  3.00000000e-01,\n",
       "         4.00000000e-01,  5.00000000e-01,  6.00000000e-01,  7.00000000e-01,\n",
       "         8.00000000e-01,  9.00000000e-01,  1.00000000e+00]),\n",
       " <BarContainer object of 10 artists>)"
      ]
     },
     "execution_count": 25,
     "metadata": {},
     "output_type": "execute_result"
    },
    {
     "data": {
      "image/png": "[encoded data removed]",
      "text/plain": [
       "<Figure size 640x480 with 1 Axes>"
      ]
     },
     "metadata": {},
     "output_type": "display_data"
    }
   ],
   "source": [
    "# Time to do the essentiality tests!!!\n",
    "from tqdm import tqdm\n",
    "\n",
    "with model:\n",
    "    ex_glc.bounds = (-10, 0)\n",
    "    sol = model.optimize()\n",
    "    baseline = sol.objective_value\n",
    "\n",
    "growth_rates = []\n",
    "essentialities = []\n",
    "for gene, index in tqdm(model_to_data_genes.items()):\n",
    "    # Retrieve whether the gene is experimentally essential\n",
    "    essential = df.loc[index][\"Essential\"]\n",
    "    essentialities.append(essential)\n",
    "\n",
    "    # Get model growth rate\n",
    "    with model:\n",
    "        ex_glc.bounds = (-10, 0)\n",
    "        gene.knock_out()\n",
    "        sol = model.optimize()\n",
    "        growth_rates.append(sol.objective_value)\n",
    "growth_rates = np.array(growth_rates)\n",
    "\n",
    "fig, ax = plt.subplots()\n",
    "ax.hist(growth_rates / baseline)"
   ]
  },
  {
   "cell_type": "code",
   "execution_count": 26,
   "metadata": {},
   "outputs": [
    {
     "data": {
      "image/png": "[encoded data removed]",
      "text/plain": [
       "<Figure size 300x300 with 1 Axes>"
      ]
     },
     "metadata": {},
     "output_type": "display_data"
    }
   ],
   "source": [
    "from collections import Counter\n",
    "\n",
    "model_essential = (growth_rates < 1e-6)\n",
    "\n",
    "fig, ax = plt.subplots()\n",
    "for (model_x, data_y), count in Counter(zip(model_essential, essentialities)).items():\n",
    "    ax.text(model_x/2 + 0.25,\n",
    "            data_y/2 + 0.25,\n",
    "            str(count),\n",
    "            ha=\"center\",\n",
    "            va=\"center\")\n",
    "\n",
    "ax.vlines(0.5, 0, 1, \"k\", lw=1)\n",
    "ax.hlines(0.5, 0, 1, \"k\", lw=1)\n",
    "ax.set_xlim(0, 1)\n",
    "ax.set_ylim(0, 1)\n",
    "ax.set_xticks([.25, .75], [\"Non-essential\", \"Essential\"])\n",
    "ax.set_yticks([.25, .75], [\"Non-essential\", \"Essential\"])\n",
    "ax.set_xlabel(\"Model\")\n",
    "ax.set_ylabel(\"Experiment\")\n",
    "\n",
    "fig.set_size_inches(3, 3)"
   ]
  },
  {
   "cell_type": "code",
   "execution_count": 27,
   "metadata": {},
   "outputs": [
    {
     "name": "stderr",
     "output_type": "stream",
     "text": [
      "100%|██████████| 1862/1862 [00:30<00:00, 60.44it/s]\n"
     ]
    }
   ],
   "source": [
    "# Now, let's run a reaction essentiality test, so that we can relate the gene essentiality to the reaction essentiality\n",
    "reaction_essentialities = []\n",
    "for reaction in tqdm(model.reactions):\n",
    "    with model:\n",
    "        ex_glc.bounds = (-10, 0)\n",
    "        reaction.knock_out()\n",
    "        sol = model.optimize()\n",
    "        reaction_essentialities.append(sol.objective_value)\n",
    "reaction_essentialities = np.array(reaction_essentialities)\n",
    "reaction_essentialities = reaction_essentialities < 1e-6\n",
    "reaction_essentialities = dict(zip(model.reactions, reaction_essentialities))"
   ]
  },
  {
   "cell_type": "code",
   "execution_count": 28,
   "metadata": {},
   "outputs": [
    {
     "data": {
      "image/png": "[encoded data removed]",
      "text/plain": [
       "<Figure size 300x300 with 1 Axes>"
      ]
     },
     "metadata": {},
     "output_type": "display_data"
    }
   ],
   "source": [
    "# Now we can relate the gene essentiality to the reaction essentiality\n",
    "gene_reaction_categories = Counter()\n",
    "strange = []\n",
    "for gene, essentiality in zip(model_to_data_genes, model_essential):\n",
    "    reactions = gene.reactions\n",
    "    gene_reaction_essentialities = [reaction_essentialities[reaction] for reaction in reactions]\n",
    "    has_essential_reactions = any(gene_reaction_essentialities)\n",
    "\n",
    "    gene_reaction_categories[(essentiality, has_essential_reactions)] += 1\n",
    "\n",
    "    if essentiality and not has_essential_reactions:\n",
    "        strange.append(gene)\n",
    "\n",
    "fig, ax = plt.subplots()\n",
    "for (model_x, data_y), count in gene_reaction_categories.items():\n",
    "    ax.text(model_x/2 + 0.25,\n",
    "            data_y/2 + 0.25,\n",
    "            str(count),\n",
    "            ha=\"center\",\n",
    "            va=\"center\")\n",
    "ax.vlines(0.5, 0, 1, \"k\", lw=1)\n",
    "ax.hlines(0.5, 0, 1, \"k\", lw=1)\n",
    "ax.set_xlim(0, 1)\n",
    "ax.set_ylim(0, 1)\n",
    "ax.set_xticks([.25, .75], [\"Non-essential\", \"Essential\"])\n",
    "ax.set_yticks([.25, .75], [\"No essential reactions\", \"Has essential reactions\"])\n",
    "ax.set_xlabel(\"Gene\")\n",
    "ax.set_ylabel(\"Reactions\")\n",
    "fig.set_size_inches(3, 3)\n"
   ]
  },
  {
   "cell_type": "code",
   "execution_count": 29,
   "metadata": {},
   "outputs": [
    {
     "name": "stdout",
     "output_type": "stream",
     "text": [
      "SPO1734\n",
      "====================\n",
      "\tHOMOSERDEHYDROG-RXN-HOMO-SER/NAD//L-ASPARTATE-SEMIALDEHYDE/NADH/PROTON.51. (False)\n",
      "\tHOMOSERDEHYDROG-RXN-HOMO-SER/NADP//L-ASPARTATE-SEMIALDEHYDE/NADPH/PROTON.53. (False)\n",
      "SPO3207\n",
      "====================\n",
      "\tISPH2-RXN (False)\n",
      "\tRXN0-884 (False)\n",
      "SPO1312\n",
      "====================\n",
      "\tGLUTAMIN-RXN (False)\n",
      "\tCTPSYN-RXN (False)\n",
      "\tRXN-14325 (False)\n",
      "SPO0426\n",
      "====================\n",
      "\tNAD-SYNTH-GLN-RXN (False)\n",
      "\tNAD-SYNTH-NH3-RXN (False)\n",
      "SPO0210\n",
      "====================\n",
      "\tRXNQT-4174 (False)\n",
      "\tRXN-18200 (False)\n",
      "\tRXNQT-4178 (False)\n",
      "\tRXNQT-4165 (False)\n",
      "\tRXN-13158 (False)\n",
      "\tRXN-18204 (False)\n",
      "\tRXN-18206 (False)\n",
      "\tRXN-18208 (False)\n",
      "\tRXN-18210 (False)\n",
      "\t3-ISOPROPYLMALDEHYDROG-RXN (False)\n",
      "\tRXN-14986 (False)\n",
      "\tRXN-18202 (False)\n",
      "\tRXNQT-4168 (False)\n",
      "\tRXNQT-4171 (False)\n",
      "SPO2109\n",
      "====================\n",
      "\tGLUTAMIN-RXN (False)\n",
      "\tGMP-SYN-NH3-RXN (False)\n",
      "\tGMP-SYN-GLUT-RXN (False)\n"
     ]
    }
   ],
   "source": [
    "for gene in strange:\n",
    "    print(f\"{gene.id}\\n====================\")\n",
    "    for reaction in gene.reactions:\n",
    "        print(f\"\\t{reaction.id} ({reaction_essentialities[reaction]})\")"
   ]
  },
  {
   "cell_type": "code",
   "execution_count": 30,
   "metadata": {},
   "outputs": [
    {
     "ename": "KeyError",
     "evalue": "'SPO_RS14555'",
     "output_type": "error",
     "traceback": [
      "\u001b[31m---------------------------------------------------------------------------\u001b[39m",
      "\u001b[31mKeyError\u001b[39m                                  Traceback (most recent call last)",
      "\u001b[36mCell\u001b[39m\u001b[36m \u001b[39m\u001b[32mIn[30]\u001b[39m\u001b[32m, line 2\u001b[39m\n\u001b[32m      1\u001b[39m \u001b[38;5;66;03m# Check SPO_RS14555\u001b[39;00m\n\u001b[32m----> \u001b[39m\u001b[32m2\u001b[39m gene = \u001b[43mmodel\u001b[49m\u001b[43m.\u001b[49m\u001b[43mgenes\u001b[49m\u001b[43m.\u001b[49m\u001b[43mget_by_id\u001b[49m\u001b[43m(\u001b[49m\u001b[33;43m\"\u001b[39;49m\u001b[33;43mSPO_RS14555\u001b[39;49m\u001b[33;43m\"\u001b[39;49m\u001b[43m)\u001b[49m\n\u001b[32m      3\u001b[39m \u001b[38;5;28;01mwith\u001b[39;00m model:\n\u001b[32m      4\u001b[39m     ex_glc.bounds = (-\u001b[32m10\u001b[39m, \u001b[32m0\u001b[39m)\n",
      "\u001b[36mFile \u001b[39m\u001b[32m~/.pyenv/versions/3.12.1/envs/rpom/lib/python3.12/site-packages/cobra/core/dictlist.py:73\u001b[39m, in \u001b[36mDictList.get_by_id\u001b[39m\u001b[34m(self, id)\u001b[39m\n\u001b[32m     71\u001b[39m \u001b[38;5;28;01mdef\u001b[39;00m\u001b[38;5;250m \u001b[39m\u001b[34mget_by_id\u001b[39m(\u001b[38;5;28mself\u001b[39m, \u001b[38;5;28mid\u001b[39m: Union[Object, \u001b[38;5;28mstr\u001b[39m]) -> Object:\n\u001b[32m     72\u001b[39m \u001b[38;5;250m    \u001b[39m\u001b[33;03m\"\"\"Return the element with a matching id.\"\"\"\u001b[39;00m\n\u001b[32m---> \u001b[39m\u001b[32m73\u001b[39m     \u001b[38;5;28;01mreturn\u001b[39;00m \u001b[38;5;28mlist\u001b[39m.\u001b[34m__getitem__\u001b[39m(\u001b[38;5;28mself\u001b[39m, \u001b[38;5;28;43mself\u001b[39;49m\u001b[43m.\u001b[49m\u001b[43m_dict\u001b[49m\u001b[43m[\u001b[49m\u001b[38;5;28;43mid\u001b[39;49m\u001b[43m]\u001b[49m)\n",
      "\u001b[31mKeyError\u001b[39m: 'SPO_RS14555'"
     ]
    }
   ],
   "source": [
    "# Check SPO_RS14555\n",
    "gene = model.genes.get_by_id(\"SPO_RS14555\")\n",
    "with model:\n",
    "    ex_glc.bounds = (-10, 0)\n",
    "    gene.knock_out()\n",
    "    sol = model.optimize()\n",
    "    print(sol.objective_value)"
   ]
  },
  {
   "cell_type": "code",
   "execution_count": null,
   "metadata": {},
   "outputs": [],
   "source": []
  }
 ],
 "metadata": {
  "kernelspec": {
   "display_name": "Python 3",
   "language": "python",
   "name": "python3"
  },
  "language_info": {
   "codemirror_mode": {
    "name": "ipython",
    "version": 3
   },
   "file_extension": ".py",
   "mimetype": "text/x-python",
   "name": "python",
   "nbconvert_exporter": "python",
   "pygments_lexer": "ipython3",
   "version": "3.12.1"
  }
 },
 "nbformat": 4,
 "nbformat_minor": 2
}
