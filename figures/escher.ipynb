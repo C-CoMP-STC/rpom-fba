{
 "cells": [
  {
   "cell_type": "code",
   "execution_count": 1,
   "metadata": {},
   "outputs": [],
   "source": [
    "import sys\n",
    "if \"..\" not in sys.path:\n",
    "    sys.path.append(\"..\")"
   ]
  },
  {
   "cell_type": "code",
   "execution_count": 2,
   "metadata": {},
   "outputs": [
    {
     "name": "stdout",
     "output_type": "stream",
     "text": [
      "Scaling...\n",
      " A: min|aij| =  1.000e+00  max|aij| =  1.000e+00  ratio =  1.000e+00\n",
      "Problem data seem to be well scaled\n"
     ]
    }
   ],
   "source": [
    "import escher\n",
    "from escher import Builder\n",
    "from cobra.io import read_sbml_model, load_model\n",
    "from utils.cobra_utils import get_or_create_exchange\n",
    "\n",
    "model = read_sbml_model('../model/Rpom_05.xml')\n",
    "ex_glc = model.reactions.get_by_id(\"EX_glc\")\n",
    "ex_ace = get_or_create_exchange(model, \"ACET[e]\")\n",
    "\n",
    "ecoli = load_model(\"iJO1366\")\n",
    "ecoli_ex_glc = ecoli.reactions.get_by_id(\"EX_glc__D_e\")\n",
    "ecoli_ex_ace = ecoli.reactions.get_by_id(\"EX_ac_e\")\n",
    "ecoli_ex_oxy = ecoli.reactions.get_by_id(\"EX_o2_e\")\n",
    "ecoli_ex_oxy.lower_bound = -20"
   ]
  },
  {
   "cell_type": "code",
   "execution_count": 3,
   "metadata": {},
   "outputs": [
    {
     "name": "stderr",
     "output_type": "stream",
     "text": [
      "/home/mica/.pyenv/versions/3.10.4/envs/rpom/lib/python3.10/site-packages/cobra/util/solver.py:554: UserWarning: Solver status is 'infeasible'.\n",
      "  warn(f\"Solver status is '{status}'.\", UserWarning)\n",
      "/home/mica/.pyenv/versions/3.10.4/envs/rpom/lib/python3.10/site-packages/cobra/util/solver.py:554: UserWarning: Solver status is 'infeasible'.\n",
      "  warn(f\"Solver status is '{status}'.\", UserWarning)\n"
     ]
    }
   ],
   "source": [
    "CARBONS_PER_GLUCOSE = 6\n",
    "CARBONS_PER_ACETATE = 2\n",
    "\n",
    "# Get glucose fluxome\n",
    "with model:\n",
    "    ex_glc.lower_bound = -5 / CARBONS_PER_GLUCOSE\n",
    "    sol = model.optimize()\n",
    "    glc_fluxes = sol.fluxes\n",
    "\n",
    "# Get acetate fluxes\n",
    "with model:\n",
    "    ex_ace.lower_bound = -5 / CARBONS_PER_ACETATE\n",
    "    sol = model.optimize()\n",
    "    ace_fluxes = sol.fluxes\n",
    "\n",
    "# Get names of reactions\n",
    "rxn_names = glc_fluxes.index.values"
   ]
  },
  {
   "cell_type": "code",
   "execution_count": 4,
   "metadata": {},
   "outputs": [],
   "source": [
    "with ecoli:\n",
    "    ecoli_ex_glc.lower_bound = -5 / CARBONS_PER_GLUCOSE\n",
    "    ecoli_glc_sol = ecoli.optimize()\n",
    "    ecoli_glc_fluxes = ecoli_glc_sol.fluxes\n",
    "\n",
    "# Get acetate fluxes\n",
    "with ecoli:\n",
    "    ecoli_ex_glc.lower_bound = 0\n",
    "    ecoli_ex_ace.lower_bound = -5 / CARBONS_PER_ACETATE\n",
    "    ecoli_ace_sol = ecoli.optimize()\n",
    "    ecoli_ace_fluxes = ecoli_ace_sol.fluxes\n",
    "\n",
    "# Get names of reactions\n",
    "ecoli_rxn_names = ecoli_glc_fluxes.index.values"
   ]
  },
  {
   "cell_type": "code",
   "execution_count": 5,
   "metadata": {},
   "outputs": [
    {
     "name": "stdout",
     "output_type": "stream",
     "text": [
      "Comparisons are log2 fold changes of acetate vs glucose fluxes (Blue = more flux in glucose, Red = more flux in acetate)\n"
     ]
    },
    {
     "data": {
      "application/vnd.jupyter.widget-view+json": {
       "model_id": "fc0d7e4c2ac14418b047760a733b3322",
       "version_major": 2,
       "version_minor": 0
      },
      "text/plain": [
       "interactive(children=(Dropdown(description='map', options=('iJO1366.Nucleotide metabolism', 'iJO1366.Fatty aci…"
      ]
     },
     "metadata": {},
     "output_type": "display_data"
    },
    {
     "data": {
      "text/plain": [
       "<function __main__.interact_plot_data(map, fluxes)>"
      ]
     },
     "execution_count": 5,
     "metadata": {},
     "output_type": "execute_result"
    }
   ],
   "source": [
    "from ipywidgets import interact\n",
    "\n",
    "comparison_data = [dict(zip(ecoli_ace_fluxes.index, ecoli_ace_fluxes.values + 1e-10)),\n",
    "                   dict(zip(ecoli_glc_fluxes.index, ecoli_glc_fluxes.values + 1e-10)),                   \n",
    "                   ]\n",
    "\n",
    "data_options = [(\"glucose\", ecoli_glc_fluxes),\n",
    "                (\"acetate\", ecoli_ace_fluxes),\n",
    "                (\"comparison\", comparison_data)]\n",
    "\n",
    "map_options = [\"iJO1366.Nucleotide metabolism\",\n",
    "               \"iJO1366.Fatty acid biosynthesis (saturated)\",\n",
    "               \"iJO1366.Nucleotide and histidine biosynthesis\",\n",
    "               \"iJO1366.Central metabolism\",\n",
    "               \"iJO1366.Fatty acid beta-oxidation\"]\n",
    "\n",
    "\n",
    "def plot_data(map, data):\n",
    "    kwargs = {\n",
    "        \"map_name\": map,\n",
    "        \"scroll_behavior\": \"zoom\",\n",
    "        \"enable_tooltips\": \"label\",\n",
    "    }\n",
    "    if isinstance(data, list):\n",
    "        # Comparison data, need to change settings\n",
    "        kwargs.update({\n",
    "            \"reaction_styles\": [\"color\", \"size\", \"text\"],\n",
    "            \"reaction_compare_style\": \"log2_fold\",\n",
    "            \"reaction_scale\": [{\n",
    "                'type': 'min',\n",
    "                \"color\": '#d7191c'\n",
    "            },\n",
    "                {\n",
    "                'type': 'value',\n",
    "                \"value\": 0.0,\n",
    "                \"color\": '#c8c8c8'\n",
    "            },\n",
    "                {\n",
    "                'type': 'max',\n",
    "                \"color\": '#2c7bb6'\n",
    "            },\n",
    "            ]\n",
    "        })\n",
    "        \n",
    "    builder = Builder(**kwargs)\n",
    "\n",
    "    builder.model = ecoli\n",
    "    builder.reaction_data = data\n",
    "    builder.height = 800\n",
    "    return builder\n",
    "\n",
    "\n",
    "def interact_plot_data(map, fluxes):\n",
    "    selected_data = None\n",
    "    for option in data_options:\n",
    "        if option[0] == fluxes:\n",
    "            selected_data = option[1]\n",
    "            break\n",
    "    if selected_data is not None:\n",
    "        return plot_data(map, selected_data)\n",
    "    else:\n",
    "        return None\n",
    "\n",
    "\n",
    "print(\"Comparisons are log2 fold changes of acetate vs glucose fluxes (Blue = more flux in glucose, Red = more flux in acetate)\")\n",
    "interact(interact_plot_data, map=map_options, fluxes=[\n",
    "         option[0] for option in data_options])"
   ]
  },
  {
   "cell_type": "code",
   "execution_count": null,
   "metadata": {},
   "outputs": [],
   "source": [
    "# import requests\n",
    "# import xmltodict\n",
    "# from tqdm import tqdm\n",
    "# from concurrent.futures import ThreadPoolExecutor, as_completed\n",
    "# from model_building.get_reaction_annotations import get_stem\n",
    "\n",
    "# with open(\"../scraps/secret.txt\", \"r\") as f:\n",
    "#     user = f.readline().strip()\n",
    "#     password = f.readline().strip()\n",
    "\n",
    "# def get_bigg_id(reaction_id, user, password):\n",
    "#     reaction_id = get_stem(reaction_id)\n",
    "\n",
    "#     s = requests.Session()\n",
    "#     s.post(\"https://websvc.biocyc.org/credentials/login/\",\n",
    "#             data={\"email\":user, \"password\":password})\n",
    "#     r = s.get(f\"https://websvc.biocyc.org/getxml?META:{reaction_id}&detail=full\")\n",
    "#     if r.status_code != 200:\n",
    "#         return \"\"\n",
    "#     o = xmltodict.parse(r.content)\n",
    "    \n",
    "#     links = o[\"ptools-xml\"][\"Reaction\"].get(\"dblink\", [])\n",
    "#     if not isinstance(links, list):\n",
    "#         links = [links]\n",
    "    \n",
    "#     for link in links:\n",
    "#         if link[\"dblink-db\"] == \"BIGG\":\n",
    "#             return link[\"dblink-oid\"]\n",
    "    \n",
    "#     return \"\"\n",
    "\n",
    "# dblinks = []\n",
    "# with tqdm(total=len(model.reactions)) as pbar:\n",
    "#     with ThreadPoolExecutor() as executor:\n",
    "#         futures = {executor.submit(get_bigg_id, reaction.id, user, password) : reaction for reaction in model.reactions}\n",
    "\n",
    "#         for future in as_completed(futures):\n",
    "#             reaction = futures[future]\n",
    "#             try:\n",
    "#                 bigg_id = future.result()\n",
    "#                 reaction.notes[\"bigg.reaction\"] = bigg_id\n",
    "#                 dblinks.append({\"Reaction\" : reaction.id, \"BIGG\" : bigg_id})\n",
    "#             except Exception as e:\n",
    "#                 print(f\"Error: {reaction.id} {e}\")\n",
    "            \n",
    "#             pbar.update(1)\n"
   ]
  },
  {
   "cell_type": "code",
   "execution_count": null,
   "metadata": {},
   "outputs": [],
   "source": [
    "# def get_bigg_id(metabolite_id, user, password):\n",
    "#     metabolite_id = metabolite_id[:-3]\n",
    "\n",
    "#     s = requests.Session()\n",
    "#     s.post(\"https://websvc.biocyc.org/credentials/login/\",\n",
    "#             data={\"email\":user, \"password\":password})\n",
    "#     r = s.get(f\"https://websvc.biocyc.org/getxml?META:{metabolite_id}&detail=full\")\n",
    "#     if r.status_code != 200:\n",
    "#         return \"\"\n",
    "#     o = xmltodict.parse(r.content)\n",
    "    \n",
    "#     links = o[\"ptools-xml\"].get(\"Compound\",\n",
    "#                                 o[\"ptools-xml\"][\"Protein\"]).get(\"dblink\", [])\n",
    "#     if not isinstance(links, list):\n",
    "#         links = [links]\n",
    "    \n",
    "#     for link in links:\n",
    "#         if link[\"dblink-db\"] == \"BIGG\":\n",
    "#             return link[\"dblink-oid\"]\n",
    "    \n",
    "#     return \"\"\n",
    "\n",
    "# dblinks = []\n",
    "# with tqdm(total=len(model.metabolites)) as pbar:\n",
    "#     with ThreadPoolExecutor() as executor:\n",
    "#         futures = {executor.submit(get_bigg_id, metabolite.id, user, password) : metabolite for metabolite in model.metabolites}\n",
    "\n",
    "#         for future in as_completed(futures):\n",
    "#             metabolite = futures[future]\n",
    "#             try:\n",
    "#                 bigg_id = future.result()\n",
    "#                 metabolite.notes[\"BIGG\"] = bigg_id\n",
    "#                 dblinks.append({\"Metabolite\" : metabolite.id, \"BIGG\" : bigg_id})\n",
    "#             except Exception as e:\n",
    "#                 print(f\"Error: {metabolite.id} {e}\")\n",
    "            \n",
    "#             pbar.update(1)"
   ]
  },
  {
   "cell_type": "code",
   "execution_count": 8,
   "metadata": {},
   "outputs": [],
   "source": [
    "import pandas as pd\n",
    "dblinks = pd.read_excel(\"../figures/escher_diff_pathways.xlsx\", sheet_name=\"Sheet2\")\n",
    "dblinks = [\n",
    "    {\"Metabolite\" : row[\"Metabolite\"], \"BIGG\" : row[\"BIGG\"]}\n",
    "    for _, row in dblinks.iterrows()\n",
    "]"
   ]
  },
  {
   "cell_type": "code",
   "execution_count": 9,
   "metadata": {},
   "outputs": [
    {
     "ename": "NameError",
     "evalue": "name 'diff_reactions' is not defined",
     "output_type": "error",
     "traceback": [
      "\u001b[0;31m---------------------------------------------------------------------------\u001b[0m",
      "\u001b[0;31mNameError\u001b[0m                                 Traceback (most recent call last)",
      "Input \u001b[0;32mIn [9]\u001b[0m, in \u001b[0;36m<cell line: 24>\u001b[0;34m()\u001b[0m\n\u001b[1;32m     20\u001b[0m     \u001b[38;5;28;01mreturn\u001b[39;00m best_match, best_score\n\u001b[1;32m     23\u001b[0m bigg_to_biocyc \u001b[38;5;241m=\u001b[39m {metabolite[\u001b[38;5;124m\"\u001b[39m\u001b[38;5;124mBIGG\u001b[39m\u001b[38;5;124m\"\u001b[39m] : metabolite[\u001b[38;5;124m\"\u001b[39m\u001b[38;5;124mMetabolite\u001b[39m\u001b[38;5;124m\"\u001b[39m] \u001b[38;5;28;01mfor\u001b[39;00m metabolite \u001b[38;5;129;01min\u001b[39;00m dblinks}\n\u001b[0;32m---> 24\u001b[0m \u001b[38;5;28;01mfor\u001b[39;00m reaction \u001b[38;5;129;01min\u001b[39;00m \u001b[43mdiff_reactions\u001b[49m:\n\u001b[1;32m     25\u001b[0m     reaction \u001b[38;5;241m=\u001b[39m ecoli\u001b[38;5;241m.\u001b[39mreactions\u001b[38;5;241m.\u001b[39mget_by_id(reaction[\u001b[38;5;124m\"\u001b[39m\u001b[38;5;124mID\u001b[39m\u001b[38;5;124m\"\u001b[39m])\n\u001b[1;32m     27\u001b[0m     rpom_abs_stoich \u001b[38;5;241m=\u001b[39m {}\n",
      "\u001b[0;31mNameError\u001b[0m: name 'diff_reactions' is not defined"
     ]
    }
   ],
   "source": [
    "# Link reactions in iJO1366 to those in Rpom_05 using BIGG IDs of metabolites\n",
    "def find_match(abs_stoich):\n",
    "    best_match = None\n",
    "    best_score = 0\n",
    "    for reaction in model.reactions:  \n",
    "        # Calculate score for matching  \n",
    "        score = 0\n",
    "        for met, coeff in reaction.metabolites.items():\n",
    "            if met.id[:-3] in abs_stoich and abs(coeff) == abs_stoich[met.id[:-3]]:\n",
    "                score += 1\n",
    "\n",
    "        # Normalize score, penalizing missing metabolites\n",
    "        score /= max(len(abs_stoich), len(reaction.metabolites))\n",
    "        \n",
    "        # Check if we've found a new best match\n",
    "        if score > best_score:\n",
    "            best_match = reaction.id\n",
    "            best_score = score\n",
    "        \n",
    "    return best_match, best_score\n",
    "\n",
    "\n",
    "bigg_to_biocyc = {metabolite[\"BIGG\"] : metabolite[\"Metabolite\"] for metabolite in dblinks}\n",
    "for reaction in diff_reactions:\n",
    "    reaction = ecoli.reactions.get_by_id(reaction[\"ID\"])\n",
    "\n",
    "    rpom_abs_stoich = {}\n",
    "    for met in reaction.metabolites:\n",
    "        biocyc_id = bigg_to_biocyc.get(met.id[:-2], \"\")[:-3]\n",
    "        if biocyc_id == \"\":\n",
    "            break\n",
    "        # Can't assume direction of reaction, so take absolute value\n",
    "        rpom_abs_stoich[biocyc_id] = abs(reaction.metabolites[met])\n",
    "    \n",
    "    best_match, score = find_match(rpom_abs_stoich)\n",
    "    if score >= 0:\n",
    "        print(f\"{reaction.id}, {best_match}, {score}, {model.reactions.get_by_id(best_match).reaction if best_match is not None else ''}\")"
   ]
  },
  {
   "cell_type": "code",
   "execution_count": 10,
   "metadata": {},
   "outputs": [
    {
     "name": "stderr",
     "output_type": "stream",
     "text": [
      "/home/mica/.pyenv/versions/3.10.4/envs/rpom/lib/python3.10/site-packages/cobra/util/solver.py:554: UserWarning: Solver status is 'infeasible'.\n",
      "  warn(f\"Solver status is '{status}'.\", UserWarning)\n",
      "/home/mica/.pyenv/versions/3.10.4/envs/rpom/lib/python3.10/site-packages/cobra/util/solver.py:554: UserWarning: Solver status is 'infeasible'.\n",
      "  warn(f\"Solver status is '{status}'.\", UserWarning)\n"
     ]
    }
   ],
   "source": [
    "data = pd.read_excel(\"escher_diff_pathways.xlsx\")\n",
    "\n",
    "# Filter to good matches\n",
    "data = data[data[\"Score\"] >= 0.5]\n",
    "\n",
    "# Get log2 fold changes for R. pom\n",
    "# Get glucose fluxome\n",
    "with model:\n",
    "    ex_glc.lower_bound = -5 / CARBONS_PER_GLUCOSE\n",
    "    sol = model.optimize()\n",
    "    glc_fluxes = sol.fluxes\n",
    "\n",
    "# Get acetate fluxes\n",
    "with model:\n",
    "    ex_ace.lower_bound = -5 / CARBONS_PER_ACETATE\n",
    "    sol = model.optimize()\n",
    "    ace_fluxes = sol.fluxes\n",
    "\n",
    "# Get names of reactions\n",
    "rxn_names = glc_fluxes.index.values"
   ]
  },
  {
   "cell_type": "code",
   "execution_count": 11,
   "metadata": {},
   "outputs": [
    {
     "data": {
      "text/plain": [
       "Index(['Map', 'Reaction', 'ID', 'BioCyc ID (Best match)',\n",
       "       'Pathways (Best Match)', 'Score', 'Equation (Best Match)', 'Equation',\n",
       "       'log2_fold'],\n",
       "      dtype='object')"
      ]
     },
     "execution_count": 11,
     "metadata": {},
     "output_type": "execute_result"
    }
   ],
   "source": [
    "data.columns"
   ]
  },
  {
   "cell_type": "code",
   "execution_count": 12,
   "metadata": {},
   "outputs": [
    {
     "name": "stderr",
     "output_type": "stream",
     "text": [
      "/home/mica/.pyenv/versions/3.10.4/envs/rpom/lib/python3.10/site-packages/pandas/core/arraylike.py:402: RuntimeWarning: divide by zero encountered in log2\n",
      "  result = getattr(ufunc, method)(*inputs, **kwargs)\n",
      "/home/mica/.pyenv/versions/3.10.4/envs/rpom/lib/python3.10/site-packages/pandas/core/arraylike.py:402: RuntimeWarning: invalid value encountered in log2\n",
      "  result = getattr(ufunc, method)(*inputs, **kwargs)\n"
     ]
    }
   ],
   "source": [
    "import numpy as np\n",
    "log2fold_rpom = np.log2(ace_fluxes / glc_fluxes)\n",
    "log2fold_ecoli = np.log2(ecoli_ace_fluxes / ecoli_glc_fluxes)\n",
    "\n",
    "rpom_changes = log2fold_rpom[data[\"BioCyc ID (Best match)\"]].values\n",
    "ecoli_changes = log2fold_ecoli[data[\"ID\"]].values"
   ]
  },
  {
   "cell_type": "code",
   "execution_count": 14,
   "metadata": {},
   "outputs": [
    {
     "data": {
      "image/png": "[encoded data removed]",
      "text/plain": [
       "<Figure size 500x1000 with 2 Axes>"
      ]
     },
     "metadata": {},
     "output_type": "display_data"
    }
   ],
   "source": [
    "import matplotlib.pyplot as plt\n",
    "\n",
    "fig, ax = plt.subplots()\n",
    "im = ax.imshow(np.array([ecoli_changes, rpom_changes]).T, aspect=\"auto\", interpolation=\"none\")\n",
    "ax.set_xticks([0, 1], [\"E. coli\", \"R. pom\"])\n",
    "fig.colorbar(im)\n",
    "\n",
    "fig.set_size_inches(5, 10)"
   ]
  },
  {
   "cell_type": "code",
   "execution_count": 15,
   "metadata": {},
   "outputs": [],
   "source": [
    "log2fold_rpom.reset_index().to_clipboard()"
   ]
  },
  {
   "cell_type": "code",
   "execution_count": 18,
   "metadata": {},
   "outputs": [
    {
     "name": "stdout",
     "output_type": "stream",
     "text": [
      "Downloading Map from https://escher.github.io/1-0-0/6/maps/Escherichia%20coli/iJO1366.Central%20metabolism.json\n"
     ]
    },
    {
     "data": {
      "application/vnd.jupyter.widget-view+json": {
       "model_id": "e2c66a7f743e45c1af0b1ffb7bc85753",
       "version_major": 2,
       "version_minor": 0
      },
      "text/plain": [
       "Builder(reaction_data={'1-ACYLGLYCEROL-3-P-ACYLTRANSFER-RXN': 0.04788932695098856, '1.1.1.178-RXN': 0.0, '1.1.…"
      ]
     },
     "metadata": {},
     "output_type": "display_data"
    }
   ],
   "source": [
    "# Get glucose fluxes to make map\n",
    "with model:\n",
    "    ex_glc.lower_bound = -10\n",
    "    sol = model.optimize()\n",
    "    glc_fluxes = sol.fluxes\n",
    "\n",
    "\n",
    "builder = Builder(map_name=\"iJO1366.Central metabolism\")\n",
    "builder.reaction_data = glc_fluxes\n",
    "\n",
    "builder"
   ]
  },
  {
   "cell_type": "code",
   "execution_count": null,
   "metadata": {},
   "outputs": [],
   "source": []
  },
  {
   "cell_type": "code",
   "execution_count": null,
   "metadata": {},
   "outputs": [
    {
     "data": {
      "text/html": [
       "\n",
       "        <table>\n",
       "            <tr>\n",
       "                <td><strong>Name</strong></td>\n",
       "                <td>Rpom_05</td>\n",
       "            </tr><tr>\n",
       "                <td><strong>Memory address</strong></td>\n",
       "                <td>7fc422c6f130</td>\n",
       "            </tr><tr>\n",
       "                <td><strong>Number of metabolites</strong></td>\n",
       "                <td>1696</td>\n",
       "            </tr><tr>\n",
       "                <td><strong>Number of reactions</strong></td>\n",
       "                <td>1984</td>\n",
       "            </tr><tr>\n",
       "                <td><strong>Number of genes</strong></td>\n",
       "                <td>1250</td>\n",
       "            </tr><tr>\n",
       "                <td><strong>Number of groups</strong></td>\n",
       "                <td>0</td>\n",
       "            </tr><tr>\n",
       "                <td><strong>Objective expression</strong></td>\n",
       "                <td>1.0*Rpom_hwa_biomass - 1.0*Rpom_hwa_biomass_reverse_5ec2f</td>\n",
       "            </tr><tr>\n",
       "                <td><strong>Compartments</strong></td>\n",
       "                <td>c, p, e</td>\n",
       "            </tr>\n",
       "          </table>"
      ],
      "text/plain": [
       "<Model Rpom_05 at 0x7fc422c6f130>"
      ]
     },
     "execution_count": 29,
     "metadata": {},
     "output_type": "execute_result"
    }
   ],
   "source": [
    "model"
   ]
  },
  {
   "cell_type": "code",
   "execution_count": 17,
   "metadata": {},
   "outputs": [
    {
     "data": {
      "application/vnd.jupyter.widget-view+json": {
       "model_id": "3cdb768479894601b24e3d7ca2f2980c",
       "version_major": 2,
       "version_minor": 0
      },
      "text/plain": [
       "Builder(full_screen_button=False, height=800, reaction_data={'1-ACYLGLYCEROL-3-P-ACYLTRANSFER-RXN': 0.04788932…"
      ]
     },
     "metadata": {},
     "output_type": "display_data"
    }
   ],
   "source": [
    "# Get glucose fluxes to make map\n",
    "with model:\n",
    "    ex_glc.lower_bound = -10\n",
    "    sol = model.optimize()\n",
    "    glc_fluxes = sol.fluxes\n",
    "\n",
    "\n",
    "builder = Builder(model=model, full_screen_button=False)\n",
    "builder.height = 800\n",
    "builder.reaction_data = glc_fluxes\n",
    "\n",
    "builder"
   ]
  },
  {
   "cell_type": "code",
   "execution_count": null,
   "metadata": {},
   "outputs": [
    {
     "data": {
      "text/plain": [
       "Htex                                                        153.458735\n",
       "1.10.2.2-RXN                                                 39.915288\n",
       "1.6.99.5-RXN-NADH/UBIQUINONE-10/PROTON//NAD/CPD-9958.40.     39.538085\n",
       "EX_h2o                                                       31.954833\n",
       "ATPM                                                         30.000000\n",
       "EX_co2                                                       21.934989\n",
       "O2tex                                                        20.000000\n",
       "O2tpp                                                        20.000000\n",
       "CYTOCHROME-C-OXIDASE-RXN                                     19.999432\n",
       "GAPOXNPHOSPHN-RXN                                            13.412635\n",
       "Name: fluxes, dtype: float64"
      ]
     },
     "execution_count": 23,
     "metadata": {},
     "output_type": "execute_result"
    }
   ],
   "source": [
    "glc_fluxes.sort_values(ascending=False).head(10)"
   ]
  },
  {
   "cell_type": "code",
   "execution_count": null,
   "metadata": {},
   "outputs": [
    {
     "name": "stdout",
     "output_type": "stream",
     "text": [
      "CYTOCHROME-C-OXIDASE-RXN 19.999432056830635\n",
      "\t4.0 Cytochromes-C-Reduced[p] + OXYGEN-MOLECULE[c] + 8.0 PROTON[c] --> 4.0 Cytochromes-C-Oxidized[p] + 4.0 PROTON[p] + 2.0 WATER[c]\n",
      "Htex 153.4587349842195\n",
      "\tPROTON[e] <=> PROTON[p]\n",
      "TRANS-RXN1G48-17-ZN+2/PROTON//ZN+2/PROTON.25. 0.00021711730380928753\n",
      "\tPROTON[p] + ZN+2[p] --> PROTON[c] + ZN+2[c]\n",
      "TRANS-RXN1G48-18-CA+2/PROTON//CA+2/PROTON.25. 0.0033140632122945785\n",
      "\tCA+2[p] + PROTON[c] --> CA+2[c] + PROTON[p]\n",
      "TRANS-RXN1G48-18-CU+2/PROTON//CU+2/PROTON.25. 0.00045142570666741787\n",
      "\tCU+2[p] + PROTON[c] --> CU+2[c] + PROTON[p]\n",
      "TRANS-RXN1G48-18-FE+3/PROTON//FE+3/PROTON.25. 0.004971413175139941\n",
      "\tFE+3[p] + PROTON[c] --> FE+3[c] + PROTON[p]\n",
      "ATPSYN-RXN -58.40808507111509\n",
      "\tATP[c] + 3.0 PROTON[c] + WATER[c] <=> ADP[c] + 4.0 PROTON[p] + Pi[c]\n",
      "RXN-14107 0.08357581578263612\n",
      "\t2.0 Cytochromes-C-Oxidized[p] + Menaquinols[c] --> 2.0 Cytochromes-C-Reduced[p] + Menaquinones[c] + 2.0 PROTON[p]\n",
      "TRANS-RXN1G48-18-NI+2/PROTON//NI+2/PROTON.25. 0.0002056565627691815\n",
      "\tNI+2[p] + PROTON[c] --> NI+2[c] + PROTON[p]\n"
     ]
    }
   ],
   "source": [
    "for rxn in model.metabolites.get_by_id(\"PROTON[p]\").reactions:\n",
    "    if abs(rxn.flux) > 0:\n",
    "        print(rxn.id, rxn.flux)\n",
    "        print(f\"\\t{rxn.reaction}\")"
   ]
  },
  {
   "cell_type": "code",
   "execution_count": null,
   "metadata": {},
   "outputs": [
    {
     "data": {
      "text/html": [
       "\n",
       "        <table>\n",
       "            <tr>\n",
       "                <td><strong>Reaction identifier</strong></td><td>G6Ptex</td>\n",
       "            </tr><tr>\n",
       "                <td><strong>Name</strong></td><td>G6Ptex</td>\n",
       "            </tr><tr>\n",
       "                <td><strong>Memory address</strong></td>\n",
       "                <td>0x7f842306f1f0</td>\n",
       "            </tr><tr>\n",
       "                <td><strong>Stoichiometry</strong></td>\n",
       "                <td>\n",
       "                    <p style='text-align:right'>D-glucopyranose-6-phosphate[e] <=> D-glucopyranose-6-phosphate[p]</p>\n",
       "                    <p style='text-align:right'>D-glucopyranose 6-phosphate <=> D-glucopyranose 6-phosphate</p>\n",
       "                </td>\n",
       "            </tr><tr>\n",
       "                <td><strong>GPR</strong></td><td></td>\n",
       "            </tr><tr>\n",
       "                <td><strong>Lower bound</strong></td><td>-1000.0</td>\n",
       "            </tr><tr>\n",
       "                <td><strong>Upper bound</strong></td><td>1000.0</td>\n",
       "            </tr>\n",
       "        </table>\n",
       "        "
      ],
      "text/plain": [
       "<Reaction G6Ptex at 0x7f842306f1f0>"
      ]
     },
     "execution_count": 16,
     "metadata": {},
     "output_type": "execute_result"
    }
   ],
   "source": [
    "model.reactions.get_by_id(\"G6Ptex\")"
   ]
  },
  {
   "cell_type": "code",
   "execution_count": null,
   "metadata": {},
   "outputs": [
    {
     "name": "stdout",
     "output_type": "stream",
     "text": [
      "ATP[c] + WATER[c] --> ADP[c] + PROTON[c] + Pi[c] (0.0)\n",
      "CTP[c] + WATER[c] --> CDP[c] + PROTON[c] + Pi[c] (0.0)\n",
      "GTP[c] + WATER[c] --> GDP[c] + PROTON[c] + Pi[c] (0.0)\n",
      "UTP[c] + WATER[c] --> PROTON[c] + Pi[c] + UDP[c] (0.0)\n",
      "ITP[c] + WATER[c] --> IDP[c] + PROTON[c] + Pi[c] (0.0)\n",
      "NADH[c] --> NAD[c] + PROTON[c] (0.0)\n",
      "NADPH[c] --> NADP[c] + PROTON[c] (0.0)\n",
      "FADH2[c] --> FAD[c] + 2 PROTON[c] (0.0)\n",
      "FMNH2[c] --> FMN[c] + 2 PROTON[c] (0.0)\n",
      "CPD-9956[c] --> 2 PROTON[c] + UBIQUINONE-8[c] (0.0)\n",
      "UBIQUINOL-30[c] --> 2 PROTON[c] + UBIQUINONE-6[c] (0.0)\n",
      "CPD-9957[c] --> 2 PROTON[c] + UBIQUINONE-9[c] (0.0)\n",
      "CPD-9958[c] --> 2 PROTON[c] + UBIQUINONE-10[c] (0.0)\n",
      "ACETYL-COA[c] + WATER[c] --> ACET[c] + CO-A[c] + PROTON[c] (0.0)\n",
      "GLT[c] + WATER[c] --> 2-KETOGLUTARATE[c] + AMMONIUM[c] + 2 PROTON[c] (0.0)\n",
      "PROTON[p] --> PROTON[c] (0.0)\n"
     ]
    }
   ],
   "source": [
    "import warnings\n",
    "\n",
    "from cobra.core import Reaction\n",
    "# Try finding EGC's using Fritzemeier et. al approach\n",
    "\n",
    "# ATP[cytosol] + H2O[cytosol] --> ADP[cytosol] + H(+)[cytosol] + Phosphate[cytosol]\n",
    "# CTP[cytosol] + H2O[cytosol] --> CDP[cytosol] + H(+)[cytosol] + Phosphate[cytosol]\n",
    "# GTP[cytosol] + H2O[cytosol] --> GDP[cytosol] + H(+)[cytosol] + Phosphate[cytosol]\n",
    "# UTP[cytosol] + H2O[cytosol] --> UDP[cytosol] + H(+)[cytosol] + Phosphate[cytosol]\n",
    "# ITP[cytosol] + H2O[cytosol] --> IDP[cytosol] + H(+)[cytosol] + Phosphate[cytosol]\n",
    "# Nicotinamide adenine dinucleotide - reduced[cytosol] --> H(+)[cytosol] + Nicotinamide adenine dinucleotide[cytosol]\n",
    "# Nicotinamide adenine dinucleotide phosphate - reduced[cytosol] --> H(+)[cytosol] + Nicotinamide adenine dinucleotide phosphate[cytosol]\n",
    "# Flavin adenine dinucleotide reduced[cytosol] --> 2 H(+)[cytosol] + Flavin adenine dinucleotide oxidized[cytosol]\n",
    "# Reduced FMN[cytosol] --> 2 H(+)[cytosol] + FMN[cytosol]\n",
    "# Ubiquinol-8[cytosol] --> 2 H(+)[cytosol] + Ubiquinone-8[cytosol]\n",
    "# Menaquinol 8[cytosol] --> 2 H(+)[cytosol] + Menaquinone 8[cytosol]\n",
    "# 2-Demethylmenaquinol 8[cytosol] --> 2 H(+)[cytosol] + 2-Demethylmenaquinone 8[cytosol]\n",
    "# H2O[cytosol] + Acetyl-CoA[cytosol] --> H(+)[cytosol] + Acetate[cytosol] + Coenzyme A[cytosol]\n",
    "# L-Glutamate[cytosol] + H2O[cytosol] --> 2-Oxoglutarate[cytosol] + Ammonium[cytosol] + 2 H(+)[cytosol]\n",
    "# H(+)[periplasm] --> H(+)[cytosol]\n",
    "\n",
    "dissp_reactions = [\n",
    "    {\"ATP[c]\" : -1, \"WATER[c]\" : -1, \"ADP[c]\" : 1, \"PROTON[c]\": 1, \"Pi[c]\": 1},\n",
    "    {\"CTP[c]\" : -1, \"WATER[c]\" : -1, \"CDP[c]\" : 1, \"PROTON[c]\": 1, \"Pi[c]\": 1},\n",
    "    {\"GTP[c]\" : -1, \"WATER[c]\" : -1, \"GDP[c]\" : 1, \"PROTON[c]\": 1, \"Pi[c]\": 1},\n",
    "    {\"UTP[c]\" : -1, \"WATER[c]\" : -1, \"UDP[c]\" : 1, \"PROTON[c]\": 1, \"Pi[c]\": 1},\n",
    "    {\"ITP[c]\" : -1, \"WATER[c]\" : -1, \"IDP[c]\" : 1, \"PROTON[c]\": 1, \"Pi[c]\": 1},\n",
    "    {\"NADH[c]\" : -1, \"PROTON[c]\": 1, \"NAD[c]\": 1},\n",
    "    {\"NADPH[c]\" : -1, \"PROTON[c]\": 1, \"NADP[c]\": 1},\n",
    "    {\"FADH2[c]\" : -1, \"PROTON[c]\" : 2, \"FAD[c]\": 1},\n",
    "    {\"FMNH2[c]\" : -1, \"PROTON[c]\" : 2, \"FMN[c]\": 1},\n",
    "    {\"CPD-9956[c]\" : -1, \"PROTON[c]\" : 2, \"UBIQUINONE-8[c]\": 1},\n",
    "    {\"UBIQUINOL-30[c]\" : -1, \"PROTON[c]\" : 2, \"UBIQUINONE-6[c]\": 1},\n",
    "    {\"CPD-9957[c]\" : -1, \"PROTON[c]\" : 2, \"UBIQUINONE-9[c]\" : 1},\n",
    "    {\"CPD-9958[c]\": -1, \"PROTON[c]\" : 2, \"UBIQUINONE-10[c]\": 1},\n",
    "    \n",
    "    {\"WATER[c]\" : -1, \"ACETYL-COA[c]\" : -1, \"PROTON[c]\" : 1, \"ACET[c]\": 1, \"CO-A[c]\": 1},\n",
    "    {\"GLT[c]\" : -1, \"WATER[c]\" : -1, \"2-KETOGLUTARATE[c]\": 1, \"AMMONIUM[c]\": 1, \"PROTON[c]\": 2},\n",
    "    {\"PROTON[p]\" : -1, \"PROTON[c]\": 1}\n",
    "]\n",
    "\n",
    "with warnings.catch_warnings():\n",
    "    warnings.simplefilter(\"ignore\")\n",
    "    for reaction in dissp_reactions:\n",
    "        with model:\n",
    "            # Create and add dissapation reaction\n",
    "            dissp_rxn = Reaction(\"DISSP-RXN\", \"\", \"\", 0, 1000)\n",
    "            dissp_rxn.add_metabolites({\n",
    "                model.metabolites.get_by_id(met) : coeff\n",
    "                for met, coeff in reaction.items()\n",
    "            })\n",
    "            model.add_reactions([dissp_rxn])\n",
    "\n",
    "            # Turn off uptake reactions\n",
    "            for rxn in model.boundary:\n",
    "                rxn.lower_bound = 0\n",
    "                rxn.upper_bound = 0\n",
    "            \n",
    "            # Set dissapation as objective\n",
    "            model.objective = dissp_rxn\n",
    "\n",
    "            # Get check for flux through DISSP-RXN\n",
    "            sol = model.optimize()\n",
    "            print(f\"{dissp_rxn.reaction} ({dissp_rxn.flux})\")\n"
   ]
  },
  {
   "cell_type": "code",
   "execution_count": null,
   "metadata": {},
   "outputs": [
    {
     "data": {
      "text/plain": [
       "{'3-demethylubiquinol-10',\n",
       " '3-demethylubiquinol-6',\n",
       " '3-demethylubiquinol-8',\n",
       " '3-demethylubiquinol-9',\n",
       " 'ubiquinol-10',\n",
       " 'ubiquinol-6',\n",
       " 'ubiquinol-8',\n",
       " 'ubiquinol-9',\n",
       " 'ubiquinone-10',\n",
       " 'ubiquinone-6',\n",
       " 'ubiquinone-8',\n",
       " 'ubiquinone-9'}"
      ]
     },
     "execution_count": 83,
     "metadata": {},
     "output_type": "execute_result"
    }
   ],
   "source": [
    "{met.name for met in model.metabolites if \"ubi\" in met.id.lower() or \"ubi\" in met.name.lower()}"
   ]
  },
  {
   "cell_type": "code",
   "execution_count": null,
   "metadata": {},
   "outputs": [
    {
     "data": {
      "text/plain": [
       "'C59H90O4'"
      ]
     },
     "execution_count": 80,
     "metadata": {},
     "output_type": "execute_result"
    }
   ],
   "source": [
    "model.metabolites.get_by_id(\"UBIQUINONE-10[c]\").formula"
   ]
  },
  {
   "cell_type": "code",
   "execution_count": null,
   "metadata": {},
   "outputs": [
    {
     "data": {
      "text/plain": [
       "2PGADEHYDRAT-RXN                -6.390799\n",
       "GAPOXNPHOSPHN-RXN               -6.145287\n",
       "EX_h2o                          -6.058559\n",
       "PEPDEPHOS-RXN                   -4.533409\n",
       "METHYLENETHFDEHYDROG-NADP-RXN   -4.344466\n",
       "PDH                             -3.915756\n",
       "EX_h                            -3.370573\n",
       "GLCtex                          -3.186638\n",
       "PGLUCISOM-RXN                   -3.186638\n",
       "GLUCOKIN-RXN                    -3.186638\n",
       "Name: fluxes, dtype: float64"
      ]
     },
     "execution_count": 43,
     "metadata": {},
     "output_type": "execute_result"
    }
   ],
   "source": [
    "dissp_h_fluxes[dissp_h_fluxes!=0].sort_values().head(10)"
   ]
  },
  {
   "cell_type": "code",
   "execution_count": null,
   "metadata": {},
   "outputs": [
    {
     "data": {
      "text/html": [
       "\n",
       "        <table>\n",
       "            <tr>\n",
       "                <td><strong>Reaction identifier</strong></td><td>EX_h2o</td>\n",
       "            </tr><tr>\n",
       "                <td><strong>Name</strong></td><td>EX_h2o</td>\n",
       "            </tr><tr>\n",
       "                <td><strong>Memory address</strong></td>\n",
       "                <td>0x7f842303bd60</td>\n",
       "            </tr><tr>\n",
       "                <td><strong>Stoichiometry</strong></td>\n",
       "                <td>\n",
       "                    <p style='text-align:right'>WATER[e] <=></p>\n",
       "                    <p style='text-align:right'>H2O <=></p>\n",
       "                </td>\n",
       "            </tr><tr>\n",
       "                <td><strong>GPR</strong></td><td></td>\n",
       "            </tr><tr>\n",
       "                <td><strong>Lower bound</strong></td><td>-1000.0</td>\n",
       "            </tr><tr>\n",
       "                <td><strong>Upper bound</strong></td><td>1000.0</td>\n",
       "            </tr>\n",
       "        </table>\n",
       "        "
      ],
      "text/plain": [
       "<Reaction EX_h2o at 0x7f842303bd60>"
      ]
     },
     "execution_count": 41,
     "metadata": {},
     "output_type": "execute_result"
    }
   ],
   "source": [
    "model.reactions.get_by_id(\"EX_h2o\")"
   ]
  },
  {
   "cell_type": "code",
   "execution_count": 29,
   "metadata": {},
   "outputs": [],
   "source": [
    "from xml.etree import ElementTree as ET\n",
    "\n",
    "glyc_svg = ET.parse(\"glycolysis.svg\")\n",
    "\n",
    "for node in glyc_svg.iter(\"data-rxn\"):\n",
    "    print(node)"
   ]
  }
 ],
 "metadata": {
  "kernelspec": {
   "display_name": "rpom",
   "language": "python",
   "name": "python3"
  },
  "language_info": {
   "codemirror_mode": {
    "name": "ipython",
    "version": 3
   },
   "file_extension": ".py",
   "mimetype": "text/x-python",
   "name": "python",
   "nbconvert_exporter": "python",
   "pygments_lexer": "ipython3",
   "version": "3.10.4"
  }
 },
 "nbformat": 4,
 "nbformat_minor": 2
}
