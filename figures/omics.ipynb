{
 "cells": [
  {
   "cell_type": "code",
   "execution_count": 1,
   "metadata": {},
   "outputs": [],
   "source": [
    "import sys\n",
    "\n",
    "if \"..\" not in sys.path:\n",
    "    sys.path.append(\"..\")"
   ]
  },
  {
   "cell_type": "code",
   "execution_count": 2,
   "metadata": {},
   "outputs": [],
   "source": [
    "import pickle \n",
    "\n",
    "import pandas as pd\n",
    "import numpy as np\n",
    "import matplotlib\n",
    "import matplotlib.pyplot as plt\n",
    "import networkx as nx\n",
    "import cobra\n",
    "\n",
    "from pprint import pp\n",
    "from molmass import Formula\n",
    "from cobra.io import read_sbml_model\n",
    "from experiments.fast_dFBA import ConstantBounds\n",
    "from utils.cobra_utils import get_or_create_exchange\n",
    "from parameters.drawdown import *\n",
    "from plotting.diagnostic import uptakes_and_secretions, plot_pathway, plot_metabolite_fluxes"
   ]
  },
  {
   "cell_type": "code",
   "execution_count": 3,
   "metadata": {},
   "outputs": [],
   "source": [
    "MODEL_FILE = \"../model/Rpom_05.xml\"\n",
    "BIOMASS_ID = \"Rpom_hwa_biomass\"\n",
    "DATA_FILE = \"../data/clean/CUE2/dFBA.pkl\"\n",
    "\n",
    "\n",
    "# Load and set up model\n",
    "model = read_sbml_model(MODEL_FILE)\n",
    "\n",
    "# Set maintenance to 25 mmol/gDW/h\n",
    "atpm = model.reactions.get_by_id(\"ATPM\")\n",
    "atpm.bounds = (25, 25)\n",
    "\n",
    "ex_glc = model.reactions.get_by_id(\"EX_glc\")\n",
    "ex_ace = get_or_create_exchange(model, \"ACET[e]\")\n",
    "\n",
    "# Load omics data\n",
    "rna_rel = pd.read_csv(\"../data/clean/omics/rna-rel.csv\")\n",
    "rna_abs = pd.read_csv(\"../data/clean/omics/rna-abs.csv\")\n",
    "prot = pd.read_csv(\"../data/clean/omics/prot.csv\")\n",
    "\n",
    "# Convert reaction_ids column to list\n",
    "for sheet in [rna_rel, rna_abs, prot]:\n",
    "    sheet[\"reaction_ids\"] = sheet[\"reaction_ids\"].apply(lambda x: x.split(\", \") if isinstance(x, str) else None)"
   ]
  },
  {
   "cell_type": "code",
   "execution_count": 4,
   "metadata": {},
   "outputs": [
    {
     "name": "stdout",
     "output_type": "stream",
     "text": [
      "Glucose growth: 0.76\n",
      "Acetate growth: 0.20\n"
     ]
    }
   ],
   "source": [
    "# Get fluxes when running on glucose, acetate\n",
    "with model:\n",
    "    ex_glc.bounds = (-10, 0)\n",
    "    sol_glc = model.optimize()\n",
    "    mu_glc = sol_glc.objective_value\n",
    "    model.summary()\n",
    "    print(f\"Glucose growth: {sol_glc.objective_value:.2f}\")\n",
    "\n",
    "with model:\n",
    "    ex_ace.bounds = (-10, 0)\n",
    "    sol_ace = model.optimize()\n",
    "    mu_ace = sol_ace.objective_value\n",
    "    model.summary()\n",
    "    print(f\"Acetate growth: {sol_ace.objective_value:.2f}\")\n",
    "\n",
    "model_fc = ((sol_ace.fluxes) / mu_ace) / ((sol_glc.fluxes) / mu_glc)\n",
    "\n",
    "# Get fold-changes, taking the absolute value as we're interested in the magnitude of flux,\n",
    "# and not necessarily the direction\n",
    "# (Although maybe direction-switching fluxes are interesting?)\n",
    "model_abs_fc = (np.abs(sol_ace.fluxes) / mu_ace) / (np.abs(sol_glc.fluxes) / mu_glc)\n",
    "\n",
    "model_diff = np.abs(sol_ace.fluxes / mu_ace) - np.abs(sol_glc.fluxes / mu_glc)\n"
   ]
  },
  {
   "cell_type": "code",
   "execution_count": null,
   "metadata": {},
   "outputs": [
    {
     "ename": "KeyError",
     "evalue": "'stem'",
     "output_type": "error",
     "traceback": [
      "\u001b[0;31m---------------------------------------------------------------------------\u001b[0m",
      "\u001b[0;31mKeyError\u001b[0m                                  Traceback (most recent call last)",
      "Cell \u001b[0;32mIn[6], line 6\u001b[0m\n\u001b[1;32m      4\u001b[0m rna_max_fc \u001b[38;5;241m=\u001b[39m []  \u001b[38;5;66;03m# ace / glc\u001b[39;00m\n\u001b[1;32m      5\u001b[0m \u001b[38;5;28;01mfor\u001b[39;00m rxnid \u001b[38;5;129;01min\u001b[39;00m sol_glc\u001b[38;5;241m.\u001b[39mfluxes\u001b[38;5;241m.\u001b[39mindex:\n\u001b[0;32m----> 6\u001b[0m     stem \u001b[38;5;241m=\u001b[39m \u001b[43mmodel\u001b[49m\u001b[38;5;241;43m.\u001b[39;49m\u001b[43mreactions\u001b[49m\u001b[38;5;241;43m.\u001b[39;49m\u001b[43mget_by_id\u001b[49m\u001b[43m(\u001b[49m\u001b[43mrxnid\u001b[49m\u001b[43m)\u001b[49m\u001b[38;5;241;43m.\u001b[39;49m\u001b[43mannotation\u001b[49m\u001b[43m[\u001b[49m\u001b[38;5;124;43m\"\u001b[39;49m\u001b[38;5;124;43mstem\u001b[39;49m\u001b[38;5;124;43m\"\u001b[39;49m\u001b[43m]\u001b[49m\n\u001b[1;32m      8\u001b[0m     matching \u001b[38;5;241m=\u001b[39m [stem \u001b[38;5;129;01min\u001b[39;00m ids \u001b[38;5;28;01mif\u001b[39;00m \u001b[38;5;28misinstance\u001b[39m(ids, \u001b[38;5;28mlist\u001b[39m) \u001b[38;5;28;01melse\u001b[39;00m \u001b[38;5;28;01mFalse\u001b[39;00m \u001b[38;5;28;01mfor\u001b[39;00m ids \u001b[38;5;129;01min\u001b[39;00m rna_abs[\u001b[38;5;124m\"\u001b[39m\u001b[38;5;124mreaction_ids\u001b[39m\u001b[38;5;124m\"\u001b[39m]]\n\u001b[1;32m      9\u001b[0m     \u001b[38;5;28;01mif\u001b[39;00m \u001b[38;5;28msum\u001b[39m(matching) \u001b[38;5;241m==\u001b[39m \u001b[38;5;241m0\u001b[39m:\n",
      "\u001b[0;31mKeyError\u001b[0m: 'stem'"
     ]
    }
   ],
   "source": [
    "# For each reaction in the flux vectors, get the max of the corresponding RNA levels\n",
    "\n",
    "rna_max = []\n",
    "rna_max_fc = []  # ace / glc\n",
    "for rxnid in sol_glc.fluxes.index:\n",
    "    stem = model.reactions.get_by_id(rxnid).notes[\"stem\"]\n",
    "\n",
    "    matching = [stem in ids if isinstance(ids, list) else False for ids in rna_abs[\"reaction_ids\"]]\n",
    "    if sum(matching) == 0:\n",
    "        rna_max.append(None)\n",
    "        rna_max_fc.append(None)\n",
    "    else:\n",
    "        rna_max.append(rna_abs[matching][\"DSS3_glc_mean_abund\"].max())\n",
    "        rna_max_fc.append(rna_abs[matching][\"DSS3_ac_mean_abund\"].max() / rna_abs[matching][\"DSS3_glc_mean_abund\"].max())"
   ]
  },
  {
   "cell_type": "code",
   "execution_count": null,
   "metadata": {},
   "outputs": [
    {
     "data": {
      "text/plain": [
       "Traceback (most recent call last):\n",
       "  File \"/home/mica/.vscode-server/extensions/ms-python.python-2025.2.0-linux-x64/python_files/python_server.py\", line 133, in exec_user_input\n",
       "    retval = callable_(user_input, user_globals)\n",
       "             ^^^^^^^^^^^^^^^^^^^^^^^^^^^^^^^^^^^\n",
       "  File \"<string>\", line 10, in <module>\n",
       "NameError: name 'sol_glc' is not defined\n",
       "\n"
      ]
     },
     "metadata": {},
     "output_type": "display_data"
    }
   ],
   "source": [
    "import plotly.express as px\n",
    "\n",
    "df = pd.DataFrame(\n",
    "    [\n",
    "        {\n",
    "            \"Reaction ID\": rxnid,\n",
    "            \"Model flux\": abs(flux),\n",
    "            \"RNA\": rna\n",
    "        }\n",
    "        for (rxnid, flux), rna in zip(sol_glc.fluxes.items(), rna_max)\n",
    "    ])\n",
    "\n",
    "fig = px.scatter(\n",
    "    df, x=\"Model flux\", y=\"RNA\",\n",
    "    hover_data='Reaction ID',\n",
    "    # log_x=True,\n",
    "    # log_y=True\n",
    ")\n",
    "fig.show()"
   ]
  },
  {
   "cell_type": "code",
   "execution_count": null,
   "metadata": {},
   "outputs": [
    {
     "data": {
      "text/plain": [
       "Traceback (most recent call last):\n",
       "  File \"/home/mica/.vscode-server/extensions/ms-python.python-2025.2.0-linux-x64/python_files/python_server.py\", line 133, in exec_user_input\n",
       "    retval = callable_(user_input, user_globals)\n",
       "             ^^^^^^^^^^^^^^^^^^^^^^^^^^^^^^^^^^^\n",
       "  File \"<string>\", line 10, in <module>\n",
       "NameError: name 'model_abs_fc' is not defined\n",
       "\n"
      ]
     },
     "metadata": {},
     "output_type": "display_data"
    }
   ],
   "source": [
    "import plotly.express as px\n",
    "\n",
    "df = pd.DataFrame(\n",
    "    [\n",
    "        {\n",
    "            \"Reaction ID\": rxnid,\n",
    "            \"Model fold-change (ace/glc)\": fc,\n",
    "            \"RNA fold-change (ace/glc)\": rna_fc\n",
    "        }\n",
    "        for (rxnid, fc), rna_fc in zip(model_abs_fc.items(), rna_max_fc)\n",
    "        if (not np.isnan(fc)\n",
    "            and not np.isinf(fc)\n",
    "            and rna_fc is not None\n",
    "            and not np.isnan(rna_fc)\n",
    "            and not np.isinf(rna_fc))\n",
    "    ])\n",
    "\n",
    "fig = px.scatter(\n",
    "    df, x=\"Model fold-change (ace/glc)\", y=\"RNA fold-change (ace/glc)\",\n",
    "    hover_data='Reaction ID',\n",
    "    # log_x=True,\n",
    "    # log_y=True\n",
    ")\n",
    "fig.show()\n",
    "\n",
    "fig.write_html(\"transcriptome_vs_flux.html\")"
   ]
  },
  {
   "cell_type": "code",
   "execution_count": null,
   "metadata": {},
   "outputs": [
    {
     "data": {
      "text/plain": [
       "Traceback (most recent call last):\n",
       "  File \"/home/mica/.vscode-server/extensions/ms-python.python-2025.2.0-linux-x64/python_files/python_server.py\", line 133, in exec_user_input\n",
       "    retval = callable_(user_input, user_globals)\n",
       "             ^^^^^^^^^^^^^^^^^^^^^^^^^^^^^^^^^^^\n",
       "  File \"<string>\", line 1, in <module>\n",
       "NameError: name 'model' is not defined\n",
       "\n"
      ]
     },
     "metadata": {},
     "output_type": "display_data"
    }
   ],
   "source": [
    "model.reactions.get_by_id(\"RXN-8957\")"
   ]
  },
  {
   "cell_type": "code",
   "execution_count": null,
   "metadata": {},
   "outputs": [
    {
     "data": {
      "text/plain": [
       "Traceback (most recent call last):\n",
       "  File \"/home/mica/.vscode-server/extensions/ms-python.python-2025.2.0-linux-x64/python_files/python_server.py\", line 133, in exec_user_input\n",
       "    retval = callable_(user_input, user_globals)\n",
       "             ^^^^^^^^^^^^^^^^^^^^^^^^^^^^^^^^^^^\n",
       "  File \"<string>\", line 1, in <module>\n",
       "NameError: name 'model' is not defined\n",
       "\n"
      ]
     },
     "metadata": {},
     "output_type": "display_data"
    }
   ],
   "source": [
    "model.reactions.get_by_id(\"ACETATE--COA-LIGASE-RXN\")"
   ]
  },
  {
   "cell_type": "code",
   "execution_count": null,
   "metadata": {},
   "outputs": [],
   "source": [
    "# acs is always kept online?\n",
    "# RXN-8957 is ethylmalonyl-CoA pathway, specifically crotonyl-CoA + CO2 + NADPH -> (2S)-ethylmalonyl-CoA + NADP\n",
    "    # (Major NADP generating step according to FBA)"
   ]
  },
  {
   "cell_type": "code",
   "execution_count": null,
   "metadata": {},
   "outputs": [
    {
     "data": {
      "text/plain": [
       "Traceback (most recent call last):\n",
       "  File \"/home/mica/.vscode-server/extensions/ms-python.python-2025.2.0-linux-x64/python_files/python_server.py\", line 133, in exec_user_input\n",
       "    retval = callable_(user_input, user_globals)\n",
       "             ^^^^^^^^^^^^^^^^^^^^^^^^^^^^^^^^^^^\n",
       "  File \"<string>\", line 2, in <module>\n",
       "NameError: name 'model' is not defined\n",
       "\n"
      ]
     },
     "metadata": {},
     "output_type": "display_data"
    }
   ],
   "source": [
    "# Get all reactions (stems) in the ethylmalonyl-CoA pathway\n",
    "ethCoA_rxns = set([rxn.notes[\"stem\"] for rxn in model.reactions if \"PWY-5741\" in rxn.notes.get(\"pathways\", [])])"
   ]
  },
  {
   "cell_type": "code",
   "execution_count": null,
   "metadata": {},
   "outputs": [
    {
     "data": {
      "text/plain": [
       "Traceback (most recent call last):\n",
       "  File \"/home/mica/.vscode-server/extensions/ms-python.python-2025.2.0-linux-x64/python_files/python_server.py\", line 133, in exec_user_input\n",
       "    retval = callable_(user_input, user_globals)\n",
       "             ^^^^^^^^^^^^^^^^^^^^^^^^^^^^^^^^^^^\n",
       "  File \"<string>\", line 1, in <module>\n",
       "NameError: name 'df' is not defined\n",
       "\n"
      ]
     },
     "metadata": {},
     "output_type": "display_data"
    }
   ],
   "source": [
    "sorted_model_log_fc = df.sort_values(\"Model fold-change (ace/glc)\", ascending=True).dropna()\n",
    "sorted_data_log_fc = df.sort_values(\"RNA fold-change (ace/glc)\", ascending=True).dropna()\n",
    "\n",
    "# Drop zeros to avoid bad logs\n",
    "sorted_model_log_fc = sorted_model_log_fc[sorted_model_log_fc[\"Model fold-change (ace/glc)\"] != 0]\n",
    "sorted_data_log_fc = sorted_data_log_fc[sorted_data_log_fc[\"RNA fold-change (ace/glc)\"] != 0]\n",
    "\n",
    "# Take logs\n",
    "sorted_model_log_fc[\"Model fold-change (ace/glc)\"] = np.log(sorted_model_log_fc[\"Model fold-change (ace/glc)\"])\n",
    "sorted_data_log_fc[\"RNA fold-change (ace/glc)\"] = np.log(sorted_data_log_fc[\"RNA fold-change (ace/glc)\"])\n",
    "\n",
    "fig, axs = plt.subplots(2, 1)\n",
    "\n",
    "N = 20\n",
    "GAP_SIZE = 10\n",
    "\n",
    "colors = [str(c) for c in np.linspace(0.7, 1, N)]\n",
    "for i, rxn in enumerate(sorted_model_log_fc[\"Reaction ID\"].head(N)):\n",
    "    if rxn in ethCoA_rxns:\n",
    "        colors[i] = \"tab:blue\"\n",
    "axs[0].bar(np.arange(N),\n",
    "           sorted_model_log_fc[\"Model fold-change (ace/glc)\"].head(N),\n",
    "           color = colors,\n",
    "           edgecolor=[str(c) for c in np.linspace(0.5, 0.8, N)])\n",
    "\n",
    "colors = [str(c) for c in np.linspace(1, 0.7, N)]\n",
    "for i, rxn in enumerate(sorted_model_log_fc[\"Reaction ID\"].tail(N)):\n",
    "    if rxn in ethCoA_rxns:\n",
    "        colors[i] = \"tab:blue\"\n",
    "axs[0].bar(np.arange(N + GAP_SIZE, GAP_SIZE + 2 * N),\n",
    "           sorted_model_log_fc[\"Model fold-change (ace/glc)\"].tail(N),\n",
    "           color = colors,\n",
    "           edgecolor=[str(c) for c in np.linspace(0.8, 0.5, N)])\n",
    "\n",
    "colors = [str(c) for c in np.linspace(0.7, 1, N)]\n",
    "for i, rxn in enumerate(sorted_data_log_fc[\"Reaction ID\"].head(N)):\n",
    "    if rxn in ethCoA_rxns:\n",
    "        colors[i] = \"tab:blue\"\n",
    "axs[1].bar(np.arange(N),\n",
    "           sorted_data_log_fc[\"RNA fold-change (ace/glc)\"].head(N),\n",
    "           color=[\n",
    "               \"tab:blue\" if rxn in ethCoA_rxns else str(np.linspace(0.7, 1, N)[i])\n",
    "               for i, rxn in enumerate(sorted_data_log_fc[\"Reaction ID\"].head(N))\n",
    "           ],\n",
    "           edgecolor=[str(c) for c in np.linspace(0.5, 0.8, N)])\n",
    "\n",
    "colors = [str(c) for c in np.linspace(1, 0.7, N)]\n",
    "for i, rxn in enumerate(sorted_data_log_fc[\"Reaction ID\"].tail(N)):\n",
    "    if rxn in ethCoA_rxns:\n",
    "        colors[i] = \"tab:blue\"\n",
    "axs[1].bar(np.arange(N + GAP_SIZE, GAP_SIZE + 2 * N),\n",
    "           sorted_data_log_fc[\"RNA fold-change (ace/glc)\"].tail(N),\n",
    "           color=[\n",
    "               \"tab:blue\" if rxn in ethCoA_rxns else str(np.linspace(1, 0.7, N)[i])\n",
    "               for i, rxn in enumerate(sorted_data_log_fc[\"Reaction ID\"].tail(N))\n",
    "           ],\n",
    "           edgecolor=[str(c) for c in np.linspace(0.8, 0.5, N)])\n",
    "\n",
    "# Baselines\n",
    "axs[0].hlines(0, -1, 2*N + GAP_SIZE, color=\"0.2\", linewidth=1)\n",
    "axs[1].hlines(0, -1, 2*N + GAP_SIZE, color=\"0.2\", linewidth=1)\n",
    "\n",
    "# Hide spines, x ticks\n",
    "for ax in axs:\n",
    "    ax.spines.right.set_visible(False)\n",
    "    ax.spines.top.set_visible(False)\n",
    "    ax.spines.bottom.set_visible(False)\n",
    "    ax.set_xticks([])\n",
    "\n",
    "# ax.set_xlim(0, 3 * N + 1)\n",
    "# ax.set_ylim(sorted_model_log_fc[\"Model fold-change (ace/glc)\"].min(),\n",
    "            # sorted_model_log_fc[\"Model fold-change (ace/glc)\"].max())\n",
    "\n",
    "axs[0].text(N, 0, \"Model\", ha=\"center\", va=\"bottom\", color=\"0.2\")\n",
    "axs[1].text(N + 5, 0, \"Data\", ha=\"center\", va=\"bottom\", color=\"0.2\")\n",
    "\n",
    "axs[0].set_ylabel(\"Log FC (ace/glc)\")\n",
    "axs[1].set_ylabel(\"Log FC (ace/glc)\")\n",
    "\n",
    "fig.subplots_adjust(hspace=0.1)\n",
    "fig.tight_layout()\n",
    "fig.set_size_inches(8, 4)"
   ]
  },
  {
   "cell_type": "code",
   "execution_count": null,
   "metadata": {},
   "outputs": [
    {
     "data": {
      "text/plain": [
       "Traceback (most recent call last):\n",
       "  File \"/home/mica/.vscode-server/extensions/ms-python.python-2025.2.0-linux-x64/python_files/python_server.py\", line 133, in exec_user_input\n",
       "    retval = callable_(user_input, user_globals)\n",
       "             ^^^^^^^^^^^^^^^^^^^^^^^^^^^^^^^^^^^\n",
       "  File \"<string>\", line 1, in <module>\n",
       "NameError: name 'sorted_model_log_fc' is not defined\n",
       "\n"
      ]
     },
     "metadata": {},
     "output_type": "display_data"
    }
   ],
   "source": [
    "sorted_model_log_fc.head(20)"
   ]
  },
  {
   "cell_type": "code",
   "execution_count": null,
   "metadata": {},
   "outputs": [
    {
     "data": {
      "text/plain": [
       "Traceback (most recent call last):\n",
       "  File \"/home/mica/.vscode-server/extensions/ms-python.python-2025.2.0-linux-x64/python_files/python_server.py\", line 133, in exec_user_input\n",
       "    retval = callable_(user_input, user_globals)\n",
       "             ^^^^^^^^^^^^^^^^^^^^^^^^^^^^^^^^^^^\n",
       "  File \"<string>\", line 1, in <module>\n",
       "NameError: name 'sorted_data_log_fc' is not defined\n",
       "\n"
      ]
     },
     "metadata": {},
     "output_type": "display_data"
    }
   ],
   "source": [
    "sorted_data_log_fc.head(20)"
   ]
  },
  {
   "cell_type": "code",
   "execution_count": null,
   "metadata": {},
   "outputs": [
    {
     "data": {
      "text/plain": [
       "Traceback (most recent call last):\n",
       "  File \"/home/mica/.vscode-server/extensions/ms-python.python-2025.2.0-linux-x64/python_files/python_server.py\", line 133, in exec_user_input\n",
       "    retval = callable_(user_input, user_globals)\n",
       "             ^^^^^^^^^^^^^^^^^^^^^^^^^^^^^^^^^^^\n",
       "  File \"<string>\", line 1, in <module>\n",
       "NameError: name 'sorted_model_log_fc' is not defined\n",
       "\n"
      ]
     },
     "metadata": {},
     "output_type": "display_data"
    }
   ],
   "source": [
    "sorted_model_log_fc[\"Model fold-change (ace/glc)\"].head(N)"
   ]
  },
  {
   "cell_type": "code",
   "execution_count": null,
   "metadata": {},
   "outputs": [
    {
     "data": {
      "text/plain": [
       "Traceback (most recent call last):\n",
       "  File \"/home/mica/.vscode-server/extensions/ms-python.python-2025.2.0-linux-x64/python_files/python_server.py\", line 133, in exec_user_input\n",
       "    retval = callable_(user_input, user_globals)\n",
       "             ^^^^^^^^^^^^^^^^^^^^^^^^^^^^^^^^^^^\n",
       "  File \"<string>\", line 1, in <module>\n",
       "NameError: name 'df' is not defined\n",
       "\n"
      ]
     },
     "metadata": {},
     "output_type": "display_data"
    }
   ],
   "source": [
    "df.sort_values(\"Model fold-change (ace/glc)\", ascending=True).dropna()"
   ]
  },
  {
   "cell_type": "code",
   "execution_count": null,
   "metadata": {},
   "outputs": [
    {
     "data": {
      "text/plain": [
       "Traceback (most recent call last):\n",
       "  File \"/home/mica/.vscode-server/extensions/ms-python.python-2025.2.0-linux-x64/python_files/python_server.py\", line 133, in exec_user_input\n",
       "    retval = callable_(user_input, user_globals)\n",
       "             ^^^^^^^^^^^^^^^^^^^^^^^^^^^^^^^^^^^\n",
       "  File \"<string>\", line 1, in <module>\n",
       "NameError: name 'rna_abs' is not defined\n",
       "\n"
      ]
     },
     "metadata": {},
     "output_type": "display_data"
    }
   ],
   "source": [
    "rna_abs.iloc[:, 7:]"
   ]
  }
 ],
 "metadata": {
  "kernelspec": {
   "display_name": "rpom",
   "language": "python",
   "name": "python3"
  },
  "language_info": {
   "codemirror_mode": {
    "name": "ipython",
    "version": 3
   },
   "file_extension": ".py",
   "mimetype": "text/x-python",
   "name": "python",
   "nbconvert_exporter": "python",
   "pygments_lexer": "ipython3",
   "version": "3.12.1"
  }
 },
 "nbformat": 4,
 "nbformat_minor": 2
}
